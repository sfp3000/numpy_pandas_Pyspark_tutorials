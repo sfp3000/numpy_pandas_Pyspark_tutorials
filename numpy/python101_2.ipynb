{
 "cells": [
  {
   "cell_type": "markdown",
   "id": "f5359525-683a-498d-bbba-7668789bed73",
   "metadata": {},
   "source": [
    "# Section 07 03 concatenation"
   ]
  },
  {
   "cell_type": "markdown",
   "id": "a6366a93-72d5-4fd5-b380-7c86882ab9f2",
   "metadata": {},
   "source": [
    "#### Basic Concatenation(np.concatenate)"
   ]
  },
  {
   "cell_type": "code",
   "execution_count": 1,
   "id": "d94f7223-8a87-4122-a20a-d83f8f1cbec3",
   "metadata": {},
   "outputs": [],
   "source": [
    "#1.1 Joining 1D Arrays"
   ]
  },
  {
   "cell_type": "code",
   "execution_count": 2,
   "id": "528c7494-081d-4a82-99dd-91762ce14cc6",
   "metadata": {},
   "outputs": [],
   "source": [
    "import numpy as np"
   ]
  },
  {
   "cell_type": "code",
   "execution_count": 5,
   "id": "01417e17-152c-471a-a4d0-e22130f0ae19",
   "metadata": {},
   "outputs": [
    {
     "name": "stdout",
     "output_type": "stream",
     "text": [
      "[1 2 3 4 5 6]\n"
     ]
    }
   ],
   "source": [
    "a = np.array([1,2,3])\n",
    "b = np.array([4,5,6])\n",
    "#join as is:\n",
    "result = np.concatenate((a,b))\n",
    "print(result)"
   ]
  },
  {
   "cell_type": "code",
   "execution_count": 7,
   "id": "7199a954-a5a9-435d-a8ad-2f01e7a6ca3b",
   "metadata": {},
   "outputs": [
    {
     "name": "stdout",
     "output_type": "stream",
     "text": [
      "[1 2 3 4 5 6]\n"
     ]
    }
   ],
   "source": [
    "res = np.concatenate((a,b), axis=0)\n",
    "print(result)\n"
   ]
  },
  {
   "cell_type": "code",
   "execution_count": 9,
   "id": "da1b57d9-7d09-4c8c-ae68-4c9206e2c292",
   "metadata": {},
   "outputs": [
    {
     "data": {
      "text/plain": [
       "(6,)"
      ]
     },
     "execution_count": 9,
     "metadata": {},
     "output_type": "execute_result"
    }
   ],
   "source": [
    "res.shape\n"
   ]
  },
  {
   "cell_type": "code",
   "execution_count": 12,
   "id": "1fb65d6d-6a0d-41f0-841a-85befb6a3248",
   "metadata": {},
   "outputs": [
    {
     "name": "stdout",
     "output_type": "stream",
     "text": [
      "[[1 2]\n",
      " [3 4]\n",
      " [5 6]]\n"
     ]
    }
   ],
   "source": [
    "#Joining 2D arrays\n",
    "arr1 = np.array([[1,2], [3,4]])\n",
    "arr2 = np.array([[5,6]])\n",
    "#Vertical stacking (axis=0)\n",
    "v_stack = np.concatenate((arr1, arr2), axis=0)\n",
    "print(v_stack)\n",
    "#similar to inserting a row in a table"
   ]
  },
  {
   "cell_type": "code",
   "execution_count": 14,
   "id": "9d017430-685f-40ad-a3da-b09b199f17ee",
   "metadata": {},
   "outputs": [
    {
     "name": "stdout",
     "output_type": "stream",
     "text": [
      "[[1 2]\n",
      " [3 4]]\n"
     ]
    }
   ],
   "source": [
    "print(arr1)"
   ]
  },
  {
   "cell_type": "code",
   "execution_count": 15,
   "id": "2d4bcf06-ef21-42ec-a73b-50c900783deb",
   "metadata": {},
   "outputs": [
    {
     "name": "stdout",
     "output_type": "stream",
     "text": [
      "[[5 6]]\n"
     ]
    }
   ],
   "source": [
    "print(arr2)"
   ]
  },
  {
   "cell_type": "code",
   "execution_count": 16,
   "id": "8c1116ea-824d-4485-afde-b87d3fe2c84b",
   "metadata": {},
   "outputs": [
    {
     "name": "stdout",
     "output_type": "stream",
     "text": [
      "[[1 2]\n",
      " [3 4]\n",
      " [5 6]]\n"
     ]
    }
   ],
   "source": [
    "print(v_stack)"
   ]
  },
  {
   "cell_type": "code",
   "execution_count": 18,
   "id": "cc2781a8-96de-486b-9fd5-d0b8143b138c",
   "metadata": {},
   "outputs": [
    {
     "name": "stdout",
     "output_type": "stream",
     "text": [
      "[[1 2 7]\n",
      " [3 4 8]]\n"
     ]
    }
   ],
   "source": [
    "#Horizontal stacking (axis=1)\n",
    "arr3 = np.array([[7], [8]])\n",
    "h_stack = np.concatenate((arr1, arr3), axis=1)\n",
    "print(h_stack)"
   ]
  },
  {
   "cell_type": "code",
   "execution_count": 20,
   "id": "1fb636ef-6163-44db-a3e1-166c85f134b2",
   "metadata": {},
   "outputs": [
    {
     "name": "stdout",
     "output_type": "stream",
     "text": [
      "[[1 2]\n",
      " [3 4]]\n"
     ]
    }
   ],
   "source": [
    "print(arr1)"
   ]
  },
  {
   "cell_type": "code",
   "execution_count": 21,
   "id": "9547fd96-4283-4e1b-afb4-2e6bcc57c37f",
   "metadata": {},
   "outputs": [
    {
     "name": "stdout",
     "output_type": "stream",
     "text": [
      "[[ 1  2  7  9 10]\n",
      " [ 3  4  8 10 10]]\n"
     ]
    }
   ],
   "source": [
    "#Horizontal stacking (axis=1)\n",
    "arr3 = np.array([[7,9,10], [8,10,10]])\n",
    "h_stack = np.concatenate((arr1, arr3), axis=1)\n",
    "print(h_stack)"
   ]
  },
  {
   "cell_type": "markdown",
   "id": "2c449e0d-1b52-49bb-881c-fa02882b3cf9",
   "metadata": {},
   "source": [
    "### Convenience Functions"
   ]
  },
  {
   "cell_type": "code",
   "execution_count": 22,
   "id": "6438f5a4-eab2-4086-a275-e1a5040c7796",
   "metadata": {},
   "outputs": [],
   "source": [
    "#Vstsack"
   ]
  },
  {
   "cell_type": "code",
   "execution_count": 23,
   "id": "f30cb2c2-0995-4c88-9ff4-f234f00fe974",
   "metadata": {},
   "outputs": [
    {
     "name": "stdout",
     "output_type": "stream",
     "text": [
      "[[1 2 3]\n",
      " [4 5 6]]\n"
     ]
    }
   ],
   "source": [
    "a = np.array([1,2,3])\n",
    "b = np.array([4,5,6])\n",
    "\n",
    "#Convert 1D to 2D and stack Vertically\n",
    "result = np.vstack((a,b))\n",
    "print(result)"
   ]
  },
  {
   "cell_type": "code",
   "execution_count": 24,
   "id": "2c6bd3b0-baf3-44ce-b777-208158c74d33",
   "metadata": {},
   "outputs": [],
   "source": [
    "#hstack"
   ]
  },
  {
   "cell_type": "code",
   "execution_count": 25,
   "id": "ac641888-e759-4641-855e-9cd4126d44a5",
   "metadata": {},
   "outputs": [
    {
     "name": "stdout",
     "output_type": "stream",
     "text": [
      "[[1 3]\n",
      " [2 4]]\n"
     ]
    }
   ],
   "source": [
    "a = np.array([[1],[2]])\n",
    "b = np.array([[3], [4]])\n",
    "\n",
    "#stack horizontally\n",
    "result = np.hstack((a, b))\n",
    "print(result)"
   ]
  },
  {
   "cell_type": "code",
   "execution_count": 26,
   "id": "3896c368-bf2c-49ff-a1a1-6b1cc1339e46",
   "metadata": {},
   "outputs": [],
   "source": [
    "# Depth-wise stacking (dstack)\n",
    "a = np.array([[1,2], [3,4]])\n",
    "b = np.array([[5,6], [7,8]])"
   ]
  },
  {
   "cell_type": "code",
   "execution_count": 27,
   "id": "9d73a3f0-ffd3-4019-91f8-036cded575c2",
   "metadata": {},
   "outputs": [
    {
     "name": "stdout",
     "output_type": "stream",
     "text": [
      "[[[1 5]\n",
      "  [2 6]]\n",
      "\n",
      " [[3 7]\n",
      "  [4 8]]]\n"
     ]
    }
   ],
   "source": [
    "#stack along third dimension\n",
    "result = np.dstack((a,b))\n",
    "print(result)"
   ]
  },
  {
   "cell_type": "code",
   "execution_count": 28,
   "id": "c1119aa9-f245-4e0e-a85d-e0d62b64cd09",
   "metadata": {},
   "outputs": [],
   "source": [
    "#Advanced Stacking np.stack"
   ]
  },
  {
   "cell_type": "code",
   "execution_count": 29,
   "id": "bc78b6c6-8cae-404f-8df3-bf839e1e1e72",
   "metadata": {},
   "outputs": [],
   "source": [
    "a = np.array([1,2,3])\n",
    "b = np.array([4,5,6])\n",
    "#stack along a new axis (default is axis=0)\n",
    "result = np.stack((a, b))"
   ]
  },
  {
   "cell_type": "code",
   "execution_count": 30,
   "id": "88cba5b4-54d7-41fe-8e37-506d7e3c9dde",
   "metadata": {},
   "outputs": [
    {
     "name": "stdout",
     "output_type": "stream",
     "text": [
      "[[1 2 3]\n",
      " [4 5 6]]\n"
     ]
    }
   ],
   "source": [
    "print(result)"
   ]
  },
  {
   "cell_type": "code",
   "execution_count": 31,
   "id": "789b8473-6c7f-42f8-8842-9628b4918adb",
   "metadata": {},
   "outputs": [
    {
     "name": "stdout",
     "output_type": "stream",
     "text": [
      "[[1 4]\n",
      " [2 5]\n",
      " [3 6]]\n"
     ]
    }
   ],
   "source": [
    "#Stack along second axis\n",
    "result = np.stack((a, b), axis=1)\n",
    "print(result)"
   ]
  },
  {
   "cell_type": "code",
   "execution_count": 32,
   "id": "6e4e5f50-adcc-43b5-9991-07680e17e424",
   "metadata": {},
   "outputs": [
    {
     "name": "stdout",
     "output_type": "stream",
     "text": [
      "[[[1 5]\n",
      "  [2 6]]\n",
      "\n",
      " [[3 7]\n",
      "  [4 8]]]\n"
     ]
    }
   ],
   "source": [
    "#Stack along 3rd d\n",
    "a = np.array([[1,2], [3,4]])\n",
    "b = np.array([[5,6], [7,8]])\n",
    "result = np.stack((a, b), axis=2)\n",
    "print(result)"
   ]
  },
  {
   "cell_type": "markdown",
   "id": "e7544b25-8207-4907-8d06-263a8f52ea13",
   "metadata": {},
   "source": [
    "### Machine learning use"
   ]
  },
  {
   "cell_type": "code",
   "execution_count": 34,
   "id": "14024619-0f1a-4a8d-b3ef-995a59d7c94d",
   "metadata": {},
   "outputs": [
    {
     "name": "stdout",
     "output_type": "stream",
     "text": [
      "(22, 8)\n"
     ]
    }
   ],
   "source": [
    "features1 = np.random.rand(22, 5)  # First set of features\n",
    "features2 = np.random.rand(22, 3)  # Second set\n",
    "\n",
    "# Combine features horizontally\n",
    "X = np.hstack((features1, features2))\n",
    "print(X.shape)  # (100, 8)"
   ]
  },
  {
   "cell_type": "code",
   "execution_count": 36,
   "id": "8dadbfda-ce79-47bf-bf21-3b81f5f6de65",
   "metadata": {},
   "outputs": [
    {
     "name": "stdout",
     "output_type": "stream",
     "text": [
      "(10, 3)\n"
     ]
    }
   ],
   "source": [
    "#Time Series Data\n",
    "time_points = np.arange(10)\n",
    "sensor1 = np.random.rand(10)\n",
    "sensor2 = np.random.rand(10)\n",
    "\n",
    "# Create multivariate time series\n",
    "time_series = np.column_stack((time_points, sensor1, sensor2))\n",
    "print(time_series.shape)  # (10, 3)"
   ]
  },
  {
   "cell_type": "raw",
   "id": "0ba113cb-3558-4e83-8c29-ddcd60631e72",
   "metadata": {},
   "source": [
    "5. Performance Considerations\n",
    "Method\tUse Case\tMemory Efficiency\tSpeed\n",
    "concatenate\tGeneral purpose\tHigh\tFast\n",
    "vstack/hstack\tSimplified syntax\tMedium\tFast\n",
    "stack\tCreating new dimensions\tLow\tSlower\n",
    "dstack\tDepth-wise stacking\tMedium\tFast"
   ]
  },
  {
   "cell_type": "markdown",
   "id": "04307b8f-dc28-4aa6-97b4-1d3e9a4f5bdd",
   "metadata": {},
   "source": [
    "# Section 07 04 "
   ]
  },
  {
   "cell_type": "code",
   "execution_count": 39,
   "id": "a2421c0b-311b-47ee-8ca0-9f3b46e16304",
   "metadata": {},
   "outputs": [
    {
     "name": "stdout",
     "output_type": "stream",
     "text": [
      "arr :  [0 1 2 3 4 5 6 7 8 9]\n",
      "[array([0, 1, 2, 3, 4]), array([5, 6, 7, 8, 9])]\n",
      "[0 1 2 3 4]\n"
     ]
    }
   ],
   "source": [
    "# Basic Splitting\n",
    "import numpy as np\n",
    "arr = np.arange(10)\n",
    "print(\"arr : \", arr)\n",
    "\n",
    "#split in two\n",
    "result = np.split(arr, 2)\n",
    "print(result)\n",
    "result1 = result[0]\n",
    "print(result1)"
   ]
  },
  {
   "cell_type": "code",
   "execution_count": 40,
   "id": "440c9304-581b-41f2-b539-c9b08962ab26",
   "metadata": {},
   "outputs": [
    {
     "name": "stdout",
     "output_type": "stream",
     "text": [
      "[0 1 2]\n",
      "[3 4 5 6]\n",
      "[7 8 9]\n"
     ]
    }
   ],
   "source": [
    "# unequal division\n",
    "#splitting at specific indices\n",
    "arr = np.arange(10) \n",
    "result = np.split(arr, [3,7]) #split after index 3 and 7\n",
    "for i in result:\n",
    "    print(i)"
   ]
  },
  {
   "cell_type": "code",
   "execution_count": 42,
   "id": "a304bdcb-ee66-45dc-88d3-d9d986cf4cb1",
   "metadata": {},
   "outputs": [
    {
     "name": "stdout",
     "output_type": "stream",
     "text": [
      "[[1 2 3]]\n",
      "[[4 5 6]]\n",
      "[[7 8 9]]\n"
     ]
    }
   ],
   "source": [
    "# 2D array splitting (Advanced)\n",
    "arr_2d = np.array([[1,2,3], [4,5,6], [7,8,9]])\n",
    "# Split vertically (rows)\n",
    "result = np.split(arr_2d, 3, axis=0)\n",
    "for i in result:\n",
    "    print(i)"
   ]
  },
  {
   "cell_type": "code",
   "execution_count": 44,
   "id": "e1dff9a3-0d33-485d-b342-34cf440ba6c4",
   "metadata": {},
   "outputs": [
    {
     "name": "stdout",
     "output_type": "stream",
     "text": [
      "[[1]\n",
      " [4]\n",
      " [7]]\n",
      "[[2]\n",
      " [5]\n",
      " [8]]\n",
      "[[3]\n",
      " [6]\n",
      " [9]]\n"
     ]
    }
   ],
   "source": [
    "#Split horizontally (column)\n",
    "result = np.split(arr_2d, 3, axis=1)\n",
    "for i in result:\n",
    "    print(i)"
   ]
  },
  {
   "cell_type": "code",
   "execution_count": 45,
   "id": "4bbe9346-7e96-486f-a696-132182988714",
   "metadata": {},
   "outputs": [
    {
     "name": "stdout",
     "output_type": "stream",
     "text": [
      "[array([[1, 2],\n",
      "       [5, 6]]), array([[3, 4],\n",
      "       [7, 8]])]\n"
     ]
    }
   ],
   "source": [
    "#Convenience functions\n",
    "# hsplit Horizontal splitting \n",
    "arr = np.array([[1,2,3,4], [5,6,7,8]])\n",
    "\n",
    "#split into 2 equal columns\n",
    "result = np.hsplit(arr, 2)\n",
    "print(result)"
   ]
  },
  {
   "cell_type": "code",
   "execution_count": 46,
   "id": "78b42561-461c-4ff6-a386-b04faaff7cf4",
   "metadata": {},
   "outputs": [
    {
     "name": "stdout",
     "output_type": "stream",
     "text": [
      "[[1]\n",
      " [5]]\n",
      "[[2 3]\n",
      " [6 7]]\n",
      "[[4]\n",
      " [8]]\n"
     ]
    }
   ],
   "source": [
    "#Split at specific indices\n",
    "result = np.hsplit(arr, [1,3])\n",
    "for i in result:\n",
    "    print(i)"
   ]
  },
  {
   "cell_type": "code",
   "execution_count": 47,
   "id": "1667aed3-baf6-4a68-a537-53b26cb685a6",
   "metadata": {},
   "outputs": [
    {
     "name": "stdout",
     "output_type": "stream",
     "text": [
      "[[1 2 3 4]]\n",
      "[[5 6 7 8]]\n"
     ]
    }
   ],
   "source": [
    "#Vertical splitting\n",
    "#vsplit\n",
    "result = np.split(arr, 2)\n",
    "for i in result:\n",
    "    print(i)"
   ]
  },
  {
   "cell_type": "code",
   "execution_count": 48,
   "id": "67fc7112-520b-4623-a5d9-fcfebf920a19",
   "metadata": {},
   "outputs": [
    {
     "name": "stdout",
     "output_type": "stream",
     "text": [
      "[array([[1, 2, 3, 4]]), array([[5, 6, 7, 8]]), array([], shape=(0, 4), dtype=int32)]\n"
     ]
    }
   ],
   "source": [
    "# to split at specific indices\n",
    "result = np.vsplit(arr, [1,3]) \n",
    "print(result)"
   ]
  },
  {
   "cell_type": "code",
   "execution_count": 49,
   "id": "e567c266-0e47-4841-95c9-564e1e62a76e",
   "metadata": {},
   "outputs": [],
   "source": [
    "# Advanced Splitting techniques Optional\n",
    "#Depth-wise splitting dsplit()"
   ]
  },
  {
   "cell_type": "code",
   "execution_count": 50,
   "id": "b8c99f86-7032-4a45-afdf-e57df85b0ee4",
   "metadata": {},
   "outputs": [
    {
     "name": "stdout",
     "output_type": "stream",
     "text": [
      "[[[0]\n",
      "  [2]]\n",
      "\n",
      " [[4]\n",
      "  [6]]]\n",
      "[[[1]\n",
      "  [3]]\n",
      "\n",
      " [[5]\n",
      "  [7]]]\n"
     ]
    }
   ],
   "source": [
    "arr_3d = np.arange(8).reshape(2,2,2)\n",
    "\n",
    "#Split along depth (3rd axis)\n",
    "result = np.dsplit(arr_3d, 2)\n",
    "for i in result:\n",
    "    print(i)"
   ]
  },
  {
   "cell_type": "code",
   "execution_count": 51,
   "id": "0d980254-bd91-41a8-bed8-f1e1d1fdf08a",
   "metadata": {},
   "outputs": [
    {
     "name": "stdout",
     "output_type": "stream",
     "text": [
      "[0 1 2 3 4 5 6 7 8 9]\n"
     ]
    }
   ],
   "source": [
    "#Array prtitioning (np.array_split)\n",
    "arr = np.arange(10)\n",
    "print(arr)"
   ]
  },
  {
   "cell_type": "code",
   "execution_count": 52,
   "id": "42178a6c-29e1-4ea3-9591-b63565d58305",
   "metadata": {},
   "outputs": [
    {
     "name": "stdout",
     "output_type": "stream",
     "text": [
      "[0 1 2 3]\n",
      "[4 5 6]\n",
      "[7 8 9]\n"
     ]
    }
   ],
   "source": [
    "#Split into 3 parts (uneven division allowd)\n",
    "result = np.array_split(arr, 3)\n",
    "for i in result:\n",
    "    print(i)"
   ]
  },
  {
   "cell_type": "markdown",
   "id": "fc4c0ec6-6359-4f2b-b758-30c766d7e14f",
   "metadata": {},
   "source": [
    "#### Machine Learning"
   ]
  },
  {
   "cell_type": "code",
   "execution_count": 53,
   "id": "86652d70-1ad2-46d5-8aa8-f488c2892002",
   "metadata": {},
   "outputs": [
    {
     "name": "stdout",
     "output_type": "stream",
     "text": [
      "(80, 5) (20, 5)\n"
     ]
    }
   ],
   "source": [
    "data = np.random.rand(100, 5)  # 100 samples, 5 features\n",
    "train, test = np.split(data, [int(0.8*len(data))])\n",
    "print(train.shape, test.shape)  # (80, 5), (20, 5)"
   ]
  },
  {
   "cell_type": "markdown",
   "id": "ae023d53-ee2c-4298-bba7-79b13dea0825",
   "metadata": {},
   "source": [
    "#### Time Series (Window splittin)\n"
   ]
  },
  {
   "cell_type": "code",
   "execution_count": 54,
   "id": "8fdac4f9-e17b-4683-ba03-722c2a71c82f",
   "metadata": {},
   "outputs": [
    {
     "name": "stdout",
     "output_type": "stream",
     "text": [
      "10\n"
     ]
    }
   ],
   "source": [
    "time_series = np.arange(100)\n",
    "windows = np.split(time_series, range(10, 100, 10))\n",
    "print(len(windows))  # 10 windows (9 of size 10, last of size 10)"
   ]
  },
  {
   "cell_type": "code",
   "execution_count": null,
   "id": "71e80719-ee56-4135-9e36-16e3458fed81",
   "metadata": {},
   "outputs": [],
   "source": []
  }
 ],
 "metadata": {
  "kernelspec": {
   "display_name": "Python 3 (ipykernel)",
   "language": "python",
   "name": "python3"
  },
  "language_info": {
   "codemirror_mode": {
    "name": "ipython",
    "version": 3
   },
   "file_extension": ".py",
   "mimetype": "text/x-python",
   "name": "python",
   "nbconvert_exporter": "python",
   "pygments_lexer": "ipython3",
   "version": "3.11.4"
  }
 },
 "nbformat": 4,
 "nbformat_minor": 5
}
