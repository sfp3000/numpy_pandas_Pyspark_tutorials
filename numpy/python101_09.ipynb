{
 "cells": [
  {
   "cell_type": "markdown",
   "id": "dd4760ad-556e-4744-9540-b11aef11c70b",
   "metadata": {},
   "source": [
    "# Section 09 03 Numpy.mean()"
   ]
  },
  {
   "cell_type": "code",
   "execution_count": 1,
   "id": "d87f2a8c-20b8-4bf8-8e0f-62bc750f2a10",
   "metadata": {},
   "outputs": [],
   "source": [
    "# in most cases mean is the same as average but the difference is the usage. \n",
    "# with average you can compute weighted averages. mean is faster than average\n"
   ]
  },
  {
   "cell_type": "code",
   "execution_count": 2,
   "id": "20cf3be8-8141-4003-b1f0-405a48500137",
   "metadata": {},
   "outputs": [],
   "source": [
    "#np.mean(arr, axis=None, dtype=None, keepdims=False)"
   ]
  },
  {
   "cell_type": "code",
   "execution_count": 3,
   "id": "12b9dadb-c9d3-4e06-88cc-397703394f61",
   "metadata": {},
   "outputs": [],
   "source": [
    "import numpy as np"
   ]
  },
  {
   "cell_type": "code",
   "execution_count": 4,
   "id": "bd64704e-4a22-4013-a596-3bf1d959fecf",
   "metadata": {},
   "outputs": [
    {
     "name": "stdout",
     "output_type": "stream",
     "text": [
      "3.0\n"
     ]
    }
   ],
   "source": [
    "data = np.array([1,2,3,4,5])\n",
    "avg = np.mean(data)\n",
    "print(avg)"
   ]
  },
  {
   "cell_type": "code",
   "execution_count": 5,
   "id": "3daabeb1-5d42-490f-954b-f796409937e2",
   "metadata": {},
   "outputs": [],
   "source": [
    "#Faster than sum()/len()"
   ]
  },
  {
   "cell_type": "code",
   "execution_count": 6,
   "id": "8ed43602-342e-4bcf-b1de-ad15f10c4130",
   "metadata": {},
   "outputs": [],
   "source": [
    "arr2D = np.array([[1,2,3], [4,5,6]])"
   ]
  },
  {
   "cell_type": "code",
   "execution_count": 8,
   "id": "42971367-b6fb-4dc8-99f6-caedf1e2c38c",
   "metadata": {},
   "outputs": [],
   "source": [
    "col_mean = np.mean(arr2D, axis=0) \n",
    "row_mean = np.mean(arr2D, axis=1)"
   ]
  },
  {
   "cell_type": "code",
   "execution_count": 9,
   "id": "6277a9a4-2ef5-4058-a753-0f09d5873662",
   "metadata": {},
   "outputs": [
    {
     "name": "stdout",
     "output_type": "stream",
     "text": [
      "[2.5 3.5 4.5]\n"
     ]
    }
   ],
   "source": [
    "print(col_mean)"
   ]
  },
  {
   "cell_type": "code",
   "execution_count": 10,
   "id": "b3e88b1d-4aa9-4e5b-86f4-416f454cb4a0",
   "metadata": {},
   "outputs": [
    {
     "name": "stdout",
     "output_type": "stream",
     "text": [
      "[2. 5.]\n"
     ]
    }
   ],
   "source": [
    "print(row_mean)"
   ]
  },
  {
   "cell_type": "code",
   "execution_count": 11,
   "id": "f9d9c3be-1b54-4d22-beeb-839635a1ebf7",
   "metadata": {},
   "outputs": [
    {
     "data": {
      "text/plain": [
       "array([[1, 2, 3],\n",
       "       [4, 5, 6]])"
      ]
     },
     "execution_count": 11,
     "metadata": {},
     "output_type": "execute_result"
    }
   ],
   "source": [
    "arr2D"
   ]
  },
  {
   "cell_type": "code",
   "execution_count": 12,
   "id": "247fa13c-a858-4403-a12c-e60a7c9dff98",
   "metadata": {},
   "outputs": [],
   "source": [
    "#keep dimensions keepdims"
   ]
  },
  {
   "cell_type": "code",
   "execution_count": 13,
   "id": "0ad8a52a-3a7f-4c84-968c-d2f9c38bd975",
   "metadata": {},
   "outputs": [
    {
     "name": "stdout",
     "output_type": "stream",
     "text": [
      "[[2.]\n",
      " [5.]]\n"
     ]
    }
   ],
   "source": [
    "rowkd= np.mean(arr2D, axis=1, keepdims=True)\n",
    "print(rowkd)"
   ]
  },
  {
   "cell_type": "code",
   "execution_count": 14,
   "id": "fd782735-e15d-4e0a-b4d3-0edf7c7d7dde",
   "metadata": {},
   "outputs": [
    {
     "name": "stdout",
     "output_type": "stream",
     "text": [
      "[[2.5 3.5 4.5]]\n"
     ]
    }
   ],
   "source": [
    "rowkd= np.mean(arr2D, axis=0, keepdims=True)\n",
    "print(rowkd)"
   ]
  },
  {
   "cell_type": "code",
   "execution_count": 19,
   "id": "fb9d0c26-0e7f-4e8e-a960-fcbd1efa5be2",
   "metadata": {},
   "outputs": [],
   "source": [
    "#control data type:\n",
    "d1 = np.mean(arr2D, axis=0, dtype=np.float16)"
   ]
  },
  {
   "cell_type": "code",
   "execution_count": 20,
   "id": "b8741484-a5b5-4adf-b830-d31d93ee36ab",
   "metadata": {},
   "outputs": [
    {
     "data": {
      "text/plain": [
       "array([2.5, 3.5, 4.5], dtype=float16)"
      ]
     },
     "execution_count": 20,
     "metadata": {},
     "output_type": "execute_result"
    }
   ],
   "source": [
    "d1"
   ]
  },
  {
   "cell_type": "code",
   "execution_count": 21,
   "id": "267766ef-e96f-47fb-a032-ca1556916c40",
   "metadata": {},
   "outputs": [],
   "source": [
    "#handling NAN values"
   ]
  },
  {
   "cell_type": "code",
   "execution_count": 22,
   "id": "e060d1f4-759b-4b14-8a76-fed238abbebb",
   "metadata": {},
   "outputs": [],
   "source": [
    "arr_nan = np.array([1,2, np.nan, 4])"
   ]
  },
  {
   "cell_type": "code",
   "execution_count": 23,
   "id": "7bfaa80e-0c8e-4ab9-b0a6-7867dd3fd4cb",
   "metadata": {},
   "outputs": [
    {
     "name": "stdout",
     "output_type": "stream",
     "text": [
      "nan\n"
     ]
    }
   ],
   "source": [
    "print(np.mean(arr_nan))"
   ]
  },
  {
   "cell_type": "code",
   "execution_count": 24,
   "id": "d59d759e-39f9-481d-91d1-8b7a43935f99",
   "metadata": {},
   "outputs": [
    {
     "name": "stdout",
     "output_type": "stream",
     "text": [
      "2.3333333333333335\n"
     ]
    }
   ],
   "source": [
    "print(np.nanmean(arr_nan))"
   ]
  },
  {
   "cell_type": "markdown",
   "id": "aeb6cce2-37b4-493c-8f6e-dae2453dfee3",
   "metadata": {},
   "source": [
    "#### Weighted Mean"
   ]
  },
  {
   "cell_type": "code",
   "execution_count": 25,
   "id": "0c0936f6-96ad-4313-8352-f1fab6b40317",
   "metadata": {},
   "outputs": [],
   "source": [
    "weights = np.array([0.1, 0.3, 0.6])\n",
    "values = np.array([10, 20, 30])"
   ]
  },
  {
   "cell_type": "code",
   "execution_count": 26,
   "id": "68c917ec-f18c-4bb5-810a-7a4b873986d3",
   "metadata": {},
   "outputs": [],
   "source": [
    "weighted_avg = np.average(values, weights=weights)"
   ]
  },
  {
   "cell_type": "code",
   "execution_count": 27,
   "id": "d58d8174-aa03-4424-9ec9-5e070c58d496",
   "metadata": {},
   "outputs": [
    {
     "name": "stdout",
     "output_type": "stream",
     "text": [
      "25.0\n"
     ]
    }
   ],
   "source": [
    "print(weighted_avg)"
   ]
  },
  {
   "cell_type": "code",
   "execution_count": 28,
   "id": "03f65a0d-037a-4ab3-88a3-4a18a39e0414",
   "metadata": {},
   "outputs": [
    {
     "data": {
      "text/plain": [
       "25.0"
      ]
     },
     "execution_count": 28,
     "metadata": {},
     "output_type": "execute_result"
    }
   ],
   "source": [
    "10*.1 + 0.3*20 + 0.6*30 "
   ]
  },
  {
   "cell_type": "code",
   "execution_count": 29,
   "id": "e91612e2-b540-48c6-9680-4b805b5af1d9",
   "metadata": {},
   "outputs": [
    {
     "data": {
      "text/plain": [
       "25.0"
      ]
     },
     "execution_count": 29,
     "metadata": {},
     "output_type": "execute_result"
    }
   ],
   "source": [
    "sum(values * weights)/sum(weights)"
   ]
  },
  {
   "cell_type": "markdown",
   "id": "d3d53b8c-6b8f-4224-a913-ec2a4f6dad58",
   "metadata": {},
   "source": [
    "#### Complex Arrays"
   ]
  },
  {
   "cell_type": "code",
   "execution_count": 30,
   "id": "b404c57e-7d22-466d-bdfb-aa9625e424a5",
   "metadata": {},
   "outputs": [
    {
     "name": "stdout",
     "output_type": "stream",
     "text": [
      "(2+3j)\n"
     ]
    }
   ],
   "source": [
    "complx = np.array([1+2j, 3+4j])\n",
    "print(np.mean(complx))"
   ]
  },
  {
   "cell_type": "markdown",
   "id": "32735fce-a8c6-4331-a91d-8bfea8eb27aa",
   "metadata": {},
   "source": [
    "#### Empty Array"
   ]
  },
  {
   "cell_type": "code",
   "execution_count": 31,
   "id": "78f060a7-ea11-4c16-8f72-272e75ff176b",
   "metadata": {},
   "outputs": [],
   "source": [
    "emp = np.array([])"
   ]
  },
  {
   "cell_type": "code",
   "execution_count": 32,
   "id": "ec7108d8-c2ae-4798-873c-f872d20e7d36",
   "metadata": {},
   "outputs": [
    {
     "name": "stdout",
     "output_type": "stream",
     "text": [
      "nan\n"
     ]
    },
    {
     "name": "stderr",
     "output_type": "stream",
     "text": [
      "C:\\Users\\saad\\AppData\\Roaming\\Python\\Python311\\site-packages\\numpy\\core\\fromnumeric.py:3504: RuntimeWarning: Mean of empty slice.\n",
      "  return _methods._mean(a, axis=axis, dtype=dtype,\n",
      "C:\\Users\\saad\\AppData\\Roaming\\Python\\Python311\\site-packages\\numpy\\core\\_methods.py:129: RuntimeWarning: invalid value encountered in scalar divide\n",
      "  ret = ret.dtype.type(ret / rcount)\n"
     ]
    }
   ],
   "source": [
    "print(np.mean(emp))"
   ]
  },
  {
   "cell_type": "markdown",
   "id": "ba3dc732-8ead-401e-a015-80b968f76e6a",
   "metadata": {},
   "source": [
    "# Section 09 04 np.median"
   ]
  },
  {
   "cell_type": "code",
   "execution_count": 33,
   "id": "28ded7f4-5b1f-4425-a60f-05530f567330",
   "metadata": {},
   "outputs": [],
   "source": [
    "#The median is the middle value in a sorted dataset. Unlike the mean (average) it's robust to outliers."
   ]
  },
  {
   "cell_type": "code",
   "execution_count": 34,
   "id": "7a331865-bccf-48c6-a3dc-1411b8518d3f",
   "metadata": {},
   "outputs": [],
   "source": [
    "import numpy as np"
   ]
  },
  {
   "cell_type": "code",
   "execution_count": 35,
   "id": "1b7d767f-312b-46fe-bef1-d8f9cd5f3958",
   "metadata": {},
   "outputs": [],
   "source": [
    "data = np.array([5,1,2,4,3])"
   ]
  },
  {
   "cell_type": "code",
   "execution_count": 36,
   "id": "e18ebf24-eb4a-4c80-86d1-b2335fa7abe2",
   "metadata": {},
   "outputs": [
    {
     "name": "stdout",
     "output_type": "stream",
     "text": [
      "3.0\n"
     ]
    }
   ],
   "source": [
    "median = np.median(data)\n",
    "print(median)"
   ]
  },
  {
   "cell_type": "code",
   "execution_count": 37,
   "id": "b3096659-83c9-4a06-8804-998e2e2c9b10",
   "metadata": {},
   "outputs": [
    {
     "data": {
      "text/plain": [
       "[1, 2, 3, 4, 5]"
      ]
     },
     "execution_count": 37,
     "metadata": {},
     "output_type": "execute_result"
    }
   ],
   "source": [
    "sorted(data)"
   ]
  },
  {
   "cell_type": "code",
   "execution_count": 38,
   "id": "b66d34bd-9057-44dc-8755-0202141548d5",
   "metadata": {},
   "outputs": [],
   "source": [
    "data2 = np.array([5,1,2,4,3, 80])"
   ]
  },
  {
   "cell_type": "code",
   "execution_count": 40,
   "id": "1a03ac48-a8fa-4850-9ab2-bfa741014328",
   "metadata": {},
   "outputs": [
    {
     "name": "stdout",
     "output_type": "stream",
     "text": [
      "3.5\n"
     ]
    }
   ],
   "source": [
    "print(np.median(data2))"
   ]
  },
  {
   "cell_type": "code",
   "execution_count": 41,
   "id": "b0dadf8e-b66c-42ec-9909-54e557676013",
   "metadata": {},
   "outputs": [
    {
     "data": {
      "text/plain": [
       "[1, 2, 3, 4, 5, 80]"
      ]
     },
     "execution_count": 41,
     "metadata": {},
     "output_type": "execute_result"
    }
   ],
   "source": [
    "sorted(data2)"
   ]
  },
  {
   "cell_type": "code",
   "execution_count": 43,
   "id": "0eca7553-1017-4b7d-8a65-e5cc20e8546c",
   "metadata": {},
   "outputs": [
    {
     "name": "stdout",
     "output_type": "stream",
     "text": [
      "4.0\n"
     ]
    }
   ],
   "source": [
    "data2 = np.array([5,1,2,10,3, 80])\n",
    "print(np.median(data2))"
   ]
  },
  {
   "cell_type": "code",
   "execution_count": 44,
   "id": "52ee6071-71a6-4acf-86bd-a18c5b80e2da",
   "metadata": {},
   "outputs": [
    {
     "data": {
      "text/plain": [
       "[1, 2, 3, 5, 10, 80]"
      ]
     },
     "execution_count": 44,
     "metadata": {},
     "output_type": "execute_result"
    }
   ],
   "source": [
    "sorted(data2)"
   ]
  },
  {
   "cell_type": "code",
   "execution_count": 45,
   "id": "fed2b776-c21f-4a60-b4e7-facb0cd2ff69",
   "metadata": {},
   "outputs": [],
   "source": [
    "#multi-dimensional array"
   ]
  },
  {
   "cell_type": "code",
   "execution_count": 46,
   "id": "5e61180b-eb86-4cee-975c-d5be9581ae51",
   "metadata": {},
   "outputs": [],
   "source": [
    "arr2D = np.array([[1,2,3],\n",
    "                  [4,5,6],\n",
    "                  [7,8,9]])"
   ]
  },
  {
   "cell_type": "code",
   "execution_count": 48,
   "id": "3bdfd596-c01e-43c6-8ee8-13bdb5c0927e",
   "metadata": {},
   "outputs": [
    {
     "name": "stdout",
     "output_type": "stream",
     "text": [
      "[4. 5. 6.]\n"
     ]
    }
   ],
   "source": [
    "col_median = np.median(arr2D, axis=0)\n",
    "print(col_median)"
   ]
  },
  {
   "cell_type": "code",
   "execution_count": 49,
   "id": "a65009fe-59a3-4978-9f78-700a3c51b906",
   "metadata": {},
   "outputs": [
    {
     "name": "stdout",
     "output_type": "stream",
     "text": [
      "[2. 5. 8.]\n"
     ]
    }
   ],
   "source": [
    "row_median = np.median(arr2D, axis=1)\n",
    "print(row_median)"
   ]
  },
  {
   "cell_type": "code",
   "execution_count": 50,
   "id": "b9836f56-8de3-4156-800f-acb391491235",
   "metadata": {},
   "outputs": [],
   "source": [
    "#keepdims"
   ]
  },
  {
   "cell_type": "code",
   "execution_count": 51,
   "id": "420890f7-c956-4233-ad8e-c214c40df1fe",
   "metadata": {},
   "outputs": [
    {
     "name": "stdout",
     "output_type": "stream",
     "text": [
      "[[2.]\n",
      " [5.]\n",
      " [8.]]\n"
     ]
    }
   ],
   "source": [
    "row_median = np.median(arr2D, axis=1, keepdims=True)\n",
    "print(row_median)"
   ]
  },
  {
   "cell_type": "code",
   "execution_count": 52,
   "id": "a66ef7a1-1908-498e-9017-b482d57f3120",
   "metadata": {},
   "outputs": [],
   "source": [
    "arr_nan = np.array([1,2, np.nan, 4])"
   ]
  },
  {
   "cell_type": "code",
   "execution_count": 53,
   "id": "e41ed6d5-4f07-4c86-84c8-41e9683be7c7",
   "metadata": {},
   "outputs": [],
   "source": [
    "median = np.nanmedian(arr_nan)"
   ]
  },
  {
   "cell_type": "code",
   "execution_count": 54,
   "id": "f38afdb8-afc2-4095-9313-882fb50431f2",
   "metadata": {},
   "outputs": [
    {
     "name": "stdout",
     "output_type": "stream",
     "text": [
      "2.0\n"
     ]
    }
   ],
   "source": [
    "print(median)"
   ]
  },
  {
   "cell_type": "markdown",
   "id": "346d956a-596c-40a7-8a41-ee07fd24bc8b",
   "metadata": {},
   "source": [
    "# Section 09 05 numpy.corrcoef()"
   ]
  },
  {
   "cell_type": "code",
   "execution_count": 55,
   "id": "966cac24-6b20-4fc7-85ba-e9ae90bd24b1",
   "metadata": {},
   "outputs": [],
   "source": [
    "#Basic Correlation: measures how two variables are related to one another (-1 to 1)\n",
    "# +1 perfect positive linear relationship\n",
    "# 0 No linear relationship\n",
    "# -1: Perfect negative relationship"
   ]
  },
  {
   "cell_type": "code",
   "execution_count": 56,
   "id": "afa33daa-10e6-40ed-a29e-e8b25616c400",
   "metadata": {},
   "outputs": [
    {
     "name": "stdout",
     "output_type": "stream",
     "text": [
      "[[1. 1.]\n",
      " [1. 1.]]\n"
     ]
    }
   ],
   "source": [
    "import numpy as np\n",
    "x= [1,2,3,4,5]\n",
    "y= [2,4,6,8,10]\n",
    "#Pearson correlation coefficient\n",
    "corr_matrix = np.corrcoef(x,y)\n",
    "print(corr_matrix)"
   ]
  },
  {
   "cell_type": "code",
   "execution_count": 57,
   "id": "006aafc7-7687-4879-8ea2-e88f58cc5512",
   "metadata": {},
   "outputs": [
    {
     "name": "stdout",
     "output_type": "stream",
     "text": [
      "[[1. 1. 1.]\n",
      " [1. 1. 1.]\n",
      " [1. 1. 1.]]\n"
     ]
    }
   ],
   "source": [
    "data = np.array([[1, 2, 3], \n",
    "                 [2, 4, 6], \n",
    "                 [3, 6, 9]])  # Columns = variables\n",
    "\n",
    "corr_matrix = np.corrcoef(data, rowvar=False)  # Columns are variables\n",
    "print(corr_matrix)"
   ]
  },
  {
   "cell_type": "code",
   "execution_count": 58,
   "id": "ecea7f52-d43b-4f57-b3b4-ab23b6488df1",
   "metadata": {},
   "outputs": [
    {
     "name": "stdout",
     "output_type": "stream",
     "text": [
      "1.0\n"
     ]
    }
   ],
   "source": [
    "x = [1, 2, np.nan, 4]\n",
    "y = [2, 4, 6, 8]\n",
    "\n",
    "# Mask NaN values\n",
    "valid_mask = ~np.isnan(x) & ~np.isnan(y)\n",
    "corr = np.corrcoef(np.array(x)[valid_mask], np.array(y)[valid_mask])[0, 1]\n",
    "print(corr)  # 1.0"
   ]
  },
  {
   "cell_type": "code",
   "execution_count": 59,
   "id": "84742c8a-5317-475d-a148-d080658cd3bc",
   "metadata": {},
   "outputs": [],
   "source": [
    "from scipy.stats import spearmanr\n",
    "\n",
    "x_ranks = np.argsort(np.argsort(x))\n",
    "y_ranks = np.argsort(np.argsort(y))\n",
    "spearman_corr = np.corrcoef(x_ranks, y_ranks)[0, 1]\n",
    " \n"
   ]
  },
  {
   "cell_type": "code",
   "execution_count": 60,
   "id": "56291582-d1ef-4157-bc35-45563f130058",
   "metadata": {},
   "outputs": [
    {
     "name": "stdout",
     "output_type": "stream",
     "text": [
      "0.7999999999999999\n"
     ]
    }
   ],
   "source": [
    "print(spearman_corr)"
   ]
  },
  {
   "cell_type": "code",
   "execution_count": null,
   "id": "160ed6c0-d6a8-4639-95d1-7ba108032b7e",
   "metadata": {},
   "outputs": [],
   "source": []
  }
 ],
 "metadata": {
  "kernelspec": {
   "display_name": "Python 3 (ipykernel)",
   "language": "python",
   "name": "python3"
  },
  "language_info": {
   "codemirror_mode": {
    "name": "ipython",
    "version": 3
   },
   "file_extension": ".py",
   "mimetype": "text/x-python",
   "name": "python",
   "nbconvert_exporter": "python",
   "pygments_lexer": "ipython3",
   "version": "3.11.4"
  }
 },
 "nbformat": 4,
 "nbformat_minor": 5
}
