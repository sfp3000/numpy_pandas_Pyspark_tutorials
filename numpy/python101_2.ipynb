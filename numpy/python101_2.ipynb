{
 "cells": [
  {
   "cell_type": "markdown",
   "id": "f5359525-683a-498d-bbba-7668789bed73",
   "metadata": {},
   "source": [
    "# Section 07 03 concatenation"
   ]
  },
  {
   "cell_type": "markdown",
   "id": "a6366a93-72d5-4fd5-b380-7c86882ab9f2",
   "metadata": {},
   "source": [
    "#### Basic Concatenation(np.concatenate)"
   ]
  },
  {
   "cell_type": "code",
   "execution_count": 1,
   "id": "d94f7223-8a87-4122-a20a-d83f8f1cbec3",
   "metadata": {},
   "outputs": [],
   "source": [
    "#1.1 Joining 1D Arrays"
   ]
  },
  {
   "cell_type": "code",
   "execution_count": 2,
   "id": "528c7494-081d-4a82-99dd-91762ce14cc6",
   "metadata": {},
   "outputs": [],
   "source": [
    "import numpy as np"
   ]
  },
  {
   "cell_type": "code",
   "execution_count": 5,
   "id": "01417e17-152c-471a-a4d0-e22130f0ae19",
   "metadata": {},
   "outputs": [
    {
     "name": "stdout",
     "output_type": "stream",
     "text": [
      "[1 2 3 4 5 6]\n"
     ]
    }
   ],
   "source": [
    "a = np.array([1,2,3])\n",
    "b = np.array([4,5,6])\n",
    "#join as is:\n",
    "result = np.concatenate((a,b))\n",
    "print(result)"
   ]
  },
  {
   "cell_type": "code",
   "execution_count": 7,
   "id": "7199a954-a5a9-435d-a8ad-2f01e7a6ca3b",
   "metadata": {},
   "outputs": [
    {
     "name": "stdout",
     "output_type": "stream",
     "text": [
      "[1 2 3 4 5 6]\n"
     ]
    }
   ],
   "source": [
    "res = np.concatenate((a,b), axis=0)\n",
    "print(result)\n"
   ]
  },
  {
   "cell_type": "code",
   "execution_count": 9,
   "id": "da1b57d9-7d09-4c8c-ae68-4c9206e2c292",
   "metadata": {},
   "outputs": [
    {
     "data": {
      "text/plain": [
       "(6,)"
      ]
     },
     "execution_count": 9,
     "metadata": {},
     "output_type": "execute_result"
    }
   ],
   "source": [
    "res.shape\n"
   ]
  },
  {
   "cell_type": "code",
   "execution_count": 12,
   "id": "1fb65d6d-6a0d-41f0-841a-85befb6a3248",
   "metadata": {},
   "outputs": [
    {
     "name": "stdout",
     "output_type": "stream",
     "text": [
      "[[1 2]\n",
      " [3 4]\n",
      " [5 6]]\n"
     ]
    }
   ],
   "source": [
    "#Joining 2D arrays\n",
    "arr1 = np.array([[1,2], [3,4]])\n",
    "arr2 = np.array([[5,6]])\n",
    "#Vertical stacking (axis=0)\n",
    "v_stack = np.concatenate((arr1, arr2), axis=0)\n",
    "print(v_stack)\n",
    "#similar to inserting a row in a table"
   ]
  },
  {
   "cell_type": "code",
   "execution_count": 14,
   "id": "9d017430-685f-40ad-a3da-b09b199f17ee",
   "metadata": {},
   "outputs": [
    {
     "name": "stdout",
     "output_type": "stream",
     "text": [
      "[[1 2]\n",
      " [3 4]]\n"
     ]
    }
   ],
   "source": [
    "print(arr1)"
   ]
  },
  {
   "cell_type": "code",
   "execution_count": 15,
   "id": "2d4bcf06-ef21-42ec-a73b-50c900783deb",
   "metadata": {},
   "outputs": [
    {
     "name": "stdout",
     "output_type": "stream",
     "text": [
      "[[5 6]]\n"
     ]
    }
   ],
   "source": [
    "print(arr2)"
   ]
  },
  {
   "cell_type": "code",
   "execution_count": 16,
   "id": "8c1116ea-824d-4485-afde-b87d3fe2c84b",
   "metadata": {},
   "outputs": [
    {
     "name": "stdout",
     "output_type": "stream",
     "text": [
      "[[1 2]\n",
      " [3 4]\n",
      " [5 6]]\n"
     ]
    }
   ],
   "source": [
    "print(v_stack)"
   ]
  },
  {
   "cell_type": "code",
   "execution_count": 18,
   "id": "cc2781a8-96de-486b-9fd5-d0b8143b138c",
   "metadata": {},
   "outputs": [
    {
     "name": "stdout",
     "output_type": "stream",
     "text": [
      "[[1 2 7]\n",
      " [3 4 8]]\n"
     ]
    }
   ],
   "source": [
    "#Horizontal stacking (axis=1)\n",
    "arr3 = np.array([[7], [8]])\n",
    "h_stack = np.concatenate((arr1, arr3), axis=1)\n",
    "print(h_stack)"
   ]
  },
  {
   "cell_type": "code",
   "execution_count": 20,
   "id": "1fb636ef-6163-44db-a3e1-166c85f134b2",
   "metadata": {},
   "outputs": [
    {
     "name": "stdout",
     "output_type": "stream",
     "text": [
      "[[1 2]\n",
      " [3 4]]\n"
     ]
    }
   ],
   "source": [
    "print(arr1)"
   ]
  },
  {
   "cell_type": "code",
   "execution_count": 21,
   "id": "9547fd96-4283-4e1b-afb4-2e6bcc57c37f",
   "metadata": {},
   "outputs": [
    {
     "name": "stdout",
     "output_type": "stream",
     "text": [
      "[[ 1  2  7  9 10]\n",
      " [ 3  4  8 10 10]]\n"
     ]
    }
   ],
   "source": [
    "#Horizontal stacking (axis=1)\n",
    "arr3 = np.array([[7,9,10], [8,10,10]])\n",
    "h_stack = np.concatenate((arr1, arr3), axis=1)\n",
    "print(h_stack)"
   ]
  },
  {
   "cell_type": "markdown",
   "id": "2c449e0d-1b52-49bb-881c-fa02882b3cf9",
   "metadata": {},
   "source": [
    "### Convenience Functions"
   ]
  },
  {
   "cell_type": "code",
   "execution_count": 22,
   "id": "6438f5a4-eab2-4086-a275-e1a5040c7796",
   "metadata": {},
   "outputs": [],
   "source": [
    "#Vstsack"
   ]
  },
  {
   "cell_type": "code",
   "execution_count": 23,
   "id": "f30cb2c2-0995-4c88-9ff4-f234f00fe974",
   "metadata": {},
   "outputs": [
    {
     "name": "stdout",
     "output_type": "stream",
     "text": [
      "[[1 2 3]\n",
      " [4 5 6]]\n"
     ]
    }
   ],
   "source": [
    "a = np.array([1,2,3])\n",
    "b = np.array([4,5,6])\n",
    "\n",
    "#Convert 1D to 2D and stack Vertically\n",
    "result = np.vstack((a,b))\n",
    "print(result)"
   ]
  },
  {
   "cell_type": "code",
   "execution_count": 24,
   "id": "2c6bd3b0-baf3-44ce-b777-208158c74d33",
   "metadata": {},
   "outputs": [],
   "source": [
    "#hstack"
   ]
  },
  {
   "cell_type": "code",
   "execution_count": 25,
   "id": "ac641888-e759-4641-855e-9cd4126d44a5",
   "metadata": {},
   "outputs": [
    {
     "name": "stdout",
     "output_type": "stream",
     "text": [
      "[[1 3]\n",
      " [2 4]]\n"
     ]
    }
   ],
   "source": [
    "a = np.array([[1],[2]])\n",
    "b = np.array([[3], [4]])\n",
    "\n",
    "#stack horizontally\n",
    "result = np.hstack((a, b))\n",
    "print(result)"
   ]
  },
  {
   "cell_type": "code",
   "execution_count": 26,
   "id": "3896c368-bf2c-49ff-a1a1-6b1cc1339e46",
   "metadata": {},
   "outputs": [],
   "source": [
    "# Depth-wise stacking (dstack)\n",
    "a = np.array([[1,2], [3,4]])\n",
    "b = np.array([[5,6], [7,8]])"
   ]
  },
  {
   "cell_type": "code",
   "execution_count": 27,
   "id": "9d73a3f0-ffd3-4019-91f8-036cded575c2",
   "metadata": {},
   "outputs": [
    {
     "name": "stdout",
     "output_type": "stream",
     "text": [
      "[[[1 5]\n",
      "  [2 6]]\n",
      "\n",
      " [[3 7]\n",
      "  [4 8]]]\n"
     ]
    }
   ],
   "source": [
    "#stack along third dimension\n",
    "result = np.dstack((a,b))\n",
    "print(result)"
   ]
  },
  {
   "cell_type": "code",
   "execution_count": 28,
   "id": "c1119aa9-f245-4e0e-a85d-e0d62b64cd09",
   "metadata": {},
   "outputs": [],
   "source": [
    "#Advanced Stacking np.stack"
   ]
  },
  {
   "cell_type": "code",
   "execution_count": 29,
   "id": "bc78b6c6-8cae-404f-8df3-bf839e1e1e72",
   "metadata": {},
   "outputs": [],
   "source": [
    "a = np.array([1,2,3])\n",
    "b = np.array([4,5,6])\n",
    "#stack along a new axis (default is axis=0)\n",
    "result = np.stack((a, b))"
   ]
  },
  {
   "cell_type": "code",
   "execution_count": 30,
   "id": "88cba5b4-54d7-41fe-8e37-506d7e3c9dde",
   "metadata": {},
   "outputs": [
    {
     "name": "stdout",
     "output_type": "stream",
     "text": [
      "[[1 2 3]\n",
      " [4 5 6]]\n"
     ]
    }
   ],
   "source": [
    "print(result)"
   ]
  },
  {
   "cell_type": "code",
   "execution_count": 31,
   "id": "789b8473-6c7f-42f8-8842-9628b4918adb",
   "metadata": {},
   "outputs": [
    {
     "name": "stdout",
     "output_type": "stream",
     "text": [
      "[[1 4]\n",
      " [2 5]\n",
      " [3 6]]\n"
     ]
    }
   ],
   "source": [
    "#Stack along second axis\n",
    "result = np.stack((a, b), axis=1)\n",
    "print(result)"
   ]
  },
  {
   "cell_type": "code",
   "execution_count": 32,
   "id": "6e4e5f50-adcc-43b5-9991-07680e17e424",
   "metadata": {},
   "outputs": [
    {
     "name": "stdout",
     "output_type": "stream",
     "text": [
      "[[[1 5]\n",
      "  [2 6]]\n",
      "\n",
      " [[3 7]\n",
      "  [4 8]]]\n"
     ]
    }
   ],
   "source": [
    "#Stack along 3rd d\n",
    "a = np.array([[1,2], [3,4]])\n",
    "b = np.array([[5,6], [7,8]])\n",
    "result = np.stack((a, b), axis=2)\n",
    "print(result)"
   ]
  },
  {
   "cell_type": "markdown",
   "id": "e7544b25-8207-4907-8d06-263a8f52ea13",
   "metadata": {},
   "source": [
    "### Machine learning use"
   ]
  },
  {
   "cell_type": "code",
   "execution_count": 34,
   "id": "14024619-0f1a-4a8d-b3ef-995a59d7c94d",
   "metadata": {},
   "outputs": [
    {
     "name": "stdout",
     "output_type": "stream",
     "text": [
      "(22, 8)\n"
     ]
    }
   ],
   "source": [
    "features1 = np.random.rand(22, 5)  # First set of features\n",
    "features2 = np.random.rand(22, 3)  # Second set\n",
    "\n",
    "# Combine features horizontally\n",
    "X = np.hstack((features1, features2))\n",
    "print(X.shape)  # (100, 8)"
   ]
  },
  {
   "cell_type": "code",
   "execution_count": 36,
   "id": "8dadbfda-ce79-47bf-bf21-3b81f5f6de65",
   "metadata": {},
   "outputs": [
    {
     "name": "stdout",
     "output_type": "stream",
     "text": [
      "(10, 3)\n"
     ]
    }
   ],
   "source": [
    "#Time Series Data\n",
    "time_points = np.arange(10)\n",
    "sensor1 = np.random.rand(10)\n",
    "sensor2 = np.random.rand(10)\n",
    "\n",
    "# Create multivariate time series\n",
    "time_series = np.column_stack((time_points, sensor1, sensor2))\n",
    "print(time_series.shape)  # (10, 3)"
   ]
  },
  {
   "cell_type": "raw",
   "id": "0ba113cb-3558-4e83-8c29-ddcd60631e72",
   "metadata": {},
   "source": [
    "5. Performance Considerations\n",
    "Method\tUse Case\tMemory Efficiency\tSpeed\n",
    "concatenate\tGeneral purpose\tHigh\tFast\n",
    "vstack/hstack\tSimplified syntax\tMedium\tFast\n",
    "stack\tCreating new dimensions\tLow\tSlower\n",
    "dstack\tDepth-wise stacking\tMedium\tFast"
   ]
  },
  {
   "cell_type": "markdown",
   "id": "04307b8f-dc28-4aa6-97b4-1d3e9a4f5bdd",
   "metadata": {},
   "source": [
    "# Section 07 04 "
   ]
  },
  {
   "cell_type": "code",
   "execution_count": 39,
   "id": "a2421c0b-311b-47ee-8ca0-9f3b46e16304",
   "metadata": {},
   "outputs": [
    {
     "name": "stdout",
     "output_type": "stream",
     "text": [
      "arr :  [0 1 2 3 4 5 6 7 8 9]\n",
      "[array([0, 1, 2, 3, 4]), array([5, 6, 7, 8, 9])]\n",
      "[0 1 2 3 4]\n"
     ]
    }
   ],
   "source": [
    "# Basic Splitting\n",
    "import numpy as np\n",
    "arr = np.arange(10)\n",
    "print(\"arr : \", arr)\n",
    "\n",
    "#split in two\n",
    "result = np.split(arr, 2)\n",
    "print(result)\n",
    "result1 = result[0]\n",
    "print(result1)"
   ]
  },
  {
   "cell_type": "code",
   "execution_count": 40,
   "id": "440c9304-581b-41f2-b539-c9b08962ab26",
   "metadata": {},
   "outputs": [
    {
     "name": "stdout",
     "output_type": "stream",
     "text": [
      "[0 1 2]\n",
      "[3 4 5 6]\n",
      "[7 8 9]\n"
     ]
    }
   ],
   "source": [
    "# unequal division\n",
    "#splitting at specific indices\n",
    "arr = np.arange(10) \n",
    "result = np.split(arr, [3,7]) #split after index 3 and 7\n",
    "for i in result:\n",
    "    print(i)"
   ]
  },
  {
   "cell_type": "code",
   "execution_count": 42,
   "id": "a304bdcb-ee66-45dc-88d3-d9d986cf4cb1",
   "metadata": {},
   "outputs": [
    {
     "name": "stdout",
     "output_type": "stream",
     "text": [
      "[[1 2 3]]\n",
      "[[4 5 6]]\n",
      "[[7 8 9]]\n"
     ]
    }
   ],
   "source": [
    "# 2D array splitting (Advanced)\n",
    "arr_2d = np.array([[1,2,3], [4,5,6], [7,8,9]])\n",
    "# Split vertically (rows)\n",
    "result = np.split(arr_2d, 3, axis=0)\n",
    "for i in result:\n",
    "    print(i)"
   ]
  },
  {
   "cell_type": "code",
   "execution_count": 44,
   "id": "e1dff9a3-0d33-485d-b342-34cf440ba6c4",
   "metadata": {},
   "outputs": [
    {
     "name": "stdout",
     "output_type": "stream",
     "text": [
      "[[1]\n",
      " [4]\n",
      " [7]]\n",
      "[[2]\n",
      " [5]\n",
      " [8]]\n",
      "[[3]\n",
      " [6]\n",
      " [9]]\n"
     ]
    }
   ],
   "source": [
    "#Split horizontally (column)\n",
    "result = np.split(arr_2d, 3, axis=1)\n",
    "for i in result:\n",
    "    print(i)"
   ]
  },
  {
   "cell_type": "code",
   "execution_count": 45,
   "id": "4bbe9346-7e96-486f-a696-132182988714",
   "metadata": {},
   "outputs": [
    {
     "name": "stdout",
     "output_type": "stream",
     "text": [
      "[array([[1, 2],\n",
      "       [5, 6]]), array([[3, 4],\n",
      "       [7, 8]])]\n"
     ]
    }
   ],
   "source": [
    "#Convenience functions\n",
    "# hsplit Horizontal splitting \n",
    "arr = np.array([[1,2,3,4], [5,6,7,8]])\n",
    "\n",
    "#split into 2 equal columns\n",
    "result = np.hsplit(arr, 2)\n",
    "print(result)"
   ]
  },
  {
   "cell_type": "code",
   "execution_count": 46,
   "id": "78b42561-461c-4ff6-a386-b04faaff7cf4",
   "metadata": {},
   "outputs": [
    {
     "name": "stdout",
     "output_type": "stream",
     "text": [
      "[[1]\n",
      " [5]]\n",
      "[[2 3]\n",
      " [6 7]]\n",
      "[[4]\n",
      " [8]]\n"
     ]
    }
   ],
   "source": [
    "#Split at specific indices\n",
    "result = np.hsplit(arr, [1,3])\n",
    "for i in result:\n",
    "    print(i)"
   ]
  },
  {
   "cell_type": "code",
   "execution_count": 47,
   "id": "1667aed3-baf6-4a68-a537-53b26cb685a6",
   "metadata": {},
   "outputs": [
    {
     "name": "stdout",
     "output_type": "stream",
     "text": [
      "[[1 2 3 4]]\n",
      "[[5 6 7 8]]\n"
     ]
    }
   ],
   "source": [
    "#Vertical splitting\n",
    "#vsplit\n",
    "result = np.split(arr, 2)\n",
    "for i in result:\n",
    "    print(i)"
   ]
  },
  {
   "cell_type": "code",
   "execution_count": 48,
   "id": "67fc7112-520b-4623-a5d9-fcfebf920a19",
   "metadata": {},
   "outputs": [
    {
     "name": "stdout",
     "output_type": "stream",
     "text": [
      "[array([[1, 2, 3, 4]]), array([[5, 6, 7, 8]]), array([], shape=(0, 4), dtype=int32)]\n"
     ]
    }
   ],
   "source": [
    "# to split at specific indices\n",
    "result = np.vsplit(arr, [1,3]) \n",
    "print(result)"
   ]
  },
  {
   "cell_type": "code",
   "execution_count": 49,
   "id": "e567c266-0e47-4841-95c9-564e1e62a76e",
   "metadata": {},
   "outputs": [],
   "source": [
    "# Advanced Splitting techniques Optional\n",
    "#Depth-wise splitting dsplit()"
   ]
  },
  {
   "cell_type": "code",
   "execution_count": 50,
   "id": "b8c99f86-7032-4a45-afdf-e57df85b0ee4",
   "metadata": {},
   "outputs": [
    {
     "name": "stdout",
     "output_type": "stream",
     "text": [
      "[[[0]\n",
      "  [2]]\n",
      "\n",
      " [[4]\n",
      "  [6]]]\n",
      "[[[1]\n",
      "  [3]]\n",
      "\n",
      " [[5]\n",
      "  [7]]]\n"
     ]
    }
   ],
   "source": [
    "arr_3d = np.arange(8).reshape(2,2,2)\n",
    "\n",
    "#Split along depth (3rd axis)\n",
    "result = np.dsplit(arr_3d, 2)\n",
    "for i in result:\n",
    "    print(i)"
   ]
  },
  {
   "cell_type": "code",
   "execution_count": 51,
   "id": "0d980254-bd91-41a8-bed8-f1e1d1fdf08a",
   "metadata": {},
   "outputs": [
    {
     "name": "stdout",
     "output_type": "stream",
     "text": [
      "[0 1 2 3 4 5 6 7 8 9]\n"
     ]
    }
   ],
   "source": [
    "#Array prtitioning (np.array_split)\n",
    "arr = np.arange(10)\n",
    "print(arr)"
   ]
  },
  {
   "cell_type": "code",
   "execution_count": 52,
   "id": "42178a6c-29e1-4ea3-9591-b63565d58305",
   "metadata": {},
   "outputs": [
    {
     "name": "stdout",
     "output_type": "stream",
     "text": [
      "[0 1 2 3]\n",
      "[4 5 6]\n",
      "[7 8 9]\n"
     ]
    }
   ],
   "source": [
    "#Split into 3 parts (uneven division allowd)\n",
    "result = np.array_split(arr, 3)\n",
    "for i in result:\n",
    "    print(i)"
   ]
  },
  {
   "cell_type": "markdown",
   "id": "fc4c0ec6-6359-4f2b-b758-30c766d7e14f",
   "metadata": {},
   "source": [
    "#### Machine Learning"
   ]
  },
  {
   "cell_type": "code",
   "execution_count": 53,
   "id": "86652d70-1ad2-46d5-8aa8-f488c2892002",
   "metadata": {},
   "outputs": [
    {
     "name": "stdout",
     "output_type": "stream",
     "text": [
      "(80, 5) (20, 5)\n"
     ]
    }
   ],
   "source": [
    "data = np.random.rand(100, 5)  # 100 samples, 5 features\n",
    "train, test = np.split(data, [int(0.8*len(data))])\n",
    "print(train.shape, test.shape)  # (80, 5), (20, 5)"
   ]
  },
  {
   "cell_type": "markdown",
   "id": "ae023d53-ee2c-4298-bba7-79b13dea0825",
   "metadata": {},
   "source": [
    "#### Time Series (Window splittin)\n"
   ]
  },
  {
   "cell_type": "code",
   "execution_count": 54,
   "id": "8fdac4f9-e17b-4683-ba03-722c2a71c82f",
   "metadata": {},
   "outputs": [
    {
     "name": "stdout",
     "output_type": "stream",
     "text": [
      "10\n"
     ]
    }
   ],
   "source": [
    "time_series = np.arange(100)\n",
    "windows = np.split(time_series, range(10, 100, 10))\n",
    "print(len(windows))  # 10 windows (9 of size 10, last of size 10)"
   ]
  },
  {
   "cell_type": "markdown",
   "id": "6bfc4f64-1c68-418b-ae6c-921b995e84b4",
   "metadata": {},
   "source": [
    "# Section 08 05 solving equations"
   ]
  },
  {
   "cell_type": "raw",
   "id": "c7cf29ec-d145-4ab4-bc46-21ef4ec258ae",
   "metadata": {},
   "source": [
    "3x + 5y = 7\n",
    "2x + 3y = 8\n",
    "\n",
    "A = 3  5\n",
    "    2  3\n",
    "\n",
    "b = [7  \n",
    "     8]\n",
    "X = [x\n",
    "     y]\n",
    "\n",
    "X = ?\n",
    "x = ?\n",
    "y = ?\n"
   ]
  },
  {
   "cell_type": "code",
   "execution_count": 56,
   "id": "b2f6d587-9040-4d72-805f-d2569309813f",
   "metadata": {},
   "outputs": [
    {
     "name": "stdout",
     "output_type": "stream",
     "text": [
      "[ 19. -10.]\n"
     ]
    }
   ],
   "source": [
    "A = np.array([[3,5], [2,3]])\n",
    "b = np.array([7, 8])\n",
    "x = np.linalg.solve(A, b)\n",
    "print(x)"
   ]
  },
  {
   "cell_type": "code",
   "execution_count": 58,
   "id": "306fabda-abb1-4e8d-9112-252e9344ec92",
   "metadata": {},
   "outputs": [
    {
     "name": "stdout",
     "output_type": "stream",
     "text": [
      "-0.9999999999999991\n"
     ]
    }
   ],
   "source": [
    "Adet = np.linalg.det(A)\n",
    "print(Adet)"
   ]
  },
  {
   "cell_type": "markdown",
   "id": "ee97b121-3243-4bf5-a90f-7e26957ae51b",
   "metadata": {},
   "source": [
    "# Section 09 01 rand, randn, randint"
   ]
  },
  {
   "cell_type": "code",
   "execution_count": 61,
   "id": "a0001ac4-341b-469b-83cf-c64b4e5ae028",
   "metadata": {},
   "outputs": [
    {
     "data": {
      "text/plain": [
       "0.8736230963668719"
      ]
     },
     "execution_count": 61,
     "metadata": {},
     "output_type": "execute_result"
    }
   ],
   "source": [
    "import numpy as np\n",
    "#single random number\n",
    "np.random.rand()"
   ]
  },
  {
   "cell_type": "code",
   "execution_count": 62,
   "id": "f67e9a64-9f56-4b95-a93e-5ed086592760",
   "metadata": {},
   "outputs": [
    {
     "name": "stdout",
     "output_type": "stream",
     "text": [
      "[0.87607618 0.25279773 0.67129423 0.08474769 0.47518961]\n"
     ]
    }
   ],
   "source": [
    "# 5 numbers\n",
    "print(np.random.rand(5))"
   ]
  },
  {
   "cell_type": "code",
   "execution_count": 63,
   "id": "7c57d048-c902-4632-974a-94eafac35d2e",
   "metadata": {},
   "outputs": [
    {
     "name": "stdout",
     "output_type": "stream",
     "text": [
      "[[0.78974001 0.92363605 0.97623188]\n",
      " [0.25910654 0.6393619  0.76678975]\n",
      " [0.1447317  0.75872617 0.96791279]]\n"
     ]
    }
   ],
   "source": [
    "# 2D array\n",
    "print(np.random.rand(3,3))"
   ]
  },
  {
   "cell_type": "code",
   "execution_count": 64,
   "id": "4cde0dfb-bbc9-4526-8c66-26498342da03",
   "metadata": {},
   "outputs": [],
   "source": [
    "#randn Stand Normal (Gausian) Distribution)\n",
    "# Generate #'s from a standard normal distribution (mean=0, std=1)\n",
    "# useful for ML and Statistics"
   ]
  },
  {
   "cell_type": "code",
   "execution_count": 70,
   "id": "3aa59cad-db17-40e3-b2aa-fee5cfa11d14",
   "metadata": {},
   "outputs": [
    {
     "name": "stdout",
     "output_type": "stream",
     "text": [
      "-0.4588271802024151\n"
     ]
    }
   ],
   "source": [
    "# Single number from normal distribution\n",
    "print(np.random.randn())"
   ]
  },
  {
   "cell_type": "code",
   "execution_count": 71,
   "id": "8031c98a-96c3-413c-a88f-064cd364630e",
   "metadata": {},
   "outputs": [
    {
     "name": "stdout",
     "output_type": "stream",
     "text": [
      "[-0.14813328 -0.06875389  1.05206442 -0.91807893  0.5504296 ]\n"
     ]
    }
   ],
   "source": [
    "# array of normally distributed numbers: \n",
    "print(np.random.randn(5))"
   ]
  },
  {
   "cell_type": "code",
   "execution_count": 72,
   "id": "59b8037f-d4c6-4637-9817-1fc4a835f4df",
   "metadata": {},
   "outputs": [
    {
     "name": "stdout",
     "output_type": "stream",
     "text": [
      "[[ 0.6296875   0.19192107 -1.56995761 -1.31952166]\n",
      " [-0.28507722 -0.9947362  -2.41918538  0.29650935]]\n"
     ]
    }
   ],
   "source": [
    "# 2D array \n",
    "print(np.random.randn(2,4))"
   ]
  },
  {
   "cell_type": "markdown",
   "id": "efda0f80-bf1b-4369-98ac-f0252254b23d",
   "metadata": {},
   "source": [
    "#### randint"
   ]
  },
  {
   "cell_type": "code",
   "execution_count": 73,
   "id": "77e89230-90c9-470d-84ac-36c736009feb",
   "metadata": {},
   "outputs": [
    {
     "name": "stdout",
     "output_type": "stream",
     "text": [
      "8\n"
     ]
    }
   ],
   "source": [
    "#Single integer\n",
    "print(np.random.randint(0,10)) "
   ]
  },
  {
   "cell_type": "code",
   "execution_count": 74,
   "id": "30e4e251-c4bf-40b4-8e36-aa793a12a27d",
   "metadata": {},
   "outputs": [
    {
     "name": "stdout",
     "output_type": "stream",
     "text": [
      "[29 12 49 32 22]\n"
     ]
    }
   ],
   "source": [
    "# Array of 10 integers randomly generated between 1 and 50:\n",
    "print(np.random.randint(1, 50, 5)) "
   ]
  },
  {
   "cell_type": "code",
   "execution_count": 75,
   "id": "92595162-be2c-4281-99b8-46ca0ac68234",
   "metadata": {},
   "outputs": [
    {
     "name": "stdout",
     "output_type": "stream",
     "text": [
      "[[7 6 9]\n",
      " [5 6 4]\n",
      " [5 5 4]]\n"
     ]
    }
   ],
   "source": [
    "# 2D array (3X3) of integers\n",
    "print(np.random.randint(0, 10, (3,3)))"
   ]
  },
  {
   "cell_type": "code",
   "execution_count": 76,
   "id": "345070ae-1cc5-4ad1-b980-b1b590cca209",
   "metadata": {},
   "outputs": [
    {
     "name": "stdout",
     "output_type": "stream",
     "text": [
      "[[9 2 1]\n",
      " [0 6 6]\n",
      " [8 0 0]]\n"
     ]
    }
   ],
   "source": [
    "print(np.random.randint(low=0, high=10, size=(3,3)))"
   ]
  },
  {
   "cell_type": "code",
   "execution_count": 77,
   "id": "5f347a2c-abc9-4d98-bd41-0dcd556f4b77",
   "metadata": {},
   "outputs": [
    {
     "name": "stdout",
     "output_type": "stream",
     "text": [
      "[0.37454012 0.95071431 0.73199394]\n"
     ]
    }
   ],
   "source": [
    "#Seeding\n",
    "np.random.seed(42) # fixes randomness\n",
    "print(np.random.rand(3))\n"
   ]
  },
  {
   "cell_type": "code",
   "execution_count": 79,
   "id": "28dba543-5161-43ef-90b1-67fd8222e7c2",
   "metadata": {},
   "outputs": [
    {
     "name": "stdout",
     "output_type": "stream",
     "text": [
      "[4 6 9]\n"
     ]
    }
   ],
   "source": [
    "print(np.random.randint(0,10, 3))"
   ]
  },
  {
   "cell_type": "markdown",
   "id": "2afdd603-6d8c-4bff-b889-6c9ec4a4fcf8",
   "metadata": {},
   "source": [
    "##### np.random.choice()"
   ]
  },
  {
   "cell_type": "code",
   "execution_count": 80,
   "id": "549d6ac0-487e-4fb2-abe8-49380b367f94",
   "metadata": {},
   "outputs": [],
   "source": [
    "arr = np.array([10, 20, 30, 40, 50])"
   ]
  },
  {
   "cell_type": "code",
   "execution_count": 81,
   "id": "b8fd53b8-c861-40d5-b710-9e811f5d95e8",
   "metadata": {},
   "outputs": [
    {
     "name": "stdout",
     "output_type": "stream",
     "text": [
      "30\n"
     ]
    }
   ],
   "source": [
    "#single random choice:\n",
    "print(np.random.choice(arr))"
   ]
  },
  {
   "cell_type": "code",
   "execution_count": 82,
   "id": "4a624c89-8705-4781-b360-11a513be40ef",
   "metadata": {},
   "outputs": [
    {
     "name": "stdout",
     "output_type": "stream",
     "text": [
      "[30 30 50]\n"
     ]
    }
   ],
   "source": [
    "#multiple:\n",
    "print(np.random.choice(arr, 3))"
   ]
  },
  {
   "cell_type": "code",
   "execution_count": 84,
   "id": "7ad77e6a-e5fe-421e-bebf-aa9a0244156f",
   "metadata": {},
   "outputs": [
    {
     "name": "stdout",
     "output_type": "stream",
     "text": [
      "[10 20 30]\n"
     ]
    }
   ],
   "source": [
    "# no replacement (no dupes)\n",
    "print(np.random.choice(arr, 3, replace=False))"
   ]
  },
  {
   "cell_type": "markdown",
   "id": "d496d676-a6c1-4c1f-a185-a844b0dd723d",
   "metadata": {},
   "source": [
    "##### Shuffle"
   ]
  },
  {
   "cell_type": "code",
   "execution_count": 85,
   "id": "39ed3151-cf96-4a05-8d16-10d37ed40a2f",
   "metadata": {},
   "outputs": [
    {
     "name": "stdout",
     "output_type": "stream",
     "text": [
      "[0 1 2 3 4 5 6 7 8 9]\n"
     ]
    }
   ],
   "source": [
    "arr = np.arange(10) \n",
    "print(arr)"
   ]
  },
  {
   "cell_type": "code",
   "execution_count": 89,
   "id": "19fe27a9-fe35-4263-beea-c25f26c8f4fd",
   "metadata": {},
   "outputs": [
    {
     "name": "stdout",
     "output_type": "stream",
     "text": [
      "[3 1 8 0 5 9 4 7 2 6]\n"
     ]
    }
   ],
   "source": [
    "np.random.shuffle(arr)\n",
    "print(arr)"
   ]
  },
  {
   "cell_type": "code",
   "execution_count": 90,
   "id": "c5b8da64-0719-40e0-95ac-ff7dd3a50c6a",
   "metadata": {},
   "outputs": [
    {
     "name": "stdout",
     "output_type": "stream",
     "text": [
      "50.405552943382034 10.292940554009762\n"
     ]
    }
   ],
   "source": [
    "# Custom probability Distributions\n",
    "samples = np.random.normal(50, 10, 1000)\n",
    "print(samples.mean(), samples.std())"
   ]
  },
  {
   "cell_type": "code",
   "execution_count": 91,
   "id": "009e4fb4-ba02-49c2-94cc-d346781eace6",
   "metadata": {},
   "outputs": [
    {
     "name": "stdout",
     "output_type": "stream",
     "text": [
      "0.4504338398329548\n",
      "28\n"
     ]
    }
   ],
   "source": [
    "from secrets import token_bytes\n",
    "import numpy as np\n",
    "\n",
    "# Cryptographically secure seed\n",
    "secure_seed = int.from_bytes(token_bytes(4), 'big')\n",
    "rng = np.random.default_rng(secure_seed)\n",
    "\n",
    "# Now use rng for secure randomness\n",
    "print(rng.random())  # Secure float in [0,1)\n",
    "print(rng.integers(0, 100))  # Secure integer"
   ]
  },
  {
   "cell_type": "markdown",
   "id": "deac2a49-f793-4aec-a36b-8e6475d8dfa5",
   "metadata": {},
   "source": [
    "# Section 09 02 "
   ]
  },
  {
   "cell_type": "code",
   "execution_count": 92,
   "id": "46ec286b-3e4b-406a-988a-6a30cd71e1fc",
   "metadata": {},
   "outputs": [],
   "source": [
    "#Probability distribution is a function describing the \n",
    "#likelihood of different outcomes for a random variable."
   ]
  },
  {
   "cell_type": "markdown",
   "id": "f484b48c-24b5-4198-ad05-02ee7c18631b",
   "metadata": {},
   "source": [
    "#### Uniform Distribution"
   ]
  },
  {
   "cell_type": "code",
   "execution_count": 93,
   "id": "df80ceb2-af8e-4b49-954b-5dc8a70f1b8f",
   "metadata": {},
   "outputs": [],
   "source": [
    "#Uniform Distribution: All outcomes in a range qre equally likey\n",
    "#Gnerating Uniform Samples:\n"
   ]
  },
  {
   "cell_type": "code",
   "execution_count": 98,
   "id": "5169bc4b-8129-47b8-86a7-0945a5d8b00b",
   "metadata": {},
   "outputs": [
    {
     "name": "stdout",
     "output_type": "stream",
     "text": [
      "[1.05259185e-01 1.67359733e-01 9.72025256e-01 2.28486747e-01\n",
      " 9.77452118e-01 5.31912707e-01 1.35789047e-01 9.93022028e-02\n",
      " 2.08864071e-01 9.25637330e-01 4.14150224e-01 3.95434268e-01\n",
      " 3.13206261e-01 1.47061851e-01 4.87851197e-01 1.30047783e-01\n",
      " 8.35480236e-01 3.70396986e-01 3.74803568e-01 4.74006428e-01\n",
      " 4.44127713e-01 9.94857973e-01 5.45381121e-01 8.82017038e-02\n",
      " 6.06877342e-01 1.51584293e-01 3.09376447e-02 9.70742154e-01\n",
      " 7.73538892e-01 9.80108992e-01 4.77878448e-01 5.32257531e-01\n",
      " 1.68336956e-01 2.46907427e-01 8.38549215e-01 3.56185647e-01\n",
      " 8.26814974e-01 7.09013724e-01 1.77170925e-01 5.07446366e-01\n",
      " 6.77387322e-01 2.35037215e-01 8.30688511e-01 5.44827658e-01\n",
      " 1.65242050e-01 5.82984426e-01 9.99713804e-01 1.50521492e-01\n",
      " 8.16756930e-01 2.07309003e-01 7.82388329e-01 7.34577923e-01\n",
      " 3.00489386e-01 3.25823118e-01 7.92521392e-01 4.61445512e-01\n",
      " 7.30818029e-01 1.47984147e-01 8.52557782e-01 7.10884717e-01\n",
      " 9.06942809e-01 1.32372379e-01 5.93014500e-01 5.99120585e-01\n",
      " 3.53460741e-01 4.58466425e-01 3.79815633e-02 7.45860039e-01\n",
      " 5.49322479e-01 5.77410519e-02 6.80755893e-01 4.66782077e-01\n",
      " 3.44612594e-02 9.69607727e-01 9.49112143e-01 5.12902416e-01\n",
      " 9.36724207e-02 7.54621222e-01 4.91931100e-01 3.02447478e-01\n",
      " 4.91418178e-01 5.22444145e-01 5.62711699e-01 4.41223714e-01\n",
      " 6.05755303e-01 9.18734711e-01 3.62268087e-01 7.25716463e-01\n",
      " 8.94452557e-01 4.55979276e-01 4.43455836e-01 6.02116985e-01\n",
      " 5.91406759e-01 8.06589342e-01 4.76483384e-01 9.96122950e-01\n",
      " 5.94715689e-02 3.16784858e-03 6.40198312e-01 2.98434912e-01\n",
      " 2.40382389e-01 3.11899080e-01 2.56047565e-01 3.07900497e-02\n",
      " 9.71533042e-01 2.20745488e-01 7.34029763e-01 7.62596395e-01\n",
      " 9.29257398e-01 3.05494571e-02 8.72048338e-01 5.27226181e-01\n",
      " 6.32544110e-01 6.44470277e-01 8.19797805e-01 3.33407322e-01\n",
      " 7.33051190e-01 5.28578110e-01 7.93394014e-01 9.90546033e-01\n",
      " 2.00651017e-01 9.94648642e-01 8.98121543e-02 2.31754790e-03\n",
      " 4.41619362e-02 3.41782405e-01 6.32906331e-01 6.90295409e-02\n",
      " 5.66581453e-03 9.37091028e-01 8.21926636e-01 8.09183171e-01\n",
      " 8.84424276e-01 7.00034273e-01 1.04404130e-01 3.99100188e-01\n",
      " 7.23149486e-01 2.80334461e-01 6.87406364e-01 2.44984483e-02\n",
      " 3.06137341e-01 5.49130336e-01 6.32089830e-01 5.77040664e-01\n",
      " 6.97756276e-01 6.08874824e-03 1.00941200e-01 8.68944252e-01\n",
      " 6.81748644e-01 1.12931643e-01 8.42074437e-01 2.42231218e-01\n",
      " 4.78259884e-01 1.45196513e-01 7.10110056e-01 6.66854421e-01\n",
      " 2.11112471e-01 8.63400767e-01 4.01306024e-01 2.92515091e-01\n",
      " 1.52329589e-01 2.66168013e-01 2.20269212e-02 5.83257492e-01\n",
      " 8.42230746e-01 5.48980449e-01 2.19273962e-01 3.36691782e-02\n",
      " 2.14628073e-01 4.16121428e-01 7.59611429e-01 1.87842853e-01\n",
      " 7.19791453e-01 8.66933468e-01 4.53946848e-01 8.21431992e-01\n",
      " 5.54657348e-01 6.37090837e-01 5.26278460e-01 4.63172717e-01\n",
      " 2.34653442e-01 3.03194059e-01 2.89970119e-01 5.63288931e-01\n",
      " 1.19953693e-01 9.16791691e-01 7.20655145e-01 4.01445631e-01\n",
      " 1.58624145e-01 8.81992170e-01 8.23778090e-01 7.21721553e-01\n",
      " 2.71547047e-01 4.02446637e-01 1.02748252e-01 1.89039525e-01\n",
      " 7.83016637e-01 7.15038719e-01 5.93485763e-01 8.95726726e-01\n",
      " 5.83266518e-01 4.66968000e-01 3.40370746e-01 9.40448506e-01\n",
      " 8.27154615e-02 9.30887372e-01 8.26714660e-01 1.29929925e-01\n",
      " 5.64984358e-01 8.66547982e-01 5.71809164e-01 9.07199822e-01\n",
      " 9.42983817e-01 4.22384522e-01 3.77313661e-01 9.36321154e-01\n",
      " 6.75140061e-01 1.16022681e-01 4.22917492e-02 5.64629051e-01\n",
      " 9.30170965e-01 8.44248702e-01 6.75847746e-01 1.39115849e-01\n",
      " 2.54231384e-01 8.75511227e-01 1.82807237e-01 2.78439408e-01\n",
      " 1.29600651e-01 6.76108231e-01 9.43982305e-01 2.68968032e-01\n",
      " 4.75406608e-01 6.34339740e-01 9.99466248e-01 1.04808065e-01\n",
      " 4.98570800e-01 3.85120120e-01 8.65820165e-01 4.75967731e-01\n",
      " 1.10977525e-01 6.34424145e-01 7.70780618e-01 2.88125167e-03\n",
      " 8.58956685e-01 1.86023000e-01 5.52069365e-01 4.15797501e-01\n",
      " 7.19653817e-01 3.71161615e-01 8.69763177e-01 7.30496361e-01\n",
      " 6.47713171e-01 7.96240596e-01 7.54023035e-01 3.59386749e-02\n",
      " 3.94734354e-01 9.30807297e-01 1.25724269e-01 7.37096550e-01\n",
      " 9.74591811e-01 5.21986290e-02 6.82193881e-01 4.68154141e-01\n",
      " 5.79175255e-01 8.53413365e-02 4.30069519e-02 6.66866661e-01\n",
      " 8.23309430e-01 7.82015335e-01 5.43805728e-01 9.98668211e-02\n",
      " 6.88044444e-01 2.41888884e-01 9.11068703e-01 8.38265360e-01\n",
      " 7.09382967e-01 9.48845956e-01 3.14218215e-02 7.36200425e-01\n",
      " 3.30242779e-01 9.06065886e-01 2.66675197e-01 7.24856499e-01\n",
      " 8.77647020e-01 4.16568184e-02 3.97647580e-01 7.62309032e-01\n",
      " 4.54918890e-01 2.67252630e-01 2.19805349e-01 1.31518267e-01\n",
      " 8.57129560e-01 5.75355403e-01 7.63849450e-02 3.82580324e-01\n",
      " 3.67733651e-01 1.81739191e-01 4.35507625e-01 3.32099365e-01\n",
      " 3.41803705e-01 7.39026558e-01 2.23263386e-01 6.41859959e-01\n",
      " 5.70649624e-01 5.68092512e-01 6.63007346e-01 5.48382036e-01\n",
      " 8.79255115e-01 6.75580092e-01 5.46963251e-01 8.29763120e-01\n",
      " 6.06146565e-01 2.91144248e-01 2.07094918e-01 1.52327786e-01\n",
      " 8.99455213e-01 7.10135432e-01 9.37378438e-01 6.03291806e-01\n",
      " 4.73400881e-01 5.97164890e-02 6.71642282e-01 5.82208760e-01\n",
      " 9.90208894e-01 2.39158778e-01 5.30737355e-01 6.50957335e-01\n",
      " 6.44591175e-01 5.61293543e-01 7.76928010e-01 2.04981210e-01\n",
      " 7.25627200e-01 6.19734571e-01 8.96075112e-01 8.47194439e-01\n",
      " 3.15147039e-01 2.76237325e-01 9.81653324e-01 5.27265181e-01\n",
      " 9.06420964e-01 1.63881024e-01 6.42818915e-01 8.09860187e-01\n",
      " 9.47395250e-01 3.37340141e-01 7.24981170e-01 5.38813009e-01\n",
      " 6.06289261e-02 6.89999737e-01 6.90096558e-01 9.30606805e-01\n",
      " 4.97312446e-01 2.30250921e-01 4.45638234e-02 4.15642187e-01\n",
      " 3.01916700e-01 7.61088306e-01 3.54267765e-01 9.49071196e-01\n",
      " 9.62310203e-01 6.20908590e-01 9.28660287e-01 7.60854345e-01\n",
      " 5.46859641e-01 1.80307935e-01 4.58597944e-01 5.60874463e-01\n",
      " 8.63961581e-01 4.81333377e-01 8.97674673e-01 6.74348979e-01\n",
      " 1.36999063e-01 9.94981369e-01 5.27232661e-01 3.91858296e-01\n",
      " 6.59113764e-01 1.08893314e-01 6.36538647e-01 4.98236000e-01\n",
      " 4.06674070e-01 9.53020021e-01 5.22539717e-01 2.19117479e-01\n",
      " 4.58963479e-01 9.19387405e-01 1.76095471e-01 2.13957039e-01\n",
      " 1.30295678e-02 1.41900494e-02 8.29391627e-01 7.32122607e-01\n",
      " 3.55041056e-01 6.98311157e-01 3.95205926e-01 9.52896796e-01\n",
      " 9.67052681e-01 3.92793776e-01 8.54221906e-01 7.73089042e-01\n",
      " 3.09999937e-01 2.32039829e-01 4.58234650e-01 7.81348841e-01\n",
      " 9.60167785e-01 7.63579069e-01 8.55206985e-01 6.03064306e-01\n",
      " 8.35407831e-01 7.84420858e-01 3.76985542e-01 5.51990302e-01\n",
      " 8.04753122e-01 4.60567342e-02 8.08079282e-01 1.77888124e-01\n",
      " 5.14683617e-01 8.08275440e-01 2.53821078e-01 2.45807439e-01\n",
      " 4.02764398e-01 8.94642798e-01 4.42781437e-04 9.01383097e-01\n",
      " 1.53807025e-01 9.90086376e-01 9.54846993e-01 4.94675190e-01\n",
      " 5.12720248e-01 4.81549340e-01 6.35443646e-01 9.07217022e-02\n",
      " 3.26179483e-02 5.77029284e-02 4.44365349e-01 2.75547939e-01\n",
      " 6.22039562e-01 9.92442289e-01 3.86323173e-01 5.73841254e-01\n",
      " 4.15603896e-01 8.47271668e-01 9.02236403e-01 8.77355612e-01\n",
      " 9.74372239e-01 2.75191851e-02 8.39816162e-01 7.51772173e-01\n",
      " 2.28694409e-01 9.56320093e-01 1.48177928e-01 6.79549927e-01\n",
      " 2.24890217e-01 4.31380649e-01 7.19159897e-01 5.63324642e-01\n",
      " 4.27501831e-01 3.26338431e-01 8.39659656e-01 1.43814350e-01\n",
      " 4.30102877e-01 9.03757572e-01 8.45849550e-01 4.00941762e-01\n",
      " 7.63108364e-01 8.23160831e-01 8.88887424e-01 5.44505769e-01\n",
      " 2.04460886e-01 2.55309077e-01 2.95694674e-01 5.93802481e-01\n",
      " 3.28096241e-02 6.36042469e-01 3.64354238e-01 2.95241802e-01\n",
      " 8.79496571e-01 4.60002396e-01 9.50530455e-02 8.26746768e-01\n",
      " 4.76412574e-02 7.26749224e-01 7.73906222e-01 3.52602606e-01\n",
      " 8.24787856e-01 5.15659406e-01 4.63293653e-01 4.54032815e-02\n",
      " 2.90029194e-01 9.31009971e-01 3.91823963e-01 5.46700521e-01\n",
      " 5.32021679e-01 5.90431090e-01 6.13309556e-02 3.62176255e-01\n",
      " 7.23128274e-01 2.00560251e-01 2.03578378e-01 1.00906067e-02\n",
      " 4.37481927e-01 8.82734381e-01 5.19009436e-02 1.91118709e-01\n",
      " 3.10084538e-01 7.31724737e-01 6.40635593e-01 4.15943905e-01\n",
      " 7.59068939e-01 6.09631012e-01 8.96040800e-01 8.18026749e-01\n",
      " 2.52813606e-01 2.71438578e-01 1.25356476e-01 3.36964726e-01\n",
      " 9.99543919e-01 4.05751169e-01 2.20488435e-01 7.62482884e-01\n",
      " 5.42471003e-01 1.49601450e-01 3.80689681e-01 4.14469716e-01\n",
      " 7.53829701e-01 2.06713689e-02 2.69019647e-01 5.17596301e-01\n",
      " 2.68846742e-01 6.28434047e-01 4.81867479e-01 3.61710255e-01\n",
      " 9.49208627e-01 6.32159499e-01 1.29941372e-01 5.60091697e-01\n",
      " 7.80731853e-01 7.08489697e-01 1.72089229e-01 9.72419999e-01\n",
      " 4.48813646e-01 1.59025004e-01 1.80195754e-01 9.82349922e-02\n",
      " 8.03518108e-01 1.22030494e-01 1.25125257e-01 8.50471615e-01\n",
      " 3.44604084e-01 3.08579043e-02 5.18952995e-02 1.42170447e-01\n",
      " 2.13393348e-01 6.65146194e-01 1.57326280e-01 1.18874391e-01\n",
      " 7.64719141e-01 6.71055284e-01 4.35324221e-01 5.49309771e-01\n",
      " 3.11984020e-01 4.82500420e-01 5.06672649e-01 3.87237271e-01\n",
      " 9.06572211e-01 1.60618650e-02 7.82171263e-01 1.24382831e-01\n",
      " 7.97547361e-01 6.15911916e-01 8.43278091e-01 9.75143256e-02\n",
      " 5.58980634e-01 5.01087880e-01 7.06193183e-01 5.34290552e-01\n",
      " 5.40734567e-01 4.29595944e-01 3.08834424e-01 4.82264361e-01\n",
      " 1.18492359e-01 9.61513339e-01 7.14410764e-01 9.52467117e-01\n",
      " 2.26727382e-01 8.79341020e-01 8.08789985e-01 6.77152412e-01\n",
      " 6.25029186e-01 3.16549665e-01 8.16410785e-01 5.01515461e-01\n",
      " 7.08915759e-02 3.12863161e-01 9.35297099e-01 8.50680261e-01\n",
      " 9.81905698e-01 6.27993383e-01 2.47510073e-01 1.62815050e-01\n",
      " 1.86914441e-01 1.97956583e-02 3.90682111e-01 1.91427680e-01\n",
      " 4.11655460e-01 9.34994432e-01 4.30540210e-01 8.77984497e-01\n",
      " 6.05504767e-01 2.47131555e-01 3.55854759e-01 8.39195358e-02\n",
      " 3.33462594e-01 6.77540946e-01 7.21110929e-02 2.05401408e-01\n",
      " 3.81441041e-01 9.82049537e-01 7.84861823e-01 7.33486746e-01\n",
      " 1.16190957e-01 7.80995894e-01 7.85268812e-01 6.01102696e-01\n",
      " 9.90361782e-01 3.25253906e-01 9.41272448e-01 9.14731115e-01\n",
      " 1.14806597e-02 4.50116526e-01 9.77104233e-01 1.03121362e-01\n",
      " 5.47784694e-01 9.78957507e-01 5.55495424e-01 1.89815303e-01\n",
      " 5.82183230e-01 2.04440574e-01 5.19704263e-01 7.40422179e-02\n",
      " 6.05482669e-01 5.16789939e-01 7.40161369e-01 6.30700471e-01\n",
      " 5.49606269e-01 6.89778849e-01 1.43941914e-01 5.95359661e-01\n",
      " 1.72110603e-01 9.25522208e-01 6.83341048e-02 4.30374750e-01\n",
      " 6.95797478e-01 4.58022212e-01 9.20952532e-02 5.53379016e-01\n",
      " 6.41631909e-01 7.03792311e-01 3.73259814e-01 5.63659971e-01\n",
      " 4.50686475e-01 6.72056039e-01 5.83556967e-01 5.25756220e-01\n",
      " 2.49524367e-01 2.01851775e-03 1.74081675e-01 1.17066041e-01\n",
      " 4.49084745e-01 6.12258151e-01 2.13085009e-01 9.39057096e-01\n",
      " 6.68212922e-03 7.72301015e-01 6.25204770e-01 3.73554801e-01\n",
      " 5.04889444e-02 6.27486572e-01 3.85613513e-01 9.36267139e-01\n",
      " 5.41990075e-01 9.39651511e-01 2.20483693e-01 7.25725910e-01\n",
      " 6.17249021e-01 7.39408230e-01 2.14667864e-01 6.64994516e-01\n",
      " 4.98040393e-01 7.42824975e-01 3.27044644e-01 8.90057025e-01\n",
      " 8.43013146e-02 8.07189319e-01 8.61319626e-01 8.17252311e-01\n",
      " 5.12726394e-01 4.38384980e-01 9.96262287e-01 2.29171951e-01\n",
      " 5.46875966e-01 6.70675525e-01 7.00867636e-01 2.04024666e-01\n",
      " 6.53994092e-01 8.18369566e-01 5.00185768e-02 9.11521293e-01\n",
      " 2.95040551e-02 3.55971032e-01 1.58131962e-02 7.71451685e-02\n",
      " 9.11168285e-01 3.54860831e-01 4.24771530e-01 2.15344381e-01\n",
      " 5.97095770e-01 5.94803215e-01 3.72200392e-01 3.33034872e-01\n",
      " 8.84964308e-01 3.83284240e-01 4.93500992e-01 2.83304762e-01\n",
      " 7.86769503e-01 3.97448157e-01 5.13611047e-01 2.53357170e-01\n",
      " 9.87659592e-01 2.91495741e-01 7.70742531e-01 4.27495650e-01\n",
      " 2.06217405e-01 7.99718764e-01 3.33606789e-01 8.65193347e-01\n",
      " 9.15257185e-01 8.59823835e-01 3.50079148e-02 7.87373345e-01\n",
      " 4.11339466e-01 8.73722920e-01 6.37954263e-01 8.33643134e-01\n",
      " 4.99431770e-01 5.35025505e-01 1.44387632e-01 7.83987359e-01\n",
      " 4.19389612e-01 5.00080118e-01 7.85097714e-01 5.98845400e-01\n",
      " 2.01098727e-01 5.90232659e-01 4.07632858e-01 4.69525542e-01\n",
      " 2.83112744e-02 2.10029350e-01 2.81038081e-01 7.12960008e-01\n",
      " 1.14924733e-02 4.08777261e-01 9.24026870e-01 1.11880617e-01\n",
      " 5.16424388e-01 7.86522382e-01 9.42531308e-01 7.46776640e-01\n",
      " 7.20565549e-01 8.26488090e-01 4.46201221e-01 8.05844533e-01\n",
      " 7.96440475e-03 9.24561055e-01 4.43306510e-01 5.53380188e-01\n",
      " 2.54882249e-01 7.42530833e-01 7.66358065e-02 8.72635803e-01\n",
      " 8.28116829e-01 2.16060116e-01 8.09324398e-01 7.86357733e-01\n",
      " 6.32216598e-01 3.73520177e-01 2.71498754e-01 2.31783590e-01\n",
      " 3.18608963e-01 9.03558443e-01 7.76407760e-02 8.28871276e-01\n",
      " 3.48890075e-01 5.21599396e-01 7.94485634e-01 8.84376547e-01\n",
      " 3.44781420e-01 4.61843481e-01 4.14516065e-01 1.32510335e-02\n",
      " 2.95942889e-01 4.59189234e-01 4.11093609e-01 7.21929228e-01\n",
      " 3.84803617e-01 4.89376449e-01 4.29608592e-01 7.40626149e-01\n",
      " 8.62972399e-01 5.31889079e-01 7.89432194e-01 2.96786682e-01\n",
      " 5.41369610e-01 3.45229954e-01 4.14200926e-01 7.32413865e-01\n",
      " 8.81662482e-01 1.21495391e-01 6.34639256e-01 5.82143808e-01\n",
      " 1.18415039e-01 2.11894330e-01 3.11002495e-01 1.66931071e-01\n",
      " 2.43729483e-01 2.67600799e-01 3.35673833e-01 7.49390453e-01\n",
      " 5.71912204e-01 9.86246672e-01 4.14735827e-01 7.53865074e-01\n",
      " 8.71468421e-01 6.78978493e-01 4.11864740e-01 7.53594631e-01\n",
      " 2.03667138e-01 3.27552165e-01 5.46685255e-01 5.75409387e-01\n",
      " 2.21414755e-02 9.45114189e-01 6.96627271e-01 4.95703750e-01\n",
      " 9.33127234e-01 4.39095565e-01 9.80435570e-01 5.12284757e-01\n",
      " 1.14285770e-01 7.64800972e-01 6.78897725e-01 7.72986721e-01\n",
      " 9.51442029e-01 7.76489303e-01 6.11336602e-01 8.57308902e-01\n",
      " 6.73246439e-01 4.08119057e-01 8.85619764e-01 2.21900461e-01\n",
      " 7.14641275e-01 8.81563455e-01 7.31316520e-01 6.97275419e-01\n",
      " 7.52638294e-01 4.65055248e-01 8.74170682e-01 2.03436475e-01\n",
      " 1.27386416e-01 2.85508780e-01 5.31577397e-01 5.10561795e-01\n",
      " 8.20598758e-01 4.04568656e-01 4.84344426e-01 1.33676833e-02\n",
      " 4.09739236e-01 6.47774233e-01 1.55083306e-02 2.80881965e-01\n",
      " 2.07956359e-01 4.19854289e-02 4.79260090e-01 1.81723293e-01\n",
      " 7.43081540e-01 8.47927884e-01 5.45585183e-01 9.81707343e-01\n",
      " 4.50478571e-01 5.13368210e-01 9.89217754e-01 2.31548436e-01\n",
      " 9.42545940e-01 4.28375551e-02 4.46386890e-01 7.00035121e-02\n",
      " 7.29234743e-01 6.08408936e-01 7.06634263e-01 3.74480400e-01\n",
      " 3.69481934e-01 4.53192790e-02 3.49944940e-01 9.29288402e-01\n",
      " 3.79226537e-01 8.31367706e-01 8.42325505e-01 3.73241156e-01\n",
      " 6.31988680e-01 9.53716023e-02 1.03678581e-01 4.86576637e-02\n",
      " 5.81015093e-01 4.26070978e-01 5.48032357e-01 5.21073191e-01\n",
      " 3.50202991e-01 6.77473415e-01 7.58501881e-01 1.46282589e-02\n",
      " 2.07242300e-01 7.13235868e-01 3.86620173e-01 6.62483947e-01\n",
      " 3.46962660e-01 3.90755152e-01 1.58678874e-01 2.58231020e-01\n",
      " 6.05411758e-01 4.33163111e-01 7.74302683e-01 8.52584955e-01\n",
      " 5.41646418e-01 7.58267292e-01 3.06904513e-01 4.14971215e-01\n",
      " 7.12777676e-01 3.86211993e-01 5.88504935e-01 1.85372779e-01\n",
      " 5.99771315e-01 8.61513707e-01 8.68639640e-01 7.24344406e-01\n",
      " 7.45753379e-01 5.57927445e-01 5.84668090e-01 1.33650581e-01\n",
      " 4.43859188e-01 4.50776284e-01 9.58497836e-01 4.31086863e-01\n",
      " 5.49342645e-01 5.33251399e-01 6.36761717e-01 7.48232831e-01\n",
      " 2.25041876e-01 5.28724419e-01 8.25917707e-01 4.63114714e-01\n",
      " 2.78457546e-01 6.54709075e-01 8.23767396e-01 6.31402929e-02\n",
      " 7.76790483e-01 8.21647933e-01 4.61522928e-01 9.83305657e-01\n",
      " 7.86708341e-01 7.73662565e-01 7.47838574e-01 1.50608103e-01\n",
      " 2.17230886e-01 4.63990131e-01 2.64004350e-01 4.15240972e-01\n",
      " 8.88464110e-01 8.24326892e-01 6.30039878e-01 8.58120394e-01\n",
      " 7.83772389e-01 4.28984932e-01 2.01065152e-01 5.14201040e-01\n",
      " 7.36228883e-01 4.36419599e-01 6.66771910e-01 9.43274263e-02\n",
      " 7.48004736e-01 8.12713620e-01 7.06837856e-01 9.67263588e-01\n",
      " 8.26652057e-01 9.03093728e-01 9.33571083e-01 8.01347992e-01\n",
      " 6.74258842e-01 5.71858136e-03 4.65825753e-01 5.71162299e-01]\n"
     ]
    }
   ],
   "source": [
    "import numpy as np\n",
    "samples = np.random.uniform(low=0, high=1, size=1000)\n",
    "print(samples)"
   ]
  },
  {
   "cell_type": "code",
   "execution_count": 96,
   "id": "98316db9-5518-445c-b225-aa7c5a4cf07d",
   "metadata": {},
   "outputs": [],
   "source": [
    "#Mean = (low+high)/2\n",
    "#Variance = (high-low)**2/12"
   ]
  },
  {
   "cell_type": "code",
   "execution_count": 97,
   "id": "c6e5e786-aea9-4d94-80dd-373b20f3a91f",
   "metadata": {},
   "outputs": [
    {
     "data": {
      "text/plain": [
       "16"
      ]
     },
     "execution_count": 97,
     "metadata": {},
     "output_type": "execute_result"
    }
   ],
   "source": [
    "4**2"
   ]
  },
  {
   "cell_type": "code",
   "execution_count": 99,
   "id": "df33db95-92e4-41e0-ab1b-9061c4df9a44",
   "metadata": {},
   "outputs": [
    {
     "data": {
      "image/png": "[encoded data removed]",
      "text/plain": [
       "<Figure size 640x480 with 1 Axes>"
      ]
     },
     "metadata": {},
     "output_type": "display_data"
    }
   ],
   "source": [
    "import matplotlib.pyplot as plt\n",
    "plt.hist(samples, bins=30, density=True)\n",
    "plt.title(\"Uniform Distribution"
   ]
  },
  {
   "cell_type": "markdown",
   "id": "210f9fa1-dc15-4e13-a678-f321fc29c4c7",
   "metadata": {},
   "source": [
    "#### Normal (Gaussian) Distribution"
   ]
  },
  {
   "cell_type": "code",
   "execution_count": 100,
   "id": "667081a3-0cd4-4411-9aac-91439564ed69",
   "metadata": {},
   "outputs": [],
   "source": [
    "#Normal Distribution (Gaussian): symmetric, bell-shaped curve defined \n",
    "#by mean(mu) and standard deviation sigma "
   ]
  },
  {
   "cell_type": "code",
   "execution_count": 101,
   "id": "b769df4c-fe1a-48ac-af82-e84b8d6b6046",
   "metadata": {},
   "outputs": [],
   "source": [
    "mu, sigma = 0, 1"
   ]
  },
  {
   "cell_type": "code",
   "execution_count": 111,
   "id": "aa49fbb4-76f9-49d7-bb4d-3fe5a84369db",
   "metadata": {},
   "outputs": [],
   "source": [
    "samples = np.random.normal(loc=mu, scale=sigma, size=1000)\n"
   ]
  },
  {
   "cell_type": "code",
   "execution_count": 114,
   "id": "0bc5f6b1-c252-48fc-81b2-98f71f43d93d",
   "metadata": {},
   "outputs": [
    {
     "data": {
      "image/png": "[encoded data removed]",
      "text/plain": [
       "<Figure size 640x480 with 1 Axes>"
      ]
     },
     "metadata": {},
     "output_type": "display_data"
    }
   ],
   "source": [
    "import matplotlib.pyplot as plt\n",
    "plt.hist(samples, bins=30, density=True)\n",
    "plt.title(\"Gaussian Distribution\")\n",
    "plt.show()"
   ]
  },
  {
   "cell_type": "code",
   "execution_count": 103,
   "id": "f4e079db-de4e-4886-9040-b8563a00e60b",
   "metadata": {},
   "outputs": [
    {
     "name": "stdout",
     "output_type": "stream",
     "text": [
      "CDF at x=0: 0.5\n",
      "95th percentile:  1.6448536269514722\n"
     ]
    }
   ],
   "source": [
    "# 68% of data falls within +/- 1 sigma, 95% within +/-2sigma\n",
    "#numpy doesn't have cdf built in so we'll do it in scipy\n",
    "from scipy.stats import norm\n",
    "print(\"CDF at x=0:\", norm.cdf(0, loc=mu, scale=sigma)) \n",
    "print(\"95th percentile: \", norm.ppf(0.95, loc=mu, scale=sigma"
   ]
  },
  {
   "cell_type": "markdown",
   "id": "cd3fe4bb-12f0-4f81-b835-6e6560df2843",
   "metadata": {},
   "source": [
    "#### Binomial Distribution"
   ]
  },
  {
   "cell_type": "code",
   "execution_count": 104,
   "id": "f44dfe9e-6d2a-47b3-904b-c978ed24eb50",
   "metadata": {},
   "outputs": [],
   "source": [
    "#Binomial Distribution Counts successes in n independent trials with probability p. \n",
    "#Generate binomial samples"
   ]
  },
  {
   "cell_type": "code",
   "execution_count": 105,
   "id": "f0bbf0db-9140-4146-9621-a33b22d8cd4a",
   "metadata": {},
   "outputs": [],
   "source": [
    "n, p = 10, 0.5 # 10 trials, %50 success probability\n",
    "samples = np.random.binomial(n=n, p=p, size=1000)"
   ]
  },
  {
   "cell_type": "code",
   "execution_count": 124,
   "id": "d9838d22-d2b4-4a43-baaf-7306441ed0d2",
   "metadata": {},
   "outputs": [
    {
     "data": {
      "image/png": "[encoded data removed]",
      "text/plain": [
       "<Figure size 640x480 with 1 Axes>"
      ]
     },
     "metadata": {},
     "output_type": "display_data"
    }
   ],
   "source": [
    "import matplotlib.pyplot as plt\n",
    "plt.hist(samples, bins=30, density=True)\n",
    "plt.title(\"Binomial Distribution\")\n",
    "plt.show()"
   ]
  },
  {
   "cell_type": "code",
   "execution_count": 106,
   "id": "b3429ed6-ec8b-4884-bcef-f7a5f5a7c3f1",
   "metadata": {},
   "outputs": [],
   "source": [
    "#Mean = n*p\n",
    "#Variance = n*p * (1-p)"
   ]
  },
  {
   "cell_type": "code",
   "execution_count": 108,
   "id": "a002485c-3ea9-4864-8170-69d6065ccfe3",
   "metadata": {},
   "outputs": [
    {
     "name": "stdout",
     "output_type": "stream",
     "text": [
      "PMF at k=5: 0.24609375\n"
     ]
    }
   ],
   "source": [
    "#PMF: Prbability Mass Function\n",
    "from scipy.stats import binom\n",
    "k= 5 #number of successes\n",
    "print(\"PMF at k=5:\", binom.pmf(k, n=n, p=p)) #Exact probability"
   ]
  },
  {
   "cell_type": "markdown",
   "id": "b0131df9-307b-4d95-8ff2-eb1ab2605278",
   "metadata": {},
   "source": [
    "#### Poisson Distribution"
   ]
  },
  {
   "cell_type": "code",
   "execution_count": 115,
   "id": "b5db60b2-ac0c-4393-a8f0-458515fad56b",
   "metadata": {},
   "outputs": [],
   "source": [
    "#Poisson Distribution models rare events over a fixed interval. \n",
    "#Generate Poisson Samples"
   ]
  },
  {
   "cell_type": "code",
   "execution_count": 110,
   "id": "9d9cad07-c9f5-4150-838b-9b69e156087c",
   "metadata": {},
   "outputs": [],
   "source": [
    "lam = 3 #Average rate \n",
    "samples = np.random.poisson(lam=lam, size=1000)\n",
    "#Mean = Variance = lam\n",
    "#PMF "
   ]
  },
  {
   "cell_type": "code",
   "execution_count": 116,
   "id": "c2e127bb-7d1c-4e30-bbd9-8a7488b079d6",
   "metadata": {},
   "outputs": [
    {
     "data": {
      "image/png": "[encoded data removed]",
      "text/plain": [
       "<Figure size 640x480 with 1 Axes>"
      ]
     },
     "metadata": {},
     "output_type": "display_data"
    }
   ],
   "source": [
    "import matplotlib.pyplot as plt\n",
    "plt.hist(samples, bins=30, density=True)\n",
    "plt.title(\"Poisson Distribution\")\n",
    "plt.show()"
   ]
  },
  {
   "cell_type": "code",
   "execution_count": 117,
   "id": "17085e42-fe3e-4cd5-a125-066a73e48c5c",
   "metadata": {},
   "outputs": [],
   "source": [
    "#Advanced"
   ]
  },
  {
   "cell_type": "markdown",
   "id": "e6f1fb07-df63-4f5f-b33a-a711b3fac0c7",
   "metadata": {},
   "source": [
    "#### Multivariate Normal"
   ]
  },
  {
   "cell_type": "code",
   "execution_count": 119,
   "id": "b23d7494-c90e-402e-ae63-cea734b50094",
   "metadata": {},
   "outputs": [
    {
     "data": {
      "image/png": "[encoded data removed]",
      "text/plain": [
       "<Figure size 640x480 with 1 Axes>"
      ]
     },
     "metadata": {},
     "output_type": "display_data"
    }
   ],
   "source": [
    "mean= [0,0]\n",
    "cov = [[1,0.5], [0.5, 1]]\n",
    "samples = np.random.multivariate_normal(mean, cov, size=1000)\n",
    "import matplotlib.pyplot as plt\n",
    "plt.hist(samples, bins=30, density=True)\n",
    "plt.title(\"Multivariate Distribution\")\n",
    "plt.show()"
   ]
  },
  {
   "cell_type": "markdown",
   "id": "11040e79-5f3c-4d1e-81d3-dbd466670a77",
   "metadata": {},
   "source": [
    "#### Inverse Transform Sampling\n"
   ]
  },
  {
   "cell_type": "code",
   "execution_count": 120,
   "id": "5d30bb4b-8b0f-4c36-8cea-9c1cd140f84c",
   "metadata": {},
   "outputs": [],
   "source": [
    "uniform_samples = np.random.uniform(size=1000)\n",
    "exponential_samples = -np.log(1-uniform_samples)  #Inverse CDF trick"
   ]
  },
  {
   "cell_type": "code",
   "execution_count": 122,
   "id": "6b8ed489-5071-4c9e-8c1d-a4b85df86358",
   "metadata": {},
   "outputs": [
    {
     "data": {
      "image/png": "[encoded data removed]",
      "text/plain": [
       "<Figure size 640x480 with 1 Axes>"
      ]
     },
     "metadata": {},
     "output_type": "display_data"
    }
   ],
   "source": [
    "plt.hist(exponential_samples, bins=30, density=True)\n",
    "plt.title(\"Inverse Transform Distribution\")\n",
    "plt.show()"
   ]
  },
  {
   "cell_type": "markdown",
   "id": "0388694d-31e3-4d48-9f06-fa856d3481ff",
   "metadata": {},
   "source": [
    "#### Bootstrapping Confidence Intervals"
   ]
  },
  {
   "cell_type": "code",
   "execution_count": 123,
   "id": "08b37643-fe3e-4e84-ad0a-6a7879e15500",
   "metadata": {},
   "outputs": [
    {
     "name": "stdout",
     "output_type": "stream",
     "text": [
      "%95 CI:  [-0.31922209  0.04483893]\n"
     ]
    }
   ],
   "source": [
    "data = np.random.normal(0, 1, 100)\n",
    "bootstrap_means = [np.mean(np.random.choice(data, 100)) for _ in range(1000)]\n",
    "print(\"%95 CI: \", np.percentile(bootstrap_means, [2.5, 97.5]))"
   ]
  },
  {
   "cell_type": "code",
   "execution_count": null,
   "id": "e5d554ea-eb3e-465c-9918-de1cee4f5c9f",
   "metadata": {},
   "outputs": [],
   "source": []
  }
 ],
 "metadata": {
  "kernelspec": {
   "display_name": "Python 3 (ipykernel)",
   "language": "python",
   "name": "python3"
  },
  "language_info": {
   "codemirror_mode": {
    "name": "ipython",
    "version": 3
   },
   "file_extension": ".py",
   "mimetype": "text/x-python",
   "name": "python",
   "nbconvert_exporter": "python",
   "pygments_lexer": "ipython3",
   "version": "3.11.4"
  }
 },
 "nbformat": 4,
 "nbformat_minor": 5
}
