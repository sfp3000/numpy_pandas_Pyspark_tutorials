{
 "cells": [
  {
   "cell_type": "code",
   "execution_count": null,
   "id": "80bbcc90-91ea-4bc8-821c-43ff3f40bd7d",
   "metadata": {},
   "outputs": [],
   "source": []
  }
 ],
 "metadata": {
  "kernelspec": {
   "display_name": "",
   "name": ""
  },
  "language_info": {
   "name": ""
  }
 },
 "nbformat": 4,
 "nbformat_minor": 5
}
