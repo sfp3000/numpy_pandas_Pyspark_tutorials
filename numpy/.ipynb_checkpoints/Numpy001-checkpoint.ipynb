{
 "cells": [
  {
   "cell_type": "markdown",
   "id": "1a305221-1e2d-45ec-807a-07b2c1a854d3",
   "metadata": {},
   "source": [
    "# Numpy Tutorials 001"
   ]
  },
  {
   "cell_type": "code",
   "execution_count": 1,
   "id": "d5e4111b-83f9-4c1d-8a27-a6048dc969c1",
   "metadata": {},
   "outputs": [],
   "source": [
    "#!pip install --upgrade numpy "
   ]
  },
  {
   "cell_type": "code",
   "execution_count": 2,
   "id": "06b842ea-2207-49c9-be4a-d16c02ed3a5e",
   "metadata": {},
   "outputs": [],
   "source": [
    "import numpy as np"
   ]
  },
  {
   "cell_type": "code",
   "execution_count": 12,
   "id": "ff2b45fa-bbdc-4d6e-bc86-62dbc879789d",
   "metadata": {},
   "outputs": [],
   "source": [
    "arr10 = np.array([1,2,3,4])"
   ]
  },
  {
   "cell_type": "code",
   "execution_count": 8,
   "id": "4ef97cc4-c227-4196-a89a-ba8f3fa8484f",
   "metadata": {},
   "outputs": [
    {
     "data": {
      "text/plain": [
       "array([1, 2, 3, 4])"
      ]
     },
     "execution_count": 8,
     "metadata": {},
     "output_type": "execute_result"
    }
   ],
   "source": [
    "arr10"
   ]
  },
  {
   "cell_type": "code",
   "execution_count": 9,
   "id": "c780b247-25b3-4278-a579-05acc13c2b4e",
   "metadata": {},
   "outputs": [
    {
     "data": {
      "text/plain": [
       "numpy.ndarray"
      ]
     },
     "execution_count": 9,
     "metadata": {},
     "output_type": "execute_result"
    }
   ],
   "source": [
    "type(arr10)"
   ]
  },
  {
   "cell_type": "code",
   "execution_count": 10,
   "id": "1fe963b3-8995-4ab9-99a7-b80251ceb662",
   "metadata": {},
   "outputs": [
    {
     "data": {
      "text/plain": [
       "array([ 3,  6,  9, 12])"
      ]
     },
     "execution_count": 10,
     "metadata": {},
     "output_type": "execute_result"
    }
   ],
   "source": [
    "arr10 * 3"
   ]
  },
  {
   "cell_type": "code",
   "execution_count": 11,
   "id": "a7f04689-cdf6-4d3d-a186-e8bdb756f267",
   "metadata": {},
   "outputs": [
    {
     "data": {
      "text/plain": [
       "[1, 2, 3, 4, 1, 2, 3, 4, 1, 2, 3, 4]"
      ]
     },
     "execution_count": 11,
     "metadata": {},
     "output_type": "execute_result"
    }
   ],
   "source": [
    "3 * [1,2,3,4]"
   ]
  },
  {
   "cell_type": "markdown",
   "id": "ed51d5e7-3b63-4274-8ecd-9facea4fbfb5",
   "metadata": {},
   "source": [
    "# Introduction to NumPy and Numpy Arrays."
   ]
  },
  {
   "cell_type": "code",
   "execution_count": 13,
   "id": "b22ee824-df13-4f55-ab3b-caea65931d02",
   "metadata": {},
   "outputs": [],
   "source": [
    "import numpy as np"
   ]
  },
  {
   "cell_type": "markdown",
   "id": "43789aa6-0c60-4921-8af2-decdcafbc7d6",
   "metadata": {},
   "source": [
    "### Creating Arrays"
   ]
  },
  {
   "cell_type": "code",
   "execution_count": 14,
   "id": "cc4d2cd4-d00a-4795-b831-b28276665186",
   "metadata": {},
   "outputs": [],
   "source": [
    "mylist1d = [1,2,3,4,5]\n",
    "mylist2d = [[1,2,3,4,5], [6,7,8,9]]\n",
    "mylist3d = [[[1,2,3],[4,5,6], [7,8,9]]]"
   ]
  },
  {
   "cell_type": "code",
   "execution_count": 15,
   "id": "4e4f8253-ebe8-4aad-abd8-6ca86f8c036f",
   "metadata": {},
   "outputs": [],
   "source": [
    "myarrzeros = np.zeros((3,3))"
   ]
  },
  {
   "cell_type": "code",
   "execution_count": 16,
   "id": "8ce82d79-f8b4-406a-b2a5-6a588e09e0f8",
   "metadata": {},
   "outputs": [
    {
     "data": {
      "text/plain": [
       "array([[0., 0., 0.],\n",
       "       [0., 0., 0.],\n",
       "       [0., 0., 0.]])"
      ]
     },
     "execution_count": 16,
     "metadata": {},
     "output_type": "execute_result"
    }
   ],
   "source": [
    "myarrzeros"
   ]
  },
  {
   "cell_type": "code",
   "execution_count": 17,
   "id": "ecd2f2bf-e8da-4342-849b-7aef3e174f1e",
   "metadata": {},
   "outputs": [],
   "source": [
    "myarrones = np.ones((3,3))"
   ]
  },
  {
   "cell_type": "code",
   "execution_count": 18,
   "id": "0917423d-3069-4247-9fc5-10dcf4626b4b",
   "metadata": {},
   "outputs": [
    {
     "data": {
      "text/plain": [
       "array([[1., 1., 1.],\n",
       "       [1., 1., 1.],\n",
       "       [1., 1., 1.]])"
      ]
     },
     "execution_count": 18,
     "metadata": {},
     "output_type": "execute_result"
    }
   ],
   "source": [
    "myarrones"
   ]
  },
  {
   "cell_type": "code",
   "execution_count": 19,
   "id": "47d3bc6b-625d-49be-9b40-b91ecd7ddb9f",
   "metadata": {},
   "outputs": [],
   "source": [
    "myarridentity = np.eye(3)"
   ]
  },
  {
   "cell_type": "code",
   "execution_count": 20,
   "id": "0e11085c-987d-4358-bc36-fc0fd6cac822",
   "metadata": {},
   "outputs": [
    {
     "data": {
      "text/plain": [
       "array([[1., 0., 0.],\n",
       "       [0., 1., 0.],\n",
       "       [0., 0., 1.]])"
      ]
     },
     "execution_count": 20,
     "metadata": {},
     "output_type": "execute_result"
    }
   ],
   "source": [
    "myarridentity"
   ]
  },
  {
   "cell_type": "code",
   "execution_count": 21,
   "id": "d468c040-24da-4341-b5a0-d01222911bcc",
   "metadata": {},
   "outputs": [],
   "source": [
    "myarreven = np.arange(0, 10, 2)"
   ]
  },
  {
   "cell_type": "code",
   "execution_count": 22,
   "id": "f5cf0ad1-10d7-47c5-9e4e-7a381aca72c5",
   "metadata": {},
   "outputs": [
    {
     "data": {
      "text/plain": [
       "array([0, 2, 4, 6, 8])"
      ]
     },
     "execution_count": 22,
     "metadata": {},
     "output_type": "execute_result"
    }
   ],
   "source": [
    "myarreven"
   ]
  },
  {
   "cell_type": "code",
   "execution_count": 23,
   "id": "07ea2e24-746e-46ea-915b-d751155f5c02",
   "metadata": {},
   "outputs": [],
   "source": [
    "myarr3d = np.array(mylist3d)"
   ]
  },
  {
   "cell_type": "code",
   "execution_count": 24,
   "id": "7ebd5795-90d3-4be9-97e5-4714dc43ba7f",
   "metadata": {},
   "outputs": [
    {
     "data": {
      "text/plain": [
       "array([[[1, 2, 3],\n",
       "        [4, 5, 6],\n",
       "        [7, 8, 9]]])"
      ]
     },
     "execution_count": 24,
     "metadata": {},
     "output_type": "execute_result"
    }
   ],
   "source": [
    "myarr3d"
   ]
  },
  {
   "cell_type": "code",
   "execution_count": 29,
   "id": "55943923-419b-403b-9e46-97e430be7b72",
   "metadata": {},
   "outputs": [
    {
     "name": "stdout",
     "output_type": "stream",
     "text": [
      "[1 2 3]\n",
      "**********\n",
      "1\n",
      "__________\n",
      "2\n",
      "__________\n",
      "3\n",
      "__________\n",
      "[4 5 6]\n",
      "**********\n",
      "4\n",
      "__________\n",
      "5\n",
      "__________\n",
      "6\n",
      "__________\n",
      "[7 8 9]\n",
      "**********\n",
      "7\n",
      "__________\n",
      "8\n",
      "__________\n",
      "9\n",
      "__________\n"
     ]
    }
   ],
   "source": [
    "for i in myarr3d:\n",
    "    for row in i:\n",
    "        print(row)\n",
    "        print(\"*\"*10)\n",
    "        for cell in row:\n",
    "            print(cell)\n",
    "            print(\"__________\")"
   ]
  },
  {
   "cell_type": "code",
   "execution_count": 30,
   "id": "1d79986f-186b-44d4-ac50-7b7554faf273",
   "metadata": {},
   "outputs": [
    {
     "name": "stdout",
     "output_type": "stream",
     "text": [
      "[[[1 2 3]\n",
      "  [4 5 6]\n",
      "  [7 8 9]]]\n"
     ]
    }
   ],
   "source": [
    "print(myarr3d)"
   ]
  },
  {
   "cell_type": "code",
   "execution_count": 31,
   "id": "f2f2a1fc-6316-46d6-aafb-b8531f8a86b1",
   "metadata": {},
   "outputs": [
    {
     "name": "stdout",
     "output_type": "stream",
     "text": [
      "(1, 3, 3)\n"
     ]
    }
   ],
   "source": [
    "print(myarr3d.shape)"
   ]
  },
  {
   "cell_type": "code",
   "execution_count": 33,
   "id": "3bd831ab-e49c-496a-81d5-f3fdf1b8abdd",
   "metadata": {},
   "outputs": [
    {
     "name": "stdout",
     "output_type": "stream",
     "text": [
      "3\n"
     ]
    }
   ],
   "source": [
    "print(myarr3d.ndim)"
   ]
  },
  {
   "cell_type": "code",
   "execution_count": 34,
   "id": "95afe224-53b2-46bb-93d8-8f340689e02e",
   "metadata": {},
   "outputs": [
    {
     "name": "stdout",
     "output_type": "stream",
     "text": [
      "9\n"
     ]
    }
   ],
   "source": [
    "print(myarr3d.size)"
   ]
  },
  {
   "cell_type": "code",
   "execution_count": 35,
   "id": "6cd25d47-d4c3-4c47-99e8-37bfecb6b240",
   "metadata": {},
   "outputs": [
    {
     "name": "stdout",
     "output_type": "stream",
     "text": [
      "int32\n"
     ]
    }
   ],
   "source": [
    "print(myarr3d.dtype)"
   ]
  },
  {
   "cell_type": "code",
   "execution_count": 36,
   "id": "dca0610c-9a95-4ac4-8a4b-718f989ed22e",
   "metadata": {},
   "outputs": [],
   "source": [
    "def myarray001(myarray):\n",
    "    print(myarray.shape)\n",
    "    print(myarray.ndim)\n",
    "    print(myarray.size)\n",
    "    print(myarray.dtype)\n",
    "    "
   ]
  },
  {
   "cell_type": "code",
   "execution_count": 37,
   "id": "cbb9f6a7-7741-4350-8210-1509667bbf02",
   "metadata": {},
   "outputs": [
    {
     "name": "stdout",
     "output_type": "stream",
     "text": [
      "(1, 3, 3)\n",
      "3\n",
      "9\n",
      "int32\n"
     ]
    }
   ],
   "source": [
    "myarray001(myarr3d)"
   ]
  },
  {
   "cell_type": "code",
   "execution_count": 42,
   "id": "17e61502-da47-433b-88eb-78c10d82c22a",
   "metadata": {},
   "outputs": [],
   "source": [
    "def myarray002(myarray):\n",
    "    print(\"Shape: \" + str(myarray.shape))\n",
    "    print(\"ndim: \" + str(myarray.ndim))\n",
    "    print(\"Size: \" + str(myarray.size))\n",
    "    print(\"DType: \" + str(myarray.dtype))"
   ]
  },
  {
   "cell_type": "code",
   "execution_count": 43,
   "id": "18e79977-6fa4-4d56-9415-9fc2daca26f1",
   "metadata": {},
   "outputs": [
    {
     "name": "stdout",
     "output_type": "stream",
     "text": [
      "Shape: (1, 3, 3)\n",
      "ndim: 3\n",
      "Size: 9\n",
      "DType: int32\n"
     ]
    }
   ],
   "source": [
    "myarray002(myarr3d)"
   ]
  },
  {
   "cell_type": "code",
   "execution_count": 75,
   "id": "9c966192-71ad-4507-afef-94a640b68a09",
   "metadata": {},
   "outputs": [],
   "source": [
    "def myarray003(myarray):\n",
    "    print(\"Shape: \", myarray.shape)\n",
    "    print(\"ndim: \", myarray.ndim)\n",
    "    print(\"Size: \", myarray.size)\n",
    "    print(\"DType: \", myarray.dtype)"
   ]
  },
  {
   "cell_type": "code",
   "execution_count": 49,
   "id": "67264128-e42c-4437-8fc4-b2627f239135",
   "metadata": {},
   "outputs": [
    {
     "name": "stdout",
     "output_type": "stream",
     "text": [
      "Shape:  (1, 3, 3)\n",
      "ndim:  3\n",
      "Size:  9\n",
      "DType:  int32\n"
     ]
    }
   ],
   "source": [
    "myarray003(myarr3d)"
   ]
  },
  {
   "cell_type": "code",
   "execution_count": 54,
   "id": "157857f8-459b-4a60-b8e5-7fa94e3a7532",
   "metadata": {},
   "outputs": [],
   "source": [
    "def myarray004(myarray):\n",
    "    print(\"Shape: \", myarray.shape)\n",
    "    print(\"ndim: \", myarray.ndim)\n",
    "    print(\"Size: \", myarray.size)\n",
    "    print(\"DType: \", myarray.dtype)\n",
    "    print(\"DType: \", myarray.dtype, 8, 9.9, \"Saad\", myarr3d, [1,2,3], (1,2,3))"
   ]
  },
  {
   "cell_type": "code",
   "execution_count": 55,
   "id": "edf723a4-7be1-4d03-9a1f-e7cbc275bf08",
   "metadata": {},
   "outputs": [
    {
     "name": "stdout",
     "output_type": "stream",
     "text": [
      "Shape:  (1, 3, 3)\n",
      "ndim:  3\n",
      "Size:  9\n",
      "DType:  int32\n",
      "DType:  int32 8 9.9 Saad [[[1 2 3]\n",
      "  [4 5 6]\n",
      "  [7 8 9]]] [1, 2, 3] (1, 2, 3)\n"
     ]
    }
   ],
   "source": [
    "myarray004(myarr3d)"
   ]
  },
  {
   "cell_type": "markdown",
   "id": "5fdefc39-38bb-4ff3-9062-635f41a1055e",
   "metadata": {},
   "source": [
    "### How to import python data types into numpy array"
   ]
  },
  {
   "cell_type": "code",
   "execution_count": 56,
   "id": "8b2506d9-a2ab-4dcc-b661-6141518c18d4",
   "metadata": {},
   "outputs": [
    {
     "data": {
      "text/plain": [
       "[1, 2, 3, 4, 5]"
      ]
     },
     "execution_count": 56,
     "metadata": {},
     "output_type": "execute_result"
    }
   ],
   "source": [
    "mylist1d"
   ]
  },
  {
   "cell_type": "code",
   "execution_count": 57,
   "id": "1cfaa6ef-d3a2-4710-9e33-92767c889020",
   "metadata": {},
   "outputs": [
    {
     "data": {
      "text/plain": [
       "[[1, 2, 3, 4, 5], [6, 7, 8, 9]]"
      ]
     },
     "execution_count": 57,
     "metadata": {},
     "output_type": "execute_result"
    }
   ],
   "source": [
    "mylist2d"
   ]
  },
  {
   "cell_type": "code",
   "execution_count": 58,
   "id": "c0a1083f-f2ed-4d6a-8d70-c3770b1e8ed0",
   "metadata": {},
   "outputs": [
    {
     "data": {
      "text/plain": [
       "[[[1, 2, 3], [4, 5, 6], [7, 8, 9]]]"
      ]
     },
     "execution_count": 58,
     "metadata": {},
     "output_type": "execute_result"
    }
   ],
   "source": [
    "mylist3d"
   ]
  },
  {
   "cell_type": "code",
   "execution_count": 59,
   "id": "c6d2bec6-a437-40b2-add7-e3c7dcabfb49",
   "metadata": {},
   "outputs": [],
   "source": [
    "mytuple1d = (1,2,3)"
   ]
  },
  {
   "cell_type": "code",
   "execution_count": 60,
   "id": "197a4bf8-883e-4bba-889f-d487d6162a28",
   "metadata": {},
   "outputs": [],
   "source": [
    "myset = {1,2,3,3}"
   ]
  },
  {
   "cell_type": "code",
   "execution_count": 61,
   "id": "388252ac-638a-4a38-9f4c-cf64532ac157",
   "metadata": {},
   "outputs": [
    {
     "data": {
      "text/plain": [
       "{1, 2, 3}"
      ]
     },
     "execution_count": 61,
     "metadata": {},
     "output_type": "execute_result"
    }
   ],
   "source": [
    "myset"
   ]
  },
  {
   "cell_type": "code",
   "execution_count": 62,
   "id": "31ec4d12-3ff2-43f8-91ce-20c22fb36761",
   "metadata": {},
   "outputs": [],
   "source": [
    "mydict = {'a':1, 'b':2}"
   ]
  },
  {
   "cell_type": "code",
   "execution_count": 63,
   "id": "cee6ea5f-5599-43da-b972-94941ce9aa35",
   "metadata": {},
   "outputs": [],
   "source": [
    "myarray1d = np.array(mylist1d)"
   ]
  },
  {
   "cell_type": "code",
   "execution_count": 64,
   "id": "9ed086ee-bd98-40d4-8d44-22bafbb5e073",
   "metadata": {},
   "outputs": [
    {
     "data": {
      "text/plain": [
       "array([1, 2, 3, 4, 5])"
      ]
     },
     "execution_count": 64,
     "metadata": {},
     "output_type": "execute_result"
    }
   ],
   "source": [
    "myarray1d"
   ]
  },
  {
   "cell_type": "code",
   "execution_count": 65,
   "id": "f155d01a-2ed6-431e-a5f5-6f42e04ab4a5",
   "metadata": {},
   "outputs": [
    {
     "data": {
      "text/plain": [
       "numpy.ndarray"
      ]
     },
     "execution_count": 65,
     "metadata": {},
     "output_type": "execute_result"
    }
   ],
   "source": [
    "type(myarray1d)"
   ]
  },
  {
   "cell_type": "code",
   "execution_count": 66,
   "id": "f15ffef0-2006-4992-b6b8-a10fd7757191",
   "metadata": {},
   "outputs": [
    {
     "ename": "ValueError",
     "evalue": "setting an array element with a sequence. The requested array has an inhomogeneous shape after 1 dimensions. The detected shape was (2,) + inhomogeneous part.",
     "output_type": "error",
     "traceback": [
      "\u001b[1;31m------------------------------------------------------------------------\u001b[0m",
      "\u001b[1;31mValueError\u001b[0m                             Traceback (most recent call last)",
      "Cell \u001b[1;32mIn[66], line 1\u001b[0m\n\u001b[1;32m----> 1\u001b[0m myarray2d \u001b[38;5;241m=\u001b[39m \u001b[43mnp\u001b[49m\u001b[38;5;241;43m.\u001b[39;49m\u001b[43marray\u001b[49m\u001b[43m(\u001b[49m\u001b[43mmylist2d\u001b[49m\u001b[43m)\u001b[49m\n",
      "\u001b[1;31mValueError\u001b[0m: setting an array element with a sequence. The requested array has an inhomogeneous shape after 1 dimensions. The detected shape was (2,) + inhomogeneous part."
     ]
    }
   ],
   "source": [
    "myarray2d = np.array(mylist2d)"
   ]
  },
  {
   "cell_type": "code",
   "execution_count": 67,
   "id": "ce8d555a-7578-495f-8022-ad505aff54cf",
   "metadata": {},
   "outputs": [
    {
     "data": {
      "text/plain": [
       "[[1, 2, 3, 4, 5], [6, 7, 8, 9]]"
      ]
     },
     "execution_count": 67,
     "metadata": {},
     "output_type": "execute_result"
    }
   ],
   "source": [
    "mylist2d"
   ]
  },
  {
   "cell_type": "code",
   "execution_count": 69,
   "id": "f4c51bf8-74ca-465b-a613-d649d2f2bcb5",
   "metadata": {},
   "outputs": [],
   "source": [
    "mylist2d = [[1,2,3], [4,5,6]]"
   ]
  },
  {
   "cell_type": "code",
   "execution_count": 70,
   "id": "4eb65b03-3397-46ee-bdfd-64ec30f6c8fa",
   "metadata": {},
   "outputs": [],
   "source": [
    "myarray2d = np.array(mylist2d)"
   ]
  },
  {
   "cell_type": "code",
   "execution_count": 71,
   "id": "fe6e99ff-3227-4b7e-b595-0eab2b24df61",
   "metadata": {},
   "outputs": [
    {
     "data": {
      "text/plain": [
       "array([[1, 2, 3],\n",
       "       [4, 5, 6]])"
      ]
     },
     "execution_count": 71,
     "metadata": {},
     "output_type": "execute_result"
    }
   ],
   "source": [
    "myarray2d"
   ]
  },
  {
   "cell_type": "code",
   "execution_count": 72,
   "id": "0de86bff-7f76-4386-b07c-2cd526e74c8f",
   "metadata": {},
   "outputs": [
    {
     "name": "stdout",
     "output_type": "stream",
     "text": [
      "[1 2 3]\n",
      "[4 5 6]\n"
     ]
    }
   ],
   "source": [
    "for i in myarray2d:\n",
    "    print(i)"
   ]
  },
  {
   "cell_type": "code",
   "execution_count": 73,
   "id": "5ac42600-d621-45ba-93cc-00b507da8c75",
   "metadata": {},
   "outputs": [],
   "source": [
    "myarray3d = np.array(mylist3d)"
   ]
  },
  {
   "cell_type": "code",
   "execution_count": 74,
   "id": "a242a30a-8478-4e42-9951-e892eb9c2c82",
   "metadata": {},
   "outputs": [
    {
     "data": {
      "text/plain": [
       "array([[[1, 2, 3],\n",
       "        [4, 5, 6],\n",
       "        [7, 8, 9]]])"
      ]
     },
     "execution_count": 74,
     "metadata": {},
     "output_type": "execute_result"
    }
   ],
   "source": [
    "myarray3d"
   ]
  },
  {
   "cell_type": "code",
   "execution_count": 76,
   "id": "85a2d897-bb19-44ec-a650-332ad3b9bc02",
   "metadata": {},
   "outputs": [
    {
     "name": "stdout",
     "output_type": "stream",
     "text": [
      "Shape:  (1, 3, 3)\n",
      "ndim:  3\n",
      "Size:  9\n",
      "DType:  int32\n"
     ]
    }
   ],
   "source": [
    "myarray003(myarray3d)"
   ]
  },
  {
   "cell_type": "code",
   "execution_count": 77,
   "id": "f3eaa7e5-dfbc-4bea-9e52-7ac71265d364",
   "metadata": {},
   "outputs": [],
   "source": [
    "myarraytup = np.array(mytuple1d)"
   ]
  },
  {
   "cell_type": "code",
   "execution_count": 78,
   "id": "6c964411-c912-4802-9fc9-b38a55be4f8d",
   "metadata": {},
   "outputs": [
    {
     "data": {
      "text/plain": [
       "(1, 2, 3)"
      ]
     },
     "execution_count": 78,
     "metadata": {},
     "output_type": "execute_result"
    }
   ],
   "source": [
    "mytuple1d"
   ]
  },
  {
   "cell_type": "code",
   "execution_count": 80,
   "id": "53e23cdd-87f5-4f55-80a4-8973f1674cc2",
   "metadata": {},
   "outputs": [],
   "source": [
    "myarrayset = np.array(myset)"
   ]
  },
  {
   "cell_type": "code",
   "execution_count": 81,
   "id": "c776bc6f-634c-4281-8b47-9e7e76545f94",
   "metadata": {},
   "outputs": [
    {
     "data": {
      "text/plain": [
       "array({1, 2, 3}, dtype=object)"
      ]
     },
     "execution_count": 81,
     "metadata": {},
     "output_type": "execute_result"
    }
   ],
   "source": [
    "myarrayset"
   ]
  },
  {
   "cell_type": "code",
   "execution_count": 82,
   "id": "d036e783-2ceb-466e-92e2-0ac90a0ff5d0",
   "metadata": {},
   "outputs": [],
   "source": [
    "myarraydict = np.array(mydict)"
   ]
  },
  {
   "cell_type": "code",
   "execution_count": 83,
   "id": "fda5093f-188c-4ede-9881-c4c7f83aad71",
   "metadata": {},
   "outputs": [
    {
     "data": {
      "text/plain": [
       "array({'a': 1, 'b': 2}, dtype=object)"
      ]
     },
     "execution_count": 83,
     "metadata": {},
     "output_type": "execute_result"
    }
   ],
   "source": [
    "myarraydict "
   ]
  },
  {
   "cell_type": "code",
   "execution_count": 84,
   "id": "c1bb2793-de50-4f10-b12b-0d2b41e8f57e",
   "metadata": {},
   "outputs": [
    {
     "name": "stdout",
     "output_type": "stream",
     "text": [
      "Shape:  ()\n",
      "ndim:  0\n",
      "Size:  1\n",
      "DType:  object\n"
     ]
    }
   ],
   "source": [
    "myarray003(myarraydict)"
   ]
  },
  {
   "cell_type": "code",
   "execution_count": 85,
   "id": "1f354dd2-23b0-4dad-a466-3e852734a962",
   "metadata": {},
   "outputs": [
    {
     "name": "stdout",
     "output_type": "stream",
     "text": [
      "Shape:  ()\n",
      "ndim:  0\n",
      "Size:  1\n",
      "DType:  object\n"
     ]
    }
   ],
   "source": [
    "myarray003(myarrayset)"
   ]
  },
  {
   "cell_type": "markdown",
   "id": "49b88c26-1a03-4f29-9509-d6295bd5ba43",
   "metadata": {},
   "source": [
    "### Numpy Array Operations"
   ]
  },
  {
   "cell_type": "code",
   "execution_count": 86,
   "id": "b521f2a2-b3ed-4d6f-b05c-a0ed78799233",
   "metadata": {},
   "outputs": [
    {
     "data": {
      "text/plain": [
       "array([ 2,  4,  6,  8, 10])"
      ]
     },
     "execution_count": 86,
     "metadata": {},
     "output_type": "execute_result"
    }
   ],
   "source": [
    "myarray1d + myarray1d"
   ]
  },
  {
   "cell_type": "code",
   "execution_count": 87,
   "id": "75cc53cd-93c5-4f8a-9552-3ccc59d13948",
   "metadata": {},
   "outputs": [
    {
     "data": {
      "text/plain": [
       "array([1, 2, 3, 4, 5])"
      ]
     },
     "execution_count": 87,
     "metadata": {},
     "output_type": "execute_result"
    }
   ],
   "source": [
    "myarray1d"
   ]
  },
  {
   "cell_type": "code",
   "execution_count": 88,
   "id": "c26105fc-355f-4a11-9b7a-f5bee3e9f381",
   "metadata": {},
   "outputs": [
    {
     "name": "stdout",
     "output_type": "stream",
     "text": [
      "[ 2  4  6  8 10]\n"
     ]
    }
   ],
   "source": [
    "print(myarray1d + myarray1d)"
   ]
  },
  {
   "cell_type": "code",
   "execution_count": 89,
   "id": "cba720f8-5bfb-4597-b27c-8d56b7bdc399",
   "metadata": {},
   "outputs": [
    {
     "name": "stdout",
     "output_type": "stream",
     "text": [
      "[[ 2  4  6]\n",
      " [ 8 10 12]]\n"
     ]
    }
   ],
   "source": [
    "print(myarray2d + myarray2d)"
   ]
  },
  {
   "cell_type": "code",
   "execution_count": 90,
   "id": "7db045b2-b4f3-4605-b392-790b66a1139e",
   "metadata": {},
   "outputs": [
    {
     "data": {
      "text/plain": [
       "array([[1, 2, 3],\n",
       "       [4, 5, 6]])"
      ]
     },
     "execution_count": 90,
     "metadata": {},
     "output_type": "execute_result"
    }
   ],
   "source": [
    "myarray2d"
   ]
  },
  {
   "cell_type": "code",
   "execution_count": 91,
   "id": "3d9d8a29-2997-46fa-81c9-920671bc3d3f",
   "metadata": {},
   "outputs": [
    {
     "ename": "ValueError",
     "evalue": "operands could not be broadcast together with shapes (2,3) (5,) ",
     "output_type": "error",
     "traceback": [
      "\u001b[1;31m------------------------------------------------------------------------\u001b[0m",
      "\u001b[1;31mValueError\u001b[0m                             Traceback (most recent call last)",
      "Cell \u001b[1;32mIn[91], line 1\u001b[0m\n\u001b[1;32m----> 1\u001b[0m \u001b[38;5;28mprint\u001b[39m(\u001b[43mmyarray2d\u001b[49m\u001b[43m \u001b[49m\u001b[38;5;241;43m+\u001b[39;49m\u001b[43m \u001b[49m\u001b[43mmyarray1d\u001b[49m)\n",
      "\u001b[1;31mValueError\u001b[0m: operands could not be broadcast together with shapes (2,3) (5,) "
     ]
    }
   ],
   "source": [
    "print(myarray2d + myarray1d)"
   ]
  },
  {
   "cell_type": "code",
   "execution_count": 92,
   "id": "ddf30b52-0746-469d-b19e-c7832c8d6e1d",
   "metadata": {},
   "outputs": [
    {
     "data": {
      "text/plain": [
       "array([[1, 2, 3],\n",
       "       [4, 5, 6]])"
      ]
     },
     "execution_count": 92,
     "metadata": {},
     "output_type": "execute_result"
    }
   ],
   "source": [
    "myarray2d"
   ]
  },
  {
   "cell_type": "code",
   "execution_count": 93,
   "id": "f885ac9d-170b-4f40-b4e6-7a1b90a18cad",
   "metadata": {},
   "outputs": [
    {
     "data": {
      "text/plain": [
       "array([1, 2, 3, 4, 5])"
      ]
     },
     "execution_count": 93,
     "metadata": {},
     "output_type": "execute_result"
    }
   ],
   "source": [
    "myarray1d"
   ]
  },
  {
   "cell_type": "code",
   "execution_count": 94,
   "id": "0a8917c3-baf7-4703-9bf3-6166b3614cd8",
   "metadata": {},
   "outputs": [],
   "source": [
    "myarray1d = np.array([1,2,3])"
   ]
  },
  {
   "cell_type": "code",
   "execution_count": 95,
   "id": "611f809b-46f0-484f-858a-55b89e404874",
   "metadata": {},
   "outputs": [
    {
     "name": "stdout",
     "output_type": "stream",
     "text": [
      "[[2 4 6]\n",
      " [5 7 9]]\n"
     ]
    }
   ],
   "source": [
    "print(myarray2d + myarray1d)"
   ]
  },
  {
   "cell_type": "code",
   "execution_count": 96,
   "id": "dc9c6d1f-307d-40c7-a766-e6fdcc3f687d",
   "metadata": {},
   "outputs": [
    {
     "data": {
      "text/plain": [
       "array([[1, 2, 3],\n",
       "       [4, 5, 6]])"
      ]
     },
     "execution_count": 96,
     "metadata": {},
     "output_type": "execute_result"
    }
   ],
   "source": [
    "myarray2d"
   ]
  },
  {
   "cell_type": "code",
   "execution_count": 97,
   "id": "64b29298-22e6-4283-9697-ae0852de339d",
   "metadata": {},
   "outputs": [
    {
     "data": {
      "text/plain": [
       "array([1, 2, 3])"
      ]
     },
     "execution_count": 97,
     "metadata": {},
     "output_type": "execute_result"
    }
   ],
   "source": [
    "myarray1d"
   ]
  },
  {
   "cell_type": "code",
   "execution_count": 98,
   "id": "4ad66c79-ac43-42d7-a641-edcd1a4f7368",
   "metadata": {},
   "outputs": [
    {
     "data": {
      "text/plain": [
       "array([[[1, 2, 3],\n",
       "        [4, 5, 6],\n",
       "        [7, 8, 9]]])"
      ]
     },
     "execution_count": 98,
     "metadata": {},
     "output_type": "execute_result"
    }
   ],
   "source": [
    "myarray3d"
   ]
  },
  {
   "cell_type": "code",
   "execution_count": 99,
   "id": "c39e0e21-45f1-4af1-83b6-a3d82488fc33",
   "metadata": {},
   "outputs": [
    {
     "name": "stdout",
     "output_type": "stream",
     "text": [
      "[[[ 2  4  6]\n",
      "  [ 5  7  9]\n",
      "  [ 8 10 12]]]\n"
     ]
    }
   ],
   "source": [
    "print(myarray3d + myarray1d)"
   ]
  },
  {
   "cell_type": "code",
   "execution_count": 100,
   "id": "7c62007e-1236-4b7a-bd8f-84f8a200eec3",
   "metadata": {},
   "outputs": [
    {
     "data": {
      "text/plain": [
       "[1, 2, 3, 1, 2, 3]"
      ]
     },
     "execution_count": 100,
     "metadata": {},
     "output_type": "execute_result"
    }
   ],
   "source": [
    "[1,2,3] + [1,2,3]"
   ]
  },
  {
   "cell_type": "code",
   "execution_count": 101,
   "id": "3fc6308d-c656-44fb-8ccf-87b10f09069c",
   "metadata": {},
   "outputs": [
    {
     "data": {
      "text/plain": [
       "array([[[ 4,  5,  6],\n",
       "        [ 7,  8,  9],\n",
       "        [10, 11, 12]]])"
      ]
     },
     "execution_count": 101,
     "metadata": {},
     "output_type": "execute_result"
    }
   ],
   "source": [
    "myarray3d + 3"
   ]
  },
  {
   "cell_type": "code",
   "execution_count": 102,
   "id": "05e1d5c3-e06b-4041-9285-9d39f4fb95c8",
   "metadata": {},
   "outputs": [
    {
     "data": {
      "text/plain": [
       "array([[[1, 2, 3],\n",
       "        [4, 5, 6],\n",
       "        [7, 8, 9]]])"
      ]
     },
     "execution_count": 102,
     "metadata": {},
     "output_type": "execute_result"
    }
   ],
   "source": [
    "myarray3d"
   ]
  },
  {
   "cell_type": "code",
   "execution_count": 103,
   "id": "7eaa23b4-8ef2-483f-90ee-ceae02761969",
   "metadata": {},
   "outputs": [
    {
     "ename": "TypeError",
     "evalue": "unsupported operand type(s) for +: 'int' and 'tuple'",
     "output_type": "error",
     "traceback": [
      "\u001b[1;31m------------------------------------------------------------------------\u001b[0m",
      "\u001b[1;31mTypeError\u001b[0m                              Traceback (most recent call last)",
      "Cell \u001b[1;32mIn[103], line 1\u001b[0m\n\u001b[1;32m----> 1\u001b[0m \u001b[38;5;241;43m3\u001b[39;49m\u001b[43m \u001b[49m\u001b[38;5;241;43m+\u001b[39;49m\u001b[43m \u001b[49m\u001b[43m(\u001b[49m\u001b[38;5;241;43m1\u001b[39;49m\u001b[43m,\u001b[49m\u001b[38;5;241;43m2\u001b[39;49m\u001b[43m,\u001b[49m\u001b[38;5;241;43m3\u001b[39;49m\u001b[43m)\u001b[49m\n",
      "\u001b[1;31mTypeError\u001b[0m: unsupported operand type(s) for +: 'int' and 'tuple'"
     ]
    }
   ],
   "source": [
    "3 + (1,2,3)"
   ]
  },
  {
   "cell_type": "code",
   "execution_count": 104,
   "id": "856dc88c-cf3e-4bb3-b2a5-040a6aa6e146",
   "metadata": {},
   "outputs": [
    {
     "ename": "TypeError",
     "evalue": "unsupported operand type(s) for +: 'int' and 'set'",
     "output_type": "error",
     "traceback": [
      "\u001b[1;31m------------------------------------------------------------------------\u001b[0m",
      "\u001b[1;31mTypeError\u001b[0m                              Traceback (most recent call last)",
      "Cell \u001b[1;32mIn[104], line 1\u001b[0m\n\u001b[1;32m----> 1\u001b[0m \u001b[38;5;241;43m3\u001b[39;49m\u001b[43m \u001b[49m\u001b[38;5;241;43m+\u001b[39;49m\u001b[43m \u001b[49m\u001b[43m{\u001b[49m\u001b[38;5;241;43m1\u001b[39;49m\u001b[43m,\u001b[49m\u001b[38;5;241;43m2\u001b[39;49m\u001b[43m,\u001b[49m\u001b[38;5;241;43m3\u001b[39;49m\u001b[43m}\u001b[49m\n",
      "\u001b[1;31mTypeError\u001b[0m: unsupported operand type(s) for +: 'int' and 'set'"
     ]
    }
   ],
   "source": [
    "3 + {1,2,3}"
   ]
  },
  {
   "cell_type": "code",
   "execution_count": 105,
   "id": "a6cf23df-4fac-470e-98d4-e35989c67f64",
   "metadata": {},
   "outputs": [
    {
     "ename": "TypeError",
     "evalue": "unsupported operand type(s) for +: 'int' and 'dict'",
     "output_type": "error",
     "traceback": [
      "\u001b[1;31m------------------------------------------------------------------------\u001b[0m",
      "\u001b[1;31mTypeError\u001b[0m                              Traceback (most recent call last)",
      "Cell \u001b[1;32mIn[105], line 1\u001b[0m\n\u001b[1;32m----> 1\u001b[0m \u001b[38;5;241;43m3\u001b[39;49m\u001b[43m \u001b[49m\u001b[38;5;241;43m+\u001b[39;49m\u001b[43m \u001b[49m\u001b[43mmydict\u001b[49m\n",
      "\u001b[1;31mTypeError\u001b[0m: unsupported operand type(s) for +: 'int' and 'dict'"
     ]
    }
   ],
   "source": [
    "3 + mydict"
   ]
  },
  {
   "cell_type": "code",
   "execution_count": 106,
   "id": "0c3cb948-be49-45ee-a3ab-ffc1f70b753e",
   "metadata": {},
   "outputs": [
    {
     "data": {
      "text/plain": [
       "{'a': 1, 'b': 2}"
      ]
     },
     "execution_count": 106,
     "metadata": {},
     "output_type": "execute_result"
    }
   ],
   "source": [
    "mydict"
   ]
  },
  {
   "cell_type": "code",
   "execution_count": 107,
   "id": "ba7459f5-e325-4fc0-9b37-a33e961bc9d4",
   "metadata": {},
   "outputs": [
    {
     "ename": "TypeError",
     "evalue": "unsupported operand type(s) for +: 'dict' and 'int'",
     "output_type": "error",
     "traceback": [
      "\u001b[1;31m------------------------------------------------------------------------\u001b[0m",
      "\u001b[1;31mTypeError\u001b[0m                              Traceback (most recent call last)",
      "Cell \u001b[1;32mIn[107], line 1\u001b[0m\n\u001b[1;32m----> 1\u001b[0m \u001b[43mmyarraydict\u001b[49m\u001b[43m \u001b[49m\u001b[38;5;241;43m+\u001b[39;49m\u001b[43m \u001b[49m\u001b[38;5;241;43m3\u001b[39;49m\n",
      "\u001b[1;31mTypeError\u001b[0m: unsupported operand type(s) for +: 'dict' and 'int'"
     ]
    }
   ],
   "source": [
    "myarraydict + 3"
   ]
  },
  {
   "cell_type": "code",
   "execution_count": 108,
   "id": "050b2459-7a54-45e4-9a9e-6ae63217c8f2",
   "metadata": {},
   "outputs": [
    {
     "ename": "TypeError",
     "evalue": "unsupported operand type(s) for +: 'set' and 'int'",
     "output_type": "error",
     "traceback": [
      "\u001b[1;31m------------------------------------------------------------------------\u001b[0m",
      "\u001b[1;31mTypeError\u001b[0m                              Traceback (most recent call last)",
      "Cell \u001b[1;32mIn[108], line 1\u001b[0m\n\u001b[1;32m----> 1\u001b[0m \u001b[43mmyarrayset\u001b[49m\u001b[43m \u001b[49m\u001b[38;5;241;43m+\u001b[39;49m\u001b[43m \u001b[49m\u001b[38;5;241;43m3\u001b[39;49m\n",
      "\u001b[1;31mTypeError\u001b[0m: unsupported operand type(s) for +: 'set' and 'int'"
     ]
    }
   ],
   "source": [
    "myarrayset + 3"
   ]
  },
  {
   "cell_type": "markdown",
   "id": "98f10fe1-2621-4d39-b956-19cfbbb946cb",
   "metadata": {},
   "source": [
    "#### Mulitplication"
   ]
  },
  {
   "cell_type": "code",
   "execution_count": 109,
   "id": "fbeff659-5c7e-4f96-be18-29cede404287",
   "metadata": {},
   "outputs": [
    {
     "data": {
      "text/plain": [
       "array([1, 2, 3])"
      ]
     },
     "execution_count": 109,
     "metadata": {},
     "output_type": "execute_result"
    }
   ],
   "source": [
    "myarray1d "
   ]
  },
  {
   "cell_type": "code",
   "execution_count": 110,
   "id": "28363f37-f913-4c0b-b1a7-e371eab04f6d",
   "metadata": {},
   "outputs": [
    {
     "data": {
      "text/plain": [
       "array([3, 6, 9])"
      ]
     },
     "execution_count": 110,
     "metadata": {},
     "output_type": "execute_result"
    }
   ],
   "source": [
    "3 * myarray1d"
   ]
  },
  {
   "cell_type": "code",
   "execution_count": 111,
   "id": "14abcd9d-e101-4bcf-aa3b-3a3a32643e5a",
   "metadata": {},
   "outputs": [
    {
     "data": {
      "text/plain": [
       "array([[ 3,  6,  9],\n",
       "       [12, 15, 18]])"
      ]
     },
     "execution_count": 111,
     "metadata": {},
     "output_type": "execute_result"
    }
   ],
   "source": [
    "3 * myarray2d"
   ]
  },
  {
   "cell_type": "code",
   "execution_count": 112,
   "id": "e3f1bf41-6374-4923-8d6a-ffbcdf4afc4c",
   "metadata": {},
   "outputs": [
    {
     "data": {
      "text/plain": [
       "array([[[ 3,  6,  9],\n",
       "        [12, 15, 18],\n",
       "        [21, 24, 27]]])"
      ]
     },
     "execution_count": 112,
     "metadata": {},
     "output_type": "execute_result"
    }
   ],
   "source": [
    "3 * myarray3d"
   ]
  },
  {
   "cell_type": "code",
   "execution_count": 113,
   "id": "31114947-3bfb-4c6b-85e1-6951bd031d64",
   "metadata": {},
   "outputs": [
    {
     "data": {
      "text/plain": [
       "array([1, 4, 9])"
      ]
     },
     "execution_count": 113,
     "metadata": {},
     "output_type": "execute_result"
    }
   ],
   "source": [
    "myarray1d * myarray1d"
   ]
  },
  {
   "cell_type": "code",
   "execution_count": 114,
   "id": "a03f766c-6d5b-4b3a-8ef6-d94f9675413d",
   "metadata": {},
   "outputs": [
    {
     "data": {
      "text/plain": [
       "array([1, 2, 3])"
      ]
     },
     "execution_count": 114,
     "metadata": {},
     "output_type": "execute_result"
    }
   ],
   "source": [
    "myarray1d"
   ]
  },
  {
   "cell_type": "code",
   "execution_count": 115,
   "id": "2820cb60-885f-4a8a-8a43-25de9f9bf659",
   "metadata": {},
   "outputs": [
    {
     "data": {
      "text/plain": [
       "array([[ 1,  4,  9],\n",
       "       [16, 25, 36]])"
      ]
     },
     "execution_count": 115,
     "metadata": {},
     "output_type": "execute_result"
    }
   ],
   "source": [
    "myarray2d * myarray2d"
   ]
  },
  {
   "cell_type": "code",
   "execution_count": 116,
   "id": "9a17b39d-b8d8-4db0-b210-e1e31caeb5b5",
   "metadata": {},
   "outputs": [
    {
     "data": {
      "text/plain": [
       "array([[[ 1,  4,  9],\n",
       "        [16, 25, 36],\n",
       "        [49, 64, 81]]])"
      ]
     },
     "execution_count": 116,
     "metadata": {},
     "output_type": "execute_result"
    }
   ],
   "source": [
    "myarray3d * myarray3d"
   ]
  },
  {
   "cell_type": "code",
   "execution_count": 117,
   "id": "396830b8-d8f6-476f-b060-a04ee4660908",
   "metadata": {},
   "outputs": [
    {
     "data": {
      "text/plain": [
       "array([[ 1,  4,  9],\n",
       "       [ 4, 10, 18]])"
      ]
     },
     "execution_count": 117,
     "metadata": {},
     "output_type": "execute_result"
    }
   ],
   "source": [
    "myarray1d * myarray2d"
   ]
  },
  {
   "cell_type": "code",
   "execution_count": 118,
   "id": "00947fcc-4d52-44c4-8aa1-3054d6ff0777",
   "metadata": {},
   "outputs": [
    {
     "data": {
      "text/plain": [
       "array([1, 2, 3])"
      ]
     },
     "execution_count": 118,
     "metadata": {},
     "output_type": "execute_result"
    }
   ],
   "source": [
    "myarray1d"
   ]
  },
  {
   "cell_type": "code",
   "execution_count": 119,
   "id": "9438795a-21bf-48f3-8c9c-de3aab4eceba",
   "metadata": {},
   "outputs": [
    {
     "data": {
      "text/plain": [
       "array([[1, 2, 3],\n",
       "       [4, 5, 6]])"
      ]
     },
     "execution_count": 119,
     "metadata": {},
     "output_type": "execute_result"
    }
   ],
   "source": [
    "myarray2d"
   ]
  },
  {
   "cell_type": "code",
   "execution_count": 120,
   "id": "bcdcb5d7-eea8-4c26-80a5-ba2482c46256",
   "metadata": {},
   "outputs": [
    {
     "data": {
      "text/plain": [
       "array([[[ 2,  4,  6],\n",
       "        [ 5,  7,  9],\n",
       "        [ 8, 10, 12]]])"
      ]
     },
     "execution_count": 120,
     "metadata": {},
     "output_type": "execute_result"
    }
   ],
   "source": [
    "myarray1d + myarray3d"
   ]
  },
  {
   "cell_type": "code",
   "execution_count": 121,
   "id": "465580f1-2030-459b-a917-8554ecf98832",
   "metadata": {},
   "outputs": [
    {
     "ename": "ValueError",
     "evalue": "operands could not be broadcast together with shapes (2,3) (1,3,3) ",
     "output_type": "error",
     "traceback": [
      "\u001b[1;31m------------------------------------------------------------------------\u001b[0m",
      "\u001b[1;31mValueError\u001b[0m                             Traceback (most recent call last)",
      "Cell \u001b[1;32mIn[121], line 1\u001b[0m\n\u001b[1;32m----> 1\u001b[0m \u001b[43mmyarray2d\u001b[49m\u001b[43m \u001b[49m\u001b[38;5;241;43m+\u001b[39;49m\u001b[43m \u001b[49m\u001b[43mmyarray3d\u001b[49m\n",
      "\u001b[1;31mValueError\u001b[0m: operands could not be broadcast together with shapes (2,3) (1,3,3) "
     ]
    }
   ],
   "source": [
    "myarray2d + myarray3d"
   ]
  },
  {
   "cell_type": "code",
   "execution_count": 122,
   "id": "477e1a7c-9a72-4992-9421-abd3c2ce0824",
   "metadata": {},
   "outputs": [],
   "source": [
    "myarray31d = myarray2d + myarray2d"
   ]
  },
  {
   "cell_type": "code",
   "execution_count": 123,
   "id": "909d4576-69ff-46a0-b782-4aa577e6d9c9",
   "metadata": {},
   "outputs": [
    {
     "data": {
      "text/plain": [
       "array([[ 2,  4,  6],\n",
       "       [ 8, 10, 12]])"
      ]
     },
     "execution_count": 123,
     "metadata": {},
     "output_type": "execute_result"
    }
   ],
   "source": [
    "myarray31d"
   ]
  },
  {
   "cell_type": "code",
   "execution_count": 125,
   "id": "bb47fc87-c76d-4036-a6c7-117a2fb9786a",
   "metadata": {},
   "outputs": [],
   "source": [
    "mylist3dA = mylist2d + mylist2d"
   ]
  },
  {
   "cell_type": "code",
   "execution_count": 126,
   "id": "3c54fd7f-4ee8-4359-993b-e2670544e521",
   "metadata": {},
   "outputs": [
    {
     "data": {
      "text/plain": [
       "[[1, 2, 3], [4, 5, 6], [1, 2, 3], [4, 5, 6]]"
      ]
     },
     "execution_count": 126,
     "metadata": {},
     "output_type": "execute_result"
    }
   ],
   "source": [
    "mylist3dA"
   ]
  },
  {
   "cell_type": "code",
   "execution_count": 127,
   "id": "2d8d459a-f650-4ddf-b08e-952b86ee221c",
   "metadata": {},
   "outputs": [],
   "source": [
    "my3dA = np.array(mylist3dA)"
   ]
  },
  {
   "cell_type": "code",
   "execution_count": 128,
   "id": "42610e2b-d99a-4953-a216-327b08d401d4",
   "metadata": {},
   "outputs": [
    {
     "ename": "ValueError",
     "evalue": "operands could not be broadcast together with shapes (2,3) (4,3) ",
     "output_type": "error",
     "traceback": [
      "\u001b[1;31m------------------------------------------------------------------------\u001b[0m",
      "\u001b[1;31mValueError\u001b[0m                             Traceback (most recent call last)",
      "Cell \u001b[1;32mIn[128], line 1\u001b[0m\n\u001b[1;32m----> 1\u001b[0m \u001b[43mmyarray2d\u001b[49m\u001b[43m \u001b[49m\u001b[38;5;241;43m*\u001b[39;49m\u001b[43m \u001b[49m\u001b[43mmy3dA\u001b[49m \n",
      "\u001b[1;31mValueError\u001b[0m: operands could not be broadcast together with shapes (2,3) (4,3) "
     ]
    }
   ],
   "source": [
    "myarray2d * my3dA "
   ]
  },
  {
   "cell_type": "code",
   "execution_count": 129,
   "id": "3b4e4190-d5f6-4097-ac44-1d9200a92207",
   "metadata": {},
   "outputs": [
    {
     "data": {
      "text/plain": [
       "array([[1, 2, 3],\n",
       "       [4, 5, 6]])"
      ]
     },
     "execution_count": 129,
     "metadata": {},
     "output_type": "execute_result"
    }
   ],
   "source": [
    "myarray2d"
   ]
  },
  {
   "cell_type": "markdown",
   "id": "9d7ea1a2-5d3f-4eb7-9246-670673b2714c",
   "metadata": {},
   "source": [
    "# Numpy Intro part 2"
   ]
  },
  {
   "cell_type": "code",
   "execution_count": 130,
   "id": "f2e6fc7b-5d01-4a15-8944-53c92f3f5ce2",
   "metadata": {},
   "outputs": [],
   "source": [
    "arr1 = np.array([[1,2,3], [4,5,6],[7,8,9]])"
   ]
  },
  {
   "cell_type": "code",
   "execution_count": 131,
   "id": "43d3904a-d9d3-43a4-9cef-66bceeb8648e",
   "metadata": {},
   "outputs": [
    {
     "name": "stdout",
     "output_type": "stream",
     "text": [
      "Shape:  (3, 3)\n",
      "ndim:  2\n",
      "Size:  9\n",
      "DType:  int32\n"
     ]
    }
   ],
   "source": [
    "myarray003(arr1)"
   ]
  },
  {
   "cell_type": "code",
   "execution_count": 132,
   "id": "40665808-4d63-4b3c-b603-aaa3103216d3",
   "metadata": {},
   "outputs": [
    {
     "data": {
      "text/plain": [
       "array([1, 2, 3])"
      ]
     },
     "execution_count": 132,
     "metadata": {},
     "output_type": "execute_result"
    }
   ],
   "source": [
    "arr1[0]"
   ]
  },
  {
   "cell_type": "code",
   "execution_count": 133,
   "id": "0144d707-7ea3-4c61-a99f-c0a119cd9db9",
   "metadata": {},
   "outputs": [
    {
     "data": {
      "text/plain": [
       "1"
      ]
     },
     "execution_count": 133,
     "metadata": {},
     "output_type": "execute_result"
    }
   ],
   "source": [
    "arr1[0][0]"
   ]
  },
  {
   "cell_type": "code",
   "execution_count": 134,
   "id": "b367bf6e-14d4-43db-92c2-183ec986f1a7",
   "metadata": {},
   "outputs": [
    {
     "data": {
      "text/plain": [
       "6"
      ]
     },
     "execution_count": 134,
     "metadata": {},
     "output_type": "execute_result"
    }
   ],
   "source": [
    "arr1[1,2]"
   ]
  },
  {
   "cell_type": "code",
   "execution_count": 135,
   "id": "41617355-3078-425a-a207-b93c3fed400e",
   "metadata": {},
   "outputs": [],
   "source": [
    "row = 1"
   ]
  },
  {
   "cell_type": "code",
   "execution_count": 136,
   "id": "ff5d81e2-700f-4570-9af4-3e66c7358332",
   "metadata": {},
   "outputs": [],
   "source": [
    "col = 2"
   ]
  },
  {
   "cell_type": "code",
   "execution_count": 137,
   "id": "571252f7-1d7f-4528-b334-e3af6926ab3d",
   "metadata": {},
   "outputs": [
    {
     "data": {
      "text/plain": [
       "6"
      ]
     },
     "execution_count": 137,
     "metadata": {},
     "output_type": "execute_result"
    }
   ],
   "source": [
    "arr1[row, col]"
   ]
  },
  {
   "cell_type": "code",
   "execution_count": 138,
   "id": "85176e29-65fe-4215-bda8-0fe973ea45ab",
   "metadata": {},
   "outputs": [
    {
     "data": {
      "text/plain": [
       "array([4, 5, 6])"
      ]
     },
     "execution_count": 138,
     "metadata": {},
     "output_type": "execute_result"
    }
   ],
   "source": [
    "arr1[1]"
   ]
  },
  {
   "cell_type": "code",
   "execution_count": 139,
   "id": "93b97ee5-020b-475c-b28f-edddc2f8c1bf",
   "metadata": {},
   "outputs": [
    {
     "data": {
      "text/plain": [
       "array([1, 2, 3])"
      ]
     },
     "execution_count": 139,
     "metadata": {},
     "output_type": "execute_result"
    }
   ],
   "source": [
    "arr1[0]"
   ]
  },
  {
   "cell_type": "code",
   "execution_count": 140,
   "id": "2fc4d061-a54e-4ade-a099-83a2800b10bb",
   "metadata": {},
   "outputs": [
    {
     "data": {
      "text/plain": [
       "array([7, 8, 9])"
      ]
     },
     "execution_count": 140,
     "metadata": {},
     "output_type": "execute_result"
    }
   ],
   "source": [
    "arr1[2]"
   ]
  },
  {
   "cell_type": "code",
   "execution_count": 141,
   "id": "f50d9120-303e-439b-bc9c-5122dd482eda",
   "metadata": {},
   "outputs": [
    {
     "data": {
      "text/plain": [
       "array([2, 5, 8])"
      ]
     },
     "execution_count": 141,
     "metadata": {},
     "output_type": "execute_result"
    }
   ],
   "source": [
    "arr1[:, 1]"
   ]
  },
  {
   "cell_type": "code",
   "execution_count": 143,
   "id": "f820bc8b-b5c3-405d-aef4-5c708a61d6e5",
   "metadata": {},
   "outputs": [
    {
     "data": {
      "text/plain": [
       "5"
      ]
     },
     "execution_count": 143,
     "metadata": {},
     "output_type": "execute_result"
    }
   ],
   "source": [
    "arr1[row, 1]"
   ]
  },
  {
   "cell_type": "code",
   "execution_count": 144,
   "id": "7c276680-3dd8-4e29-8c56-042af4ecafeb",
   "metadata": {},
   "outputs": [
    {
     "data": {
      "text/plain": [
       "array([[2],\n",
       "       [5]])"
      ]
     },
     "execution_count": 144,
     "metadata": {},
     "output_type": "execute_result"
    }
   ],
   "source": [
    "arr1[0:2, 1:2]"
   ]
  },
  {
   "cell_type": "code",
   "execution_count": 145,
   "id": "b840896b-592c-4983-a253-1e759b52e6f3",
   "metadata": {},
   "outputs": [
    {
     "data": {
      "text/plain": [
       "array([[1, 2, 3],\n",
       "       [4, 5, 6],\n",
       "       [7, 8, 9]])"
      ]
     },
     "execution_count": 145,
     "metadata": {},
     "output_type": "execute_result"
    }
   ],
   "source": [
    "arr1"
   ]
  },
  {
   "cell_type": "code",
   "execution_count": 146,
   "id": "52940922-06f4-45f2-a33c-cc72122bae5a",
   "metadata": {},
   "outputs": [
    {
     "data": {
      "text/plain": [
       "array([1, 2, 3])"
      ]
     },
     "execution_count": 146,
     "metadata": {},
     "output_type": "execute_result"
    }
   ],
   "source": [
    "myarray1d"
   ]
  },
  {
   "cell_type": "code",
   "execution_count": 147,
   "id": "17c73947-6711-4d05-ac1b-23c9fb728206",
   "metadata": {},
   "outputs": [],
   "source": [
    "arr2 = myarray1d* 2 "
   ]
  },
  {
   "cell_type": "code",
   "execution_count": 148,
   "id": "81604d94-67d7-4c5b-854e-9b3e01d3cb76",
   "metadata": {},
   "outputs": [],
   "source": [
    "arr3 = myarray1d* 4 "
   ]
  },
  {
   "cell_type": "code",
   "execution_count": 149,
   "id": "394799c2-971d-4852-8495-77c061c9f6aa",
   "metadata": {},
   "outputs": [],
   "source": [
    "arr3 = arr3 + 2"
   ]
  },
  {
   "cell_type": "code",
   "execution_count": 150,
   "id": "d37a3a5d-250f-4c9c-bf5a-b7f68e34c3ce",
   "metadata": {},
   "outputs": [
    {
     "data": {
      "text/plain": [
       "array([ 6, 10, 14])"
      ]
     },
     "execution_count": 150,
     "metadata": {},
     "output_type": "execute_result"
    }
   ],
   "source": [
    "arr3"
   ]
  },
  {
   "cell_type": "code",
   "execution_count": 151,
   "id": "614e304b-94e0-4766-a615-fb87023460f8",
   "metadata": {},
   "outputs": [
    {
     "data": {
      "text/plain": [
       "array([2, 4, 6])"
      ]
     },
     "execution_count": 151,
     "metadata": {},
     "output_type": "execute_result"
    }
   ],
   "source": [
    "arr2"
   ]
  },
  {
   "cell_type": "code",
   "execution_count": 152,
   "id": "0b44ea37-52a6-49ab-b7b3-423956a01371",
   "metadata": {},
   "outputs": [],
   "source": [
    "arrdp = np.dot(arr2, arr3)"
   ]
  },
  {
   "cell_type": "code",
   "execution_count": 153,
   "id": "5d6118d4-46e8-4354-8550-6253b998c5c7",
   "metadata": {},
   "outputs": [
    {
     "data": {
      "text/plain": [
       "136"
      ]
     },
     "execution_count": 153,
     "metadata": {},
     "output_type": "execute_result"
    }
   ],
   "source": [
    "arrdp"
   ]
  },
  {
   "cell_type": "code",
   "execution_count": 154,
   "id": "25cc6c44-7285-4628-8976-15451b3a2879",
   "metadata": {},
   "outputs": [
    {
     "data": {
      "text/plain": [
       "148"
      ]
     },
     "execution_count": 154,
     "metadata": {},
     "output_type": "execute_result"
    }
   ],
   "source": [
    "2*6 + 4*10 + 6*16"
   ]
  },
  {
   "cell_type": "code",
   "execution_count": 155,
   "id": "ae5ca21e-ed7f-4cdc-84c0-843f8ca282f0",
   "metadata": {},
   "outputs": [
    {
     "data": {
      "text/plain": [
       "array([ 6, 10, 14])"
      ]
     },
     "execution_count": 155,
     "metadata": {},
     "output_type": "execute_result"
    }
   ],
   "source": [
    "arr3"
   ]
  },
  {
   "cell_type": "code",
   "execution_count": 156,
   "id": "9a423ce6-a232-440f-8f68-09394d697db3",
   "metadata": {},
   "outputs": [
    {
     "data": {
      "text/plain": [
       "array([2, 4, 6])"
      ]
     },
     "execution_count": 156,
     "metadata": {},
     "output_type": "execute_result"
    }
   ],
   "source": [
    "arr2"
   ]
  },
  {
   "cell_type": "code",
   "execution_count": 157,
   "id": "4c302f59-e406-47bd-b624-346de32d3b73",
   "metadata": {},
   "outputs": [
    {
     "data": {
      "text/plain": [
       "136"
      ]
     },
     "execution_count": 157,
     "metadata": {},
     "output_type": "execute_result"
    }
   ],
   "source": [
    "2*6 + 4*10 + 6*14"
   ]
  },
  {
   "cell_type": "code",
   "execution_count": 158,
   "id": "8f1170ca-1311-4b57-970e-2c4e03165d3f",
   "metadata": {},
   "outputs": [],
   "source": [
    "arrdp = np.dot(arr2, arr3)"
   ]
  },
  {
   "cell_type": "code",
   "execution_count": 159,
   "id": "6de375ad-e852-4c9e-a3a6-0f0f2556817d",
   "metadata": {},
   "outputs": [
    {
     "data": {
      "text/plain": [
       "136"
      ]
     },
     "execution_count": 159,
     "metadata": {},
     "output_type": "execute_result"
    }
   ],
   "source": [
    "arrdp"
   ]
  },
  {
   "cell_type": "code",
   "execution_count": 160,
   "id": "9721e37b-f0cd-481f-af1a-edb6a4c82acb",
   "metadata": {},
   "outputs": [
    {
     "data": {
      "text/plain": [
       "array([ 6, 10, 14])"
      ]
     },
     "execution_count": 160,
     "metadata": {},
     "output_type": "execute_result"
    }
   ],
   "source": [
    "arr3"
   ]
  },
  {
   "cell_type": "code",
   "execution_count": 161,
   "id": "bb9f7ab5-ec30-443d-b8d4-c80b3f4e454c",
   "metadata": {},
   "outputs": [
    {
     "data": {
      "text/plain": [
       "array([[ 6],\n",
       "       [10],\n",
       "       [14]])"
      ]
     },
     "execution_count": 161,
     "metadata": {},
     "output_type": "execute_result"
    }
   ],
   "source": [
    "arr3.reshape(3,1)"
   ]
  },
  {
   "cell_type": "markdown",
   "id": "e616f4b6-efc7-48c3-8075-b2fed4965360",
   "metadata": {},
   "source": [
    "##### useful array functions"
   ]
  },
  {
   "cell_type": "code",
   "execution_count": 162,
   "id": "b71d91c0-6c32-4794-a3d9-a902432e91c0",
   "metadata": {},
   "outputs": [
    {
     "data": {
      "text/plain": [
       "array([2, 4, 6])"
      ]
     },
     "execution_count": 162,
     "metadata": {},
     "output_type": "execute_result"
    }
   ],
   "source": [
    "arr2"
   ]
  },
  {
   "cell_type": "code",
   "execution_count": 163,
   "id": "ea9bff7f-651a-4881-8cf0-a84b22e589d5",
   "metadata": {},
   "outputs": [
    {
     "data": {
      "text/plain": [
       "12"
      ]
     },
     "execution_count": 163,
     "metadata": {},
     "output_type": "execute_result"
    }
   ],
   "source": [
    "arr2.sum()"
   ]
  },
  {
   "cell_type": "code",
   "execution_count": 164,
   "id": "7e401998-8e18-42c8-aab2-383f56e8c339",
   "metadata": {},
   "outputs": [
    {
     "data": {
      "text/plain": [
       "6"
      ]
     },
     "execution_count": 164,
     "metadata": {},
     "output_type": "execute_result"
    }
   ],
   "source": [
    "arr2.max()"
   ]
  },
  {
   "cell_type": "code",
   "execution_count": 165,
   "id": "e62120fc-0142-42f3-a403-6ec5dc940c38",
   "metadata": {},
   "outputs": [
    {
     "data": {
      "text/plain": [
       "2"
      ]
     },
     "execution_count": 165,
     "metadata": {},
     "output_type": "execute_result"
    }
   ],
   "source": [
    "arr2.min()"
   ]
  },
  {
   "cell_type": "code",
   "execution_count": 166,
   "id": "9c8e2307-ca3c-45e8-9115-33106c83cabe",
   "metadata": {},
   "outputs": [
    {
     "ename": "AttributeError",
     "evalue": "'numpy.ndarray' object has no attribute 'avg'",
     "output_type": "error",
     "traceback": [
      "\u001b[1;31m------------------------------------------------------------------------\u001b[0m",
      "\u001b[1;31mAttributeError\u001b[0m                         Traceback (most recent call last)",
      "Cell \u001b[1;32mIn[166], line 1\u001b[0m\n\u001b[1;32m----> 1\u001b[0m \u001b[43marr2\u001b[49m\u001b[38;5;241;43m.\u001b[39;49m\u001b[43mavg\u001b[49m()\n",
      "\u001b[1;31mAttributeError\u001b[0m: 'numpy.ndarray' object has no attribute 'avg'"
     ]
    }
   ],
   "source": [
    "arr2.avg()"
   ]
  },
  {
   "cell_type": "code",
   "execution_count": 167,
   "id": "98ef4a32-9119-42d5-a70b-9972a4499b46",
   "metadata": {},
   "outputs": [
    {
     "data": {
      "text/plain": [
       "4.0"
      ]
     },
     "execution_count": 167,
     "metadata": {},
     "output_type": "execute_result"
    }
   ],
   "source": [
    "arr2.mean()"
   ]
  },
  {
   "cell_type": "code",
   "execution_count": 168,
   "id": "b4cfbdc8-dc65-41be-8bfa-16690ea97d56",
   "metadata": {},
   "outputs": [
    {
     "data": {
      "text/plain": [
       "1.632993161855452"
      ]
     },
     "execution_count": 168,
     "metadata": {},
     "output_type": "execute_result"
    }
   ],
   "source": [
    "arr2.std()"
   ]
  },
  {
   "cell_type": "markdown",
   "id": "4c46c7f7-05ed-4bad-a1b6-322ea1a4ef5b",
   "metadata": {},
   "source": [
    "# Troubleshooting multiplication"
   ]
  },
  {
   "cell_type": "code",
   "execution_count": 169,
   "id": "70b86edf-58bb-4ffd-b52c-3bb76a023c0c",
   "metadata": {},
   "outputs": [
    {
     "ename": "ValueError",
     "evalue": "operands could not be broadcast together with shapes (2,3) (4,3) ",
     "output_type": "error",
     "traceback": [
      "\u001b[1;31m------------------------------------------------------------------------\u001b[0m",
      "\u001b[1;31mValueError\u001b[0m                             Traceback (most recent call last)",
      "Cell \u001b[1;32mIn[169], line 1\u001b[0m\n\u001b[1;32m----> 1\u001b[0m \u001b[43mmyarray2d\u001b[49m\u001b[43m \u001b[49m\u001b[38;5;241;43m*\u001b[39;49m\u001b[43m \u001b[49m\u001b[43mmy3dA\u001b[49m \n",
      "\u001b[1;31mValueError\u001b[0m: operands could not be broadcast together with shapes (2,3) (4,3) "
     ]
    }
   ],
   "source": [
    "myarray2d * my3dA "
   ]
  },
  {
   "cell_type": "code",
   "execution_count": 170,
   "id": "0d821c7b-7413-429c-b91a-7d852f2263cc",
   "metadata": {},
   "outputs": [
    {
     "data": {
      "text/plain": [
       "array([[1, 2, 3],\n",
       "       [4, 5, 6],\n",
       "       [1, 2, 3],\n",
       "       [4, 5, 6]])"
      ]
     },
     "execution_count": 170,
     "metadata": {},
     "output_type": "execute_result"
    }
   ],
   "source": [
    "my3dA"
   ]
  },
  {
   "cell_type": "code",
   "execution_count": 171,
   "id": "fca04dbd-3994-4b0d-aea8-386b4e83ea69",
   "metadata": {},
   "outputs": [
    {
     "data": {
      "text/plain": [
       "(4, 3)"
      ]
     },
     "execution_count": 171,
     "metadata": {},
     "output_type": "execute_result"
    }
   ],
   "source": [
    "my3dA.shape"
   ]
  },
  {
   "cell_type": "code",
   "execution_count": 172,
   "id": "506a35a4-34fc-4d3d-a7bf-92297b4302ff",
   "metadata": {},
   "outputs": [
    {
     "data": {
      "text/plain": [
       "array([[1, 2, 3],\n",
       "       [4, 5, 6]])"
      ]
     },
     "execution_count": 172,
     "metadata": {},
     "output_type": "execute_result"
    }
   ],
   "source": [
    "myarray2d"
   ]
  },
  {
   "cell_type": "code",
   "execution_count": 173,
   "id": "2689389a-3a49-4228-9160-2bc774909db2",
   "metadata": {},
   "outputs": [
    {
     "data": {
      "text/plain": [
       "(2, 3)"
      ]
     },
     "execution_count": 173,
     "metadata": {},
     "output_type": "execute_result"
    }
   ],
   "source": [
    "myarray2d.shape"
   ]
  },
  {
   "cell_type": "code",
   "execution_count": 174,
   "id": "85a995f5-8779-4203-89b6-1da1fc19664c",
   "metadata": {},
   "outputs": [
    {
     "ename": "ValueError",
     "evalue": "operands could not be broadcast together with shapes (2,3) (4,3) ",
     "output_type": "error",
     "traceback": [
      "\u001b[1;31m------------------------------------------------------------------------\u001b[0m",
      "\u001b[1;31mValueError\u001b[0m                             Traceback (most recent call last)",
      "Cell \u001b[1;32mIn[174], line 1\u001b[0m\n\u001b[1;32m----> 1\u001b[0m \u001b[43mmyarray2d\u001b[49m\u001b[43m \u001b[49m\u001b[38;5;241;43m+\u001b[39;49m\u001b[43m \u001b[49m\u001b[43mmy3dA\u001b[49m\n",
      "\u001b[1;31mValueError\u001b[0m: operands could not be broadcast together with shapes (2,3) (4,3) "
     ]
    }
   ],
   "source": [
    "myarray2d + my3dA"
   ]
  },
  {
   "cell_type": "code",
   "execution_count": 175,
   "id": "fdba5614-06ea-4f08-a919-12e1287a8b0a",
   "metadata": {},
   "outputs": [
    {
     "data": {
      "text/plain": [
       "array([1, 2, 3])"
      ]
     },
     "execution_count": 175,
     "metadata": {},
     "output_type": "execute_result"
    }
   ],
   "source": [
    "myarray1d"
   ]
  },
  {
   "cell_type": "code",
   "execution_count": 176,
   "id": "2406cad8-8eac-42f7-95c4-532011838f1f",
   "metadata": {},
   "outputs": [
    {
     "data": {
      "text/plain": [
       "(3,)"
      ]
     },
     "execution_count": 176,
     "metadata": {},
     "output_type": "execute_result"
    }
   ],
   "source": [
    "myarray1d.shape"
   ]
  },
  {
   "cell_type": "code",
   "execution_count": 177,
   "id": "c67bfdad-7378-4227-80ab-24748c0e723c",
   "metadata": {},
   "outputs": [
    {
     "data": {
      "text/plain": [
       "array([4, 5, 6])"
      ]
     },
     "execution_count": 177,
     "metadata": {},
     "output_type": "execute_result"
    }
   ],
   "source": [
    "myarray1d + 3"
   ]
  },
  {
   "cell_type": "code",
   "execution_count": 178,
   "id": "69303b84-17cf-4db4-a678-a04f0481b67f",
   "metadata": {},
   "outputs": [
    {
     "data": {
      "text/plain": [
       "array([3, 6, 9])"
      ]
     },
     "execution_count": 178,
     "metadata": {},
     "output_type": "execute_result"
    }
   ],
   "source": [
    "myarray1d * 3"
   ]
  },
  {
   "cell_type": "code",
   "execution_count": 179,
   "id": "825576b5-d456-4901-920d-0d54f369d2e5",
   "metadata": {},
   "outputs": [
    {
     "data": {
      "text/plain": [
       "array([2, 4, 6])"
      ]
     },
     "execution_count": 179,
     "metadata": {},
     "output_type": "execute_result"
    }
   ],
   "source": [
    "myarray1d + myarray1d"
   ]
  },
  {
   "cell_type": "code",
   "execution_count": 180,
   "id": "eb77b735-d028-456b-852c-9b79643d62e4",
   "metadata": {},
   "outputs": [
    {
     "data": {
      "text/plain": [
       "array([[1, 2, 3],\n",
       "       [4, 5, 6]])"
      ]
     },
     "execution_count": 180,
     "metadata": {},
     "output_type": "execute_result"
    }
   ],
   "source": [
    "myarray2d"
   ]
  },
  {
   "cell_type": "code",
   "execution_count": 181,
   "id": "6d11981d-e6ec-4034-b945-6c3030757c0d",
   "metadata": {},
   "outputs": [
    {
     "data": {
      "text/plain": [
       "array([[2, 4, 6],\n",
       "       [5, 7, 9]])"
      ]
     },
     "execution_count": 181,
     "metadata": {},
     "output_type": "execute_result"
    }
   ],
   "source": [
    "myarray1d + myarray2d"
   ]
  },
  {
   "cell_type": "code",
   "execution_count": 182,
   "id": "dc055d81-adb2-4472-bc01-728390b18b42",
   "metadata": {},
   "outputs": [
    {
     "data": {
      "text/plain": [
       "array([[ 1,  4,  9],\n",
       "       [ 4, 10, 18]])"
      ]
     },
     "execution_count": 182,
     "metadata": {},
     "output_type": "execute_result"
    }
   ],
   "source": [
    "myarray1d * myarray2d"
   ]
  },
  {
   "cell_type": "code",
   "execution_count": 183,
   "id": "f887ef08-eb78-41e7-aede-a88abcc45afe",
   "metadata": {},
   "outputs": [
    {
     "data": {
      "text/plain": [
       "array([[[1, 2, 3],\n",
       "        [4, 5, 6],\n",
       "        [7, 8, 9]]])"
      ]
     },
     "execution_count": 183,
     "metadata": {},
     "output_type": "execute_result"
    }
   ],
   "source": [
    "myarray3d"
   ]
  },
  {
   "cell_type": "code",
   "execution_count": 184,
   "id": "a0a3861f-7ec3-4bea-95de-59af21b80cb8",
   "metadata": {},
   "outputs": [
    {
     "data": {
      "text/plain": [
       "array([[1, 2, 3],\n",
       "       [4, 5, 6]])"
      ]
     },
     "execution_count": 184,
     "metadata": {},
     "output_type": "execute_result"
    }
   ],
   "source": [
    "myarray2d"
   ]
  },
  {
   "cell_type": "code",
   "execution_count": 185,
   "id": "8bad54dc-1f51-43bd-9cde-5bd556d7b036",
   "metadata": {},
   "outputs": [
    {
     "ename": "ValueError",
     "evalue": "operands could not be broadcast together with shapes (1,3,3) (2,3) ",
     "output_type": "error",
     "traceback": [
      "\u001b[1;31m------------------------------------------------------------------------\u001b[0m",
      "\u001b[1;31mValueError\u001b[0m                             Traceback (most recent call last)",
      "Cell \u001b[1;32mIn[185], line 1\u001b[0m\n\u001b[1;32m----> 1\u001b[0m \u001b[43mmyarray3d\u001b[49m\u001b[43m \u001b[49m\u001b[38;5;241;43m+\u001b[39;49m\u001b[43m \u001b[49m\u001b[43mmyarray2d\u001b[49m\n",
      "\u001b[1;31mValueError\u001b[0m: operands could not be broadcast together with shapes (1,3,3) (2,3) "
     ]
    }
   ],
   "source": [
    "myarray3d + myarray2d"
   ]
  },
  {
   "cell_type": "code",
   "execution_count": 199,
   "id": "568715a6-e5ff-4230-9403-8c2120c684ad",
   "metadata": {},
   "outputs": [],
   "source": [
    "mya4 = [ \n",
    "\n",
    "    [1,2,3],\n",
    "    [4,5,6],\n",
    "    [1,2,3],\n",
    "    [4,5,6] \n",
    "]"
   ]
  },
  {
   "cell_type": "code",
   "execution_count": 200,
   "id": "d2bccd66-5078-4820-90e4-6793db2d1df7",
   "metadata": {},
   "outputs": [
    {
     "data": {
      "text/plain": [
       "list"
      ]
     },
     "execution_count": 200,
     "metadata": {},
     "output_type": "execute_result"
    }
   ],
   "source": [
    "type(mya4)"
   ]
  },
  {
   "cell_type": "code",
   "execution_count": 201,
   "id": "2fcc9c31-be27-43b1-88aa-28944327aff6",
   "metadata": {},
   "outputs": [],
   "source": [
    "myarr4 = np.array(mya4)"
   ]
  },
  {
   "cell_type": "code",
   "execution_count": 202,
   "id": "39ae39e7-f6c8-4117-887b-697f7d285c55",
   "metadata": {},
   "outputs": [
    {
     "data": {
      "text/plain": [
       "(4, 3)"
      ]
     },
     "execution_count": 202,
     "metadata": {},
     "output_type": "execute_result"
    }
   ],
   "source": [
    "myarr4.shape"
   ]
  },
  {
   "cell_type": "code",
   "execution_count": 203,
   "id": "7f409928-9128-494e-a691-d0b5ad1eecd2",
   "metadata": {},
   "outputs": [
    {
     "data": {
      "text/plain": [
       "[[1, 2, 3], [4, 5, 6], [1, 2, 3], [4, 5, 6]]"
      ]
     },
     "execution_count": 203,
     "metadata": {},
     "output_type": "execute_result"
    }
   ],
   "source": [
    "mya4"
   ]
  },
  {
   "cell_type": "code",
   "execution_count": 204,
   "id": "d42fc4be-464f-4e1c-bee9-debc28b2cf2b",
   "metadata": {},
   "outputs": [
    {
     "ename": "ValueError",
     "evalue": "operands could not be broadcast together with shapes (2,3) (4,3) ",
     "output_type": "error",
     "traceback": [
      "\u001b[1;31m------------------------------------------------------------------------\u001b[0m",
      "\u001b[1;31mValueError\u001b[0m                             Traceback (most recent call last)",
      "Cell \u001b[1;32mIn[204], line 1\u001b[0m\n\u001b[1;32m----> 1\u001b[0m \u001b[43mmyarray2d\u001b[49m\u001b[43m \u001b[49m\u001b[38;5;241;43m+\u001b[39;49m\u001b[43m \u001b[49m\u001b[43mmya4\u001b[49m\n",
      "\u001b[1;31mValueError\u001b[0m: operands could not be broadcast together with shapes (2,3) (4,3) "
     ]
    }
   ],
   "source": [
    "myarray2d + mya4"
   ]
  },
  {
   "cell_type": "code",
   "execution_count": 205,
   "id": "3cf47a65-39e4-40e3-9a8e-d33cade42617",
   "metadata": {},
   "outputs": [],
   "source": [
    "mya4b = [ \n",
    "[\n",
    "    [1,2,3],\n",
    "    [4,5,6]\n",
    "],\n",
    "[\n",
    "    [1,2,3],\n",
    "    [4,5,6] \n",
    "]\n",
    "]"
   ]
  },
  {
   "cell_type": "code",
   "execution_count": 206,
   "id": "137747a1-da8b-413b-92f7-01f216e16e7c",
   "metadata": {},
   "outputs": [
    {
     "data": {
      "text/plain": [
       "list"
      ]
     },
     "execution_count": 206,
     "metadata": {},
     "output_type": "execute_result"
    }
   ],
   "source": [
    "type(mya4b)"
   ]
  },
  {
   "cell_type": "code",
   "execution_count": 207,
   "id": "f98eab14-ae2b-4f78-acdb-f3107f39de3f",
   "metadata": {},
   "outputs": [],
   "source": [
    "myarr4b = np.array(mya4b)"
   ]
  },
  {
   "cell_type": "code",
   "execution_count": 208,
   "id": "0767855c-0382-4a77-9a36-3efb8e191751",
   "metadata": {},
   "outputs": [
    {
     "data": {
      "text/plain": [
       "(2, 2, 3)"
      ]
     },
     "execution_count": 208,
     "metadata": {},
     "output_type": "execute_result"
    }
   ],
   "source": [
    "myarr4b.shape"
   ]
  },
  {
   "cell_type": "code",
   "execution_count": 209,
   "id": "62fb5fae-b43e-43e0-a1e3-ae7ac7cde140",
   "metadata": {},
   "outputs": [
    {
     "data": {
      "text/plain": [
       "array([[[ 2,  4,  6],\n",
       "        [ 8, 10, 12]],\n",
       "\n",
       "       [[ 2,  4,  6],\n",
       "        [ 8, 10, 12]]])"
      ]
     },
     "execution_count": 209,
     "metadata": {},
     "output_type": "execute_result"
    }
   ],
   "source": [
    "myarr4b + myarray2d"
   ]
  },
  {
   "cell_type": "code",
   "execution_count": 211,
   "id": "6e1d3cd9-5559-4b8a-a542-59498160825c",
   "metadata": {},
   "outputs": [
    {
     "data": {
      "text/plain": [
       "array([[[ 1,  4,  9],\n",
       "        [16, 25, 36]],\n",
       "\n",
       "       [[ 1,  4,  9],\n",
       "        [16, 25, 36]]])"
      ]
     },
     "execution_count": 211,
     "metadata": {},
     "output_type": "execute_result"
    }
   ],
   "source": [
    "myarr4b * myarray2d"
   ]
  },
  {
   "cell_type": "markdown",
   "id": "29613ff0-cf7c-4a10-a0ff-351145fa1661",
   "metadata": {},
   "source": [
    "# NP Zeros"
   ]
  },
  {
   "cell_type": "code",
   "execution_count": 213,
   "id": "d73fe5ba-96ac-4481-9be1-69a70e02096e",
   "metadata": {},
   "outputs": [],
   "source": [
    "#import numpy as np\n",
    "arrzeros = np.zeros((1,3))"
   ]
  },
  {
   "cell_type": "code",
   "execution_count": 214,
   "id": "019ddb27-6d8c-48a8-b029-b2c60551a6a5",
   "metadata": {},
   "outputs": [],
   "source": [
    "arr0s = np.zeros(5)"
   ]
  },
  {
   "cell_type": "code",
   "execution_count": 215,
   "id": "37eb7629-1383-4363-85b5-39eac097129c",
   "metadata": {},
   "outputs": [
    {
     "data": {
      "text/plain": [
       "array([0., 0., 0., 0., 0.])"
      ]
     },
     "execution_count": 215,
     "metadata": {},
     "output_type": "execute_result"
    }
   ],
   "source": [
    "arr0s"
   ]
  },
  {
   "cell_type": "code",
   "execution_count": 216,
   "id": "b2481120-bcbe-4810-84ef-c8debb46ccfd",
   "metadata": {},
   "outputs": [
    {
     "data": {
      "text/plain": [
       "array([[0., 0., 0.]])"
      ]
     },
     "execution_count": 216,
     "metadata": {},
     "output_type": "execute_result"
    }
   ],
   "source": [
    "arrzeros"
   ]
  },
  {
   "cell_type": "code",
   "execution_count": 217,
   "id": "ba68be64-3f7e-4317-a1cb-c12c1566daab",
   "metadata": {},
   "outputs": [],
   "source": [
    "arr2dzeros = np.zeros((2,3))"
   ]
  },
  {
   "cell_type": "code",
   "execution_count": 218,
   "id": "99d266b3-7f04-41b9-86e3-f061ef69cd1b",
   "metadata": {},
   "outputs": [
    {
     "data": {
      "text/plain": [
       "array([[0., 0., 0.],\n",
       "       [0., 0., 0.]])"
      ]
     },
     "execution_count": 218,
     "metadata": {},
     "output_type": "execute_result"
    }
   ],
   "source": [
    "arr2dzeros"
   ]
  },
  {
   "cell_type": "code",
   "execution_count": 220,
   "id": "4c83b61f-5940-4232-9697-386d3e82ff0c",
   "metadata": {},
   "outputs": [],
   "source": [
    "arr3dzeros = np.zeros((3,3))"
   ]
  },
  {
   "cell_type": "code",
   "execution_count": 221,
   "id": "64c8498d-d93d-49da-877a-495366cbd23a",
   "metadata": {},
   "outputs": [
    {
     "data": {
      "text/plain": [
       "array([[0., 0., 0.],\n",
       "       [0., 0., 0.],\n",
       "       [0., 0., 0.]])"
      ]
     },
     "execution_count": 221,
     "metadata": {},
     "output_type": "execute_result"
    }
   ],
   "source": [
    "arr3dzeros"
   ]
  },
  {
   "cell_type": "code",
   "execution_count": 223,
   "id": "c3d59c9d-adee-4690-ac34-22e011547aec",
   "metadata": {},
   "outputs": [],
   "source": [
    "arrmultiDzeros = np.zeros((2,3,4))"
   ]
  },
  {
   "cell_type": "code",
   "execution_count": 224,
   "id": "2d706c29-0c44-4909-a404-77472a5f4a02",
   "metadata": {},
   "outputs": [
    {
     "data": {
      "text/plain": [
       "array([[[0., 0., 0., 0.],\n",
       "        [0., 0., 0., 0.],\n",
       "        [0., 0., 0., 0.]],\n",
       "\n",
       "       [[0., 0., 0., 0.],\n",
       "        [0., 0., 0., 0.],\n",
       "        [0., 0., 0., 0.]]])"
      ]
     },
     "execution_count": 224,
     "metadata": {},
     "output_type": "execute_result"
    }
   ],
   "source": [
    "arrmultiDzeros"
   ]
  },
  {
   "cell_type": "code",
   "execution_count": 225,
   "id": "b4be69f6-0598-4431-ad45-62f274aa3d54",
   "metadata": {},
   "outputs": [],
   "source": [
    "farr = np.zeros((2,3), order='F')"
   ]
  },
  {
   "cell_type": "code",
   "execution_count": 226,
   "id": "cbb4db7a-f2b2-4b49-ba13-84069c1fc0fd",
   "metadata": {},
   "outputs": [],
   "source": [
    "carr = np.zeros((2,3), order='C')"
   ]
  },
  {
   "cell_type": "code",
   "execution_count": 227,
   "id": "b8d599d1-ce9e-43e6-8f00-566f25c13189",
   "metadata": {},
   "outputs": [
    {
     "data": {
      "text/plain": [
       "array([[0., 0., 0.],\n",
       "       [0., 0., 0.]])"
      ]
     },
     "execution_count": 227,
     "metadata": {},
     "output_type": "execute_result"
    }
   ],
   "source": [
    "farr"
   ]
  },
  {
   "cell_type": "code",
   "execution_count": 228,
   "id": "65455040-6ea4-492a-8b48-6597da3a33fb",
   "metadata": {},
   "outputs": [
    {
     "data": {
      "text/plain": [
       "array([[0., 0., 0.],\n",
       "       [0., 0., 0.]])"
      ]
     },
     "execution_count": 228,
     "metadata": {},
     "output_type": "execute_result"
    }
   ],
   "source": [
    "carr"
   ]
  },
  {
   "cell_type": "code",
   "execution_count": 229,
   "id": "18d945dd-e87a-4faf-9ada-f66384c04f7b",
   "metadata": {},
   "outputs": [
    {
     "data": {
      "text/plain": [
       "numpy.ndarray"
      ]
     },
     "execution_count": 229,
     "metadata": {},
     "output_type": "execute_result"
    }
   ],
   "source": [
    "type(farr)"
   ]
  },
  {
   "cell_type": "code",
   "execution_count": 230,
   "id": "ff718008-3537-4826-a37e-020234c9b541",
   "metadata": {},
   "outputs": [
    {
     "data": {
      "text/plain": [
       "numpy.ndarray"
      ]
     },
     "execution_count": 230,
     "metadata": {},
     "output_type": "execute_result"
    }
   ],
   "source": [
    "type(carr)"
   ]
  },
  {
   "cell_type": "markdown",
   "id": "1877211d-a279-46f7-92e1-6cabe089e7f3",
   "metadata": {},
   "source": [
    "# Lecture 12 NP ones"
   ]
  },
  {
   "cell_type": "code",
   "execution_count": 1,
   "id": "50dd401c-4477-4b7b-8a7b-ada3410a327f",
   "metadata": {},
   "outputs": [],
   "source": [
    "#import numpy as np"
   ]
  },
  {
   "cell_type": "code",
   "execution_count": 2,
   "id": "464e9cd0-89e5-4d48-a09c-8c224e4f1761",
   "metadata": {},
   "outputs": [
    {
     "data": {
      "application/javascript": [
       "\n",
       "        if (window._pyforest_update_imports_cell) { window._pyforest_update_imports_cell('import numpy as np'); }\n",
       "    "
      ],
      "text/plain": [
       "<IPython.core.display.Javascript object>"
      ]
     },
     "metadata": {},
     "output_type": "display_data"
    }
   ],
   "source": [
    "arr = np.ones(10)"
   ]
  },
  {
   "cell_type": "code",
   "execution_count": 3,
   "id": "0e0bf1ce-0f61-4a00-94a2-776f823f73e2",
   "metadata": {},
   "outputs": [
    {
     "data": {
      "text/plain": [
       "array([1., 1., 1., 1., 1., 1., 1., 1., 1., 1.])"
      ]
     },
     "execution_count": 3,
     "metadata": {},
     "output_type": "execute_result"
    }
   ],
   "source": [
    "arr"
   ]
  },
  {
   "cell_type": "code",
   "execution_count": 4,
   "id": "b39498b0-c564-4591-a565-7b05f5c8169a",
   "metadata": {},
   "outputs": [
    {
     "data": {
      "application/javascript": [
       "\n",
       "        if (window._pyforest_update_imports_cell) { window._pyforest_update_imports_cell('import numpy as np'); }\n",
       "    "
      ],
      "text/plain": [
       "<IPython.core.display.Javascript object>"
      ]
     },
     "metadata": {},
     "output_type": "display_data"
    }
   ],
   "source": [
    "arr2d = np.ones((2,3), dtype= int)"
   ]
  },
  {
   "cell_type": "code",
   "execution_count": 5,
   "id": "6c769a30-1257-4c88-b7a3-7495194f8815",
   "metadata": {},
   "outputs": [
    {
     "data": {
      "text/plain": [
       "array([[1, 1, 1],\n",
       "       [1, 1, 1]])"
      ]
     },
     "execution_count": 5,
     "metadata": {},
     "output_type": "execute_result"
    }
   ],
   "source": [
    "arr2d"
   ]
  },
  {
   "cell_type": "markdown",
   "id": "8373c6cd-25b5-4b02-98a9-1668e8c3b87a",
   "metadata": {},
   "source": [
    "# Complext ones"
   ]
  },
  {
   "cell_type": "code",
   "execution_count": 13,
   "id": "3b12c123-f3ec-497d-951a-8bb652163701",
   "metadata": {},
   "outputs": [
    {
     "data": {
      "application/javascript": [
       "\n",
       "        if (window._pyforest_update_imports_cell) { window._pyforest_update_imports_cell('import numpy as np'); }\n",
       "    "
      ],
      "text/plain": [
       "<IPython.core.display.Javascript object>"
      ]
     },
     "metadata": {},
     "output_type": "display_data"
    }
   ],
   "source": [
    "arrc = np.ones(5, dtype=complex)"
   ]
  },
  {
   "cell_type": "code",
   "execution_count": 14,
   "id": "68ca2046-990e-4254-ba97-202dae671686",
   "metadata": {},
   "outputs": [
    {
     "data": {
      "text/plain": [
       "array([1.+0.j, 1.+0.j, 1.+0.j, 1.+0.j, 1.+0.j])"
      ]
     },
     "execution_count": 14,
     "metadata": {},
     "output_type": "execute_result"
    }
   ],
   "source": [
    "arrc"
   ]
  },
  {
   "cell_type": "code",
   "execution_count": 17,
   "id": "5e17b906-c86b-4c3b-9cb2-b924fd384bc9",
   "metadata": {},
   "outputs": [
    {
     "data": {
      "application/javascript": [
       "\n",
       "        if (window._pyforest_update_imports_cell) { window._pyforest_update_imports_cell('import numpy as np'); }\n",
       "    "
      ],
      "text/plain": [
       "<IPython.core.display.Javascript object>"
      ]
     },
     "metadata": {},
     "output_type": "display_data"
    }
   ],
   "source": [
    "arrc2d = np.ones((2,3), dtype=complex)"
   ]
  },
  {
   "cell_type": "code",
   "execution_count": 18,
   "id": "92f046c2-9c19-4772-a21b-6732aa316619",
   "metadata": {},
   "outputs": [
    {
     "data": {
      "text/plain": [
       "array([[1.+0.j, 1.+0.j, 1.+0.j],\n",
       "       [1.+0.j, 1.+0.j, 1.+0.j]])"
      ]
     },
     "execution_count": 18,
     "metadata": {},
     "output_type": "execute_result"
    }
   ],
   "source": [
    "arrc2d"
   ]
  },
  {
   "cell_type": "code",
   "execution_count": 19,
   "id": "3f6730ad-439c-4926-908f-03465a79827b",
   "metadata": {},
   "outputs": [
    {
     "data": {
      "application/javascript": [
       "\n",
       "        if (window._pyforest_update_imports_cell) { window._pyforest_update_imports_cell('import numpy as np'); }\n",
       "    "
      ],
      "text/plain": [
       "<IPython.core.display.Javascript object>"
      ]
     },
     "metadata": {},
     "output_type": "display_data"
    }
   ],
   "source": [
    "arrc3d = np.ones((2,2,3), dtype=complex)"
   ]
  },
  {
   "cell_type": "code",
   "execution_count": 20,
   "id": "861e7658-b84b-4c3a-bba4-5235c4d6174c",
   "metadata": {},
   "outputs": [
    {
     "data": {
      "text/plain": [
       "array([[[1.+0.j, 1.+0.j, 1.+0.j],\n",
       "        [1.+0.j, 1.+0.j, 1.+0.j]],\n",
       "\n",
       "       [[1.+0.j, 1.+0.j, 1.+0.j],\n",
       "        [1.+0.j, 1.+0.j, 1.+0.j]]])"
      ]
     },
     "execution_count": 20,
     "metadata": {},
     "output_type": "execute_result"
    }
   ],
   "source": [
    "arrc3d"
   ]
  },
  {
   "cell_type": "code",
   "execution_count": 21,
   "id": "34fe03f2-41a0-4a92-8290-3310fbb9c83a",
   "metadata": {},
   "outputs": [
    {
     "data": {
      "application/javascript": [
       "\n",
       "        if (window._pyforest_update_imports_cell) { window._pyforest_update_imports_cell('import numpy as np'); }\n",
       "    "
      ],
      "text/plain": [
       "<IPython.core.display.Javascript object>"
      ]
     },
     "metadata": {},
     "output_type": "display_data"
    }
   ],
   "source": [
    "arronesF = np.ones((2,3), dtype=int, order='F')"
   ]
  },
  {
   "cell_type": "code",
   "execution_count": 23,
   "id": "0e74ffe3-db10-43c0-bde8-f8dba1714e32",
   "metadata": {},
   "outputs": [
    {
     "data": {
      "application/javascript": [
       "\n",
       "        if (window._pyforest_update_imports_cell) { window._pyforest_update_imports_cell('import numpy as np'); }\n",
       "    "
      ],
      "text/plain": [
       "<IPython.core.display.Javascript object>"
      ]
     },
     "metadata": {},
     "output_type": "display_data"
    }
   ],
   "source": [
    "arronesC = np.ones((2,3), dtype = int, order='C')"
   ]
  },
  {
   "cell_type": "code",
   "execution_count": 24,
   "id": "f8c4e1e6-7c33-4895-b4db-4c4cfeb59548",
   "metadata": {},
   "outputs": [
    {
     "data": {
      "text/plain": [
       "array([[1, 1, 1],\n",
       "       [1, 1, 1]])"
      ]
     },
     "execution_count": 24,
     "metadata": {},
     "output_type": "execute_result"
    }
   ],
   "source": [
    "arronesF"
   ]
  },
  {
   "cell_type": "code",
   "execution_count": 25,
   "id": "6c052f40-4f46-489e-b358-2fc1369d6d62",
   "metadata": {},
   "outputs": [
    {
     "data": {
      "text/plain": [
       "array([[1, 1, 1],\n",
       "       [1, 1, 1]])"
      ]
     },
     "execution_count": 25,
     "metadata": {},
     "output_type": "execute_result"
    }
   ],
   "source": [
    "arronesC"
   ]
  },
  {
   "cell_type": "code",
   "execution_count": 26,
   "id": "6b0b5d01-1cef-46a4-b9dc-20f32085b17b",
   "metadata": {},
   "outputs": [
    {
     "data": {
      "application/javascript": [
       "\n",
       "        if (window._pyforest_update_imports_cell) { window._pyforest_update_imports_cell('import numpy as np'); }\n",
       "    "
      ],
      "text/plain": [
       "<IPython.core.display.Javascript object>"
      ]
     },
     "metadata": {},
     "output_type": "display_data"
    }
   ],
   "source": [
    "dt = np.dtype([('x', 'int32'), ('y', 'float64')])"
   ]
  },
  {
   "cell_type": "code",
   "execution_count": 27,
   "id": "17b824a4-035a-4b56-8833-21b286fa11a7",
   "metadata": {},
   "outputs": [
    {
     "data": {
      "application/javascript": [
       "\n",
       "        if (window._pyforest_update_imports_cell) { window._pyforest_update_imports_cell('import numpy as np'); }\n",
       "    "
      ],
      "text/plain": [
       "<IPython.core.display.Javascript object>"
      ]
     },
     "metadata": {},
     "output_type": "display_data"
    }
   ],
   "source": [
    "arr = np.ones(3, dtype=dt)"
   ]
  },
  {
   "cell_type": "code",
   "execution_count": 28,
   "id": "ed9566dd-fdfd-44b5-bbc7-63d863262d6a",
   "metadata": {},
   "outputs": [
    {
     "data": {
      "text/plain": [
       "array([(1, 1.), (1, 1.), (1, 1.)], dtype=[('x', '<i4'), ('y', '<f8')])"
      ]
     },
     "execution_count": 28,
     "metadata": {},
     "output_type": "execute_result"
    }
   ],
   "source": [
    "arr"
   ]
  },
  {
   "cell_type": "markdown",
   "id": "aed94855-5ecf-46fc-acb0-07c39eab1271",
   "metadata": {},
   "source": [
    "# Numpy arange function"
   ]
  },
  {
   "cell_type": "code",
   "execution_count": 29,
   "id": "82339c37-90fb-49d0-9944-97ba5bd1e6d9",
   "metadata": {},
   "outputs": [],
   "source": [
    "#numpy.arange([start,] stop, [step,] dtype=None)"
   ]
  },
  {
   "cell_type": "code",
   "execution_count": 30,
   "id": "7a21141d-acd8-4f76-b276-6525457d311c",
   "metadata": {},
   "outputs": [],
   "source": [
    "import numpy as np"
   ]
  },
  {
   "cell_type": "code",
   "execution_count": 31,
   "id": "03424229-1d41-4b47-8da3-f6c57fa39323",
   "metadata": {},
   "outputs": [],
   "source": [
    "arng1 = np.arange(10)"
   ]
  },
  {
   "cell_type": "code",
   "execution_count": 32,
   "id": "e4a0d143-2466-41b5-8143-09f52d48940a",
   "metadata": {},
   "outputs": [
    {
     "data": {
      "text/plain": [
       "array([0, 1, 2, 3, 4, 5, 6, 7, 8, 9])"
      ]
     },
     "execution_count": 32,
     "metadata": {},
     "output_type": "execute_result"
    }
   ],
   "source": [
    "arng1"
   ]
  },
  {
   "cell_type": "code",
   "execution_count": 33,
   "id": "260af94c-ac42-424f-bc9b-84ec3a167958",
   "metadata": {},
   "outputs": [],
   "source": [
    "arng100 = np.arange(100)"
   ]
  },
  {
   "cell_type": "code",
   "execution_count": 34,
   "id": "71aabde2-4ed9-480f-aa5f-e458c543a7a5",
   "metadata": {},
   "outputs": [
    {
     "data": {
      "text/plain": [
       "array([ 0,  1,  2,  3,  4,  5,  6,  7,  8,  9, 10, 11, 12, 13, 14, 15, 16,\n",
       "       17, 18, 19, 20, 21, 22, 23, 24, 25, 26, 27, 28, 29, 30, 31, 32, 33,\n",
       "       34, 35, 36, 37, 38, 39, 40, 41, 42, 43, 44, 45, 46, 47, 48, 49, 50,\n",
       "       51, 52, 53, 54, 55, 56, 57, 58, 59, 60, 61, 62, 63, 64, 65, 66, 67,\n",
       "       68, 69, 70, 71, 72, 73, 74, 75, 76, 77, 78, 79, 80, 81, 82, 83, 84,\n",
       "       85, 86, 87, 88, 89, 90, 91, 92, 93, 94, 95, 96, 97, 98, 99])"
      ]
     },
     "execution_count": 34,
     "metadata": {},
     "output_type": "execute_result"
    }
   ],
   "source": [
    "arng100"
   ]
  },
  {
   "cell_type": "code",
   "execution_count": 35,
   "id": "69b98fe5-e281-4048-baa9-c0af0f4c8f0c",
   "metadata": {},
   "outputs": [],
   "source": [
    "arng2 = np.arange(10,2)"
   ]
  },
  {
   "cell_type": "code",
   "execution_count": 36,
   "id": "c97f884f-9d12-40aa-8c45-a8fcf9070aa4",
   "metadata": {},
   "outputs": [
    {
     "data": {
      "text/plain": [
       "array([], dtype=int32)"
      ]
     },
     "execution_count": 36,
     "metadata": {},
     "output_type": "execute_result"
    }
   ],
   "source": [
    "arng2"
   ]
  },
  {
   "cell_type": "code",
   "execution_count": 37,
   "id": "a5d40414-c522-4344-af8c-d6420a4e5aa3",
   "metadata": {},
   "outputs": [
    {
     "ename": "SyntaxError",
     "evalue": "invalid syntax (2963385560.py, line 1)",
     "output_type": "error",
     "traceback": [
      "\u001b[1;36m  Cell \u001b[1;32mIn[37], line 1\u001b[1;36m\u001b[0m\n\u001b[1;33m    arng2 = np.arange(10:2)\u001b[0m\n\u001b[1;37m                        ^\u001b[0m\n\u001b[1;31mSyntaxError\u001b[0m\u001b[1;31m:\u001b[0m invalid syntax\n"
     ]
    }
   ],
   "source": [
    "arng2 = np.arange(10:2)"
   ]
  },
  {
   "cell_type": "code",
   "execution_count": 38,
   "id": "593b136a-e076-42df-bcc0-9347ef88e7c8",
   "metadata": {},
   "outputs": [
    {
     "ename": "SyntaxError",
     "evalue": "invalid syntax (2237557754.py, line 1)",
     "output_type": "error",
     "traceback": [
      "\u001b[1;36m  Cell \u001b[1;32mIn[38], line 1\u001b[1;36m\u001b[0m\n\u001b[1;33m    arng2=np.arange(,10,2)\u001b[0m\n\u001b[1;37m                    ^\u001b[0m\n\u001b[1;31mSyntaxError\u001b[0m\u001b[1;31m:\u001b[0m invalid syntax\n"
     ]
    }
   ],
   "source": [
    "arng2=np.arange(,10,2)"
   ]
  },
  {
   "cell_type": "code",
   "execution_count": 39,
   "id": "b6eed079-d024-4777-9caa-0d2d61f20323",
   "metadata": {},
   "outputs": [
    {
     "ename": "SyntaxError",
     "evalue": "invalid syntax (2872407980.py, line 1)",
     "output_type": "error",
     "traceback": [
      "\u001b[1;36m  Cell \u001b[1;32mIn[39], line 1\u001b[1;36m\u001b[0m\n\u001b[1;33m    arng2=np.arange(:10, 2)\u001b[0m\n\u001b[1;37m                    ^\u001b[0m\n\u001b[1;31mSyntaxError\u001b[0m\u001b[1;31m:\u001b[0m invalid syntax\n"
     ]
    }
   ],
   "source": [
    "arng2=np.arange(:10, 2)"
   ]
  },
  {
   "cell_type": "code",
   "execution_count": 40,
   "id": "b7e71167-92e1-4ffa-b697-030b9a340793",
   "metadata": {},
   "outputs": [],
   "source": [
    "arng2 = np.arange(0,10,2)"
   ]
  },
  {
   "cell_type": "code",
   "execution_count": 41,
   "id": "50d3aaed-6769-4ec2-9d1c-e39d1323194d",
   "metadata": {},
   "outputs": [
    {
     "data": {
      "text/plain": [
       "array([0, 2, 4, 6, 8])"
      ]
     },
     "execution_count": 41,
     "metadata": {},
     "output_type": "execute_result"
    }
   ],
   "source": [
    "arng2"
   ]
  },
  {
   "cell_type": "code",
   "execution_count": 42,
   "id": "4cf06e52-deae-4191-b73e-4366a3714050",
   "metadata": {},
   "outputs": [],
   "source": [
    "arng5 = np.arange(0, 26, 5)"
   ]
  },
  {
   "cell_type": "code",
   "execution_count": 43,
   "id": "fa496bb7-13aa-4e32-a326-7013e36ab529",
   "metadata": {},
   "outputs": [
    {
     "data": {
      "text/plain": [
       "array([ 0,  5, 10, 15, 20, 25])"
      ]
     },
     "execution_count": 43,
     "metadata": {},
     "output_type": "execute_result"
    }
   ],
   "source": [
    "arng5"
   ]
  },
  {
   "cell_type": "code",
   "execution_count": 44,
   "id": "80dba431-d070-4166-879f-c630474242a3",
   "metadata": {},
   "outputs": [],
   "source": [
    "arng5_2_3 = arng5.reshape(2,3)"
   ]
  },
  {
   "cell_type": "code",
   "execution_count": 45,
   "id": "65813c85-99a1-40d9-b757-bf7f306504a9",
   "metadata": {},
   "outputs": [
    {
     "data": {
      "text/plain": [
       "array([[ 0,  5, 10],\n",
       "       [15, 20, 25]])"
      ]
     },
     "execution_count": 45,
     "metadata": {},
     "output_type": "execute_result"
    }
   ],
   "source": [
    "arng5_2_3"
   ]
  },
  {
   "cell_type": "code",
   "execution_count": 46,
   "id": "002bca2c-a2b5-4a89-aaf7-3579bf462fc4",
   "metadata": {},
   "outputs": [],
   "source": [
    "arr3 = np.arange(0,30, 3)"
   ]
  },
  {
   "cell_type": "code",
   "execution_count": 47,
   "id": "acc85bc8-4ace-4a59-8fcb-0f8dafb281e6",
   "metadata": {},
   "outputs": [
    {
     "data": {
      "text/plain": [
       "array([ 0,  3,  6,  9, 12, 15, 18, 21, 24, 27])"
      ]
     },
     "execution_count": 47,
     "metadata": {},
     "output_type": "execute_result"
    }
   ],
   "source": [
    "arr3"
   ]
  },
  {
   "cell_type": "code",
   "execution_count": 48,
   "id": "24d4acdd-0165-4ded-9af3-1337a4c73e35",
   "metadata": {},
   "outputs": [],
   "source": [
    "arr4 = np.arange(0, -100, -1)"
   ]
  },
  {
   "cell_type": "code",
   "execution_count": 49,
   "id": "8004b6ee-f2f9-40ef-a467-626e171a85f5",
   "metadata": {},
   "outputs": [
    {
     "data": {
      "text/plain": [
       "array([  0,  -1,  -2,  -3,  -4,  -5,  -6,  -7,  -8,  -9, -10, -11, -12,\n",
       "       -13, -14, -15, -16, -17, -18, -19, -20, -21, -22, -23, -24, -25,\n",
       "       -26, -27, -28, -29, -30, -31, -32, -33, -34, -35, -36, -37, -38,\n",
       "       -39, -40, -41, -42, -43, -44, -45, -46, -47, -48, -49, -50, -51,\n",
       "       -52, -53, -54, -55, -56, -57, -58, -59, -60, -61, -62, -63, -64,\n",
       "       -65, -66, -67, -68, -69, -70, -71, -72, -73, -74, -75, -76, -77,\n",
       "       -78, -79, -80, -81, -82, -83, -84, -85, -86, -87, -88, -89, -90,\n",
       "       -91, -92, -93, -94, -95, -96, -97, -98, -99])"
      ]
     },
     "execution_count": 49,
     "metadata": {},
     "output_type": "execute_result"
    }
   ],
   "source": [
    "arr4"
   ]
  },
  {
   "cell_type": "code",
   "execution_count": 50,
   "id": "4081dcee-5598-4ba9-b408-91644e4bf61c",
   "metadata": {},
   "outputs": [],
   "source": [
    "arr6 = np.arange(0, 100, -1)"
   ]
  },
  {
   "cell_type": "code",
   "execution_count": 51,
   "id": "ff6ea487-ac1e-4f17-9bc9-fc4b92b78e1c",
   "metadata": {},
   "outputs": [
    {
     "data": {
      "text/plain": [
       "array([], dtype=int32)"
      ]
     },
     "execution_count": 51,
     "metadata": {},
     "output_type": "execute_result"
    }
   ],
   "source": [
    "arr6"
   ]
  },
  {
   "cell_type": "code",
   "execution_count": 52,
   "id": "d5e12650-8347-4be6-8954-7db3b9a8e3b0",
   "metadata": {},
   "outputs": [],
   "source": [
    "arr6 = np.arange(100, 0, -1)"
   ]
  },
  {
   "cell_type": "code",
   "execution_count": 53,
   "id": "a1cdcda9-9aee-4636-8f83-eca825b3928a",
   "metadata": {},
   "outputs": [
    {
     "data": {
      "text/plain": [
       "array([100,  99,  98,  97,  96,  95,  94,  93,  92,  91,  90,  89,  88,\n",
       "        87,  86,  85,  84,  83,  82,  81,  80,  79,  78,  77,  76,  75,\n",
       "        74,  73,  72,  71,  70,  69,  68,  67,  66,  65,  64,  63,  62,\n",
       "        61,  60,  59,  58,  57,  56,  55,  54,  53,  52,  51,  50,  49,\n",
       "        48,  47,  46,  45,  44,  43,  42,  41,  40,  39,  38,  37,  36,\n",
       "        35,  34,  33,  32,  31,  30,  29,  28,  27,  26,  25,  24,  23,\n",
       "        22,  21,  20,  19,  18,  17,  16,  15,  14,  13,  12,  11,  10,\n",
       "         9,   8,   7,   6,   5,   4,   3,   2,   1])"
      ]
     },
     "execution_count": 53,
     "metadata": {},
     "output_type": "execute_result"
    }
   ],
   "source": [
    "arr6"
   ]
  },
  {
   "cell_type": "code",
   "execution_count": 56,
   "id": "79c4af46-0f11-4a93-9ca2-f7398811a775",
   "metadata": {},
   "outputs": [],
   "source": [
    "arr7 = np.arange(0, 20, .3)"
   ]
  },
  {
   "cell_type": "code",
   "execution_count": 57,
   "id": "ba625154-7f51-4e26-86a0-99d53b4badad",
   "metadata": {},
   "outputs": [
    {
     "data": {
      "text/plain": [
       "array([ 0. ,  0.3,  0.6,  0.9,  1.2,  1.5,  1.8,  2.1,  2.4,  2.7,  3. ,\n",
       "        3.3,  3.6,  3.9,  4.2,  4.5,  4.8,  5.1,  5.4,  5.7,  6. ,  6.3,\n",
       "        6.6,  6.9,  7.2,  7.5,  7.8,  8.1,  8.4,  8.7,  9. ,  9.3,  9.6,\n",
       "        9.9, 10.2, 10.5, 10.8, 11.1, 11.4, 11.7, 12. , 12.3, 12.6, 12.9,\n",
       "       13.2, 13.5, 13.8, 14.1, 14.4, 14.7, 15. , 15.3, 15.6, 15.9, 16.2,\n",
       "       16.5, 16.8, 17.1, 17.4, 17.7, 18. , 18.3, 18.6, 18.9, 19.2, 19.5,\n",
       "       19.8])"
      ]
     },
     "execution_count": 57,
     "metadata": {},
     "output_type": "execute_result"
    }
   ],
   "source": [
    "arr7"
   ]
  },
  {
   "cell_type": "code",
   "execution_count": 58,
   "id": "eaa43f80-425f-47fd-8736-3ba7d1458d22",
   "metadata": {},
   "outputs": [],
   "source": [
    "arr8 = np.arange(0, 100, dtype=float)"
   ]
  },
  {
   "cell_type": "code",
   "execution_count": 59,
   "id": "bff0f003-f964-4a04-8d4b-3f0a181486d0",
   "metadata": {},
   "outputs": [
    {
     "data": {
      "text/plain": [
       "array([ 0.,  1.,  2.,  3.,  4.,  5.,  6.,  7.,  8.,  9., 10., 11., 12.,\n",
       "       13., 14., 15., 16., 17., 18., 19., 20., 21., 22., 23., 24., 25.,\n",
       "       26., 27., 28., 29., 30., 31., 32., 33., 34., 35., 36., 37., 38.,\n",
       "       39., 40., 41., 42., 43., 44., 45., 46., 47., 48., 49., 50., 51.,\n",
       "       52., 53., 54., 55., 56., 57., 58., 59., 60., 61., 62., 63., 64.,\n",
       "       65., 66., 67., 68., 69., 70., 71., 72., 73., 74., 75., 76., 77.,\n",
       "       78., 79., 80., 81., 82., 83., 84., 85., 86., 87., 88., 89., 90.,\n",
       "       91., 92., 93., 94., 95., 96., 97., 98., 99.])"
      ]
     },
     "execution_count": 59,
     "metadata": {},
     "output_type": "execute_result"
    }
   ],
   "source": [
    "arr8"
   ]
  },
  {
   "cell_type": "code",
   "execution_count": 60,
   "id": "980b630c-3696-460d-801e-d1e49d752aa8",
   "metadata": {},
   "outputs": [],
   "source": [
    "x = np.arange(0, 2*np.pi, 0.1)"
   ]
  },
  {
   "cell_type": "code",
   "execution_count": 61,
   "id": "7898c92a-08fa-4794-b725-0946d4c24936",
   "metadata": {},
   "outputs": [],
   "source": [
    "y = np.sin(x)"
   ]
  },
  {
   "cell_type": "code",
   "execution_count": 62,
   "id": "069e7269-68cf-4be4-a5c4-4c98488007c6",
   "metadata": {},
   "outputs": [
    {
     "name": "stdout",
     "output_type": "stream",
     "text": [
      "x=0.0, y=0.000\n",
      "x=0.1, y=0.100\n",
      "x=0.2, y=0.199\n",
      "x=0.3, y=0.296\n",
      "x=0.4, y=0.389\n"
     ]
    }
   ],
   "source": [
    "for i in range(5):\n",
    "    print(f\"x={x[i]:.1f}, y={y[i]:.3f}\")"
   ]
  },
  {
   "cell_type": "markdown",
   "id": "cd8c14b4-03a3-4e5c-be25-9a6add0db0c4",
   "metadata": {},
   "source": [
    "# np.linspace"
   ]
  },
  {
   "cell_type": "code",
   "execution_count": 64,
   "id": "8b1731e5-2a7d-432d-bac5-a06f77917387",
   "metadata": {},
   "outputs": [],
   "source": [
    "import numpy as np"
   ]
  },
  {
   "cell_type": "code",
   "execution_count": 65,
   "id": "cfa6e200-a439-4e63-82c2-73a0126128bb",
   "metadata": {},
   "outputs": [],
   "source": [
    "arr_lin1 = np.linspace(0, 10, num=20)"
   ]
  },
  {
   "cell_type": "code",
   "execution_count": 66,
   "id": "8af1106f-1f00-4ec9-b380-0758b1e176ff",
   "metadata": {},
   "outputs": [
    {
     "data": {
      "text/plain": [
       "array([ 0.        ,  0.52631579,  1.05263158,  1.57894737,  2.10526316,\n",
       "        2.63157895,  3.15789474,  3.68421053,  4.21052632,  4.73684211,\n",
       "        5.26315789,  5.78947368,  6.31578947,  6.84210526,  7.36842105,\n",
       "        7.89473684,  8.42105263,  8.94736842,  9.47368421, 10.        ])"
      ]
     },
     "execution_count": 66,
     "metadata": {},
     "output_type": "execute_result"
    }
   ],
   "source": [
    "arr_lin1"
   ]
  },
  {
   "cell_type": "code",
   "execution_count": 69,
   "id": "e896ab92-bfff-4254-93b0-9e523deeed9d",
   "metadata": {},
   "outputs": [
    {
     "data": {
      "text/plain": [
       "array([ 0.     ,  0.52632,  1.05263,  1.57895,  2.10526,  2.63158,\n",
       "        3.15789,  3.68421,  4.21053,  4.73684,  5.26316,  5.78947,\n",
       "        6.31579,  6.84211,  7.36842,  7.89474,  8.42105,  8.94737,\n",
       "        9.47368, 10.     ])"
      ]
     },
     "execution_count": 69,
     "metadata": {},
     "output_type": "execute_result"
    }
   ],
   "source": [
    "arr_lin1.round(5)"
   ]
  },
  {
   "cell_type": "code",
   "execution_count": 70,
   "id": "950be88a-a0b1-43fe-bb37-f17ca809f5c1",
   "metadata": {},
   "outputs": [],
   "source": [
    "arr_lin2 = np.linspace(0, -10, num= 30)"
   ]
  },
  {
   "cell_type": "code",
   "execution_count": 71,
   "id": "d3552246-bcdf-4d77-ad66-479fc2004d49",
   "metadata": {},
   "outputs": [
    {
     "data": {
      "text/plain": [
       "array([  0.        ,  -0.34482759,  -0.68965517,  -1.03448276,\n",
       "        -1.37931034,  -1.72413793,  -2.06896552,  -2.4137931 ,\n",
       "        -2.75862069,  -3.10344828,  -3.44827586,  -3.79310345,\n",
       "        -4.13793103,  -4.48275862,  -4.82758621,  -5.17241379,\n",
       "        -5.51724138,  -5.86206897,  -6.20689655,  -6.55172414,\n",
       "        -6.89655172,  -7.24137931,  -7.5862069 ,  -7.93103448,\n",
       "        -8.27586207,  -8.62068966,  -8.96551724,  -9.31034483,\n",
       "        -9.65517241, -10.        ])"
      ]
     },
     "execution_count": 71,
     "metadata": {},
     "output_type": "execute_result"
    }
   ],
   "source": [
    "arr_lin2 "
   ]
  },
  {
   "cell_type": "code",
   "execution_count": 73,
   "id": "90158fd7-44a4-435b-9537-c5fb0d3c0afd",
   "metadata": {},
   "outputs": [],
   "source": [
    "arr_lin3 = arr_lin2.reshape(3, 10)"
   ]
  },
  {
   "cell_type": "code",
   "execution_count": 74,
   "id": "f094292c-f028-41bb-bb67-12ae3a1c7828",
   "metadata": {},
   "outputs": [
    {
     "data": {
      "text/plain": [
       "array([[  0.        ,  -0.34482759,  -0.68965517,  -1.03448276,\n",
       "         -1.37931034,  -1.72413793,  -2.06896552,  -2.4137931 ,\n",
       "         -2.75862069,  -3.10344828],\n",
       "       [ -3.44827586,  -3.79310345,  -4.13793103,  -4.48275862,\n",
       "         -4.82758621,  -5.17241379,  -5.51724138,  -5.86206897,\n",
       "         -6.20689655,  -6.55172414],\n",
       "       [ -6.89655172,  -7.24137931,  -7.5862069 ,  -7.93103448,\n",
       "         -8.27586207,  -8.62068966,  -8.96551724,  -9.31034483,\n",
       "         -9.65517241, -10.        ]])"
      ]
     },
     "execution_count": 74,
     "metadata": {},
     "output_type": "execute_result"
    }
   ],
   "source": [
    "arr_lin3"
   ]
  },
  {
   "cell_type": "code",
   "execution_count": 75,
   "id": "12dfb213-c5fc-4c93-adab-c5f6d52acfb8",
   "metadata": {},
   "outputs": [],
   "source": [
    "arr_lin4 = np.linspace(0, 15, num=21, endpoint=True)"
   ]
  },
  {
   "cell_type": "code",
   "execution_count": 76,
   "id": "43f225d8-5ab6-4937-b22d-299da6a60509",
   "metadata": {},
   "outputs": [
    {
     "data": {
      "text/plain": [
       "array([ 0.  ,  0.75,  1.5 ,  2.25,  3.  ,  3.75,  4.5 ,  5.25,  6.  ,\n",
       "        6.75,  7.5 ,  8.25,  9.  ,  9.75, 10.5 , 11.25, 12.  , 12.75,\n",
       "       13.5 , 14.25, 15.  ])"
      ]
     },
     "execution_count": 76,
     "metadata": {},
     "output_type": "execute_result"
    }
   ],
   "source": [
    "arr_lin4"
   ]
  },
  {
   "cell_type": "code",
   "execution_count": 77,
   "id": "e462df8d-426d-4e80-a0b0-50dc4b06e4df",
   "metadata": {},
   "outputs": [],
   "source": [
    "arr_lin5 = np.linspace(0, 15, num=21, endpoint=False)"
   ]
  },
  {
   "cell_type": "code",
   "execution_count": 78,
   "id": "5589faae-db11-4b46-bc26-41d6696304c8",
   "metadata": {},
   "outputs": [
    {
     "data": {
      "text/plain": [
       "array([ 0.        ,  0.71428571,  1.42857143,  2.14285714,  2.85714286,\n",
       "        3.57142857,  4.28571429,  5.        ,  5.71428571,  6.42857143,\n",
       "        7.14285714,  7.85714286,  8.57142857,  9.28571429, 10.        ,\n",
       "       10.71428571, 11.42857143, 12.14285714, 12.85714286, 13.57142857,\n",
       "       14.28571429])"
      ]
     },
     "execution_count": 78,
     "metadata": {},
     "output_type": "execute_result"
    }
   ],
   "source": [
    "arr_lin5"
   ]
  },
  {
   "cell_type": "code",
   "execution_count": 79,
   "id": "708cedd4-63d8-4b4f-89e6-e630fe929e93",
   "metadata": {},
   "outputs": [],
   "source": [
    "arr_lin6 = np.linspace(0, 15, num=21, endpoint=True, retstep=True)"
   ]
  },
  {
   "cell_type": "code",
   "execution_count": 80,
   "id": "29a12ccf-e1cb-4835-ac90-d42615018baa",
   "metadata": {},
   "outputs": [
    {
     "data": {
      "text/plain": [
       "(array([ 0.  ,  0.75,  1.5 ,  2.25,  3.  ,  3.75,  4.5 ,  5.25,  6.  ,\n",
       "         6.75,  7.5 ,  8.25,  9.  ,  9.75, 10.5 , 11.25, 12.  , 12.75,\n",
       "        13.5 , 14.25, 15.  ]),\n",
       " 0.75)"
      ]
     },
     "execution_count": 80,
     "metadata": {},
     "output_type": "execute_result"
    }
   ],
   "source": [
    "arr_lin6 "
   ]
  },
  {
   "cell_type": "code",
   "execution_count": 81,
   "id": "c58921ec-738b-40ba-b703-ce7147ba8689",
   "metadata": {},
   "outputs": [],
   "source": [
    "arr_lin6 = np.linspace(0, 15, num=21, endpoint=False, retstep=True)"
   ]
  },
  {
   "cell_type": "code",
   "execution_count": 82,
   "id": "f40b6a1d-65f2-47df-93dd-2a1fafd3582b",
   "metadata": {},
   "outputs": [
    {
     "data": {
      "text/plain": [
       "(array([ 0.        ,  0.71428571,  1.42857143,  2.14285714,  2.85714286,\n",
       "         3.57142857,  4.28571429,  5.        ,  5.71428571,  6.42857143,\n",
       "         7.14285714,  7.85714286,  8.57142857,  9.28571429, 10.        ,\n",
       "        10.71428571, 11.42857143, 12.14285714, 12.85714286, 13.57142857,\n",
       "        14.28571429]),\n",
       " 0.7142857142857143)"
      ]
     },
     "execution_count": 82,
     "metadata": {},
     "output_type": "execute_result"
    }
   ],
   "source": [
    "arr_lin6"
   ]
  },
  {
   "cell_type": "code",
   "execution_count": 83,
   "id": "1b69899a-7402-440a-8f2f-6eec28af77e1",
   "metadata": {},
   "outputs": [
    {
     "data": {
      "text/plain": [
       "15.000000004285713"
      ]
     },
     "execution_count": 83,
     "metadata": {},
     "output_type": "execute_result"
    }
   ],
   "source": [
    "14.28571429  + 0.7142857142857143"
   ]
  },
  {
   "cell_type": "code",
   "execution_count": 84,
   "id": "a350cda0-77f2-4d95-98dd-859c3a344d2d",
   "metadata": {},
   "outputs": [],
   "source": [
    "arr_lin7 = np.linspace(3.4, 15, num=21, endpoint=False, retstep=True)"
   ]
  },
  {
   "cell_type": "code",
   "execution_count": 85,
   "id": "adb3e5b2-cf67-46f5-bc34-18b08ae75cc6",
   "metadata": {},
   "outputs": [
    {
     "data": {
      "text/plain": [
       "(array([ 3.4       ,  3.95238095,  4.5047619 ,  5.05714286,  5.60952381,\n",
       "         6.16190476,  6.71428571,  7.26666667,  7.81904762,  8.37142857,\n",
       "         8.92380952,  9.47619048, 10.02857143, 10.58095238, 11.13333333,\n",
       "        11.68571429, 12.23809524, 12.79047619, 13.34285714, 13.8952381 ,\n",
       "        14.44761905]),\n",
       " 0.5523809523809524)"
      ]
     },
     "execution_count": 85,
     "metadata": {},
     "output_type": "execute_result"
    }
   ],
   "source": [
    "arr_lin7"
   ]
  },
  {
   "cell_type": "code",
   "execution_count": 86,
   "id": "da7d1755-d070-4124-b46c-c51e959ad262",
   "metadata": {},
   "outputs": [],
   "source": [
    "arr_lin8 = np.linspace(3.4, 15, num=21, endpoint=False, retstep=True, dtype=float)"
   ]
  },
  {
   "cell_type": "code",
   "execution_count": 87,
   "id": "e16a536e-b376-42e8-a387-6a9d7fca7774",
   "metadata": {},
   "outputs": [],
   "source": [
    "arr_lin9 = np.linspace(3.4, 15, num=21, endpoint=False, retstep=True, dtype=int)"
   ]
  },
  {
   "cell_type": "code",
   "execution_count": 88,
   "id": "7c0cdaf1-bd31-4e6d-b226-718665a1100e",
   "metadata": {},
   "outputs": [
    {
     "data": {
      "text/plain": [
       "(array([ 3,  3,  4,  5,  5,  6,  6,  7,  7,  8,  8,  9, 10, 10, 11, 11, 12,\n",
       "        12, 13, 13, 14]),\n",
       " 0.5523809523809524)"
      ]
     },
     "execution_count": 88,
     "metadata": {},
     "output_type": "execute_result"
    }
   ],
   "source": [
    "arr_lin9"
   ]
  },
  {
   "cell_type": "code",
   "execution_count": 89,
   "id": "1e42d43d-a8a9-4880-8c48-92ee3f67203e",
   "metadata": {},
   "outputs": [
    {
     "ename": "NameError",
     "evalue": "name 'decimal' is not defined",
     "output_type": "error",
     "traceback": [
      "\u001b[1;31m---------------------------------------------------------------------------\u001b[0m",
      "\u001b[1;31mNameError\u001b[0m                                 Traceback (most recent call last)",
      "Cell \u001b[1;32mIn[89], line 1\u001b[0m\n\u001b[1;32m----> 1\u001b[0m arr_lin8 \u001b[38;5;241m=\u001b[39m np\u001b[38;5;241m.\u001b[39mlinspace(\u001b[38;5;241m3.4\u001b[39m, \u001b[38;5;241m15\u001b[39m, num\u001b[38;5;241m=\u001b[39m\u001b[38;5;241m21\u001b[39m, endpoint\u001b[38;5;241m=\u001b[39m\u001b[38;5;28;01mFalse\u001b[39;00m, retstep\u001b[38;5;241m=\u001b[39m\u001b[38;5;28;01mTrue\u001b[39;00m, dtype\u001b[38;5;241m=\u001b[39m\u001b[43mdecimal\u001b[49m)\n",
      "\u001b[1;31mNameError\u001b[0m: name 'decimal' is not defined"
     ]
    }
   ],
   "source": [
    "arr_lin8 = np.linspace(3.4, 15, num=21, endpoint=False, retstep=True, dtype=decimal)"
   ]
  },
  {
   "cell_type": "code",
   "execution_count": 92,
   "id": "5343a24c-36ac-47da-8b0b-777785979246",
   "metadata": {},
   "outputs": [
    {
     "ename": "NameError",
     "evalue": "name 'float64' is not defined",
     "output_type": "error",
     "traceback": [
      "\u001b[1;31m---------------------------------------------------------------------------\u001b[0m",
      "\u001b[1;31mNameError\u001b[0m                                 Traceback (most recent call last)",
      "Cell \u001b[1;32mIn[92], line 1\u001b[0m\n\u001b[1;32m----> 1\u001b[0m arr_lin8 \u001b[38;5;241m=\u001b[39m np\u001b[38;5;241m.\u001b[39mlinspace(\u001b[38;5;241m3.4\u001b[39m, \u001b[38;5;241m15\u001b[39m, num\u001b[38;5;241m=\u001b[39m\u001b[38;5;241m21\u001b[39m, endpoint\u001b[38;5;241m=\u001b[39m\u001b[38;5;28;01mFalse\u001b[39;00m, retstep\u001b[38;5;241m=\u001b[39m\u001b[38;5;28;01mTrue\u001b[39;00m, dtype\u001b[38;5;241m=\u001b[39m\u001b[43mfloat64\u001b[49m)\n",
      "\u001b[1;31mNameError\u001b[0m: name 'float64' is not defined"
     ]
    }
   ],
   "source": [
    "arr_lin8 = np.linspace(3.4, 15, num=21, endpoint=False, retstep=True, dtype=float64)"
   ]
  },
  {
   "cell_type": "markdown",
   "id": "182d72e2-399c-45db-82f3-5b394fc48947",
   "metadata": {},
   "source": [
    "# Lecture 15: Numpy.shape"
   ]
  },
  {
   "cell_type": "code",
   "execution_count": 93,
   "id": "fd33a738-58e7-484f-bba9-04ec5c0cb405",
   "metadata": {},
   "outputs": [],
   "source": [
    "import numpy as np"
   ]
  },
  {
   "cell_type": "code",
   "execution_count": 97,
   "id": "1de7c0ea-e5c4-4395-9cef-643edc603773",
   "metadata": {},
   "outputs": [],
   "source": [
    "sharr1 = np.array(())"
   ]
  },
  {
   "cell_type": "code",
   "execution_count": 98,
   "id": "1fa411fc-7ec2-46e8-a0cf-a1d7e61aa37a",
   "metadata": {},
   "outputs": [
    {
     "data": {
      "text/plain": [
       "array([], dtype=float64)"
      ]
     },
     "execution_count": 98,
     "metadata": {},
     "output_type": "execute_result"
    }
   ],
   "source": [
    "sharr1"
   ]
  },
  {
   "cell_type": "code",
   "execution_count": 99,
   "id": "3e6d063d-ff19-40ab-b150-03d117ff26d7",
   "metadata": {},
   "outputs": [
    {
     "data": {
      "text/plain": [
       "(0,)"
      ]
     },
     "execution_count": 99,
     "metadata": {},
     "output_type": "execute_result"
    }
   ],
   "source": [
    "sharr1.shape"
   ]
  },
  {
   "cell_type": "code",
   "execution_count": 100,
   "id": "34d89e35-11e2-4d5c-994c-abf953e08c3c",
   "metadata": {},
   "outputs": [
    {
     "data": {
      "text/plain": [
       "0"
      ]
     },
     "execution_count": 100,
     "metadata": {},
     "output_type": "execute_result"
    }
   ],
   "source": [
    "sharr1.size"
   ]
  },
  {
   "cell_type": "code",
   "execution_count": 101,
   "id": "d812f5ce-0170-44c5-a51b-37fda401d69c",
   "metadata": {},
   "outputs": [],
   "source": [
    "sharr2 = np.array(2)"
   ]
  },
  {
   "cell_type": "code",
   "execution_count": 102,
   "id": "d9b2a029-2e57-4f7f-933b-1b69f22f80b7",
   "metadata": {},
   "outputs": [
    {
     "data": {
      "text/plain": [
       "array(2)"
      ]
     },
     "execution_count": 102,
     "metadata": {},
     "output_type": "execute_result"
    }
   ],
   "source": [
    "sharr2"
   ]
  },
  {
   "cell_type": "code",
   "execution_count": 103,
   "id": "8c4547d0-ce39-4faf-9ba0-4705f1e45ef4",
   "metadata": {},
   "outputs": [
    {
     "data": {
      "text/plain": [
       "()"
      ]
     },
     "execution_count": 103,
     "metadata": {},
     "output_type": "execute_result"
    }
   ],
   "source": [
    "sharr2.shape"
   ]
  },
  {
   "cell_type": "code",
   "execution_count": 109,
   "id": "de353447-561d-4e74-b055-b68ce5bb08d8",
   "metadata": {},
   "outputs": [
    {
     "data": {
      "text/plain": [
       "numpy.ndarray"
      ]
     },
     "execution_count": 109,
     "metadata": {},
     "output_type": "execute_result"
    }
   ],
   "source": [
    "type(sharr2)"
   ]
  },
  {
   "cell_type": "code",
   "execution_count": 104,
   "id": "91ddd6f0-1e1e-4285-a368-83c2777325d9",
   "metadata": {},
   "outputs": [
    {
     "ename": "TypeError",
     "evalue": "iteration over a 0-d array",
     "output_type": "error",
     "traceback": [
      "\u001b[1;31m---------------------------------------------------------------------------\u001b[0m",
      "\u001b[1;31mTypeError\u001b[0m                                 Traceback (most recent call last)",
      "Cell \u001b[1;32mIn[104], line 1\u001b[0m\n\u001b[1;32m----> 1\u001b[0m \u001b[38;5;28;01mfor\u001b[39;00m i \u001b[38;5;129;01min\u001b[39;00m sharr2:\n\u001b[0;32m      2\u001b[0m     \u001b[38;5;28mprint\u001b[39m(i)\n",
      "\u001b[1;31mTypeError\u001b[0m: iteration over a 0-d array"
     ]
    }
   ],
   "source": [
    "for i in sharr2:\n",
    "    print(i)"
   ]
  },
  {
   "cell_type": "code",
   "execution_count": 105,
   "id": "31977310-0449-40df-b951-7e92dfcccb98",
   "metadata": {},
   "outputs": [],
   "source": [
    "sharr3 = np.array([2])"
   ]
  },
  {
   "cell_type": "code",
   "execution_count": 106,
   "id": "eedec69c-cab3-48ac-a6f7-73b181517c0d",
   "metadata": {},
   "outputs": [
    {
     "data": {
      "text/plain": [
       "array([2])"
      ]
     },
     "execution_count": 106,
     "metadata": {},
     "output_type": "execute_result"
    }
   ],
   "source": [
    "sharr3"
   ]
  },
  {
   "cell_type": "code",
   "execution_count": 107,
   "id": "d6bc1e5f-b2d5-4e76-9c99-8ddddef44d55",
   "metadata": {},
   "outputs": [
    {
     "name": "stdout",
     "output_type": "stream",
     "text": [
      "2\n"
     ]
    }
   ],
   "source": [
    "for i in sharr3:\n",
    "    print(i)"
   ]
  },
  {
   "cell_type": "code",
   "execution_count": 108,
   "id": "fb0afb1a-fe1a-4aff-aa3f-55ff971a7f2b",
   "metadata": {},
   "outputs": [
    {
     "data": {
      "text/plain": [
       "(1,)"
      ]
     },
     "execution_count": 108,
     "metadata": {},
     "output_type": "execute_result"
    }
   ],
   "source": [
    "sharr3.shape"
   ]
  },
  {
   "cell_type": "code",
   "execution_count": 110,
   "id": "f5a063d7-bcea-4109-800c-34ba4ebf38c0",
   "metadata": {},
   "outputs": [
    {
     "data": {
      "text/plain": [
       "1"
      ]
     },
     "execution_count": 110,
     "metadata": {},
     "output_type": "execute_result"
    }
   ],
   "source": [
    "sharr3.size"
   ]
  },
  {
   "cell_type": "code",
   "execution_count": 111,
   "id": "8ee8531b-63ab-4722-a4be-aa523b217d52",
   "metadata": {},
   "outputs": [],
   "source": [
    "sharr4 = np.array([1,2,3])"
   ]
  },
  {
   "cell_type": "code",
   "execution_count": 112,
   "id": "ed564452-f87a-434a-83a3-21926a6bbf6c",
   "metadata": {},
   "outputs": [
    {
     "data": {
      "text/plain": [
       "array([1, 2, 3])"
      ]
     },
     "execution_count": 112,
     "metadata": {},
     "output_type": "execute_result"
    }
   ],
   "source": [
    "sharr4"
   ]
  },
  {
   "cell_type": "code",
   "execution_count": 113,
   "id": "13aca218-ec55-497e-a300-5810205f57e4",
   "metadata": {},
   "outputs": [
    {
     "data": {
      "text/plain": [
       "3"
      ]
     },
     "execution_count": 113,
     "metadata": {},
     "output_type": "execute_result"
    }
   ],
   "source": [
    "sharr4.size"
   ]
  },
  {
   "cell_type": "code",
   "execution_count": 114,
   "id": "2573d68e-c9c2-43b7-a9de-c3ca9c525381",
   "metadata": {},
   "outputs": [
    {
     "data": {
      "text/plain": [
       "(3,)"
      ]
     },
     "execution_count": 114,
     "metadata": {},
     "output_type": "execute_result"
    }
   ],
   "source": [
    "sharr4.shape"
   ]
  },
  {
   "cell_type": "code",
   "execution_count": 115,
   "id": "cb2bc5ad-a7fa-4752-9cf8-11606edbfc8c",
   "metadata": {},
   "outputs": [
    {
     "name": "stdout",
     "output_type": "stream",
     "text": [
      "1\n",
      "2\n",
      "3\n"
     ]
    }
   ],
   "source": [
    "for i in sharr4:\n",
    "    print(i)"
   ]
  },
  {
   "cell_type": "code",
   "execution_count": 116,
   "id": "4632c5b7-81b3-41fc-970c-e7d099ac23e2",
   "metadata": {},
   "outputs": [
    {
     "ename": "TypeError",
     "evalue": "Field elements must be 2- or 3-tuples, got '1'",
     "output_type": "error",
     "traceback": [
      "\u001b[1;31m---------------------------------------------------------------------------\u001b[0m",
      "\u001b[1;31mTypeError\u001b[0m                                 Traceback (most recent call last)",
      "Cell \u001b[1;32mIn[116], line 1\u001b[0m\n\u001b[1;32m----> 1\u001b[0m sharr5 \u001b[38;5;241m=\u001b[39m \u001b[43mnp\u001b[49m\u001b[38;5;241;43m.\u001b[39;49m\u001b[43marray\u001b[49m\u001b[43m(\u001b[49m\u001b[43m[\u001b[49m\u001b[38;5;241;43m1\u001b[39;49m\u001b[43m,\u001b[49m\u001b[38;5;241;43m2\u001b[39;49m\u001b[43m,\u001b[49m\u001b[38;5;241;43m3\u001b[39;49m\u001b[43m]\u001b[49m\u001b[43m,\u001b[49m\u001b[43m \u001b[49m\u001b[43m[\u001b[49m\u001b[38;5;241;43m1\u001b[39;49m\u001b[43m,\u001b[49m\u001b[38;5;241;43m2\u001b[39;49m\u001b[43m,\u001b[49m\u001b[38;5;241;43m3\u001b[39;49m\u001b[43m]\u001b[49m\u001b[43m)\u001b[49m\n",
      "\u001b[1;31mTypeError\u001b[0m: Field elements must be 2- or 3-tuples, got '1'"
     ]
    }
   ],
   "source": [
    "sharr5 = np.array([1,2,3], [1,2,3])"
   ]
  },
  {
   "cell_type": "code",
   "execution_count": 117,
   "id": "5d6ae2ed-d752-4421-9509-298a0d2c39b8",
   "metadata": {},
   "outputs": [],
   "source": [
    "sharr5 = np.array([[1,2,3], [1,2,3]])"
   ]
  },
  {
   "cell_type": "code",
   "execution_count": 118,
   "id": "da4ed5a4-9ce2-438e-99a1-fe1a6e1baae2",
   "metadata": {},
   "outputs": [
    {
     "data": {
      "text/plain": [
       "array([[1, 2, 3],\n",
       "       [1, 2, 3]])"
      ]
     },
     "execution_count": 118,
     "metadata": {},
     "output_type": "execute_result"
    }
   ],
   "source": [
    "sharr5"
   ]
  },
  {
   "cell_type": "code",
   "execution_count": 120,
   "id": "ffb6db02-d659-4fa7-91ca-44b2e67d86ce",
   "metadata": {},
   "outputs": [
    {
     "name": "stdout",
     "output_type": "stream",
     "text": [
      "1\n",
      "2\n",
      "3\n"
     ]
    }
   ],
   "source": [
    "for i in sharr5[0]:\n",
    "    print(i)"
   ]
  },
  {
   "cell_type": "code",
   "execution_count": 121,
   "id": "6c0ed7e7-3db9-43af-ac18-4f021ad3cf56",
   "metadata": {},
   "outputs": [
    {
     "data": {
      "text/plain": [
       "array([[1, 2, 3],\n",
       "       [1, 2, 3]])"
      ]
     },
     "execution_count": 121,
     "metadata": {},
     "output_type": "execute_result"
    }
   ],
   "source": [
    "sharr5"
   ]
  },
  {
   "cell_type": "code",
   "execution_count": 122,
   "id": "374888c3-6374-4da4-a461-32ef2676414a",
   "metadata": {},
   "outputs": [
    {
     "data": {
      "text/plain": [
       "array([1, 2, 3])"
      ]
     },
     "execution_count": 122,
     "metadata": {},
     "output_type": "execute_result"
    }
   ],
   "source": [
    "sharr5[0]"
   ]
  },
  {
   "cell_type": "code",
   "execution_count": 123,
   "id": "31f794a3-6c57-4bee-a8c0-7c42525c4c6c",
   "metadata": {},
   "outputs": [
    {
     "data": {
      "text/plain": [
       "array([1, 2, 3])"
      ]
     },
     "execution_count": 123,
     "metadata": {},
     "output_type": "execute_result"
    }
   ],
   "source": [
    "sharr5[1]"
   ]
  },
  {
   "cell_type": "code",
   "execution_count": 124,
   "id": "609f38fe-56ea-4069-97da-64e8fdd2006f",
   "metadata": {},
   "outputs": [
    {
     "data": {
      "text/plain": [
       "(2, 3)"
      ]
     },
     "execution_count": 124,
     "metadata": {},
     "output_type": "execute_result"
    }
   ],
   "source": [
    "sharr5.shape"
   ]
  },
  {
   "cell_type": "code",
   "execution_count": 125,
   "id": "1486b570-e1ba-4a5b-bcbc-a91b862942d5",
   "metadata": {},
   "outputs": [
    {
     "ename": "ValueError",
     "evalue": "setting an array element with a sequence. The requested array has an inhomogeneous shape after 1 dimensions. The detected shape was (2,) + inhomogeneous part.",
     "output_type": "error",
     "traceback": [
      "\u001b[1;31m---------------------------------------------------------------------------\u001b[0m",
      "\u001b[1;31mValueError\u001b[0m                                Traceback (most recent call last)",
      "Cell \u001b[1;32mIn[125], line 1\u001b[0m\n\u001b[1;32m----> 1\u001b[0m sharr6 \u001b[38;5;241m=\u001b[39m \u001b[43mnp\u001b[49m\u001b[38;5;241;43m.\u001b[39;49m\u001b[43marray\u001b[49m\u001b[43m(\u001b[49m\u001b[43m[\u001b[49m\u001b[43m[\u001b[49m\u001b[38;5;241;43m1\u001b[39;49m\u001b[43m,\u001b[49m\u001b[38;5;241;43m2\u001b[39;49m\u001b[43m,\u001b[49m\u001b[38;5;241;43m3\u001b[39;49m\u001b[43m]\u001b[49m\u001b[43m,\u001b[49m\u001b[43m \u001b[49m\u001b[43m[\u001b[49m\u001b[38;5;241;43m2\u001b[39;49m\u001b[43m,\u001b[49m\u001b[38;5;241;43m3\u001b[39;49m\u001b[43m]\u001b[49m\u001b[43m]\u001b[49m\u001b[43m)\u001b[49m\n",
      "\u001b[1;31mValueError\u001b[0m: setting an array element with a sequence. The requested array has an inhomogeneous shape after 1 dimensions. The detected shape was (2,) + inhomogeneous part."
     ]
    }
   ],
   "source": [
    "sharr6 = np.array([[1,2,3], [2,3]])"
   ]
  },
  {
   "cell_type": "markdown",
   "id": "e4474d64-2aa2-4261-b93f-cbe1df701fe0",
   "metadata": {},
   "source": [
    "NxM . MxN "
   ]
  },
  {
   "cell_type": "code",
   "execution_count": 126,
   "id": "2858e49e-f794-4567-a876-3dbf14f7ab90",
   "metadata": {},
   "outputs": [],
   "source": [
    "#3x3 X 2x3 \n",
    "#1x3 X 3x3 "
   ]
  },
  {
   "cell_type": "code",
   "execution_count": 128,
   "id": "5e1c24f7-40fa-4eb5-a051-9ec60f48c897",
   "metadata": {},
   "outputs": [],
   "source": [
    "arr_md = np.arange(10)"
   ]
  },
  {
   "cell_type": "markdown",
   "id": "d8c10d55-5cd1-4f49-820b-70c558aeaf87",
   "metadata": {},
   "source": [
    "# Reshape"
   ]
  },
  {
   "cell_type": "code",
   "execution_count": 129,
   "id": "594d8da5-f768-459e-a545-6efe3f0b1683",
   "metadata": {},
   "outputs": [
    {
     "data": {
      "text/plain": [
       "array([0, 1, 2, 3, 4, 5, 6, 7, 8, 9])"
      ]
     },
     "execution_count": 129,
     "metadata": {},
     "output_type": "execute_result"
    }
   ],
   "source": [
    "arr_md "
   ]
  },
  {
   "cell_type": "code",
   "execution_count": 130,
   "id": "9178e9e2-fcee-4b26-a535-fab929a50469",
   "metadata": {},
   "outputs": [
    {
     "data": {
      "text/plain": [
       "(10,)"
      ]
     },
     "execution_count": 130,
     "metadata": {},
     "output_type": "execute_result"
    }
   ],
   "source": [
    "arr_md.shape"
   ]
  },
  {
   "cell_type": "code",
   "execution_count": 133,
   "id": "8c567661-7432-4b42-8419-c6880875592c",
   "metadata": {},
   "outputs": [
    {
     "ename": "ValueError",
     "evalue": "cannot reshape array of size 10 into shape (2,1)",
     "output_type": "error",
     "traceback": [
      "\u001b[1;31m---------------------------------------------------------------------------\u001b[0m",
      "\u001b[1;31mValueError\u001b[0m                                Traceback (most recent call last)",
      "Cell \u001b[1;32mIn[133], line 1\u001b[0m\n\u001b[1;32m----> 1\u001b[0m arr_md \u001b[38;5;241m=\u001b[39m \u001b[43mnp\u001b[49m\u001b[38;5;241;43m.\u001b[39;49m\u001b[43marange\u001b[49m\u001b[43m(\u001b[49m\u001b[38;5;241;43m10\u001b[39;49m\u001b[43m)\u001b[49m\u001b[38;5;241;43m.\u001b[39;49m\u001b[43mreshape\u001b[49m\u001b[43m(\u001b[49m\u001b[38;5;241;43m2\u001b[39;49m\u001b[43m,\u001b[49m\u001b[43m \u001b[49m\u001b[38;5;241;43m1\u001b[39;49m\u001b[43m)\u001b[49m\n",
      "\u001b[1;31mValueError\u001b[0m: cannot reshape array of size 10 into shape (2,1)"
     ]
    }
   ],
   "source": [
    "arr_md = np.arange(10).reshape(2, 1)"
   ]
  },
  {
   "cell_type": "code",
   "execution_count": 134,
   "id": "8f243f9e-0279-4e9b-b3d5-82023ce5b73f",
   "metadata": {},
   "outputs": [],
   "source": [
    "arr_md = np.arange(10).reshape(2, 5)"
   ]
  },
  {
   "cell_type": "code",
   "execution_count": 135,
   "id": "481750c5-c391-49e7-8c47-6d82851eee0f",
   "metadata": {},
   "outputs": [
    {
     "data": {
      "text/plain": [
       "array([[0, 1, 2, 3, 4],\n",
       "       [5, 6, 7, 8, 9]])"
      ]
     },
     "execution_count": 135,
     "metadata": {},
     "output_type": "execute_result"
    }
   ],
   "source": [
    "arr_md\n"
   ]
  },
  {
   "cell_type": "code",
   "execution_count": 136,
   "id": "d4404407-5a45-4378-8547-72b41e363a53",
   "metadata": {},
   "outputs": [
    {
     "data": {
      "text/plain": [
       "(2, 5)"
      ]
     },
     "execution_count": 136,
     "metadata": {},
     "output_type": "execute_result"
    }
   ],
   "source": [
    "arr_md.shape"
   ]
  },
  {
   "cell_type": "code",
   "execution_count": 151,
   "id": "f9140d0f-91b4-4b37-a456-c4fd7c8aa0da",
   "metadata": {},
   "outputs": [
    {
     "data": {
      "text/plain": [
       "2"
      ]
     },
     "execution_count": 151,
     "metadata": {},
     "output_type": "execute_result"
    }
   ],
   "source": [
    "arr_md.ndim"
   ]
  },
  {
   "cell_type": "code",
   "execution_count": 137,
   "id": "00ed8842-2723-4c3f-a72b-2b8772e1db3a",
   "metadata": {},
   "outputs": [],
   "source": [
    "arr_3md = np.arange(27).reshape(3,3,3)"
   ]
  },
  {
   "cell_type": "code",
   "execution_count": 138,
   "id": "5e9caabe-9859-4fcf-9515-db4f71c4e0b9",
   "metadata": {},
   "outputs": [
    {
     "data": {
      "text/plain": [
       "array([[[ 0,  1,  2],\n",
       "        [ 3,  4,  5],\n",
       "        [ 6,  7,  8]],\n",
       "\n",
       "       [[ 9, 10, 11],\n",
       "        [12, 13, 14],\n",
       "        [15, 16, 17]],\n",
       "\n",
       "       [[18, 19, 20],\n",
       "        [21, 22, 23],\n",
       "        [24, 25, 26]]])"
      ]
     },
     "execution_count": 138,
     "metadata": {},
     "output_type": "execute_result"
    }
   ],
   "source": [
    "arr_3md"
   ]
  },
  {
   "cell_type": "code",
   "execution_count": 140,
   "id": "1d5e4598-5712-46d6-ba63-af930110b9b9",
   "metadata": {},
   "outputs": [
    {
     "data": {
      "text/plain": [
       "(3, 3, 3)"
      ]
     },
     "execution_count": 140,
     "metadata": {},
     "output_type": "execute_result"
    }
   ],
   "source": [
    "arr_3md.shape"
   ]
  },
  {
   "cell_type": "code",
   "execution_count": 150,
   "id": "546cc47c-5b6f-43de-b343-4b20a7e73936",
   "metadata": {},
   "outputs": [
    {
     "data": {
      "text/plain": [
       "3"
      ]
     },
     "execution_count": 150,
     "metadata": {},
     "output_type": "execute_result"
    }
   ],
   "source": [
    "arr_3md.ndim"
   ]
  },
  {
   "cell_type": "code",
   "execution_count": 145,
   "id": "67ad5946-23b7-4f9e-bfd6-b8dc2d749f75",
   "metadata": {},
   "outputs": [],
   "source": [
    "arr_4md = np.arange(16).reshape(2,2,2,2)"
   ]
  },
  {
   "cell_type": "code",
   "execution_count": 146,
   "id": "2c26251f-a157-4cbc-b4ca-9c65d55d6e50",
   "metadata": {},
   "outputs": [
    {
     "data": {
      "text/plain": [
       "array([[[[ 0,  1],\n",
       "         [ 2,  3]],\n",
       "\n",
       "        [[ 4,  5],\n",
       "         [ 6,  7]]],\n",
       "\n",
       "\n",
       "       [[[ 8,  9],\n",
       "         [10, 11]],\n",
       "\n",
       "        [[12, 13],\n",
       "         [14, 15]]]])"
      ]
     },
     "execution_count": 146,
     "metadata": {},
     "output_type": "execute_result"
    }
   ],
   "source": [
    "arr_4md"
   ]
  },
  {
   "cell_type": "code",
   "execution_count": 148,
   "id": "06a52f9c-19ec-49da-93a3-0ae6d7fccfe0",
   "metadata": {},
   "outputs": [
    {
     "data": {
      "text/plain": [
       "(2, 2, 2, 2)"
      ]
     },
     "execution_count": 148,
     "metadata": {},
     "output_type": "execute_result"
    }
   ],
   "source": [
    "arr_4md.shape"
   ]
  },
  {
   "cell_type": "code",
   "execution_count": 149,
   "id": "4973c95f-6f36-410e-a06f-644a54cc00d5",
   "metadata": {},
   "outputs": [
    {
     "data": {
      "text/plain": [
       "4"
      ]
     },
     "execution_count": 149,
     "metadata": {},
     "output_type": "execute_result"
    }
   ],
   "source": [
    "arr_4md.ndim"
   ]
  },
  {
   "cell_type": "code",
   "execution_count": 152,
   "id": "fe9dc544-5abb-44bb-9890-cc336ff504aa",
   "metadata": {},
   "outputs": [],
   "source": [
    "arr_5d = np.arange(32).reshape(2,2,2,2,2)"
   ]
  },
  {
   "cell_type": "code",
   "execution_count": 153,
   "id": "708fadeb-4cec-41fd-aa65-e7587954f5c0",
   "metadata": {},
   "outputs": [
    {
     "data": {
      "text/plain": [
       "array([[[[[ 0,  1],\n",
       "          [ 2,  3]],\n",
       "\n",
       "         [[ 4,  5],\n",
       "          [ 6,  7]]],\n",
       "\n",
       "\n",
       "        [[[ 8,  9],\n",
       "          [10, 11]],\n",
       "\n",
       "         [[12, 13],\n",
       "          [14, 15]]]],\n",
       "\n",
       "\n",
       "\n",
       "       [[[[16, 17],\n",
       "          [18, 19]],\n",
       "\n",
       "         [[20, 21],\n",
       "          [22, 23]]],\n",
       "\n",
       "\n",
       "        [[[24, 25],\n",
       "          [26, 27]],\n",
       "\n",
       "         [[28, 29],\n",
       "          [30, 31]]]]])"
      ]
     },
     "execution_count": 153,
     "metadata": {},
     "output_type": "execute_result"
    }
   ],
   "source": [
    "arr_5d"
   ]
  },
  {
   "cell_type": "code",
   "execution_count": 154,
   "id": "f91e7fcd-eaac-4e5b-8ca8-a7b58c5f74f4",
   "metadata": {},
   "outputs": [
    {
     "data": {
      "text/plain": [
       "(2, 2, 2, 2, 2)"
      ]
     },
     "execution_count": 154,
     "metadata": {},
     "output_type": "execute_result"
    }
   ],
   "source": [
    "arr_5d.shape"
   ]
  },
  {
   "cell_type": "code",
   "execution_count": 155,
   "id": "c0e852d7-837d-4d1e-816c-224245029c89",
   "metadata": {},
   "outputs": [
    {
     "data": {
      "text/plain": [
       "5"
      ]
     },
     "execution_count": 155,
     "metadata": {},
     "output_type": "execute_result"
    }
   ],
   "source": [
    "arr_5d.ndim"
   ]
  },
  {
   "cell_type": "markdown",
   "id": "e3e37765-e4b5-4d72-980a-7d2ab6ca8823",
   "metadata": {},
   "source": [
    "# Lecture 16 numpy dtype "
   ]
  },
  {
   "cell_type": "code",
   "execution_count": 156,
   "id": "ac1271d9-32ac-4703-9bb8-0197b8486b1d",
   "metadata": {},
   "outputs": [],
   "source": [
    "arrdt = np.arange(10)"
   ]
  },
  {
   "cell_type": "code",
   "execution_count": 157,
   "id": "fa6caf0e-53b7-4c80-aa93-7102ca87d01b",
   "metadata": {},
   "outputs": [
    {
     "data": {
      "text/plain": [
       "array([0, 1, 2, 3, 4, 5, 6, 7, 8, 9])"
      ]
     },
     "execution_count": 157,
     "metadata": {},
     "output_type": "execute_result"
    }
   ],
   "source": [
    "arrdt"
   ]
  },
  {
   "cell_type": "code",
   "execution_count": 158,
   "id": "144d64ac-fa16-4a63-b59c-8b4da76675e8",
   "metadata": {},
   "outputs": [
    {
     "data": {
      "text/plain": [
       "(10,)"
      ]
     },
     "execution_count": 158,
     "metadata": {},
     "output_type": "execute_result"
    }
   ],
   "source": [
    "arrdt.shape"
   ]
  },
  {
   "cell_type": "code",
   "execution_count": 159,
   "id": "df748ea5-245e-4364-910c-74e2d6950d94",
   "metadata": {},
   "outputs": [
    {
     "data": {
      "text/plain": [
       "10"
      ]
     },
     "execution_count": 159,
     "metadata": {},
     "output_type": "execute_result"
    }
   ],
   "source": [
    "arrdt.size"
   ]
  },
  {
   "cell_type": "code",
   "execution_count": 160,
   "id": "de5ee0df-5980-4535-b18a-ed2820713867",
   "metadata": {},
   "outputs": [
    {
     "data": {
      "text/plain": [
       "1"
      ]
     },
     "execution_count": 160,
     "metadata": {},
     "output_type": "execute_result"
    }
   ],
   "source": [
    "arrdt.ndim"
   ]
  },
  {
   "cell_type": "code",
   "execution_count": 161,
   "id": "d18e5391-95d9-4b67-a1de-b8b5403b13b3",
   "metadata": {},
   "outputs": [
    {
     "data": {
      "text/plain": [
       "dtype('int32')"
      ]
     },
     "execution_count": 161,
     "metadata": {},
     "output_type": "execute_result"
    }
   ],
   "source": [
    "arrdt.dtype"
   ]
  },
  {
   "cell_type": "code",
   "execution_count": 162,
   "id": "6772ad32-0e91-4650-a2c1-3112cfcb509a",
   "metadata": {},
   "outputs": [],
   "source": [
    "arrchardt = np.array(['a', 'b', 'c', 'd', 'f'])"
   ]
  },
  {
   "cell_type": "code",
   "execution_count": 163,
   "id": "5f0bfc61-899c-4737-9a76-9d5a9e268a07",
   "metadata": {},
   "outputs": [
    {
     "data": {
      "text/plain": [
       "array(['a', 'b', 'c', 'd', 'f'], dtype='<U1')"
      ]
     },
     "execution_count": 163,
     "metadata": {},
     "output_type": "execute_result"
    }
   ],
   "source": [
    "arrchardt"
   ]
  },
  {
   "cell_type": "code",
   "execution_count": 164,
   "id": "cb73c908-7cc9-436f-a900-4b7fdd96f205",
   "metadata": {},
   "outputs": [
    {
     "data": {
      "text/plain": [
       "dtype('<U1')"
      ]
     },
     "execution_count": 164,
     "metadata": {},
     "output_type": "execute_result"
    }
   ],
   "source": [
    "arrchardt.dtype"
   ]
  },
  {
   "cell_type": "code",
   "execution_count": 171,
   "id": "0321370c-7861-4917-b6db-5e8f5da9d647",
   "metadata": {},
   "outputs": [],
   "source": [
    "arrchardt = np.array(['acb', 'bcc', 'ccc', 'dcd', 'ffdddc'])"
   ]
  },
  {
   "cell_type": "code",
   "execution_count": 172,
   "id": "9e5ec153-edf4-4192-8ae9-3cf448db2999",
   "metadata": {},
   "outputs": [
    {
     "data": {
      "text/plain": [
       "array(['acb', 'bcc', 'ccc', 'dcd', 'ffdddc'], dtype='<U6')"
      ]
     },
     "execution_count": 172,
     "metadata": {},
     "output_type": "execute_result"
    }
   ],
   "source": [
    "arrchardt"
   ]
  },
  {
   "cell_type": "code",
   "execution_count": 173,
   "id": "77f0299a-d28c-411f-b767-d5e4e873aa2b",
   "metadata": {},
   "outputs": [
    {
     "data": {
      "text/plain": [
       "dtype('<U6')"
      ]
     },
     "execution_count": 173,
     "metadata": {},
     "output_type": "execute_result"
    }
   ],
   "source": [
    "arrchardt.dtype"
   ]
  },
  {
   "cell_type": "code",
   "execution_count": 174,
   "id": "208d9897-2062-4c12-a43e-86d464d54fdb",
   "metadata": {},
   "outputs": [],
   "source": [
    "arrchardt2 = np.array([1.1, 2.3, 4.4])"
   ]
  },
  {
   "cell_type": "code",
   "execution_count": 175,
   "id": "d703b17c-e448-4624-aa78-64b4fd33df0c",
   "metadata": {},
   "outputs": [
    {
     "data": {
      "text/plain": [
       "dtype('float64')"
      ]
     },
     "execution_count": 175,
     "metadata": {},
     "output_type": "execute_result"
    }
   ],
   "source": [
    "arrchardt2.dtype"
   ]
  },
  {
   "cell_type": "code",
   "execution_count": 178,
   "id": "b2d1bb11-b49e-4b3a-95ae-55a46fa5dae1",
   "metadata": {},
   "outputs": [],
   "source": [
    "from numpy import *\n",
    "import numpy as np"
   ]
  },
  {
   "cell_type": "code",
   "execution_count": 180,
   "id": "7df92213-a923-403d-8d8a-4d5e61911d16",
   "metadata": {},
   "outputs": [],
   "source": [
    "arrfloat32 = np.array([1.1, 2.3, 4.4], dtype=np.float32)"
   ]
  },
  {
   "cell_type": "code",
   "execution_count": 181,
   "id": "6911937f-ab3c-4cb9-a4b0-8c5de2b314b4",
   "metadata": {},
   "outputs": [
    {
     "data": {
      "text/plain": [
       "array([1.1, 2.3, 4.4], dtype=float32)"
      ]
     },
     "execution_count": 181,
     "metadata": {},
     "output_type": "execute_result"
    }
   ],
   "source": [
    "arrfloat32"
   ]
  },
  {
   "cell_type": "code",
   "execution_count": 183,
   "id": "9b22d3f0-44e9-4cad-afbe-1dcece875291",
   "metadata": {},
   "outputs": [],
   "source": [
    "arrfloat16 = np.array([1.1, 2.3, 4.4], dtype=np.float16)"
   ]
  },
  {
   "cell_type": "code",
   "execution_count": 184,
   "id": "ec8a93a8-7813-4af3-a780-f8322a15e859",
   "metadata": {},
   "outputs": [],
   "source": [
    "arrcomplext = np.array([1.1, 2.3, 4.4], dtype = complex)"
   ]
  },
  {
   "cell_type": "code",
   "execution_count": 185,
   "id": "c6d3e34b-755b-47c4-92f6-0328d36d663b",
   "metadata": {},
   "outputs": [
    {
     "data": {
      "text/plain": [
       "array([1.1+0.j, 2.3+0.j, 4.4+0.j])"
      ]
     },
     "execution_count": 185,
     "metadata": {},
     "output_type": "execute_result"
    }
   ],
   "source": [
    "arrcomplext"
   ]
  },
  {
   "cell_type": "markdown",
   "id": "88e32a0a-0820-4166-954c-f16138a4b71c",
   "metadata": {},
   "source": [
    "# Numpy Size"
   ]
  },
  {
   "cell_type": "code",
   "execution_count": 186,
   "id": "5d351fe3-b53a-4fba-bdcc-9ebaa025a202",
   "metadata": {},
   "outputs": [],
   "source": [
    "arr1 = np.arange(9)"
   ]
  },
  {
   "cell_type": "code",
   "execution_count": 187,
   "id": "94bc89f7-8f29-4587-b5ce-52eccb6655e3",
   "metadata": {},
   "outputs": [
    {
     "data": {
      "text/plain": [
       "array([0, 1, 2, 3, 4, 5, 6, 7, 8])"
      ]
     },
     "execution_count": 187,
     "metadata": {},
     "output_type": "execute_result"
    }
   ],
   "source": [
    "arr1"
   ]
  },
  {
   "cell_type": "code",
   "execution_count": 189,
   "id": "326d1af5-c0e5-4695-9039-62d36e992e92",
   "metadata": {},
   "outputs": [
    {
     "data": {
      "text/plain": [
       "9"
      ]
     },
     "execution_count": 189,
     "metadata": {},
     "output_type": "execute_result"
    }
   ],
   "source": [
    "arr1.size"
   ]
  },
  {
   "cell_type": "code",
   "execution_count": 190,
   "id": "eee976e0-06b8-4e18-a222-afe88b194317",
   "metadata": {},
   "outputs": [
    {
     "data": {
      "text/plain": [
       "9"
      ]
     },
     "execution_count": 190,
     "metadata": {},
     "output_type": "execute_result"
    }
   ],
   "source": [
    "np.size(arr1)"
   ]
  },
  {
   "cell_type": "code",
   "execution_count": 191,
   "id": "c7418623-acd9-4fd7-b8ed-437155a27380",
   "metadata": {},
   "outputs": [],
   "source": [
    "arr2 = np.arange(0, 10).reshape(2,5)"
   ]
  },
  {
   "cell_type": "code",
   "execution_count": 192,
   "id": "66c22f3c-00d6-4f94-865c-c32e2e3fe2e2",
   "metadata": {},
   "outputs": [
    {
     "data": {
      "text/plain": [
       "array([[0, 1, 2, 3, 4],\n",
       "       [5, 6, 7, 8, 9]])"
      ]
     },
     "execution_count": 192,
     "metadata": {},
     "output_type": "execute_result"
    }
   ],
   "source": [
    "arr2"
   ]
  },
  {
   "cell_type": "code",
   "execution_count": 193,
   "id": "11b9c88f-6531-47ba-951d-b19f4ecda861",
   "metadata": {},
   "outputs": [
    {
     "data": {
      "text/plain": [
       "10"
      ]
     },
     "execution_count": 193,
     "metadata": {},
     "output_type": "execute_result"
    }
   ],
   "source": [
    "arr2.size"
   ]
  },
  {
   "cell_type": "code",
   "execution_count": 196,
   "id": "5747d60d-54a4-4a3f-a2cf-6876412f7489",
   "metadata": {},
   "outputs": [
    {
     "data": {
      "text/plain": [
       "10"
      ]
     },
     "execution_count": 196,
     "metadata": {},
     "output_type": "execute_result"
    }
   ],
   "source": [
    "arr2.shape[0] * arr2.shape[1]"
   ]
  },
  {
   "cell_type": "code",
   "execution_count": 197,
   "id": "1aefe635-1445-4da8-8964-aa510df0b645",
   "metadata": {},
   "outputs": [
    {
     "data": {
      "text/plain": [
       "(2, 5)"
      ]
     },
     "execution_count": 197,
     "metadata": {},
     "output_type": "execute_result"
    }
   ],
   "source": [
    "arr2.shape"
   ]
  },
  {
   "cell_type": "code",
   "execution_count": 198,
   "id": "ba733c00-1a59-4881-b391-0847b3798f55",
   "metadata": {},
   "outputs": [],
   "source": [
    "arr3 = np.arange(0, 27).reshape(3,3,3)"
   ]
  },
  {
   "cell_type": "code",
   "execution_count": 199,
   "id": "2affd047-a58a-461e-b4cb-dda984191b4f",
   "metadata": {},
   "outputs": [
    {
     "data": {
      "text/plain": [
       "array([[[ 0,  1,  2],\n",
       "        [ 3,  4,  5],\n",
       "        [ 6,  7,  8]],\n",
       "\n",
       "       [[ 9, 10, 11],\n",
       "        [12, 13, 14],\n",
       "        [15, 16, 17]],\n",
       "\n",
       "       [[18, 19, 20],\n",
       "        [21, 22, 23],\n",
       "        [24, 25, 26]]])"
      ]
     },
     "execution_count": 199,
     "metadata": {},
     "output_type": "execute_result"
    }
   ],
   "source": [
    "arr3"
   ]
  },
  {
   "cell_type": "code",
   "execution_count": 200,
   "id": "618865c5-8482-4113-8d61-8a94a6f2301b",
   "metadata": {},
   "outputs": [
    {
     "data": {
      "text/plain": [
       "27"
      ]
     },
     "execution_count": 200,
     "metadata": {},
     "output_type": "execute_result"
    }
   ],
   "source": [
    "arr3.size"
   ]
  },
  {
   "cell_type": "code",
   "execution_count": 201,
   "id": "421f84ef-2dcf-446e-b395-6479ded5217e",
   "metadata": {},
   "outputs": [
    {
     "data": {
      "text/plain": [
       "(3, 3, 3)"
      ]
     },
     "execution_count": 201,
     "metadata": {},
     "output_type": "execute_result"
    }
   ],
   "source": [
    "arr3.shape"
   ]
  },
  {
   "cell_type": "code",
   "execution_count": 202,
   "id": "9c12d277-4f6c-4cc9-b362-1d75b7a1d970",
   "metadata": {},
   "outputs": [
    {
     "data": {
      "text/plain": [
       "27"
      ]
     },
     "execution_count": 202,
     "metadata": {},
     "output_type": "execute_result"
    }
   ],
   "source": [
    "arr3.shape[0]*arr3.shape[1]*arr3.shape[2]"
   ]
  },
  {
   "cell_type": "markdown",
   "id": "ba0917a0-7d92-4664-9115-14dc97a71845",
   "metadata": {},
   "source": [
    "# numpy ndim (dimensions)"
   ]
  },
  {
   "cell_type": "code",
   "execution_count": 203,
   "id": "91a14232-3d4e-44b1-9b0f-a48158fc64b0",
   "metadata": {},
   "outputs": [],
   "source": [
    "import numpy as np"
   ]
  },
  {
   "cell_type": "code",
   "execution_count": 205,
   "id": "f1984f8a-8e59-41b5-be11-48ff105a2bfa",
   "metadata": {},
   "outputs": [],
   "source": [
    "arr1 = np.array(1)"
   ]
  },
  {
   "cell_type": "code",
   "execution_count": 206,
   "id": "90ed2cdc-3ce2-4aad-b138-15323a70f50b",
   "metadata": {},
   "outputs": [
    {
     "data": {
      "text/plain": [
       "array(1)"
      ]
     },
     "execution_count": 206,
     "metadata": {},
     "output_type": "execute_result"
    }
   ],
   "source": [
    "arr1"
   ]
  },
  {
   "cell_type": "code",
   "execution_count": 207,
   "id": "eff789f8-8e39-46e2-b9f8-ccbc5a8e3d83",
   "metadata": {},
   "outputs": [
    {
     "data": {
      "text/plain": [
       "0"
      ]
     },
     "execution_count": 207,
     "metadata": {},
     "output_type": "execute_result"
    }
   ],
   "source": [
    "arr1.ndim"
   ]
  },
  {
   "cell_type": "code",
   "execution_count": 208,
   "id": "06ba7d2c-9cea-420b-b84d-732a850d5d17",
   "metadata": {},
   "outputs": [
    {
     "data": {
      "text/plain": [
       "0"
      ]
     },
     "execution_count": 208,
     "metadata": {},
     "output_type": "execute_result"
    }
   ],
   "source": [
    "np.ndim(arr1)"
   ]
  },
  {
   "cell_type": "code",
   "execution_count": 209,
   "id": "60ab94b0-3274-42c0-93e9-0a59bab99187",
   "metadata": {},
   "outputs": [],
   "source": [
    "arr2 = np.array([])"
   ]
  },
  {
   "cell_type": "code",
   "execution_count": 210,
   "id": "e8e20251-7727-4fc9-91b9-8266ea42954a",
   "metadata": {},
   "outputs": [
    {
     "data": {
      "text/plain": [
       "array([], dtype=float64)"
      ]
     },
     "execution_count": 210,
     "metadata": {},
     "output_type": "execute_result"
    }
   ],
   "source": [
    "arr2"
   ]
  },
  {
   "cell_type": "code",
   "execution_count": 211,
   "id": "51c1f64d-f84e-46c3-8a05-c616bc8e1446",
   "metadata": {},
   "outputs": [
    {
     "data": {
      "text/plain": [
       "1"
      ]
     },
     "execution_count": 211,
     "metadata": {},
     "output_type": "execute_result"
    }
   ],
   "source": [
    "arr2.ndim"
   ]
  },
  {
   "cell_type": "code",
   "execution_count": 212,
   "id": "fff344b2-a7a0-41ad-9a65-2c39b1e3ce8b",
   "metadata": {},
   "outputs": [],
   "source": [
    "arr3 = np.array([1,2,3])"
   ]
  },
  {
   "cell_type": "code",
   "execution_count": 213,
   "id": "08a6f007-2617-40d0-b137-245b26596825",
   "metadata": {},
   "outputs": [
    {
     "data": {
      "text/plain": [
       "1"
      ]
     },
     "execution_count": 213,
     "metadata": {},
     "output_type": "execute_result"
    }
   ],
   "source": [
    "arr3.ndim"
   ]
  },
  {
   "cell_type": "code",
   "execution_count": 214,
   "id": "6381804c-9511-407d-ac01-2d8977ebfb24",
   "metadata": {},
   "outputs": [
    {
     "data": {
      "text/plain": [
       "1"
      ]
     },
     "execution_count": 214,
     "metadata": {},
     "output_type": "execute_result"
    }
   ],
   "source": [
    "np.ndim(arr3)"
   ]
  },
  {
   "cell_type": "code",
   "execution_count": 215,
   "id": "6b859296-dfcb-4c19-97c6-3691d09771be",
   "metadata": {},
   "outputs": [],
   "source": [
    "arr2d = np.array([[1,2,3], [4,5,6]])"
   ]
  },
  {
   "cell_type": "code",
   "execution_count": 216,
   "id": "1d8f7cb1-b1ce-4e7a-a1ba-9f2e55499218",
   "metadata": {},
   "outputs": [
    {
     "data": {
      "text/plain": [
       "2"
      ]
     },
     "execution_count": 216,
     "metadata": {},
     "output_type": "execute_result"
    }
   ],
   "source": [
    "arr2d.ndim"
   ]
  },
  {
   "cell_type": "code",
   "execution_count": 217,
   "id": "4e186554-f42a-44c7-ab41-d2a60ccc1f75",
   "metadata": {},
   "outputs": [],
   "source": [
    "arr2d2 = np.arange(10).reshape(2,5)"
   ]
  },
  {
   "cell_type": "code",
   "execution_count": 218,
   "id": "53eb979c-d311-4e4b-b9c7-dc1242ea1810",
   "metadata": {},
   "outputs": [
    {
     "data": {
      "text/plain": [
       "array([[0, 1, 2, 3, 4],\n",
       "       [5, 6, 7, 8, 9]])"
      ]
     },
     "execution_count": 218,
     "metadata": {},
     "output_type": "execute_result"
    }
   ],
   "source": [
    "arr2d2"
   ]
  },
  {
   "cell_type": "code",
   "execution_count": 219,
   "id": "660ff1cc-d86c-4a23-9a0d-ac3bdeb37185",
   "metadata": {},
   "outputs": [
    {
     "data": {
      "text/plain": [
       "2"
      ]
     },
     "execution_count": 219,
     "metadata": {},
     "output_type": "execute_result"
    }
   ],
   "source": [
    "arr2d2.ndim"
   ]
  },
  {
   "cell_type": "code",
   "execution_count": 220,
   "id": "18f7f648-c2c4-426a-b21a-bec90a1f035c",
   "metadata": {},
   "outputs": [],
   "source": [
    "arr3d = np.arange(27).reshape(3,3,3)"
   ]
  },
  {
   "cell_type": "code",
   "execution_count": 221,
   "id": "0a54b81c-1ae0-453d-8279-dfb82cbfea2e",
   "metadata": {},
   "outputs": [
    {
     "data": {
      "text/plain": [
       "array([[[ 0,  1,  2],\n",
       "        [ 3,  4,  5],\n",
       "        [ 6,  7,  8]],\n",
       "\n",
       "       [[ 9, 10, 11],\n",
       "        [12, 13, 14],\n",
       "        [15, 16, 17]],\n",
       "\n",
       "       [[18, 19, 20],\n",
       "        [21, 22, 23],\n",
       "        [24, 25, 26]]])"
      ]
     },
     "execution_count": 221,
     "metadata": {},
     "output_type": "execute_result"
    }
   ],
   "source": [
    "arr3d"
   ]
  },
  {
   "cell_type": "code",
   "execution_count": 222,
   "id": "1f810706-6849-46cb-98d6-5c3e95884110",
   "metadata": {},
   "outputs": [
    {
     "data": {
      "text/plain": [
       "3"
      ]
     },
     "execution_count": 222,
     "metadata": {},
     "output_type": "execute_result"
    }
   ],
   "source": [
    "arr3d.ndim"
   ]
  },
  {
   "cell_type": "code",
   "execution_count": 223,
   "id": "4775fcf8-c211-4d88-8965-14d3d1983646",
   "metadata": {},
   "outputs": [
    {
     "data": {
      "text/plain": [
       "3"
      ]
     },
     "execution_count": 223,
     "metadata": {},
     "output_type": "execute_result"
    }
   ],
   "source": [
    "np.ndim(arr3d)"
   ]
  },
  {
   "cell_type": "code",
   "execution_count": 224,
   "id": "6f4d9c33-aa6c-4c47-829a-f66c4a1eb07a",
   "metadata": {},
   "outputs": [],
   "source": [
    "arr4d = np.arange(16).reshape(2,2,2,2)"
   ]
  },
  {
   "cell_type": "code",
   "execution_count": 225,
   "id": "7fdd779c-5ac0-48f9-bdc3-7543d664403c",
   "metadata": {},
   "outputs": [
    {
     "data": {
      "text/plain": [
       "array([[[[ 0,  1],\n",
       "         [ 2,  3]],\n",
       "\n",
       "        [[ 4,  5],\n",
       "         [ 6,  7]]],\n",
       "\n",
       "\n",
       "       [[[ 8,  9],\n",
       "         [10, 11]],\n",
       "\n",
       "        [[12, 13],\n",
       "         [14, 15]]]])"
      ]
     },
     "execution_count": 225,
     "metadata": {},
     "output_type": "execute_result"
    }
   ],
   "source": [
    "arr4d"
   ]
  },
  {
   "cell_type": "code",
   "execution_count": 226,
   "id": "bb13cfa7-f999-4f1b-8bc7-2547cf04ccce",
   "metadata": {},
   "outputs": [
    {
     "data": {
      "text/plain": [
       "4"
      ]
     },
     "execution_count": 226,
     "metadata": {},
     "output_type": "execute_result"
    }
   ],
   "source": [
    "arr4d.ndim"
   ]
  },
  {
   "cell_type": "code",
   "execution_count": 227,
   "id": "4163a132-02ce-48d9-9074-38f2a4c44299",
   "metadata": {},
   "outputs": [
    {
     "data": {
      "text/plain": [
       "4"
      ]
     },
     "execution_count": 227,
     "metadata": {},
     "output_type": "execute_result"
    }
   ],
   "source": [
    "np.ndim(arr4d)"
   ]
  },
  {
   "cell_type": "code",
   "execution_count": 228,
   "id": "9a58bc6e-1637-4b62-b3ee-7ef73a4f531f",
   "metadata": {},
   "outputs": [],
   "source": [
    "arr5d = np.arange(32).reshape(2,2,2,2,2)"
   ]
  },
  {
   "cell_type": "code",
   "execution_count": 229,
   "id": "7f2ae55b-24ae-47df-89c6-8b8f3499babf",
   "metadata": {},
   "outputs": [
    {
     "data": {
      "text/plain": [
       "array([[[[[ 0,  1],\n",
       "          [ 2,  3]],\n",
       "\n",
       "         [[ 4,  5],\n",
       "          [ 6,  7]]],\n",
       "\n",
       "\n",
       "        [[[ 8,  9],\n",
       "          [10, 11]],\n",
       "\n",
       "         [[12, 13],\n",
       "          [14, 15]]]],\n",
       "\n",
       "\n",
       "\n",
       "       [[[[16, 17],\n",
       "          [18, 19]],\n",
       "\n",
       "         [[20, 21],\n",
       "          [22, 23]]],\n",
       "\n",
       "\n",
       "        [[[24, 25],\n",
       "          [26, 27]],\n",
       "\n",
       "         [[28, 29],\n",
       "          [30, 31]]]]])"
      ]
     },
     "execution_count": 229,
     "metadata": {},
     "output_type": "execute_result"
    }
   ],
   "source": [
    "arr5d"
   ]
  },
  {
   "cell_type": "code",
   "execution_count": 230,
   "id": "9406f29b-b774-4d4f-9286-75e2545621be",
   "metadata": {},
   "outputs": [
    {
     "data": {
      "text/plain": [
       "5"
      ]
     },
     "execution_count": 230,
     "metadata": {},
     "output_type": "execute_result"
    }
   ],
   "source": [
    "arr5d.ndim"
   ]
  },
  {
   "cell_type": "markdown",
   "id": "38b2cc57-1dcf-45ea-9c70-22f7a486bc1c",
   "metadata": {},
   "source": [
    "# Numpy.eye or Identity Matrix"
   ]
  },
  {
   "cell_type": "code",
   "execution_count": 246,
   "id": "50506a43-3e20-4221-bfc9-61b01dbaf616",
   "metadata": {},
   "outputs": [],
   "source": [
    "import numpy as np"
   ]
  },
  {
   "cell_type": "code",
   "execution_count": 247,
   "id": "477ebc0b-7ed2-4f09-857e-95098f01316b",
   "metadata": {},
   "outputs": [],
   "source": [
    "ey1 = np.eye(3)"
   ]
  },
  {
   "cell_type": "code",
   "execution_count": 248,
   "id": "c68cbfa7-812e-4a2e-90c5-c5b1c38de279",
   "metadata": {},
   "outputs": [
    {
     "data": {
      "text/plain": [
       "array([[1., 0., 0.],\n",
       "       [0., 1., 0.],\n",
       "       [0., 0., 1.]])"
      ]
     },
     "execution_count": 248,
     "metadata": {},
     "output_type": "execute_result"
    }
   ],
   "source": [
    "ey1"
   ]
  },
  {
   "cell_type": "code",
   "execution_count": 249,
   "id": "c387efbf-f9bd-43c2-a7b3-680f9bb84c05",
   "metadata": {},
   "outputs": [
    {
     "data": {
      "text/plain": [
       "dtype('float64')"
      ]
     },
     "execution_count": 249,
     "metadata": {},
     "output_type": "execute_result"
    }
   ],
   "source": [
    "ey1.dtype"
   ]
  },
  {
   "cell_type": "code",
   "execution_count": 256,
   "id": "0af4cf56-f49c-44f9-9190-11b2f7b25b4c",
   "metadata": {},
   "outputs": [],
   "source": [
    "ey2 = np.eye(3, dtype='int8')"
   ]
  },
  {
   "cell_type": "code",
   "execution_count": 257,
   "id": "12484a79-fd8e-4392-ae2a-80e893d28597",
   "metadata": {},
   "outputs": [
    {
     "data": {
      "text/plain": [
       "array([[1, 0, 0],\n",
       "       [0, 1, 0],\n",
       "       [0, 0, 1]], dtype=int8)"
      ]
     },
     "execution_count": 257,
     "metadata": {},
     "output_type": "execute_result"
    }
   ],
   "source": [
    "ey2"
   ]
  },
  {
   "cell_type": "code",
   "execution_count": 258,
   "id": "23e1a113-ce78-4075-8d62-2802d578bad1",
   "metadata": {},
   "outputs": [
    {
     "data": {
      "text/plain": [
       "dtype('int8')"
      ]
     },
     "execution_count": 258,
     "metadata": {},
     "output_type": "execute_result"
    }
   ],
   "source": [
    "ey2.dtype"
   ]
  },
  {
   "cell_type": "code",
   "execution_count": 259,
   "id": "51d6c122-4883-4576-a24b-5e03aa3afc1a",
   "metadata": {},
   "outputs": [],
   "source": [
    "#M . M-1 = I "
   ]
  },
  {
   "cell_type": "code",
   "execution_count": 265,
   "id": "acc244e7-282b-4597-ac4b-c43787a84f6b",
   "metadata": {},
   "outputs": [],
   "source": [
    "ar3 = np.array([[2, 4, 9],\n",
    "       [11, 2, 5],\n",
    "       [5, 3, 7]])"
   ]
  },
  {
   "cell_type": "code",
   "execution_count": 266,
   "id": "3cabaac9-2d3d-456f-a86c-29310fb6a231",
   "metadata": {},
   "outputs": [
    {
     "data": {
      "text/plain": [
       "array([[ 2,  4,  9],\n",
       "       [11,  2,  5],\n",
       "       [ 5,  3,  7]])"
      ]
     },
     "execution_count": 266,
     "metadata": {},
     "output_type": "execute_result"
    }
   ],
   "source": [
    "ar3"
   ]
  },
  {
   "cell_type": "code",
   "execution_count": 267,
   "id": "0e4b3a56-0bc2-4ec8-838b-ba02a1c4e5e5",
   "metadata": {},
   "outputs": [],
   "source": [
    "ar3i = np.linalg.inv(ar3)"
   ]
  },
  {
   "cell_type": "code",
   "execution_count": 268,
   "id": "0ffd99eb-4f65-4d6a-a52f-8629bd588dd3",
   "metadata": {},
   "outputs": [
    {
     "data": {
      "text/plain": [
       "array([[  0.33333333,   0.33333333,  -0.66666667],\n",
       "       [ 17.33333333,  10.33333333, -29.66666667],\n",
       "       [ -7.66666667,  -4.66666667,  13.33333333]])"
      ]
     },
     "execution_count": 268,
     "metadata": {},
     "output_type": "execute_result"
    }
   ],
   "source": [
    "ar3i"
   ]
  },
  {
   "cell_type": "code",
   "execution_count": 269,
   "id": "5b7ea962-3c28-4b4e-9c62-449b013dc688",
   "metadata": {},
   "outputs": [
    {
     "data": {
      "text/plain": [
       "array([[   0.66666667,    1.33333333,   -6.        ],\n",
       "       [ 190.66666667,   20.66666667, -148.33333333],\n",
       "       [ -38.33333333,  -14.        ,   93.33333333]])"
      ]
     },
     "execution_count": 269,
     "metadata": {},
     "output_type": "execute_result"
    }
   ],
   "source": [
    "ar3i * ar3"
   ]
  },
  {
   "cell_type": "code",
   "execution_count": 270,
   "id": "83337678-d6ac-4a84-b554-41718f52f218",
   "metadata": {},
   "outputs": [
    {
     "data": {
      "text/plain": [
       "array([[   0.66666667,    1.33333333,   -6.        ],\n",
       "       [ 190.66666667,   20.66666667, -148.33333333],\n",
       "       [ -38.33333333,  -14.        ,   93.33333333]])"
      ]
     },
     "execution_count": 270,
     "metadata": {},
     "output_type": "execute_result"
    }
   ],
   "source": [
    "ar3 * ar3i"
   ]
  },
  {
   "cell_type": "code",
   "execution_count": 271,
   "id": "07563ee1-123c-4eb8-80f4-7d705e1eda35",
   "metadata": {},
   "outputs": [
    {
     "data": {
      "text/plain": [
       "array([[ 1.00000000e+00, -4.44089210e-15,  1.77635684e-14],\n",
       "       [ 1.77635684e-15,  1.00000000e+00,  3.55271368e-15],\n",
       "       [-8.88178420e-15, -9.76996262e-15,  1.00000000e+00]])"
      ]
     },
     "execution_count": 271,
     "metadata": {},
     "output_type": "execute_result"
    }
   ],
   "source": [
    "ar3 @ ar3i "
   ]
  },
  {
   "cell_type": "code",
   "execution_count": 272,
   "id": "e73c4d12-11cc-4b11-a94d-9c98d9b45c40",
   "metadata": {},
   "outputs": [
    {
     "data": {
      "text/plain": [
       "array([[ 1.00000000e+00,  1.99840144e-15,  3.77475828e-15],\n",
       "       [ 1.06581410e-14,  1.00000000e+00,  3.55271368e-15],\n",
       "       [-1.06581410e-14, -3.55271368e-15,  1.00000000e+00]])"
      ]
     },
     "execution_count": 272,
     "metadata": {},
     "output_type": "execute_result"
    }
   ],
   "source": [
    "np.dot(ar3i, ar3)"
   ]
  },
  {
   "cell_type": "code",
   "execution_count": 273,
   "id": "1e1d4087-cfb8-4812-bacb-3c8e01e6f83b",
   "metadata": {},
   "outputs": [
    {
     "data": {
      "text/plain": [
       "array([[ 1.00000000e+00, -4.44089210e-15,  1.77635684e-14],\n",
       "       [ 1.77635684e-15,  1.00000000e+00,  3.55271368e-15],\n",
       "       [-8.88178420e-15, -9.76996262e-15,  1.00000000e+00]])"
      ]
     },
     "execution_count": 273,
     "metadata": {},
     "output_type": "execute_result"
    }
   ],
   "source": [
    "np.matmul(ar3, ar3i)"
   ]
  },
  {
   "cell_type": "code",
   "execution_count": 276,
   "id": "7ee597f7-e84b-4934-91ec-071dc60c9337",
   "metadata": {},
   "outputs": [],
   "source": [
    "arey4 = np.eye(8,8)"
   ]
  },
  {
   "cell_type": "code",
   "execution_count": 277,
   "id": "c4749760-9330-4d37-924f-7d48f2c0a495",
   "metadata": {},
   "outputs": [
    {
     "data": {
      "text/plain": [
       "array([[1., 0., 0., 0., 0., 0., 0., 0.],\n",
       "       [0., 1., 0., 0., 0., 0., 0., 0.],\n",
       "       [0., 0., 1., 0., 0., 0., 0., 0.],\n",
       "       [0., 0., 0., 1., 0., 0., 0., 0.],\n",
       "       [0., 0., 0., 0., 1., 0., 0., 0.],\n",
       "       [0., 0., 0., 0., 0., 1., 0., 0.],\n",
       "       [0., 0., 0., 0., 0., 0., 1., 0.],\n",
       "       [0., 0., 0., 0., 0., 0., 0., 1.]])"
      ]
     },
     "execution_count": 277,
     "metadata": {},
     "output_type": "execute_result"
    }
   ],
   "source": [
    "arey4"
   ]
  },
  {
   "cell_type": "code",
   "execution_count": 278,
   "id": "2444fe6d-ed26-4316-a7fd-1422c1db4801",
   "metadata": {},
   "outputs": [],
   "source": [
    "ar_ey4 = np.eye(8,8, dtype='int8', order='C')"
   ]
  },
  {
   "cell_type": "code",
   "execution_count": 279,
   "id": "bff1502d-eae3-4f2d-8ef4-b0391b1cd373",
   "metadata": {},
   "outputs": [
    {
     "data": {
      "text/plain": [
       "array([[1, 0, 0, 0, 0, 0, 0, 0],\n",
       "       [0, 1, 0, 0, 0, 0, 0, 0],\n",
       "       [0, 0, 1, 0, 0, 0, 0, 0],\n",
       "       [0, 0, 0, 1, 0, 0, 0, 0],\n",
       "       [0, 0, 0, 0, 1, 0, 0, 0],\n",
       "       [0, 0, 0, 0, 0, 1, 0, 0],\n",
       "       [0, 0, 0, 0, 0, 0, 1, 0],\n",
       "       [0, 0, 0, 0, 0, 0, 0, 1]], dtype=int8)"
      ]
     },
     "execution_count": 279,
     "metadata": {},
     "output_type": "execute_result"
    }
   ],
   "source": [
    "ar_ey4"
   ]
  },
  {
   "cell_type": "code",
   "execution_count": 290,
   "id": "286f7d96-e799-4396-a708-217f870a809c",
   "metadata": {},
   "outputs": [],
   "source": [
    "ar_ey5 = np.eye(8,M=6, k=-1, dtype='int8', order='C')"
   ]
  },
  {
   "cell_type": "code",
   "execution_count": 291,
   "id": "999b689f-7a2d-41f9-b6e1-893c9c62abbe",
   "metadata": {},
   "outputs": [
    {
     "data": {
      "text/plain": [
       "array([[0, 0, 0, 0, 0, 0],\n",
       "       [1, 0, 0, 0, 0, 0],\n",
       "       [0, 1, 0, 0, 0, 0],\n",
       "       [0, 0, 1, 0, 0, 0],\n",
       "       [0, 0, 0, 1, 0, 0],\n",
       "       [0, 0, 0, 0, 1, 0],\n",
       "       [0, 0, 0, 0, 0, 1],\n",
       "       [0, 0, 0, 0, 0, 0]], dtype=int8)"
      ]
     },
     "execution_count": 291,
     "metadata": {},
     "output_type": "execute_result"
    }
   ],
   "source": [
    "ar_ey5 "
   ]
  },
  {
   "cell_type": "code",
   "execution_count": 292,
   "id": "1e937d24-503e-49c4-9388-b6d4b7f31e87",
   "metadata": {},
   "outputs": [
    {
     "data": {
      "text/plain": [
       "array([[ 2,  4,  9],\n",
       "       [11,  2,  5],\n",
       "       [ 5,  3,  7]])"
      ]
     },
     "execution_count": 292,
     "metadata": {},
     "output_type": "execute_result"
    }
   ],
   "source": [
    "ar3  "
   ]
  },
  {
   "cell_type": "code",
   "execution_count": 293,
   "id": "e92ec732-925b-4de8-954a-edcb3f2c9af2",
   "metadata": {},
   "outputs": [
    {
     "data": {
      "text/plain": [
       "array([[  0.33333333,   0.33333333,  -0.66666667],\n",
       "       [ 17.33333333,  10.33333333, -29.66666667],\n",
       "       [ -7.66666667,  -4.66666667,  13.33333333]])"
      ]
     },
     "execution_count": 293,
     "metadata": {},
     "output_type": "execute_result"
    }
   ],
   "source": [
    "ar3i"
   ]
  },
  {
   "cell_type": "code",
   "execution_count": 294,
   "id": "26da7ab7-0da6-4c4c-b185-bc9d41594756",
   "metadata": {},
   "outputs": [
    {
     "data": {
      "text/plain": [
       "0.6666"
      ]
     },
     "execution_count": 294,
     "metadata": {},
     "output_type": "execute_result"
    }
   ],
   "source": [
    "2 * .3333"
   ]
  },
  {
   "cell_type": "code",
   "execution_count": 295,
   "id": "0bfb788c-6c24-4f98-9d16-4067e44f1f1a",
   "metadata": {},
   "outputs": [
    {
     "data": {
      "text/plain": [
       "1.33332"
      ]
     },
     "execution_count": 295,
     "metadata": {},
     "output_type": "execute_result"
    }
   ],
   "source": [
    "4 * .33333"
   ]
  },
  {
   "cell_type": "code",
   "execution_count": 296,
   "id": "45cbd827-0fba-4cc7-a9c7-7247e6f7eeb5",
   "metadata": {},
   "outputs": [
    {
     "data": {
      "text/plain": [
       "-6.00000003"
      ]
     },
     "execution_count": 296,
     "metadata": {},
     "output_type": "execute_result"
    }
   ],
   "source": [
    "9 * -0.66666667"
   ]
  },
  {
   "cell_type": "code",
   "execution_count": 297,
   "id": "150cffa3-47f5-40c7-ae93-a07cc221fb89",
   "metadata": {},
   "outputs": [
    {
     "data": {
      "text/plain": [
       "array([[   0.66666667,    1.33333333,   -6.        ],\n",
       "       [ 190.66666667,   20.66666667, -148.33333333],\n",
       "       [ -38.33333333,  -14.        ,   93.33333333]])"
      ]
     },
     "execution_count": 297,
     "metadata": {},
     "output_type": "execute_result"
    }
   ],
   "source": [
    "ar3 * ar3i"
   ]
  },
  {
   "cell_type": "code",
   "execution_count": 298,
   "id": "72582dba-fb8c-4797-ad61-e8b457a529bc",
   "metadata": {},
   "outputs": [
    {
     "data": {
      "text/plain": [
       "array([[  2.33333333,   4.33333333,   8.33333333],\n",
       "       [ 28.33333333,  12.33333333, -24.66666667],\n",
       "       [ -2.66666667,  -1.66666667,  20.33333333]])"
      ]
     },
     "execution_count": 298,
     "metadata": {},
     "output_type": "execute_result"
    }
   ],
   "source": [
    "ar3 + ar3i"
   ]
  },
  {
   "cell_type": "code",
   "execution_count": 299,
   "id": "eb9a54a7-4822-40e3-8d1e-8c863546e7cf",
   "metadata": {},
   "outputs": [],
   "source": [
    "list1 = [[1,2], [2,3]]\n",
    "list2 = [[1,2], [2,3]]"
   ]
  },
  {
   "cell_type": "code",
   "execution_count": 300,
   "id": "4db0ec12-dc53-4afb-81fd-9ffbc9e37192",
   "metadata": {},
   "outputs": [
    {
     "ename": "TypeError",
     "evalue": "can't multiply sequence by non-int of type 'list'",
     "output_type": "error",
     "traceback": [
      "\u001b[1;31m---------------------------------------------------------------------------\u001b[0m",
      "\u001b[1;31mTypeError\u001b[0m                                 Traceback (most recent call last)",
      "Cell \u001b[1;32mIn[300], line 1\u001b[0m\n\u001b[1;32m----> 1\u001b[0m \u001b[43mlist1\u001b[49m\u001b[43m \u001b[49m\u001b[38;5;241;43m*\u001b[39;49m\u001b[43m \u001b[49m\u001b[43mlist2\u001b[49m\n",
      "\u001b[1;31mTypeError\u001b[0m: can't multiply sequence by non-int of type 'list'"
     ]
    }
   ],
   "source": [
    "list1 * list2"
   ]
  },
  {
   "cell_type": "code",
   "execution_count": 301,
   "id": "f07fc526-22b2-4de5-b845-ad2b48659de0",
   "metadata": {},
   "outputs": [
    {
     "data": {
      "text/plain": [
       "[[1, 2], [2, 3], [1, 2], [2, 3]]"
      ]
     },
     "execution_count": 301,
     "metadata": {},
     "output_type": "execute_result"
    }
   ],
   "source": [
    "list1 + list2"
   ]
  },
  {
   "cell_type": "code",
   "execution_count": 302,
   "id": "a1c830ed-5f28-4884-bdcc-44b2860358eb",
   "metadata": {},
   "outputs": [],
   "source": [
    "myarray = np.array(list1)"
   ]
  },
  {
   "cell_type": "code",
   "execution_count": 303,
   "id": "2e5fad99-25ff-409a-be0a-574f0c63ed0a",
   "metadata": {},
   "outputs": [
    {
     "data": {
      "text/plain": [
       "array([[2, 4],\n",
       "       [4, 6]])"
      ]
     },
     "execution_count": 303,
     "metadata": {},
     "output_type": "execute_result"
    }
   ],
   "source": [
    "myarray + myarray"
   ]
  },
  {
   "cell_type": "code",
   "execution_count": 304,
   "id": "cd1de6de-c646-4c9a-91ba-e036dde60db6",
   "metadata": {},
   "outputs": [
    {
     "data": {
      "text/plain": [
       "array([[1, 4],\n",
       "       [4, 9]])"
      ]
     },
     "execution_count": 304,
     "metadata": {},
     "output_type": "execute_result"
    }
   ],
   "source": [
    "myarray * myarray"
   ]
  },
  {
   "cell_type": "markdown",
   "id": "ef68ac4e-30e3-46ff-927d-3b963911aa83",
   "metadata": {},
   "source": [
    "# np.diag "
   ]
  },
  {
   "cell_type": "code",
   "execution_count": 305,
   "id": "6555ec7a-2fec-4e55-8ed5-0940e76a6aed",
   "metadata": {},
   "outputs": [],
   "source": [
    "import numpy as np"
   ]
  },
  {
   "cell_type": "code",
   "execution_count": 307,
   "id": "6bcbfd9c-e839-4d66-bf46-296645504848",
   "metadata": {},
   "outputs": [
    {
     "data": {
      "text/plain": [
       "array([[ 2,  4,  9],\n",
       "       [11,  2,  5],\n",
       "       [ 5,  3,  7]])"
      ]
     },
     "execution_count": 307,
     "metadata": {},
     "output_type": "execute_result"
    }
   ],
   "source": [
    "ar3  "
   ]
  },
  {
   "cell_type": "code",
   "execution_count": 310,
   "id": "be52ae10-c09e-42e7-b790-58cf904bf2d8",
   "metadata": {},
   "outputs": [],
   "source": [
    "arr4 = np.diag(ar3)"
   ]
  },
  {
   "cell_type": "code",
   "execution_count": 311,
   "id": "2d722fed-1b43-471b-8da2-7aba563435c8",
   "metadata": {},
   "outputs": [
    {
     "data": {
      "text/plain": [
       "array([2, 2, 7])"
      ]
     },
     "execution_count": 311,
     "metadata": {},
     "output_type": "execute_result"
    }
   ],
   "source": [
    "arr4"
   ]
  },
  {
   "cell_type": "code",
   "execution_count": 312,
   "id": "20ac70cd-184c-4997-bee3-9d39001c51e7",
   "metadata": {},
   "outputs": [
    {
     "data": {
      "text/plain": [
       "3"
      ]
     },
     "execution_count": 312,
     "metadata": {},
     "output_type": "execute_result"
    }
   ],
   "source": [
    "arr4.size"
   ]
  },
  {
   "cell_type": "code",
   "execution_count": 314,
   "id": "78419e92-ba04-4e14-84a5-c4cf4af43d68",
   "metadata": {},
   "outputs": [
    {
     "data": {
      "text/plain": [
       "dtype('int32')"
      ]
     },
     "execution_count": 314,
     "metadata": {},
     "output_type": "execute_result"
    }
   ],
   "source": [
    "arr4.dtype"
   ]
  },
  {
   "cell_type": "code",
   "execution_count": 315,
   "id": "2855d468-22d0-402a-bf03-8dacfb22a1ed",
   "metadata": {},
   "outputs": [
    {
     "data": {
      "text/plain": [
       "(3,)"
      ]
     },
     "execution_count": 315,
     "metadata": {},
     "output_type": "execute_result"
    }
   ],
   "source": [
    "arr4.shape"
   ]
  },
  {
   "cell_type": "code",
   "execution_count": 316,
   "id": "88b7fa51-6b33-4f21-82af-2ca2a2299ee8",
   "metadata": {},
   "outputs": [],
   "source": [
    "arr5 = np.diag(arr4)"
   ]
  },
  {
   "cell_type": "code",
   "execution_count": 317,
   "id": "9e806906-9af9-4763-bc41-9eedfbb2ff96",
   "metadata": {},
   "outputs": [
    {
     "data": {
      "text/plain": [
       "array([[2, 0, 0],\n",
       "       [0, 2, 0],\n",
       "       [0, 0, 7]])"
      ]
     },
     "execution_count": 317,
     "metadata": {},
     "output_type": "execute_result"
    }
   ],
   "source": [
    "arr5"
   ]
  },
  {
   "cell_type": "markdown",
   "id": "5906764d-0d3d-4e9e-a89e-35abbf058c02",
   "metadata": {},
   "source": [
    "# numpy.random Random"
   ]
  },
  {
   "cell_type": "code",
   "execution_count": 1,
   "id": "e7f54f66-cb98-4d45-9806-a18ce119c5b9",
   "metadata": {},
   "outputs": [],
   "source": [
    "import numpy as np"
   ]
  },
  {
   "cell_type": "code",
   "execution_count": 12,
   "id": "ff4201aa-9036-44c9-99b3-3f36ed710ac1",
   "metadata": {},
   "outputs": [
    {
     "name": "stdout",
     "output_type": "stream",
     "text": [
      "0.8060127582719688\n"
     ]
    }
   ],
   "source": [
    "x = np.random.random()\n",
    "print(x)"
   ]
  },
  {
   "cell_type": "code",
   "execution_count": 20,
   "id": "5479a2a6-d69a-4c78-bd42-402effd97c7c",
   "metadata": {},
   "outputs": [
    {
     "data": {
      "text/plain": [
       "array([[0.88872146, 0.9723656 , 0.11215018],\n",
       "       [0.89173083, 0.95274754, 0.30581341],\n",
       "       [0.96933552, 0.31739038, 0.65412056]])"
      ]
     },
     "execution_count": 20,
     "metadata": {},
     "output_type": "execute_result"
    }
   ],
   "source": [
    "arr_random= np.random.random((3,3))\n",
    "arr_random"
   ]
  },
  {
   "cell_type": "code",
   "execution_count": 21,
   "id": "bba67017-a3bf-44f7-834b-47e1a4c4e677",
   "metadata": {},
   "outputs": [
    {
     "data": {
      "text/plain": [
       "numpy.ndarray"
      ]
     },
     "execution_count": 21,
     "metadata": {},
     "output_type": "execute_result"
    }
   ],
   "source": [
    "type(arr_random)"
   ]
  },
  {
   "cell_type": "markdown",
   "id": "968de35f-8ffc-47c8-b4c4-228ce63d2af4",
   "metadata": {},
   "source": [
    "## Random Integers"
   ]
  },
  {
   "cell_type": "code",
   "execution_count": 32,
   "id": "ca8b461b-c447-43d6-8077-5ac13f775c6b",
   "metadata": {},
   "outputs": [
    {
     "data": {
      "text/plain": [
       "int"
      ]
     },
     "execution_count": 32,
     "metadata": {},
     "output_type": "execute_result"
    }
   ],
   "source": [
    "x = np.random.randint(1, 100)\n",
    "x\n",
    "type(x)"
   ]
  },
  {
   "cell_type": "code",
   "execution_count": 34,
   "id": "b6dcb296-7e0a-483a-bcc4-714f6ffea0c2",
   "metadata": {},
   "outputs": [
    {
     "name": "stdout",
     "output_type": "stream",
     "text": [
      "[4]\n",
      "<class 'numpy.ndarray'>\n"
     ]
    }
   ],
   "source": [
    "x = np.random.randint(1, 50, size=1)\n",
    "print(x)\n",
    "print(type(x))"
   ]
  },
  {
   "cell_type": "code",
   "execution_count": 36,
   "id": "d098773a-8923-4326-9be2-22f34cd3c40d",
   "metadata": {},
   "outputs": [],
   "source": [
    "arr_rand_int = np.random.randint(1, 1000, size=5)"
   ]
  },
  {
   "cell_type": "code",
   "execution_count": 39,
   "id": "cecb286e-fb9d-467b-a5e7-331827cba8ca",
   "metadata": {},
   "outputs": [
    {
     "name": "stdout",
     "output_type": "stream",
     "text": [
      "[ 71 563 660 117 793]\n",
      "1\n"
     ]
    }
   ],
   "source": [
    "print(arr_rand_int)\n",
    "print(arr_rand_int.ndim)"
   ]
  },
  {
   "cell_type": "code",
   "execution_count": 48,
   "id": "7b16a9f8-5560-4b55-95f6-73a50826fccd",
   "metadata": {},
   "outputs": [
    {
     "data": {
      "text/plain": [
       "array([[12, 30],\n",
       "       [22, 24]])"
      ]
     },
     "execution_count": 48,
     "metadata": {},
     "output_type": "execute_result"
    }
   ],
   "source": [
    "arr_i_2d = np.random.randint(1, 55, size=(2,2))\n",
    "arr_i_2d"
   ]
  },
  {
   "cell_type": "code",
   "execution_count": 49,
   "id": "f049e392-dc68-42b2-b466-efeea443d1d5",
   "metadata": {},
   "outputs": [
    {
     "data": {
      "text/plain": [
       "array([[[21, 29],\n",
       "        [37, 53]],\n",
       "\n",
       "       [[36, 26],\n",
       "        [ 8, 15]]])"
      ]
     },
     "execution_count": 49,
     "metadata": {},
     "output_type": "execute_result"
    }
   ],
   "source": [
    "arr_i_3d = np.random.randint(1, 55, size=(2,2,2))\n",
    "arr_i_3d"
   ]
  },
  {
   "cell_type": "code",
   "execution_count": 50,
   "id": "0188e31b-15d4-4f41-99ad-4e1043992d60",
   "metadata": {},
   "outputs": [
    {
     "data": {
      "text/plain": [
       "3"
      ]
     },
     "execution_count": 50,
     "metadata": {},
     "output_type": "execute_result"
    }
   ],
   "source": [
    "arr_i_3d.ndim"
   ]
  },
  {
   "cell_type": "code",
   "execution_count": 51,
   "id": "fa015f2e-e73a-4744-b6b8-67384340afc4",
   "metadata": {},
   "outputs": [
    {
     "data": {
      "text/plain": [
       "numpy.ndarray"
      ]
     },
     "execution_count": 51,
     "metadata": {},
     "output_type": "execute_result"
    }
   ],
   "source": [
    "type(arr_i_3d)"
   ]
  },
  {
   "cell_type": "markdown",
   "id": "0a1d00fc-471c-44ae-8c00-97e8809b00bb",
   "metadata": {},
   "source": [
    "# choice"
   ]
  },
  {
   "cell_type": "code",
   "execution_count": 52,
   "id": "4705e178-4074-4f60-ad01-baee3ee3d776",
   "metadata": {},
   "outputs": [],
   "source": [
    "countries = ['Canada', 'USA', 'Mexico', 'France', 'Italy', 'Germany']"
   ]
  },
  {
   "cell_type": "code",
   "execution_count": 72,
   "id": "2bdf463c-66fa-4c7f-945f-e1b97d56f10b",
   "metadata": {},
   "outputs": [
    {
     "data": {
      "text/plain": [
       "'Germany'"
      ]
     },
     "execution_count": 72,
     "metadata": {},
     "output_type": "execute_result"
    }
   ],
   "source": [
    "mychoice = np.random.choice(countries)\n",
    "mychoice"
   ]
  },
  {
   "cell_type": "code",
   "execution_count": 68,
   "id": "9c2bfc06-7622-40c2-8afd-09bf7eff7668",
   "metadata": {},
   "outputs": [],
   "source": [
    "choices = np.random.choice(countries, size=15)"
   ]
  },
  {
   "cell_type": "code",
   "execution_count": 69,
   "id": "4cdae790-da81-42db-8453-3e0e87a34322",
   "metadata": {},
   "outputs": [
    {
     "data": {
      "text/plain": [
       "array(['Germany', 'Mexico', 'Italy', 'France', 'Germany', 'Italy', 'USA',\n",
       "       'Mexico', 'Canada', 'Germany', 'Canada', 'USA', 'Italy', 'France',\n",
       "       'France'], dtype='<U7')"
      ]
     },
     "execution_count": 69,
     "metadata": {},
     "output_type": "execute_result"
    }
   ],
   "source": [
    "choices"
   ]
  },
  {
   "cell_type": "code",
   "execution_count": 76,
   "id": "f080e9de-92f2-4071-b5fb-ca86776f3148",
   "metadata": {},
   "outputs": [
    {
     "name": "stdout",
     "output_type": "stream",
     "text": [
      "Mexico\n",
      "Mexico\n",
      "Italy\n",
      "France\n",
      "Canada\n",
      "Mexico\n",
      "France\n",
      "USA\n",
      "USA\n",
      "USA\n",
      "France\n",
      "France\n",
      "France\n",
      "Mexico\n",
      "Canada\n"
     ]
    }
   ],
   "source": [
    "mylist = []\n",
    "for i in range(15):\n",
    "    print( np.random.choice(countries))\n",
    "    mylist.append(np.random.choice(countries))"
   ]
  },
  {
   "cell_type": "code",
   "execution_count": 77,
   "id": "6e108e30-0a91-4a8f-ae13-f1378f669726",
   "metadata": {},
   "outputs": [
    {
     "data": {
      "text/plain": [
       "['Italy',\n",
       " 'Mexico',\n",
       " 'Canada',\n",
       " 'Germany',\n",
       " 'Mexico',\n",
       " 'Germany',\n",
       " 'Canada',\n",
       " 'USA',\n",
       " 'Germany',\n",
       " 'Mexico',\n",
       " 'Germany',\n",
       " 'Mexico',\n",
       " 'France',\n",
       " 'Canada',\n",
       " 'Canada']"
      ]
     },
     "execution_count": 77,
     "metadata": {},
     "output_type": "execute_result"
    }
   ],
   "source": [
    "mylist"
   ]
  },
  {
   "cell_type": "code",
   "execution_count": 78,
   "id": "18b3f693-fdf7-4a3b-bec1-083daaaa611e",
   "metadata": {},
   "outputs": [],
   "source": [
    "uniq=np.random.choice(countries, size=5, replace=False)"
   ]
  },
  {
   "cell_type": "code",
   "execution_count": 79,
   "id": "9c1302ca-124a-49b0-ada7-2ed48156ff7b",
   "metadata": {},
   "outputs": [
    {
     "data": {
      "text/plain": [
       "array(['USA', 'Germany', 'Canada', 'Mexico', 'France'], dtype='<U7')"
      ]
     },
     "execution_count": 79,
     "metadata": {},
     "output_type": "execute_result"
    }
   ],
   "source": [
    "uniq"
   ]
  },
  {
   "cell_type": "code",
   "execution_count": 83,
   "id": "c9ff4c2d-cc8f-4ff7-9714-4d106c2c4071",
   "metadata": {},
   "outputs": [
    {
     "ename": "ValueError",
     "evalue": "Cannot take a larger sample than population when 'replace=False'",
     "output_type": "error",
     "traceback": [
      "\u001b[1;31m---------------------------------------------------------------------------\u001b[0m",
      "\u001b[1;31mValueError\u001b[0m                                Traceback (most recent call last)",
      "Cell \u001b[1;32mIn[83], line 1\u001b[0m\n\u001b[1;32m----> 1\u001b[0m uniq\u001b[38;5;241m=\u001b[39m\u001b[43mnp\u001b[49m\u001b[38;5;241;43m.\u001b[39;49m\u001b[43mrandom\u001b[49m\u001b[38;5;241;43m.\u001b[39;49m\u001b[43mchoice\u001b[49m\u001b[43m(\u001b[49m\u001b[43mcountries\u001b[49m\u001b[43m,\u001b[49m\u001b[43m \u001b[49m\u001b[43msize\u001b[49m\u001b[38;5;241;43m=\u001b[39;49m\u001b[38;5;241;43m7\u001b[39;49m\u001b[43m,\u001b[49m\u001b[43m \u001b[49m\u001b[43mreplace\u001b[49m\u001b[38;5;241;43m=\u001b[39;49m\u001b[38;5;28;43;01mFalse\u001b[39;49;00m\u001b[43m)\u001b[49m\n",
      "File \u001b[1;32mnumpy\\\\random\\\\mtrand.pyx:1001\u001b[0m, in \u001b[0;36mnumpy.random.mtrand.RandomState.choice\u001b[1;34m()\u001b[0m\n",
      "\u001b[1;31mValueError\u001b[0m: Cannot take a larger sample than population when 'replace=False'"
     ]
    }
   ],
   "source": [
    "uniq=np.random.choice(countries, size=7, replace=False)"
   ]
  },
  {
   "cell_type": "markdown",
   "id": "62f41318-d00f-4379-9252-029989cfa7c0",
   "metadata": {},
   "source": [
    "# shuffle"
   ]
  },
  {
   "cell_type": "code",
   "execution_count": 84,
   "id": "25c80675-7153-4e43-b802-ef027158c68d",
   "metadata": {},
   "outputs": [],
   "source": [
    "co = np.array(countries)"
   ]
  },
  {
   "cell_type": "code",
   "execution_count": 85,
   "id": "fa7cdd92-438d-4f0e-8101-e9b66e9ee124",
   "metadata": {},
   "outputs": [
    {
     "data": {
      "text/plain": [
       "array(['Canada', 'USA', 'Mexico', 'France', 'Italy', 'Germany'],\n",
       "      dtype='<U7')"
      ]
     },
     "execution_count": 85,
     "metadata": {},
     "output_type": "execute_result"
    }
   ],
   "source": [
    "co"
   ]
  },
  {
   "cell_type": "code",
   "execution_count": 99,
   "id": "73e3bb40-4306-4062-b689-87b5418073c6",
   "metadata": {},
   "outputs": [
    {
     "name": "stdout",
     "output_type": "stream",
     "text": [
      "['Canada' 'Germany' 'Mexico' 'France' 'USA' 'Italy']\n"
     ]
    }
   ],
   "source": [
    "np.random.shuffle(co)\n",
    "print(co)"
   ]
  },
  {
   "cell_type": "code",
   "execution_count": 105,
   "id": "ad87c484-a65a-46ff-a865-dc2e898edf08",
   "metadata": {},
   "outputs": [
    {
     "data": {
      "text/plain": [
       "array(['Canada', 'Germany', 'Mexico', 'France', 'USA', 'Italy'],\n",
       "      dtype='<U7')"
      ]
     },
     "execution_count": 105,
     "metadata": {},
     "output_type": "execute_result"
    }
   ],
   "source": [
    "shu = np.random.permutation(co)\n",
    "co"
   ]
  },
  {
   "cell_type": "code",
   "execution_count": 106,
   "id": "12ae8dd1-83d5-4be6-bdf0-0c18ce1c0193",
   "metadata": {},
   "outputs": [
    {
     "data": {
      "text/plain": [
       "array(['Germany', 'Canada', 'USA', 'Italy', 'France', 'Mexico'],\n",
       "      dtype='<U7')"
      ]
     },
     "execution_count": 106,
     "metadata": {},
     "output_type": "execute_result"
    }
   ],
   "source": [
    "shu"
   ]
  },
  {
   "cell_type": "code",
   "execution_count": 110,
   "id": "8b114462-5853-4996-a056-780cb7f28dd8",
   "metadata": {},
   "outputs": [],
   "source": [
    "def myarray004(myarray):\n",
    "    print(\"Shape: \", myarray.shape)\n",
    "    print(\"ndim: \", myarray.ndim)\n",
    "    print(\"Size: \", myarray.size)\n",
    "    print(\"DType: \", myarray.dtype)\n",
    "     "
   ]
  },
  {
   "cell_type": "code",
   "execution_count": 111,
   "id": "d3be7bb5-d0d1-40d7-9203-8065f0b94c16",
   "metadata": {},
   "outputs": [
    {
     "name": "stdout",
     "output_type": "stream",
     "text": [
      "Shape:  (6,)\n",
      "ndim:  1\n",
      "Size:  6\n",
      "DType:  <U7\n"
     ]
    }
   ],
   "source": [
    "myarray004(shu)"
   ]
  },
  {
   "cell_type": "markdown",
   "id": "ff241d38-0d41-4e89-91ef-9e4808d2c1fe",
   "metadata": {},
   "source": [
    "# Default_rng()"
   ]
  },
  {
   "cell_type": "code",
   "execution_count": 112,
   "id": "2598c877-29f7-449d-b37e-cf1e4d464dad",
   "metadata": {},
   "outputs": [],
   "source": [
    "import numpy as np"
   ]
  },
  {
   "cell_type": "code",
   "execution_count": 113,
   "id": "f3c21339-5b9a-46b1-9f2e-cf6ee6cdfefb",
   "metadata": {},
   "outputs": [
    {
     "data": {
      "text/plain": [
       "'1.26.4'"
      ]
     },
     "execution_count": 113,
     "metadata": {},
     "output_type": "execute_result"
    }
   ],
   "source": [
    "np.__version__"
   ]
  },
  {
   "cell_type": "code",
   "execution_count": 119,
   "id": "0dbcf8b5-0581-4f4b-b046-ef8c1f163475",
   "metadata": {},
   "outputs": [
    {
     "data": {
      "text/plain": [
       "Generator(PCG64) at 0x1613DA6C580"
      ]
     },
     "execution_count": 119,
     "metadata": {},
     "output_type": "execute_result"
    }
   ],
   "source": [
    "np.random.default_rng()"
   ]
  },
  {
   "cell_type": "code",
   "execution_count": 120,
   "id": "4df69ec6-27a1-4fa2-b05b-f87bc7f7de14",
   "metadata": {},
   "outputs": [],
   "source": [
    "arr_rng = np.random.default_rng()"
   ]
  },
  {
   "cell_type": "code",
   "execution_count": 121,
   "id": "f68a4655-015d-41d4-b1fc-d8ef331949bc",
   "metadata": {},
   "outputs": [
    {
     "data": {
      "text/plain": [
       "Generator(PCG64) at 0x1613D88F5A0"
      ]
     },
     "execution_count": 121,
     "metadata": {},
     "output_type": "execute_result"
    }
   ],
   "source": [
    "arr_rng"
   ]
  },
  {
   "cell_type": "code",
   "execution_count": 122,
   "id": "68a3e236-cd29-4ac9-ac9a-c90674002b13",
   "metadata": {},
   "outputs": [
    {
     "data": {
      "text/plain": [
       "numpy.random._generator.Generator"
      ]
     },
     "execution_count": 122,
     "metadata": {},
     "output_type": "execute_result"
    }
   ],
   "source": [
    "type(arr_rng)"
   ]
  },
  {
   "cell_type": "code",
   "execution_count": 127,
   "id": "3b3ce9f6-d1d1-44c3-a094-bd9ba9e6fcdf",
   "metadata": {},
   "outputs": [],
   "source": [
    "#generate a float number using default_rng():\n",
    "myf = arr_rng.random()"
   ]
  },
  {
   "cell_type": "code",
   "execution_count": 128,
   "id": "0a269068-a1e6-4dc2-9775-5c8e9cc3b1c3",
   "metadata": {},
   "outputs": [
    {
     "data": {
      "text/plain": [
       "0.15761071019455686"
      ]
     },
     "execution_count": 128,
     "metadata": {},
     "output_type": "execute_result"
    }
   ],
   "source": [
    "myf"
   ]
  },
  {
   "cell_type": "code",
   "execution_count": 129,
   "id": "883e5b84-5f8a-4b5e-94b7-766695142284",
   "metadata": {},
   "outputs": [],
   "source": [
    "myf1 = arr_rng.random(3)"
   ]
  },
  {
   "cell_type": "code",
   "execution_count": 130,
   "id": "14929c52-d689-4930-93cf-b0c75f5b07eb",
   "metadata": {},
   "outputs": [
    {
     "data": {
      "text/plain": [
       "array([0.93194119, 0.88273734, 0.21864983])"
      ]
     },
     "execution_count": 130,
     "metadata": {},
     "output_type": "execute_result"
    }
   ],
   "source": [
    "myf1"
   ]
  },
  {
   "cell_type": "code",
   "execution_count": 131,
   "id": "80af076e-cde8-45c8-b304-b54d7aec99b5",
   "metadata": {},
   "outputs": [
    {
     "data": {
      "text/plain": [
       "numpy.ndarray"
      ]
     },
     "execution_count": 131,
     "metadata": {},
     "output_type": "execute_result"
    }
   ],
   "source": [
    "type(myf1)"
   ]
  },
  {
   "cell_type": "code",
   "execution_count": 132,
   "id": "8243ce32-d776-426f-9715-346e4c8ab96c",
   "metadata": {},
   "outputs": [],
   "source": [
    "def myarray004(myarray):\n",
    "    print(\"Shape: \", myarray.shape)\n",
    "    print(\"ndim: \", myarray.ndim)\n",
    "    print(\"Size: \", myarray.size)\n",
    "    print(\"DType: \", myarray.dtype)"
   ]
  },
  {
   "cell_type": "code",
   "execution_count": 133,
   "id": "46ff20e7-045c-4be1-a461-99da845e262d",
   "metadata": {},
   "outputs": [
    {
     "name": "stdout",
     "output_type": "stream",
     "text": [
      "Shape:  (3,)\n",
      "ndim:  1\n",
      "Size:  3\n",
      "DType:  float64\n"
     ]
    }
   ],
   "source": [
    "myarray004(myf1)"
   ]
  },
  {
   "cell_type": "code",
   "execution_count": 142,
   "id": "5cf1224a-1a54-4dc4-9f62-eabdc1018439",
   "metadata": {},
   "outputs": [],
   "source": [
    "myint1 = arr_rng.integers(3)"
   ]
  },
  {
   "cell_type": "code",
   "execution_count": 143,
   "id": "1d70aed8-4a5d-4446-8e1e-9daeb1d2dca4",
   "metadata": {},
   "outputs": [
    {
     "data": {
      "text/plain": [
       "0"
      ]
     },
     "execution_count": 143,
     "metadata": {},
     "output_type": "execute_result"
    }
   ],
   "source": [
    "myint1"
   ]
  },
  {
   "cell_type": "code",
   "execution_count": 144,
   "id": "43a76dc3-8f28-4942-bd61-15ef5241705c",
   "metadata": {},
   "outputs": [],
   "source": [
    "myint2 = arr_rng.integers(1, 100, size=12)"
   ]
  },
  {
   "cell_type": "code",
   "execution_count": 145,
   "id": "adcfbf66-7c15-4b63-91e8-1d517119c6a7",
   "metadata": {},
   "outputs": [
    {
     "data": {
      "text/plain": [
       "array([27, 37, 41, 27, 74,  3, 99, 43, 40, 34, 69, 55], dtype=int64)"
      ]
     },
     "execution_count": 145,
     "metadata": {},
     "output_type": "execute_result"
    }
   ],
   "source": [
    "myint2"
   ]
  },
  {
   "cell_type": "code",
   "execution_count": 146,
   "id": "a20e6036-9f95-4aea-a1dc-a33b20dcae52",
   "metadata": {},
   "outputs": [],
   "source": [
    "myint3 = arr_rng.integers(1, 100, size=12, dtype='int64')"
   ]
  },
  {
   "cell_type": "code",
   "execution_count": 147,
   "id": "a69353b8-7e9b-4f67-9380-a37479ac090b",
   "metadata": {},
   "outputs": [
    {
     "data": {
      "text/plain": [
       "array([29, 81, 54, 66, 12,  8,  3, 33, 59, 58, 60,  1], dtype=int64)"
      ]
     },
     "execution_count": 147,
     "metadata": {},
     "output_type": "execute_result"
    }
   ],
   "source": [
    "myint3"
   ]
  },
  {
   "cell_type": "code",
   "execution_count": 149,
   "id": "e172d048-bedf-4af0-9e90-ccaa635bd5c2",
   "metadata": {},
   "outputs": [],
   "source": [
    "myint4 = arr_rng.integers(1, 100, size=12, dtype='int32')"
   ]
  },
  {
   "cell_type": "code",
   "execution_count": 150,
   "id": "06a61e93-1b16-4a8d-91a3-2a06928f336e",
   "metadata": {},
   "outputs": [
    {
     "data": {
      "text/plain": [
       "array([42, 68, 15, 97, 79, 70, 66, 88, 62,  8, 51, 42])"
      ]
     },
     "execution_count": 150,
     "metadata": {},
     "output_type": "execute_result"
    }
   ],
   "source": [
    "myint4"
   ]
  },
  {
   "cell_type": "code",
   "execution_count": 151,
   "id": "227d0af5-c9ae-4dc4-9b8f-3ebd574f4ce2",
   "metadata": {},
   "outputs": [],
   "source": [
    "myint5 = arr_rng.integers(1, 100, size=12, dtype='int16')"
   ]
  },
  {
   "cell_type": "code",
   "execution_count": 152,
   "id": "320d1c5c-d888-444f-9106-447a63deb0a6",
   "metadata": {},
   "outputs": [
    {
     "data": {
      "text/plain": [
       "array([25, 26, 79, 29, 10, 15,  1, 92, 25,  5, 73, 40], dtype=int16)"
      ]
     },
     "execution_count": 152,
     "metadata": {},
     "output_type": "execute_result"
    }
   ],
   "source": [
    "myint5"
   ]
  },
  {
   "cell_type": "code",
   "execution_count": 153,
   "id": "493d5b8f-abe9-4eea-851e-a5289b62143a",
   "metadata": {},
   "outputs": [],
   "source": [
    "myint6 = arr_rng.integers(1, 100, size=12, dtype='int8')"
   ]
  },
  {
   "cell_type": "code",
   "execution_count": 155,
   "id": "1752059e-a8ff-47bf-8bd9-47ba3a60fbe7",
   "metadata": {},
   "outputs": [
    {
     "data": {
      "text/plain": [
       "array([42,  2, 65, 39, 60, 73, 51, 86, 69, 23, 19, 38], dtype=int8)"
      ]
     },
     "execution_count": 155,
     "metadata": {},
     "output_type": "execute_result"
    }
   ],
   "source": [
    "myint6"
   ]
  },
  {
   "cell_type": "code",
   "execution_count": 157,
   "id": "8a47ca83-c21e-4155-8770-721195e42041",
   "metadata": {},
   "outputs": [],
   "source": [
    "myint6 = arr_rng.integers(1, 1000, size=12, dtype='int16')"
   ]
  },
  {
   "cell_type": "code",
   "execution_count": 158,
   "id": "d8d999c5-3d50-407d-9782-c5d64958de89",
   "metadata": {},
   "outputs": [
    {
     "data": {
      "text/plain": [
       "array([815, 232, 574, 965, 351, 308, 598, 850, 156, 542,  36, 734],\n",
       "      dtype=int16)"
      ]
     },
     "execution_count": 158,
     "metadata": {},
     "output_type": "execute_result"
    }
   ],
   "source": [
    "myint6"
   ]
  },
  {
   "cell_type": "code",
   "execution_count": 167,
   "id": "73375f53-e582-4b6d-bf6a-23159df0b7e1",
   "metadata": {},
   "outputs": [],
   "source": [
    "myf1 = arr_rng.random(size=(5,5), dtype='float32')"
   ]
  },
  {
   "cell_type": "code",
   "execution_count": 163,
   "id": "6dc685b5-059a-483c-8923-2e83fac505fd",
   "metadata": {},
   "outputs": [
    {
     "data": {
      "text/plain": [
       "array([[0.09325683, 0.18794984, 0.44665092, 0.46546954, 0.3099451 ],\n",
       "       [0.9872903 , 0.8831625 , 0.08810794, 0.93986404, 0.64225274],\n",
       "       [0.67038023, 0.04597002, 0.5627006 , 0.47457087, 0.8779608 ],\n",
       "       [0.5285585 , 0.96596086, 0.3174386 , 0.86624837, 0.82464886],\n",
       "       [0.39526772, 0.06121546, 0.9850871 , 0.33989155, 0.16487789]],\n",
       "      dtype=float32)"
      ]
     },
     "execution_count": 163,
     "metadata": {},
     "output_type": "execute_result"
    }
   ],
   "source": [
    "myf1"
   ]
  },
  {
   "cell_type": "code",
   "execution_count": 168,
   "id": "f1a13006-3aea-4224-a6b4-941f8ccca4ac",
   "metadata": {},
   "outputs": [
    {
     "name": "stdout",
     "output_type": "stream",
     "text": [
      "Shape:  (5, 5)\n",
      "ndim:  2\n",
      "Size:  25\n",
      "DType:  float32\n"
     ]
    }
   ],
   "source": [
    "myarray004(myf1)"
   ]
  },
  {
   "cell_type": "code",
   "execution_count": 172,
   "id": "2d64e8f2-b65b-45ee-9e27-063000cfbebe",
   "metadata": {},
   "outputs": [],
   "source": [
    "myf3d = arr_rng.random(size=(3,5,5), dtype='float64')"
   ]
  },
  {
   "cell_type": "code",
   "execution_count": 173,
   "id": "3c11a54f-b0a0-4620-8982-a2ac0b56eb07",
   "metadata": {},
   "outputs": [
    {
     "data": {
      "text/plain": [
       "array([[[0.18376276, 0.60392824, 0.45564562, 0.41967676, 0.81649749],\n",
       "        [0.41989546, 0.27422736, 0.0254394 , 0.40657992, 0.06878082],\n",
       "        [0.02585672, 0.4702922 , 0.80746621, 0.5087388 , 0.16903104],\n",
       "        [0.27725832, 0.37582822, 0.94756367, 0.58617879, 0.83270845],\n",
       "        [0.48149972, 0.62469672, 0.03201491, 0.56593883, 0.31994208]],\n",
       "\n",
       "       [[0.87858279, 0.27053364, 0.51555319, 0.26256645, 0.61957514],\n",
       "        [0.84415247, 0.99285086, 0.44630673, 0.86313678, 0.5792572 ],\n",
       "        [0.64355018, 0.88681438, 0.71158083, 0.02781926, 0.04694132],\n",
       "        [0.54800726, 0.68261419, 0.64413043, 0.89768143, 0.89692417],\n",
       "        [0.33552228, 0.46695418, 0.160584  , 0.74837519, 0.20168485]],\n",
       "\n",
       "       [[0.2160957 , 0.59657304, 0.70530785, 0.10794187, 0.25043267],\n",
       "        [0.29808947, 0.4758943 , 0.76780529, 0.99997149, 0.06032   ],\n",
       "        [0.01522212, 0.49712027, 0.2953388 , 0.7814303 , 0.26187751],\n",
       "        [0.93512162, 0.35569696, 0.68931857, 0.72338439, 0.47555004],\n",
       "        [0.20601259, 0.46801213, 0.86225856, 0.98724465, 0.56915906]]])"
      ]
     },
     "execution_count": 173,
     "metadata": {},
     "output_type": "execute_result"
    }
   ],
   "source": [
    "myf3d"
   ]
  },
  {
   "cell_type": "code",
   "execution_count": 174,
   "id": "b4a56c1d-39ac-4379-9c24-f16def0d1288",
   "metadata": {},
   "outputs": [
    {
     "name": "stdout",
     "output_type": "stream",
     "text": [
      "Shape:  (3, 5, 5)\n",
      "ndim:  3\n",
      "Size:  75\n",
      "DType:  float64\n"
     ]
    }
   ],
   "source": [
    "myarray004(myf3d)"
   ]
  },
  {
   "cell_type": "code",
   "execution_count": 177,
   "id": "4bd382fe-1b14-47f7-86e6-4401ac1dbb61",
   "metadata": {},
   "outputs": [],
   "source": [
    "myint3d = arr_rng.integers(3,5,5)"
   ]
  },
  {
   "cell_type": "code",
   "execution_count": 178,
   "id": "e1395618-be88-4183-b996-913c89a05e8b",
   "metadata": {},
   "outputs": [
    {
     "data": {
      "text/plain": [
       "array([3, 3, 3, 4, 4], dtype=int64)"
      ]
     },
     "execution_count": 178,
     "metadata": {},
     "output_type": "execute_result"
    }
   ],
   "source": [
    "myint3d"
   ]
  },
  {
   "cell_type": "code",
   "execution_count": 183,
   "id": "8f69b184-4240-429e-aa9b-197ed953dc79",
   "metadata": {},
   "outputs": [],
   "source": [
    "myint3d = arr_rng.integers(1, 50, size=(5,5), dtype='int8')"
   ]
  },
  {
   "cell_type": "code",
   "execution_count": 184,
   "id": "d96fbfb2-e424-4188-a163-cc7869e9a200",
   "metadata": {},
   "outputs": [
    {
     "data": {
      "text/plain": [
       "array([[39, 18, 17, 39, 46],\n",
       "       [48, 31,  9, 37, 18],\n",
       "       [10, 25, 44, 40, 41],\n",
       "       [ 9, 20, 43, 44, 39],\n",
       "       [33, 34,  9, 29, 35]], dtype=int8)"
      ]
     },
     "execution_count": 184,
     "metadata": {},
     "output_type": "execute_result"
    }
   ],
   "source": [
    "myint3d"
   ]
  },
  {
   "cell_type": "code",
   "execution_count": 192,
   "id": "5ff6f8a3-581c-4a6a-95c0-132160d2a52f",
   "metadata": {},
   "outputs": [
    {
     "name": "stdout",
     "output_type": "stream",
     "text": [
      "[[ 0.72434701 -2.95481189 -0.08412396]\n",
      " [ 0.72145709  0.24303822 -0.38598749]\n",
      " [-0.89461672 -0.17428606 -1.94996688]]\n"
     ]
    }
   ],
   "source": [
    "#Normal Distribution (mean=0, std=1)\n",
    "print(arr_rng.normal(size=(3,3)))"
   ]
  },
  {
   "cell_type": "code",
   "execution_count": 193,
   "id": "979bba71-a97f-4e56-ad91-95d3b332eea5",
   "metadata": {},
   "outputs": [
    {
     "data": {
      "text/plain": [
       "array([[[1.36924246, 2.18364071, 3.14037673],\n",
       "        [6.30353373, 4.19101402, 7.06229168],\n",
       "        [7.04762435, 6.2004899 , 7.3992277 ]],\n",
       "\n",
       "       [[2.86154651, 5.30341847, 9.8965392 ],\n",
       "        [3.55343006, 1.68288985, 6.65712503],\n",
       "        [4.28679816, 4.56419336, 2.00473477]],\n",
       "\n",
       "       [[1.43538398, 4.13584988, 4.20919023],\n",
       "        [4.26705263, 3.84555298, 8.36570891],\n",
       "        [8.66445715, 3.30603383, 4.46242666]]])"
      ]
     },
     "execution_count": 193,
     "metadata": {},
     "output_type": "execute_result"
    }
   ],
   "source": [
    "#Uniform distribution [low, high]\n",
    "arr_rng.uniform(1, 10, size=(3,3,3))"
   ]
  },
  {
   "cell_type": "code",
   "execution_count": 195,
   "id": "07e30c9c-bfde-4a21-ac31-c75885d75eed",
   "metadata": {},
   "outputs": [
    {
     "data": {
      "text/plain": [
       "array([['Chicago', 'Chicago'],\n",
       "       ['Chicago', 'Vegas']], dtype='<U7')"
      ]
     },
     "execution_count": 195,
     "metadata": {},
     "output_type": "execute_result"
    }
   ],
   "source": [
    "arr_rng.choice(['Chicago', 'Boston', 'Vegas'], size=(2,2))"
   ]
  },
  {
   "cell_type": "code",
   "execution_count": 196,
   "id": "d7fc227d-00e0-4a83-8860-3ad723ceac35",
   "metadata": {},
   "outputs": [
    {
     "name": "stdout",
     "output_type": "stream",
     "text": [
      "[0 7 6]\n"
     ]
    }
   ],
   "source": [
    "#reproducible arrays:\n",
    "arr_rng1 = np.random.default_rng(seed=42)\n",
    "print(arr_rng1.integers(0,10, 3))"
   ]
  },
  {
   "cell_type": "code",
   "execution_count": 209,
   "id": "104d466e-f267-4b22-9a6c-380c2972850c",
   "metadata": {},
   "outputs": [
    {
     "name": "stdout",
     "output_type": "stream",
     "text": [
      "[7 8 1]\n"
     ]
    }
   ],
   "source": [
    "arr_rng1 = np.random.default_rng(seed=100)\n",
    "print(arr_rng1.integers(0,10, 3))"
   ]
  },
  {
   "cell_type": "code",
   "execution_count": 211,
   "id": "07d4ab9a-3345-4471-a456-80aa3c877b9c",
   "metadata": {},
   "outputs": [],
   "source": [
    "#Saving Loading state\n",
    "#save state\n",
    "state = arr_rng1.bit_generator.state"
   ]
  },
  {
   "cell_type": "code",
   "execution_count": 212,
   "id": "18a8d4b6-38e5-4e69-93c7-d740080f75d8",
   "metadata": {},
   "outputs": [
    {
     "data": {
      "text/plain": [
       "{'bit_generator': 'PCG64',\n",
       " 'state': {'state': 164404244729103591598495580972637239091,\n",
       "  'inc': 30008503642980956324491363429807189605},\n",
       " 'has_uint32': 1,\n",
       " 'uinteger': 2562180036}"
      ]
     },
     "execution_count": 212,
     "metadata": {},
     "output_type": "execute_result"
    }
   ],
   "source": [
    "state"
   ]
  },
  {
   "cell_type": "code",
   "execution_count": 213,
   "id": "7e406be6-b981-496a-8f75-1e02025a6d3a",
   "metadata": {},
   "outputs": [],
   "source": [
    "arr_rng1.bit_generator.state = state"
   ]
  },
  {
   "cell_type": "code",
   "execution_count": 214,
   "id": "b52801fc-2456-4f01-a057-2ceaf3d2546e",
   "metadata": {},
   "outputs": [],
   "source": [
    "#generate large number faster than legacy regular random.random\n",
    "large_array = arr_rng1.random(100)"
   ]
  },
  {
   "cell_type": "code",
   "execution_count": 215,
   "id": "953e608d-7a5a-4799-97f8-251ea1631e31",
   "metadata": {},
   "outputs": [
    {
     "data": {
      "text/plain": [
       "Generator(PCG64) at 0x1613E97FE60"
      ]
     },
     "execution_count": 215,
     "metadata": {},
     "output_type": "execute_result"
    }
   ],
   "source": [
    "arr_rng1"
   ]
  },
  {
   "cell_type": "code",
   "execution_count": 216,
   "id": "66051c57-e360-4680-bbe9-2dbc0ba18ff2",
   "metadata": {},
   "outputs": [
    {
     "data": {
      "text/plain": [
       "array([0.28886324, 0.04295157, 0.9736544 , 0.5964717 , 0.79026316,\n",
       "       0.91033938, 0.68815445, 0.18999147, 0.98147898, 0.28474005,\n",
       "       0.62927317, 0.58103648, 0.59991227, 0.53524811, 0.9957771 ,\n",
       "       0.50194608, 0.77102258, 0.49416178, 0.99767449, 0.97862192,\n",
       "       0.39356804, 0.32192526, 0.86218065, 0.7993249 , 0.69143063,\n",
       "       0.40851785, 0.38976513, 0.1316484 , 0.62549749, 0.08240137,\n",
       "       0.27457299, 0.65611703, 0.01467603, 0.83453217, 0.07239908,\n",
       "       0.52412082, 0.54655052, 0.22724696, 0.95597822, 0.34096385,\n",
       "       0.50470744, 0.86738361, 0.65695295, 0.38472241, 0.09627241,\n",
       "       0.95580562, 0.58956713, 0.58216289, 0.59714527, 0.14887393,\n",
       "       0.56004863, 0.56316752, 0.58098818, 0.184949  , 0.70961891,\n",
       "       0.07002066, 0.32486494, 0.10685547, 0.74802869, 0.50157401,\n",
       "       0.4663081 , 0.07369337, 0.44209638, 0.22351108, 0.30297573,\n",
       "       0.39434801, 0.70663065, 0.78636314, 0.3568361 , 0.67012985,\n",
       "       0.51022312, 0.67114526, 0.33033207, 0.89841956, 0.66279201,\n",
       "       0.19179735, 0.57515853, 0.74940288, 0.77992533, 0.43773156,\n",
       "       0.27831268, 0.61602408, 0.72990134, 0.50723515, 0.18460784,\n",
       "       0.61429415, 0.76035207, 0.91501446, 0.99444883, 0.36827925,\n",
       "       0.80559511, 0.6895361 , 0.97293646, 0.50876787, 0.86064151,\n",
       "       0.50404633, 0.28825275, 0.96038261, 0.2840741 , 0.31065823])"
      ]
     },
     "execution_count": 216,
     "metadata": {},
     "output_type": "execute_result"
    }
   ],
   "source": [
    "large_array"
   ]
  },
  {
   "cell_type": "code",
   "execution_count": 217,
   "id": "dd85c7ec-722c-4cb0-97f7-f72c97f3d3fd",
   "metadata": {},
   "outputs": [
    {
     "data": {
      "text/plain": [
       "array([0, 1, 2, 3, 4, 5, 6, 7, 8, 9])"
      ]
     },
     "execution_count": 217,
     "metadata": {},
     "output_type": "execute_result"
    }
   ],
   "source": [
    "#Permutation & shuffle\n",
    "arr = np.arange(10)\n",
    "arr"
   ]
  },
  {
   "cell_type": "code",
   "execution_count": 220,
   "id": "ed14c0cb-b257-4cec-ba88-a339bc106255",
   "metadata": {},
   "outputs": [],
   "source": [
    "arr_rng1.shuffle(arr)"
   ]
  },
  {
   "cell_type": "code",
   "execution_count": 221,
   "id": "21d2eae6-25ec-46b9-aa18-54f9293455b4",
   "metadata": {},
   "outputs": [
    {
     "data": {
      "text/plain": [
       "array([2, 3, 6, 8, 1, 9, 0, 5, 7, 4])"
      ]
     },
     "execution_count": 221,
     "metadata": {},
     "output_type": "execute_result"
    }
   ],
   "source": [
    "arr"
   ]
  },
  {
   "cell_type": "code",
   "execution_count": 229,
   "id": "81cb807d-bace-4129-ae54-5493c0bbccfe",
   "metadata": {},
   "outputs": [
    {
     "name": "stdout",
     "output_type": "stream",
     "text": [
      "[3 8 5 9 2 6 1 4 0 7]\n"
     ]
    }
   ],
   "source": [
    "#Permutation returns a new array\n",
    "print(arr_rng1.permutation(10))"
   ]
  },
  {
   "cell_type": "code",
   "execution_count": 230,
   "id": "bdb19f98-3a0f-427d-bdea-07f28b3208ce",
   "metadata": {},
   "outputs": [
    {
     "data": {
      "text/plain": [
       "Generator(PCG64) at 0x1613D88F5A0"
      ]
     },
     "execution_count": 230,
     "metadata": {},
     "output_type": "execute_result"
    }
   ],
   "source": [
    "arr_rng"
   ]
  },
  {
   "cell_type": "code",
   "execution_count": 231,
   "id": "af04a386-2e2c-4b91-8bc4-84ae99f457af",
   "metadata": {},
   "outputs": [
    {
     "name": "stdout",
     "output_type": "stream",
     "text": [
      "[[ 0.63771905 -0.2900345 ]\n",
      " [ 1.48670147  1.40872264]\n",
      " [-0.08373671 -0.36498162]]\n"
     ]
    }
   ],
   "source": [
    "#Multivariant normal \n",
    "mean = [0,0]\n",
    "cov = [[1, 0.5], [0.5, 1]]\n",
    "print(arr_rng1.multivariate_normal(mean, cov, size=3))"
   ]
  },
  {
   "cell_type": "code",
   "execution_count": 232,
   "id": "f1b05a7e-e37a-4f1b-840b-138760376709",
   "metadata": {},
   "outputs": [
    {
     "name": "stdout",
     "output_type": "stream",
     "text": [
      "[ 7  4  4 13  4]\n"
     ]
    }
   ],
   "source": [
    "#poisson distribution\n",
    "print(arr_rng1.poisson(lam=5, size=5))"
   ]
  },
  {
   "cell_type": "markdown",
   "id": "77ad27aa-88c9-4081-b494-255be302d558",
   "metadata": {},
   "source": [
    "# Advanced"
   ]
  },
  {
   "cell_type": "code",
   "execution_count": 240,
   "id": "f1366bb3-7e59-4685-bc9a-91b03eee48cd",
   "metadata": {},
   "outputs": [],
   "source": [
    "#Custom Generators & Parallel rng\n",
    "#using different generators"
   ]
  },
  {
   "cell_type": "code",
   "execution_count": 241,
   "id": "53aaf016-1ce5-465e-88b7-ecdd3d1b1bf4",
   "metadata": {},
   "outputs": [],
   "source": [
    "from numpy.random import PCG64, MT19937"
   ]
  },
  {
   "cell_type": "code",
   "execution_count": 242,
   "id": "df1e5cd3-fa40-44b7-9726-bf0f16830600",
   "metadata": {},
   "outputs": [],
   "source": [
    "#Explicitly choose generator\n",
    "rng_pcg = np.random.Generator(PCG64(seed=42))\n",
    "rng_mt = np.random.Generator(MT19937(seed=42))"
   ]
  },
  {
   "cell_type": "code",
   "execution_count": 243,
   "id": "dbcd3ee4-47ae-4d14-aa7d-486ef7f3ac60",
   "metadata": {},
   "outputs": [
    {
     "name": "stdout",
     "output_type": "stream",
     "text": [
      "0.330521973465665\n"
     ]
    }
   ],
   "source": [
    "#Parallel Random Number Generation\n",
    "#split generator for parallel processes\n",
    "children = arr_rng.spawn(4)\n",
    "print(children[0].normal())"
   ]
  },
  {
   "cell_type": "code",
   "execution_count": 244,
   "id": "c491d53d-5d65-45e9-8762-2f98f70b4b31",
   "metadata": {},
   "outputs": [
    {
     "name": "stdout",
     "output_type": "stream",
     "text": [
      "[Generator(PCG64) at 0x1613E23CF20, Generator(PCG64) at 0x1613E23D540, Generator(PCG64) at 0x1613E23C820, Generator(PCG64) at 0x1613E23C9E0]\n"
     ]
    }
   ],
   "source": [
    "print(children)"
   ]
  },
  {
   "cell_type": "code",
   "execution_count": 245,
   "id": "60520107-bb77-472b-addf-b5b16f457145",
   "metadata": {},
   "outputs": [
    {
     "name": "stdout",
     "output_type": "stream",
     "text": [
      "0.0054710829827453586\n"
     ]
    }
   ],
   "source": [
    "print(children[2].normal())"
   ]
  },
  {
   "cell_type": "code",
   "execution_count": 246,
   "id": "8919a8c7-8575-441e-81e3-483cbe154f71",
   "metadata": {},
   "outputs": [],
   "source": [
    "#Cryptographic Hasing for seeds\n",
    "import hashlib\n",
    "seed = int(hashlib.sha256(b\"secure\").hexdigest(), 16) % 2**32"
   ]
  },
  {
   "cell_type": "code",
   "execution_count": 247,
   "id": "7a502150-7ffe-4cda-a093-f22b45cf1b42",
   "metadata": {},
   "outputs": [],
   "source": [
    "secure_rng = np.random.default_rng(seed)"
   ]
  },
  {
   "cell_type": "code",
   "execution_count": 248,
   "id": "0003165a-429e-40c1-89b3-15c2a2e92e85",
   "metadata": {},
   "outputs": [
    {
     "data": {
      "text/plain": [
       "Generator(PCG64) at 0x1613E23C660"
      ]
     },
     "execution_count": 248,
     "metadata": {},
     "output_type": "execute_result"
    }
   ],
   "source": [
    "secure_rng"
   ]
  },
  {
   "cell_type": "code",
   "execution_count": 249,
   "id": "b570fcd6-134b-4d96-88c8-c5ffa734d0e4",
   "metadata": {},
   "outputs": [],
   "source": [
    "#Create RNG \n",
    "rng = np.random.default_rng()"
   ]
  },
  {
   "cell_type": "code",
   "execution_count": 250,
   "id": "2682446d-125a-452c-aa41-58d54c63480c",
   "metadata": {},
   "outputs": [
    {
     "data": {
      "text/plain": [
       "array([[0.4470828 , 0.22096589, 0.85296819],\n",
       "       [0.15277361, 0.22615633, 0.57208062],\n",
       "       [0.42615224, 0.75718114, 0.72642706]])"
      ]
     },
     "execution_count": 250,
     "metadata": {},
     "output_type": "execute_result"
    }
   ],
   "source": [
    "#Random float\n",
    "rng.random(size=(3,3))"
   ]
  },
  {
   "cell_type": "code",
   "execution_count": 251,
   "id": "bd2d0ec9-ab82-43ee-9504-02dc1e6c7135",
   "metadata": {},
   "outputs": [
    {
     "data": {
      "text/plain": [
       "array([[28, 22],\n",
       "       [36, 11]], dtype=int64)"
      ]
     },
     "execution_count": 251,
     "metadata": {},
     "output_type": "execute_result"
    }
   ],
   "source": [
    "#Random int using default_rng\n",
    "rng.integers(0, 50, size=(2,2))"
   ]
  },
  {
   "cell_type": "code",
   "execution_count": 252,
   "id": "909dc017-7dbe-4007-afd5-ea99ddc1d6ef",
   "metadata": {},
   "outputs": [
    {
     "data": {
      "text/plain": [
       "array([-0.27166562,  1.00934232,  0.54976385,  0.96261826,  0.857156  ,\n",
       "        0.65217438,  0.69741764,  0.02301974,  1.84485674, -0.274626  ])"
      ]
     },
     "execution_count": 252,
     "metadata": {},
     "output_type": "execute_result"
    }
   ],
   "source": [
    "#Normal distribution\n",
    "rng.normal(0, 1, size=10)"
   ]
  },
  {
   "cell_type": "code",
   "execution_count": 253,
   "id": "f664ef7c-4e7e-4221-813e-04156d6995ed",
   "metadata": {},
   "outputs": [],
   "source": [
    "#shuffle\n",
    "rng.shuffle(arr)"
   ]
  },
  {
   "cell_type": "code",
   "execution_count": 254,
   "id": "a8644572-b389-4acb-837d-cbfa964c6685",
   "metadata": {},
   "outputs": [
    {
     "data": {
      "text/plain": [
       "array(['a', 'c', 'a'], dtype='<U1')"
      ]
     },
     "execution_count": 254,
     "metadata": {},
     "output_type": "execute_result"
    }
   ],
   "source": [
    "#Choice \n",
    "rng.choice(['a', 'b', 'c'], size=3)"
   ]
  },
  {
   "cell_type": "code",
   "execution_count": 255,
   "id": "cc85f8e1-fc6d-4ee0-aa56-7b74eca218d8",
   "metadata": {},
   "outputs": [],
   "source": [
    "#reproduce \n",
    "rng = np.random.default_rng(seed=42)"
   ]
  },
  {
   "cell_type": "code",
   "execution_count": 263,
   "id": "18a74ffd-6b87-49b6-936f-86426c1ba961",
   "metadata": {},
   "outputs": [
    {
     "data": {
      "text/plain": [
       "array([[4, 4],\n",
       "       [4, 4]], dtype=int64)"
      ]
     },
     "execution_count": 263,
     "metadata": {},
     "output_type": "execute_result"
    }
   ],
   "source": [
    "rng.integers(low=3, high=5, size=(2,2))"
   ]
  },
  {
   "cell_type": "code",
   "execution_count": null,
   "id": "e8934bc2-f672-467f-8c95-41f195bd668a",
   "metadata": {},
   "outputs": [],
   "source": []
  },
  {
   "cell_type": "code",
   "execution_count": 264,
   "id": "7b5a8388-a4c4-4331-be61-45d666a74ae8",
   "metadata": {},
   "outputs": [],
   "source": [
    "#Prallel RNG\n",
    "children =rng.spawn(4)"
   ]
  },
  {
   "cell_type": "code",
   "execution_count": 269,
   "id": "ae890f43-5d81-4ec1-958c-bbb2ccde6837",
   "metadata": {},
   "outputs": [
    {
     "name": "stdout",
     "output_type": "stream",
     "text": [
      "0.6055761737634663\n",
      "0.6062894401319061\n",
      "1.4059989799365469\n",
      "1.460115100190716\n"
     ]
    }
   ],
   "source": [
    "for i in children:\n",
    "    print(i.normal())"
   ]
  },
  {
   "cell_type": "markdown",
   "id": "beda6da4-2e5d-4d56-8c6f-5583125a4431",
   "metadata": {},
   "source": [
    "# Numpy Random intermediate/advanced "
   ]
  },
  {
   "cell_type": "code",
   "execution_count": 270,
   "id": "ea4f6a88-4011-46df-8dba-37477644681d",
   "metadata": {},
   "outputs": [],
   "source": [
    "import numpy as np"
   ]
  },
  {
   "cell_type": "code",
   "execution_count": 275,
   "id": "b74db19a-e99f-43e8-a8c3-fd4dde9c5987",
   "metadata": {},
   "outputs": [
    {
     "data": {
      "text/plain": [
       "0.09743637634061297"
      ]
     },
     "execution_count": 275,
     "metadata": {},
     "output_type": "execute_result"
    }
   ],
   "source": [
    "#generate random float number between 0 and \n",
    "myfloat = np.random.random()\n",
    "myfloat"
   ]
  },
  {
   "cell_type": "code",
   "execution_count": 284,
   "id": "9cb15608-eb12-4c36-a945-79fc359daaf5",
   "metadata": {},
   "outputs": [
    {
     "data": {
      "text/plain": [
       "array([[0.93689855, 0.69548469, 0.94517177],\n",
       "       [0.18724345, 0.52274706, 0.9182177 ],\n",
       "       [0.82379343, 0.83432555, 0.3312563 ]])"
      ]
     },
     "execution_count": 284,
     "metadata": {},
     "output_type": "execute_result"
    }
   ],
   "source": [
    "#Generate a matrix float between 0 and 1\n",
    "mymatrix = np.random.random(size=(3,3))\n",
    "mymatrix"
   ]
  },
  {
   "cell_type": "code",
   "execution_count": 287,
   "id": "d5feb3aa-3dec-4b8f-8541-33472bdc633b",
   "metadata": {},
   "outputs": [
    {
     "ename": "TypeError",
     "evalue": "random() got an unexpected keyword argument 'dtype'",
     "output_type": "error",
     "traceback": [
      "\u001b[1;31m---------------------------------------------------------------------------\u001b[0m",
      "\u001b[1;31mTypeError\u001b[0m                                 Traceback (most recent call last)",
      "Cell \u001b[1;32mIn[287], line 2\u001b[0m\n\u001b[0;32m      1\u001b[0m \u001b[38;5;66;03m#Generate a matrix float between 0 and 1\u001b[39;00m\n\u001b[1;32m----> 2\u001b[0m mymatrix3d \u001b[38;5;241m=\u001b[39m \u001b[43mnp\u001b[49m\u001b[38;5;241;43m.\u001b[39;49m\u001b[43mrandom\u001b[49m\u001b[38;5;241;43m.\u001b[39;49m\u001b[43mrandom\u001b[49m\u001b[43m(\u001b[49m\u001b[43msize\u001b[49m\u001b[38;5;241;43m=\u001b[39;49m\u001b[43m(\u001b[49m\u001b[38;5;241;43m3\u001b[39;49m\u001b[43m,\u001b[49m\u001b[38;5;241;43m3\u001b[39;49m\u001b[43m,\u001b[49m\u001b[38;5;241;43m3\u001b[39;49m\u001b[43m)\u001b[49m\u001b[43m,\u001b[49m\u001b[43m \u001b[49m\u001b[43mdtype\u001b[49m\u001b[38;5;241;43m=\u001b[39;49m\u001b[38;5;124;43m'\u001b[39;49m\u001b[38;5;124;43mfloat64\u001b[39;49m\u001b[38;5;124;43m'\u001b[39;49m\u001b[43m)\u001b[49m\n\u001b[0;32m      3\u001b[0m mymatrix3d\n",
      "File \u001b[1;32mnumpy\\\\random\\\\mtrand.pyx:439\u001b[0m, in \u001b[0;36mnumpy.random.mtrand.RandomState.random\u001b[1;34m()\u001b[0m\n",
      "\u001b[1;31mTypeError\u001b[0m: random() got an unexpected keyword argument 'dtype'"
     ]
    }
   ],
   "source": [
    "#Generate a matrix float between 0 and 1\n",
    "mymatrix3d = np.random.random(size=(3,3,3), dtype='float64')\n",
    "mymatrix3d"
   ]
  },
  {
   "cell_type": "code",
   "execution_count": 286,
   "id": "9d4077fd-e7c8-4d9c-bd43-51acfe8598b9",
   "metadata": {},
   "outputs": [
    {
     "name": "stdout",
     "output_type": "stream",
     "text": [
      "Shape:  (3, 3, 3)\n",
      "ndim:  3\n",
      "Size:  27\n",
      "DType:  float64\n"
     ]
    }
   ],
   "source": [
    "myarray004(mymatrix3d)"
   ]
  },
  {
   "cell_type": "markdown",
   "id": "ca452b71-4aa5-4630-8ee5-98b24ef635dc",
   "metadata": {},
   "source": [
    "##### Random integers"
   ]
  },
  {
   "cell_type": "code",
   "execution_count": 306,
   "id": "019d0cfe-79ca-473a-96e8-eaad8fb40ca0",
   "metadata": {},
   "outputs": [
    {
     "data": {
      "text/plain": [
       "4"
      ]
     },
     "execution_count": 306,
     "metadata": {},
     "output_type": "execute_result"
    }
   ],
   "source": [
    "myint = np.random.randint(1, 10)\n",
    "myint"
   ]
  },
  {
   "cell_type": "code",
   "execution_count": 297,
   "id": "6eb97d77-aeb6-478d-b1b7-f0ec9b3d78f8",
   "metadata": {},
   "outputs": [
    {
     "data": {
      "text/plain": [
       "array([ 1, 26, 48, 17, 40])"
      ]
     },
     "execution_count": 297,
     "metadata": {},
     "output_type": "execute_result"
    }
   ],
   "source": [
    "myintarr = np.random.randint(1, 50, size=5)\n",
    "myintarr"
   ]
  },
  {
   "cell_type": "code",
   "execution_count": 310,
   "id": "50004d56-0ad8-4d46-9034-041adf6e9c69",
   "metadata": {},
   "outputs": [
    {
     "data": {
      "text/plain": [
       "array([[ 7, 26],\n",
       "       [35, 16]])"
      ]
     },
     "execution_count": 310,
     "metadata": {},
     "output_type": "execute_result"
    }
   ],
   "source": [
    "#how do you make 2d int arrays\n",
    "myintarr2d = np.random.randint(1, 50, size=(2,2))\n",
    "myintarr2d"
   ]
  },
  {
   "cell_type": "code",
   "execution_count": 312,
   "id": "5a514de8-e708-414a-bf46-7b9a8ca149ae",
   "metadata": {},
   "outputs": [
    {
     "data": {
      "text/plain": [
       "array([[41, 34],\n",
       "       [48,  4]])"
      ]
     },
     "execution_count": 312,
     "metadata": {},
     "output_type": "execute_result"
    }
   ],
   "source": [
    "myintarr2d = np.random.randint(low=1, high=50, size=(2,2))\n",
    "myintarr2d"
   ]
  },
  {
   "cell_type": "code",
   "execution_count": 313,
   "id": "4dde303e-4fb0-4544-9246-4e8a4e22e0a1",
   "metadata": {},
   "outputs": [
    {
     "data": {
      "text/plain": [
       "array([[40,  3],\n",
       "       [ 7, 11]])"
      ]
     },
     "execution_count": 313,
     "metadata": {},
     "output_type": "execute_result"
    }
   ],
   "source": [
    "myintarr2d = np.random.randint(1, 50, (2,2))\n",
    "myintarr2d"
   ]
  },
  {
   "cell_type": "markdown",
   "id": "6473bcdf-8dcd-49c1-b695-a0d082784a5b",
   "metadata": {},
   "source": [
    "#### Simple Distributions"
   ]
  },
  {
   "cell_type": "code",
   "execution_count": 316,
   "id": "e52e7eed-cdce-4b83-b17f-b98713bde4c3",
   "metadata": {},
   "outputs": [
    {
     "data": {
      "text/plain": [
       "array([[[-1.285711  ,  0.05915552, -0.37683563,  1.68959909,\n",
       "         -0.78372096],\n",
       "        [-1.19049529, -0.49064187,  0.57639999, -1.35405472,\n",
       "         -1.54021072]],\n",
       "\n",
       "       [[-0.21484939,  0.10854928,  0.77765189, -1.70447952,\n",
       "         -0.48459409],\n",
       "        [-1.75031936,  0.12181695,  0.82912263,  0.38396671,\n",
       "          0.08309305]]])"
      ]
     },
     "execution_count": 316,
     "metadata": {},
     "output_type": "execute_result"
    }
   ],
   "source": [
    "#normal distribution\n",
    "np.random.normal(loc=0, scale=1, size=(2,2,5))"
   ]
  },
  {
   "cell_type": "code",
   "execution_count": 317,
   "id": "89052b5c-482f-4eec-9727-a7d523a09f9c",
   "metadata": {},
   "outputs": [
    {
     "data": {
      "text/plain": [
       "array([[7.44302823, 4.19072937],\n",
       "       [2.59473688, 4.56801898]])"
      ]
     },
     "execution_count": 317,
     "metadata": {},
     "output_type": "execute_result"
    }
   ],
   "source": [
    "#uniform distribution\n",
    "np.random.uniform(low=0, high=10, size=(2,2))"
   ]
  },
  {
   "cell_type": "code",
   "execution_count": 318,
   "id": "7394355c-8381-4447-b5af-fa444cfb92d6",
   "metadata": {},
   "outputs": [
    {
     "data": {
      "text/plain": [
       "array([[3.01577622, 1.43384692],\n",
       "       [3.77341498, 8.61639381]])"
      ]
     },
     "execution_count": 318,
     "metadata": {},
     "output_type": "execute_result"
    }
   ],
   "source": [
    "np.random.uniform(0, 10, (2,2))"
   ]
  },
  {
   "cell_type": "markdown",
   "id": "18f328ca-4e96-4876-8b4e-1ac34413bf01",
   "metadata": {},
   "source": [
    "#### Seeding"
   ]
  },
  {
   "cell_type": "code",
   "execution_count": 319,
   "id": "e4463d52-5be3-42a7-98de-0644dc574285",
   "metadata": {},
   "outputs": [],
   "source": [
    "np.random.seed(42)"
   ]
  },
  {
   "cell_type": "code",
   "execution_count": 322,
   "id": "e82d1140-ac5a-4ab0-abd3-de15413a3a37",
   "metadata": {},
   "outputs": [
    {
     "name": "stdout",
     "output_type": "stream",
     "text": [
      "0.7319939418114051\n"
     ]
    }
   ],
   "source": [
    "print(np.random.random())"
   ]
  },
  {
   "cell_type": "code",
   "execution_count": 323,
   "id": "232d6021-ca11-41e6-8a65-323299ffc5a1",
   "metadata": {},
   "outputs": [
    {
     "name": "stdout",
     "output_type": "stream",
     "text": [
      "[[5 3 3 3 7]\n",
      " [5 6 2 8 7]\n",
      " [4 4 4 4 5]\n",
      " [5 4 5 3 4]\n",
      " [4 5 6 4 5]]\n"
     ]
    }
   ],
   "source": [
    "#Common probability Distributions\n",
    "#Binomial distributions\n",
    "print(np.random.binomial(n=10, p=0.5, size=(5,5)))"
   ]
  },
  {
   "cell_type": "code",
   "execution_count": 324,
   "id": "94e23726-385d-49d6-a1f0-7e2e91e49421",
   "metadata": {},
   "outputs": [
    {
     "name": "stdout",
     "output_type": "stream",
     "text": [
      "[[5 2 5 3 3]\n",
      " [8 8 6 4 3]\n",
      " [6 5 3 5 2]\n",
      " [7 4 6 4 5]\n",
      " [5 4 8 6 7]]\n"
     ]
    }
   ],
   "source": [
    "print(np.random.binomial(10, 0.5, (5,5)))"
   ]
  },
  {
   "cell_type": "code",
   "execution_count": 325,
   "id": "02141885-ee1b-47d6-b3dd-a613b13665dd",
   "metadata": {},
   "outputs": [
    {
     "name": "stdout",
     "output_type": "stream",
     "text": [
      "[[ 5  5  3  3  6  4  6  6  1  7]\n",
      " [ 2 11  4  3  8  3  3  5  8  3]]\n"
     ]
    }
   ],
   "source": [
    "#Poison Distribution\n",
    "print(np.random.poisson(lam=5, size=(2,10)))"
   ]
  },
  {
   "cell_type": "code",
   "execution_count": 326,
   "id": "b99c0ac5-39c0-46b6-8b86-4b0212a1f30f",
   "metadata": {},
   "outputs": [
    {
     "name": "stdout",
     "output_type": "stream",
     "text": [
      "[0.8937784  1.13185173 0.01672695 0.71763058 0.25682415]\n"
     ]
    }
   ],
   "source": [
    "#exponentil distribution\n",
    "print(np.random.exponential(scale=1.0, size=5))"
   ]
  },
  {
   "cell_type": "code",
   "execution_count": 331,
   "id": "1d004e3e-cfb3-418e-8a0d-c879bdd701e7",
   "metadata": {},
   "outputs": [
    {
     "name": "stdout",
     "output_type": "stream",
     "text": [
      "[4 2 1]\n"
     ]
    }
   ],
   "source": [
    "#Sampling from Arrays:\n",
    "arr = np.array([1,2,3,4,5])\n",
    "#Random choice\n",
    "print(np.random.choice(arr, size=3))"
   ]
  },
  {
   "cell_type": "code",
   "execution_count": 338,
   "id": "39053c41-52d3-4e41-88bb-b5019f54387c",
   "metadata": {},
   "outputs": [
    {
     "name": "stdout",
     "output_type": "stream",
     "text": [
      "[3 5 5]\n"
     ]
    }
   ],
   "source": [
    "#with probabilities\n",
    "print(np.random.choice(arr, size=3, p=[0.1, 0.1, 0.3, 0.4, 0.1]))"
   ]
  },
  {
   "cell_type": "code",
   "execution_count": 339,
   "id": "de6e9925-5c45-429b-b40e-3f9112997752",
   "metadata": {},
   "outputs": [],
   "source": [
    "#Shuffling and permutations"
   ]
  },
  {
   "cell_type": "code",
   "execution_count": 343,
   "id": "99ec7d56-5720-4f82-ada2-e63c6becee5c",
   "metadata": {},
   "outputs": [
    {
     "name": "stdout",
     "output_type": "stream",
     "text": [
      "[0 1 2 3 4 5 6 7 8 9]\n",
      "[2 9 7 8 6 3 0 5 4 1]\n"
     ]
    }
   ],
   "source": [
    "arr = np.arange(10)\n",
    "print(arr)\n",
    "#shuffle in place\n",
    "np.random.shuffle(arr)\n",
    "print(arr)"
   ]
  },
  {
   "cell_type": "code",
   "execution_count": 344,
   "id": "ba09cb7b-8642-4e1a-8869-b112d455a48c",
   "metadata": {},
   "outputs": [
    {
     "data": {
      "text/plain": [
       "array([7, 5, 1, 4, 8, 6, 0, 9, 3, 2])"
      ]
     },
     "execution_count": 344,
     "metadata": {},
     "output_type": "execute_result"
    }
   ],
   "source": [
    "#Generate permutation:\n",
    "np.random.permutation(10)"
   ]
  },
  {
   "cell_type": "code",
   "execution_count": 345,
   "id": "8f46463c-b81a-4058-a673-ba7804a2dbb8",
   "metadata": {},
   "outputs": [
    {
     "name": "stdout",
     "output_type": "stream",
     "text": [
      "[[-0.35120579 -0.70010698]\n",
      " [ 0.44719137 -1.49703822]\n",
      " [-0.31664478 -0.26601497]\n",
      " [ 0.42595194 -0.04930541]\n",
      " [ 0.93449337  0.12097228]]\n"
     ]
    }
   ],
   "source": [
    "#multivariate normal\n",
    "mean =[0,0]\n",
    "cov = [[1, 0.5], [0.5, 1]]\n",
    "print(np.random.multivariate_normal(mean, cov, 5))"
   ]
  },
  {
   "cell_type": "code",
   "execution_count": 346,
   "id": "2b1cc308-2593-4283-842b-7b2a37cc0581",
   "metadata": {},
   "outputs": [
    {
     "name": "stdout",
     "output_type": "stream",
     "text": [
      "[-0.49318966 -1.99197138 -0.08840309 -0.51940196 -1.91361653]\n"
     ]
    }
   ],
   "source": [
    "#Advanced\n",
    "#RNG: Random Number generators\n",
    "from numpy.random import Generator, PCG64\n",
    "#using the newere generator\n",
    "rng = Generator(PCG64())\n",
    "print(rng.standard_normal(5))"
   ]
  },
  {
   "cell_type": "markdown",
   "id": "74d2153c-6a5b-464e-923f-3fb8ceaafaa7",
   "metadata": {},
   "source": [
    "# Section 5 Numpy Array indexing and slicing"
   ]
  },
  {
   "cell_type": "markdown",
   "id": "f56da495-9420-47dc-a531-f8537189f82a",
   "metadata": {},
   "source": [
    "#### Numpy Basic Indexing 1D, 2D, and nD arrays"
   ]
  },
  {
   "cell_type": "code",
   "execution_count": 347,
   "id": "9150aef9-ee62-454b-baad-f293ca4d652b",
   "metadata": {},
   "outputs": [],
   "source": [
    "import numpy as np\n",
    "arr_1d = np.array([10, 20, 30, 40, 50])"
   ]
  },
  {
   "cell_type": "code",
   "execution_count": 348,
   "id": "346df05f-41f4-4a45-b536-40a00c2d5b52",
   "metadata": {},
   "outputs": [
    {
     "data": {
      "text/plain": [
       "array([10, 20, 30, 40, 50])"
      ]
     },
     "execution_count": 348,
     "metadata": {},
     "output_type": "execute_result"
    }
   ],
   "source": [
    "arr_1d"
   ]
  },
  {
   "cell_type": "code",
   "execution_count": 349,
   "id": "4e5cc7cd-4854-4a58-8389-4b06130d3642",
   "metadata": {},
   "outputs": [
    {
     "name": "stdout",
     "output_type": "stream",
     "text": [
      "Shape:  (5,)\n",
      "ndim:  1\n",
      "Size:  5\n",
      "DType:  int32\n"
     ]
    }
   ],
   "source": [
    "myarray004(arr_1d)"
   ]
  },
  {
   "cell_type": "code",
   "execution_count": 350,
   "id": "3c48b775-d7a8-4a81-a25d-0f24da4f0ab8",
   "metadata": {},
   "outputs": [
    {
     "data": {
      "text/plain": [
       "10"
      ]
     },
     "execution_count": 350,
     "metadata": {},
     "output_type": "execute_result"
    }
   ],
   "source": [
    "arr_1d[0]"
   ]
  },
  {
   "cell_type": "code",
   "execution_count": 351,
   "id": "23b689c7-2b2c-4a54-a42a-845f78a67ca6",
   "metadata": {},
   "outputs": [
    {
     "data": {
      "text/plain": [
       "50"
      ]
     },
     "execution_count": 351,
     "metadata": {},
     "output_type": "execute_result"
    }
   ],
   "source": [
    "arr_1d[4]"
   ]
  },
  {
   "cell_type": "code",
   "execution_count": 352,
   "id": "451b8154-de6f-4f47-8fba-69904048ada3",
   "metadata": {},
   "outputs": [
    {
     "ename": "IndexError",
     "evalue": "index 5 is out of bounds for axis 0 with size 5",
     "output_type": "error",
     "traceback": [
      "\u001b[1;31m---------------------------------------------------------------------------\u001b[0m",
      "\u001b[1;31mIndexError\u001b[0m                                Traceback (most recent call last)",
      "Cell \u001b[1;32mIn[352], line 1\u001b[0m\n\u001b[1;32m----> 1\u001b[0m \u001b[43marr_1d\u001b[49m\u001b[43m[\u001b[49m\u001b[38;5;241;43m5\u001b[39;49m\u001b[43m]\u001b[49m\n",
      "\u001b[1;31mIndexError\u001b[0m: index 5 is out of bounds for axis 0 with size 5"
     ]
    }
   ],
   "source": [
    "arr_1d[5]"
   ]
  },
  {
   "cell_type": "code",
   "execution_count": 353,
   "id": "c8333688-af1d-4e8d-8263-d503e8ae4747",
   "metadata": {},
   "outputs": [
    {
     "data": {
      "text/plain": [
       "50"
      ]
     },
     "execution_count": 353,
     "metadata": {},
     "output_type": "execute_result"
    }
   ],
   "source": [
    "arr_1d[-1]"
   ]
  },
  {
   "cell_type": "code",
   "execution_count": 356,
   "id": "abc39e38-f932-4fc3-81e3-205b6b446f09",
   "metadata": {},
   "outputs": [
    {
     "name": "stdout",
     "output_type": "stream",
     "text": [
      "10\n",
      "20\n",
      "30\n",
      "40\n",
      "50\n"
     ]
    }
   ],
   "source": [
    "for i in range(len(arr_1d)):\n",
    "    print(arr_1d[i])"
   ]
  },
  {
   "cell_type": "code",
   "execution_count": 357,
   "id": "34c6975f-9214-4973-a325-22f9cb27d06e",
   "metadata": {},
   "outputs": [
    {
     "name": "stdout",
     "output_type": "stream",
     "text": [
      "10\n",
      "50\n",
      "40\n",
      "30\n",
      "20\n"
     ]
    }
   ],
   "source": [
    "for i in range(len(arr_1d)):\n",
    "    print(arr_1d[-i])"
   ]
  },
  {
   "cell_type": "code",
   "execution_count": 363,
   "id": "dee6cdee-0ea1-4ef6-91d4-58932ab223f1",
   "metadata": {},
   "outputs": [
    {
     "name": "stdout",
     "output_type": "stream",
     "text": [
      "50\n",
      "40\n",
      "30\n",
      "20\n",
      "10\n"
     ]
    }
   ],
   "source": [
    "for i in range(len(arr_1d)):\n",
    "    print(arr_1d[-(i + 1)])"
   ]
  },
  {
   "cell_type": "code",
   "execution_count": 364,
   "id": "6d7625bf-9999-4ec1-9912-429a733ff3e6",
   "metadata": {},
   "outputs": [
    {
     "data": {
      "text/plain": [
       "[1, 2, 3]"
      ]
     },
     "execution_count": 364,
     "metadata": {},
     "output_type": "execute_result"
    }
   ],
   "source": [
    "#Slicing \n",
    "mylist = [1,2,3,4,5]\n",
    "mylist[0:3]"
   ]
  },
  {
   "cell_type": "code",
   "execution_count": 365,
   "id": "1b35188b-a0c1-4009-b444-432c6555fe1f",
   "metadata": {},
   "outputs": [
    {
     "data": {
      "text/plain": [
       "array([10, 20, 30])"
      ]
     },
     "execution_count": 365,
     "metadata": {},
     "output_type": "execute_result"
    }
   ],
   "source": [
    "arr_1d[0:3]"
   ]
  },
  {
   "cell_type": "code",
   "execution_count": 366,
   "id": "b90888af-4d73-4dc5-8158-d436b195f001",
   "metadata": {},
   "outputs": [
    {
     "data": {
      "text/plain": [
       "array([10, 20, 30, 40, 50])"
      ]
     },
     "execution_count": 366,
     "metadata": {},
     "output_type": "execute_result"
    }
   ],
   "source": [
    "arr_1d"
   ]
  },
  {
   "cell_type": "code",
   "execution_count": 369,
   "id": "43da7433-4c7a-4708-b1bd-1b6d251a22ac",
   "metadata": {},
   "outputs": [
    {
     "data": {
      "text/plain": [
       "array([10, 30, 50])"
      ]
     },
     "execution_count": 369,
     "metadata": {},
     "output_type": "execute_result"
    }
   ],
   "source": [
    "arr_1d[0:15:2]"
   ]
  },
  {
   "cell_type": "code",
   "execution_count": 371,
   "id": "1279ba5c-6a18-4666-a0e4-9a9089e55f0f",
   "metadata": {},
   "outputs": [
    {
     "data": {
      "text/plain": [
       "array([], dtype=int32)"
      ]
     },
     "execution_count": 371,
     "metadata": {},
     "output_type": "execute_result"
    }
   ],
   "source": [
    "arr_1d[0:4:-1]"
   ]
  },
  {
   "cell_type": "code",
   "execution_count": 372,
   "id": "0120968a-8a2c-4669-86a3-bef986d3fbe5",
   "metadata": {},
   "outputs": [
    {
     "data": {
      "text/plain": [
       "array([10, 20, 30, 40, 50])"
      ]
     },
     "execution_count": 372,
     "metadata": {},
     "output_type": "execute_result"
    }
   ],
   "source": [
    "arr_1d"
   ]
  },
  {
   "cell_type": "code",
   "execution_count": 373,
   "id": "7d890600-8516-4cc6-9465-e129bef49c30",
   "metadata": {},
   "outputs": [
    {
     "data": {
      "text/plain": [
       "[1, 2, 3, 4, 5]"
      ]
     },
     "execution_count": 373,
     "metadata": {},
     "output_type": "execute_result"
    }
   ],
   "source": [
    "mylist"
   ]
  },
  {
   "cell_type": "code",
   "execution_count": 374,
   "id": "5abfac51-5b40-4a30-aad2-eb60ba53de86",
   "metadata": {},
   "outputs": [
    {
     "data": {
      "text/plain": [
       "[5, 4, 3, 2, 1]"
      ]
     },
     "execution_count": 374,
     "metadata": {},
     "output_type": "execute_result"
    }
   ],
   "source": [
    "mylist[::-1]"
   ]
  },
  {
   "cell_type": "code",
   "execution_count": 375,
   "id": "d9b7aac0-342c-4d53-9b74-d410719ae819",
   "metadata": {},
   "outputs": [
    {
     "data": {
      "text/plain": [
       "array([50, 40, 30, 20, 10])"
      ]
     },
     "execution_count": 375,
     "metadata": {},
     "output_type": "execute_result"
    }
   ],
   "source": [
    "arr_1d[::-1]"
   ]
  },
  {
   "cell_type": "code",
   "execution_count": 379,
   "id": "afdaa5f1-1235-4857-91a4-2ec4b501297e",
   "metadata": {},
   "outputs": [
    {
     "data": {
      "text/plain": [
       "array([50, 40, 30])"
      ]
     },
     "execution_count": 379,
     "metadata": {},
     "output_type": "execute_result"
    }
   ],
   "source": [
    "arr_1d[5:1:-1]"
   ]
  },
  {
   "cell_type": "code",
   "execution_count": 383,
   "id": "4ed0fa84-0490-4983-a4b3-afb54d64c8db",
   "metadata": {},
   "outputs": [
    {
     "data": {
      "text/plain": [
       "array([50, 40, 30, 20, 10])"
      ]
     },
     "execution_count": 383,
     "metadata": {},
     "output_type": "execute_result"
    }
   ],
   "source": [
    "arr_1d[-1::-1]"
   ]
  },
  {
   "cell_type": "code",
   "execution_count": 384,
   "id": "832c51ec-697f-479d-976d-aac776cbd99d",
   "metadata": {},
   "outputs": [
    {
     "data": {
      "text/plain": [
       "array([10, 30, 50])"
      ]
     },
     "execution_count": 384,
     "metadata": {},
     "output_type": "execute_result"
    }
   ],
   "source": [
    "arr_1d[::2]"
   ]
  },
  {
   "cell_type": "code",
   "execution_count": 387,
   "id": "86f98691-dec4-4d2d-a332-447c3d329086",
   "metadata": {},
   "outputs": [
    {
     "data": {
      "text/plain": [
       "array([50])"
      ]
     },
     "execution_count": 387,
     "metadata": {},
     "output_type": "execute_result"
    }
   ],
   "source": [
    "arr_1d[-1::1]"
   ]
  },
  {
   "cell_type": "markdown",
   "id": "629f68e5-1e55-4513-a8d7-b487eccf1a64",
   "metadata": {},
   "source": [
    "#### 2D arrays"
   ]
  },
  {
   "cell_type": "code",
   "execution_count": 389,
   "id": "bd098771-a080-43c9-bcb2-32cce81b77f2",
   "metadata": {},
   "outputs": [
    {
     "data": {
      "text/plain": [
       "array([[1, 2, 3],\n",
       "       [4, 5, 6],\n",
       "       [7, 8, 9]])"
      ]
     },
     "execution_count": 389,
     "metadata": {},
     "output_type": "execute_result"
    }
   ],
   "source": [
    "arr_2d = np.array([[1,2,3], [4,5,6], [7,8,9]])\n",
    "arr_2d"
   ]
  },
  {
   "cell_type": "code",
   "execution_count": 390,
   "id": "d2ac2eae-e6d2-4126-9b7b-09e9e07526ec",
   "metadata": {},
   "outputs": [],
   "source": [
    "# indexing with rows and columns\n",
    "rows = 1\n",
    "cols = 1"
   ]
  },
  {
   "cell_type": "code",
   "execution_count": 391,
   "id": "7fbd7ff8-cd9e-4f1a-a03f-1027e6ba44d4",
   "metadata": {},
   "outputs": [
    {
     "data": {
      "text/plain": [
       "5"
      ]
     },
     "execution_count": 391,
     "metadata": {},
     "output_type": "execute_result"
    }
   ],
   "source": [
    "arr_2d[rows, cols]"
   ]
  },
  {
   "cell_type": "code",
   "execution_count": 398,
   "id": "efcb7d63-28d2-4c81-b792-e3613d0b6877",
   "metadata": {},
   "outputs": [
    {
     "data": {
      "text/plain": [
       "array([[5, 6],\n",
       "       [8, 9]])"
      ]
     },
     "execution_count": 398,
     "metadata": {},
     "output_type": "execute_result"
    }
   ],
   "source": [
    "arr_2d[ 1:3, 1:3]"
   ]
  },
  {
   "cell_type": "markdown",
   "id": "a594dced-c7d8-4579-adf1-526f0d3c1666",
   "metadata": {},
   "source": [
    "arr_2d[:, :]"
   ]
  },
  {
   "cell_type": "code",
   "execution_count": 401,
   "id": "c66cf8fb-1d30-4fd1-8529-17428b5f15e8",
   "metadata": {},
   "outputs": [
    {
     "data": {
      "text/plain": [
       "array([[7, 8, 9],\n",
       "       [4, 5, 6],\n",
       "       [1, 2, 3]])"
      ]
     },
     "execution_count": 401,
     "metadata": {},
     "output_type": "execute_result"
    }
   ],
   "source": [
    "arr_2d[::-1, ::1]"
   ]
  },
  {
   "cell_type": "code",
   "execution_count": 402,
   "id": "9f48cc58-0dfb-40f0-974f-bb52c22046aa",
   "metadata": {},
   "outputs": [
    {
     "data": {
      "text/plain": [
       "array([[1, 3],\n",
       "       [7, 9]])"
      ]
     },
     "execution_count": 402,
     "metadata": {},
     "output_type": "execute_result"
    }
   ],
   "source": [
    "arr_2d[::2, ::2]"
   ]
  },
  {
   "cell_type": "markdown",
   "id": "54f29505-9bfc-400d-af35-842d2d5e2b11",
   "metadata": {},
   "source": [
    "#### 3D Arrays slicing"
   ]
  },
  {
   "cell_type": "code",
   "execution_count": 407,
   "id": "b1e3a362-ba42-4aca-aeb9-0d8723bb6fd4",
   "metadata": {},
   "outputs": [],
   "source": [
    "my3d = np.arange(0, 27).reshape(3, 3,3)"
   ]
  },
  {
   "cell_type": "code",
   "execution_count": 408,
   "id": "352eb81f-e292-4ac6-a2d0-00a6af4937ae",
   "metadata": {},
   "outputs": [
    {
     "name": "stdout",
     "output_type": "stream",
     "text": [
      "Shape:  (3, 3, 3)\n",
      "ndim:  3\n",
      "Size:  27\n",
      "DType:  int32\n"
     ]
    }
   ],
   "source": [
    "myarray004(my3d)"
   ]
  },
  {
   "cell_type": "code",
   "execution_count": 409,
   "id": "dedc9bb5-b7f9-42f2-9b99-e2d0fc5c9c2a",
   "metadata": {},
   "outputs": [
    {
     "data": {
      "text/plain": [
       "array([[[ 0,  1,  2],\n",
       "        [ 3,  4,  5],\n",
       "        [ 6,  7,  8]],\n",
       "\n",
       "       [[ 9, 10, 11],\n",
       "        [12, 13, 14],\n",
       "        [15, 16, 17]],\n",
       "\n",
       "       [[18, 19, 20],\n",
       "        [21, 22, 23],\n",
       "        [24, 25, 26]]])"
      ]
     },
     "execution_count": 409,
     "metadata": {},
     "output_type": "execute_result"
    }
   ],
   "source": [
    "my3d"
   ]
  },
  {
   "cell_type": "code",
   "execution_count": 410,
   "id": "858b464f-cbe1-4b10-a05c-2a1b5ca786fc",
   "metadata": {},
   "outputs": [],
   "source": [
    "dim1 = 2\n",
    "dim2 = 2\n",
    "dim3 = 2"
   ]
  },
  {
   "cell_type": "code",
   "execution_count": 412,
   "id": "3970532f-b474-4c2b-b3e0-892f2dad5d48",
   "metadata": {},
   "outputs": [
    {
     "data": {
      "text/plain": [
       "26"
      ]
     },
     "execution_count": 412,
     "metadata": {},
     "output_type": "execute_result"
    }
   ],
   "source": [
    "my3d[dim1, dim2, dim3]"
   ]
  },
  {
   "cell_type": "code",
   "execution_count": 413,
   "id": "03894ac1-73e6-4a50-8f9a-d6bc8a005889",
   "metadata": {},
   "outputs": [
    {
     "data": {
      "text/plain": [
       "0"
      ]
     },
     "execution_count": 413,
     "metadata": {},
     "output_type": "execute_result"
    }
   ],
   "source": [
    "my3d[0,0,0]"
   ]
  },
  {
   "cell_type": "code",
   "execution_count": 415,
   "id": "33b2e8f0-e9fb-42ef-b6c4-5f754dfa8bad",
   "metadata": {},
   "outputs": [
    {
     "data": {
      "text/plain": [
       "26"
      ]
     },
     "execution_count": 415,
     "metadata": {},
     "output_type": "execute_result"
    }
   ],
   "source": [
    "my3d[2,2,2]"
   ]
  },
  {
   "cell_type": "code",
   "execution_count": 416,
   "id": "994394d5-968f-4901-a516-af9acdea8d84",
   "metadata": {},
   "outputs": [
    {
     "data": {
      "text/plain": [
       "13"
      ]
     },
     "execution_count": 416,
     "metadata": {},
     "output_type": "execute_result"
    }
   ],
   "source": [
    "dim1 = 1\n",
    "dim2 = 1\n",
    "dim3 = 1\n",
    "my3d[dim1, dim2, dim3]"
   ]
  },
  {
   "cell_type": "code",
   "execution_count": 425,
   "id": "dfefabc2-ff8b-4afa-a4f4-ec2fabb3d825",
   "metadata": {},
   "outputs": [
    {
     "ename": "SyntaxError",
     "evalue": "invalid syntax (1618403663.py, line 1)",
     "output_type": "error",
     "traceback": [
      "\u001b[1;36m  Cell \u001b[1;32mIn[425], line 1\u001b[1;36m\u001b[0m\n\u001b[1;33m    rows = 0:15\u001b[0m\n\u001b[1;37m            ^\u001b[0m\n\u001b[1;31mSyntaxError\u001b[0m\u001b[1;31m:\u001b[0m invalid syntax\n"
     ]
    }
   ],
   "source": [
    "rows = 0:15"
   ]
  },
  {
   "cell_type": "code",
   "execution_count": 434,
   "id": "9c8a9065-00f1-4871-9a1c-5e54920014d3",
   "metadata": {},
   "outputs": [
    {
     "data": {
      "text/plain": [
       "array([[[26, 25],\n",
       "        [23, 22]],\n",
       "\n",
       "       [[17, 16],\n",
       "        [14, 13]]])"
      ]
     },
     "execution_count": 434,
     "metadata": {},
     "output_type": "execute_result"
    }
   ],
   "source": [
    "my3d[3:0:-1, 3:0:-1, 3:0:-1]"
   ]
  },
  {
   "cell_type": "code",
   "execution_count": 435,
   "id": "a6b6a17e-c861-4d69-ad66-30485cd2e262",
   "metadata": {},
   "outputs": [
    {
     "data": {
      "text/plain": [
       "array([[[26, 25, 24],\n",
       "        [23, 22, 21],\n",
       "        [20, 19, 18]],\n",
       "\n",
       "       [[17, 16, 15],\n",
       "        [14, 13, 12],\n",
       "        [11, 10,  9]],\n",
       "\n",
       "       [[ 8,  7,  6],\n",
       "        [ 5,  4,  3],\n",
       "        [ 2,  1,  0]]])"
      ]
     },
     "execution_count": 435,
     "metadata": {},
     "output_type": "execute_result"
    }
   ],
   "source": [
    "my3d[3::-1, 3::-1, 3::-1]"
   ]
  },
  {
   "cell_type": "code",
   "execution_count": 436,
   "id": "182b3041-675f-4bba-90f9-148deb3cf28b",
   "metadata": {},
   "outputs": [
    {
     "data": {
      "text/plain": [
       "array([[[ 0,  1,  2],\n",
       "        [ 3,  4,  5],\n",
       "        [ 6,  7,  8]],\n",
       "\n",
       "       [[ 9, 10, 11],\n",
       "        [12, 13, 14],\n",
       "        [15, 16, 17]],\n",
       "\n",
       "       [[18, 19, 20],\n",
       "        [21, 22, 23],\n",
       "        [24, 25, 26]]])"
      ]
     },
     "execution_count": 436,
     "metadata": {},
     "output_type": "execute_result"
    }
   ],
   "source": [
    "my3d"
   ]
  },
  {
   "cell_type": "code",
   "execution_count": 441,
   "id": "cc7dc810-b4c5-4a47-ae52-23fca1baccd3",
   "metadata": {},
   "outputs": [
    {
     "data": {
      "text/plain": [
       "array([[[26, 25, 24],\n",
       "        [23, 22, 21],\n",
       "        [20, 19, 18]],\n",
       "\n",
       "       [[17, 16, 15],\n",
       "        [14, 13, 12],\n",
       "        [11, 10,  9]],\n",
       "\n",
       "       [[ 8,  7,  6],\n",
       "        [ 5,  4,  3],\n",
       "        [ 2,  1,  0]]])"
      ]
     },
     "execution_count": 441,
     "metadata": {},
     "output_type": "execute_result"
    }
   ],
   "source": [
    "my3d[::-1, ::-1, ::-1]"
   ]
  },
  {
   "cell_type": "code",
   "execution_count": 447,
   "id": "45de76da-fdac-4e9c-bb8a-6d2c042bf20c",
   "metadata": {},
   "outputs": [
    {
     "data": {
      "text/plain": [
       "array([[[26, 25, 24],\n",
       "        [23, 22, 21],\n",
       "        [20, 19, 18]],\n",
       "\n",
       "       [[17, 16, 15],\n",
       "        [14, 13, 12],\n",
       "        [11, 10,  9]],\n",
       "\n",
       "       [[ 8,  7,  6],\n",
       "        [ 5,  4,  3],\n",
       "        [ 2,  1,  0]]])"
      ]
     },
     "execution_count": 447,
     "metadata": {},
     "output_type": "execute_result"
    }
   ],
   "source": [
    "my3d[-1::-1, -1::-1, -1::-1]"
   ]
  },
  {
   "cell_type": "code",
   "execution_count": null,
   "id": "7003cf8a-72f7-4c11-9973-7ef9d6b97132",
   "metadata": {},
   "outputs": [],
   "source": []
  }
 ],
 "metadata": {
  "kernelspec": {
   "display_name": "Python 3 (ipykernel)",
   "language": "python",
   "name": "python3"
  },
  "language_info": {
   "codemirror_mode": {
    "name": "ipython",
    "version": 3
   },
   "file_extension": ".py",
   "mimetype": "text/x-python",
   "name": "python",
   "nbconvert_exporter": "python",
   "pygments_lexer": "ipython3",
   "version": "3.11.4"
  }
 },
 "nbformat": 4,
 "nbformat_minor": 5
}
