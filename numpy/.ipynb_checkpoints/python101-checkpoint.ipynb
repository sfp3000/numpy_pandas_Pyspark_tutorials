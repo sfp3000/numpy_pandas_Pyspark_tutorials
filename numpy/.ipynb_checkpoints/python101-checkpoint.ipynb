{
 "cells": [
  {
   "cell_type": "markdown",
   "id": "8e075f3b-9ef8-430d-8fe3-1b13ef312257",
   "metadata": {},
   "source": [
    "# True False built in data types"
   ]
  },
  {
   "cell_type": "code",
   "execution_count": 16,
   "id": "a1cf2fdd-7fb4-445f-8699-7af3d1ed7c6d",
   "metadata": {},
   "outputs": [
    {
     "data": {
      "text/plain": [
       "False"
      ]
     },
     "execution_count": 16,
     "metadata": {},
     "output_type": "execute_result"
    }
   ],
   "source": [
    "False"
   ]
  },
  {
   "cell_type": "code",
   "execution_count": 2,
   "id": "ed810ba3-63ab-4d4e-b847-9ec2dd2aae50",
   "metadata": {},
   "outputs": [
    {
     "data": {
      "text/plain": [
       "True"
      ]
     },
     "execution_count": 2,
     "metadata": {},
     "output_type": "execute_result"
    }
   ],
   "source": [
    "True"
   ]
  },
  {
   "cell_type": "code",
   "execution_count": 3,
   "id": "2d4b4397-8a95-42b8-81d2-bd3eac9c7efd",
   "metadata": {},
   "outputs": [],
   "source": [
    "def myfunc():\n",
    "    if 1 + 1 == 2:\n",
    "        return True"
   ]
  },
  {
   "cell_type": "code",
   "execution_count": 4,
   "id": "62d9db51-1f06-4b97-8b81-87ee3cd88f52",
   "metadata": {},
   "outputs": [
    {
     "data": {
      "text/plain": [
       "True"
      ]
     },
     "execution_count": 4,
     "metadata": {},
     "output_type": "execute_result"
    }
   ],
   "source": [
    "myfunc()"
   ]
  },
  {
   "cell_type": "code",
   "execution_count": 5,
   "id": "b53b26f9-8f21-4aff-adc2-c842989a3f7f",
   "metadata": {},
   "outputs": [],
   "source": [
    "x = 2"
   ]
  },
  {
   "cell_type": "code",
   "execution_count": 6,
   "id": "c257fedc-abd0-4130-a3f9-be4ee7d484e5",
   "metadata": {},
   "outputs": [
    {
     "ename": "SyntaxError",
     "evalue": "invalid syntax. Maybe you meant '==' or ':=' instead of '='? (2850508254.py, line 1)",
     "output_type": "error",
     "traceback": [
      "\u001b[1;36m  Cell \u001b[1;32mIn[6], line 1\u001b[1;36m\u001b[0m\n\u001b[1;33m    if (x=2):\u001b[0m\n\u001b[1;37m        ^\u001b[0m\n\u001b[1;31mSyntaxError\u001b[0m\u001b[1;31m:\u001b[0m invalid syntax. Maybe you meant '==' or ':=' instead of '='?\n"
     ]
    }
   ],
   "source": [
    "if (x=2):\n",
    "    print(\"True\")"
   ]
  },
  {
   "cell_type": "code",
   "execution_count": 7,
   "id": "b5499078-5101-4a39-aab0-47de3b1febf9",
   "metadata": {},
   "outputs": [
    {
     "data": {
      "text/plain": [
       "False"
      ]
     },
     "execution_count": 7,
     "metadata": {},
     "output_type": "execute_result"
    }
   ],
   "source": [
    "x> 2"
   ]
  },
  {
   "cell_type": "code",
   "execution_count": 8,
   "id": "79f170d2-93a2-4c2e-b0ba-82c207e02895",
   "metadata": {},
   "outputs": [
    {
     "data": {
      "text/plain": [
       "True"
      ]
     },
     "execution_count": 8,
     "metadata": {},
     "output_type": "execute_result"
    }
   ],
   "source": [
    "2 > 1"
   ]
  },
  {
   "cell_type": "code",
   "execution_count": 9,
   "id": "ae0cba33-9145-4d00-8231-d95292c97326",
   "metadata": {},
   "outputs": [
    {
     "name": "stdout",
     "output_type": "stream",
     "text": [
      "0 is false\n"
     ]
    }
   ],
   "source": [
    "if 0: \n",
    "    print(\"0 is true\")\n",
    "else:\n",
    "    print(\"0 is false\")"
   ]
  },
  {
   "cell_type": "code",
   "execution_count": 10,
   "id": "2660c031-7c1e-4d00-823d-c20824cf720f",
   "metadata": {},
   "outputs": [
    {
     "name": "stdout",
     "output_type": "stream",
     "text": [
      "1 is true\n"
     ]
    }
   ],
   "source": [
    "if 1:\n",
    "    print(\"1 is true\")\n",
    "else:\n",
    "    print('1 is false')"
   ]
  },
  {
   "cell_type": "code",
   "execution_count": 11,
   "id": "722328b7-83db-465e-9dd8-8bc7e9cb7aaa",
   "metadata": {},
   "outputs": [
    {
     "name": "stdout",
     "output_type": "stream",
     "text": [
      "100 is true\n"
     ]
    }
   ],
   "source": [
    "if 100:\n",
    "    print(\"100 is true\")\n",
    "else:\n",
    "    print('100 is false')"
   ]
  },
  {
   "cell_type": "code",
   "execution_count": 13,
   "id": "48b57d03-9320-4d09-bdf5-311181f3c418",
   "metadata": {},
   "outputs": [
    {
     "name": "stdout",
     "output_type": "stream",
     "text": [
      "-1 is true\n"
     ]
    }
   ],
   "source": [
    "if -100:\n",
    "    print(\"-100 is true\")\n",
    "else:\n",
    "    print(\"-100 is false\")"
   ]
  },
  {
   "cell_type": "code",
   "execution_count": 14,
   "id": "37c79f27-f6be-4635-9a92-cdd8ba0b9984",
   "metadata": {},
   "outputs": [
    {
     "name": "stdout",
     "output_type": "stream",
     "text": [
      "1.1 is true\n"
     ]
    }
   ],
   "source": [
    "if 1.1:\n",
    "    print(\"1.1 is true\")\n",
    "else:\n",
    "    print(\"1.1 is false\")"
   ]
  },
  {
   "cell_type": "code",
   "execution_count": 15,
   "id": "8e510834-9996-43b1-8ac3-7a563afed791",
   "metadata": {},
   "outputs": [
    {
     "data": {
      "text/plain": [
       "(True, False)"
      ]
     },
     "execution_count": 15,
     "metadata": {},
     "output_type": "execute_result"
    }
   ],
   "source": [
    "True, False"
   ]
  },
  {
   "cell_type": "markdown",
   "id": "f64f7a91-4462-43c4-9463-2682f5a9efde",
   "metadata": {},
   "source": [
    "# Python Built in Data types"
   ]
  },
  {
   "cell_type": "code",
   "execution_count": 17,
   "id": "163d6679-2c33-4ae9-a8d2-4beff679dcb8",
   "metadata": {},
   "outputs": [],
   "source": [
    "mylist = [1,2,3,4]"
   ]
  },
  {
   "cell_type": "code",
   "execution_count": 18,
   "id": "24064faf-64db-42a3-a11f-a0a66f4ecec8",
   "metadata": {},
   "outputs": [],
   "source": [
    "mytuple = (1,2,3,4)"
   ]
  },
  {
   "cell_type": "code",
   "execution_count": 19,
   "id": "923690fd-625a-4ae8-b08e-0e312e27f736",
   "metadata": {},
   "outputs": [],
   "source": [
    "myset = {1,2,3,4}"
   ]
  },
  {
   "cell_type": "code",
   "execution_count": 20,
   "id": "79b6766d-d95f-434a-9ac0-73933d96a080",
   "metadata": {},
   "outputs": [],
   "source": [
    "mydictionary = {'a':1, 'b':2, 'c':3, 'd':4}"
   ]
  },
  {
   "cell_type": "code",
   "execution_count": 21,
   "id": "57f4a6c9-1228-4d8c-92da-756bb6931ba1",
   "metadata": {},
   "outputs": [],
   "source": [
    "mystring = \"Saad\""
   ]
  },
  {
   "cell_type": "code",
   "execution_count": 22,
   "id": "b7933d25-8642-4358-8363-c2d22bda3a7f",
   "metadata": {},
   "outputs": [],
   "source": [
    "mychar = \"s\""
   ]
  },
  {
   "cell_type": "code",
   "execution_count": 23,
   "id": "2555360b-915c-428b-948a-b8231d7d7f7a",
   "metadata": {},
   "outputs": [],
   "source": [
    "myvar = 5"
   ]
  },
  {
   "cell_type": "code",
   "execution_count": 24,
   "id": "00d121ad-ae74-4236-9dfd-8fdb6a6d34cf",
   "metadata": {},
   "outputs": [
    {
     "data": {
      "text/plain": [
       "list"
      ]
     },
     "execution_count": 24,
     "metadata": {},
     "output_type": "execute_result"
    }
   ],
   "source": [
    "type(mylist)"
   ]
  },
  {
   "cell_type": "code",
   "execution_count": 25,
   "id": "9fcb5940-a16f-4382-b3d9-85b96e1bcd42",
   "metadata": {},
   "outputs": [
    {
     "data": {
      "text/plain": [
       "2212047424768"
      ]
     },
     "execution_count": 25,
     "metadata": {},
     "output_type": "execute_result"
    }
   ],
   "source": [
    "id(mylist)"
   ]
  },
  {
   "cell_type": "code",
   "execution_count": 26,
   "id": "37e8668b-8f35-4687-97db-3450b7680fa9",
   "metadata": {},
   "outputs": [
    {
     "name": "stdout",
     "output_type": "stream",
     "text": [
      "Help on list object:\n",
      "\n",
      "class list(object)\n",
      " |  list(iterable=(), /)\n",
      " |  \n",
      " |  Built-in mutable sequence.\n",
      " |  \n",
      " |  If no argument is given, the constructor creates a new empty list.\n",
      " |  The argument must be an iterable if specified.\n",
      " |  \n",
      " |  Methods defined here:\n",
      " |  \n",
      " |  __add__(self, value, /)\n",
      " |      Return self+value.\n",
      " |  \n",
      " |  __contains__(self, key, /)\n",
      " |      Return key in self.\n",
      " |  \n",
      " |  __delitem__(self, key, /)\n",
      " |      Delete self[key].\n",
      " |  \n",
      " |  __eq__(self, value, /)\n",
      " |      Return self==value.\n",
      " |  \n",
      " |  __ge__(self, value, /)\n",
      " |      Return self>=value.\n",
      " |  \n",
      " |  __getattribute__(self, name, /)\n",
      " |      Return getattr(self, name).\n",
      " |  \n",
      " |  __getitem__(...)\n",
      " |      x.__getitem__(y) <==> x[y]\n",
      " |  \n",
      " |  __gt__(self, value, /)\n",
      " |      Return self>value.\n",
      " |  \n",
      " |  __iadd__(self, value, /)\n",
      " |      Implement self+=value.\n",
      " |  \n",
      " |  __imul__(self, value, /)\n",
      " |      Implement self*=value.\n",
      " |  \n",
      " |  __init__(self, /, *args, **kwargs)\n",
      " |      Initialize self.  See help(type(self)) for accurate signature.\n",
      " |  \n",
      " |  __iter__(self, /)\n",
      " |      Implement iter(self).\n",
      " |  \n",
      " |  __le__(self, value, /)\n",
      " |      Return self<=value.\n",
      " |  \n",
      " |  __len__(self, /)\n",
      " |      Return len(self).\n",
      " |  \n",
      " |  __lt__(self, value, /)\n",
      " |      Return self<value.\n",
      " |  \n",
      " |  __mul__(self, value, /)\n",
      " |      Return self*value.\n",
      " |  \n",
      " |  __ne__(self, value, /)\n",
      " |      Return self!=value.\n",
      " |  \n",
      " |  __repr__(self, /)\n",
      " |      Return repr(self).\n",
      " |  \n",
      " |  __reversed__(self, /)\n",
      " |      Return a reverse iterator over the list.\n",
      " |  \n",
      " |  __rmul__(self, value, /)\n",
      " |      Return value*self.\n",
      " |  \n",
      " |  __setitem__(self, key, value, /)\n",
      " |      Set self[key] to value.\n",
      " |  \n",
      " |  __sizeof__(self, /)\n",
      " |      Return the size of the list in memory, in bytes.\n",
      " |  \n",
      " |  append(self, object, /)\n",
      " |      Append object to the end of the list.\n",
      " |  \n",
      " |  clear(self, /)\n",
      " |      Remove all items from list.\n",
      " |  \n",
      " |  copy(self, /)\n",
      " |      Return a shallow copy of the list.\n",
      " |  \n",
      " |  count(self, value, /)\n",
      " |      Return number of occurrences of value.\n",
      " |  \n",
      " |  extend(self, iterable, /)\n",
      " |      Extend list by appending elements from the iterable.\n",
      " |  \n",
      " |  index(self, value, start=0, stop=9223372036854775807, /)\n",
      " |      Return first index of value.\n",
      " |      \n",
      " |      Raises ValueError if the value is not present.\n",
      " |  \n",
      " |  insert(self, index, object, /)\n",
      " |      Insert object before index.\n",
      " |  \n",
      " |  pop(self, index=-1, /)\n",
      " |      Remove and return item at index (default last).\n",
      " |      \n",
      " |      Raises IndexError if list is empty or index is out of range.\n",
      " |  \n",
      " |  remove(self, value, /)\n",
      " |      Remove first occurrence of value.\n",
      " |      \n",
      " |      Raises ValueError if the value is not present.\n",
      " |  \n",
      " |  reverse(self, /)\n",
      " |      Reverse *IN PLACE*.\n",
      " |  \n",
      " |  sort(self, /, *, key=None, reverse=False)\n",
      " |      Sort the list in ascending order and return None.\n",
      " |      \n",
      " |      The sort is in-place (i.e. the list itself is modified) and stable (i.e. the\n",
      " |      order of two equal elements is maintained).\n",
      " |      \n",
      " |      If a key function is given, apply it once to each list item and sort them,\n",
      " |      ascending or descending, according to their function values.\n",
      " |      \n",
      " |      The reverse flag can be set to sort in descending order.\n",
      " |  \n",
      " |  ----------------------------------------------------------------------\n",
      " |  Class methods defined here:\n",
      " |  \n",
      " |  __class_getitem__(...) from builtins.type\n",
      " |      See PEP 585\n",
      " |  \n",
      " |  ----------------------------------------------------------------------\n",
      " |  Static methods defined here:\n",
      " |  \n",
      " |  __new__(*args, **kwargs) from builtins.type\n",
      " |      Create and return a new object.  See help(type) for accurate signature.\n",
      " |  \n",
      " |  ----------------------------------------------------------------------\n",
      " |  Data and other attributes defined here:\n",
      " |  \n",
      " |  __hash__ = None\n",
      "\n"
     ]
    }
   ],
   "source": [
    "help(mylist)"
   ]
  },
  {
   "cell_type": "code",
   "execution_count": 27,
   "id": "ad7a7d4a-cc3d-4c81-bc2a-8fa57519804b",
   "metadata": {},
   "outputs": [
    {
     "data": {
      "text/plain": [
       "['__add__',\n",
       " '__class__',\n",
       " '__class_getitem__',\n",
       " '__contains__',\n",
       " '__delattr__',\n",
       " '__delitem__',\n",
       " '__dir__',\n",
       " '__doc__',\n",
       " '__eq__',\n",
       " '__format__',\n",
       " '__ge__',\n",
       " '__getattribute__',\n",
       " '__getitem__',\n",
       " '__getstate__',\n",
       " '__gt__',\n",
       " '__hash__',\n",
       " '__iadd__',\n",
       " '__imul__',\n",
       " '__init__',\n",
       " '__init_subclass__',\n",
       " '__iter__',\n",
       " '__le__',\n",
       " '__len__',\n",
       " '__lt__',\n",
       " '__mul__',\n",
       " '__ne__',\n",
       " '__new__',\n",
       " '__reduce__',\n",
       " '__reduce_ex__',\n",
       " '__repr__',\n",
       " '__reversed__',\n",
       " '__rmul__',\n",
       " '__setattr__',\n",
       " '__setitem__',\n",
       " '__sizeof__',\n",
       " '__str__',\n",
       " '__subclasshook__',\n",
       " 'append',\n",
       " 'clear',\n",
       " 'copy',\n",
       " 'count',\n",
       " 'extend',\n",
       " 'index',\n",
       " 'insert',\n",
       " 'pop',\n",
       " 'remove',\n",
       " 'reverse',\n",
       " 'sort']"
      ]
     },
     "execution_count": 27,
     "metadata": {},
     "output_type": "execute_result"
    }
   ],
   "source": [
    "dir(mylist)"
   ]
  },
  {
   "cell_type": "code",
   "execution_count": 28,
   "id": "3442175e-b7be-4a8f-bed0-2b9e3302b995",
   "metadata": {},
   "outputs": [
    {
     "name": "stdout",
     "output_type": "stream",
     "text": [
      "__add__\n",
      "__class__\n",
      "__class_getitem__\n",
      "__contains__\n",
      "__delattr__\n",
      "__delitem__\n",
      "__dir__\n",
      "__doc__\n",
      "__eq__\n",
      "__format__\n",
      "__ge__\n",
      "__getattribute__\n",
      "__getitem__\n",
      "__getstate__\n",
      "__gt__\n",
      "__hash__\n",
      "__iadd__\n",
      "__imul__\n",
      "__init__\n",
      "__init_subclass__\n",
      "__iter__\n",
      "__le__\n",
      "__len__\n",
      "__lt__\n",
      "__mul__\n",
      "__ne__\n",
      "__new__\n",
      "__reduce__\n",
      "__reduce_ex__\n",
      "__repr__\n",
      "__reversed__\n",
      "__rmul__\n",
      "__setattr__\n",
      "__setitem__\n",
      "__sizeof__\n",
      "__str__\n",
      "__subclasshook__\n",
      "append\n",
      "clear\n",
      "copy\n",
      "count\n",
      "extend\n",
      "index\n",
      "insert\n",
      "pop\n",
      "remove\n",
      "reverse\n",
      "sort\n"
     ]
    }
   ],
   "source": [
    "for item in dir(mylist):\n",
    "    print(item)"
   ]
  },
  {
   "cell_type": "code",
   "execution_count": 29,
   "id": "3344652b-fc57-4abd-95ee-e1b8e7d0e7e5",
   "metadata": {},
   "outputs": [],
   "source": [
    "def myinfo(a):\n",
    "    print(\"ID: \" , id(a))\n",
    "    print(\"type: \", type(a))"
   ]
  },
  {
   "cell_type": "code",
   "execution_count": 30,
   "id": "4f2c0959-51c7-49fc-aad0-3b7b9017f27a",
   "metadata": {},
   "outputs": [
    {
     "name": "stdout",
     "output_type": "stream",
     "text": [
      "ID:  2212047424768\n",
      "type:  <class 'list'>\n"
     ]
    }
   ],
   "source": [
    "myinfo(mylist)"
   ]
  },
  {
   "cell_type": "code",
   "execution_count": 31,
   "id": "d4021cbd-8b8e-4a5a-b71c-c318a468e0e0",
   "metadata": {},
   "outputs": [
    {
     "name": "stdout",
     "output_type": "stream",
     "text": [
      "ID:  2212047391056\n",
      "type:  <class 'tuple'>\n"
     ]
    }
   ],
   "source": [
    "myinfo(mytuple)"
   ]
  },
  {
   "cell_type": "code",
   "execution_count": 32,
   "id": "710b37cf-8d68-42bf-bfd8-2548d745003f",
   "metadata": {},
   "outputs": [
    {
     "name": "stdout",
     "output_type": "stream",
     "text": [
      "ID:  2212046919200\n",
      "type:  <class 'set'>\n"
     ]
    }
   ],
   "source": [
    "myinfo(myset)"
   ]
  },
  {
   "cell_type": "code",
   "execution_count": 33,
   "id": "6189502a-3dee-4a01-9404-8d2bdb95e2c3",
   "metadata": {},
   "outputs": [
    {
     "name": "stdout",
     "output_type": "stream",
     "text": [
      "ID:  2212047414592\n",
      "type:  <class 'dict'>\n"
     ]
    }
   ],
   "source": [
    "myinfo(mydictionary)"
   ]
  },
  {
   "cell_type": "markdown",
   "id": "f7560acf-066e-409c-8fac-fd2781aee76b",
   "metadata": {},
   "source": [
    "# Datatypes calculations"
   ]
  },
  {
   "cell_type": "code",
   "execution_count": 34,
   "id": "e70a4dfe-ad72-44e4-a8c5-609170df929e",
   "metadata": {},
   "outputs": [
    {
     "data": {
      "text/plain": [
       "5"
      ]
     },
     "execution_count": 34,
     "metadata": {},
     "output_type": "execute_result"
    }
   ],
   "source": [
    "myvar "
   ]
  },
  {
   "cell_type": "code",
   "execution_count": 35,
   "id": "f291eb71-c9ff-4b87-bd71-7906c9b128bb",
   "metadata": {},
   "outputs": [
    {
     "data": {
      "text/plain": [
       "[1, 2, 3, 4, 1, 2, 3, 4, 1, 2, 3, 4, 1, 2, 3, 4, 1, 2, 3, 4]"
      ]
     },
     "execution_count": 35,
     "metadata": {},
     "output_type": "execute_result"
    }
   ],
   "source": [
    "myvar * mylist "
   ]
  },
  {
   "cell_type": "code",
   "execution_count": 36,
   "id": "0dc51854-95aa-4553-a5ed-1c6a30378724",
   "metadata": {},
   "outputs": [
    {
     "data": {
      "text/plain": [
       "[1, 2, 3, 4, 1, 2, 3, 4]"
      ]
     },
     "execution_count": 36,
     "metadata": {},
     "output_type": "execute_result"
    }
   ],
   "source": [
    "2 * mylist"
   ]
  },
  {
   "cell_type": "code",
   "execution_count": 37,
   "id": "00066b3c-9b44-4a70-8c50-3f1dbabec0c5",
   "metadata": {},
   "outputs": [
    {
     "data": {
      "text/plain": [
       "(1, 2, 3, 4, 1, 2, 3, 4)"
      ]
     },
     "execution_count": 37,
     "metadata": {},
     "output_type": "execute_result"
    }
   ],
   "source": [
    "2 * mytuple"
   ]
  },
  {
   "cell_type": "code",
   "execution_count": 38,
   "id": "bd1fb60a-5d53-493b-a8e8-d30c1f57b634",
   "metadata": {},
   "outputs": [
    {
     "ename": "TypeError",
     "evalue": "unsupported operand type(s) for *: 'int' and 'set'",
     "output_type": "error",
     "traceback": [
      "\u001b[1;31m------------------------------------------------------------------------\u001b[0m",
      "\u001b[1;31mTypeError\u001b[0m                              Traceback (most recent call last)",
      "Cell \u001b[1;32mIn[38], line 1\u001b[0m\n\u001b[1;32m----> 1\u001b[0m \u001b[38;5;241;43m2\u001b[39;49m\u001b[43m \u001b[49m\u001b[38;5;241;43m*\u001b[39;49m\u001b[43m \u001b[49m\u001b[43mmyset\u001b[49m\n",
      "\u001b[1;31mTypeError\u001b[0m: unsupported operand type(s) for *: 'int' and 'set'"
     ]
    }
   ],
   "source": [
    "2 * myset"
   ]
  },
  {
   "cell_type": "code",
   "execution_count": 39,
   "id": "b69a1996-9bb7-44c1-8285-b031fd4a8341",
   "metadata": {},
   "outputs": [
    {
     "ename": "TypeError",
     "evalue": "int() argument must be a string, a bytes-like object or a real number, not 'set'",
     "output_type": "error",
     "traceback": [
      "\u001b[1;31m------------------------------------------------------------------------\u001b[0m",
      "\u001b[1;31mTypeError\u001b[0m                              Traceback (most recent call last)",
      "Cell \u001b[1;32mIn[39], line 1\u001b[0m\n\u001b[1;32m----> 1\u001b[0m \u001b[38;5;241m2\u001b[39m \u001b[38;5;241m*\u001b[39m \u001b[38;5;28;43mint\u001b[39;49m\u001b[43m(\u001b[49m\u001b[43mmyset\u001b[49m\u001b[43m)\u001b[49m\n",
      "\u001b[1;31mTypeError\u001b[0m: int() argument must be a string, a bytes-like object or a real number, not 'set'"
     ]
    }
   ],
   "source": [
    "2 * int(myset)"
   ]
  },
  {
   "cell_type": "code",
   "execution_count": 40,
   "id": "6163dff9-af66-450e-858e-3015d128ccb9",
   "metadata": {},
   "outputs": [
    {
     "ename": "TypeError",
     "evalue": "unsupported operand type(s) for *: 'int' and 'dict'",
     "output_type": "error",
     "traceback": [
      "\u001b[1;31m------------------------------------------------------------------------\u001b[0m",
      "\u001b[1;31mTypeError\u001b[0m                              Traceback (most recent call last)",
      "Cell \u001b[1;32mIn[40], line 1\u001b[0m\n\u001b[1;32m----> 1\u001b[0m \u001b[38;5;241;43m2\u001b[39;49m\u001b[43m \u001b[49m\u001b[38;5;241;43m*\u001b[39;49m\u001b[43m \u001b[49m\u001b[43mmydictionary\u001b[49m\n",
      "\u001b[1;31mTypeError\u001b[0m: unsupported operand type(s) for *: 'int' and 'dict'"
     ]
    }
   ],
   "source": [
    "2 * mydictionary"
   ]
  },
  {
   "cell_type": "code",
   "execution_count": 41,
   "id": "01e618e1-b06a-41b7-9cf7-db10910d7652",
   "metadata": {},
   "outputs": [
    {
     "data": {
      "text/plain": [
       "'SaadSaad'"
      ]
     },
     "execution_count": 41,
     "metadata": {},
     "output_type": "execute_result"
    }
   ],
   "source": [
    "2 * mystring"
   ]
  },
  {
   "cell_type": "code",
   "execution_count": 42,
   "id": "212f6f01-b333-404b-b9e6-fc1e2cc1e4ca",
   "metadata": {},
   "outputs": [
    {
     "data": {
      "text/plain": [
       "'ss'"
      ]
     },
     "execution_count": 42,
     "metadata": {},
     "output_type": "execute_result"
    }
   ],
   "source": [
    "2 * mychar"
   ]
  },
  {
   "cell_type": "code",
   "execution_count": 43,
   "id": "feabfed7-c0e9-4a1c-af7a-ee5dc2cfa300",
   "metadata": {},
   "outputs": [
    {
     "name": "stdout",
     "output_type": "stream",
     "text": [
      "ID:  2212046426864\n",
      "type:  <class 'str'>\n"
     ]
    }
   ],
   "source": [
    "myinfo(mystring)"
   ]
  },
  {
   "cell_type": "code",
   "execution_count": 44,
   "id": "42a1cf2d-d502-48f7-aebf-3d95aa603ac6",
   "metadata": {},
   "outputs": [
    {
     "name": "stdout",
     "output_type": "stream",
     "text": [
      "ID:  140713256753896\n",
      "type:  <class 'str'>\n"
     ]
    }
   ],
   "source": [
    "myinfo(mychar)"
   ]
  },
  {
   "cell_type": "code",
   "execution_count": 45,
   "id": "eb93c121-b8ee-40f6-95d5-746377099180",
   "metadata": {},
   "outputs": [],
   "source": [
    "import numpy as np"
   ]
  },
  {
   "cell_type": "code",
   "execution_count": 46,
   "id": "85b6c30c-4072-478a-8a1f-e38c00d1ec05",
   "metadata": {},
   "outputs": [],
   "source": [
    "mynp = np.array(mylist)"
   ]
  },
  {
   "cell_type": "code",
   "execution_count": 47,
   "id": "a130aa32-bfd1-4df9-80ba-4dba7918ead5",
   "metadata": {},
   "outputs": [
    {
     "data": {
      "text/plain": [
       "array([1, 2, 3, 4])"
      ]
     },
     "execution_count": 47,
     "metadata": {},
     "output_type": "execute_result"
    }
   ],
   "source": [
    "mynp"
   ]
  },
  {
   "cell_type": "code",
   "execution_count": 48,
   "id": "56f4d9ef-1c56-42da-aa3a-6605496985c6",
   "metadata": {},
   "outputs": [
    {
     "name": "stdout",
     "output_type": "stream",
     "text": [
      "1\n",
      "2\n",
      "3\n",
      "4\n"
     ]
    }
   ],
   "source": [
    "for i in mynp:\n",
    "    print(i)"
   ]
  },
  {
   "cell_type": "code",
   "execution_count": 49,
   "id": "de89126f-7154-42c0-9949-eeecea1bbc44",
   "metadata": {},
   "outputs": [
    {
     "data": {
      "text/plain": [
       "array([2, 4, 6, 8])"
      ]
     },
     "execution_count": 49,
     "metadata": {},
     "output_type": "execute_result"
    }
   ],
   "source": [
    "2 * mynp"
   ]
  },
  {
   "cell_type": "markdown",
   "id": "75589297-bb90-4b75-9cfd-df7df29dba80",
   "metadata": {},
   "source": [
    "# python data types operations"
   ]
  },
  {
   "cell_type": "code",
   "execution_count": 50,
   "id": "ae9a8db4-8349-4d18-8a70-8ccae7cb4495",
   "metadata": {},
   "outputs": [
    {
     "data": {
      "text/plain": [
       "[True, False, False]"
      ]
     },
     "execution_count": 50,
     "metadata": {},
     "output_type": "execute_result"
    }
   ],
   "source": [
    "[2>1, 2<1, 2==1]"
   ]
  },
  {
   "cell_type": "code",
   "execution_count": 51,
   "id": "dbb3f493-c35f-4829-9bd3-bcc7bd171425",
   "metadata": {},
   "outputs": [
    {
     "ename": "SyntaxError",
     "evalue": "invalid syntax (2784077638.py, line 1)",
     "output_type": "error",
     "traceback": [
      "\u001b[1;36m  Cell \u001b[1;32mIn[51], line 1\u001b[1;36m\u001b[0m\n\u001b[1;33m    mylist[>1]\u001b[0m\n\u001b[1;37m           ^\u001b[0m\n\u001b[1;31mSyntaxError\u001b[0m\u001b[1;31m:\u001b[0m invalid syntax\n"
     ]
    }
   ],
   "source": [
    "mylist[>1]"
   ]
  },
  {
   "cell_type": "code",
   "execution_count": 52,
   "id": "b84c9cbf-f282-48bd-a814-58a521faa4d6",
   "metadata": {},
   "outputs": [
    {
     "data": {
      "text/plain": [
       "array([False,  True,  True,  True])"
      ]
     },
     "execution_count": 52,
     "metadata": {},
     "output_type": "execute_result"
    }
   ],
   "source": [
    "mynp > 1"
   ]
  },
  {
   "cell_type": "code",
   "execution_count": 53,
   "id": "b6f3e5c2-965c-4026-8351-7ac08d779fd3",
   "metadata": {},
   "outputs": [
    {
     "ename": "TypeError",
     "evalue": "'>' not supported between instances of 'list' and 'int'",
     "output_type": "error",
     "traceback": [
      "\u001b[1;31m------------------------------------------------------------------------\u001b[0m",
      "\u001b[1;31mTypeError\u001b[0m                              Traceback (most recent call last)",
      "Cell \u001b[1;32mIn[53], line 1\u001b[0m\n\u001b[1;32m----> 1\u001b[0m \u001b[43mmylist\u001b[49m\u001b[43m \u001b[49m\u001b[38;5;241;43m>\u001b[39;49m\u001b[43m \u001b[49m\u001b[38;5;241;43m1\u001b[39;49m\n",
      "\u001b[1;31mTypeError\u001b[0m: '>' not supported between instances of 'list' and 'int'"
     ]
    }
   ],
   "source": [
    "mylist > 1"
   ]
  },
  {
   "cell_type": "code",
   "execution_count": 54,
   "id": "76255d79-49f1-4a6d-b16d-dd321d2cb25b",
   "metadata": {},
   "outputs": [
    {
     "ename": "TypeError",
     "evalue": "'>' not supported between instances of 'tuple' and 'int'",
     "output_type": "error",
     "traceback": [
      "\u001b[1;31m------------------------------------------------------------------------\u001b[0m",
      "\u001b[1;31mTypeError\u001b[0m                              Traceback (most recent call last)",
      "Cell \u001b[1;32mIn[54], line 1\u001b[0m\n\u001b[1;32m----> 1\u001b[0m \u001b[43mmytuple\u001b[49m\u001b[43m \u001b[49m\u001b[38;5;241;43m>\u001b[39;49m\u001b[43m \u001b[49m\u001b[38;5;241;43m1\u001b[39;49m\n",
      "\u001b[1;31mTypeError\u001b[0m: '>' not supported between instances of 'tuple' and 'int'"
     ]
    }
   ],
   "source": [
    "mytuple > 1"
   ]
  },
  {
   "cell_type": "code",
   "execution_count": 55,
   "id": "72130779-6b95-4ee4-8bd2-8d558910aad0",
   "metadata": {},
   "outputs": [
    {
     "data": {
      "text/plain": [
       "array([False,  True,  True,  True])"
      ]
     },
     "execution_count": 55,
     "metadata": {},
     "output_type": "execute_result"
    }
   ],
   "source": [
    "mynp > 1"
   ]
  },
  {
   "cell_type": "code",
   "execution_count": 56,
   "id": "3849ddf1-614a-4503-8042-d5514f207d5a",
   "metadata": {},
   "outputs": [
    {
     "ename": "TypeError",
     "evalue": "'>' not supported between instances of 'dict' and 'int'",
     "output_type": "error",
     "traceback": [
      "\u001b[1;31m------------------------------------------------------------------------\u001b[0m",
      "\u001b[1;31mTypeError\u001b[0m                              Traceback (most recent call last)",
      "Cell \u001b[1;32mIn[56], line 1\u001b[0m\n\u001b[1;32m----> 1\u001b[0m \u001b[43mmydictionary\u001b[49m\u001b[43m \u001b[49m\u001b[38;5;241;43m>\u001b[39;49m\u001b[43m \u001b[49m\u001b[38;5;241;43m1\u001b[39;49m\n",
      "\u001b[1;31mTypeError\u001b[0m: '>' not supported between instances of 'dict' and 'int'"
     ]
    }
   ],
   "source": [
    "mydictionary > 1"
   ]
  },
  {
   "cell_type": "code",
   "execution_count": 57,
   "id": "334ef9af-0149-45b6-b2cb-18bc7149f3a4",
   "metadata": {},
   "outputs": [
    {
     "ename": "TypeError",
     "evalue": "'>' not supported between instances of 'set' and 'int'",
     "output_type": "error",
     "traceback": [
      "\u001b[1;31m------------------------------------------------------------------------\u001b[0m",
      "\u001b[1;31mTypeError\u001b[0m                              Traceback (most recent call last)",
      "Cell \u001b[1;32mIn[57], line 1\u001b[0m\n\u001b[1;32m----> 1\u001b[0m \u001b[43mmyset\u001b[49m\u001b[43m \u001b[49m\u001b[38;5;241;43m>\u001b[39;49m\u001b[43m \u001b[49m\u001b[38;5;241;43m1\u001b[39;49m\n",
      "\u001b[1;31mTypeError\u001b[0m: '>' not supported between instances of 'set' and 'int'"
     ]
    }
   ],
   "source": [
    "myset > 1"
   ]
  },
  {
   "cell_type": "code",
   "execution_count": 58,
   "id": "8de23e05-2687-42b7-b8a6-e8a3d374bc0b",
   "metadata": {},
   "outputs": [
    {
     "data": {
      "text/plain": [
       "array([False,  True,  True,  True])"
      ]
     },
     "execution_count": 58,
     "metadata": {},
     "output_type": "execute_result"
    }
   ],
   "source": [
    "mynp > 1"
   ]
  },
  {
   "cell_type": "code",
   "execution_count": 59,
   "id": "106668d7-d925-443e-bcb1-6ea7300fd3a2",
   "metadata": {},
   "outputs": [
    {
     "data": {
      "text/plain": [
       "array([1, 2, 3, 4])"
      ]
     },
     "execution_count": 59,
     "metadata": {},
     "output_type": "execute_result"
    }
   ],
   "source": [
    "mynp"
   ]
  },
  {
   "cell_type": "code",
   "execution_count": 62,
   "id": "9c76b589-b4b4-482f-a8b7-6bba12a2d980",
   "metadata": {},
   "outputs": [
    {
     "data": {
      "text/plain": [
       "[1, 2, 3, 5]"
      ]
     },
     "execution_count": 62,
     "metadata": {},
     "output_type": "execute_result"
    }
   ],
   "source": [
    "[1, 2, 3, 5]"
   ]
  },
  {
   "cell_type": "code",
   "execution_count": 1,
   "id": "969ab48a-d3e2-4e79-aa23-db833b8910e6",
   "metadata": {},
   "outputs": [],
   "source": [
    "import numpy as np"
   ]
  },
  {
   "cell_type": "code",
   "execution_count": 2,
   "id": "901dbd46-b939-4336-a6e2-eb1722dcb1b6",
   "metadata": {},
   "outputs": [],
   "source": [
    "float_arr = np.array([1, 2, 3], dtype=np.float32)"
   ]
  },
  {
   "cell_type": "code",
   "execution_count": 3,
   "id": "26eea178-7559-4f25-8837-f73b63ca9ca9",
   "metadata": {},
   "outputs": [],
   "source": [
    "arr = np.array([[1,2], [3,4]])"
   ]
  },
  {
   "cell_type": "code",
   "execution_count": 4,
   "id": "08da6399-0d7a-4a05-9bcf-b5ba4dd46d54",
   "metadata": {},
   "outputs": [
    {
     "name": "stdout",
     "output_type": "stream",
     "text": [
      "4\n"
     ]
    }
   ],
   "source": [
    "print(np.size(arr))"
   ]
  },
  {
   "cell_type": "code",
   "execution_count": 5,
   "id": "dc6eae0f-4775-40c6-ad6e-9b3b727c8cdb",
   "metadata": {},
   "outputs": [
    {
     "name": "stdout",
     "output_type": "stream",
     "text": [
      "4\n"
     ]
    }
   ],
   "source": [
    "print(arr.size)"
   ]
  },
  {
   "cell_type": "code",
   "execution_count": 6,
   "id": "7308366a-524c-48dd-8313-cfff6c5650e3",
   "metadata": {},
   "outputs": [],
   "source": [
    "arr = np.array([[1,2,3], [4,5,6]])"
   ]
  },
  {
   "cell_type": "code",
   "execution_count": 7,
   "id": "38b6dd8d-9f08-4dd5-83fb-bb33d775acbd",
   "metadata": {},
   "outputs": [
    {
     "name": "stdout",
     "output_type": "stream",
     "text": [
      "2\n"
     ]
    }
   ],
   "source": [
    "print(np.size(arr, axis=0)) "
   ]
  },
  {
   "cell_type": "code",
   "execution_count": 8,
   "id": "5ec208dc-4079-4a81-a640-2fd2d6abc4bf",
   "metadata": {},
   "outputs": [
    {
     "name": "stdout",
     "output_type": "stream",
     "text": [
      "3\n"
     ]
    }
   ],
   "source": [
    "print(np.size(arr, axis=1))"
   ]
  },
  {
   "cell_type": "code",
   "execution_count": 9,
   "id": "77779901-4ace-4c71-9c8f-1f7207c83e0e",
   "metadata": {},
   "outputs": [],
   "source": [
    "sc = np.array(5)"
   ]
  },
  {
   "cell_type": "code",
   "execution_count": 10,
   "id": "8e6aee13-8ef5-4aa5-b6b4-55eea037f1f0",
   "metadata": {},
   "outputs": [
    {
     "name": "stdout",
     "output_type": "stream",
     "text": [
      "1\n"
     ]
    }
   ],
   "source": [
    "print(np.size(sc))"
   ]
  },
  {
   "cell_type": "code",
   "execution_count": 11,
   "id": "512ff2cf-6553-4fc7-b948-6dc7e5098a03",
   "metadata": {},
   "outputs": [],
   "source": [
    "arr_3d = np.ones((2,3,4))"
   ]
  },
  {
   "cell_type": "code",
   "execution_count": 12,
   "id": "40ece590-5901-4659-b271-115e7d8dec47",
   "metadata": {},
   "outputs": [
    {
     "data": {
      "text/plain": [
       "array([[[1., 1., 1., 1.],\n",
       "        [1., 1., 1., 1.],\n",
       "        [1., 1., 1., 1.]],\n",
       "\n",
       "       [[1., 1., 1., 1.],\n",
       "        [1., 1., 1., 1.],\n",
       "        [1., 1., 1., 1.]]])"
      ]
     },
     "execution_count": 12,
     "metadata": {},
     "output_type": "execute_result"
    }
   ],
   "source": [
    "arr_3d"
   ]
  },
  {
   "cell_type": "code",
   "execution_count": 13,
   "id": "7a983e23-72a4-4b7b-9734-9303ef6ae743",
   "metadata": {},
   "outputs": [
    {
     "name": "stdout",
     "output_type": "stream",
     "text": [
      "24\n"
     ]
    }
   ],
   "source": [
    "print(np.size(arr_3d))"
   ]
  },
  {
   "cell_type": "markdown",
   "id": "f0d5604c-a09e-4b5d-8313-00508594ef90",
   "metadata": {},
   "source": [
    "# ndim"
   ]
  },
  {
   "cell_type": "code",
   "execution_count": 14,
   "id": "9047e7b7-e95a-47b5-acef-410df5ae1d9d",
   "metadata": {},
   "outputs": [],
   "source": [
    "import numpy as np"
   ]
  },
  {
   "cell_type": "code",
   "execution_count": 15,
   "id": "d9d446a5-b965-4b60-b8e2-3d9bc8f36c94",
   "metadata": {},
   "outputs": [],
   "source": [
    "s  = np.array(5)"
   ]
  },
  {
   "cell_type": "code",
   "execution_count": 16,
   "id": "c37361f6-142e-40e3-b989-c6aea6130435",
   "metadata": {},
   "outputs": [
    {
     "data": {
      "text/plain": [
       "0"
      ]
     },
     "execution_count": 16,
     "metadata": {},
     "output_type": "execute_result"
    }
   ],
   "source": [
    "s.ndim"
   ]
  },
  {
   "cell_type": "code",
   "execution_count": 17,
   "id": "73b2d7ac-5127-4ffd-935f-47c7e85fff39",
   "metadata": {},
   "outputs": [],
   "source": [
    "s1 = np.array([5])"
   ]
  },
  {
   "cell_type": "code",
   "execution_count": 18,
   "id": "633945a4-f13c-4953-89d9-ad96b49bdd2a",
   "metadata": {},
   "outputs": [
    {
     "data": {
      "text/plain": [
       "1"
      ]
     },
     "execution_count": 18,
     "metadata": {},
     "output_type": "execute_result"
    }
   ],
   "source": [
    "s1.ndim"
   ]
  },
  {
   "cell_type": "code",
   "execution_count": 19,
   "id": "ef73128d-1dda-4728-8d88-090e99035b17",
   "metadata": {},
   "outputs": [],
   "source": [
    "s1d = np.array([5,2,3])"
   ]
  },
  {
   "cell_type": "code",
   "execution_count": 20,
   "id": "74706062-acf8-4585-b514-77b72f1608c6",
   "metadata": {},
   "outputs": [
    {
     "data": {
      "text/plain": [
       "1"
      ]
     },
     "execution_count": 20,
     "metadata": {},
     "output_type": "execute_result"
    }
   ],
   "source": [
    "s1d.ndim"
   ]
  },
  {
   "cell_type": "code",
   "execution_count": 22,
   "id": "7118bd9e-524e-4430-8a0d-fbe1b0c9f376",
   "metadata": {},
   "outputs": [],
   "source": [
    "s2d = np.arange(10).reshape(2,5)"
   ]
  },
  {
   "cell_type": "code",
   "execution_count": 23,
   "id": "d1dceb82-40d2-49a9-baf8-f8a8f9850d9c",
   "metadata": {},
   "outputs": [
    {
     "data": {
      "text/plain": [
       "array([[0, 1, 2, 3, 4],\n",
       "       [5, 6, 7, 8, 9]])"
      ]
     },
     "execution_count": 23,
     "metadata": {},
     "output_type": "execute_result"
    }
   ],
   "source": [
    "s2d"
   ]
  },
  {
   "cell_type": "code",
   "execution_count": 24,
   "id": "8bcb8c3d-9782-4b3b-a17c-a1464827a493",
   "metadata": {},
   "outputs": [
    {
     "data": {
      "text/plain": [
       "2"
      ]
     },
     "execution_count": 24,
     "metadata": {},
     "output_type": "execute_result"
    }
   ],
   "source": [
    "s2d.ndim"
   ]
  },
  {
   "cell_type": "code",
   "execution_count": 28,
   "id": "afdf555b-39fb-48c9-a27f-594b6f50a399",
   "metadata": {},
   "outputs": [],
   "source": [
    "s3d = np.arange(9).reshape(3,3,1)"
   ]
  },
  {
   "cell_type": "code",
   "execution_count": 29,
   "id": "f4dcc758-370d-4cf5-b02e-31b5327945a1",
   "metadata": {},
   "outputs": [
    {
     "data": {
      "text/plain": [
       "3"
      ]
     },
     "execution_count": 29,
     "metadata": {},
     "output_type": "execute_result"
    }
   ],
   "source": [
    "s3d.ndim"
   ]
  },
  {
   "cell_type": "code",
   "execution_count": 30,
   "id": "3f73af3a-5ad7-4bc5-a5cd-a8b01913e902",
   "metadata": {},
   "outputs": [
    {
     "data": {
      "text/plain": [
       "3"
      ]
     },
     "execution_count": 30,
     "metadata": {},
     "output_type": "execute_result"
    }
   ],
   "source": [
    "np.ndim(s3d)"
   ]
  },
  {
   "cell_type": "code",
   "execution_count": 31,
   "id": "a785a601-cbdf-46e2-8464-ed1de2bb956b",
   "metadata": {},
   "outputs": [
    {
     "name": "stdout",
     "output_type": "stream",
     "text": [
      "[1 5 9]\n"
     ]
    }
   ],
   "source": [
    " import numpy as np\n",
    "\n",
    "# Create a 3x3 matrix\n",
    "matrix = np.array([\n",
    "    [1, 2, 3],\n",
    "    [4, 5, 6],\n",
    "    [7, 8, 9]\n",
    "])\n",
    "\n",
    "# Extract the main diagonal (k=0)\n",
    "main_diag = np.diag(matrix)\n",
    "print(main_diag)  # Output: [1 5 9]"
   ]
  },
  {
   "cell_type": "code",
   "execution_count": 32,
   "id": "85b8c93e-084d-4c0b-8e4b-d1012dad99e1",
   "metadata": {},
   "outputs": [],
   "source": [
    "import numpy as np"
   ]
  },
  {
   "cell_type": "code",
   "execution_count": 33,
   "id": "0975bc3a-6d45-47ee-b013-fe908ede3203",
   "metadata": {},
   "outputs": [],
   "source": [
    "matrix = np.arange(9).reshape(3,3)"
   ]
  },
  {
   "cell_type": "code",
   "execution_count": 34,
   "id": "27e67515-7a84-4851-8a8c-d7b36c042709",
   "metadata": {},
   "outputs": [
    {
     "data": {
      "text/plain": [
       "array([[0, 1, 2],\n",
       "       [3, 4, 5],\n",
       "       [6, 7, 8]])"
      ]
     },
     "execution_count": 34,
     "metadata": {},
     "output_type": "execute_result"
    }
   ],
   "source": [
    "matrix"
   ]
  },
  {
   "cell_type": "code",
   "execution_count": 35,
   "id": "3ee0c407-4cce-42fd-88e8-5587ce475c40",
   "metadata": {},
   "outputs": [],
   "source": [
    "md = np.diag(matrix)"
   ]
  },
  {
   "cell_type": "code",
   "execution_count": 36,
   "id": "66d73b71-497b-4f1d-a3b8-1b5af5ab873e",
   "metadata": {},
   "outputs": [
    {
     "data": {
      "text/plain": [
       "array([0, 4, 8])"
      ]
     },
     "execution_count": 36,
     "metadata": {},
     "output_type": "execute_result"
    }
   ],
   "source": [
    "md"
   ]
  },
  {
   "cell_type": "code",
   "execution_count": 37,
   "id": "3c6beeb4-531f-4102-9981-67e3c646d8c6",
   "metadata": {},
   "outputs": [],
   "source": [
    "#create a matrix from main diag\n",
    "mdm = np.diag(md)"
   ]
  },
  {
   "cell_type": "code",
   "execution_count": 38,
   "id": "1ae168a8-dbf1-48cb-8b49-84c8c38822a8",
   "metadata": {},
   "outputs": [
    {
     "data": {
      "text/plain": [
       "array([[0, 0, 0],\n",
       "       [0, 4, 0],\n",
       "       [0, 0, 8]])"
      ]
     },
     "execution_count": 38,
     "metadata": {},
     "output_type": "execute_result"
    }
   ],
   "source": [
    "mdm"
   ]
  },
  {
   "cell_type": "code",
   "execution_count": 39,
   "id": "f6f8f341-aa22-4e00-8f2c-5478ad5079ad",
   "metadata": {},
   "outputs": [],
   "source": [
    "mdm2 = np.diag(md, k=1)"
   ]
  },
  {
   "cell_type": "code",
   "execution_count": 40,
   "id": "673cdf26-854d-4059-b871-d103fa2f308f",
   "metadata": {},
   "outputs": [
    {
     "data": {
      "text/plain": [
       "array([[0, 0, 0, 0],\n",
       "       [0, 0, 4, 0],\n",
       "       [0, 0, 0, 8],\n",
       "       [0, 0, 0, 0]])"
      ]
     },
     "execution_count": 40,
     "metadata": {},
     "output_type": "execute_result"
    }
   ],
   "source": [
    "mdm2"
   ]
  },
  {
   "cell_type": "code",
   "execution_count": 41,
   "id": "66e4d924-9d54-4a86-b2c0-690cb9bc79ff",
   "metadata": {},
   "outputs": [],
   "source": [
    "mdm3 = np.diag(md, k=-1)"
   ]
  },
  {
   "cell_type": "code",
   "execution_count": 42,
   "id": "194faff3-dcc1-44c6-9692-7e7c0ca2c4cc",
   "metadata": {},
   "outputs": [
    {
     "data": {
      "text/plain": [
       "array([[0, 0, 0, 0],\n",
       "       [0, 0, 0, 0],\n",
       "       [0, 4, 0, 0],\n",
       "       [0, 0, 8, 0]])"
      ]
     },
     "execution_count": 42,
     "metadata": {},
     "output_type": "execute_result"
    }
   ],
   "source": [
    "mdm3"
   ]
  },
  {
   "cell_type": "code",
   "execution_count": 43,
   "id": "101d92e1-75f5-47dc-9db1-17f8240c0858",
   "metadata": {},
   "outputs": [
    {
     "ename": "TypeError",
     "evalue": "diag() got an unexpected keyword argument 'order'",
     "output_type": "error",
     "traceback": [
      "\u001b[1;31m---------------------------------------------------------------------------\u001b[0m",
      "\u001b[1;31mTypeError\u001b[0m                                 Traceback (most recent call last)",
      "Cell \u001b[1;32mIn[43], line 1\u001b[0m\n\u001b[1;32m----> 1\u001b[0m mdm4 \u001b[38;5;241m=\u001b[39m \u001b[43mnp\u001b[49m\u001b[38;5;241;43m.\u001b[39;49m\u001b[43mdiag\u001b[49m\u001b[43m(\u001b[49m\u001b[43mmd\u001b[49m\u001b[43m,\u001b[49m\u001b[43m \u001b[49m\u001b[43morder\u001b[49m\u001b[38;5;241;43m=\u001b[39;49m\u001b[38;5;124;43m'\u001b[39;49m\u001b[38;5;124;43mC\u001b[39;49m\u001b[38;5;124;43m'\u001b[39;49m\u001b[43m)\u001b[49m\n",
      "\u001b[1;31mTypeError\u001b[0m: diag() got an unexpected keyword argument 'order'"
     ]
    }
   ],
   "source": [
    "mdm4 = np.diag(md, order='C')"
   ]
  },
  {
   "cell_type": "code",
   "execution_count": 44,
   "id": "e95a4d90-a5d6-4fe8-b5de-8ef5e60aefc4",
   "metadata": {},
   "outputs": [
    {
     "name": "stdout",
     "output_type": "stream",
     "text": [
      "BitGenerator\n",
      "Generator\n",
      "MT19937\n",
      "PCG64\n",
      "PCG64DXSM\n",
      "Philox\n",
      "RandomState\n",
      "SFC64\n",
      "SeedSequence\n",
      "__RandomState_ctor\n",
      "__all__\n",
      "__builtins__\n",
      "__cached__\n",
      "__doc__\n",
      "__file__\n",
      "__loader__\n",
      "__name__\n",
      "__package__\n",
      "__path__\n",
      "__spec__\n",
      "_bounded_integers\n",
      "_common\n",
      "_generator\n",
      "_mt19937\n",
      "_pcg64\n",
      "_philox\n",
      "_pickle\n",
      "_sfc64\n",
      "beta\n",
      "binomial\n",
      "bit_generator\n",
      "bytes\n",
      "chisquare\n",
      "choice\n",
      "default_rng\n",
      "dirichlet\n",
      "exponential\n",
      "f\n",
      "gamma\n",
      "geometric\n",
      "get_bit_generator\n",
      "get_state\n",
      "gumbel\n",
      "hypergeometric\n",
      "laplace\n",
      "logistic\n",
      "lognormal\n",
      "logseries\n",
      "mtrand\n",
      "multinomial\n",
      "multivariate_normal\n",
      "negative_binomial\n",
      "noncentral_chisquare\n",
      "noncentral_f\n",
      "normal\n",
      "pareto\n",
      "permutation\n",
      "poisson\n",
      "power\n",
      "rand\n",
      "randint\n",
      "randn\n",
      "random\n",
      "random_integers\n",
      "random_sample\n",
      "ranf\n",
      "rayleigh\n",
      "sample\n",
      "seed\n",
      "set_bit_generator\n",
      "set_state\n",
      "shuffle\n",
      "standard_cauchy\n",
      "standard_exponential\n",
      "standard_gamma\n",
      "standard_normal\n",
      "standard_t\n",
      "test\n",
      "triangular\n",
      "uniform\n",
      "vonmises\n",
      "wald\n",
      "weibull\n",
      "zipf\n"
     ]
    }
   ],
   "source": [
    "for i in dir(np.random):\n",
    "    print(i)"
   ]
  },
  {
   "cell_type": "markdown",
   "id": "3afb9b69-e70a-4a65-a319-4d54e4c205fd",
   "metadata": {},
   "source": [
    "# Delet me"
   ]
  },
  {
   "cell_type": "code",
   "execution_count": 1,
   "id": "5ebbcfc5-56a4-4d5d-80b3-c5b7b2de3157",
   "metadata": {},
   "outputs": [],
   "source": [
    "import numpy as np"
   ]
  },
  {
   "cell_type": "code",
   "execution_count": 2,
   "id": "2cc30558-f5b5-4f4d-bdf5-2aac8d834b6a",
   "metadata": {},
   "outputs": [
    {
     "data": {
      "text/plain": [
       "'1.26.4'"
      ]
     },
     "execution_count": 2,
     "metadata": {},
     "output_type": "execute_result"
    }
   ],
   "source": [
    "np.__version__"
   ]
  },
  {
   "cell_type": "code",
   "execution_count": 3,
   "id": "ceb163ed-b6e1-4c64-91c1-3986c078191a",
   "metadata": {},
   "outputs": [],
   "source": [
    "drng = np.random.default_rng()"
   ]
  },
  {
   "cell_type": "code",
   "execution_count": 4,
   "id": "70116fa1-eee9-4964-8fa8-143f85d2de41",
   "metadata": {},
   "outputs": [
    {
     "data": {
      "text/plain": [
       "Generator(PCG64) at 0x210FC8AFA00"
      ]
     },
     "execution_count": 4,
     "metadata": {},
     "output_type": "execute_result"
    }
   ],
   "source": [
    "drng"
   ]
  },
  {
   "cell_type": "code",
   "execution_count": 5,
   "id": "8576e6d0-22fc-4e74-bda6-3ed0a3dc8387",
   "metadata": {},
   "outputs": [
    {
     "name": "stdout",
     "output_type": "stream",
     "text": [
      "__class__\n",
      "__delattr__\n",
      "__dir__\n",
      "__doc__\n",
      "__eq__\n",
      "__format__\n",
      "__ge__\n",
      "__getattribute__\n",
      "__getstate__\n",
      "__gt__\n",
      "__hash__\n",
      "__init__\n",
      "__init_subclass__\n",
      "__le__\n",
      "__lt__\n",
      "__ne__\n",
      "__new__\n",
      "__reduce__\n",
      "__reduce_ex__\n",
      "__repr__\n",
      "__setattr__\n",
      "__setstate__\n",
      "__sizeof__\n",
      "__str__\n",
      "__subclasshook__\n",
      "_bit_generator\n",
      "_poisson_lam_max\n",
      "beta\n",
      "binomial\n",
      "bit_generator\n",
      "bytes\n",
      "chisquare\n",
      "choice\n",
      "dirichlet\n",
      "exponential\n",
      "f\n",
      "gamma\n",
      "geometric\n",
      "gumbel\n",
      "hypergeometric\n",
      "integers\n",
      "laplace\n",
      "logistic\n",
      "lognormal\n",
      "logseries\n",
      "multinomial\n",
      "multivariate_hypergeometric\n",
      "multivariate_normal\n",
      "negative_binomial\n",
      "noncentral_chisquare\n",
      "noncentral_f\n",
      "normal\n",
      "pareto\n",
      "permutation\n",
      "permuted\n",
      "poisson\n",
      "power\n",
      "random\n",
      "rayleigh\n",
      "shuffle\n",
      "spawn\n",
      "standard_cauchy\n",
      "standard_exponential\n",
      "standard_gamma\n",
      "standard_normal\n",
      "standard_t\n",
      "triangular\n",
      "uniform\n",
      "vonmises\n",
      "wald\n",
      "weibull\n",
      "zipf\n"
     ]
    }
   ],
   "source": [
    "for i in dir(drng):\n",
    "    print(i)"
   ]
  },
  {
   "cell_type": "code",
   "execution_count": 6,
   "id": "1965ae81-7eb1-4efe-9b26-72c80f51600e",
   "metadata": {},
   "outputs": [
    {
     "name": "stdout",
     "output_type": "stream",
     "text": [
      "__call__\n",
      "__class__\n",
      "__delattr__\n",
      "__dir__\n",
      "__doc__\n",
      "__eq__\n",
      "__format__\n",
      "__ge__\n",
      "__getattribute__\n",
      "__getstate__\n",
      "__gt__\n",
      "__hash__\n",
      "__init__\n",
      "__init_subclass__\n",
      "__le__\n",
      "__lt__\n",
      "__module__\n",
      "__name__\n",
      "__ne__\n",
      "__new__\n",
      "__qualname__\n",
      "__reduce__\n",
      "__reduce_ex__\n",
      "__repr__\n",
      "__self__\n",
      "__setattr__\n",
      "__sizeof__\n",
      "__str__\n",
      "__subclasshook__\n",
      "__text_signature__\n"
     ]
    }
   ],
   "source": [
    "for i in dir(drng.random):\n",
    "    print(i)"
   ]
  },
  {
   "cell_type": "code",
   "execution_count": 7,
   "id": "80c5bcad-70a2-4fb8-b0ab-c971f5daa40e",
   "metadata": {},
   "outputs": [
    {
     "data": {
      "text/plain": [
       "2"
      ]
     },
     "execution_count": 7,
     "metadata": {},
     "output_type": "execute_result"
    }
   ],
   "source": [
    "drng.integers(10)"
   ]
  },
  {
   "cell_type": "code",
   "execution_count": 9,
   "id": "a21e056e-c9af-4c00-ae6a-12b858bf9f20",
   "metadata": {},
   "outputs": [
    {
     "name": "stdout",
     "output_type": "stream",
     "text": [
      "0.236022100372694\n"
     ]
    }
   ],
   "source": [
    "print(drng.random())"
   ]
  },
  {
   "cell_type": "code",
   "execution_count": 10,
   "id": "26d4ac8b-6b0e-49a1-8c44-dfce8d193765",
   "metadata": {},
   "outputs": [],
   "source": [
    "random_float_array = drng.random(size=(2,3))"
   ]
  },
  {
   "cell_type": "code",
   "execution_count": 11,
   "id": "fce86e3b-fa8b-44fb-b499-25fd63a19bb1",
   "metadata": {},
   "outputs": [
    {
     "data": {
      "text/plain": [
       "array([[0.12890364, 0.5126102 , 0.3445094 ],\n",
       "       [0.76016676, 0.01688447, 0.92923545]])"
      ]
     },
     "execution_count": 11,
     "metadata": {},
     "output_type": "execute_result"
    }
   ],
   "source": [
    "random_float_array"
   ]
  },
  {
   "cell_type": "code",
   "execution_count": 13,
   "id": "d2d1c0ce-bec0-4cd4-a9e7-b0ddfcfbd46e",
   "metadata": {},
   "outputs": [],
   "source": [
    "r3d =  drng.random(size=(3, 2,3))"
   ]
  },
  {
   "cell_type": "code",
   "execution_count": 15,
   "id": "9d04fc7b-c89c-42b2-bd79-295294f34911",
   "metadata": {},
   "outputs": [],
   "source": [
    "r4d = drng.random(size=(3,3 ,2,3))"
   ]
  },
  {
   "cell_type": "code",
   "execution_count": 16,
   "id": "8ba12917-a107-4d7a-b5ee-0a3d1ca55b57",
   "metadata": {},
   "outputs": [
    {
     "data": {
      "text/plain": [
       "array([[[0.62931723, 0.52608612, 0.84179113],\n",
       "        [0.18072532, 0.46899258, 0.71032127]],\n",
       "\n",
       "       [[0.44617556, 0.13867925, 0.14226495],\n",
       "        [0.66411288, 0.72262444, 0.36996125]],\n",
       "\n",
       "       [[0.36923007, 0.6470736 , 0.60029163],\n",
       "        [0.70455335, 0.59530154, 0.7671784 ]]])"
      ]
     },
     "execution_count": 16,
     "metadata": {},
     "output_type": "execute_result"
    }
   ],
   "source": [
    "r3d"
   ]
  },
  {
   "cell_type": "code",
   "execution_count": 17,
   "id": "d281ba82-7dc5-40e3-ad07-6d7ed322f406",
   "metadata": {},
   "outputs": [
    {
     "data": {
      "text/plain": [
       "array([[[[0.4097919 , 0.09927375, 0.55156672],\n",
       "         [0.08188616, 0.27565404, 0.626333  ]],\n",
       "\n",
       "        [[0.36017939, 0.00562133, 0.56540478],\n",
       "         [0.95305795, 0.40846082, 0.95255922]],\n",
       "\n",
       "        [[0.67182817, 0.55429242, 0.85658503],\n",
       "         [0.79596634, 0.31062477, 0.7884277 ]]],\n",
       "\n",
       "\n",
       "       [[[0.34440716, 0.63368332, 0.44286601],\n",
       "         [0.75003859, 0.91347261, 0.16867728]],\n",
       "\n",
       "        [[0.45519813, 0.22467418, 0.81650955],\n",
       "         [0.86609593, 0.29996445, 0.73566275]],\n",
       "\n",
       "        [[0.77070365, 0.0540633 , 0.3815201 ],\n",
       "         [0.03366618, 0.20082077, 0.01890899]]],\n",
       "\n",
       "\n",
       "       [[[0.62021962, 0.75363477, 0.34498602],\n",
       "         [0.2223003 , 0.7491259 , 0.65069343]],\n",
       "\n",
       "        [[0.3524417 , 0.2555606 , 0.68845739],\n",
       "         [0.88614744, 0.92603255, 0.94646203]],\n",
       "\n",
       "        [[0.19960187, 0.21256373, 0.00710168],\n",
       "         [0.5900279 , 0.19446812, 0.5449526 ]]]])"
      ]
     },
     "execution_count": 17,
     "metadata": {},
     "output_type": "execute_result"
    }
   ],
   "source": [
    "r4d"
   ]
  },
  {
   "cell_type": "code",
   "execution_count": 18,
   "id": "aaf16e1e-8cc1-461c-a120-d6ea9a2c6845",
   "metadata": {},
   "outputs": [
    {
     "data": {
      "text/plain": [
       "4"
      ]
     },
     "execution_count": 18,
     "metadata": {},
     "output_type": "execute_result"
    }
   ],
   "source": [
    "r4d.ndim"
   ]
  },
  {
   "cell_type": "code",
   "execution_count": 19,
   "id": "8b7b2920-d253-4bb7-9ffe-0989d0a70068",
   "metadata": {},
   "outputs": [
    {
     "data": {
      "text/plain": [
       "54"
      ]
     },
     "execution_count": 19,
     "metadata": {},
     "output_type": "execute_result"
    }
   ],
   "source": [
    "r4d.size"
   ]
  },
  {
   "cell_type": "code",
   "execution_count": 20,
   "id": "ae4c1cba-9f7a-45d2-8321-c3c8d6b4aa74",
   "metadata": {},
   "outputs": [],
   "source": [
    "arr_int = drng.integers(low=1, high=10, size=(2,3))"
   ]
  },
  {
   "cell_type": "code",
   "execution_count": 21,
   "id": "b74e27f8-965f-4f40-bd22-0f2f1c26f17d",
   "metadata": {},
   "outputs": [
    {
     "name": "stdout",
     "output_type": "stream",
     "text": [
      "[[5 6 2]\n",
      " [8 6 7]]\n"
     ]
    }
   ],
   "source": [
    "print(arr_int)"
   ]
  },
  {
   "cell_type": "code",
   "execution_count": 26,
   "id": "1de344cd-e1ec-4cb5-ac80-1d4700b31e50",
   "metadata": {},
   "outputs": [],
   "source": [
    "arr_int2 = drng.integers(low=1, high=100, size=(2,3), dtype='int8')"
   ]
  },
  {
   "cell_type": "code",
   "execution_count": 27,
   "id": "65f3ea13-9a2a-4402-9d7c-ad133d1ddb71",
   "metadata": {},
   "outputs": [
    {
     "data": {
      "text/plain": [
       "array([[68, 68, 29],\n",
       "       [42, 42,  8]], dtype=int8)"
      ]
     },
     "execution_count": 27,
     "metadata": {},
     "output_type": "execute_result"
    }
   ],
   "source": [
    "arr_int2"
   ]
  },
  {
   "cell_type": "markdown",
   "id": "1141f44f-36ef-40e9-a0d9-a33145bca10d",
   "metadata": {},
   "source": [
    "# random gen"
   ]
  },
  {
   "cell_type": "code",
   "execution_count": 28,
   "id": "d20eb013-107a-453f-a685-07ee61e2d4b0",
   "metadata": {},
   "outputs": [],
   "source": [
    "import numpy as np"
   ]
  },
  {
   "cell_type": "code",
   "execution_count": 31,
   "id": "66387c22-079e-4686-a1b0-702659810d82",
   "metadata": {},
   "outputs": [],
   "source": [
    "arr_rng = np.random.default_rng()"
   ]
  },
  {
   "cell_type": "code",
   "execution_count": 32,
   "id": "86b1deb9-50f9-41fb-b699-cecc86a13854",
   "metadata": {},
   "outputs": [
    {
     "data": {
      "text/plain": [
       "Generator(PCG64) at 0x210FCE42500"
      ]
     },
     "execution_count": 32,
     "metadata": {},
     "output_type": "execute_result"
    }
   ],
   "source": [
    "arr_rng"
   ]
  },
  {
   "cell_type": "code",
   "execution_count": 38,
   "id": "c06a9709-a167-4a25-acc6-128e5efdda71",
   "metadata": {},
   "outputs": [
    {
     "name": "stdout",
     "output_type": "stream",
     "text": [
      "0.8441733388651962\n"
     ]
    }
   ],
   "source": [
    "#generate a random float from 0.0 to 1.0\n",
    "print(arr_rng.random())"
   ]
  },
  {
   "cell_type": "code",
   "execution_count": 39,
   "id": "195cea63-c090-41ff-bdf1-60f459f0853a",
   "metadata": {},
   "outputs": [
    {
     "name": "stdout",
     "output_type": "stream",
     "text": [
      "[0.5666056  0.45781389 0.67467043]\n"
     ]
    }
   ],
   "source": [
    "#generate a random floats (shape=(3,))\n",
    "print(arr_rng.random(3))"
   ]
  },
  {
   "cell_type": "code",
   "execution_count": 41,
   "id": "a09d2327-9cf4-47fe-8cf9-827875d94d82",
   "metadata": {},
   "outputs": [
    {
     "name": "stdout",
     "output_type": "stream",
     "text": [
      "[5 5 2 7 8]\n"
     ]
    }
   ],
   "source": [
    "#random integers (low, high, size)\n",
    "print(arr_rng.integers(1,10, size=5)) "
   ]
  },
  {
   "cell_type": "code",
   "execution_count": 44,
   "id": "afc19adb-73a7-4443-995c-9107a0c41eec",
   "metadata": {},
   "outputs": [
    {
     "name": "stdout",
     "output_type": "stream",
     "text": [
      "[[32 27  3 27 37]\n",
      " [ 2 12  5 26 34]\n",
      " [18 16 24 32  5]\n",
      " [38  4 34 13  7]\n",
      " [22  6 34  4  7]]\n"
     ]
    }
   ],
   "source": [
    "print(arr_rng.integers(1,50, size=(5,5)) )"
   ]
  },
  {
   "cell_type": "code",
   "execution_count": 47,
   "id": "d2e3209d-f53d-4aad-af73-7c3a152f8133",
   "metadata": {},
   "outputs": [
    {
     "name": "stdout",
     "output_type": "stream",
     "text": [
      "[[-0.79446418  2.4800287  -0.25540988]\n",
      " [-0.43403061  0.11227163  1.96415019]\n",
      " [-1.21547947  0.44931341 -0.99374991]]\n"
     ]
    }
   ],
   "source": [
    "#Normal Distribution (mean = 0, std=1)\n",
    "print(arr_rng.normal(size=(3,3)))"
   ]
  },
  {
   "cell_type": "code",
   "execution_count": 48,
   "id": "d5966484-7112-405e-9022-05ab36dfbdb2",
   "metadata": {},
   "outputs": [
    {
     "name": "stdout",
     "output_type": "stream",
     "text": [
      "[[9.45493961 3.6088865  4.949767  ]\n",
      " [3.5868871  8.52119417 9.18949843]\n",
      " [2.73632205 9.73419547 2.67958147]]\n"
     ]
    }
   ],
   "source": [
    "# Uniform distribution [low, high)\n",
    "print(arr_rng.uniform(1, 10, size=(3,3)))"
   ]
  },
  {
   "cell_type": "code",
   "execution_count": 49,
   "id": "6fb773a8-3265-4868-8ad2-136d5759ad4b",
   "metadata": {},
   "outputs": [
    {
     "name": "stdout",
     "output_type": "stream",
     "text": [
      "[['Vegas' 'Chicago']\n",
      " ['Boston' 'Boston']]\n"
     ]
    }
   ],
   "source": [
    "#choice from array\n",
    "print(arr_rng.choice(['Chicago', 'Boston', 'Vegas'], size=(2,2)))"
   ]
  },
  {
   "cell_type": "code",
   "execution_count": 60,
   "id": "30af68e2-cba1-434b-a58a-21093ba1a8e2",
   "metadata": {},
   "outputs": [
    {
     "name": "stdout",
     "output_type": "stream",
     "text": [
      "[0 7 6]\n"
     ]
    }
   ],
   "source": [
    "#Intermediate\n",
    "#Reproducible results:\n",
    "arr_rng1 = np.random.default_rng(seed=42)\n",
    "print(arr_rng1.integers(0, 10, 3))"
   ]
  },
  {
   "cell_type": "code",
   "execution_count": 68,
   "id": "739d4c42-e8fb-424c-b348-94111277b281",
   "metadata": {},
   "outputs": [
    {
     "name": "stdout",
     "output_type": "stream",
     "text": [
      "[7 6 4]\n"
     ]
    }
   ],
   "source": [
    "arr_rng2 = np.random.default_rng(seed=100)\n",
    "print(arr_rng1.integers(0, 10, 3))"
   ]
  },
  {
   "cell_type": "code",
   "execution_count": 69,
   "id": "0479a46d-4e87-4fdc-8448-9f872d75892d",
   "metadata": {},
   "outputs": [],
   "source": [
    "#Saving Loading State\n",
    "#Save State\n",
    "state = arr_rng.bit_generator.state"
   ]
  },
  {
   "cell_type": "code",
   "execution_count": 70,
   "id": "5a886f8e-5139-46ed-b560-71faa95108ea",
   "metadata": {},
   "outputs": [
    {
     "data": {
      "text/plain": [
       "{'bit_generator': 'PCG64',\n",
       " 'state': {'state': 118314490916754869280093617490102191046,\n",
       "  'inc': 12378003593235116243544751501148972423},\n",
       " 'has_uint32': 1,\n",
       " 'uinteger': 1805703962}"
      ]
     },
     "execution_count": 70,
     "metadata": {},
     "output_type": "execute_result"
    }
   ],
   "source": [
    "state"
   ]
  },
  {
   "cell_type": "code",
   "execution_count": 72,
   "id": "efb8352a-7082-47a5-b647-8e8835c1b395",
   "metadata": {},
   "outputs": [],
   "source": [
    "#restore a state\n",
    "arr_rng.bit_generator.state = state"
   ]
  },
  {
   "cell_type": "code",
   "execution_count": 73,
   "id": "3a1b3e13-82ea-48d1-b359-e2b55b18e989",
   "metadata": {},
   "outputs": [],
   "source": [
    "#generate large numbers faster than regular numpy\n",
    "large_array = arr_rng.random(100)"
   ]
  },
  {
   "cell_type": "code",
   "execution_count": 74,
   "id": "a96b4d09-33c5-40e4-bef9-961bf7989b29",
   "metadata": {},
   "outputs": [
    {
     "data": {
      "text/plain": [
       "array([0.05856455, 0.70150877, 0.18323849, 0.31740912, 0.28375484,\n",
       "       0.29517771, 0.3717683 , 0.44230044, 0.79990493, 0.45654963,\n",
       "       0.44850405, 0.89742102, 0.87585633, 0.15852766, 0.60004243,\n",
       "       0.27130686, 0.3883808 , 0.03282451, 0.38724562, 0.4531647 ,\n",
       "       0.34082234, 0.40268569, 0.03626446, 0.95552048, 0.10916562,\n",
       "       0.05226835, 0.51704185, 0.44162913, 0.04012001, 0.19855621,\n",
       "       0.31659398, 0.80654143, 0.18553247, 0.44542209, 0.74514298,\n",
       "       0.22342179, 0.59334921, 0.80821041, 0.03245511, 0.16107762,\n",
       "       0.67337769, 0.96145448, 0.33345891, 0.78964373, 0.41044552,\n",
       "       0.10698702, 0.04359344, 0.10185007, 0.43670589, 0.51932059,\n",
       "       0.45082364, 0.1841256 , 0.49672619, 0.62338429, 0.43214748,\n",
       "       0.49030078, 0.37709164, 0.15081489, 0.88297752, 0.53399771,\n",
       "       0.89131117, 0.78171303, 0.34107044, 0.16485462, 0.32158714,\n",
       "       0.13268783, 0.24708256, 0.11251838, 0.45833303, 0.60812385,\n",
       "       0.696261  , 0.83445325, 0.85702167, 0.97801365, 0.01459154,\n",
       "       0.77987119, 0.50845655, 0.91109317, 0.81323391, 0.80583396,\n",
       "       0.64899445, 0.02984925, 0.63066397, 0.34057762, 0.92584233,\n",
       "       0.92768793, 0.79751266, 0.31103213, 0.78841463, 0.82021112,\n",
       "       0.66622702, 0.4729199 , 0.14409963, 0.02711138, 0.56326717,\n",
       "       0.23251378, 0.04020073, 0.92875718, 0.56029224, 0.40310331])"
      ]
     },
     "execution_count": 74,
     "metadata": {},
     "output_type": "execute_result"
    }
   ],
   "source": [
    "large_array"
   ]
  },
  {
   "cell_type": "code",
   "execution_count": 75,
   "id": "7ae89f4f-eef4-4a63-90c4-51d7476f8650",
   "metadata": {},
   "outputs": [
    {
     "data": {
      "text/plain": [
       "array([0, 1, 2, 3, 4, 5, 6, 7, 8, 9])"
      ]
     },
     "execution_count": 75,
     "metadata": {},
     "output_type": "execute_result"
    }
   ],
   "source": [
    "#Permutation & Shuffling\n",
    "arr = np.arange(10)\n",
    "arr"
   ]
  },
  {
   "cell_type": "code",
   "execution_count": 78,
   "id": "8222bc59-6f40-4c33-b650-251a7be4a96c",
   "metadata": {},
   "outputs": [],
   "source": [
    "arr_rng.shuffle(arr)"
   ]
  },
  {
   "cell_type": "code",
   "execution_count": 79,
   "id": "82d114d7-bcfe-4ec8-95d2-9eea44fcdf9f",
   "metadata": {},
   "outputs": [
    {
     "data": {
      "text/plain": [
       "array([0, 8, 7, 2, 5, 3, 6, 9, 4, 1])"
      ]
     },
     "execution_count": 79,
     "metadata": {},
     "output_type": "execute_result"
    }
   ],
   "source": [
    "arr"
   ]
  },
  {
   "cell_type": "code",
   "execution_count": 82,
   "id": "462eef60-51aa-48a9-a244-69be5e1416e7",
   "metadata": {},
   "outputs": [
    {
     "name": "stdout",
     "output_type": "stream",
     "text": [
      "[4 5 1 3 7 0 9 6 8 2]\n"
     ]
    }
   ],
   "source": [
    "#Permutation returns a new array:\n",
    "print(arr_rng.permutation(10))"
   ]
  },
  {
   "cell_type": "code",
   "execution_count": 83,
   "id": "8e52f444-40fb-4459-904f-a53718890b90",
   "metadata": {},
   "outputs": [
    {
     "name": "stdout",
     "output_type": "stream",
     "text": [
      "[[-0.78737279 -1.12428188]\n",
      " [ 0.25254469  1.27670238]\n",
      " [-0.91388643 -0.35956861]]\n"
     ]
    }
   ],
   "source": [
    "#Multivariate normal:\n",
    "mean = [0,0]\n",
    "cov=[[1, 0.5], [0.5, 1]]\n",
    "print(arr_rng.multivariate_normal(mean, cov, size=3))"
   ]
  },
  {
   "cell_type": "code",
   "execution_count": 86,
   "id": "776c9380-3de7-4ebb-b234-bc63a23aeedc",
   "metadata": {},
   "outputs": [
    {
     "name": "stdout",
     "output_type": "stream",
     "text": [
      "[4 5 4 5 6]\n"
     ]
    }
   ],
   "source": [
    "#poisson distribution\n",
    "print(arr_rng.poisson(lam=5, size=5))"
   ]
  },
  {
   "cell_type": "code",
   "execution_count": 88,
   "id": "e47b06bb-80c0-4bc8-9f69-199c5fcde415",
   "metadata": {},
   "outputs": [],
   "source": [
    "#Advanced \n",
    "#Custom Generators & Parallel rng\n",
    "#using different generators"
   ]
  },
  {
   "cell_type": "code",
   "execution_count": 89,
   "id": "dc2a6b0b-e8c5-4fb7-95a8-fd3053155838",
   "metadata": {},
   "outputs": [],
   "source": [
    "from numpy.random import PCG64, MT19937"
   ]
  },
  {
   "cell_type": "code",
   "execution_count": 91,
   "id": "c60c8e64-f677-4554-84d6-d0e11fb48c6b",
   "metadata": {},
   "outputs": [],
   "source": [
    "#Explicitly choose generator\n",
    "rng_pcg = np.random.Generator(PCG64(seed=42))\n",
    "rng_mt = np.random.Generator(MT19937(seed=42))"
   ]
  },
  {
   "cell_type": "code",
   "execution_count": 92,
   "id": "554a3149-6bca-49d6-9ed5-8e29e3c78be9",
   "metadata": {},
   "outputs": [
    {
     "name": "stdout",
     "output_type": "stream",
     "text": [
      "-1.083952878254019\n"
     ]
    }
   ],
   "source": [
    "#Parallel Random Number Generation\n",
    "#split generator for parallel processes\n",
    "children = arr_rng.spawn(4)\n",
    "print(children[0].normal())"
   ]
  },
  {
   "cell_type": "code",
   "execution_count": 96,
   "id": "5b9d611d-5469-4a75-b7d0-2ce919ce3306",
   "metadata": {},
   "outputs": [
    {
     "name": "stdout",
     "output_type": "stream",
     "text": [
      "[Generator(PCG64) at 0x210FD91BAE0, Generator(PCG64) at 0x210FD91BE60, Generator(PCG64) at 0x210FD8E5EE0, Generator(PCG64) at 0x210FD8E6260]\n"
     ]
    }
   ],
   "source": [
    "print(children)"
   ]
  },
  {
   "cell_type": "code",
   "execution_count": 97,
   "id": "f2f6c334-da9f-42bf-8747-ecf117ceb4c2",
   "metadata": {},
   "outputs": [
    {
     "name": "stdout",
     "output_type": "stream",
     "text": [
      "-0.40307021040390834\n"
     ]
    }
   ],
   "source": [
    "print(children[2].normal())"
   ]
  },
  {
   "cell_type": "code",
   "execution_count": 93,
   "id": "0fe55b41-3ea8-4843-afd1-8030c4b214d7",
   "metadata": {},
   "outputs": [],
   "source": [
    "#Cryptographic Hashing for seeds\n",
    "import hashlib \n",
    "seed = int(hashlib.sha256(b\"secure\").hexdigest(), 16) % 2**32"
   ]
  },
  {
   "cell_type": "markdown",
   "id": "3ec43d87-99f7-4c6b-9beb-668b5ddbde0e",
   "metadata": {},
   "source": [
    "secure_rng = np.random.default_rng(seed)"
   ]
  },
  {
   "cell_type": "code",
   "execution_count": 95,
   "id": "8ca33493-64d6-404d-8e80-3cc5d11149cb",
   "metadata": {},
   "outputs": [
    {
     "data": {
      "text/plain": [
       "Generator(PCG64) at 0x210FD8E66C0"
      ]
     },
     "execution_count": 95,
     "metadata": {},
     "output_type": "execute_result"
    }
   ],
   "source": [
    "secure_rng"
   ]
  },
  {
   "cell_type": "code",
   "execution_count": 98,
   "id": "bb4186cf-58f1-4829-aafd-01d4f84bc2be",
   "metadata": {},
   "outputs": [],
   "source": [
    "#Task\tCode\n",
    "#Create RNG\trng = np.random.default_rng()\n",
    "#Random floats\trng.random(size=(3,3))\n",
    "#Random ints\trng.integers(0, 10, size=5)\n",
    "#Normal dist\trng.normal(0, 1, size=10)\n",
    "#Shuffle\trng.shuffle(arr)\n",
    "#Choice\trng.choice(['a','b','c'], size=3)\n",
    "#Reproducible\trng = np.random.default_rng(seed=42)\n",
    "#Parallel RNG\tchildren = rng.spawn(4)"
   ]
  },
  {
   "cell_type": "markdown",
   "id": "c9f5eba3-3e46-4ca6-9352-1631c92f3314",
   "metadata": {},
   "source": [
    "# Numpy intermediate/Advanced"
   ]
  },
  {
   "cell_type": "code",
   "execution_count": 99,
   "id": "32e926ae-adaf-4bac-9a3b-c699eb3cd69e",
   "metadata": {},
   "outputs": [],
   "source": [
    "import numpy as np"
   ]
  },
  {
   "cell_type": "code",
   "execution_count": 103,
   "id": "0779b467-c6a2-49dc-8575-efaecd4e1723",
   "metadata": {},
   "outputs": [
    {
     "name": "stdout",
     "output_type": "stream",
     "text": [
      "0.5509786145484907\n"
     ]
    }
   ],
   "source": [
    "#generate random flaot number between 0 and 1\n",
    "print(np.random.random())"
   ]
  },
  {
   "cell_type": "code",
   "execution_count": 105,
   "id": "a2ff2756-6343-43a0-b339-3307eb552df7",
   "metadata": {},
   "outputs": [
    {
     "data": {
      "text/plain": [
       "array([[0.276669  , 0.64625492, 0.25407889],\n",
       "       [0.54044766, 0.76766351, 0.83232181],\n",
       "       [0.99124814, 0.56658642, 0.22778692]])"
      ]
     },
     "execution_count": 105,
     "metadata": {},
     "output_type": "execute_result"
    }
   ],
   "source": [
    "#Generate a matrix float between 0 and 1\n",
    "np.random.random((3,3))"
   ]
  },
  {
   "cell_type": "code",
   "execution_count": 106,
   "id": "9d773c19-d0d5-4b7c-8b07-ce23f307374e",
   "metadata": {},
   "outputs": [
    {
     "data": {
      "text/plain": [
       "array([[[0.10226704, 0.04793491],\n",
       "        [0.6762741 , 0.41164084]],\n",
       "\n",
       "       [[0.82393657, 0.02692704],\n",
       "        [0.97364967, 0.11654379]]])"
      ]
     },
     "execution_count": 106,
     "metadata": {},
     "output_type": "execute_result"
    }
   ],
   "source": [
    "np.random.random((2,2,2))"
   ]
  },
  {
   "cell_type": "code",
   "execution_count": 113,
   "id": "64ab7430-82b3-49c9-8308-d8db93a5381a",
   "metadata": {},
   "outputs": [
    {
     "data": {
      "text/plain": [
       "3"
      ]
     },
     "execution_count": 113,
     "metadata": {},
     "output_type": "execute_result"
    }
   ],
   "source": [
    "#now random integers\n",
    "np.random.randint(1, 10)"
   ]
  },
  {
   "cell_type": "code",
   "execution_count": 115,
   "id": "f53cd408-5264-453b-8eb7-a9c750529f67",
   "metadata": {},
   "outputs": [
    {
     "data": {
      "text/plain": [
       "array([97, 81, 44, 27, 21])"
      ]
     },
     "execution_count": 115,
     "metadata": {},
     "output_type": "execute_result"
    }
   ],
   "source": [
    "np.random.randint(1, 100, size=5)"
   ]
  },
  {
   "cell_type": "code",
   "execution_count": 116,
   "id": "a7e6da5b-c6b4-46f5-b579-b9cd6b7d8cae",
   "metadata": {},
   "outputs": [
    {
     "data": {
      "text/plain": [
       "array([[87, 82, 85, 98, 67],\n",
       "       [62, 13, 40, 44, 21],\n",
       "       [ 9, 64, 32, 49, 10],\n",
       "       [38, 66, 11, 76, 45],\n",
       "       [30,  8, 71, 72, 59]])"
      ]
     },
     "execution_count": 116,
     "metadata": {},
     "output_type": "execute_result"
    }
   ],
   "source": [
    "np.random.randint(1, 100, size=(5,5))"
   ]
  },
  {
   "cell_type": "markdown",
   "id": "6fc3b8b1-70ee-405f-b0c3-080a63abfdc8",
   "metadata": {},
   "source": [
    "### Simple Distributions"
   ]
  },
  {
   "cell_type": "code",
   "execution_count": 118,
   "id": "87219f5d-1cb9-4fab-8b24-f130db3e7d71",
   "metadata": {},
   "outputs": [
    {
     "data": {
      "text/plain": [
       "array([-0.87645573,  0.48801105,  0.55064974,  0.62966007,  0.72179063])"
      ]
     },
     "execution_count": 118,
     "metadata": {},
     "output_type": "execute_result"
    }
   ],
   "source": [
    "#Normal Distribution\n",
    "np.random.normal(loc=0, scale=1, size=5)"
   ]
  },
  {
   "cell_type": "code",
   "execution_count": 120,
   "id": "183a8457-9da7-4fac-8375-65b2666aa8d8",
   "metadata": {},
   "outputs": [
    {
     "data": {
      "text/plain": [
       "array([[1.3947656 , 6.07012815],\n",
       "       [6.29309219, 7.4784017 ]])"
      ]
     },
     "execution_count": 120,
     "metadata": {},
     "output_type": "execute_result"
    }
   ],
   "source": [
    "#Uniform distribution\n",
    "np.random.uniform(low=0, high=10, size=(2,2))"
   ]
  },
  {
   "cell_type": "code",
   "execution_count": 121,
   "id": "d54c5dca-349a-4fdc-bf7c-a6539d3a7520",
   "metadata": {},
   "outputs": [
    {
     "data": {
      "text/plain": [
       "array([[2.44741837, 6.65065969],\n",
       "       [5.4341696 , 3.73905332]])"
      ]
     },
     "execution_count": 121,
     "metadata": {},
     "output_type": "execute_result"
    }
   ],
   "source": [
    "np.random.uniform(0, 10, size=(2,2))"
   ]
  },
  {
   "cell_type": "code",
   "execution_count": 125,
   "id": "e2a47fbf-c858-4a4a-9670-a318c3a0ae17",
   "metadata": {},
   "outputs": [],
   "source": [
    "#seeding for reproducibility\n",
    "np.random.seed(42)"
   ]
  },
  {
   "cell_type": "code",
   "execution_count": 126,
   "id": "5e7520f9-2987-4eda-8190-97202739a623",
   "metadata": {},
   "outputs": [
    {
     "name": "stdout",
     "output_type": "stream",
     "text": [
      "0.3745401188473625\n"
     ]
    }
   ],
   "source": [
    "print(np.random.random())"
   ]
  },
  {
   "cell_type": "code",
   "execution_count": 129,
   "id": "5f4a33c2-ea91-4b62-8c90-b3ccdb29b6f8",
   "metadata": {},
   "outputs": [
    {
     "name": "stdout",
     "output_type": "stream",
     "text": [
      "[[3 7 5 6 2]\n",
      " [8 7 4 4 4]\n",
      " [4 5 5 4 5]\n",
      " [3 4 4 5 6]\n",
      " [4 5 5 2 5]]\n"
     ]
    }
   ],
   "source": [
    "#Common probability Distributions\n",
    "#Binomial distribution\n",
    "print(np.random.binomial(n=10, p=0.5, size=(5,5)))"
   ]
  },
  {
   "cell_type": "code",
   "execution_count": 131,
   "id": "5f5b6859-e203-4dfa-88fa-ea0961d39eda",
   "metadata": {},
   "outputs": [
    {
     "name": "stdout",
     "output_type": "stream",
     "text": [
      "[[ 6  6  1  7  2 11  4  3  8  3]\n",
      " [ 3  5  8  3  2  5  3  8 10  3]]\n"
     ]
    }
   ],
   "source": [
    "#Poison Distribution\n",
    "print(np.random.poisson(lam=5, size=(2,10)))"
   ]
  },
  {
   "cell_type": "code",
   "execution_count": 132,
   "id": "b966f553-ed97-449f-8861-87d6a039ba10",
   "metadata": {},
   "outputs": [
    {
     "name": "stdout",
     "output_type": "stream",
     "text": [
      "[0.1069969  1.08916239 0.00507444 0.17531582 0.79569785]\n"
     ]
    }
   ],
   "source": [
    "#exponential distribution\n",
    "print(np.random.exponential(scale=1.0, size=5))"
   ]
  },
  {
   "cell_type": "code",
   "execution_count": 133,
   "id": "e62d27d1-c053-41c3-9e7b-8152c6fce512",
   "metadata": {},
   "outputs": [
    {
     "name": "stdout",
     "output_type": "stream",
     "text": [
      "[3 5 1]\n",
      "[2 1 3]\n"
     ]
    }
   ],
   "source": [
    "#Sampling from Arrays\n",
    "arr = np.array([1,2,3,4,5])\n",
    "#Random choice\n",
    "print(np.random.choice(arr, size=3))\n",
    "#With probabilities\n",
    "print(np.random.choice(arr, size=3, p=[0.1, 0.1, 0.3, 0.4, 0.1]))"
   ]
  },
  {
   "cell_type": "code",
   "execution_count": 134,
   "id": "b9cde1eb-29e0-4560-9146-4603620551a3",
   "metadata": {},
   "outputs": [],
   "source": [
    "#Shuffling and Permutations"
   ]
  },
  {
   "cell_type": "code",
   "execution_count": 135,
   "id": "0865c6cd-53b6-4ddc-9f83-2bf71f4452b9",
   "metadata": {},
   "outputs": [
    {
     "name": "stdout",
     "output_type": "stream",
     "text": [
      "[5 1 4 9 0 2 6 8 7 3]\n"
     ]
    }
   ],
   "source": [
    "arr = np.arange(10)\n",
    "#shuffle in-place\n",
    "np.random.shuffle(arr)\n",
    "print(arr)"
   ]
  },
  {
   "cell_type": "code",
   "execution_count": 136,
   "id": "f193b13f-eb4d-40af-8bdb-d97b16f830c6",
   "metadata": {},
   "outputs": [
    {
     "name": "stdout",
     "output_type": "stream",
     "text": [
      "[0 3 1 9 4 7 8 6 5 2]\n"
     ]
    }
   ],
   "source": [
    "#Generate permutation\n",
    "print(np.random.permutation(10))"
   ]
  },
  {
   "cell_type": "code",
   "execution_count": 137,
   "id": "a022a1f5-d4d2-42ab-acbb-b80fdd86e4a6",
   "metadata": {},
   "outputs": [],
   "source": [
    "#multivariate normal"
   ]
  },
  {
   "cell_type": "code",
   "execution_count": 138,
   "id": "749417c6-92ac-4c3a-8eb5-d4b3aa2909b3",
   "metadata": {},
   "outputs": [],
   "source": [
    "mean = [0, 0]\n",
    "cov=[[1,0.5], [0.5, 1]]"
   ]
  },
  {
   "cell_type": "code",
   "execution_count": 139,
   "id": "1efd6f2c-a741-4b97-a660-6936d3c3bf37",
   "metadata": {},
   "outputs": [
    {
     "name": "stdout",
     "output_type": "stream",
     "text": [
      "[[-1.31633551 -0.77837551]\n",
      " [-2.41496177 -2.32119634]\n",
      " [ 1.23524752  1.20071786]\n",
      " [ 0.345406    1.322586  ]\n",
      " [ 0.03228011 -0.10499171]]\n"
     ]
    }
   ],
   "source": [
    "print(np.random.multivariate_normal(mean, cov, 5))"
   ]
  },
  {
   "cell_type": "code",
   "execution_count": 141,
   "id": "b8a85497-566e-4139-8b19-6dfda6cd4752",
   "metadata": {},
   "outputs": [
    {
     "name": "stdout",
     "output_type": "stream",
     "text": [
      "[-1.5347084  -0.77141062  0.04356613  0.71315756 -0.82249956]\n"
     ]
    }
   ],
   "source": [
    "#Random Number Generators (RNGs)\n",
    "from numpy.random import Generator, PCG64\n",
    "#Using the newer generator\n",
    "rng = Generator(PCG64())\n",
    "print(rng.standard_normal(5))"
   ]
  },
  {
   "cell_type": "markdown",
   "id": "bb2b937a-93f1-4588-98da-56b5ef6221df",
   "metadata": {},
   "source": [
    "# section 5 indexing lesson 1"
   ]
  },
  {
   "cell_type": "code",
   "execution_count": 142,
   "id": "dc0e83e6-82f2-4286-be68-d37e1d747c2f",
   "metadata": {},
   "outputs": [
    {
     "name": "stdout",
     "output_type": "stream",
     "text": [
      "10\n",
      "30\n",
      "50\n",
      "[20 30 40]\n",
      "[10 30 50]\n"
     ]
    }
   ],
   "source": [
    "import numpy as np\n",
    "\n",
    "# Create a 1D array\n",
    "arr1d = np.array([10, 20, 30, 40, 50])\n",
    "\n",
    "# Basic indexing (0-based)\n",
    "print(arr1d[0])    # First element → 10\n",
    "print(arr1d[2])    # Third element → 30\n",
    "print(arr1d[-1])   # Last element → 50\n",
    "\n",
    "# Slicing [start:stop:step]\n",
    "print(arr1d[1:4])  # Elements from index 1 to 3 → [20, 30, 40]\n",
    "print(arr1d[::2])  # Every second element → [10, 30, 50]"
   ]
  },
  {
   "cell_type": "code",
   "execution_count": 143,
   "id": "1c432697-bcc9-4674-8e16-ff2f646231fe",
   "metadata": {},
   "outputs": [
    {
     "name": "stdout",
     "output_type": "stream",
     "text": [
      "2\n",
      "7\n",
      "[[4 5 6]\n",
      " [7 8 9]]\n",
      "[2 5 8]\n"
     ]
    }
   ],
   "source": [
    "# Create a 2D array\n",
    "arr2d = np.array([[1, 2, 3], [4, 5, 6], [7, 8, 9]])\n",
    "\n",
    "# Indexing with [row, column]\n",
    "print(arr2d[0, 1])   # First row, second column → 2\n",
    "print(arr2d[2, 0])   # Third row, first column → 7\n",
    "\n",
    "# Slicing rows and columns\n",
    "print(arr2d[1:])     # All rows from index 1 onward\n",
    "print(arr2d[:, 1])   # All rows, second column → [2, 5, 8]"
   ]
  },
  {
   "cell_type": "code",
   "execution_count": 144,
   "id": "cac91afb-8d90-4ef3-b702-6cf6f83092b8",
   "metadata": {},
   "outputs": [
    {
     "name": "stdout",
     "output_type": "stream",
     "text": [
      "6\n",
      "8\n",
      "[[ 4  5  6]\n",
      " [10 11 12]]\n"
     ]
    }
   ],
   "source": [
    "#3d Array\n",
    "# Create a 3D array (2x2x3)\n",
    "arr3d = np.array([[[1, 2, 3], [4, 5, 6]], [[7, 8, 9], [10, 11, 12]]])\n",
    "\n",
    "# Indexing with [depth, row, column]\n",
    "print(arr3d[0, 1, 2])  # First depth, second row, third column → 6\n",
    "print(arr3d[1, 0, 1])  # Second depth, first row, second column → 8\n",
    "\n",
    "# Slicing\n",
    "print(arr3d[:, 1, :])  # All depths, second row, all columns"
   ]
  },
  {
   "cell_type": "markdown",
   "id": "fd33cb36-6f9c-4eef-9411-b88ab803262b",
   "metadata": {},
   "source": [
    "### intermediate level \n",
    "#### Boolean indexing"
   ]
  },
  {
   "cell_type": "code",
   "execution_count": 145,
   "id": "a85c152e-9176-4c7f-95e5-5fbb228eca82",
   "metadata": {},
   "outputs": [
    {
     "name": "stdout",
     "output_type": "stream",
     "text": [
      "[False False False  True  True]\n",
      "[20 25]\n",
      "[4 5 6]\n"
     ]
    }
   ],
   "source": [
    "arr = np.array([5, 10, 15, 20, 25])\n",
    "\n",
    "# Create boolean mask\n",
    "mask = arr > 15\n",
    "print(mask)          # [False, False, False, True, True]\n",
    "print(arr[mask])     # [20, 25]\n",
    "\n",
    "# 2D example\n",
    "arr2d = np.array([[1, 2], [3, 4], [5, 6]])\n",
    "print(arr2d[arr2d > 3])  # [4, 5, 6]"
   ]
  },
  {
   "cell_type": "code",
   "execution_count": 146,
   "id": "da96b0a7-619a-4f73-818f-b521546eddee",
   "metadata": {},
   "outputs": [
    {
     "name": "stdout",
     "output_type": "stream",
     "text": [
      "[20 40 50]\n",
      "[1 6]\n"
     ]
    }
   ],
   "source": [
    "#Fancy indexing (integer array indexing)\n",
    "arr = np.array([10, 20, 30, 40, 50])\n",
    "\n",
    "# Select specific indices\n",
    "indices = [1, 3, 4]\n",
    "print(arr[indices])  # [20, 40, 50]\n",
    "\n",
    "# 2D example\n",
    "arr2d = np.array([[1, 2], [3, 4], [5, 6]])\n",
    "print(arr2d[[0, 2], [0, 1]])  # [1, 6] (selects (0,0) and (2,1))"
   ]
  },
  {
   "cell_type": "code",
   "execution_count": 147,
   "id": "a47beb88-d155-4dd0-848b-3ca3f6491e79",
   "metadata": {},
   "outputs": [
    {
     "name": "stdout",
     "output_type": "stream",
     "text": [
      "[[1 2 3]\n",
      " [7 8 9]]\n",
      "[[2 3]\n",
      " [5 6]\n",
      " [8 9]]\n"
     ]
    }
   ],
   "source": [
    "arr2d = np.array([[1, 2, 3], [4, 5, 6], [7, 8, 9]])\n",
    "\n",
    "# Combine slicing and fancy indexing\n",
    "print(arr2d[[0, 2], :])   # First and third rows, all columns\n",
    "print(arr2d[:, [1, 2]])   # All rows, second and third columns"
   ]
  },
  {
   "cell_type": "code",
   "execution_count": 148,
   "id": "b83470f5-9e5e-46b4-af39-0c509b393c3d",
   "metadata": {},
   "outputs": [
    {
     "name": "stdout",
     "output_type": "stream",
     "text": [
      "[ 1 99  3  4  5]\n",
      "[ 1 99  3  4  5]\n"
     ]
    }
   ],
   "source": [
    "#Views vs copies\n",
    "arr = np.array([1, 2, 3, 4, 5])\n",
    "\n",
    "# Slicing creates a view (modifying affects original)\n",
    "view = arr[1:4]\n",
    "view[0] = 99\n",
    "print(arr)  # [1, 99, 3, 4, 5]\n",
    "\n",
    "# Fancy indexing creates a copy\n",
    "copy = arr[[1, 3]]\n",
    "copy[0] = 100\n",
    "print(arr)  # Not modified → [1, 99, 3, 4, 5]"
   ]
  },
  {
   "cell_type": "code",
   "execution_count": 149,
   "id": "7a50e891-cc25-484f-bb9b-89419643893d",
   "metadata": {},
   "outputs": [
    {
     "name": "stdout",
     "output_type": "stream",
     "text": [
      "[4 5 6]\n",
      "[2 4 6 8]\n"
     ]
    }
   ],
   "source": [
    "#advanced boolean operations\n",
    "arr = np.array([1, 2, 3, 4, 5, 6, 7, 8, 9])\n",
    "\n",
    "# Multiple conditions\n",
    "condition = (arr > 3) & (arr < 7)\n",
    "print(arr[condition])  # [4, 5, 6]\n",
    "\n",
    "# Using np.where\n",
    "indices = np.where(arr % 2 == 0)\n",
    "print(arr[indices])    # Even numbers → [2, 4, 6, 8]"
   ]
  },
  {
   "cell_type": "code",
   "execution_count": 150,
   "id": "e65227f1-eb9c-4310-a4f4-c9afa607e2df",
   "metadata": {},
   "outputs": [
    {
     "name": "stdout",
     "output_type": "stream",
     "text": [
      "[[False False False]\n",
      " [False False  True]\n",
      " [ True  True  True]]\n",
      "[6 7 8 9]\n",
      "[[-1 -1 -1]\n",
      " [-1 -1  6]\n",
      " [ 7  8  9]]\n"
     ]
    }
   ],
   "source": [
    "# Multi-Dimensional Boolean indexing\n",
    "arr2d = np.array([[1, 2, 3], [4, 5, 6], [7, 8, 9]])\n",
    "\n",
    "# Boolean indexing with 2D arrays\n",
    "mask = arr2d > 5\n",
    "print(mask)\n",
    "print(arr2d[mask])  # Flattened result → [6, 7, 8, 9]\n",
    "\n",
    "# Preserve dimensions with np.where\n",
    "print(np.where(arr2d > 5, arr2d, -1))  # Replace values ≤5 with -1"
   ]
  },
  {
   "cell_type": "code",
   "execution_count": 151,
   "id": "e99a66ab-1bf9-4781-ba37-8ec46e38f0c9",
   "metadata": {},
   "outputs": [
    {
     "name": "stdout",
     "output_type": "stream",
     "text": [
      "[4 4 7]\n",
      "[[[4 4 7]]\n",
      "\n",
      " [[0 0 2]]\n",
      "\n",
      " [[5 7 1]]]\n"
     ]
    }
   ],
   "source": [
    "#Advanced 3D indexing Techniques\n",
    "arr3d = np.random.randint(0, 10, (3, 3, 3))\n",
    "\n",
    "# Indexing with arrays\n",
    "rows = np.array([0, 1, 2])\n",
    "cols = np.array([1, 2, 0])\n",
    "print(arr3d[0, rows, cols])  # First depth, then (0,1), (1,2), (2,0)\n",
    "\n",
    "# Combining with broadcasting\n",
    "depths = np.array([0, 1, 2])[:, np.newaxis, np.newaxis]\n",
    "print(arr3d[depths, rows, cols])  # Different depths for each selection"
   ]
  },
  {
   "cell_type": "code",
   "execution_count": 152,
   "id": "f14cc9dd-9373-4ff1-9a1e-3719a539b859",
   "metadata": {},
   "outputs": [
    {
     "name": "stdout",
     "output_type": "stream",
     "text": [
      "14.7 µs ± 450 ns per loop (mean ± std. dev. of 7 runs, 100,000 loops each)\n",
      "26.5 ms ± 1.02 ms per loop (mean ± std. dev. of 7 runs, 10 loops each)\n"
     ]
    }
   ],
   "source": [
    "#Finally Performance Considerations\n",
    "# Prefer views over copies when possible\n",
    "large_arr = np.random.rand(10000, 10000)\n",
    "\n",
    "# Fast - uses view\n",
    "slice_view = large_arr[:1000, :1000]\n",
    "\n",
    "# Slow - creates copy\n",
    "fancy_copy = large_arr[np.arange(1000), np.arange(1000)]\n",
    "\n",
    "# Use np.take for faster fancy indexing along axis\n",
    "%timeit large_arr[np.arange(1000), np.arange(1000)]\n",
    "%timeit np.take(large_arr, np.arange(1000), axis=0)"
   ]
  },
  {
   "cell_type": "markdown",
   "id": "798fbfa0-92a8-4278-a19e-e075769c46d6",
   "metadata": {},
   "source": [
    "# section 05_03 Modifying array elements"
   ]
  },
  {
   "cell_type": "code",
   "execution_count": 153,
   "id": "eab7164a-5f85-49ab-b192-cd5cd9d587db",
   "metadata": {},
   "outputs": [],
   "source": [
    "import numpy as np"
   ]
  },
  {
   "cell_type": "code",
   "execution_count": 154,
   "id": "2f941db6-8321-47a3-8a1e-2dd0cf85de59",
   "metadata": {},
   "outputs": [],
   "source": [
    "arr = np.arange(1, 6)"
   ]
  },
  {
   "cell_type": "code",
   "execution_count": 155,
   "id": "31b7dfd3-6b36-41c4-859b-8d1292d41351",
   "metadata": {},
   "outputs": [
    {
     "data": {
      "text/plain": [
       "array([1, 2, 3, 4, 5])"
      ]
     },
     "execution_count": 155,
     "metadata": {},
     "output_type": "execute_result"
    }
   ],
   "source": [
    "arr"
   ]
  },
  {
   "cell_type": "code",
   "execution_count": 156,
   "id": "f2261f78-29b4-4213-abff-8fb07d3b0be0",
   "metadata": {},
   "outputs": [
    {
     "data": {
      "text/plain": [
       "1"
      ]
     },
     "execution_count": 156,
     "metadata": {},
     "output_type": "execute_result"
    }
   ],
   "source": [
    "arr[0] "
   ]
  },
  {
   "cell_type": "code",
   "execution_count": 157,
   "id": "4fe79113-0a2e-4ad9-ad29-ff03f4c0ddde",
   "metadata": {},
   "outputs": [],
   "source": [
    "arr[0] = 100"
   ]
  },
  {
   "cell_type": "code",
   "execution_count": 158,
   "id": "e20acd57-3c41-46d1-9da2-7b14101135fc",
   "metadata": {},
   "outputs": [
    {
     "data": {
      "text/plain": [
       "array([100,   2,   3,   4,   5])"
      ]
     },
     "execution_count": 158,
     "metadata": {},
     "output_type": "execute_result"
    }
   ],
   "source": [
    "arr"
   ]
  },
  {
   "cell_type": "code",
   "execution_count": 159,
   "id": "dcdd1c4b-a119-4ef4-808c-e13612b3b558",
   "metadata": {},
   "outputs": [],
   "source": [
    "#Bulk modification\n",
    "arr[1:4] = [200, 300, 400]"
   ]
  },
  {
   "cell_type": "code",
   "execution_count": 160,
   "id": "410561f0-c3c9-4346-86a9-e186a595968b",
   "metadata": {},
   "outputs": [
    {
     "data": {
      "text/plain": [
       "array([100, 200, 300, 400,   5])"
      ]
     },
     "execution_count": 160,
     "metadata": {},
     "output_type": "execute_result"
    }
   ],
   "source": [
    "arr"
   ]
  },
  {
   "cell_type": "code",
   "execution_count": 161,
   "id": "43e6e93c-fa07-44c7-817d-d953087c80b2",
   "metadata": {},
   "outputs": [],
   "source": [
    "mylist = [1,2,3,4,5]\n"
   ]
  },
  {
   "cell_type": "code",
   "execution_count": 162,
   "id": "bf5f5fc0-585e-49b7-bc43-f19ddb5dda59",
   "metadata": {},
   "outputs": [],
   "source": [
    "mylist[1:4] = [200, 300, 400]"
   ]
  },
  {
   "cell_type": "code",
   "execution_count": 163,
   "id": "033b0147-806b-4f68-9134-42c250bdb4ce",
   "metadata": {},
   "outputs": [
    {
     "data": {
      "text/plain": [
       "[1, 200, 300, 400, 5]"
      ]
     },
     "execution_count": 163,
     "metadata": {},
     "output_type": "execute_result"
    }
   ],
   "source": [
    "mylist"
   ]
  },
  {
   "cell_type": "code",
   "execution_count": 164,
   "id": "38a152ad-415e-4647-8d06-d5c51a67d8e3",
   "metadata": {},
   "outputs": [
    {
     "data": {
      "text/plain": [
       "array([100, 200, 300, 400,   5])"
      ]
     },
     "execution_count": 164,
     "metadata": {},
     "output_type": "execute_result"
    }
   ],
   "source": [
    "arr"
   ]
  },
  {
   "cell_type": "markdown",
   "id": "bdd32784-7657-4084-b33e-d373b71fc032",
   "metadata": {},
   "source": [
    "# Important - Boolean masking "
   ]
  },
  {
   "cell_type": "code",
   "execution_count": 165,
   "id": "87fed761-d13c-4f15-8631-103460f74605",
   "metadata": {},
   "outputs": [
    {
     "ename": "ValueError",
     "evalue": "NumPy boolean array indexing assignment cannot assign 5 input values to the 3 output values where the mask is true",
     "output_type": "error",
     "traceback": [
      "\u001b[1;31m---------------------------------------------------------------------------\u001b[0m",
      "\u001b[1;31mValueError\u001b[0m                                Traceback (most recent call last)",
      "Cell \u001b[1;32mIn[165], line 1\u001b[0m\n\u001b[1;32m----> 1\u001b[0m \u001b[43marr\u001b[49m\u001b[43m[\u001b[49m\u001b[43marr\u001b[49m\u001b[38;5;241;43m>\u001b[39;49m\u001b[38;5;241;43m100\u001b[39;49m\u001b[43m]\u001b[49m \u001b[38;5;241m=\u001b[39m arr\u001b[38;5;241m/\u001b[39m\u001b[38;5;241m100\u001b[39m\n",
      "\u001b[1;31mValueError\u001b[0m: NumPy boolean array indexing assignment cannot assign 5 input values to the 3 output values where the mask is true"
     ]
    }
   ],
   "source": [
    "arr[arr>100] = arr/100"
   ]
  },
  {
   "cell_type": "code",
   "execution_count": 166,
   "id": "b71df726-e7f5-4a6a-8ae0-4c239e06292e",
   "metadata": {},
   "outputs": [],
   "source": [
    "arr[arr>100] = arr[arr>100]/100"
   ]
  },
  {
   "cell_type": "code",
   "execution_count": 169,
   "id": "425e413f-55d5-47c7-b31e-e5772aaca0e2",
   "metadata": {},
   "outputs": [],
   "source": [
    "arr = np.where(arr>99, arr/100, arr)"
   ]
  },
  {
   "cell_type": "code",
   "execution_count": 170,
   "id": "d66d7a2b-6c2a-44e0-948c-6e91645d0970",
   "metadata": {},
   "outputs": [
    {
     "data": {
      "text/plain": [
       "array([1., 2., 3., 4., 5.])"
      ]
     },
     "execution_count": 170,
     "metadata": {},
     "output_type": "execute_result"
    }
   ],
   "source": [
    "arr"
   ]
  },
  {
   "cell_type": "code",
   "execution_count": 171,
   "id": "593d3394-3076-4530-9ad4-707d1b70b9d1",
   "metadata": {},
   "outputs": [],
   "source": [
    "arr = np.where((arr>100) & (arr<200), arr/100, arr)"
   ]
  },
  {
   "cell_type": "code",
   "execution_count": 172,
   "id": "b01532bf-4c2d-4ae9-b3ec-836450dd4531",
   "metadata": {},
   "outputs": [],
   "source": [
    "arr[arr>4] = 999"
   ]
  },
  {
   "cell_type": "code",
   "execution_count": 173,
   "id": "d2e2147f-31ce-42cc-99d2-909121c65bdc",
   "metadata": {},
   "outputs": [
    {
     "data": {
      "text/plain": [
       "array([  1.,   2.,   3.,   4., 999.])"
      ]
     },
     "execution_count": 173,
     "metadata": {},
     "output_type": "execute_result"
    }
   ],
   "source": [
    "arr"
   ]
  },
  {
   "cell_type": "markdown",
   "id": "b8112c53-dfc2-46ab-acff-b720e1ac5809",
   "metadata": {},
   "source": [
    "##### Where modifications"
   ]
  },
  {
   "cell_type": "code",
   "execution_count": 174,
   "id": "8a23f9cb-9079-4c8f-a524-01c9f3593455",
   "metadata": {},
   "outputs": [
    {
     "data": {
      "text/plain": [
       "array([  1.,   2.,   3.,   4., 999.])"
      ]
     },
     "execution_count": 174,
     "metadata": {},
     "output_type": "execute_result"
    }
   ],
   "source": [
    "arr"
   ]
  },
  {
   "cell_type": "code",
   "execution_count": 175,
   "id": "0053ac36-c27e-41ca-b039-edf888f2f850",
   "metadata": {},
   "outputs": [],
   "source": [
    "arr = np.array([1,2,3,4,5])"
   ]
  },
  {
   "cell_type": "code",
   "execution_count": 176,
   "id": "0923254e-bf30-4b5d-b459-650e282838b9",
   "metadata": {},
   "outputs": [],
   "source": [
    "new_arr = np.where(arr>3, 100, arr)"
   ]
  },
  {
   "cell_type": "code",
   "execution_count": 177,
   "id": "a90d27b5-fec7-4e7a-b63a-84af221dfe46",
   "metadata": {},
   "outputs": [
    {
     "data": {
      "text/plain": [
       "array([  1,   2,   3, 100, 100])"
      ]
     },
     "execution_count": 177,
     "metadata": {},
     "output_type": "execute_result"
    }
   ],
   "source": [
    "new_arr"
   ]
  },
  {
   "cell_type": "code",
   "execution_count": 180,
   "id": "ec6e1bf7-e55b-467c-8148-af73350f1a21",
   "metadata": {},
   "outputs": [],
   "source": [
    "#inplace operations\n",
    "arr *= 2"
   ]
  },
  {
   "cell_type": "code",
   "execution_count": 181,
   "id": "f9540906-3c0c-4319-a0bd-57c35599426e",
   "metadata": {},
   "outputs": [
    {
     "data": {
      "text/plain": [
       "array([ 4,  8, 12, 16, 20])"
      ]
     },
     "execution_count": 181,
     "metadata": {},
     "output_type": "execute_result"
    }
   ],
   "source": [
    "arr"
   ]
  },
  {
   "cell_type": "code",
   "execution_count": 183,
   "id": "e2c1e1aa-c64b-472a-83e0-47224a3fbdab",
   "metadata": {},
   "outputs": [],
   "source": [
    "arr = np.clip(arr, 3, 8) #Values <3 become 3 > 8 become 8"
   ]
  },
  {
   "cell_type": "code",
   "execution_count": 184,
   "id": "1a189be0-5094-4a80-9726-28ee1444f22e",
   "metadata": {},
   "outputs": [
    {
     "data": {
      "text/plain": [
       "array([4, 8, 8, 8, 8])"
      ]
     },
     "execution_count": 184,
     "metadata": {},
     "output_type": "execute_result"
    }
   ],
   "source": [
    "arr"
   ]
  },
  {
   "cell_type": "code",
   "execution_count": 187,
   "id": "bc5488d3-d2ad-479a-80d6-0b5c288422c9",
   "metadata": {},
   "outputs": [],
   "source": [
    "arr = np.arange(1,6)*10"
   ]
  },
  {
   "cell_type": "code",
   "execution_count": 188,
   "id": "d21aa07e-c89b-426f-be51-1a6a8683f04a",
   "metadata": {},
   "outputs": [
    {
     "data": {
      "text/plain": [
       "array([10, 20, 30, 40, 50])"
      ]
     },
     "execution_count": 188,
     "metadata": {},
     "output_type": "execute_result"
    }
   ],
   "source": [
    "arr"
   ]
  },
  {
   "cell_type": "code",
   "execution_count": 189,
   "id": "3796129e-a15f-4770-a9cf-bce936823f2a",
   "metadata": {},
   "outputs": [],
   "source": [
    "indices = [0, 2, 4]"
   ]
  },
  {
   "cell_type": "code",
   "execution_count": 190,
   "id": "0d089e4f-a1af-42f8-af27-8fa8a541cb4d",
   "metadata": {},
   "outputs": [
    {
     "data": {
      "text/plain": [
       "array([-1, 20, -1, 40, -1])"
      ]
     },
     "execution_count": 190,
     "metadata": {},
     "output_type": "execute_result"
    }
   ],
   "source": [
    "arr[indices] = -1\n",
    "arr"
   ]
  },
  {
   "cell_type": "code",
   "execution_count": 200,
   "id": "c04f077f-fb26-4bf2-ae5a-e42f78f7dff1",
   "metadata": {},
   "outputs": [],
   "source": [
    "ind = [True, False, True, False, True]"
   ]
  },
  {
   "cell_type": "code",
   "execution_count": 201,
   "id": "e5d52841-892e-43ae-aafa-1432eb321a53",
   "metadata": {},
   "outputs": [],
   "source": [
    "arr[ind] = [10, 30, 50]"
   ]
  },
  {
   "cell_type": "code",
   "execution_count": 202,
   "id": "35a1efab-389e-43c1-a9d5-e01a15da3f72",
   "metadata": {},
   "outputs": [
    {
     "data": {
      "text/plain": [
       "array([10, 20, 30, 40, 50])"
      ]
     },
     "execution_count": 202,
     "metadata": {},
     "output_type": "execute_result"
    }
   ],
   "source": [
    "arr"
   ]
  },
  {
   "cell_type": "code",
   "execution_count": 203,
   "id": "47e73903-eee3-4fe8-9db4-59d824eb084f",
   "metadata": {},
   "outputs": [
    {
     "data": {
      "text/plain": [
       "array([10, 30, 50])"
      ]
     },
     "execution_count": 203,
     "metadata": {},
     "output_type": "execute_result"
    }
   ],
   "source": [
    "arr[ind]"
   ]
  },
  {
   "cell_type": "code",
   "execution_count": 209,
   "id": "d84f9dfe-ad5e-42fa-a84d-7755213b0531",
   "metadata": {},
   "outputs": [],
   "source": [
    "#using integer indices instead of boolean\n",
    "ind = [0,2,4]\n",
    "arr[ind] = [100, 300, 500]"
   ]
  },
  {
   "cell_type": "code",
   "execution_count": 210,
   "id": "3beed79f-b614-4d73-a94c-6cfe3323e6c5",
   "metadata": {},
   "outputs": [
    {
     "data": {
      "text/plain": [
       "array([100,  20, 300,  40, 500])"
      ]
     },
     "execution_count": 210,
     "metadata": {},
     "output_type": "execute_result"
    }
   ],
   "source": [
    "arr"
   ]
  },
  {
   "cell_type": "code",
   "execution_count": 211,
   "id": "20dc75a9-f329-4be4-843f-6f6e85dfb28b",
   "metadata": {},
   "outputs": [],
   "source": [
    "#selecting elements by value\n",
    "mask = arr > 25"
   ]
  },
  {
   "cell_type": "code",
   "execution_count": 212,
   "id": "2a48b319-a41c-474d-939f-7f4c400de0b4",
   "metadata": {},
   "outputs": [
    {
     "data": {
      "text/plain": [
       "array([ True, False,  True,  True,  True])"
      ]
     },
     "execution_count": 212,
     "metadata": {},
     "output_type": "execute_result"
    }
   ],
   "source": [
    "mask"
   ]
  },
  {
   "cell_type": "code",
   "execution_count": 213,
   "id": "d8cc5d97-d0ac-4204-8520-dec196780eb5",
   "metadata": {},
   "outputs": [],
   "source": [
    "arr[mask] = arr[mask] /100"
   ]
  },
  {
   "cell_type": "code",
   "execution_count": 216,
   "id": "5e27b572-f678-4a62-ac4f-9d6350b351e4",
   "metadata": {},
   "outputs": [],
   "source": [
    "arr = np.arange(1,6)"
   ]
  },
  {
   "cell_type": "code",
   "execution_count": 218,
   "id": "c0e55d9d-f4a1-48a1-96ec-efc756b2eeb4",
   "metadata": {},
   "outputs": [
    {
     "ename": "ValueError",
     "evalue": "NumPy boolean array indexing assignment cannot assign 4 input values to the 0 output values where the mask is true",
     "output_type": "error",
     "traceback": [
      "\u001b[1;31m---------------------------------------------------------------------------\u001b[0m",
      "\u001b[1;31mValueError\u001b[0m                                Traceback (most recent call last)",
      "Cell \u001b[1;32mIn[218], line 1\u001b[0m\n\u001b[1;32m----> 1\u001b[0m \u001b[43marr\u001b[49m\u001b[43m[\u001b[49m\u001b[43marr\u001b[49m\u001b[38;5;241;43m>\u001b[39;49m\u001b[38;5;241;43m25\u001b[39;49m\u001b[43m]\u001b[49m \u001b[38;5;241m=\u001b[39m arr[mask]\u001b[38;5;241m/\u001b[39m\u001b[38;5;241m100\u001b[39m\n",
      "\u001b[1;31mValueError\u001b[0m: NumPy boolean array indexing assignment cannot assign 4 input values to the 0 output values where the mask is true"
     ]
    }
   ],
   "source": [
    "arr[arr>25] = arr[mask]/100"
   ]
  },
  {
   "cell_type": "code",
   "execution_count": 219,
   "id": "56fede97-e7e9-4506-a8ee-abb3be69c544",
   "metadata": {},
   "outputs": [],
   "source": [
    "arr[arr>1] = arr[mask]+2"
   ]
  },
  {
   "cell_type": "code",
   "execution_count": 220,
   "id": "dfb6595f-520e-4397-a185-6d5a2eecf80e",
   "metadata": {},
   "outputs": [
    {
     "ename": "ValueError",
     "evalue": "NumPy boolean array indexing assignment cannot assign 4 input values to the 0 output values where the mask is true",
     "output_type": "error",
     "traceback": [
      "\u001b[1;31m---------------------------------------------------------------------------\u001b[0m",
      "\u001b[1;31mValueError\u001b[0m                                Traceback (most recent call last)",
      "Cell \u001b[1;32mIn[220], line 1\u001b[0m\n\u001b[1;32m----> 1\u001b[0m \u001b[43marr\u001b[49m\u001b[43m[\u001b[49m\u001b[43marr\u001b[49m\u001b[38;5;241;43m>\u001b[39;49m\u001b[38;5;241;43m25\u001b[39;49m\u001b[43m]\u001b[49m \u001b[38;5;241m=\u001b[39m arr[mask] \u001b[38;5;241m+\u001b[39m \u001b[38;5;241m2\u001b[39m\n",
      "\u001b[1;31mValueError\u001b[0m: NumPy boolean array indexing assignment cannot assign 4 input values to the 0 output values where the mask is true"
     ]
    }
   ],
   "source": [
    "arr[arr>25] = arr[mask] + 2"
   ]
  },
  {
   "cell_type": "code",
   "execution_count": 222,
   "id": "c5d569d3-d607-4712-a18b-a0cf9a759d6e",
   "metadata": {},
   "outputs": [],
   "source": [
    "if len(arr[arr>25]) >0:\n",
    "    arr[arr>25] = arr[mask] + 2"
   ]
  },
  {
   "cell_type": "code",
   "execution_count": 224,
   "id": "306f24ba-fc00-4071-8907-c0023be622dc",
   "metadata": {},
   "outputs": [
    {
     "name": "stdout",
     "output_type": "stream",
     "text": [
      "failure\n"
     ]
    }
   ],
   "source": [
    "try:\n",
    "    arr[arr>25] = arr[mask] + 2\n",
    "except:\n",
    "    print(\"failure\")"
   ]
  },
  {
   "cell_type": "code",
   "execution_count": 225,
   "id": "0242512e-d87b-4f96-aeb9-eec953f0b314",
   "metadata": {},
   "outputs": [
    {
     "name": "stdout",
     "output_type": "stream",
     "text": [
      "Error occurred: ValueError\n",
      "Message: NumPy boolean array indexing assignment cannot assign 4 input values to the 0 output values where the mask is true\n"
     ]
    }
   ],
   "source": [
    "try:\n",
    "    arr[arr>25] = arr[mask] + 2\n",
    "except Exception as e:\n",
    "    print(f\"Error occurred: {type(e).__name__}\")\n",
    "    print(f\"Message: {str(e)}\")"
   ]
  },
  {
   "cell_type": "raw",
   "id": "a3d00d58-a520-4797-848a-794ff85a916f",
   "metadata": {},
   "source": [
    "except IndexError as e:\n",
    "    print(\"Shape mismatch error - check your array dimensions\")\n",
    "except ValueError as e:\n",
    "    print(\"Value-related error - check your input values\")\n",
    "except TypeError as e:\n",
    "    print(\"Type-related error - check your data types\")\n",
    "except Exception as e:\n",
    "    print(f\"Unexpected error: {type(e).__name__}\")"
   ]
  },
  {
   "cell_type": "code",
   "execution_count": 226,
   "id": "d6feebc1-78ad-423e-bb0f-f45a160f96e1",
   "metadata": {},
   "outputs": [],
   "source": [
    "# Create two matching-length arrays\n",
    "data = np.array([5, 10, 15, 20, 25])\n",
    "mask = np.array([True, False, True, False, True])\n",
    "\n",
    "# Safe assignment\n",
    "data[mask] = [50, 150, 250]  # Assigns to positions 0, 2, 4\n",
    "\n",
    "# Conditional modification\n",
    "data[(data > 10) & (data < 30)] = 999"
   ]
  },
  {
   "cell_type": "code",
   "execution_count": 227,
   "id": "88f35aba-2cc8-4634-9b7e-a5852a096491",
   "metadata": {},
   "outputs": [
    {
     "data": {
      "text/plain": [
       "array([ 50,  10, 150, 999, 250])"
      ]
     },
     "execution_count": 227,
     "metadata": {},
     "output_type": "execute_result"
    }
   ],
   "source": [
    "data"
   ]
  },
  {
   "cell_type": "markdown",
   "id": "f03d164d-a7a3-42b6-ae14-6b06621e721e",
   "metadata": {},
   "source": [
    "# Section 06 01 "
   ]
  },
  {
   "cell_type": "markdown",
   "id": "eb732285-d92b-49bb-91b3-e41b515662d5",
   "metadata": {},
   "source": [
    "##### NumPy Array Arithmetic Operations (+, -, *, /, //, %, **)"
   ]
  },
  {
   "cell_type": "code",
   "execution_count": 228,
   "id": "d8f67cf7-770e-4aab-90bc-5dfcfe8eeb86",
   "metadata": {},
   "outputs": [],
   "source": [
    "import numpy as np"
   ]
  },
  {
   "cell_type": "code",
   "execution_count": 229,
   "id": "72863d5e-84db-44e7-8e93-2418a5af240a",
   "metadata": {},
   "outputs": [],
   "source": [
    "a = np.array([1,2,3])\n",
    "b = np.array([4,5,6])\n",
    "l1 = [1,2,3]\n",
    "l2 = [4,5,6]\n",
    "t1 = (1,2,3)\n",
    "t2 = (4,5,6)\n",
    "set1 = {1,2,3}\n",
    "set2 = {4,5,6}\n",
    "dict1 = {'a':1, 'b':2, 'c':3}\n",
    "dict2 = {'a':1, 'b':2, 'c':3}"
   ]
  },
  {
   "cell_type": "code",
   "execution_count": 241,
   "id": "aa7a3716-e1b7-42fe-b7f5-00a0525f0dc7",
   "metadata": {},
   "outputs": [],
   "source": [
    "def ops1(a, b):\n",
    "    print(f\"{a} + {b} = {a + b} # {a[0]} + {b[0]}\")\n",
    "    print(f\"{a} - {b} = {a - b}\")\n",
    "    print(f\"{a} * {b} = {a * b}\")\n",
    "    print(f\"{a} / {b} = {a / b}\")\n",
    "    print(f\"{a} // {b} = {a // b}\")\n",
    "    print(f\"{a} % {b} = {a % b}\")\n",
    "    print(f\"{a} ** {b} = {a ** b}\")\n",
    "    #+, -, *, /, //, %, **"
   ]
  },
  {
   "cell_type": "code",
   "execution_count": 242,
   "id": "e90036a2-168e-4aca-8d94-d2b5904c85d9",
   "metadata": {},
   "outputs": [
    {
     "name": "stdout",
     "output_type": "stream",
     "text": [
      "[1 2 3] + [4 5 6] = [5 7 9] # 1 + 4\n",
      "[1 2 3] - [4 5 6] = [-3 -3 -3]\n",
      "[1 2 3] * [4 5 6] = [ 4 10 18]\n",
      "[1 2 3] / [4 5 6] = [0.25 0.4  0.5 ]\n",
      "[1 2 3] // [4 5 6] = [0 0 0]\n",
      "[1 2 3] % [4 5 6] = [1 2 3]\n",
      "[1 2 3] ** [4 5 6] = [  1  32 729]\n"
     ]
    }
   ],
   "source": [
    "ops1(a, b)"
   ]
  },
  {
   "cell_type": "code",
   "execution_count": 236,
   "id": "3d61c9b0-24da-4198-8d5b-e31411e722a2",
   "metadata": {},
   "outputs": [
    {
     "data": {
      "text/plain": [
       "729"
      ]
     },
     "execution_count": 236,
     "metadata": {},
     "output_type": "execute_result"
    }
   ],
   "source": [
    "3*3*3*3*3*3"
   ]
  },
  {
   "cell_type": "code",
   "execution_count": 243,
   "id": "74980e33-6513-4488-996e-40ed8f9efa23",
   "metadata": {},
   "outputs": [
    {
     "name": "stdout",
     "output_type": "stream",
     "text": [
      "[1, 2, 3] + [4, 5, 6] = [1, 2, 3, 4, 5, 6] # 1 + 4\n"
     ]
    },
    {
     "ename": "TypeError",
     "evalue": "unsupported operand type(s) for -: 'list' and 'list'",
     "output_type": "error",
     "traceback": [
      "\u001b[1;31m---------------------------------------------------------------------------\u001b[0m",
      "\u001b[1;31mTypeError\u001b[0m                                 Traceback (most recent call last)",
      "Cell \u001b[1;32mIn[243], line 1\u001b[0m\n\u001b[1;32m----> 1\u001b[0m \u001b[43mops1\u001b[49m\u001b[43m(\u001b[49m\u001b[43ml1\u001b[49m\u001b[43m,\u001b[49m\u001b[43m \u001b[49m\u001b[43ml2\u001b[49m\u001b[43m)\u001b[49m\n",
      "Cell \u001b[1;32mIn[241], line 3\u001b[0m, in \u001b[0;36mops1\u001b[1;34m(a, b)\u001b[0m\n\u001b[0;32m      1\u001b[0m \u001b[38;5;28;01mdef\u001b[39;00m \u001b[38;5;21mops1\u001b[39m(a, b):\n\u001b[0;32m      2\u001b[0m     \u001b[38;5;28mprint\u001b[39m(\u001b[38;5;124mf\u001b[39m\u001b[38;5;124m\"\u001b[39m\u001b[38;5;132;01m{\u001b[39;00ma\u001b[38;5;132;01m}\u001b[39;00m\u001b[38;5;124m + \u001b[39m\u001b[38;5;132;01m{\u001b[39;00mb\u001b[38;5;132;01m}\u001b[39;00m\u001b[38;5;124m = \u001b[39m\u001b[38;5;132;01m{\u001b[39;00ma\u001b[38;5;250m \u001b[39m\u001b[38;5;241m+\u001b[39m\u001b[38;5;250m \u001b[39mb\u001b[38;5;132;01m}\u001b[39;00m\u001b[38;5;124m # \u001b[39m\u001b[38;5;132;01m{\u001b[39;00ma[\u001b[38;5;241m0\u001b[39m]\u001b[38;5;132;01m}\u001b[39;00m\u001b[38;5;124m + \u001b[39m\u001b[38;5;132;01m{\u001b[39;00mb[\u001b[38;5;241m0\u001b[39m]\u001b[38;5;132;01m}\u001b[39;00m\u001b[38;5;124m\"\u001b[39m)\n\u001b[1;32m----> 3\u001b[0m     \u001b[38;5;28mprint\u001b[39m(\u001b[38;5;124mf\u001b[39m\u001b[38;5;124m\"\u001b[39m\u001b[38;5;132;01m{\u001b[39;00ma\u001b[38;5;132;01m}\u001b[39;00m\u001b[38;5;124m - \u001b[39m\u001b[38;5;132;01m{\u001b[39;00mb\u001b[38;5;132;01m}\u001b[39;00m\u001b[38;5;124m = \u001b[39m\u001b[38;5;132;01m{\u001b[39;00m\u001b[43ma\u001b[49m\u001b[38;5;250;43m \u001b[39;49m\u001b[38;5;241;43m-\u001b[39;49m\u001b[38;5;250;43m \u001b[39;49m\u001b[43mb\u001b[49m\u001b[38;5;132;01m}\u001b[39;00m\u001b[38;5;124m\"\u001b[39m)\n\u001b[0;32m      4\u001b[0m     \u001b[38;5;28mprint\u001b[39m(\u001b[38;5;124mf\u001b[39m\u001b[38;5;124m\"\u001b[39m\u001b[38;5;132;01m{\u001b[39;00ma\u001b[38;5;132;01m}\u001b[39;00m\u001b[38;5;124m * \u001b[39m\u001b[38;5;132;01m{\u001b[39;00mb\u001b[38;5;132;01m}\u001b[39;00m\u001b[38;5;124m = \u001b[39m\u001b[38;5;132;01m{\u001b[39;00ma\u001b[38;5;250m \u001b[39m\u001b[38;5;241m*\u001b[39m\u001b[38;5;250m \u001b[39mb\u001b[38;5;132;01m}\u001b[39;00m\u001b[38;5;124m\"\u001b[39m)\n\u001b[0;32m      5\u001b[0m     \u001b[38;5;28mprint\u001b[39m(\u001b[38;5;124mf\u001b[39m\u001b[38;5;124m\"\u001b[39m\u001b[38;5;132;01m{\u001b[39;00ma\u001b[38;5;132;01m}\u001b[39;00m\u001b[38;5;124m / \u001b[39m\u001b[38;5;132;01m{\u001b[39;00mb\u001b[38;5;132;01m}\u001b[39;00m\u001b[38;5;124m = \u001b[39m\u001b[38;5;132;01m{\u001b[39;00ma\u001b[38;5;250m \u001b[39m\u001b[38;5;241m/\u001b[39m\u001b[38;5;250m \u001b[39mb\u001b[38;5;132;01m}\u001b[39;00m\u001b[38;5;124m\"\u001b[39m)\n",
      "\u001b[1;31mTypeError\u001b[0m: unsupported operand type(s) for -: 'list' and 'list'"
     ]
    }
   ],
   "source": [
    "ops1(l1, l2)"
   ]
  },
  {
   "cell_type": "code",
   "execution_count": 244,
   "id": "b7dc5bdb-f7ed-4ba2-92c3-2e6aa2cde429",
   "metadata": {},
   "outputs": [
    {
     "data": {
      "text/plain": [
       "[1, 2, 3, 4, 5, 6]"
      ]
     },
     "execution_count": 244,
     "metadata": {},
     "output_type": "execute_result"
    }
   ],
   "source": [
    "l1 + l2"
   ]
  },
  {
   "cell_type": "code",
   "execution_count": 246,
   "id": "902ab5cb-117a-4fb9-8061-6331ce2b1be3",
   "metadata": {},
   "outputs": [
    {
     "ename": "TypeError",
     "evalue": "unsupported operand type(s) for -: 'list' and 'list'",
     "output_type": "error",
     "traceback": [
      "\u001b[1;31m---------------------------------------------------------------------------\u001b[0m",
      "\u001b[1;31mTypeError\u001b[0m                                 Traceback (most recent call last)",
      "Cell \u001b[1;32mIn[246], line 1\u001b[0m\n\u001b[1;32m----> 1\u001b[0m \u001b[43ml1\u001b[49m\u001b[43m \u001b[49m\u001b[38;5;241;43m-\u001b[39;49m\u001b[43m \u001b[49m\u001b[43ml2\u001b[49m\n",
      "\u001b[1;31mTypeError\u001b[0m: unsupported operand type(s) for -: 'list' and 'list'"
     ]
    }
   ],
   "source": [
    "l1 - l2"
   ]
  },
  {
   "cell_type": "code",
   "execution_count": 247,
   "id": "dfe59523-ba88-4acf-954e-0134e81b97f1",
   "metadata": {},
   "outputs": [
    {
     "name": "stdout",
     "output_type": "stream",
     "text": [
      "(1, 2, 3) + (4, 5, 6) = (1, 2, 3, 4, 5, 6) # 1 + 4\n"
     ]
    },
    {
     "ename": "TypeError",
     "evalue": "unsupported operand type(s) for -: 'tuple' and 'tuple'",
     "output_type": "error",
     "traceback": [
      "\u001b[1;31m---------------------------------------------------------------------------\u001b[0m",
      "\u001b[1;31mTypeError\u001b[0m                                 Traceback (most recent call last)",
      "Cell \u001b[1;32mIn[247], line 1\u001b[0m\n\u001b[1;32m----> 1\u001b[0m \u001b[43mops1\u001b[49m\u001b[43m(\u001b[49m\u001b[43mt1\u001b[49m\u001b[43m,\u001b[49m\u001b[43m \u001b[49m\u001b[43mt2\u001b[49m\u001b[43m)\u001b[49m\n",
      "Cell \u001b[1;32mIn[241], line 3\u001b[0m, in \u001b[0;36mops1\u001b[1;34m(a, b)\u001b[0m\n\u001b[0;32m      1\u001b[0m \u001b[38;5;28;01mdef\u001b[39;00m \u001b[38;5;21mops1\u001b[39m(a, b):\n\u001b[0;32m      2\u001b[0m     \u001b[38;5;28mprint\u001b[39m(\u001b[38;5;124mf\u001b[39m\u001b[38;5;124m\"\u001b[39m\u001b[38;5;132;01m{\u001b[39;00ma\u001b[38;5;132;01m}\u001b[39;00m\u001b[38;5;124m + \u001b[39m\u001b[38;5;132;01m{\u001b[39;00mb\u001b[38;5;132;01m}\u001b[39;00m\u001b[38;5;124m = \u001b[39m\u001b[38;5;132;01m{\u001b[39;00ma\u001b[38;5;250m \u001b[39m\u001b[38;5;241m+\u001b[39m\u001b[38;5;250m \u001b[39mb\u001b[38;5;132;01m}\u001b[39;00m\u001b[38;5;124m # \u001b[39m\u001b[38;5;132;01m{\u001b[39;00ma[\u001b[38;5;241m0\u001b[39m]\u001b[38;5;132;01m}\u001b[39;00m\u001b[38;5;124m + \u001b[39m\u001b[38;5;132;01m{\u001b[39;00mb[\u001b[38;5;241m0\u001b[39m]\u001b[38;5;132;01m}\u001b[39;00m\u001b[38;5;124m\"\u001b[39m)\n\u001b[1;32m----> 3\u001b[0m     \u001b[38;5;28mprint\u001b[39m(\u001b[38;5;124mf\u001b[39m\u001b[38;5;124m\"\u001b[39m\u001b[38;5;132;01m{\u001b[39;00ma\u001b[38;5;132;01m}\u001b[39;00m\u001b[38;5;124m - \u001b[39m\u001b[38;5;132;01m{\u001b[39;00mb\u001b[38;5;132;01m}\u001b[39;00m\u001b[38;5;124m = \u001b[39m\u001b[38;5;132;01m{\u001b[39;00m\u001b[43ma\u001b[49m\u001b[38;5;250;43m \u001b[39;49m\u001b[38;5;241;43m-\u001b[39;49m\u001b[38;5;250;43m \u001b[39;49m\u001b[43mb\u001b[49m\u001b[38;5;132;01m}\u001b[39;00m\u001b[38;5;124m\"\u001b[39m)\n\u001b[0;32m      4\u001b[0m     \u001b[38;5;28mprint\u001b[39m(\u001b[38;5;124mf\u001b[39m\u001b[38;5;124m\"\u001b[39m\u001b[38;5;132;01m{\u001b[39;00ma\u001b[38;5;132;01m}\u001b[39;00m\u001b[38;5;124m * \u001b[39m\u001b[38;5;132;01m{\u001b[39;00mb\u001b[38;5;132;01m}\u001b[39;00m\u001b[38;5;124m = \u001b[39m\u001b[38;5;132;01m{\u001b[39;00ma\u001b[38;5;250m \u001b[39m\u001b[38;5;241m*\u001b[39m\u001b[38;5;250m \u001b[39mb\u001b[38;5;132;01m}\u001b[39;00m\u001b[38;5;124m\"\u001b[39m)\n\u001b[0;32m      5\u001b[0m     \u001b[38;5;28mprint\u001b[39m(\u001b[38;5;124mf\u001b[39m\u001b[38;5;124m\"\u001b[39m\u001b[38;5;132;01m{\u001b[39;00ma\u001b[38;5;132;01m}\u001b[39;00m\u001b[38;5;124m / \u001b[39m\u001b[38;5;132;01m{\u001b[39;00mb\u001b[38;5;132;01m}\u001b[39;00m\u001b[38;5;124m = \u001b[39m\u001b[38;5;132;01m{\u001b[39;00ma\u001b[38;5;250m \u001b[39m\u001b[38;5;241m/\u001b[39m\u001b[38;5;250m \u001b[39mb\u001b[38;5;132;01m}\u001b[39;00m\u001b[38;5;124m\"\u001b[39m)\n",
      "\u001b[1;31mTypeError\u001b[0m: unsupported operand type(s) for -: 'tuple' and 'tuple'"
     ]
    }
   ],
   "source": [
    "ops1(t1, t2)"
   ]
  },
  {
   "cell_type": "code",
   "execution_count": 248,
   "id": "2764ecbe-b1f2-4ab8-8602-f6c0ace5971e",
   "metadata": {},
   "outputs": [
    {
     "ename": "TypeError",
     "evalue": "unsupported operand type(s) for +: 'set' and 'set'",
     "output_type": "error",
     "traceback": [
      "\u001b[1;31m---------------------------------------------------------------------------\u001b[0m",
      "\u001b[1;31mTypeError\u001b[0m                                 Traceback (most recent call last)",
      "Cell \u001b[1;32mIn[248], line 1\u001b[0m\n\u001b[1;32m----> 1\u001b[0m \u001b[43mops1\u001b[49m\u001b[43m(\u001b[49m\u001b[43mset1\u001b[49m\u001b[43m,\u001b[49m\u001b[43m \u001b[49m\u001b[43mset2\u001b[49m\u001b[43m)\u001b[49m\n",
      "Cell \u001b[1;32mIn[241], line 2\u001b[0m, in \u001b[0;36mops1\u001b[1;34m(a, b)\u001b[0m\n\u001b[0;32m      1\u001b[0m \u001b[38;5;28;01mdef\u001b[39;00m \u001b[38;5;21mops1\u001b[39m(a, b):\n\u001b[1;32m----> 2\u001b[0m     \u001b[38;5;28mprint\u001b[39m(\u001b[38;5;124mf\u001b[39m\u001b[38;5;124m\"\u001b[39m\u001b[38;5;132;01m{\u001b[39;00ma\u001b[38;5;132;01m}\u001b[39;00m\u001b[38;5;124m + \u001b[39m\u001b[38;5;132;01m{\u001b[39;00mb\u001b[38;5;132;01m}\u001b[39;00m\u001b[38;5;124m = \u001b[39m\u001b[38;5;132;01m{\u001b[39;00m\u001b[43ma\u001b[49m\u001b[38;5;250;43m \u001b[39;49m\u001b[38;5;241;43m+\u001b[39;49m\u001b[38;5;250;43m \u001b[39;49m\u001b[43mb\u001b[49m\u001b[38;5;132;01m}\u001b[39;00m\u001b[38;5;124m # \u001b[39m\u001b[38;5;132;01m{\u001b[39;00ma[\u001b[38;5;241m0\u001b[39m]\u001b[38;5;132;01m}\u001b[39;00m\u001b[38;5;124m + \u001b[39m\u001b[38;5;132;01m{\u001b[39;00mb[\u001b[38;5;241m0\u001b[39m]\u001b[38;5;132;01m}\u001b[39;00m\u001b[38;5;124m\"\u001b[39m)\n\u001b[0;32m      3\u001b[0m     \u001b[38;5;28mprint\u001b[39m(\u001b[38;5;124mf\u001b[39m\u001b[38;5;124m\"\u001b[39m\u001b[38;5;132;01m{\u001b[39;00ma\u001b[38;5;132;01m}\u001b[39;00m\u001b[38;5;124m - \u001b[39m\u001b[38;5;132;01m{\u001b[39;00mb\u001b[38;5;132;01m}\u001b[39;00m\u001b[38;5;124m = \u001b[39m\u001b[38;5;132;01m{\u001b[39;00ma\u001b[38;5;250m \u001b[39m\u001b[38;5;241m-\u001b[39m\u001b[38;5;250m \u001b[39mb\u001b[38;5;132;01m}\u001b[39;00m\u001b[38;5;124m\"\u001b[39m)\n\u001b[0;32m      4\u001b[0m     \u001b[38;5;28mprint\u001b[39m(\u001b[38;5;124mf\u001b[39m\u001b[38;5;124m\"\u001b[39m\u001b[38;5;132;01m{\u001b[39;00ma\u001b[38;5;132;01m}\u001b[39;00m\u001b[38;5;124m * \u001b[39m\u001b[38;5;132;01m{\u001b[39;00mb\u001b[38;5;132;01m}\u001b[39;00m\u001b[38;5;124m = \u001b[39m\u001b[38;5;132;01m{\u001b[39;00ma\u001b[38;5;250m \u001b[39m\u001b[38;5;241m*\u001b[39m\u001b[38;5;250m \u001b[39mb\u001b[38;5;132;01m}\u001b[39;00m\u001b[38;5;124m\"\u001b[39m)\n",
      "\u001b[1;31mTypeError\u001b[0m: unsupported operand type(s) for +: 'set' and 'set'"
     ]
    }
   ],
   "source": [
    "ops1(set1, set2)"
   ]
  },
  {
   "cell_type": "code",
   "execution_count": 249,
   "id": "2139a8f3-ea8c-4c48-88f3-954575e5469e",
   "metadata": {},
   "outputs": [
    {
     "ename": "TypeError",
     "evalue": "unsupported operand type(s) for +: 'set' and 'set'",
     "output_type": "error",
     "traceback": [
      "\u001b[1;31m---------------------------------------------------------------------------\u001b[0m",
      "\u001b[1;31mTypeError\u001b[0m                                 Traceback (most recent call last)",
      "Cell \u001b[1;32mIn[249], line 1\u001b[0m\n\u001b[1;32m----> 1\u001b[0m \u001b[43mset1\u001b[49m\u001b[43m \u001b[49m\u001b[38;5;241;43m+\u001b[39;49m\u001b[43m \u001b[49m\u001b[43mset2\u001b[49m\n",
      "\u001b[1;31mTypeError\u001b[0m: unsupported operand type(s) for +: 'set' and 'set'"
     ]
    }
   ],
   "source": [
    "set1 + set2"
   ]
  },
  {
   "cell_type": "code",
   "execution_count": 250,
   "id": "0be63d58-af7c-4fc6-b1a0-731bf80863fd",
   "metadata": {},
   "outputs": [
    {
     "ename": "TypeError",
     "evalue": "unsupported operand type(s) for +: 'dict' and 'dict'",
     "output_type": "error",
     "traceback": [
      "\u001b[1;31m---------------------------------------------------------------------------\u001b[0m",
      "\u001b[1;31mTypeError\u001b[0m                                 Traceback (most recent call last)",
      "Cell \u001b[1;32mIn[250], line 1\u001b[0m\n\u001b[1;32m----> 1\u001b[0m \u001b[43mops1\u001b[49m\u001b[43m(\u001b[49m\u001b[43mdict1\u001b[49m\u001b[43m,\u001b[49m\u001b[43m \u001b[49m\u001b[43mdict2\u001b[49m\u001b[43m)\u001b[49m\n",
      "Cell \u001b[1;32mIn[241], line 2\u001b[0m, in \u001b[0;36mops1\u001b[1;34m(a, b)\u001b[0m\n\u001b[0;32m      1\u001b[0m \u001b[38;5;28;01mdef\u001b[39;00m \u001b[38;5;21mops1\u001b[39m(a, b):\n\u001b[1;32m----> 2\u001b[0m     \u001b[38;5;28mprint\u001b[39m(\u001b[38;5;124mf\u001b[39m\u001b[38;5;124m\"\u001b[39m\u001b[38;5;132;01m{\u001b[39;00ma\u001b[38;5;132;01m}\u001b[39;00m\u001b[38;5;124m + \u001b[39m\u001b[38;5;132;01m{\u001b[39;00mb\u001b[38;5;132;01m}\u001b[39;00m\u001b[38;5;124m = \u001b[39m\u001b[38;5;132;01m{\u001b[39;00m\u001b[43ma\u001b[49m\u001b[38;5;250;43m \u001b[39;49m\u001b[38;5;241;43m+\u001b[39;49m\u001b[38;5;250;43m \u001b[39;49m\u001b[43mb\u001b[49m\u001b[38;5;132;01m}\u001b[39;00m\u001b[38;5;124m # \u001b[39m\u001b[38;5;132;01m{\u001b[39;00ma[\u001b[38;5;241m0\u001b[39m]\u001b[38;5;132;01m}\u001b[39;00m\u001b[38;5;124m + \u001b[39m\u001b[38;5;132;01m{\u001b[39;00mb[\u001b[38;5;241m0\u001b[39m]\u001b[38;5;132;01m}\u001b[39;00m\u001b[38;5;124m\"\u001b[39m)\n\u001b[0;32m      3\u001b[0m     \u001b[38;5;28mprint\u001b[39m(\u001b[38;5;124mf\u001b[39m\u001b[38;5;124m\"\u001b[39m\u001b[38;5;132;01m{\u001b[39;00ma\u001b[38;5;132;01m}\u001b[39;00m\u001b[38;5;124m - \u001b[39m\u001b[38;5;132;01m{\u001b[39;00mb\u001b[38;5;132;01m}\u001b[39;00m\u001b[38;5;124m = \u001b[39m\u001b[38;5;132;01m{\u001b[39;00ma\u001b[38;5;250m \u001b[39m\u001b[38;5;241m-\u001b[39m\u001b[38;5;250m \u001b[39mb\u001b[38;5;132;01m}\u001b[39;00m\u001b[38;5;124m\"\u001b[39m)\n\u001b[0;32m      4\u001b[0m     \u001b[38;5;28mprint\u001b[39m(\u001b[38;5;124mf\u001b[39m\u001b[38;5;124m\"\u001b[39m\u001b[38;5;132;01m{\u001b[39;00ma\u001b[38;5;132;01m}\u001b[39;00m\u001b[38;5;124m * \u001b[39m\u001b[38;5;132;01m{\u001b[39;00mb\u001b[38;5;132;01m}\u001b[39;00m\u001b[38;5;124m = \u001b[39m\u001b[38;5;132;01m{\u001b[39;00ma\u001b[38;5;250m \u001b[39m\u001b[38;5;241m*\u001b[39m\u001b[38;5;250m \u001b[39mb\u001b[38;5;132;01m}\u001b[39;00m\u001b[38;5;124m\"\u001b[39m)\n",
      "\u001b[1;31mTypeError\u001b[0m: unsupported operand type(s) for +: 'dict' and 'dict'"
     ]
    }
   ],
   "source": [
    "ops1(dict1, dict2)"
   ]
  },
  {
   "cell_type": "code",
   "execution_count": 255,
   "id": "a025079f-cce2-429e-bd52-44830bb0d3c5",
   "metadata": {},
   "outputs": [],
   "source": [
    "def ops2(a, b):\n",
    "    print(f\"{a} + {b} = {a + b} # {a[0]} + {b[0]}, {a[1]} + {b[1]}, {a[2]} + {b[2]} \")\n",
    "    print(f\"{a} - {b} = {a - b}  # {a[0]} - {b[0]}, {a[1]} - {b[1]}, {a[2]} - {b[2]} \")\n",
    "    print(f\"{a} * {b} = {a * b}  # {a[0]} * {b[0]}, {a[1]} * {b[1]}, {a[2]} * {b[2]} \")\n",
    "    print(f\"{a} / {b} = {a / b}  # {a[0]} / {b[0]}, {a[1]} / {b[1]}, {a[2]} / {b[2]} \" )\n",
    "    print(f\"{a} // {b} = {a // b}  # {a[0]} // {b[0]}, {a[1]} //{b[1]}, {a[2]} // {b[2]} \")\n",
    "    print(f\"{a} % {b} = {a % b}  # {a[0]} % {b[0]}, {a[1]} % {b[1]}, {a[2]}  % {b[2]} \")\n",
    "    print(f\"{a} ** {b} = {a ** b}  # {a[0]} ** {b[0]}, {a[1]} ** {b[1]}, {a[2]} ** {b[2]} \")\n",
    "    print(f\"{a} ^ {b} = {a ^ b}  # {a[0]} ^ {b[0]}, {a[1]} ^ {b[1]}, {a[2]} ^ {b[2]} \")\n",
    "    #+, -, *, /, //, %, **"
   ]
  },
  {
   "cell_type": "code",
   "execution_count": 257,
   "id": "e1c4d5c5-63fa-4a70-9eba-472d76671578",
   "metadata": {},
   "outputs": [
    {
     "name": "stdout",
     "output_type": "stream",
     "text": [
      "[1 2 3] + [4 5 6] = [5 7 9] # 1 + 4, 2 + 5, 3 + 6 \n",
      "[1 2 3] - [4 5 6] = [-3 -3 -3]  # 1 - 4, 2 - 5, 3 - 6 \n",
      "[1 2 3] * [4 5 6] = [ 4 10 18]  # 1 * 4, 2 * 5, 3 * 6 \n",
      "[1 2 3] / [4 5 6] = [0.25 0.4  0.5 ]  # 1 / 4, 2 / 5, 3 / 6 \n",
      "[1 2 3] // [4 5 6] = [0 0 0]  # 1 // 4, 2 //5, 3 // 6 \n",
      "[1 2 3] % [4 5 6] = [1 2 3]  # 1 % 4, 2 % 5, 3  % 6 \n",
      "[1 2 3] ** [4 5 6] = [  1  32 729]  # 1 ** 4, 2 ** 5, 3 ** 6 \n",
      "[1 2 3] ^ [4 5 6] = [5 7 5]  # 1 ^ 4, 2 ^ 5, 3 ^ 6 \n"
     ]
    }
   ],
   "source": [
    "ops2(a, b)"
   ]
  },
  {
   "cell_type": "code",
   "execution_count": null,
   "id": "e1d86c04-f18b-46c1-aa15-e10aa0845368",
   "metadata": {},
   "outputs": [],
   "source": []
  }
 ],
 "metadata": {
  "kernelspec": {
   "display_name": "Python 3 (ipykernel)",
   "language": "python",
   "name": "python3"
  },
  "language_info": {
   "codemirror_mode": {
    "name": "ipython",
    "version": 3
   },
   "file_extension": ".py",
   "mimetype": "text/x-python",
   "name": "python",
   "nbconvert_exporter": "python",
   "pygments_lexer": "ipython3",
   "version": "3.11.4"
  }
 },
 "nbformat": 4,
 "nbformat_minor": 5
}
