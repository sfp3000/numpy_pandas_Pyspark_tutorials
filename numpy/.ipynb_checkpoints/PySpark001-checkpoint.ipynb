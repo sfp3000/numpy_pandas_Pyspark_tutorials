{
 "cells": [
  {
   "cell_type": "markdown",
   "id": "26f2be83-501c-4651-9011-962d8a05c78c",
   "metadata": {},
   "source": [
    "# Section 10 Pyspark"
   ]
  },
  {
   "cell_type": "markdown",
   "id": "fc46f4e7-5d24-4cd0-a512-2bef47339262",
   "metadata": {},
   "source": [
    "##### PySpark Overview, Setup, starting first spark session"
   ]
  },
  {
   "cell_type": "code",
   "execution_count": 2,
   "id": "c94149d3-fb6c-4ac2-82b0-7f8be2511400",
   "metadata": {},
   "outputs": [
    {
     "name": "stdout",
     "output_type": "stream",
     "text": [
      "Python 3.13.3\n"
     ]
    }
   ],
   "source": [
    "!python --version"
   ]
  },
  {
   "cell_type": "code",
   "execution_count": 3,
   "id": "569e378d-a1ff-4b8e-aa06-6c2ff6e0269f",
   "metadata": {},
   "outputs": [
    {
     "name": "stdout",
     "output_type": "stream",
     "text": [
      "Python 3.13.3\n"
     ]
    }
   ],
   "source": [
    "!python --version"
   ]
  },
  {
   "cell_type": "code",
   "execution_count": 4,
   "id": "5542b798-6c9d-45b8-bab1-a739849b13f6",
   "metadata": {},
   "outputs": [
    {
     "name": "stdout",
     "output_type": "stream",
     "text": [
      "pip 25.1.1 from C:\\Users\\saad\\AppData\\Roaming\\Python\\Python313\\site-packages\\pip (python 3.13)\n",
      "\n"
     ]
    }
   ],
   "source": [
    "!pip --version"
   ]
  },
  {
   "cell_type": "code",
   "execution_count": 6,
   "id": "3db0f8ad-4450-4ff8-ba49-94dfe65ecf43",
   "metadata": {},
   "outputs": [],
   "source": [
    "#!pip install findspark\n",
    "#!pip install pyspark"
   ]
  },
  {
   "cell_type": "markdown",
   "id": "9af70ecd-1cc1-4572-9248-22c33c72a84f",
   "metadata": {},
   "source": [
    "#### Return"
   ]
  },
  {
   "cell_type": "code",
   "execution_count": 7,
   "id": "c2b406d1-ebad-49ae-9f52-e3706a9ec96a",
   "metadata": {},
   "outputs": [
    {
     "data": {
      "text/plain": [
       "True"
      ]
     },
     "execution_count": 7,
     "metadata": {},
     "output_type": "execute_result"
    }
   ],
   "source": [
    "1>0"
   ]
  },
  {
   "cell_type": "code",
   "execution_count": 8,
   "id": "c2399d0d-5ec6-4460-b18e-839bf70f4c30",
   "metadata": {},
   "outputs": [
    {
     "data": {
      "text/plain": [
       "[True, False, False]"
      ]
     },
     "execution_count": 8,
     "metadata": {},
     "output_type": "execute_result"
    }
   ],
   "source": [
    "[1>0, 1<0, 1==0]"
   ]
  },
  {
   "cell_type": "code",
   "execution_count": 9,
   "id": "ff6e3624-754a-4390-8628-8638c6c137ad",
   "metadata": {},
   "outputs": [],
   "source": [
    "mylist = [1,2,3,4,5]"
   ]
  },
  {
   "cell_type": "code",
   "execution_count": 11,
   "id": "299dead1-9a53-43a8-a227-a83e8a210860",
   "metadata": {},
   "outputs": [],
   "source": [
    "import numpy as np"
   ]
  },
  {
   "cell_type": "code",
   "execution_count": 12,
   "id": "f5d7ed3d-998b-4b91-8e2b-bd44f14662a3",
   "metadata": {},
   "outputs": [],
   "source": [
    "myarray = np.array([1,2,3,4,5])"
   ]
  },
  {
   "cell_type": "code",
   "execution_count": 13,
   "id": "e0d50ae9-3f2d-4cdb-8bd6-1c61eb2ccce6",
   "metadata": {},
   "outputs": [
    {
     "data": {
      "text/plain": [
       "array([1, 2, 3, 4, 5])"
      ]
     },
     "execution_count": 13,
     "metadata": {},
     "output_type": "execute_result"
    }
   ],
   "source": [
    "myarray"
   ]
  },
  {
   "cell_type": "code",
   "execution_count": 14,
   "id": "f09d6916-938f-4902-9717-ca951165873b",
   "metadata": {},
   "outputs": [
    {
     "data": {
      "text/plain": [
       "array([False, False,  True,  True,  True])"
      ]
     },
     "execution_count": 14,
     "metadata": {},
     "output_type": "execute_result"
    }
   ],
   "source": [
    "myarray > 2"
   ]
  },
  {
   "cell_type": "markdown",
   "id": "62cc9743-cd0b-4850-aee4-67d0c4ea6aa5",
   "metadata": {},
   "source": [
    "### PySpark Overview"
   ]
  },
  {
   "cell_type": "code",
   "execution_count": 15,
   "id": "35cfc611-b06f-4843-8208-12deed30d14c",
   "metadata": {},
   "outputs": [],
   "source": [
    "from pyspark.sql import SparkSession"
   ]
  },
  {
   "cell_type": "code",
   "execution_count": 49,
   "id": "3551c3dd-5ee2-4e52-b6fc-8fdb1aab36c6",
   "metadata": {},
   "outputs": [
    {
     "name": "stdout",
     "output_type": "stream",
     "text": [
      "Name: pyspark\n",
      "Version: 3.5.5\n",
      "Summary: Apache Spark Python API\n",
      "Home-page: https://github.com/apache/spark/tree/master/python\n",
      "Author: Spark Developers\n",
      "Author-email: dev@spark.apache.org\n",
      "License: http://www.apache.org/licenses/LICENSE-2.0\n",
      "Location: C:\\Users\\saad\\AppData\\Roaming\\Python\\Python313\\site-packages\n",
      "Requires: py4j\n",
      "Required-by: \n"
     ]
    }
   ],
   "source": [
    "!pip show pyspark"
   ]
  },
  {
   "cell_type": "code",
   "execution_count": null,
   "id": "ade042b8-3252-48ac-a7a9-f5c5e283a517",
   "metadata": {},
   "outputs": [],
   "source": [
    "#C:\\python311\\Lib\\site-packages\\pyspark"
   ]
  },
  {
   "cell_type": "code",
   "execution_count": 26,
   "id": "e20e51fc-339e-4866-930f-eb663f736d67",
   "metadata": {},
   "outputs": [],
   "source": [
    "import findspark\n",
    "findspark.init(r'C:\\Users\\saad\\AppData\\Roaming\\Python\\Python313\\site-packages\\pyspark')"
   ]
  },
  {
   "cell_type": "code",
   "execution_count": 27,
   "id": "dd51f6ed-08e2-4263-9c3e-c7ded86da992",
   "metadata": {},
   "outputs": [],
   "source": [
    "spark = SparkSession.builder.getOrCreate()"
   ]
  },
  {
   "cell_type": "code",
   "execution_count": 28,
   "id": "b5600a88-8741-4e57-a901-38f9c166e85e",
   "metadata": {},
   "outputs": [],
   "source": [
    "data = [1,2,3,4,5]\n",
    "rdd = spark.sparkContext.parallelize(data)"
   ]
  },
  {
   "cell_type": "code",
   "execution_count": 29,
   "id": "4d79927a-664b-4e0f-8558-21cf94b28afc",
   "metadata": {},
   "outputs": [
    {
     "name": "stdout",
     "output_type": "stream",
     "text": [
      "[1, 2, 3, 4, 5]\n"
     ]
    }
   ],
   "source": [
    "print(rdd.collect())"
   ]
  },
  {
   "cell_type": "code",
   "execution_count": 30,
   "id": "261e4353-0f18-4b8d-9646-b9494e973680",
   "metadata": {},
   "outputs": [],
   "source": [
    "rdddata = rdd.collect()"
   ]
  },
  {
   "cell_type": "code",
   "execution_count": 31,
   "id": "5a5547ae-0a37-48f4-994f-ae549031937a",
   "metadata": {},
   "outputs": [
    {
     "data": {
      "text/plain": [
       "list"
      ]
     },
     "execution_count": 31,
     "metadata": {},
     "output_type": "execute_result"
    }
   ],
   "source": [
    "type(rdddata)"
   ]
  },
  {
   "cell_type": "code",
   "execution_count": 32,
   "id": "f596c1ff-5344-4293-a70e-40f796fb0588",
   "metadata": {},
   "outputs": [
    {
     "data": {
      "text/plain": [
       "pyspark.rdd.RDD"
      ]
     },
     "execution_count": 32,
     "metadata": {},
     "output_type": "execute_result"
    }
   ],
   "source": [
    "type(rdd)"
   ]
  },
  {
   "cell_type": "code",
   "execution_count": 34,
   "id": "87c874bc-a29f-4a4d-ad89-c71c154b8a9e",
   "metadata": {},
   "outputs": [
    {
     "data": {
      "text/plain": [
       "[1, 2, 3, 4, 5, 1, 2, 3, 4, 5]"
      ]
     },
     "execution_count": 34,
     "metadata": {},
     "output_type": "execute_result"
    }
   ],
   "source": [
    "2 * rdddata"
   ]
  },
  {
   "cell_type": "markdown",
   "id": "bd76de07-7510-48ee-a210-e72c4504475e",
   "metadata": {},
   "source": [
    "#### pyspark dataframes"
   ]
  },
  {
   "cell_type": "code",
   "execution_count": 35,
   "id": "db1ed42b-00d2-40c4-b54b-c3ef50ef5910",
   "metadata": {},
   "outputs": [],
   "source": [
    "from pyspark.sql import SparkSession"
   ]
  },
  {
   "cell_type": "code",
   "execution_count": 36,
   "id": "1f6636de-57f4-46fb-b829-fc139d9a7977",
   "metadata": {},
   "outputs": [],
   "source": [
    "spark = SparkSession.builder.appName('demo').getOrCreate()"
   ]
  },
  {
   "cell_type": "code",
   "execution_count": 37,
   "id": "f6978fec-36f1-490d-ba26-d1a19d570e87",
   "metadata": {},
   "outputs": [],
   "source": [
    "my_list = [10, 20, 30, 40, 50]"
   ]
  },
  {
   "cell_type": "code",
   "execution_count": 38,
   "id": "9d1540c3-66c4-4190-b528-29825032c63d",
   "metadata": {},
   "outputs": [],
   "source": [
    "#Convert to a df with single column values:\n",
    "df = spark.createDataFrame([(x, ) for x in my_list], ['Values'])"
   ]
  },
  {
   "cell_type": "code",
   "execution_count": 39,
   "id": "7a4e41aa-6ae9-4371-a285-80de8064aeac",
   "metadata": {},
   "outputs": [
    {
     "data": {
      "text/plain": [
       "DataFrame[Values: bigint]"
      ]
     },
     "execution_count": 39,
     "metadata": {},
     "output_type": "execute_result"
    }
   ],
   "source": [
    "df"
   ]
  },
  {
   "cell_type": "code",
   "execution_count": 40,
   "id": "cda3d111-82df-43c5-a4a8-45b3d04ebac8",
   "metadata": {},
   "outputs": [
    {
     "data": {
      "text/plain": [
       "pyspark.sql.dataframe.DataFrame"
      ]
     },
     "execution_count": 40,
     "metadata": {},
     "output_type": "execute_result"
    }
   ],
   "source": [
    "type(df)"
   ]
  },
  {
   "cell_type": "code",
   "execution_count": 41,
   "id": "eeb096a1-67b0-4dfd-b065-3c9fc47b275f",
   "metadata": {},
   "outputs": [
    {
     "name": "stdout",
     "output_type": "stream",
     "text": [
      "+------+\n",
      "|Values|\n",
      "+------+\n",
      "|    10|\n",
      "|    20|\n",
      "|    30|\n",
      "|    40|\n",
      "|    50|\n",
      "+------+\n",
      "\n"
     ]
    }
   ],
   "source": [
    "df.show()"
   ]
  },
  {
   "cell_type": "code",
   "execution_count": 44,
   "id": "20fb2416-a361-4b0e-ad2e-d500523e8f8a",
   "metadata": {},
   "outputs": [
    {
     "name": "stdout",
     "output_type": "stream",
     "text": [
      "root\n",
      " |-- Values: long (nullable = true)\n",
      "\n"
     ]
    }
   ],
   "source": [
    "df.printSchema()"
   ]
  },
  {
   "cell_type": "code",
   "execution_count": 45,
   "id": "34e1591e-f2dd-468b-a667-70643b19057e",
   "metadata": {},
   "outputs": [
    {
     "data": {
      "text/plain": [
       "['Values']"
      ]
     },
     "execution_count": 45,
     "metadata": {},
     "output_type": "execute_result"
    }
   ],
   "source": [
    "df.columns"
   ]
  },
  {
   "cell_type": "code",
   "execution_count": 47,
   "id": "2d167e5d-3882-489a-a0d6-8d4d39a6e15b",
   "metadata": {},
   "outputs": [
    {
     "data": {
      "text/plain": [
       "DataFrame[summary: string, Values: string]"
      ]
     },
     "execution_count": 47,
     "metadata": {},
     "output_type": "execute_result"
    }
   ],
   "source": [
    "df.describe()"
   ]
  },
  {
   "cell_type": "code",
   "execution_count": 48,
   "id": "47725b8a-a9c0-43e3-bd47-e25a0228c0d2",
   "metadata": {},
   "outputs": [
    {
     "name": "stdout",
     "output_type": "stream",
     "text": [
      "+-------+------------------+\n",
      "|summary|            Values|\n",
      "+-------+------------------+\n",
      "|  count|                 5|\n",
      "|   mean|              30.0|\n",
      "| stddev|15.811388300841896|\n",
      "|    min|                10|\n",
      "|    max|                50|\n",
      "+-------+------------------+\n",
      "\n"
     ]
    }
   ],
   "source": [
    "df.describe().show()"
   ]
  },
  {
   "cell_type": "code",
   "execution_count": 51,
   "id": "86a67e0b-24ce-4fc7-8eb1-90dae7775e72",
   "metadata": {},
   "outputs": [
    {
     "name": "stdout",
     "output_type": "stream",
     "text": [
      "+------+\n",
      "|Values|\n",
      "+------+\n",
      "|    10|\n",
      "|    20|\n",
      "|    30|\n",
      "+------+\n",
      "only showing top 3 rows\n",
      "\n"
     ]
    }
   ],
   "source": [
    "df.show(3)"
   ]
  },
  {
   "cell_type": "markdown",
   "id": "a3711f7c-6909-453a-9a51-a2d285274ef5",
   "metadata": {},
   "source": [
    "# Section 10 02 PySpark DataFrames Basics (CSV, Lists, etc)"
   ]
  },
  {
   "cell_type": "code",
   "execution_count": 52,
   "id": "ecab08fe-4c46-4f90-b84b-9c60df3ea8ef",
   "metadata": {},
   "outputs": [],
   "source": [
    "from pyspark.sql import SparkSession\n",
    "from pyspark.sql.functions import *\n",
    "from pyspark.sql.types import *"
   ]
  },
  {
   "cell_type": "code",
   "execution_count": 54,
   "id": "75d4da48-d886-416c-8d30-18d57ddbf143",
   "metadata": {},
   "outputs": [],
   "source": [
    "import findspark\n",
    "findspark.init(r'C:\\python311\\Lib\\site-packages\\pyspark')"
   ]
  },
  {
   "cell_type": "code",
   "execution_count": 55,
   "id": "d58ae895-b936-4af6-a54c-9abd9c2dbd97",
   "metadata": {},
   "outputs": [],
   "source": [
    "# Initialize Spark session\n",
    "spark = SparkSession.builder.appName(\"Intc Stock Analysis\").getOrCreate()"
   ]
  },
  {
   "cell_type": "code",
   "execution_count": 58,
   "id": "aace7683-de4f-4ac7-a59a-b49f22b7be91",
   "metadata": {},
   "outputs": [
    {
     "name": "stdout",
     "output_type": "stream",
     "text": [
      " Volume in drive C is OS\n",
      " Volume Serial Number is 6009-5BDF\n",
      "\n",
      " Directory of c:\\saad\\workspace\\numpy_pandas_Pyspark_tutorials\\numpy\n",
      "\n",
      "06/08/2025  04:44 PM    <DIR>          .\n",
      "06/08/2025  04:32 PM    <DIR>          ..\n",
      "06/08/2025  02:08 PM    <DIR>          .ipynb_checkpoints\n",
      "05/14/2025  09:01 AM               271 1-Friendly course.txt\n",
      "05/22/2025  05:35 PM             3,677 jupyterDemo.ipynb\n",
      "06/01/2025  02:23 PM           242,452 Numpy001.ipynb\n",
      "06/03/2025  10:13 PM            60,558 NumPy002.ipynb\n",
      "06/03/2025  10:13 PM            79,338 NumPy003.ipynb\n",
      "06/03/2025  10:13 PM            71,478 NumPy004.ipynb\n",
      "06/04/2025  05:00 PM            24,215 NumPy005.ipynb\n",
      "06/07/2025  02:13 PM            93,714 NumPy006.ipynb\n",
      "06/07/2025  03:28 PM            54,184 NumPy007.ipynb\n",
      "06/07/2025  06:33 PM            23,739 NumPy008.ipynb\n",
      "05/22/2025  05:39 PM            32,176 numpyTutorials.ipynb\n",
      "06/08/2025  04:44 PM            13,572 PySpark001.ipynb\n",
      "06/03/2025  04:05 PM           176,728 python101.ipynb\n",
      "06/08/2025  08:20 AM            17,730 python101_09.ipynb\n",
      "06/07/2025  02:08 PM           153,642 python101_2.ipynb\n",
      "05/22/2025  06:08 PM               617 Section02_NumPy.ipynb\n",
      "05/21/2025  03:41 PM               617 Untitled.ipynb\n",
      "05/22/2025  06:04 PM               337 Untitled1.ipynb\n",
      "05/26/2025  04:08 PM               337 Untitled2.ipynb\n",
      "06/07/2025  02:14 PM            16,966 Untitled3.ipynb\n",
      "              20 File(s)      1,066,348 bytes\n",
      "               3 Dir(s)  38,493,536,256 bytes free\n"
     ]
    }
   ],
   "source": [
    "!dir"
   ]
  },
  {
   "cell_type": "code",
   "execution_count": 59,
   "id": "bb8280db-4098-40c5-9978-47bf1240c5b8",
   "metadata": {},
   "outputs": [],
   "source": [
    "df = spark.read.csv('../pyspark/intc.csv', header=True, inferSchema=True)"
   ]
  },
  {
   "cell_type": "code",
   "execution_count": 60,
   "id": "746b4907-63a3-4ef3-9bb0-b58993fc33e9",
   "metadata": {},
   "outputs": [
    {
     "name": "stdout",
     "output_type": "stream",
     "text": [
      "+----+----------+------+-------+-------+-----+-----------+-------------+------------------+------------------+------------------+------------------+------------------+------------------+------------------+------------------+------------------+-----+-----+-----+-----+------+------+------+------+-------+-----------+-----+-----+-----+\n",
      "|  id|      date|  open|   high|    low|close|     volume|     vol_fiat|             sma10|             sma20|             sma30|             sma50|            sma100|            sma200|            sma400|            sma500|           sma1000|ema10|ema20|ema30|ema50|ema100|ema200|ema400|ema500|ema1000|      macd1|macd2|macd3|macd4|\n",
      "+----+----------+------+-------+-------+-----+-----------+-------------+------------------+------------------+------------------+------------------+------------------+------------------+------------------+------------------+------------------+-----+-----+-----+-----+------+------+------+------+-------+-----------+-----+-----+-----+\n",
      "|1278|2025-06-06| 20.17|  20.44|  20.03|20.06|7.0072846E7|1749240000000|            20.462|20.676499999999997|            20.456|           21.1798|21.120500000000003|22.942600000000002|           31.0254|31.321240000000003|37.588480000000004|    0|    0|    0|    0|     0|     0|     0|     0|      0|-0.04534034|    0|    0|    0|\n",
      "|1277|2025-06-05| 20.27|  20.55|  19.85|19.99|7.2595606E7|1749153600000|            20.611|            20.699|            20.505|21.253200000000003|21.156399999999998|          22.99775|31.061574999999998|          31.33984|          37.63046|    0|    0|    0|    0|     0|     0|     0|     0|      0|-0.04716657|    0|    0|    0|\n",
      "|1275|2025-06-04| 20.34|   20.5|  20.01|20.25|7.1166549E7|1749067200000|            20.764|            20.702|20.442999999999998|           21.3152|           21.2052|23.050900000000002|31.097375000000003|          31.35792|          37.67395|    0|    0|    0|    0|     0|     0|     0|     0|      0|-0.03510595|    0|    0|    0|\n",
      "|1273|2025-06-02|19.482|  19.82|19.3745|19.74|6.7885473E7|1748894400000|            20.957|20.764000000000003|20.420333333333335|           21.3806|           21.2477|23.102800000000002|           31.1308|          31.37368|          37.71933|    0|    0|    0|    0|     0|     0|     0|     0|      0|-0.03566972|    0|    0|    0|\n",
      "|1271|2025-05-29| 20.54| 20.595|   20.1|20.25|6.6485207E7|1748548800000|            21.125|           20.8065|            20.424|           21.4712|           21.2947|23.159000000000002|         31.164575|31.391119999999997|37.763349999999996|    0|    0|    0|    0|     0|     0|     0|     0|      0| 0.02194437|    0|    0|    0|\n",
      "|1269|2025-05-27| 20.44|  20.67|  20.18|20.55|6.9504564E7|1748376000000|              21.2|           20.7695| 20.48166666666667|            21.588|           21.3323|             23.21|         31.195425|31.408939999999998|37.806824999999996|    0|    0|    0|    0|     0|     0|     0|     0|      0| 0.06357569|    0|    0|    0|\n",
      "|1267|2025-05-23| 20.16|  20.27|  19.94|20.05|6.8206064E7|1748030400000|            21.176|            20.684| 20.55366666666667|21.691399999999998|           21.3688|          23.25955|            31.229|          31.42746|         37.852055|    0|    0|    0|    0|     0|     0|     0|     0|      0| 0.09768697|    0|    0|    0|\n",
      "|1265|2025-05-21| 21.19|21.6292|  20.59|20.69|6.2904697E7|1747857600000|            21.165|            20.643|20.642333333333333|           21.8382|21.416700000000002|           23.3131|31.261100000000003|          31.44418|         37.896785|    0|    0|    0|    0|     0|     0|     0|     0|      0| 0.19863315|    0|    0|    0|\n",
      "|1263|2025-05-19| 21.18|  21.56|  21.05|21.38|6.4279077E7|1747684800000|21.122999999999998|20.624000000000002|20.733333333333334|           21.8964|           21.4533|23.364250000000002|         31.292225|          31.45882|37.939885000000004|    0|    0|    0|    0|     0|     0|     0|     0|      0|  0.2820511|    0|    0|    0|\n",
      "|1262|2025-05-16| 21.53|  21.76|  21.35|21.66|5.5795144E7|1747425600000|            21.047|            20.542|20.827333333333335|           21.8882|           21.4898|           23.4119|          31.32065|          31.46996|         37.981405|    0|    0|    0|    0|     0|     0|     0|     0|      0| 0.32615818|    0|    0|    0|\n",
      "|1260|2025-05-15| 21.23|  21.63| 21.185|21.55|6.6705457E7|1747339200000|            20.891|            20.453|20.912666666666667|           21.8504|21.522399999999998|           23.4573|          31.34795|31.481080000000002|         38.023055|    0|    0|    0|    0|     0|     0|     0|     0|      0| 0.33536202|    0|    0|    0|\n",
      "|1259|2025-05-14| 22.35|  22.46|  21.46|21.52|9.1584827E7|1747252800000|            20.787|            20.452|            21.003|21.801399999999997|21.557399999999998|23.501649999999998|           31.3779|          31.49086|         38.063755|    0|    0|    0|    0|     0|     0|     0|     0|      0| 0.35168588|    0|    0|    0|\n",
      "|1257|2025-05-12| 22.18|  22.67|  21.88|22.18|9.4578691E7|1747080000000|             20.64|           20.2825|21.084333333333333|            21.764|21.604200000000002|          23.54795|         31.411025|31.499779999999998|         38.104905|    0|    0|    0|    0|     0|     0|     0|     0|      0| 0.36162191|    0|    0|    0|\n",
      "|1256|2025-05-09|  21.2|  21.45|  20.83|21.42|5.1768565E7|1746820800000|            20.571|            20.152|            21.149|           21.7062|           21.6329|           23.5872|         31.444775|          31.50648|38.142574999999994|    0|    0|    0|    0|     0|     0|     0|     0|      0|  0.2845669|    0|    0|    0|\n",
      "|1254|2025-05-08| 21.01|  21.24|  20.64| 21.0|7.1651698E7|1746734400000|            20.488|20.073500000000003|21.291333333333334|21.665399999999998|           21.6439|          23.63155|          31.47845|          31.51562|         38.181895|    0|    0|    0|    0|     0|     0|     0|     0|      0| 0.24328622|    0|    0|    0|\n",
      "|1253|2025-05-07| 19.97|  20.37|  19.82|20.31|6.1134293E7|1746648000000|20.339000000000002|           20.1225|21.392999999999997|            21.634|           21.6659|23.680799999999998|31.512649999999997|31.526419999999998|         38.219225|    0|    0|    0|    0|     0|     0|     0|     0|      0| 0.17561901|    0|    0|    0|\n",
      "|1251|2025-05-06| 19.92|  20.12|  19.77|19.94|5.1330772E7|1746561600000|            20.192|           20.2425| 21.40533333333333|            21.628|           21.6858|           23.7302|31.547575000000002|           31.5382|38.258815000000006|    0|    0|    0|    0|     0|     0|     0|     0|      0|   0.142305|    0|    0|    0|\n",
      "|1249|2025-05-05| 20.39|  20.58| 20.235|20.27|4.4236981E7|1746475200000|20.121000000000002|            20.381|21.404999999999998|21.624200000000002|           21.7154|23.781149999999997|31.585275000000003|          31.54898|         38.300115|    0|    0|    0|    0|     0|     0|     0|     0|      0| 0.13379158|    0|    0|    0|\n",
      "|1247|2025-05-02| 20.26|  20.78|  20.21|20.62|6.3298512E7|1746216000000|            20.125|           20.5385|            21.421|           21.6148|           21.7419|           23.8334|         31.622675|           31.5583|         38.342725|    0|    0|    0|    0|     0|     0|     0|     0|      0| 0.10969692|    0|    0|    0|\n",
      "|1245|2025-04-30| 19.71|  20.18|  19.55| 20.1|6.8297323E7|1746043200000|            20.037|           20.7175|21.427333333333333|           21.6082|           21.7625|           23.8807|           31.6583|31.566860000000002|         38.382885|    0|    0|    0|    0|     0|     0|     0|     0|      0| 0.05382576|    0|    0|    0|\n",
      "+----+----------+------+-------+-------+-----+-----------+-------------+------------------+------------------+------------------+------------------+------------------+------------------+------------------+------------------+------------------+-----+-----+-----+-----+------+------+------+------+-------+-----------+-----+-----+-----+\n",
      "only showing top 20 rows\n",
      "\n"
     ]
    }
   ],
   "source": [
    "df.show(20)"
   ]
  },
  {
   "cell_type": "code",
   "execution_count": 62,
   "id": "e9944d19-b142-4c5c-967c-cf12b2436cfc",
   "metadata": {},
   "outputs": [
    {
     "name": "stdout",
     "output_type": "stream",
     "text": [
      "root\n",
      " |-- id: integer (nullable = true)\n",
      " |-- date: date (nullable = true)\n",
      " |-- open: double (nullable = true)\n",
      " |-- high: double (nullable = true)\n",
      " |-- low: double (nullable = true)\n",
      " |-- close: double (nullable = true)\n",
      " |-- volume: double (nullable = true)\n",
      " |-- vol_fiat: long (nullable = true)\n",
      " |-- sma10: double (nullable = true)\n",
      " |-- sma20: double (nullable = true)\n",
      " |-- sma30: double (nullable = true)\n",
      " |-- sma50: double (nullable = true)\n",
      " |-- sma100: double (nullable = true)\n",
      " |-- sma200: double (nullable = true)\n",
      " |-- sma400: double (nullable = true)\n",
      " |-- sma500: double (nullable = true)\n",
      " |-- sma1000: double (nullable = true)\n",
      " |-- ema10: integer (nullable = true)\n",
      " |-- ema20: integer (nullable = true)\n",
      " |-- ema30: integer (nullable = true)\n",
      " |-- ema50: integer (nullable = true)\n",
      " |-- ema100: integer (nullable = true)\n",
      " |-- ema200: integer (nullable = true)\n",
      " |-- ema400: integer (nullable = true)\n",
      " |-- ema500: integer (nullable = true)\n",
      " |-- ema1000: integer (nullable = true)\n",
      " |-- macd1: double (nullable = true)\n",
      " |-- macd2: integer (nullable = true)\n",
      " |-- macd3: integer (nullable = true)\n",
      " |-- macd4: integer (nullable = true)\n",
      "\n"
     ]
    }
   ],
   "source": [
    "#Very important for ETL/MachineLearning/Data analysis ...\n",
    "df.printSchema()"
   ]
  },
  {
   "cell_type": "code",
   "execution_count": 63,
   "id": "3d975e28-c4bf-4f5d-9dad-f08d1f613926",
   "metadata": {},
   "outputs": [
    {
     "data": {
      "text/plain": [
       "365"
      ]
     },
     "execution_count": 63,
     "metadata": {},
     "output_type": "execute_result"
    }
   ],
   "source": [
    "df.count()"
   ]
  },
  {
   "cell_type": "code",
   "execution_count": 64,
   "id": "309e751a-ba0f-41be-ba03-698fa2011ff7",
   "metadata": {},
   "outputs": [
    {
     "data": {
      "text/plain": [
       "['id',\n",
       " 'date',\n",
       " 'open',\n",
       " 'high',\n",
       " 'low',\n",
       " 'close',\n",
       " 'volume',\n",
       " 'vol_fiat',\n",
       " 'sma10',\n",
       " 'sma20',\n",
       " 'sma30',\n",
       " 'sma50',\n",
       " 'sma100',\n",
       " 'sma200',\n",
       " 'sma400',\n",
       " 'sma500',\n",
       " 'sma1000',\n",
       " 'ema10',\n",
       " 'ema20',\n",
       " 'ema30',\n",
       " 'ema50',\n",
       " 'ema100',\n",
       " 'ema200',\n",
       " 'ema400',\n",
       " 'ema500',\n",
       " 'ema1000',\n",
       " 'macd1',\n",
       " 'macd2',\n",
       " 'macd3',\n",
       " 'macd4']"
      ]
     },
     "execution_count": 64,
     "metadata": {},
     "output_type": "execute_result"
    }
   ],
   "source": [
    "df.columns"
   ]
  },
  {
   "cell_type": "code",
   "execution_count": 65,
   "id": "c68ed2a2-9f89-484a-a46d-df64069a7241",
   "metadata": {},
   "outputs": [
    {
     "name": "stdout",
     "output_type": "stream",
     "text": [
      "+-------+------------------+------------------+-----------------+-----------------+------------------+-------------------+--------------------+------------------+------------------+-----------------+------------------+------------------+-----------------+-----------------+------------------+------------------+-----+-----+-----+-----+------+------+------+------+-------+--------------------+-----+-----+-----+\n",
      "|summary|                id|              open|             high|              low|             close|             volume|            vol_fiat|             sma10|             sma20|            sma30|             sma50|            sma100|           sma200|           sma400|            sma500|           sma1000|ema10|ema20|ema30|ema50|ema100|ema200|ema400|ema500|ema1000|               macd1|macd2|macd3|macd4|\n",
      "+-------+------------------+------------------+-----------------+-----------------+------------------+-------------------+--------------------+------------------+------------------+-----------------+------------------+------------------+-----------------+-----------------+------------------+------------------+-----+-----+-----+-----+------+------+------+------+-------+--------------------+-----+-----+-----+\n",
      "|  count|               365|               365|              365|              365|               365|                365|                 365|               365|               365|              365|               365|               365|              365|              365|               365|               365|  365|  365|  365|  365|   365|   365|   365|   365|    365|                 365|  365|  365|  365|\n",
      "|   mean|  955.745205479452|30.550282465753437|31.03574410958903|30.03972109589041|30.518465753424653|6.395917749315068E7|1.722110695890411E12|30.156665753424676| 30.35426438356166|30.55397808219178|30.972262465753438|31.870383013698625|33.20514602739728| 33.2945426369863|  33.7990721369863| 6.155014410958905|  0.0|  0.0|  0.0|  0.0|   0.0|   0.0|   0.0|   0.0|    0.0|3.436349863013923E-4|  0.0|  0.0|  0.0|\n",
      "| stddev|177.07880923933226| 9.765712105679263|9.841872916866874|9.699143296968593| 9.785523584123894| 3.92204953418809E7|1.459527903149367...|10.184997215418475|10.056174605470304|9.908240800629272| 9.629487425384989| 8.837998056427985|6.574857651795838|4.037219421280364| 4.418542603012515|14.182412134120947|  0.0|  0.0|  0.0|  0.0|   0.0|   0.0|   0.0|   0.0|    0.0| 0.39823641149581507|  0.0|  0.0|  0.0|\n",
      "|    min|               698|             18.07|           18.985|           17.665|             18.13|        1.2907105E7|       1697832000000|               0.0|               0.0|              0.0|               0.0|               0.0|              0.0|              0.0|               0.0|               0.0|    0|    0|    0|    0|     0|     0|     0|     0|      0|          -1.6735102|    0|    0|    0|\n",
      "|    max|              1278|              50.3|          50.5699|            49.77|              50.5|       3.00503098E8|       1749240000000|48.132999999999996|           47.9925|           47.106|45.632600000000004|           44.1179|          39.7361|          34.9275|37.564949999999996|          39.72781|    0|    0|    0|    0|     0|     0|     0|     0|      0|          0.79205208|    0|    0|    0|\n",
      "+-------+------------------+------------------+-----------------+-----------------+------------------+-------------------+--------------------+------------------+------------------+-----------------+------------------+------------------+-----------------+-----------------+------------------+------------------+-----+-----+-----+-----+------+------+------+------+-------+--------------------+-----+-----+-----+\n",
      "\n"
     ]
    }
   ],
   "source": [
    "df.describe().show()"
   ]
  },
  {
   "cell_type": "markdown",
   "id": "1cfd4f43-681b-4c09-91b4-88098617b1d1",
   "metadata": {},
   "source": [
    "### Selecting columns"
   ]
  },
  {
   "cell_type": "code",
   "execution_count": 66,
   "id": "900dcbd2-4c7f-4b5a-9e00-8f1900303e08",
   "metadata": {},
   "outputs": [
    {
     "name": "stdout",
     "output_type": "stream",
     "text": [
      "+----+----------+-----+-----------+\n",
      "|  id|      date|close|      macd1|\n",
      "+----+----------+-----+-----------+\n",
      "|1278|2025-06-06|20.06|-0.04534034|\n",
      "|1277|2025-06-05|19.99|-0.04716657|\n",
      "|1275|2025-06-04|20.25|-0.03510595|\n",
      "|1273|2025-06-02|19.74|-0.03566972|\n",
      "|1271|2025-05-29|20.25| 0.02194437|\n",
      "|1269|2025-05-27|20.55| 0.06357569|\n",
      "|1267|2025-05-23|20.05| 0.09768697|\n",
      "|1265|2025-05-21|20.69| 0.19863315|\n",
      "|1263|2025-05-19|21.38|  0.2820511|\n",
      "|1262|2025-05-16|21.66| 0.32615818|\n",
      "+----+----------+-----+-----------+\n",
      "only showing top 10 rows\n",
      "\n"
     ]
    }
   ],
   "source": [
    "df.select(\"id\", \"date\", \"close\", 'macd1').show(10)"
   ]
  },
  {
   "cell_type": "code",
   "execution_count": 67,
   "id": "0ec99a8d-e6f1-4514-9db3-a897c6d010f3",
   "metadata": {},
   "outputs": [
    {
     "name": "stdout",
     "output_type": "stream",
     "text": [
      "-1.6735102\n"
     ]
    }
   ],
   "source": [
    "print(df.select(min('macd1')).collect()[0][0])"
   ]
  },
  {
   "cell_type": "code",
   "execution_count": 68,
   "id": "ff01376d-59b3-472d-846c-c8ede8f756c0",
   "metadata": {},
   "outputs": [
    {
     "name": "stdout",
     "output_type": "stream",
     "text": [
      "18.13\n"
     ]
    }
   ],
   "source": [
    "print(df.select(min('close')).collect()[0][0])"
   ]
  },
  {
   "cell_type": "markdown",
   "id": "459e4701-6e4e-4726-b6c8-e0be04c9f136",
   "metadata": {},
   "source": [
    "### Filtering"
   ]
  },
  {
   "cell_type": "code",
   "execution_count": 76,
   "id": "99a7318d-449f-4380-881f-7fe1d6d2bb1c",
   "metadata": {},
   "outputs": [
    {
     "name": "stdout",
     "output_type": "stream",
     "text": [
      "+----------+-----+-----------+------------+------------------+------------------+\n",
      "|      Date|Close|      macd1|      volume|             sma50|            sma200|\n",
      "+----------+-----+-----------+------------+------------------+------------------+\n",
      "|2025-06-06|20.06|-0.04534034| 7.0072846E7|           21.1798|22.942600000000002|\n",
      "|2025-06-04|20.25|-0.03510595| 7.1166549E7|           21.3152|23.050900000000002|\n",
      "|2025-05-29|20.25| 0.02194437| 6.6485207E7|           21.4712|23.159000000000002|\n",
      "|2025-05-27|20.55| 0.06357569| 6.9504564E7|            21.588|             23.21|\n",
      "|2025-05-23|20.05| 0.09768697| 6.8206064E7|21.691399999999998|          23.25955|\n",
      "|2025-05-21|20.69| 0.19863315| 6.2904697E7|           21.8382|           23.3131|\n",
      "|2025-05-19|21.38|  0.2820511| 6.4279077E7|           21.8964|23.364250000000002|\n",
      "|2025-05-16|21.66| 0.32615818| 5.5795144E7|           21.8882|           23.4119|\n",
      "|2025-05-15|21.55| 0.33536202| 6.6705457E7|           21.8504|           23.4573|\n",
      "|2025-05-14|21.52| 0.35168588| 9.1584827E7|21.801399999999997|23.501649999999998|\n",
      "|2025-05-12|22.18| 0.36162191| 9.4578691E7|            21.764|          23.54795|\n",
      "|2025-05-09|21.42|  0.2845669| 5.1768565E7|           21.7062|           23.5872|\n",
      "|2025-05-08| 21.0| 0.24328622| 7.1651698E7|21.665399999999998|          23.63155|\n",
      "|2025-05-07|20.31| 0.17561901| 6.1134293E7|            21.634|23.680799999999998|\n",
      "|2025-05-05|20.27| 0.13379158| 4.4236981E7|21.624200000000002|23.781149999999997|\n",
      "|2025-05-02|20.62| 0.10969692| 6.3298512E7|           21.6148|           23.8334|\n",
      "|2025-04-30| 20.1| 0.05382576| 6.8297323E7|           21.6082|           23.8807|\n",
      "|2025-04-28|20.51| 0.03188856| 9.6624416E7|           21.6228|           23.9373|\n",
      "|2025-04-25|20.05|-0.02283246|1.47703174E8|21.644000000000002|          23.99345|\n",
      "|2025-04-24|21.49|-0.04007492| 1.1708622E8|           21.6802|           24.0537|\n",
      "+----------+-----+-----------+------------+------------------+------------------+\n",
      "only showing top 20 rows\n",
      "\n"
     ]
    }
   ],
   "source": [
    "df.filter(col(\"Close\") > 20).select(\"Date\", \"Close\",  \"macd1\", \"volume\", \"sma50\", \"sma200\").show(20)"
   ]
  },
  {
   "cell_type": "code",
   "execution_count": 78,
   "id": "d153b41b-84ad-4761-845f-307f849e7171",
   "metadata": {},
   "outputs": [
    {
     "name": "stdout",
     "output_type": "stream",
     "text": [
      "+----------+-----+\n",
      "|      Date|Close|\n",
      "+----------+-----+\n",
      "|2025-06-06|20.06|\n",
      "|2025-06-04|20.25|\n",
      "|2025-05-29|20.25|\n",
      "|2025-05-27|20.55|\n",
      "|2025-05-23|20.05|\n",
      "|2025-05-21|20.69|\n",
      "|2025-05-19|21.38|\n",
      "|2025-05-16|21.66|\n",
      "|2025-05-15|21.55|\n",
      "|2025-05-14|21.52|\n",
      "|2025-05-12|22.18|\n",
      "|2025-05-09|21.42|\n",
      "|2025-05-08| 21.0|\n",
      "|2025-05-07|20.31|\n",
      "|2025-05-05|20.27|\n",
      "|2025-05-02|20.62|\n",
      "|2025-04-30| 20.1|\n",
      "|2025-04-28|20.51|\n",
      "|2025-04-25|20.05|\n",
      "|2025-04-24|21.49|\n",
      "+----------+-----+\n",
      "only showing top 20 rows\n",
      "\n"
     ]
    }
   ],
   "source": [
    "df.where(\"Close > 20\").select(\"Date\", \"Close\").show(20)"
   ]
  },
  {
   "cell_type": "code",
   "execution_count": 79,
   "id": "3c0225e7-b926-40b8-83dc-343e27382fe8",
   "metadata": {},
   "outputs": [],
   "source": [
    "# Adding new columns"
   ]
  },
  {
   "cell_type": "code",
   "execution_count": 80,
   "id": "43a5b205-b9be-4a38-b118-4f794327b457",
   "metadata": {},
   "outputs": [],
   "source": [
    "df = df.withColumn(\"Daily_Return\", (col(\"Close\") - col(\"Open\")) / col(\"Open\"))"
   ]
  },
  {
   "cell_type": "code",
   "execution_count": 82,
   "id": "65522f92-7999-411e-bc2d-52e1845c7b82",
   "metadata": {},
   "outputs": [
    {
     "name": "stdout",
     "output_type": "stream",
     "text": [
      "+----------+------+-----+--------------------+\n",
      "|      Date|  open|Close|        Daily_Return|\n",
      "+----------+------+-----+--------------------+\n",
      "|2025-06-06| 20.17|20.06|-0.00545364402578101|\n",
      "|2025-06-05| 20.27|19.99|-0.01381351751356...|\n",
      "|2025-06-04| 20.34|20.25|-0.00442477876106194|\n",
      "|2025-06-02|19.482|19.74|0.013242993532491486|\n",
      "|2025-05-29| 20.54|20.25|-0.01411879259980...|\n",
      "|2025-05-27| 20.44|20.55|0.005381604696673162|\n",
      "|2025-05-23| 20.16|20.05|-0.00545634920634...|\n",
      "|2025-05-21| 21.19|20.69|-0.02359603586597...|\n",
      "|2025-05-19| 21.18|21.38|0.009442870632672299|\n",
      "|2025-05-16| 21.53|21.66|0.006038086391082165|\n",
      "|2025-05-15| 21.23|21.55|0.015073009891662754|\n",
      "|2025-05-14| 22.35|21.52|-0.03713646532438487|\n",
      "|2025-05-12| 22.18|22.18|                 0.0|\n",
      "|2025-05-09|  21.2|21.42|0.010377358490566152|\n",
      "|2025-05-08| 21.01| 21.0|-4.75963826749241...|\n",
      "|2025-05-07| 19.97|20.31|0.017025538307461185|\n",
      "|2025-05-06| 19.92|19.94|0.001004016064257...|\n",
      "|2025-05-05| 20.39|20.27|-0.00588523786169...|\n",
      "|2025-05-02| 20.26|20.62|0.017769002961500465|\n",
      "|2025-04-30| 19.71| 20.1| 0.01978691019786913|\n",
      "|2025-04-28| 20.12|20.51|  0.0193836978131213|\n",
      "|2025-04-25| 19.73|20.05|0.016218955904713648|\n",
      "|2025-04-24|21.035|21.49| 0.02163061564059892|\n",
      "|2025-04-23|20.715|20.59|-0.00603427468018...|\n",
      "|2025-04-22|19.055|19.51| 0.02387824717921815|\n",
      "|2025-04-21| 18.93|18.84|-0.00475435816164817|\n",
      "|2025-04-16| 19.34|19.23|-0.00568769389865...|\n",
      "|2025-04-14| 20.59|20.31|-0.01359883438562...|\n",
      "|2025-04-11|19.245|19.74|0.025720966484801114|\n",
      "|2025-04-10|20.675|19.88|-0.03845223700120927|\n",
      "|2025-04-09| 18.07|21.53| 0.19147758716104044|\n",
      "|2025-04-08| 20.06|18.13|-0.09621136590229311|\n",
      "|2025-04-07| 19.14|19.57|0.022466039707419002|\n",
      "|2025-04-04|  21.7|19.85|-0.08525345622119807|\n",
      "|2025-04-02| 21.89|21.98|0.004111466423024205|\n",
      "|2025-03-31| 22.38|22.71| 0.01474530831099204|\n",
      "|2025-03-28| 23.35|22.71|-0.02740899357601...|\n",
      "|2025-03-26| 24.25|23.42|-0.03422680412371127|\n",
      "|2025-03-25|24.175| 24.2|0.001034126163391875|\n",
      "|2025-03-24|24.715|24.22|-0.02002832288084...|\n",
      "|2025-03-21|  23.6|24.26|0.027966101694915257|\n",
      "|2025-03-20| 23.77|23.96|0.007993268826251631|\n",
      "|2025-03-19|  24.9|24.12|-0.03132530120481918|\n",
      "|2025-03-17| 24.42|25.69|0.052006552006551986|\n",
      "|2025-03-14|23.675|24.05| 0.01583949313621964|\n",
      "|2025-03-12| 20.79|20.68|-0.00529100529100...|\n",
      "|2025-03-10| 20.24|19.93|-0.01531620553359...|\n",
      "|2025-03-06| 20.26|20.75| 0.02418558736426448|\n",
      "|2025-03-05| 21.33|20.81|-0.02437880918893...|\n",
      "|2025-03-03|  25.0|22.74|-0.09040000000000006|\n",
      "+----------+------+-----+--------------------+\n",
      "only showing top 50 rows\n",
      "\n"
     ]
    }
   ],
   "source": [
    "df.select(\"Date\", \"open\",  \"Close\", \"Daily_Return\").show(50)"
   ]
  },
  {
   "cell_type": "code",
   "execution_count": 85,
   "id": "d828ef8e-d807-4dc4-893c-e332c970a391",
   "metadata": {},
   "outputs": [
    {
     "data": {
      "text/plain": [
       "-0.3487975309276584"
      ]
     },
     "execution_count": 85,
     "metadata": {},
     "output_type": "execute_result"
    }
   ],
   "source": [
    " df.agg(sum(\"Daily_return\")).collect()[0][0]"
   ]
  },
  {
   "cell_type": "markdown",
   "id": "3220ad8d-dabf-49b7-80e3-dad1e5d204ad",
   "metadata": {},
   "source": [
    "### Grouping and Aggregations"
   ]
  },
  {
   "cell_type": "code",
   "execution_count": 87,
   "id": "03488e82-6839-4f4e-afa6-506525834879",
   "metadata": {},
   "outputs": [],
   "source": [
    "#Monthly average closing price"
   ]
  },
  {
   "cell_type": "code",
   "execution_count": 90,
   "id": "d7a34b83-d367-4566-8ad1-3be9cb617cf6",
   "metadata": {},
   "outputs": [
    {
     "name": "stdout",
     "output_type": "stream",
     "text": [
      "+-----+------------------+\n",
      "|Month|         Avg_Close|\n",
      "+-----+------------------+\n",
      "|    1|34.951842105263154|\n",
      "|    2|34.684999999999995|\n",
      "|    3| 34.68371428571429|\n",
      "|    4| 29.60184210526316|\n",
      "|    5|26.685555555555553|\n",
      "|    6| 28.80565217391304|\n",
      "|    7| 32.63285714285714|\n",
      "|    8| 20.81142857142857|\n",
      "|    9| 21.15157894736842|\n",
      "|   10|26.239259259259256|\n",
      "|   11| 33.91027027027028|\n",
      "|   12|            32.845|\n",
      "+-----+------------------+\n",
      "\n"
     ]
    }
   ],
   "source": [
    "df.groupBy(month(\"Date\").alias(\"Month\")).agg(avg(\"Close\"). \\\n",
    "                        alias(\"Avg_Close\")).orderBy(\"Month\").show(20)"
   ]
  },
  {
   "cell_type": "markdown",
   "id": "cecf3148-ccdd-4106-8d09-6f26c92370ac",
   "metadata": {},
   "source": [
    "### Handling missing Data"
   ]
  },
  {
   "cell_type": "code",
   "execution_count": 91,
   "id": "e7623c14-2bd5-4499-aa7f-a4d10e399ac8",
   "metadata": {},
   "outputs": [
    {
     "name": "stdout",
     "output_type": "stream",
     "text": [
      "+----+----------+------+-------+-------+-----+-----------+-------------+------------------+------------------+------------------+------------------+------------------+------------------+------------------+------------------+------------------+-----+-----+-----+-----+------+------+------+------+-------+-----------+-----+-----+-----+--------------------+\n",
      "|  id|      date|  open|   high|    low|close|     volume|     vol_fiat|             sma10|             sma20|             sma30|             sma50|            sma100|            sma200|            sma400|            sma500|           sma1000|ema10|ema20|ema30|ema50|ema100|ema200|ema400|ema500|ema1000|      macd1|macd2|macd3|macd4|        Daily_Return|\n",
      "+----+----------+------+-------+-------+-----+-----------+-------------+------------------+------------------+------------------+------------------+------------------+------------------+------------------+------------------+------------------+-----+-----+-----+-----+------+------+------+------+-------+-----------+-----+-----+-----+--------------------+\n",
      "|1278|2025-06-06| 20.17|  20.44|  20.03|20.06|7.0072846E7|1749240000000|            20.462|20.676499999999997|            20.456|           21.1798|21.120500000000003|22.942600000000002|           31.0254|31.321240000000003|37.588480000000004|    0|    0|    0|    0|     0|     0|     0|     0|      0|-0.04534034|    0|    0|    0|-0.00545364402578101|\n",
      "|1277|2025-06-05| 20.27|  20.55|  19.85|19.99|7.2595606E7|1749153600000|            20.611|            20.699|            20.505|21.253200000000003|21.156399999999998|          22.99775|31.061574999999998|          31.33984|          37.63046|    0|    0|    0|    0|     0|     0|     0|     0|      0|-0.04716657|    0|    0|    0|-0.01381351751356...|\n",
      "|1275|2025-06-04| 20.34|   20.5|  20.01|20.25|7.1166549E7|1749067200000|            20.764|            20.702|20.442999999999998|           21.3152|           21.2052|23.050900000000002|31.097375000000003|          31.35792|          37.67395|    0|    0|    0|    0|     0|     0|     0|     0|      0|-0.03510595|    0|    0|    0|-0.00442477876106194|\n",
      "|1273|2025-06-02|19.482|  19.82|19.3745|19.74|6.7885473E7|1748894400000|            20.957|20.764000000000003|20.420333333333335|           21.3806|           21.2477|23.102800000000002|           31.1308|          31.37368|          37.71933|    0|    0|    0|    0|     0|     0|     0|     0|      0|-0.03566972|    0|    0|    0|0.013242993532491486|\n",
      "|1271|2025-05-29| 20.54| 20.595|   20.1|20.25|6.6485207E7|1748548800000|            21.125|           20.8065|            20.424|           21.4712|           21.2947|23.159000000000002|         31.164575|31.391119999999997|37.763349999999996|    0|    0|    0|    0|     0|     0|     0|     0|      0| 0.02194437|    0|    0|    0|-0.01411879259980...|\n",
      "|1269|2025-05-27| 20.44|  20.67|  20.18|20.55|6.9504564E7|1748376000000|              21.2|           20.7695| 20.48166666666667|            21.588|           21.3323|             23.21|         31.195425|31.408939999999998|37.806824999999996|    0|    0|    0|    0|     0|     0|     0|     0|      0| 0.06357569|    0|    0|    0|0.005381604696673162|\n",
      "|1267|2025-05-23| 20.16|  20.27|  19.94|20.05|6.8206064E7|1748030400000|            21.176|            20.684| 20.55366666666667|21.691399999999998|           21.3688|          23.25955|            31.229|          31.42746|         37.852055|    0|    0|    0|    0|     0|     0|     0|     0|      0| 0.09768697|    0|    0|    0|-0.00545634920634...|\n",
      "|1265|2025-05-21| 21.19|21.6292|  20.59|20.69|6.2904697E7|1747857600000|            21.165|            20.643|20.642333333333333|           21.8382|21.416700000000002|           23.3131|31.261100000000003|          31.44418|         37.896785|    0|    0|    0|    0|     0|     0|     0|     0|      0| 0.19863315|    0|    0|    0|-0.02359603586597...|\n",
      "|1263|2025-05-19| 21.18|  21.56|  21.05|21.38|6.4279077E7|1747684800000|21.122999999999998|20.624000000000002|20.733333333333334|           21.8964|           21.4533|23.364250000000002|         31.292225|          31.45882|37.939885000000004|    0|    0|    0|    0|     0|     0|     0|     0|      0|  0.2820511|    0|    0|    0|0.009442870632672299|\n",
      "|1262|2025-05-16| 21.53|  21.76|  21.35|21.66|5.5795144E7|1747425600000|            21.047|            20.542|20.827333333333335|           21.8882|           21.4898|           23.4119|          31.32065|          31.46996|         37.981405|    0|    0|    0|    0|     0|     0|     0|     0|      0| 0.32615818|    0|    0|    0|0.006038086391082165|\n",
      "|1260|2025-05-15| 21.23|  21.63| 21.185|21.55|6.6705457E7|1747339200000|            20.891|            20.453|20.912666666666667|           21.8504|21.522399999999998|           23.4573|          31.34795|31.481080000000002|         38.023055|    0|    0|    0|    0|     0|     0|     0|     0|      0| 0.33536202|    0|    0|    0|0.015073009891662754|\n",
      "|1259|2025-05-14| 22.35|  22.46|  21.46|21.52|9.1584827E7|1747252800000|            20.787|            20.452|            21.003|21.801399999999997|21.557399999999998|23.501649999999998|           31.3779|          31.49086|         38.063755|    0|    0|    0|    0|     0|     0|     0|     0|      0| 0.35168588|    0|    0|    0|-0.03713646532438487|\n",
      "|1257|2025-05-12| 22.18|  22.67|  21.88|22.18|9.4578691E7|1747080000000|             20.64|           20.2825|21.084333333333333|            21.764|21.604200000000002|          23.54795|         31.411025|31.499779999999998|         38.104905|    0|    0|    0|    0|     0|     0|     0|     0|      0| 0.36162191|    0|    0|    0|                 0.0|\n",
      "|1256|2025-05-09|  21.2|  21.45|  20.83|21.42|5.1768565E7|1746820800000|            20.571|            20.152|            21.149|           21.7062|           21.6329|           23.5872|         31.444775|          31.50648|38.142574999999994|    0|    0|    0|    0|     0|     0|     0|     0|      0|  0.2845669|    0|    0|    0|0.010377358490566152|\n",
      "|1254|2025-05-08| 21.01|  21.24|  20.64| 21.0|7.1651698E7|1746734400000|            20.488|20.073500000000003|21.291333333333334|21.665399999999998|           21.6439|          23.63155|          31.47845|          31.51562|         38.181895|    0|    0|    0|    0|     0|     0|     0|     0|      0| 0.24328622|    0|    0|    0|-4.75963826749241...|\n",
      "|1253|2025-05-07| 19.97|  20.37|  19.82|20.31|6.1134293E7|1746648000000|20.339000000000002|           20.1225|21.392999999999997|            21.634|           21.6659|23.680799999999998|31.512649999999997|31.526419999999998|         38.219225|    0|    0|    0|    0|     0|     0|     0|     0|      0| 0.17561901|    0|    0|    0|0.017025538307461185|\n",
      "|1251|2025-05-06| 19.92|  20.12|  19.77|19.94|5.1330772E7|1746561600000|            20.192|           20.2425| 21.40533333333333|            21.628|           21.6858|           23.7302|31.547575000000002|           31.5382|38.258815000000006|    0|    0|    0|    0|     0|     0|     0|     0|      0|   0.142305|    0|    0|    0|0.001004016064257...|\n",
      "|1249|2025-05-05| 20.39|  20.58| 20.235|20.27|4.4236981E7|1746475200000|20.121000000000002|            20.381|21.404999999999998|21.624200000000002|           21.7154|23.781149999999997|31.585275000000003|          31.54898|         38.300115|    0|    0|    0|    0|     0|     0|     0|     0|      0| 0.13379158|    0|    0|    0|-0.00588523786169...|\n",
      "|1247|2025-05-02| 20.26|  20.78|  20.21|20.62|6.3298512E7|1746216000000|            20.125|           20.5385|            21.421|           21.6148|           21.7419|           23.8334|         31.622675|           31.5583|         38.342725|    0|    0|    0|    0|     0|     0|     0|     0|      0| 0.10969692|    0|    0|    0|0.017769002961500465|\n",
      "|1245|2025-04-30| 19.71|  20.18|  19.55| 20.1|6.8297323E7|1746043200000|            20.037|           20.7175|21.427333333333333|           21.6082|           21.7625|           23.8807|           31.6583|31.566860000000002|         38.382885|    0|    0|    0|    0|     0|     0|     0|     0|      0| 0.05382576|    0|    0|    0| 0.01978691019786913|\n",
      "+----+----------+------+-------+-------+-----+-----------+-------------+------------------+------------------+------------------+------------------+------------------+------------------+------------------+------------------+------------------+-----+-----+-----+-----+------+------+------+------+-------+-----------+-----+-----+-----+--------------------+\n",
      "only showing top 20 rows\n",
      "\n"
     ]
    }
   ],
   "source": [
    "df_clean = df.na.drop()\n",
    "df_clean.show(20)"
   ]
  },
  {
   "cell_type": "code",
   "execution_count": 92,
   "id": "d7b7f446-958b-4d4d-af98-5c5929000554",
   "metadata": {},
   "outputs": [],
   "source": [
    "# fill nulls with mean\n",
    "from pyspark.sql.functions import mean"
   ]
  },
  {
   "cell_type": "code",
   "execution_count": 93,
   "id": "f52ce190-1a53-4c9b-8795-956c2552fd4b",
   "metadata": {},
   "outputs": [],
   "source": [
    "mean_close = df.select(mean(\"Close\")).collect()[0][0]\n",
    "df_filled = df.na.fill(mean_close, subset = [\"Close\"])"
   ]
  },
  {
   "cell_type": "code",
   "execution_count": 94,
   "id": "6ac76620-d361-4f3e-9f43-88493c7ce6a9",
   "metadata": {},
   "outputs": [
    {
     "name": "stdout",
     "output_type": "stream",
     "text": [
      "+----+----------+------+-------+-------+-----+-----------+-------------+------------------+------------------+------------------+------------------+------------------+------------------+------------------+------------------+------------------+-----+-----+-----+-----+------+------+------+------+-------+-----------+-----+-----+-----+--------------------+\n",
      "|  id|      date|  open|   high|    low|close|     volume|     vol_fiat|             sma10|             sma20|             sma30|             sma50|            sma100|            sma200|            sma400|            sma500|           sma1000|ema10|ema20|ema30|ema50|ema100|ema200|ema400|ema500|ema1000|      macd1|macd2|macd3|macd4|        Daily_Return|\n",
      "+----+----------+------+-------+-------+-----+-----------+-------------+------------------+------------------+------------------+------------------+------------------+------------------+------------------+------------------+------------------+-----+-----+-----+-----+------+------+------+------+-------+-----------+-----+-----+-----+--------------------+\n",
      "|1278|2025-06-06| 20.17|  20.44|  20.03|20.06|7.0072846E7|1749240000000|            20.462|20.676499999999997|            20.456|           21.1798|21.120500000000003|22.942600000000002|           31.0254|31.321240000000003|37.588480000000004|    0|    0|    0|    0|     0|     0|     0|     0|      0|-0.04534034|    0|    0|    0|-0.00545364402578101|\n",
      "|1277|2025-06-05| 20.27|  20.55|  19.85|19.99|7.2595606E7|1749153600000|            20.611|            20.699|            20.505|21.253200000000003|21.156399999999998|          22.99775|31.061574999999998|          31.33984|          37.63046|    0|    0|    0|    0|     0|     0|     0|     0|      0|-0.04716657|    0|    0|    0|-0.01381351751356...|\n",
      "|1275|2025-06-04| 20.34|   20.5|  20.01|20.25|7.1166549E7|1749067200000|            20.764|            20.702|20.442999999999998|           21.3152|           21.2052|23.050900000000002|31.097375000000003|          31.35792|          37.67395|    0|    0|    0|    0|     0|     0|     0|     0|      0|-0.03510595|    0|    0|    0|-0.00442477876106194|\n",
      "|1273|2025-06-02|19.482|  19.82|19.3745|19.74|6.7885473E7|1748894400000|            20.957|20.764000000000003|20.420333333333335|           21.3806|           21.2477|23.102800000000002|           31.1308|          31.37368|          37.71933|    0|    0|    0|    0|     0|     0|     0|     0|      0|-0.03566972|    0|    0|    0|0.013242993532491486|\n",
      "|1271|2025-05-29| 20.54| 20.595|   20.1|20.25|6.6485207E7|1748548800000|            21.125|           20.8065|            20.424|           21.4712|           21.2947|23.159000000000002|         31.164575|31.391119999999997|37.763349999999996|    0|    0|    0|    0|     0|     0|     0|     0|      0| 0.02194437|    0|    0|    0|-0.01411879259980...|\n",
      "|1269|2025-05-27| 20.44|  20.67|  20.18|20.55|6.9504564E7|1748376000000|              21.2|           20.7695| 20.48166666666667|            21.588|           21.3323|             23.21|         31.195425|31.408939999999998|37.806824999999996|    0|    0|    0|    0|     0|     0|     0|     0|      0| 0.06357569|    0|    0|    0|0.005381604696673162|\n",
      "|1267|2025-05-23| 20.16|  20.27|  19.94|20.05|6.8206064E7|1748030400000|            21.176|            20.684| 20.55366666666667|21.691399999999998|           21.3688|          23.25955|            31.229|          31.42746|         37.852055|    0|    0|    0|    0|     0|     0|     0|     0|      0| 0.09768697|    0|    0|    0|-0.00545634920634...|\n",
      "|1265|2025-05-21| 21.19|21.6292|  20.59|20.69|6.2904697E7|1747857600000|            21.165|            20.643|20.642333333333333|           21.8382|21.416700000000002|           23.3131|31.261100000000003|          31.44418|         37.896785|    0|    0|    0|    0|     0|     0|     0|     0|      0| 0.19863315|    0|    0|    0|-0.02359603586597...|\n",
      "|1263|2025-05-19| 21.18|  21.56|  21.05|21.38|6.4279077E7|1747684800000|21.122999999999998|20.624000000000002|20.733333333333334|           21.8964|           21.4533|23.364250000000002|         31.292225|          31.45882|37.939885000000004|    0|    0|    0|    0|     0|     0|     0|     0|      0|  0.2820511|    0|    0|    0|0.009442870632672299|\n",
      "|1262|2025-05-16| 21.53|  21.76|  21.35|21.66|5.5795144E7|1747425600000|            21.047|            20.542|20.827333333333335|           21.8882|           21.4898|           23.4119|          31.32065|          31.46996|         37.981405|    0|    0|    0|    0|     0|     0|     0|     0|      0| 0.32615818|    0|    0|    0|0.006038086391082165|\n",
      "|1260|2025-05-15| 21.23|  21.63| 21.185|21.55|6.6705457E7|1747339200000|            20.891|            20.453|20.912666666666667|           21.8504|21.522399999999998|           23.4573|          31.34795|31.481080000000002|         38.023055|    0|    0|    0|    0|     0|     0|     0|     0|      0| 0.33536202|    0|    0|    0|0.015073009891662754|\n",
      "|1259|2025-05-14| 22.35|  22.46|  21.46|21.52|9.1584827E7|1747252800000|            20.787|            20.452|            21.003|21.801399999999997|21.557399999999998|23.501649999999998|           31.3779|          31.49086|         38.063755|    0|    0|    0|    0|     0|     0|     0|     0|      0| 0.35168588|    0|    0|    0|-0.03713646532438487|\n",
      "|1257|2025-05-12| 22.18|  22.67|  21.88|22.18|9.4578691E7|1747080000000|             20.64|           20.2825|21.084333333333333|            21.764|21.604200000000002|          23.54795|         31.411025|31.499779999999998|         38.104905|    0|    0|    0|    0|     0|     0|     0|     0|      0| 0.36162191|    0|    0|    0|                 0.0|\n",
      "|1256|2025-05-09|  21.2|  21.45|  20.83|21.42|5.1768565E7|1746820800000|            20.571|            20.152|            21.149|           21.7062|           21.6329|           23.5872|         31.444775|          31.50648|38.142574999999994|    0|    0|    0|    0|     0|     0|     0|     0|      0|  0.2845669|    0|    0|    0|0.010377358490566152|\n",
      "|1254|2025-05-08| 21.01|  21.24|  20.64| 21.0|7.1651698E7|1746734400000|            20.488|20.073500000000003|21.291333333333334|21.665399999999998|           21.6439|          23.63155|          31.47845|          31.51562|         38.181895|    0|    0|    0|    0|     0|     0|     0|     0|      0| 0.24328622|    0|    0|    0|-4.75963826749241...|\n",
      "|1253|2025-05-07| 19.97|  20.37|  19.82|20.31|6.1134293E7|1746648000000|20.339000000000002|           20.1225|21.392999999999997|            21.634|           21.6659|23.680799999999998|31.512649999999997|31.526419999999998|         38.219225|    0|    0|    0|    0|     0|     0|     0|     0|      0| 0.17561901|    0|    0|    0|0.017025538307461185|\n",
      "|1251|2025-05-06| 19.92|  20.12|  19.77|19.94|5.1330772E7|1746561600000|            20.192|           20.2425| 21.40533333333333|            21.628|           21.6858|           23.7302|31.547575000000002|           31.5382|38.258815000000006|    0|    0|    0|    0|     0|     0|     0|     0|      0|   0.142305|    0|    0|    0|0.001004016064257...|\n",
      "|1249|2025-05-05| 20.39|  20.58| 20.235|20.27|4.4236981E7|1746475200000|20.121000000000002|            20.381|21.404999999999998|21.624200000000002|           21.7154|23.781149999999997|31.585275000000003|          31.54898|         38.300115|    0|    0|    0|    0|     0|     0|     0|     0|      0| 0.13379158|    0|    0|    0|-0.00588523786169...|\n",
      "|1247|2025-05-02| 20.26|  20.78|  20.21|20.62|6.3298512E7|1746216000000|            20.125|           20.5385|            21.421|           21.6148|           21.7419|           23.8334|         31.622675|           31.5583|         38.342725|    0|    0|    0|    0|     0|     0|     0|     0|      0| 0.10969692|    0|    0|    0|0.017769002961500465|\n",
      "|1245|2025-04-30| 19.71|  20.18|  19.55| 20.1|6.8297323E7|1746043200000|            20.037|           20.7175|21.427333333333333|           21.6082|           21.7625|           23.8807|           31.6583|31.566860000000002|         38.382885|    0|    0|    0|    0|     0|     0|     0|     0|      0| 0.05382576|    0|    0|    0| 0.01978691019786913|\n",
      "+----+----------+------+-------+-------+-----+-----------+-------------+------------------+------------------+------------------+------------------+------------------+------------------+------------------+------------------+------------------+-----+-----+-----+-----+------+------+------+------+-------+-----------+-----+-----+-----+--------------------+\n",
      "only showing top 20 rows\n",
      "\n"
     ]
    }
   ],
   "source": [
    "df_filled.show(20)"
   ]
  },
  {
   "cell_type": "code",
   "execution_count": 95,
   "id": "f3b07515-7d84-461a-8f40-1f281b89421c",
   "metadata": {},
   "outputs": [],
   "source": [
    "min_close = df.select(min(\"Close\")).collect()[0][0]"
   ]
  },
  {
   "cell_type": "code",
   "execution_count": 96,
   "id": "13a76df3-d264-48c7-a737-503c42c2fb33",
   "metadata": {},
   "outputs": [
    {
     "data": {
      "text/plain": [
       "18.13"
      ]
     },
     "execution_count": 96,
     "metadata": {},
     "output_type": "execute_result"
    }
   ],
   "source": [
    "min_close"
   ]
  },
  {
   "cell_type": "code",
   "execution_count": 97,
   "id": "3849e5f4-5c41-4157-932c-164314981191",
   "metadata": {},
   "outputs": [
    {
     "data": {
      "text/plain": [
       "30.518465753424653"
      ]
     },
     "execution_count": 97,
     "metadata": {},
     "output_type": "execute_result"
    }
   ],
   "source": [
    "mean_close"
   ]
  },
  {
   "cell_type": "markdown",
   "id": "174ea582-ff9f-4d7a-b0ee-1fef89a5ee45",
   "metadata": {},
   "source": [
    "### Advanced Techniques:"
   ]
  },
  {
   "cell_type": "code",
   "execution_count": 100,
   "id": "fe2a3a52-0447-477f-8049-55ede8d294c2",
   "metadata": {},
   "outputs": [],
   "source": [
    "# Windows functions\n",
    "from pyspark.sql.window import Window\n",
    "window_spec = Window.orderBy(\"Date\").rowsBetween(-27, 0)\n",
    "df = df.withColumn(\"27Day_MA\", avg(\"Close\").over(window_spec))"
   ]
  },
  {
   "cell_type": "code",
   "execution_count": 101,
   "id": "a2fb7a0c-7fc4-4645-9198-3b7c506761ff",
   "metadata": {},
   "outputs": [
    {
     "name": "stdout",
     "output_type": "stream",
     "text": [
      "+---+----------+-----+-----+------+-----+-----------+-------------+------------------+------------------+-----------------+-------+------------------+------------------+----------+------------------+-------+-----+-----+-----+-----+------+------+------+------+-------+-----------+-----+-----+-----+--------------------+------------------+------------------+\n",
      "| id|      date| open| high|   low|close|     volume|     vol_fiat|             sma10|             sma20|            sma30|  sma50|            sma100|            sma200|    sma400|            sma500|sma1000|ema10|ema20|ema30|ema50|ema100|ema200|ema400|ema500|ema1000|      macd1|macd2|macd3|macd4|        Daily_Return|           7Day_MA|          27Day_MA|\n",
      "+---+----------+-----+-----+------+-----+-----------+-------------+------------------+------------------+-----------------+-------+------------------+------------------+----------+------------------+-------+-----+-----+-----+-----+------+------+------+------+-------+-----------+-----+-----+-----+--------------------+------------------+------------------+\n",
      "|698|2023-10-20|35.65|36.28| 34.87|34.92|3.2303325E7|1697832000000|            36.103|           35.6825|36.14033333333334| 35.567|34.458800000000004|31.644000000000002|34.2888875|37.564949999999996|    0.0|    0|    0|    0|    0|     0|     0|     0|     0|      0|-0.06714202|    0|    0|    0|-0.02047685834502095|             34.92|             34.92|\n",
      "|699|2023-10-23| 34.6|35.19| 33.39|33.85|5.3924661E7|1698091200000|            35.882|           35.6605|35.98233333333334|35.5462|34.494499999999995|           31.6775|34.2513375|          37.52429|    0.0|    0|    0|    0|    0|     0|     0|     0|     0|      0| -0.1609627|    0|    0|    0|-0.02167630057803468|34.385000000000005|34.385000000000005|\n",
      "|700|2023-10-24|33.64|34.71| 33.64|34.59|5.2673857E7|1698177600000|            35.698|           35.6985|            35.84|35.5244|34.545300000000005|          31.71585|34.2179875|          37.48585|    0.0|    0|    0|    0|    0|     0|     0|     0|     0|      0|-0.16319102|    0|    0|    0| 0.02824019024970282| 34.45333333333334| 34.45333333333334|\n",
      "|701|2023-10-25|34.18|34.45| 32.55|32.83|4.4658462E7|1698264000000|            35.293|35.609500000000004|           35.644|35.4856|34.583600000000004|          31.74605|34.1798875|          37.44463|    0.0|    0|    0|    0|    0|     0|     0|     0|     0|      0|-0.25736174|    0|    0|    0|-0.03949678174370981|           34.0475|           34.0475|\n",
      "|702|2023-10-26|32.89|33.22|32.145|32.52|5.9049509E7|1698350400000|34.861000000000004|           35.4765|           35.439|35.4654|           34.6348|          31.77645|34.1419875|          37.40533|    0.0|    0|    0|    0|    0|     0|     0|     0|     0|      0|-0.31912054|    0|    0|    0|-0.01124961994527...|33.742000000000004|33.742000000000004|\n",
      "+---+----------+-----+-----+------+-----+-----------+-------------+------------------+------------------+-----------------+-------+------------------+------------------+----------+------------------+-------+-----+-----+-----+-----+------+------+------+------+-------+-----------+-----+-----+-----+--------------------+------------------+------------------+\n",
      "only showing top 5 rows\n",
      "\n"
     ]
    }
   ],
   "source": [
    "df.show(5)"
   ]
  },
  {
   "cell_type": "code",
   "execution_count": 102,
   "id": "39d4010d-fcee-431f-a08b-63d03fd7ea34",
   "metadata": {},
   "outputs": [
    {
     "name": "stdout",
     "output_type": "stream",
     "text": [
      "+---+----------+-----+-----------+------------------+\n",
      "| id|      date|close|      macd1|           7Day_MA|\n",
      "+---+----------+-----+-----------+------------------+\n",
      "|698|2023-10-20|34.92|-0.06714202|             34.92|\n",
      "|699|2023-10-23|33.85| -0.1609627|34.385000000000005|\n",
      "|700|2023-10-24|34.59|-0.16319102| 34.45333333333334|\n",
      "|701|2023-10-25|32.83|-0.25736174|           34.0475|\n",
      "|702|2023-10-26|32.52|-0.31912054|33.742000000000004|\n",
      "|703|2023-10-27|35.54| -0.1429245|34.041666666666664|\n",
      "|704|2023-10-30|35.69|-0.01093978|34.277142857142856|\n",
      "|705|2023-10-31| 36.5| 0.12838222|            34.555|\n",
      "|706|2023-11-01|37.29| 0.26266424|          34.85125|\n",
      "|707|2023-11-02| 37.7| 0.35505436|35.332499999999996|\n",
      "|708|2023-11-03|38.14| 0.42045134|          35.77625|\n",
      "|709|2023-11-06|37.95| 0.42661296|          36.41625|\n",
      "|710|2023-11-07|38.77| 0.45754678| 37.19749999999999|\n",
      "|711|2023-11-08|37.92| 0.39191314|            37.495|\n",
      "|712|2023-11-09| 37.8| 0.32115718|          37.75875|\n",
      "|713|2023-11-10|38.86| 0.32531548| 38.05375000000001|\n",
      "|714|2023-11-13|38.23| 0.26711512| 38.17125000000001|\n",
      "|715|2023-11-14|39.41| 0.29065243|38.385000000000005|\n",
      "|716|2023-11-15|40.61| 0.36876838|          38.69375|\n",
      "|717|2023-11-16|43.35| 0.56365622|          39.36875|\n",
      "+---+----------+-----+-----------+------------------+\n",
      "only showing top 20 rows\n",
      "\n"
     ]
    }
   ],
   "source": [
    "df.select(\"id\", \"date\", \"close\", 'macd1', \"7Day_MA\").show(20)"
   ]
  },
  {
   "cell_type": "markdown",
   "id": "5d867e92-32bc-4272-b485-daede9f0b9f7",
   "metadata": {},
   "source": [
    "### User Defined Functions (UDF)"
   ]
  },
  {
   "cell_type": "code",
   "execution_count": 103,
   "id": "1b46049c-701e-47a1-b7b0-49a6e7252f02",
   "metadata": {},
   "outputs": [],
   "source": [
    "# Register a python function as UDF\n",
    "def categorize_vol(volume):\n",
    "    return \"High\" if volume > 1e7 else \"Low\""
   ]
  },
  {
   "cell_type": "code",
   "execution_count": 104,
   "id": "261e1436-c384-424c-8120-e9536ef17013",
   "metadata": {},
   "outputs": [],
   "source": [
    "vol_udf = udf(categorize_vol, StringType())\n",
    "df = df.withColumn(\"Volume_Category\", vol_udf(col(\"Volume\")))"
   ]
  },
  {
   "cell_type": "code",
   "execution_count": 105,
   "id": "97e922ed-0880-43db-8bdf-336c05413d49",
   "metadata": {},
   "outputs": [
    {
     "name": "stdout",
     "output_type": "stream",
     "text": [
      "+---+----------+------+------+-------+-----+-----------+-------------+------------------+------------------+------------------+------------------+------------------+------------------+------------------+------------------+-------+-----+-----+-----+-----+------+------+------+------+-------+-----------+-----+-----+-----+--------------------+------------------+------------------+---------------+\n",
      "| id|      date|  open|  high|    low|close|     volume|     vol_fiat|             sma10|             sma20|             sma30|             sma50|            sma100|            sma200|            sma400|            sma500|sma1000|ema10|ema20|ema30|ema50|ema100|ema200|ema400|ema500|ema1000|      macd1|macd2|macd3|macd4|        Daily_Return|           7Day_MA|          27Day_MA|Volume_Category|\n",
      "+---+----------+------+------+-------+-----+-----------+-------------+------------------+------------------+------------------+------------------+------------------+------------------+------------------+------------------+-------+-----+-----+-----+-----+------+------+------+------+-------+-----------+-----+-----+-----+--------------------+------------------+------------------+---------------+\n",
      "|698|2023-10-20| 35.65| 36.28|  34.87|34.92|3.2303325E7|1697832000000|            36.103|           35.6825| 36.14033333333334|            35.567|34.458800000000004|31.644000000000002|        34.2888875|37.564949999999996|    0.0|    0|    0|    0|    0|     0|     0|     0|     0|      0|-0.06714202|    0|    0|    0|-0.02047685834502095|             34.92|             34.92|           High|\n",
      "|699|2023-10-23|  34.6| 35.19|  33.39|33.85|5.3924661E7|1698091200000|            35.882|           35.6605| 35.98233333333334|           35.5462|34.494499999999995|           31.6775|        34.2513375|          37.52429|    0.0|    0|    0|    0|    0|     0|     0|     0|     0|      0| -0.1609627|    0|    0|    0|-0.02167630057803468|34.385000000000005|34.385000000000005|           High|\n",
      "|700|2023-10-24| 33.64| 34.71|  33.64|34.59|5.2673857E7|1698177600000|            35.698|           35.6985|             35.84|           35.5244|34.545300000000005|          31.71585|        34.2179875|          37.48585|    0.0|    0|    0|    0|    0|     0|     0|     0|     0|      0|-0.16319102|    0|    0|    0| 0.02824019024970282| 34.45333333333334| 34.45333333333334|           High|\n",
      "|701|2023-10-25| 34.18| 34.45|  32.55|32.83|4.4658462E7|1698264000000|            35.293|35.609500000000004|            35.644|           35.4856|34.583600000000004|          31.74605|        34.1798875|          37.44463|    0.0|    0|    0|    0|    0|     0|     0|     0|     0|      0|-0.25736174|    0|    0|    0|-0.03949678174370981|           34.0475|           34.0475|           High|\n",
      "|702|2023-10-26| 32.89| 33.22| 32.145|32.52|5.9049509E7|1698350400000|34.861000000000004|           35.4765|            35.439|           35.4654|           34.6348|          31.77645|        34.1419875|          37.40533|    0.0|    0|    0|    0|    0|     0|     0|     0|     0|      0|-0.31912054|    0|    0|    0|-0.01124961994527...|33.742000000000004|33.742000000000004|           High|\n",
      "|703|2023-10-27| 34.66| 36.38|   34.6|35.54|8.4128212E7|1698436800000|            34.818|            35.476|            35.361|           35.5246|           34.7002|             31.82|        34.1120875|          37.37189|    0.0|    0|    0|    0|    0|     0|     0|     0|     0|      0| -0.1429245|    0|    0|    0| 0.02538949798038092|34.041666666666664|34.041666666666664|           High|\n",
      "|704|2023-10-30|35.465| 36.05|  34.92|35.69|3.6656425E7|1698696000000|            34.731|           35.4875| 35.28433333333333|35.583400000000005|           34.7475|           31.8686|        34.0822375|          37.33547|    0.0|    0|    0|    0|    0|     0|     0|     0|     0|      0|-0.01093978|    0|    0|    0| 0.00634428309600999|34.277142857142856|34.277142857142856|           High|\n",
      "|705|2023-10-31| 35.66| 36.57|  35.62| 36.5|4.1185207E7|1698782400000|            34.775|35.528000000000006| 35.28966666666667|           35.6506|           34.7997|31.920650000000002|        34.0568375|          37.29955|    0.0|    0|    0|    0|    0|     0|     0|     0|     0|      0| 0.12838222|    0|    0|    0|0.023555804823331562|            34.555|            34.555|           High|\n",
      "|706|2023-11-01|  36.5|37.315|  36.28|37.29|4.1710705E7|1698868800000|             34.94|35.596000000000004|35.376333333333335|           35.7386|           34.8544|           31.9774|        34.0354875|37.265190000000004|    0.0|    0|    0|    0|    0|     0|     0|     0|     0|      0| 0.26266424|    0|    0|    0| 0.02164383561643833|          34.85125| 34.85888888888889|           High|\n",
      "|707|2023-11-02| 37.58| 37.82|  36.91| 37.7|3.5439964E7|1698955200000|            35.143|           35.6865|35.477999999999994|            35.813|            34.918|           32.0382|        34.0187375|          37.23017|    0.0|    0|    0|    0|    0|     0|     0|     0|     0|      0| 0.35505436|    0|    0|    0|0.003193187865886231|35.332499999999996|            35.143|           High|\n",
      "|708|2023-11-03|  38.0| 38.32| 37.665|38.14|3.0502744E7|1699041600000|35.464999999999996|35.784000000000006|             35.61|            35.924|           34.9687|          32.09785|        34.0020625|          37.19571|    0.0|    0|    0|    0|    0|     0|     0|     0|     0|      0| 0.42045134|    0|    0|    0|0.003684210526315...|          35.77625|35.415454545454544|           High|\n",
      "|709|2023-11-06| 38.02|  38.2| 37.855|37.95|2.3877203E7|1699304400000|            35.875|           35.8785|            35.732|            36.018|           35.0091|          32.15545|        33.9803625|          37.15961|    0.0|    0|    0|    0|    0|     0|     0|     0|     0|      0| 0.42661296|    0|    0|    0|-0.00184113624408...|          36.41625|35.626666666666665|           High|\n",
      "|710|2023-11-07| 38.24|  38.9|  37.98|38.77|3.2052041E7|1699390800000|            36.293| 35.99550000000001| 35.89666666666667|            36.121|            35.041|32.215650000000004|        33.9594375|          37.13823|    0.0|    0|    0|    0|    0|     0|     0|     0|     0|      0| 0.45754678|    0|    0|    0|0.013859832635983293| 37.19749999999999| 35.86846153846154|           High|\n",
      "|711|2023-11-08| 38.85| 38.89|37.7492|37.92| 3.348336E7|1699477200000|            36.802|           36.0475|            36.007|36.193200000000004|            35.062|          32.26685|33.935612500000005|          37.11525|    0.0|    0|    0|    0|    0|     0|     0|     0|     0|      0| 0.39191314|    0|    0|    0|-0.02393822393822393|            37.495|            36.015|           High|\n",
      "|712|2023-11-09| 38.05|38.515|  37.77| 37.8|4.8938771E7|1699563600000|             37.33|           36.0955| 36.09433333333333|           36.2586|           35.0763|          32.31805|33.911637500000005|          37.09429|    0.0|    0|    0|    0|    0|     0|     0|     0|     0|      0| 0.32115718|    0|    0|    0|-0.00657030223390276|          37.75875|            36.134|           High|\n",
      "|713|2023-11-10| 38.24| 38.99|  38.24|38.86|3.8871279E7|1699650000000|            37.662|             36.24| 36.20466666666667|            36.333|           35.1149|           32.3687|        33.8878125|          37.07623|    0.0|    0|    0|    0|    0|     0|     0|     0|     0|      0| 0.32531548|    0|    0|    0|0.016213389121338843| 38.05375000000001|         36.304375|           High|\n",
      "|714|2023-11-13| 38.35|38.565|  38.14|38.23|2.4558261E7|1699909200000|37.916000000000004|           36.3235|36.297000000000004|           36.3654|           35.1682|           32.4133|        33.8627125|          37.05653|    0.0|    0|    0|    0|    0|     0|     0|     0|     0|      0| 0.26711512|    0|    0|    0|-0.00312907431551...| 38.17125000000001| 36.41764705882353|           High|\n",
      "|715|2023-11-14|  38.8| 39.49|  38.07|39.41|4.5457362E7|1699995600000|            38.207|            36.491| 36.42100000000001|           36.4194|           35.2352|          32.46315|        33.8321875|37.037349999999996|    0.0|    0|    0|    0|    0|     0|     0|     0|     0|      0| 0.29065243|    0|    0|    0|0.015721649484536068|38.385000000000005|36.583888888888886|           High|\n",
      "|716|2023-11-15|39.585| 40.84|  39.58|40.61|4.7392143E7|1700082000000|            38.539|           36.7395|            36.577|            36.492|           35.3113|          32.51695|        33.8041375|          37.01947|    0.0|    0|    0|    0|    0|     0|     0|     0|     0|      0| 0.36876838|    0|    0|    0| 0.02589364658330172|          38.69375| 36.79578947368421|           High|\n",
      "|717|2023-11-16|  41.0|43.395|  40.82|43.35|8.6388194E7|1700168400000|            39.104|           37.1235| 36.82566666666666|           36.5954|           35.4114|          32.58225|        33.7837375|37.006449999999994|    0.0|    0|    0|    0|    0|     0|     0|     0|     0|      0| 0.56365622|    0|    0|    0|0.057317073170731744|          39.36875|           37.1235|           High|\n",
      "+---+----------+------+------+-------+-----+-----------+-------------+------------------+------------------+------------------+------------------+------------------+------------------+------------------+------------------+-------+-----+-----+-----+-----+------+------+------+------+-------+-----------+-----+-----+-----+--------------------+------------------+------------------+---------------+\n",
      "only showing top 20 rows\n",
      "\n"
     ]
    }
   ],
   "source": [
    "df.show(20)"
   ]
  },
  {
   "cell_type": "code",
   "execution_count": 106,
   "id": "920e2c80-e473-4eff-b09c-cc72ea483d65",
   "metadata": {},
   "outputs": [
    {
     "name": "stdout",
     "output_type": "stream",
     "text": [
      "+----------+-----+-----------+---------------+\n",
      "|      date|close|     volume|Volume_Category|\n",
      "+----------+-----+-----------+---------------+\n",
      "|2025-06-06|20.06|7.0072846E7|           High|\n",
      "|2025-06-05|19.99|7.2595606E7|           High|\n",
      "|2025-06-04|20.25|7.1166549E7|           High|\n",
      "|2025-06-02|19.74|6.7885473E7|           High|\n",
      "|2025-05-29|20.25|6.6485207E7|           High|\n",
      "|2025-05-27|20.55|6.9504564E7|           High|\n",
      "|2025-05-23|20.05|6.8206064E7|           High|\n",
      "|2025-05-21|20.69|6.2904697E7|           High|\n",
      "|2025-05-19|21.38|6.4279077E7|           High|\n",
      "|2025-05-16|21.66|5.5795144E7|           High|\n",
      "|2025-05-15|21.55|6.6705457E7|           High|\n",
      "|2025-05-14|21.52|9.1584827E7|           High|\n",
      "|2025-05-12|22.18|9.4578691E7|           High|\n",
      "|2025-05-09|21.42|5.1768565E7|           High|\n",
      "|2025-05-08| 21.0|7.1651698E7|           High|\n",
      "|2025-05-07|20.31|6.1134293E7|           High|\n",
      "|2025-05-06|19.94|5.1330772E7|           High|\n",
      "|2025-05-05|20.27|4.4236981E7|           High|\n",
      "|2025-05-02|20.62|6.3298512E7|           High|\n",
      "|2025-04-30| 20.1|6.8297323E7|           High|\n",
      "+----------+-----+-----------+---------------+\n",
      "only showing top 20 rows\n",
      "\n"
     ]
    }
   ],
   "source": [
    "df.select(\"date\", \"close\", \"volume\", \"Volume_Category\").show(20)"
   ]
  },
  {
   "cell_type": "markdown",
   "id": "baaf4622-b095-433b-b8bf-ffe86909608a",
   "metadata": {},
   "source": [
    "### Performance Optimization"
   ]
  },
  {
   "cell_type": "code",
   "execution_count": 107,
   "id": "e082d5d1-8b68-40c8-8b5d-b40eba47fd7d",
   "metadata": {},
   "outputs": [
    {
     "data": {
      "text/plain": [
       "DataFrame[id: int, date: date, open: double, high: double, low: double, close: double, volume: double, vol_fiat: bigint, sma10: double, sma20: double, sma30: double, sma50: double, sma100: double, sma200: double, sma400: double, sma500: double, sma1000: double, ema10: int, ema20: int, ema30: int, ema50: int, ema100: int, ema200: int, ema400: int, ema500: int, ema1000: int, macd1: double, macd2: int, macd3: int, macd4: int, Daily_Return: double, 7Day_MA: double, 27Day_MA: double, Volume_Category: string]"
      ]
     },
     "execution_count": 107,
     "metadata": {},
     "output_type": "execute_result"
    }
   ],
   "source": [
    "# Cache frequently used dataframes\n",
    "df.cache()"
   ]
  },
  {
   "cell_type": "code",
   "execution_count": 108,
   "id": "36a06572-b494-4b14-8cac-25757ead0455",
   "metadata": {},
   "outputs": [],
   "source": [
    "# Repartition fo better parallelism\n",
    "df = df.repartition(40)"
   ]
  },
  {
   "cell_type": "code",
   "execution_count": 109,
   "id": "1d41333f-cab1-45db-8357-48662908012b",
   "metadata": {},
   "outputs": [
    {
     "data": {
      "text/plain": [
       "DataFrame[id: int, date: date, open: double, high: double, low: double, close: double, volume: double, vol_fiat: bigint, sma10: double, sma20: double, sma30: double, sma50: double, sma100: double, sma200: double, sma400: double, sma500: double, sma1000: double, ema10: int, ema20: int, ema30: int, ema50: int, ema100: int, ema200: int, ema400: int, ema500: int, ema1000: int, macd1: double, macd2: int, macd3: int, macd4: int, Daily_Return: double, 7Day_MA: double, 27Day_MA: double, Volume_Category: string]"
      ]
     },
     "execution_count": 109,
     "metadata": {},
     "output_type": "execute_result"
    }
   ],
   "source": [
    "df"
   ]
  },
  {
   "cell_type": "code",
   "execution_count": 110,
   "id": "9ea27aab-af73-4aa8-8851-e3587a0e82a3",
   "metadata": {},
   "outputs": [],
   "source": [
    "# Check execution plan"
   ]
  },
  {
   "cell_type": "code",
   "execution_count": 111,
   "id": "7986e87f-45c3-4f99-939d-5b60af4aac2b",
   "metadata": {},
   "outputs": [
    {
     "name": "stdout",
     "output_type": "stream",
     "text": [
      "== Physical Plan ==\n",
      "AdaptiveSparkPlan isFinalPlan=false\n",
      "+- Exchange RoundRobinPartitioning(40), REPARTITION_BY_NUM, [plan_id=1042]\n",
      "   +- InMemoryTableScan [id#142, date#143, open#144, high#145, low#146, close#147, volume#148, vol_fiat#149L, sma10#150, sma20#151, sma30#152, sma50#153, sma100#154, sma200#155, sma400#156, sma500#157, sma1000#158, ema10#159, ema20#160, ema30#161, ema50#162, ema100#163, ema200#164, ema400#165, ... 10 more fields]\n",
      "         +- InMemoryRelation [id#142, date#143, open#144, high#145, low#146, close#147, volume#148, vol_fiat#149L, sma10#150, sma20#151, sma30#152, sma50#153, sma100#154, sma200#155, sma400#156, sma500#157, sma1000#158, ema10#159, ema20#160, ema30#161, ema50#162, ema100#163, ema200#164, ema400#165, ... 10 more fields], StorageLevel(disk, memory, deserialized, 1 replicas)\n",
      "               +- AdaptiveSparkPlan isFinalPlan=false\n",
      "                  +- Project [id#142, date#143, open#144, high#145, low#146, close#147, volume#148, vol_fiat#149L, sma10#150, sma20#151, sma30#152, sma50#153, sma100#154, sma200#155, sma400#156, sma500#157, sma1000#158, ema10#159, ema20#160, ema30#161, ema50#162, ema100#163, ema200#164, ema400#165, ... 10 more fields]\n",
      "                     +- BatchEvalPython [categorize_vol(Volume#148)#4209], [pythonUDF0#4442]\n",
      "                        +- Window [avg(Close#147) windowspecdefinition(Date#143 ASC NULLS FIRST, specifiedwindowframe(RowFrame, -7, currentrow$())) AS 7Day_MA#3781, avg(Close#147) windowspecdefinition(Date#143 ASC NULLS FIRST, specifiedwindowframe(RowFrame, -27, currentrow$())) AS 27Day_MA#3976], [Date#143 ASC NULLS FIRST]\n",
      "                           +- Sort [Date#143 ASC NULLS FIRST], false, 0\n",
      "                              +- Exchange SinglePartition, ENSURE_REQUIREMENTS, [plan_id=1031]\n",
      "                                 +- Project [id#142, date#143, open#144, high#145, low#146, close#147, volume#148, vol_fiat#149L, sma10#150, sma20#151, sma30#152, sma50#153, sma100#154, sma200#155, sma400#156, sma500#157, sma1000#158, ema10#159, ema20#160, ema30#161, ema50#162, ema100#163, ema200#164, ema400#165, ... 7 more fields]\n",
      "                                    +- FileScan csv [id#142,date#143,open#144,high#145,low#146,close#147,volume#148,vol_fiat#149L,sma10#150,sma20#151,sma30#152,sma50#153,sma100#154,sma200#155,sma400#156,sma500#157,sma1000#158,ema10#159,ema20#160,ema30#161,ema50#162,ema100#163,ema200#164,ema400#165,... 6 more fields] Batched: false, DataFilters: [], Format: CSV, Location: InMemoryFileIndex(1 paths)[file:/c:/saad/workspace/numpy_pandas_Pyspark_tutorials/pyspark/intc.csv], PartitionFilters: [], PushedFilters: [], ReadSchema: struct<id:int,date:date,open:double,high:double,low:double,close:double,volume:double,vol_fiat:bi...\n",
      "\n",
      "\n"
     ]
    }
   ],
   "source": [
    "df.explain()"
   ]
  },
  {
   "cell_type": "markdown",
   "id": "11402a74-74b2-4f0a-ab34-969190fcffa2",
   "metadata": {},
   "source": [
    "### Saving Results"
   ]
  },
  {
   "cell_type": "code",
   "execution_count": 112,
   "id": "4e4065e2-c943-4184-8f4e-d85afa3c86e7",
   "metadata": {},
   "outputs": [],
   "source": [
    "# Save results to parque format"
   ]
  },
  {
   "cell_type": "code",
   "execution_count": 113,
   "id": "b4a0c4af-eeef-4fe7-8bf5-562a1a83c06c",
   "metadata": {},
   "outputs": [],
   "source": [
    "df.write.parquet(\"INTC_parque.parquet\")"
   ]
  },
  {
   "cell_type": "code",
   "execution_count": 114,
   "id": "45657924-da10-4aeb-aaea-6e9be5d60ffd",
   "metadata": {},
   "outputs": [],
   "source": [
    "#Exporint to csv\n",
    "df.write.csv(\"INTC_after.csv\", header=True)"
   ]
  },
  {
   "cell_type": "markdown",
   "id": "56bf4ebb-5372-4abf-bd2f-094e9c6035fb",
   "metadata": {},
   "source": [
    "#Write to a Database:\n",
    "df.write \\\n",
    "  .format(\"jdbc\") \\\n",
    "  .option(\"url\", \"jdbc:postgresql://localhost/stocks\") \\\n",
    "  .option(\"dbtable\", \"intc_data\") \\\n",
    "  .option(\"user\", \"user\") \\\n",
    "  .option(\"password\", \"password\") \\\n",
    "  .save()"
   ]
  },
  {
   "cell_type": "markdown",
   "id": "acf4f645-c816-46d6-bc02-de01cf2f8c2c",
   "metadata": {},
   "source": [
    "# Section 10 03 PySpark basic data frame operations select(), filter(), withColumn()"
   ]
  },
  {
   "cell_type": "code",
   "execution_count": 115,
   "id": "069a85cf-085f-4731-92dc-04eaed0f5d89",
   "metadata": {},
   "outputs": [],
   "source": [
    "from pyspark.sql import SparkSession\n",
    "from pyspark.sql.functions import *\n",
    "from pyspark.sql.types import *"
   ]
  },
  {
   "cell_type": "code",
   "execution_count": 116,
   "id": "791d5d8f-41e4-4d15-9c1b-19a42f9f68a3",
   "metadata": {},
   "outputs": [],
   "source": [
    "import findspark\n",
    "findspark.init(r'C:\\python311\\Lib\\site-packages\\pyspark')"
   ]
  },
  {
   "cell_type": "code",
   "execution_count": 117,
   "id": "2146c275-a34e-4673-9bd5-cebf75b48e57",
   "metadata": {},
   "outputs": [],
   "source": [
    "spark = SparkSession.builder.appName(\"DFO\").getOrCreate()"
   ]
  },
  {
   "cell_type": "code",
   "execution_count": 118,
   "id": "872b0987-7285-4e19-8d8f-f97330b4a986",
   "metadata": {},
   "outputs": [],
   "source": [
    "data = [(\"Ali\", 34, \"NY\"),\n",
    "        (\"Saad\", 45, \"CA\"),\n",
    "        (\"Cathy\", 29, \"TX\"),\n",
    "        (\"David\", 52, \"NY\")]"
   ]
  },
  {
   "cell_type": "code",
   "execution_count": 123,
   "id": "6ae26f77-09fe-4bdc-9974-a407fccfbc4b",
   "metadata": {
    "scrolled": true
   },
   "outputs": [
    {
     "name": "stdout",
     "output_type": "stream",
     "text": [
      "+-----+---+-----+\n",
      "| name|age|state|\n",
      "+-----+---+-----+\n",
      "|  Ali| 34|   NY|\n",
      "| Saad| 45|   CA|\n",
      "|Cathy| 29|   TX|\n",
      "+-----+---+-----+\n",
      "only showing top 3 rows\n",
      "\n"
     ]
    }
   ],
   "source": [
    "df = spark.createDataFrame(data, ['name', 'age', 'state'])\n",
    "df.show(3)"
   ]
  },
  {
   "cell_type": "markdown",
   "id": "8b78312f-3df9-47c4-bed7-75b1a4adb47b",
   "metadata": {},
   "source": [
    "### Select"
   ]
  },
  {
   "cell_type": "code",
   "execution_count": 122,
   "id": "be3865b4-214b-4fbd-929a-fcc6d448621a",
   "metadata": {},
   "outputs": [
    {
     "name": "stdout",
     "output_type": "stream",
     "text": [
      "+-----+\n",
      "| name|\n",
      "+-----+\n",
      "|  Ali|\n",
      "| Saad|\n",
      "|Cathy|\n",
      "|David|\n",
      "+-----+\n",
      "\n"
     ]
    }
   ],
   "source": [
    "df.select(\"name\").show()"
   ]
  },
  {
   "cell_type": "code",
   "execution_count": 125,
   "id": "d7e0634e-9b2d-45cb-970d-9502b9c2e3b5",
   "metadata": {},
   "outputs": [
    {
     "name": "stdout",
     "output_type": "stream",
     "text": [
      "+-----+---+\n",
      "| name|age|\n",
      "+-----+---+\n",
      "|  Ali| 34|\n",
      "| Saad| 45|\n",
      "|Cathy| 29|\n",
      "|David| 52|\n",
      "+-----+---+\n",
      "\n"
     ]
    }
   ],
   "source": [
    "#multiple columns\n",
    "df.select(\"name\", \"age\").show()"
   ]
  },
  {
   "cell_type": "code",
   "execution_count": 132,
   "id": "56a0935b-7647-4e2b-a741-4dd7f6631d99",
   "metadata": {},
   "outputs": [
    {
     "name": "stdout",
     "output_type": "stream",
     "text": [
      "+-----+---------+\n",
      "| name|(age + 2)|\n",
      "+-----+---------+\n",
      "|  Ali|       36|\n",
      "| Saad|       47|\n",
      "|Cathy|       31|\n",
      "|David|       54|\n",
      "+-----+---------+\n",
      "\n"
     ]
    }
   ],
   "source": [
    "#select with column expressions\n",
    "df.select(col(\"name\"), (col(\"age\") + 2 )).show()"
   ]
  },
  {
   "cell_type": "code",
   "execution_count": 131,
   "id": "b117eae0-425f-47b4-9872-91d8d89781a2",
   "metadata": {},
   "outputs": [
    {
     "name": "stdout",
     "output_type": "stream",
     "text": [
      "+---------+----------+\n",
      "|full_name|double_age|\n",
      "+---------+----------+\n",
      "|      Ali|        68|\n",
      "|     Saad|        90|\n",
      "|    Cathy|        58|\n",
      "|    David|       104|\n",
      "+---------+----------+\n",
      "\n"
     ]
    }
   ],
   "source": [
    "#using aliases\n",
    "df.select(col(\"name\").alias(\"full_name\"), (col(\"age\") *2).alias(\"double_age\")).show()"
   ]
  },
  {
   "cell_type": "markdown",
   "id": "566c421a-6306-47ae-bf89-9be8278fc4dc",
   "metadata": {},
   "source": [
    "##### Advanced\n",
    "###### Dynamic column selection"
   ]
  },
  {
   "cell_type": "code",
   "execution_count": 134,
   "id": "92adfeb6-d115-4a43-93ff-151c63c0d2bb",
   "metadata": {},
   "outputs": [
    {
     "name": "stdout",
     "output_type": "stream",
     "text": [
      "+-----+---+\n",
      "| name|age|\n",
      "+-----+---+\n",
      "|  Ali| 34|\n",
      "| Saad| 45|\n",
      "|Cathy| 29|\n",
      "|David| 52|\n",
      "+-----+---+\n",
      "\n"
     ]
    }
   ],
   "source": [
    "columns_to_select = ['name', 'age']\n",
    "df.select(*columns_to_select).show()"
   ]
  },
  {
   "cell_type": "code",
   "execution_count": 135,
   "id": "41e6bb13-e94a-4b94-9ed5-a5effffe127a",
   "metadata": {},
   "outputs": [
    {
     "name": "stdout",
     "output_type": "stream",
     "text": [
      "+-----+---+\n",
      "| name|age|\n",
      "+-----+---+\n",
      "|  Ali| 34|\n",
      "| Saad| 45|\n",
      "|Cathy| 29|\n",
      "|David| 52|\n",
      "+-----+---+\n",
      "\n"
     ]
    }
   ],
   "source": [
    "columns_to_select = ['name', 'age']\n",
    "df.select(columns_to_select).show()"
   ]
  },
  {
   "cell_type": "code",
   "execution_count": 136,
   "id": "45da5eaf-ca94-47c0-bc3d-84295455f0c2",
   "metadata": {},
   "outputs": [
    {
     "name": "stdout",
     "output_type": "stream",
     "text": [
      "+-----+---+\n",
      "| name|age|\n",
      "+-----+---+\n",
      "|  Ali| 34|\n",
      "| Saad| 45|\n",
      "|Cathy| 29|\n",
      "|David| 52|\n",
      "+-----+---+\n",
      "\n"
     ]
    }
   ],
   "source": [
    "# regex\n",
    "df.select(df.colRegex(\"`(name|age)`\")).show()"
   ]
  },
  {
   "cell_type": "markdown",
   "id": "9568a933-744d-42ab-a430-d2290eec24ef",
   "metadata": {},
   "source": [
    "### Filter() - Row operations"
   ]
  },
  {
   "cell_type": "code",
   "execution_count": 137,
   "id": "ed8e549a-1df1-4750-a37e-20309bf2ccfd",
   "metadata": {},
   "outputs": [
    {
     "name": "stdout",
     "output_type": "stream",
     "text": [
      "+-----+---+-----+\n",
      "| name|age|state|\n",
      "+-----+---+-----+\n",
      "|  Ali| 34|   NY|\n",
      "| Saad| 45|   CA|\n",
      "|David| 52|   NY|\n",
      "+-----+---+-----+\n",
      "\n"
     ]
    }
   ],
   "source": [
    "df.filter(col(\"age\")>30).show()"
   ]
  },
  {
   "cell_type": "code",
   "execution_count": 138,
   "id": "c19954c0-2429-4cb5-a1af-63312267d818",
   "metadata": {},
   "outputs": [
    {
     "name": "stdout",
     "output_type": "stream",
     "text": [
      "+-----+---+-----+\n",
      "| name|age|state|\n",
      "+-----+---+-----+\n",
      "|  Ali| 34|   NY|\n",
      "| Saad| 45|   CA|\n",
      "|David| 52|   NY|\n",
      "+-----+---+-----+\n",
      "\n"
     ]
    }
   ],
   "source": [
    "# Alternative\n",
    "df.where(\"age > 30\").show()"
   ]
  },
  {
   "cell_type": "code",
   "execution_count": 139,
   "id": "f426e952-f253-4c7e-a2b0-8af1ebb7627a",
   "metadata": {},
   "outputs": [
    {
     "name": "stdout",
     "output_type": "stream",
     "text": [
      "+-----+---+-----+\n",
      "| name|age|state|\n",
      "+-----+---+-----+\n",
      "|  Ali| 34|   NY|\n",
      "|David| 52|   NY|\n",
      "+-----+---+-----+\n",
      "\n"
     ]
    }
   ],
   "source": [
    "# Multiple conditions\n",
    "df.filter((col(\"age\") > 30) & (col(\"state\") == \"NY\")).show()"
   ]
  },
  {
   "cell_type": "code",
   "execution_count": 140,
   "id": "f1082c41-6735-486c-b5ce-5e457ba3b90a",
   "metadata": {},
   "outputs": [
    {
     "name": "stdout",
     "output_type": "stream",
     "text": [
      "+-----+---+-----+\n",
      "| name|age|state|\n",
      "+-----+---+-----+\n",
      "|  Ali| 34|   NY|\n",
      "|David| 52|   NY|\n",
      "+-----+---+-----+\n",
      "\n"
     ]
    }
   ],
   "source": [
    "#Using SQL Expressions\n",
    "df.filter(\"age > 30 and state = 'NY'\").show()"
   ]
  },
  {
   "cell_type": "code",
   "execution_count": 141,
   "id": "90440e85-8268-4e7b-95ff-1168d1deb4e7",
   "metadata": {},
   "outputs": [
    {
     "name": "stdout",
     "output_type": "stream",
     "text": [
      "+----+---+-----+\n",
      "|name|age|state|\n",
      "+----+---+-----+\n",
      "| Ali| 34|   NY|\n",
      "|Saad| 45|   CA|\n",
      "+----+---+-----+\n",
      "\n"
     ]
    }
   ],
   "source": [
    "# Dynamic filtering \n",
    "min_age = 35\n",
    "max_age = 63\n",
    "df.filter(col(\"age\").between(min_age, max_age)).show()"
   ]
  },
  {
   "cell_type": "code",
   "execution_count": 142,
   "id": "c039304d-7b8b-420e-88d8-9beb74651f60",
   "metadata": {},
   "outputs": [
    {
     "name": "stdout",
     "output_type": "stream",
     "text": [
      "+-----+---+-----+\n",
      "| name|age|state|\n",
      "+-----+---+-----+\n",
      "| Saad| 45|   CA|\n",
      "|David| 52|   NY|\n",
      "+-----+---+-----+\n",
      "\n"
     ]
    }
   ],
   "source": [
    "# Filter with user defined function\n",
    "def is_high_age(age):\n",
    "    return age > 40\n",
    "\n",
    "high_age_udf = udf(is_high_age, BooleanType())\n",
    "df.filter(high_age_udf(col(\"age\"))).show()"
   ]
  },
  {
   "cell_type": "markdown",
   "id": "2d7833cf-2d1b-4a0c-81fb-76f756674185",
   "metadata": {},
   "source": [
    "# withcolumn - Column Transformation"
   ]
  },
  {
   "cell_type": "code",
   "execution_count": 143,
   "id": "9e01111d-5fac-4f50-b5b0-c1e2ae6acdf5",
   "metadata": {},
   "outputs": [
    {
     "name": "stdout",
     "output_type": "stream",
     "text": [
      "+-----+---+-----+-----------+\n",
      "| name|age|state|age_plus_10|\n",
      "+-----+---+-----+-----------+\n",
      "|  Ali| 34|   NY|         44|\n",
      "| Saad| 45|   CA|         55|\n",
      "|Cathy| 29|   TX|         39|\n",
      "|David| 52|   NY|         62|\n",
      "+-----+---+-----+-----------+\n",
      "\n"
     ]
    }
   ],
   "source": [
    "df.withColumn(\"age_plus_10\", col(\"age\")+10).show()"
   ]
  },
  {
   "cell_type": "code",
   "execution_count": 145,
   "id": "ee3a79c2-06ce-4a05-80c8-436f1710f6e0",
   "metadata": {},
   "outputs": [
    {
     "ename": "TypeError",
     "evalue": "'DataFrame' object is not callable",
     "output_type": "error",
     "traceback": [
      "\u001b[1;31m---------------------------------------------------------------------------\u001b[0m",
      "\u001b[1;31mTypeError\u001b[0m                                 Traceback (most recent call last)",
      "Cell \u001b[1;32mIn[145], line 2\u001b[0m\n\u001b[0;32m      1\u001b[0m \u001b[38;5;66;03m#you can with pandas but not pyspark\u001b[39;00m\n\u001b[1;32m----> 2\u001b[0m df\u001b[38;5;241m.\u001b[39mwithColumn(\u001b[38;5;124m\"\u001b[39m\u001b[38;5;124mage_plus_11\u001b[39m\u001b[38;5;124m\"\u001b[39m, \u001b[43mdf\u001b[49m\u001b[43m(\u001b[49m\u001b[38;5;124;43m\"\u001b[39;49m\u001b[38;5;124;43mage\u001b[39;49m\u001b[38;5;124;43m\"\u001b[39;49m\u001b[43m)\u001b[49m\u001b[38;5;241m+\u001b[39m\u001b[38;5;241m11\u001b[39m)\u001b[38;5;241m.\u001b[39mshow()\n",
      "\u001b[1;31mTypeError\u001b[0m: 'DataFrame' object is not callable"
     ]
    }
   ],
   "source": [
    "#you can with pandas but not pyspark\n",
    "df.withColumn(\"age_plus_11\", df(\"age\")+11).show()"
   ]
  },
  {
   "cell_type": "code",
   "execution_count": 147,
   "id": "4a28a499-6ffe-4f95-aac6-f0a66c8af945",
   "metadata": {},
   "outputs": [
    {
     "name": "stdout",
     "output_type": "stream",
     "text": [
      "+-----+---+-----+\n",
      "| name|age|state|\n",
      "+-----+---+-----+\n",
      "|  Ali| 68|   NY|\n",
      "| Saad| 90|   CA|\n",
      "|Cathy| 58|   TX|\n",
      "|David|104|   NY|\n",
      "+-----+---+-----+\n",
      "\n"
     ]
    }
   ],
   "source": [
    "#Modify existing column\n",
    "df.withColumn(\"age\", col(\"age\") * 2).show()"
   ]
  },
  {
   "cell_type": "code",
   "execution_count": 148,
   "id": "05d43c39-883d-4e2b-8109-036d4e58f336",
   "metadata": {},
   "outputs": [
    {
     "name": "stdout",
     "output_type": "stream",
     "text": [
      "+-----+---+-----+\n",
      "| name|age|state|\n",
      "+-----+---+-----+\n",
      "|  Ali| 34|   NY|\n",
      "| Saad| 45|   CA|\n",
      "|Cathy| 29|   TX|\n",
      "|David| 52|   NY|\n",
      "+-----+---+-----+\n",
      "\n"
     ]
    }
   ],
   "source": [
    "df.show()"
   ]
  },
  {
   "cell_type": "markdown",
   "id": "be911d41-1d20-4861-8319-a5c478f3c510",
   "metadata": {},
   "source": [
    "### conditional columns:"
   ]
  },
  {
   "cell_type": "code",
   "execution_count": 149,
   "id": "4916f502-84ce-4353-b0d8-fde007fcffd8",
   "metadata": {},
   "outputs": [
    {
     "name": "stdout",
     "output_type": "stream",
     "text": [
      "+-----+---+-----+---------+\n",
      "| name|age|state|age_group|\n",
      "+-----+---+-----+---------+\n",
      "|  Ali| 34|   NY|   middle|\n",
      "| Saad| 45|   CA|   middle|\n",
      "|Cathy| 29|   TX|    young|\n",
      "|David| 52|   NY|   senior|\n",
      "+-----+---+-----+---------+\n",
      "\n"
     ]
    }
   ],
   "source": [
    "df.withColumn(\"age_group\", \n",
    "    when(col(\"age\") < 30, \"young\")\n",
    "    .when(col(\"age\").between(30, 50), \"middle\")\n",
    "    .otherwise(\"senior\")).show()"
   ]
  },
  {
   "cell_type": "code",
   "execution_count": 150,
   "id": "479412b3-4086-4a66-8494-413dbd873ec3",
   "metadata": {},
   "outputs": [],
   "source": [
    "# Multiple transformation in one pass\n",
    "from pyspark.sql.functions import log, round\n",
    "transformations = [\n",
    "    (\"log_age\", log(\"age\")),\n",
    "    (\"age_squared\", col(\"age\")**2),\n",
    "    (\"rounded_age\", round(col(\"age\"), -1))  #round it to the nearest 10\n",
    "]\n"
   ]
  },
  {
   "cell_type": "code",
   "execution_count": 151,
   "id": "bf7407eb-43d7-4a5b-b650-a9819ddcf774",
   "metadata": {},
   "outputs": [],
   "source": [
    "result_df = df"
   ]
  },
  {
   "cell_type": "code",
   "execution_count": 152,
   "id": "68d57e09-9c16-454a-9de4-8bb50d01b292",
   "metadata": {},
   "outputs": [],
   "source": [
    "for new_col, expr in transformations:\n",
    "    result_df = result_df.withColumn(new_col, expr)"
   ]
  },
  {
   "cell_type": "code",
   "execution_count": 153,
   "id": "2937e330-3c68-485e-8853-2e2432a23354",
   "metadata": {},
   "outputs": [
    {
     "name": "stdout",
     "output_type": "stream",
     "text": [
      "+-----+---+-----+------------------+-----------+-----------+\n",
      "| name|age|state|           log_age|age_squared|rounded_age|\n",
      "+-----+---+-----+------------------+-----------+-----------+\n",
      "|  Ali| 34|   NY|3.5263605246161616|     1156.0|         30|\n",
      "| Saad| 45|   CA|3.8066624897703196|     2025.0|         50|\n",
      "|Cathy| 29|   TX| 3.367295829986474|      841.0|         30|\n",
      "|David| 52|   NY|3.9512437185814275|     2704.0|         50|\n",
      "+-----+---+-----+------------------+-----------+-----------+\n",
      "\n"
     ]
    }
   ],
   "source": [
    "result_df.show()"
   ]
  },
  {
   "cell_type": "code",
   "execution_count": 154,
   "id": "a2e28a28-0329-46b7-a9d6-9e277d3a8d8f",
   "metadata": {},
   "outputs": [
    {
     "name": "stdout",
     "output_type": "stream",
     "text": [
      "+-----+---+-----+----------+---------+\n",
      "| name|age|state|age_decade|is_senior|\n",
      "+-----+---+-----+----------+---------+\n",
      "|  Ali| 34|   NY|        30|    false|\n",
      "| Saad| 45|   CA|        40|    false|\n",
      "|David| 52|   NY|        50|     true|\n",
      "+-----+---+-----+----------+---------+\n",
      "\n"
     ]
    }
   ],
   "source": [
    "# chaing multiple operations\n",
    "processed_df = (df\n",
    "    .select(\"name\", \"age\", \"state\")\n",
    "    .filter(col(\"state\").isin([\"NY\", \"CA\"]))\n",
    "    .withColumn(\"age_decade\", floor(col(\"age\") / 10) * 10)\n",
    "    .withColumn(\"is_senior\", col(\"age\") >= 50)\n",
    ")\n",
    "\n",
    "processed_df.show()"
   ]
  },
  {
   "cell_type": "markdown",
   "id": "936d4ccc-72f5-42d9-88e8-3785bd09dd03",
   "metadata": {},
   "source": [
    "# Section 10 03 group by agg"
   ]
  },
  {
   "cell_type": "code",
   "execution_count": 155,
   "id": "ec901f92-5da4-466e-9245-ac3230d0d1ab",
   "metadata": {},
   "outputs": [],
   "source": [
    "from pyspark.sql import SparkSession\n",
    "from pyspark.sql.functions import *\n",
    "from pyspark.sql.types import *\n",
    "\n",
    "import findspark\n",
    "findspark.init(r'C:\\python311\\Lib\\site-packages\\pyspark')\n",
    "\n",
    "spark = SparkSession.builder.appName(\"DFO\").getOrCreate()"
   ]
  },
  {
   "cell_type": "code",
   "execution_count": 156,
   "id": "4ae31484-893d-4c29-8e90-7671ba1c3a2c",
   "metadata": {},
   "outputs": [],
   "source": [
    "spark.stop()"
   ]
  },
  {
   "cell_type": "code",
   "execution_count": 157,
   "id": "91bb2f2f-d595-4cf6-a8d8-36a55cd3890e",
   "metadata": {},
   "outputs": [],
   "source": [
    "spark = SparkSession.builder.appName(\"DFO\").getOrCreate()"
   ]
  },
  {
   "cell_type": "code",
   "execution_count": 158,
   "id": "95e7c07c-06b8-4f12-a8a4-98ed10be4056",
   "metadata": {},
   "outputs": [],
   "source": [
    "spark = SparkSession.builder.appName(\"INTC_AGG\").getOrCreate()"
   ]
  },
  {
   "cell_type": "code",
   "execution_count": 159,
   "id": "48fc0b24-90d7-48b1-8128-ab626b5479ce",
   "metadata": {},
   "outputs": [],
   "source": [
    "intc = spark.read.csv(\"../pyspark/intc.csv\", header=True, inferSchema=True)"
   ]
  },
  {
   "cell_type": "code",
   "execution_count": 160,
   "id": "a907385d-e395-4cbb-bca0-5fe44bbc2ace",
   "metadata": {},
   "outputs": [
    {
     "name": "stdout",
     "output_type": "stream",
     "text": [
      "root\n",
      " |-- id: integer (nullable = true)\n",
      " |-- date: date (nullable = true)\n",
      " |-- open: double (nullable = true)\n",
      " |-- high: double (nullable = true)\n",
      " |-- low: double (nullable = true)\n",
      " |-- close: double (nullable = true)\n",
      " |-- volume: double (nullable = true)\n",
      " |-- vol_fiat: long (nullable = true)\n",
      " |-- sma10: double (nullable = true)\n",
      " |-- sma20: double (nullable = true)\n",
      " |-- sma30: double (nullable = true)\n",
      " |-- sma50: double (nullable = true)\n",
      " |-- sma100: double (nullable = true)\n",
      " |-- sma200: double (nullable = true)\n",
      " |-- sma400: double (nullable = true)\n",
      " |-- sma500: double (nullable = true)\n",
      " |-- sma1000: double (nullable = true)\n",
      " |-- ema10: integer (nullable = true)\n",
      " |-- ema20: integer (nullable = true)\n",
      " |-- ema30: integer (nullable = true)\n",
      " |-- ema50: integer (nullable = true)\n",
      " |-- ema100: integer (nullable = true)\n",
      " |-- ema200: integer (nullable = true)\n",
      " |-- ema400: integer (nullable = true)\n",
      " |-- ema500: integer (nullable = true)\n",
      " |-- ema1000: integer (nullable = true)\n",
      " |-- macd1: double (nullable = true)\n",
      " |-- macd2: integer (nullable = true)\n",
      " |-- macd3: integer (nullable = true)\n",
      " |-- macd4: integer (nullable = true)\n",
      "\n"
     ]
    }
   ],
   "source": [
    "#check schema:\n",
    "intc.printSchema()"
   ]
  },
  {
   "cell_type": "code",
   "execution_count": 161,
   "id": "40c7be71-c7d4-4fd3-bb7d-89d2646bd35e",
   "metadata": {},
   "outputs": [
    {
     "name": "stdout",
     "output_type": "stream",
     "text": [
      "+----------+\n",
      "|max(Close)|\n",
      "+----------+\n",
      "|      50.5|\n",
      "+----------+\n",
      "\n"
     ]
    }
   ],
   "source": [
    "#Basic Aggregation\n",
    "intc.agg(max(\"Close\")).show()"
   ]
  },
  {
   "cell_type": "code",
   "execution_count": 162,
   "id": "d353934d-fb69-4d62-b942-03c7039e84c2",
   "metadata": {},
   "outputs": [
    {
     "name": "stdout",
     "output_type": "stream",
     "text": [
      "+-------+--------+------------------+---------------+\n",
      "|Min_Low|Max_High|         Avg_Close|      Total_vol|\n",
      "+-------+--------+------------------+---------------+\n",
      "| 17.665| 50.5699|30.518465753424653|2.3345099785E10|\n",
      "+-------+--------+------------------+---------------+\n",
      "\n"
     ]
    }
   ],
   "source": [
    "# multiple aggregations\n",
    "intc.agg(min(\"Low\").alias(\"Min_Low\"),\n",
    "         max(\"High\").alias(\"Max_High\"),\n",
    "         avg(\"Close\").alias(\"Avg_Close\"),\n",
    "         sum(\"Volume\").alias(\"Total_vol\")\n",
    "        ).show()"
   ]
  },
  {
   "cell_type": "code",
   "execution_count": 163,
   "id": "da31103b-664c-4269-96b0-687b938ef1a2",
   "metadata": {},
   "outputs": [],
   "source": [
    "# Do yearly aggregations\n",
    "# Extract year from date first\n",
    "intc = intc.withColumn(\"Year\", year(\"Date\"))"
   ]
  },
  {
   "cell_type": "code",
   "execution_count": 164,
   "id": "ea29d73c-09ab-486c-8aa8-303f977c1d8c",
   "metadata": {},
   "outputs": [
    {
     "name": "stdout",
     "output_type": "stream",
     "text": [
      "+----+----------+------+------+-------+-----+-----------+-------------+------+------------------+------------------+------------------+------------------+------------------+------------------+------------------+------------------+-----+-----+-----+-----+------+------+------+------+-------+-----------+-----+-----+-----+----+\n",
      "|  id|      date|  open|  high|    low|close|     volume|     vol_fiat| sma10|             sma20|             sma30|             sma50|            sma100|            sma200|            sma400|            sma500|           sma1000|ema10|ema20|ema30|ema50|ema100|ema200|ema400|ema500|ema1000|      macd1|macd2|macd3|macd4|Year|\n",
      "+----+----------+------+------+-------+-----+-----------+-------------+------+------------------+------------------+------------------+------------------+------------------+------------------+------------------+------------------+-----+-----+-----+-----+------+------+------+------+-------+-----------+-----+-----+-----+----+\n",
      "|1278|2025-06-06| 20.17| 20.44|  20.03|20.06|7.0072846E7|1749240000000|20.462|20.676499999999997|            20.456|           21.1798|21.120500000000003|22.942600000000002|           31.0254|31.321240000000003|37.588480000000004|    0|    0|    0|    0|     0|     0|     0|     0|      0|-0.04534034|    0|    0|    0|2025|\n",
      "|1277|2025-06-05| 20.27| 20.55|  19.85|19.99|7.2595606E7|1749153600000|20.611|            20.699|            20.505|21.253200000000003|21.156399999999998|          22.99775|31.061574999999998|          31.33984|          37.63046|    0|    0|    0|    0|     0|     0|     0|     0|      0|-0.04716657|    0|    0|    0|2025|\n",
      "|1275|2025-06-04| 20.34|  20.5|  20.01|20.25|7.1166549E7|1749067200000|20.764|            20.702|20.442999999999998|           21.3152|           21.2052|23.050900000000002|31.097375000000003|          31.35792|          37.67395|    0|    0|    0|    0|     0|     0|     0|     0|      0|-0.03510595|    0|    0|    0|2025|\n",
      "|1273|2025-06-02|19.482| 19.82|19.3745|19.74|6.7885473E7|1748894400000|20.957|20.764000000000003|20.420333333333335|           21.3806|           21.2477|23.102800000000002|           31.1308|          31.37368|          37.71933|    0|    0|    0|    0|     0|     0|     0|     0|      0|-0.03566972|    0|    0|    0|2025|\n",
      "|1271|2025-05-29| 20.54|20.595|   20.1|20.25|6.6485207E7|1748548800000|21.125|           20.8065|            20.424|           21.4712|           21.2947|23.159000000000002|         31.164575|31.391119999999997|37.763349999999996|    0|    0|    0|    0|     0|     0|     0|     0|      0| 0.02194437|    0|    0|    0|2025|\n",
      "+----+----------+------+------+-------+-----+-----------+-------------+------+------------------+------------------+------------------+------------------+------------------+------------------+------------------+------------------+-----+-----+-----+-----+------+------+------+------+-------+-----------+-----+-----+-----+----+\n",
      "only showing top 5 rows\n",
      "\n"
     ]
    }
   ],
   "source": [
    "intc.show(5)"
   ]
  },
  {
   "cell_type": "code",
   "execution_count": 165,
   "id": "10ff4c22-64ea-4fa2-afed-480240b4edb3",
   "metadata": {},
   "outputs": [
    {
     "name": "stdout",
     "output_type": "stream",
     "text": [
      "+----+---------+---------+------------------+--------------+\n",
      "|Year|Jan_Price|Dec_Price|         Avg_Price|  Total_Volume|\n",
      "+----+---------+---------+------------------+--------------+\n",
      "|2023|    50.25|    34.92| 41.54893617021276| 1.960247514E9|\n",
      "|2024|    19.82|     47.8|31.511814345991553|1.408886331E10|\n",
      "|2025|    20.06|    20.22|21.211604938271606| 7.295988961E9|\n",
      "+----+---------+---------+------------------+--------------+\n",
      "\n"
     ]
    }
   ],
   "source": [
    "yearly_stats = intc.groupBy(\"Year\").agg(\n",
    "    first(\"Close\").alias(\"Jan_Price\"),\n",
    "    last(\"Close\").alias(\"Dec_Price\"),\n",
    "    avg(\"Close\").alias(\"Avg_Price\"),\n",
    "    sum(\"Volume\").alias(\"Total_Volume\")\n",
    ").orderBy(\"Year\")\n",
    "yearly_stats.show()"
   ]
  },
  {
   "cell_type": "code",
   "execution_count": 166,
   "id": "a2ff4b72-026d-4edc-8d4c-cdf119bcf4d3",
   "metadata": {},
   "outputs": [
    {
     "name": "stdout",
     "output_type": "stream",
     "text": [
      "+----+-----+------------------+-------------+\n",
      "|Year|Month|         Avg_Close| Total_Volume|\n",
      "+----+-----+------------------+-------------+\n",
      "|2023|   10|            34.555| 4.04579658E8|\n",
      "|2023|   11| 41.13333333333333| 8.07556258E8|\n",
      "|2023|   12|45.142222222222216| 7.48111598E8|\n",
      "|2024|    1|46.885238095238094|1.002832671E9|\n",
      "|2024|    2|            43.186| 8.15660611E8|\n",
      "|2024|    3|43.483999999999995| 9.49138659E8|\n",
      "|2024|    4| 36.52545454545455|1.241166952E9|\n",
      "|2024|    5| 30.82333333333333| 9.47468056E8|\n",
      "|2024|    6| 30.65736842105263| 7.12844253E8|\n",
      "|2024|    7| 32.63285714285714|1.048182623E9|\n",
      "|2024|    8| 20.81142857142857|1.906818806E9|\n",
      "|2024|    9| 21.15157894736842|2.035310324E9|\n",
      "|2024|   10|  22.7378947368421| 9.40239814E8|\n",
      "|2024|   11|             24.43|1.089341252E9|\n",
      "|2024|   12| 20.54777777777778|1.399859289E9|\n",
      "|2025|    1| 20.21058823529412|1.135664962E9|\n",
      "|2025|    2|22.540714285714284| 1.57880076E9|\n",
      "|2025|    3|22.950000000000003|1.420453362E9|\n",
      "|2025|    4|20.081875000000004|1.895884854E9|\n",
      "|2025|    5|20.892666666666667| 9.83464549E8|\n",
      "|2025|    6|20.009999999999998| 2.81720474E8|\n",
      "+----+-----+------------------+-------------+\n",
      "\n"
     ]
    }
   ],
   "source": [
    "#Monthly averages:\n",
    "monthly_avg = intc.groupBy(\n",
    "    year(\"Date\").alias(\"Year\"), \n",
    "    month(\"Date\").alias(\"Month\")\n",
    ").agg(\n",
    "    avg(\"Close\").alias(\"Avg_Close\"),\n",
    "    sum(\"Volume\").alias(\"Total_Volume\")\n",
    ").orderBy(\"Year\", \"Month\")\n",
    "monthly_avg.show(24)"
   ]
  },
  {
   "cell_type": "code",
   "execution_count": 167,
   "id": "869304b3-3aff-4966-97c0-79fc1461cdc2",
   "metadata": {},
   "outputs": [
    {
     "name": "stdout",
     "output_type": "stream",
     "text": [
      "+----+--------------------+------------+\n",
      "|Year|   Annual_Volatility|Trading_Days|\n",
      "+----+--------------------+------------+\n",
      "|2023|0.026209718507047335|          46|\n",
      "|2024|0.033091863046939875|         237|\n",
      "|2025|  0.0511010158188029|          81|\n",
      "+----+--------------------+------------+\n",
      "\n"
     ]
    }
   ],
   "source": [
    "#Volatility Calculation:\n",
    "daily_returns = intc.withColumn(\"Daily_Return\", \n",
    "                               (col(\"Close\") - lag(\"Close\", 1).over(Window.orderBy(\"Date\"))) / \n",
    "                               lag(\"Close\", 1).over(Window.orderBy(\"Date\")))\n",
    "\n",
    "volatility = daily_returns.groupBy(\"Year\").agg(\n",
    "    stddev(\"Daily_Return\").alias(\"Annual_Volatility\"),\n",
    "    count(\"Daily_Return\").alias(\"Trading_Days\")\n",
    ")\n",
    "\n",
    "volatility.show()"
   ]
  },
  {
   "cell_type": "code",
   "execution_count": 169,
   "id": "6b3de1f2-94d5-4f5d-8eb2-25b3459ddaec",
   "metadata": {},
   "outputs": [
    {
     "name": "stdout",
     "output_type": "stream",
     "text": [
      "+----------+-----+------------------+-------+-------+\n",
      "|      Date|Close|           30D_Avg|30D_Min|30D_Max|\n",
      "+----------+-----+------------------+-------+-------+\n",
      "|2023-10-20|34.92|             34.92|  34.87|  36.28|\n",
      "|2023-10-23|33.85|34.385000000000005|  33.39|  36.28|\n",
      "|2023-10-24|34.59| 34.45333333333334|  33.39|  36.28|\n",
      "|2023-10-25|32.83|           34.0475|  32.55|  36.28|\n",
      "|2023-10-26|32.52|33.742000000000004| 32.145|  36.28|\n",
      "|2023-10-27|35.54|34.041666666666664| 32.145|  36.38|\n",
      "|2023-10-30|35.69|34.277142857142856| 32.145|  36.38|\n",
      "|2023-10-31| 36.5|            34.555| 32.145|  36.57|\n",
      "|2023-11-01|37.29| 34.85888888888889| 32.145| 37.315|\n",
      "|2023-11-02| 37.7|            35.143| 32.145|  37.82|\n",
      "|2023-11-03|38.14|35.415454545454544| 32.145|  38.32|\n",
      "|2023-11-06|37.95|35.626666666666665| 32.145|  38.32|\n",
      "|2023-11-07|38.77| 35.86846153846154| 32.145|   38.9|\n",
      "|2023-11-08|37.92|            36.015| 32.145|   38.9|\n",
      "|2023-11-09| 37.8|            36.134| 32.145|   38.9|\n",
      "|2023-11-10|38.86|         36.304375| 32.145|  38.99|\n",
      "|2023-11-13|38.23| 36.41764705882353| 32.145|  38.99|\n",
      "|2023-11-14|39.41|36.583888888888886| 32.145|  39.49|\n",
      "|2023-11-15|40.61| 36.79578947368421| 32.145|  40.84|\n",
      "|2023-11-16|43.35|           37.1235| 32.145| 43.395|\n",
      "|2023-11-17|43.81| 37.44190476190476| 32.145|  43.81|\n",
      "|2023-11-20|44.74| 37.77363636363636| 32.145|  44.93|\n",
      "|2023-11-21|43.64| 38.02869565217391| 32.145|  44.93|\n",
      "|2023-11-22|43.67|38.263749999999995| 32.145|  44.93|\n",
      "|2023-11-24|43.96|           38.4916| 32.145|  44.93|\n",
      "|2023-11-27|44.08|38.706538461538464| 32.145|  44.93|\n",
      "|2023-11-28|44.23|38.911111111111104| 32.145|  44.93|\n",
      "|2023-11-29|44.94| 39.12642857142857| 32.145|  45.34|\n",
      "|2023-11-30| 44.7| 39.31862068965517| 32.145|  45.34|\n",
      "|2023-12-01|43.74|            39.466| 32.145|  45.34|\n",
      "+----------+-----+------------------+-------+-------+\n",
      "only showing top 30 rows\n",
      "\n"
     ]
    }
   ],
   "source": [
    "# Rolling Aggregations:\n",
    "window_30d = Window.orderBy(\"Date\").rowsBetween(-29, 0)\n",
    "\n",
    "intc_rolling = intc.withColumn(\"30D_Avg\", avg(\"Close\").over(window_30d)) \\\n",
    "                  .withColumn(\"30D_Min\", min(\"Low\").over(window_30d)) \\\n",
    "                  .withColumn(\"30D_Max\", max(\"High\").over(window_30d))\n",
    "\n",
    "intc_rolling.select(\"Date\", \"Close\", \"30D_Avg\", \"30D_Min\", \"30D_Max\").show(30)"
   ]
  },
  {
   "cell_type": "code",
   "execution_count": 170,
   "id": "c2d4e517-322d-4cae-bcc6-5fcdf9c800e2",
   "metadata": {},
   "outputs": [
    {
     "ename": "AnalysisException",
     "evalue": "[UNRESOLVED_COLUMN.WITH_SUGGESTION] A column or function parameter with name `Month` cannot be resolved. Did you mean one of the following? [`date`, `high`, `id`, `low`, `open`].;\n'Project ['Month]\n+- Project [id#7521, date#7522, open#7523, high#7524, low#7525, close#7526, volume#7527, vol_fiat#7528L, sma10#7529, sma20#7530, sma30#7531, sma50#7532, sma100#7533, sma200#7534, sma400#7535, sma500#7536, sma1000#7537, ema10#7538, ema20#7539, ema30#7540, ema50#7541, ema100#7542, ema200#7543, ema400#7544, ... 7 more fields]\n   +- Relation [id#7521,date#7522,open#7523,high#7524,low#7525,close#7526,volume#7527,vol_fiat#7528L,sma10#7529,sma20#7530,sma30#7531,sma50#7532,sma100#7533,sma200#7534,sma400#7535,sma500#7536,sma1000#7537,ema10#7538,ema20#7539,ema30#7540,ema50#7541,ema100#7542,ema200#7543,ema400#7544,... 6 more fields] csv\n",
     "output_type": "error",
     "traceback": [
      "\u001b[1;31m---------------------------------------------------------------------------\u001b[0m",
      "\u001b[1;31mAnalysisException\u001b[0m                         Traceback (most recent call last)",
      "Cell \u001b[1;32mIn[170], line 3\u001b[0m\n\u001b[0;32m      1\u001b[0m \u001b[38;5;66;03m#pivot analysis\u001b[39;00m\n\u001b[0;32m      2\u001b[0m monthly_pivot \u001b[38;5;241m=\u001b[39m \u001b[43mintc\u001b[49m\u001b[38;5;241;43m.\u001b[39;49m\u001b[43mgroupBy\u001b[49m\u001b[43m(\u001b[49m\u001b[38;5;124;43m\"\u001b[39;49m\u001b[38;5;124;43mYear\u001b[39;49m\u001b[38;5;124;43m\"\u001b[39;49m\u001b[43m)\u001b[49m\u001b[43m \u001b[49m\u001b[43m\\\u001b[49m\n\u001b[1;32m----> 3\u001b[0m \u001b[43m                   \u001b[49m\u001b[38;5;241;43m.\u001b[39;49m\u001b[43mpivot\u001b[49m\u001b[43m(\u001b[49m\u001b[38;5;124;43m\"\u001b[39;49m\u001b[38;5;124;43mMonth\u001b[39;49m\u001b[38;5;124;43m\"\u001b[39;49m\u001b[43m)\u001b[49m \\\n\u001b[0;32m      4\u001b[0m                    \u001b[38;5;241m.\u001b[39magg(last(\u001b[38;5;124m\"\u001b[39m\u001b[38;5;124mClose\u001b[39m\u001b[38;5;124m\"\u001b[39m)\u001b[38;5;241m.\u001b[39malias(\u001b[38;5;124m\"\u001b[39m\u001b[38;5;124mMonth_Close\u001b[39m\u001b[38;5;124m\"\u001b[39m)) \\\n\u001b[0;32m      5\u001b[0m                    \u001b[38;5;241m.\u001b[39morderBy(\u001b[38;5;124m\"\u001b[39m\u001b[38;5;124mYear\u001b[39m\u001b[38;5;124m\"\u001b[39m)\n\u001b[0;32m      7\u001b[0m monthly_pivot\u001b[38;5;241m.\u001b[39mshow()\n",
      "File \u001b[1;32mC:\\python311\\Lib\\site-packages\\pyspark\\sql\\group.py:510\u001b[0m, in \u001b[0;36mGroupedData.pivot\u001b[1;34m(self, pivot_col, values)\u001b[0m\n\u001b[0;32m    424\u001b[0m \u001b[38;5;250m\u001b[39m\u001b[38;5;124;03m\"\"\"\u001b[39;00m\n\u001b[0;32m    425\u001b[0m \u001b[38;5;124;03mPivots a column of the current :class:`DataFrame` and perform the specified aggregation.\u001b[39;00m\n\u001b[0;32m    426\u001b[0m \u001b[38;5;124;03mThere are two versions of the pivot function: one that requires the caller\u001b[39;00m\n\u001b[1;32m   (...)\u001b[0m\n\u001b[0;32m    507\u001b[0m \u001b[38;5;124;03m+----+-----+------+\u001b[39;00m\n\u001b[0;32m    508\u001b[0m \u001b[38;5;124;03m\"\"\"\u001b[39;00m\n\u001b[0;32m    509\u001b[0m \u001b[38;5;28;01mif\u001b[39;00m values \u001b[38;5;129;01mis\u001b[39;00m \u001b[38;5;28;01mNone\u001b[39;00m:\n\u001b[1;32m--> 510\u001b[0m     jgd \u001b[38;5;241m=\u001b[39m \u001b[38;5;28;43mself\u001b[39;49m\u001b[38;5;241;43m.\u001b[39;49m\u001b[43m_jgd\u001b[49m\u001b[38;5;241;43m.\u001b[39;49m\u001b[43mpivot\u001b[49m\u001b[43m(\u001b[49m\u001b[43mpivot_col\u001b[49m\u001b[43m)\u001b[49m\n\u001b[0;32m    511\u001b[0m \u001b[38;5;28;01melse\u001b[39;00m:\n\u001b[0;32m    512\u001b[0m     jgd \u001b[38;5;241m=\u001b[39m \u001b[38;5;28mself\u001b[39m\u001b[38;5;241m.\u001b[39m_jgd\u001b[38;5;241m.\u001b[39mpivot(pivot_col, values)\n",
      "File \u001b[1;32mC:\\python311\\Lib\\site-packages\\py4j\\java_gateway.py:1322\u001b[0m, in \u001b[0;36mJavaMember.__call__\u001b[1;34m(self, *args)\u001b[0m\n\u001b[0;32m   1316\u001b[0m command \u001b[38;5;241m=\u001b[39m proto\u001b[38;5;241m.\u001b[39mCALL_COMMAND_NAME \u001b[38;5;241m+\u001b[39m\\\n\u001b[0;32m   1317\u001b[0m     \u001b[38;5;28mself\u001b[39m\u001b[38;5;241m.\u001b[39mcommand_header \u001b[38;5;241m+\u001b[39m\\\n\u001b[0;32m   1318\u001b[0m     args_command \u001b[38;5;241m+\u001b[39m\\\n\u001b[0;32m   1319\u001b[0m     proto\u001b[38;5;241m.\u001b[39mEND_COMMAND_PART\n\u001b[0;32m   1321\u001b[0m answer \u001b[38;5;241m=\u001b[39m \u001b[38;5;28mself\u001b[39m\u001b[38;5;241m.\u001b[39mgateway_client\u001b[38;5;241m.\u001b[39msend_command(command)\n\u001b[1;32m-> 1322\u001b[0m return_value \u001b[38;5;241m=\u001b[39m \u001b[43mget_return_value\u001b[49m\u001b[43m(\u001b[49m\n\u001b[0;32m   1323\u001b[0m \u001b[43m    \u001b[49m\u001b[43manswer\u001b[49m\u001b[43m,\u001b[49m\u001b[43m \u001b[49m\u001b[38;5;28;43mself\u001b[39;49m\u001b[38;5;241;43m.\u001b[39;49m\u001b[43mgateway_client\u001b[49m\u001b[43m,\u001b[49m\u001b[43m \u001b[49m\u001b[38;5;28;43mself\u001b[39;49m\u001b[38;5;241;43m.\u001b[39;49m\u001b[43mtarget_id\u001b[49m\u001b[43m,\u001b[49m\u001b[43m \u001b[49m\u001b[38;5;28;43mself\u001b[39;49m\u001b[38;5;241;43m.\u001b[39;49m\u001b[43mname\u001b[49m\u001b[43m)\u001b[49m\n\u001b[0;32m   1325\u001b[0m \u001b[38;5;28;01mfor\u001b[39;00m temp_arg \u001b[38;5;129;01min\u001b[39;00m temp_args:\n\u001b[0;32m   1326\u001b[0m     \u001b[38;5;28;01mif\u001b[39;00m \u001b[38;5;28mhasattr\u001b[39m(temp_arg, \u001b[38;5;124m\"\u001b[39m\u001b[38;5;124m_detach\u001b[39m\u001b[38;5;124m\"\u001b[39m):\n",
      "File \u001b[1;32mC:\\python311\\Lib\\site-packages\\pyspark\\errors\\exceptions\\captured.py:175\u001b[0m, in \u001b[0;36mcapture_sql_exception.<locals>.deco\u001b[1;34m(*a, **kw)\u001b[0m\n\u001b[0;32m    171\u001b[0m converted \u001b[38;5;241m=\u001b[39m convert_exception(e\u001b[38;5;241m.\u001b[39mjava_exception)\n\u001b[0;32m    172\u001b[0m \u001b[38;5;28;01mif\u001b[39;00m \u001b[38;5;129;01mnot\u001b[39;00m \u001b[38;5;28misinstance\u001b[39m(converted, UnknownException):\n\u001b[0;32m    173\u001b[0m     \u001b[38;5;66;03m# Hide where the exception came from that shows a non-Pythonic\u001b[39;00m\n\u001b[0;32m    174\u001b[0m     \u001b[38;5;66;03m# JVM exception message.\u001b[39;00m\n\u001b[1;32m--> 175\u001b[0m     \u001b[38;5;28;01mraise\u001b[39;00m converted \u001b[38;5;28;01mfrom\u001b[39;00m \u001b[38;5;28mNone\u001b[39m\n\u001b[0;32m    176\u001b[0m \u001b[38;5;28;01melse\u001b[39;00m:\n\u001b[0;32m    177\u001b[0m     \u001b[38;5;28;01mraise\u001b[39;00m\n",
      "\u001b[1;31mAnalysisException\u001b[0m: [UNRESOLVED_COLUMN.WITH_SUGGESTION] A column or function parameter with name `Month` cannot be resolved. Did you mean one of the following? [`date`, `high`, `id`, `low`, `open`].;\n'Project ['Month]\n+- Project [id#7521, date#7522, open#7523, high#7524, low#7525, close#7526, volume#7527, vol_fiat#7528L, sma10#7529, sma20#7530, sma30#7531, sma50#7532, sma100#7533, sma200#7534, sma400#7535, sma500#7536, sma1000#7537, ema10#7538, ema20#7539, ema30#7540, ema50#7541, ema100#7542, ema200#7543, ema400#7544, ... 7 more fields]\n   +- Relation [id#7521,date#7522,open#7523,high#7524,low#7525,close#7526,volume#7527,vol_fiat#7528L,sma10#7529,sma20#7530,sma30#7531,sma50#7532,sma100#7533,sma200#7534,sma400#7535,sma500#7536,sma1000#7537,ema10#7538,ema20#7539,ema30#7540,ema50#7541,ema100#7542,ema200#7543,ema400#7544,... 6 more fields] csv\n"
     ]
    }
   ],
   "source": [
    "#pivot analysis\n",
    "monthly_pivot = intc.groupBy(\"Year\") \\\n",
    "                   .pivot(\"Month\") \\\n",
    "                   .agg(last(\"Close\").alias(\"Month_Close\")) \\\n",
    "                   .orderBy(\"Year\")\n",
    "\n",
    "monthly_pivot.show()"
   ]
  },
  {
   "cell_type": "code",
   "execution_count": 171,
   "id": "b7ee853b-68cb-4c93-9c77-d952269178ed",
   "metadata": {},
   "outputs": [
    {
     "ename": "AnalysisException",
     "evalue": "[MISSING_AGGREGATION] The non-aggregating expression \"Close\" is based on columns which are not participating in the GROUP BY clause.\nAdd the columns or the expression to the GROUP BY, aggregate the expression, or use \"any_value(Close)\" if you do not care which of the values within a group is returned.;\nAggregate [Year#7708], [Year#7708, max_drawdown(Close#7526)#8514 AS Max_Drawdown#8513]\n+- Project [id#7521, date#7522, open#7523, high#7524, low#7525, close#7526, volume#7527, vol_fiat#7528L, sma10#7529, sma20#7530, sma30#7531, sma50#7532, sma100#7533, sma200#7534, sma400#7535, sma500#7536, sma1000#7537, ema10#7538, ema20#7539, ema30#7540, ema50#7541, ema100#7542, ema200#7543, ema400#7544, ... 7 more fields]\n   +- Relation [id#7521,date#7522,open#7523,high#7524,low#7525,close#7526,volume#7527,vol_fiat#7528L,sma10#7529,sma20#7530,sma30#7531,sma50#7532,sma100#7533,sma200#7534,sma400#7535,sma500#7536,sma1000#7537,ema10#7538,ema20#7539,ema30#7540,ema50#7541,ema100#7542,ema200#7543,ema400#7544,... 6 more fields] csv\n",
     "output_type": "error",
     "traceback": [
      "\u001b[1;31m---------------------------------------------------------------------------\u001b[0m",
      "\u001b[1;31mAnalysisException\u001b[0m                         Traceback (most recent call last)",
      "Cell \u001b[1;32mIn[171], line 16\u001b[0m\n\u001b[0;32m     11\u001b[0m     \u001b[38;5;28;01mreturn\u001b[39;00m \u001b[38;5;28mfloat\u001b[39m(max_dd)\n\u001b[0;32m     13\u001b[0m spark\u001b[38;5;241m.\u001b[39mudf\u001b[38;5;241m.\u001b[39mregister(\u001b[38;5;124m\"\u001b[39m\u001b[38;5;124mmax_drawdown\u001b[39m\u001b[38;5;124m\"\u001b[39m, max_drawdown_udf)\n\u001b[0;32m     15\u001b[0m yearly_drawdown \u001b[38;5;241m=\u001b[39m \u001b[43mintc\u001b[49m\u001b[38;5;241;43m.\u001b[39;49m\u001b[43mgroupBy\u001b[49m\u001b[43m(\u001b[49m\u001b[38;5;124;43m\"\u001b[39;49m\u001b[38;5;124;43mYear\u001b[39;49m\u001b[38;5;124;43m\"\u001b[39;49m\u001b[43m)\u001b[49m\u001b[43m \u001b[49m\u001b[43m\\\u001b[49m\n\u001b[1;32m---> 16\u001b[0m \u001b[43m                     \u001b[49m\u001b[38;5;241;43m.\u001b[39;49m\u001b[43magg\u001b[49m\u001b[43m(\u001b[49m\u001b[43mexpr\u001b[49m\u001b[43m(\u001b[49m\u001b[38;5;124;43m\"\u001b[39;49m\u001b[38;5;124;43mmax_drawdown(Close)\u001b[39;49m\u001b[38;5;124;43m\"\u001b[39;49m\u001b[43m)\u001b[49m\u001b[38;5;241;43m.\u001b[39;49m\u001b[43malias\u001b[49m\u001b[43m(\u001b[49m\u001b[38;5;124;43m\"\u001b[39;49m\u001b[38;5;124;43mMax_Drawdown\u001b[39;49m\u001b[38;5;124;43m\"\u001b[39;49m\u001b[43m)\u001b[49m\u001b[43m)\u001b[49m\n\u001b[0;32m     18\u001b[0m yearly_drawdown\u001b[38;5;241m.\u001b[39mshow()\n",
      "File \u001b[1;32mC:\\python311\\Lib\\site-packages\\pyspark\\sql\\group.py:175\u001b[0m, in \u001b[0;36mGroupedData.agg\u001b[1;34m(self, *exprs)\u001b[0m\n\u001b[0;32m    173\u001b[0m     \u001b[38;5;28;01massert\u001b[39;00m \u001b[38;5;28mall\u001b[39m(\u001b[38;5;28misinstance\u001b[39m(c, Column) \u001b[38;5;28;01mfor\u001b[39;00m c \u001b[38;5;129;01min\u001b[39;00m exprs), \u001b[38;5;124m\"\u001b[39m\u001b[38;5;124mall exprs should be Column\u001b[39m\u001b[38;5;124m\"\u001b[39m\n\u001b[0;32m    174\u001b[0m     exprs \u001b[38;5;241m=\u001b[39m cast(Tuple[Column, \u001b[38;5;241m.\u001b[39m\u001b[38;5;241m.\u001b[39m\u001b[38;5;241m.\u001b[39m], exprs)\n\u001b[1;32m--> 175\u001b[0m     jdf \u001b[38;5;241m=\u001b[39m \u001b[38;5;28;43mself\u001b[39;49m\u001b[38;5;241;43m.\u001b[39;49m\u001b[43m_jgd\u001b[49m\u001b[38;5;241;43m.\u001b[39;49m\u001b[43magg\u001b[49m\u001b[43m(\u001b[49m\u001b[43mexprs\u001b[49m\u001b[43m[\u001b[49m\u001b[38;5;241;43m0\u001b[39;49m\u001b[43m]\u001b[49m\u001b[38;5;241;43m.\u001b[39;49m\u001b[43m_jc\u001b[49m\u001b[43m,\u001b[49m\u001b[43m \u001b[49m\u001b[43m_to_seq\u001b[49m\u001b[43m(\u001b[49m\u001b[38;5;28;43mself\u001b[39;49m\u001b[38;5;241;43m.\u001b[39;49m\u001b[43msession\u001b[49m\u001b[38;5;241;43m.\u001b[39;49m\u001b[43m_sc\u001b[49m\u001b[43m,\u001b[49m\u001b[43m \u001b[49m\u001b[43m[\u001b[49m\u001b[43mc\u001b[49m\u001b[38;5;241;43m.\u001b[39;49m\u001b[43m_jc\u001b[49m\u001b[43m \u001b[49m\u001b[38;5;28;43;01mfor\u001b[39;49;00m\u001b[43m \u001b[49m\u001b[43mc\u001b[49m\u001b[43m \u001b[49m\u001b[38;5;129;43;01min\u001b[39;49;00m\u001b[43m \u001b[49m\u001b[43mexprs\u001b[49m\u001b[43m[\u001b[49m\u001b[38;5;241;43m1\u001b[39;49m\u001b[43m:\u001b[49m\u001b[43m]\u001b[49m\u001b[43m]\u001b[49m\u001b[43m)\u001b[49m\u001b[43m)\u001b[49m\n\u001b[0;32m    176\u001b[0m \u001b[38;5;28;01mreturn\u001b[39;00m DataFrame(jdf, \u001b[38;5;28mself\u001b[39m\u001b[38;5;241m.\u001b[39msession)\n",
      "File \u001b[1;32mC:\\python311\\Lib\\site-packages\\py4j\\java_gateway.py:1322\u001b[0m, in \u001b[0;36mJavaMember.__call__\u001b[1;34m(self, *args)\u001b[0m\n\u001b[0;32m   1316\u001b[0m command \u001b[38;5;241m=\u001b[39m proto\u001b[38;5;241m.\u001b[39mCALL_COMMAND_NAME \u001b[38;5;241m+\u001b[39m\\\n\u001b[0;32m   1317\u001b[0m     \u001b[38;5;28mself\u001b[39m\u001b[38;5;241m.\u001b[39mcommand_header \u001b[38;5;241m+\u001b[39m\\\n\u001b[0;32m   1318\u001b[0m     args_command \u001b[38;5;241m+\u001b[39m\\\n\u001b[0;32m   1319\u001b[0m     proto\u001b[38;5;241m.\u001b[39mEND_COMMAND_PART\n\u001b[0;32m   1321\u001b[0m answer \u001b[38;5;241m=\u001b[39m \u001b[38;5;28mself\u001b[39m\u001b[38;5;241m.\u001b[39mgateway_client\u001b[38;5;241m.\u001b[39msend_command(command)\n\u001b[1;32m-> 1322\u001b[0m return_value \u001b[38;5;241m=\u001b[39m \u001b[43mget_return_value\u001b[49m\u001b[43m(\u001b[49m\n\u001b[0;32m   1323\u001b[0m \u001b[43m    \u001b[49m\u001b[43manswer\u001b[49m\u001b[43m,\u001b[49m\u001b[43m \u001b[49m\u001b[38;5;28;43mself\u001b[39;49m\u001b[38;5;241;43m.\u001b[39;49m\u001b[43mgateway_client\u001b[49m\u001b[43m,\u001b[49m\u001b[43m \u001b[49m\u001b[38;5;28;43mself\u001b[39;49m\u001b[38;5;241;43m.\u001b[39;49m\u001b[43mtarget_id\u001b[49m\u001b[43m,\u001b[49m\u001b[43m \u001b[49m\u001b[38;5;28;43mself\u001b[39;49m\u001b[38;5;241;43m.\u001b[39;49m\u001b[43mname\u001b[49m\u001b[43m)\u001b[49m\n\u001b[0;32m   1325\u001b[0m \u001b[38;5;28;01mfor\u001b[39;00m temp_arg \u001b[38;5;129;01min\u001b[39;00m temp_args:\n\u001b[0;32m   1326\u001b[0m     \u001b[38;5;28;01mif\u001b[39;00m \u001b[38;5;28mhasattr\u001b[39m(temp_arg, \u001b[38;5;124m\"\u001b[39m\u001b[38;5;124m_detach\u001b[39m\u001b[38;5;124m\"\u001b[39m):\n",
      "File \u001b[1;32mC:\\python311\\Lib\\site-packages\\pyspark\\errors\\exceptions\\captured.py:175\u001b[0m, in \u001b[0;36mcapture_sql_exception.<locals>.deco\u001b[1;34m(*a, **kw)\u001b[0m\n\u001b[0;32m    171\u001b[0m converted \u001b[38;5;241m=\u001b[39m convert_exception(e\u001b[38;5;241m.\u001b[39mjava_exception)\n\u001b[0;32m    172\u001b[0m \u001b[38;5;28;01mif\u001b[39;00m \u001b[38;5;129;01mnot\u001b[39;00m \u001b[38;5;28misinstance\u001b[39m(converted, UnknownException):\n\u001b[0;32m    173\u001b[0m     \u001b[38;5;66;03m# Hide where the exception came from that shows a non-Pythonic\u001b[39;00m\n\u001b[0;32m    174\u001b[0m     \u001b[38;5;66;03m# JVM exception message.\u001b[39;00m\n\u001b[1;32m--> 175\u001b[0m     \u001b[38;5;28;01mraise\u001b[39;00m converted \u001b[38;5;28;01mfrom\u001b[39;00m \u001b[38;5;28mNone\u001b[39m\n\u001b[0;32m    176\u001b[0m \u001b[38;5;28;01melse\u001b[39;00m:\n\u001b[0;32m    177\u001b[0m     \u001b[38;5;28;01mraise\u001b[39;00m\n",
      "\u001b[1;31mAnalysisException\u001b[0m: [MISSING_AGGREGATION] The non-aggregating expression \"Close\" is based on columns which are not participating in the GROUP BY clause.\nAdd the columns or the expression to the GROUP BY, aggregate the expression, or use \"any_value(Close)\" if you do not care which of the values within a group is returned.;\nAggregate [Year#7708], [Year#7708, max_drawdown(Close#7526)#8514 AS Max_Drawdown#8513]\n+- Project [id#7521, date#7522, open#7523, high#7524, low#7525, close#7526, volume#7527, vol_fiat#7528L, sma10#7529, sma20#7530, sma30#7531, sma50#7532, sma100#7533, sma200#7534, sma400#7535, sma500#7536, sma1000#7537, ema10#7538, ema20#7539, ema30#7540, ema50#7541, ema100#7542, ema200#7543, ema400#7544, ... 7 more fields]\n   +- Relation [id#7521,date#7522,open#7523,high#7524,low#7525,close#7526,volume#7527,vol_fiat#7528L,sma10#7529,sma20#7530,sma30#7531,sma50#7532,sma100#7533,sma200#7534,sma400#7535,sma500#7536,sma1000#7537,ema10#7538,ema20#7539,ema30#7540,ema50#7541,ema100#7542,ema200#7543,ema400#7544,... 6 more fields] csv\n"
     ]
    }
   ],
   "source": [
    "# Define custom aggregation (drawdown calculation)\n",
    "def max_drawdown_udf(values):\n",
    "    peak = values[0]\n",
    "    max_dd = 0\n",
    "    for value in values:\n",
    "        if value > peak:\n",
    "            peak = value\n",
    "        dd = (peak - value)/peak\n",
    "        if dd > max_dd:\n",
    "            max_dd = dd\n",
    "    return float(max_dd)\n",
    "\n",
    "spark.udf.register(\"max_drawdown\", max_drawdown_udf)\n",
    "\n",
    "yearly_drawdown = intc.groupBy(\"Year\") \\\n",
    "                     .agg(expr(\"max_drawdown(Close)\").alias(\"Max_Drawdown\"))\n",
    "\n",
    "yearly_drawdown.show()"
   ]
  },
  {
   "cell_type": "code",
   "execution_count": 172,
   "id": "c290f932-f979-4172-9e1d-7caa75e31abe",
   "metadata": {},
   "outputs": [
    {
     "name": "stderr",
     "output_type": "stream",
     "text": [
      "C:\\python311\\Lib\\site-packages\\pyspark\\sql\\pandas\\functions.py:399: UserWarning: In Python 3.6+ and Spark 3.0+, it is preferred to specify type hints for pandas UDF instead of specifying pandas UDF type which will be deprecated in the future releases. See SPARK-28264 for more details.\n",
      "  warnings.warn(\n"
     ]
    },
    {
     "name": "stdout",
     "output_type": "stream",
     "text": [
      "+----+------------+\n",
      "|Year|Max_Drawdown|\n",
      "+----+------------+\n",
      "|2023|   0.3560396|\n",
      "|2024|  0.27900764|\n",
      "|2025|   0.3026652|\n",
      "+----+------------+\n",
      "\n"
     ]
    }
   ],
   "source": [
    "from pyspark.sql import functions as F\n",
    "from pyspark.sql.types import FloatType\n",
    "import pandas as pd\n",
    "\n",
    "# Better approach: Use Pandas UDF for custom aggregation\n",
    "@pandas_udf(FloatType(), F.PandasUDFType.GROUPED_AGG)\n",
    "def max_drawdown_pandas(close_pd: pd.Series) -> float:\n",
    "    peak = close_pd[0]\n",
    "    max_dd = 0.0\n",
    "    for value in close_pd:\n",
    "        if value > peak:\n",
    "            peak = value\n",
    "        dd = (peak - value)/peak\n",
    "        if dd > max_dd:\n",
    "            max_dd = dd\n",
    "    return max_dd\n",
    "\n",
    "# Register the function\n",
    "spark.udf.register(\"max_drawdown_pandas\", max_drawdown_pandas)\n",
    "\n",
    "# Now run the aggregation correctly\n",
    "yearly_drawdown = intc.groupBy(\"Year\") \\\n",
    "                     .agg(max_drawdown_pandas(col(\"Close\")).alias(\"Max_Drawdown\"))\n",
    "\n",
    "yearly_drawdown.show()"
   ]
  },
  {
   "cell_type": "code",
   "execution_count": 173,
   "id": "d82f9462-d100-40c0-8254-b82085daf194",
   "metadata": {},
   "outputs": [],
   "source": [
    "spark.stop()"
   ]
  },
  {
   "cell_type": "markdown",
   "id": "81e89a95-f0bc-4bba-ba43-02032090e262",
   "metadata": {},
   "source": [
    "# Section 10 05 spark.sql()"
   ]
  },
  {
   "cell_type": "code",
   "execution_count": 174,
   "id": "101539c9-025e-49df-851b-ae0e5b34c58a",
   "metadata": {},
   "outputs": [],
   "source": [
    "from pyspark.sql import SparkSession"
   ]
  },
  {
   "cell_type": "code",
   "execution_count": 175,
   "id": "f6b4ddbf-6bd4-4e51-9665-9083709a362f",
   "metadata": {},
   "outputs": [],
   "source": [
    "#initialize our spark\n",
    "spark = SparkSession.builder.appName(\"SQL_class\").enableHiveSupport().getOrCreate()"
   ]
  },
  {
   "cell_type": "code",
   "execution_count": 177,
   "id": "08e10be1-898b-4a9d-9d40-6b7417cc5a3b",
   "metadata": {},
   "outputs": [],
   "source": [
    "df = spark.createDataFrame([\n",
    "    (1, \"Alice\", 34, \"NY\"),\n",
    "    (2, \"Bob\", 45, \"CA\"),\n",
    "     (3, \"Cathy\", 29, \"TX\"),\n",
    "     (4, \"David\", 52, \"NY\")\n",
    "     ], [\"id\", \"name\", 'age', 'state'])"
   ]
  },
  {
   "cell_type": "code",
   "execution_count": 178,
   "id": "21011038-0ff7-4678-b138-e9a9a1bf78fb",
   "metadata": {},
   "outputs": [
    {
     "name": "stdout",
     "output_type": "stream",
     "text": [
      "+---+-----+---+-----+\n",
      "| id| name|age|state|\n",
      "+---+-----+---+-----+\n",
      "|  1|Alice| 34|   NY|\n",
      "|  2|  Bob| 45|   CA|\n",
      "|  3|Cathy| 29|   TX|\n",
      "|  4|David| 52|   NY|\n",
      "+---+-----+---+-----+\n",
      "\n"
     ]
    }
   ],
   "source": [
    "df.show()"
   ]
  },
  {
   "cell_type": "code",
   "execution_count": 179,
   "id": "5e93d636-740f-45a5-9152-7d84676fe429",
   "metadata": {},
   "outputs": [],
   "source": [
    "# Create a temp view\n",
    "df.createOrReplaceTempView(\"people\")"
   ]
  },
  {
   "cell_type": "code",
   "execution_count": 180,
   "id": "9581f7e4-94ea-4aae-a4c6-3ccf05729ca1",
   "metadata": {},
   "outputs": [
    {
     "name": "stdout",
     "output_type": "stream",
     "text": [
      "+---+-----+---+-----+\n",
      "| id| name|age|state|\n",
      "+---+-----+---+-----+\n",
      "|  1|Alice| 34|   NY|\n",
      "|  2|  Bob| 45|   CA|\n",
      "|  3|Cathy| 29|   TX|\n",
      "|  4|David| 52|   NY|\n",
      "+---+-----+---+-----+\n",
      "\n"
     ]
    }
   ],
   "source": [
    "df.show()"
   ]
  },
  {
   "cell_type": "code",
   "execution_count": 181,
   "id": "763facab-cbc2-40fa-bf55-b48aeca4a78c",
   "metadata": {},
   "outputs": [
    {
     "name": "stdout",
     "output_type": "stream",
     "text": [
      "+-----+---+\n",
      "| name|age|\n",
      "+-----+---+\n",
      "|Alice| 34|\n",
      "|  Bob| 45|\n",
      "|Cathy| 29|\n",
      "|David| 52|\n",
      "+-----+---+\n",
      "\n"
     ]
    }
   ],
   "source": [
    "# Basic SQL\n",
    "df.select(\"name\", \"age\").show()\n",
    "# select name, age from df"
   ]
  },
  {
   "cell_type": "code",
   "execution_count": 183,
   "id": "96de714b-c69f-48d9-ab33-c9afa364ad45",
   "metadata": {},
   "outputs": [
    {
     "name": "stdout",
     "output_type": "stream",
     "text": [
      "+-----+---+\n",
      "| name|age|\n",
      "+-----+---+\n",
      "|Alice| 34|\n",
      "|  Bob| 45|\n",
      "|Cathy| 29|\n",
      "|David| 52|\n",
      "+-----+---+\n",
      "\n"
     ]
    }
   ],
   "source": [
    "#SQL \n",
    "spark.sql(\"select name, age FROM people;\").show()"
   ]
  },
  {
   "cell_type": "code",
   "execution_count": 184,
   "id": "5b164674-6e1b-4d0e-9bbf-7a43f32838e8",
   "metadata": {},
   "outputs": [
    {
     "name": "stdout",
     "output_type": "stream",
     "text": [
      "+-----+---+\n",
      "| name|age|\n",
      "+-----+---+\n",
      "|Alice| 34|\n",
      "|  Bob| 45|\n",
      "|Cathy| 29|\n",
      "|David| 52|\n",
      "+-----+---+\n",
      "\n"
     ]
    }
   ],
   "source": [
    "spark.sql(\"select name, age FROM people\").show()"
   ]
  },
  {
   "cell_type": "code",
   "execution_count": 186,
   "id": "d8e471d4-d499-456d-8e5b-1bb2f994dda9",
   "metadata": {},
   "outputs": [
    {
     "name": "stdout",
     "output_type": "stream",
     "text": [
      "+-----+--------+--------+\n",
      "|state|avg(age)|count(1)|\n",
      "+-----+--------+--------+\n",
      "|   NY|    43.0|       2|\n",
      "|   CA|    45.0|       1|\n",
      "|   TX|    29.0|       1|\n",
      "+-----+--------+--------+\n",
      "\n"
     ]
    }
   ],
   "source": [
    "#Aggregations in \n",
    "#DF:\n",
    "df.groupBy(\"state\").agg(avg(\"age\"), count(\"*\")).show()"
   ]
  },
  {
   "cell_type": "code",
   "execution_count": 187,
   "id": "8bfafabc-a77a-47ea-aefd-1e406e287d0b",
   "metadata": {},
   "outputs": [
    {
     "name": "stdout",
     "output_type": "stream",
     "text": [
      "+-----+-------+-----+\n",
      "|state|avg_age|count|\n",
      "+-----+-------+-----+\n",
      "|   NY|   43.0|    2|\n",
      "|   CA|   45.0|    1|\n",
      "|   TX|   29.0|    1|\n",
      "+-----+-------+-----+\n",
      "\n"
     ]
    }
   ],
   "source": [
    "#SQL\n",
    "spark.sql(\"\"\"\n",
    "    SELECT state, AVG(age) as avg_age, COUNT(*) as count\n",
    "    FROM people\n",
    "    GROUP BY state\n",
    "    \"\"\").show()"
   ]
  },
  {
   "cell_type": "code",
   "execution_count": 188,
   "id": "d4b192a1-5085-47f6-9f8b-39489994abb1",
   "metadata": {},
   "outputs": [],
   "source": [
    "# CTE, joins"
   ]
  },
  {
   "cell_type": "code",
   "execution_count": 189,
   "id": "7e087728-7c91-4293-980f-9f020226e83c",
   "metadata": {},
   "outputs": [
    {
     "name": "stdout",
     "output_type": "stream",
     "text": [
      "+----------+\n",
      "|ny_avg_age|\n",
      "+----------+\n",
      "|      43.0|\n",
      "+----------+\n",
      "\n"
     ]
    }
   ],
   "source": [
    "spark.sql(\"\"\"\n",
    "WITH ny_residents AS (\n",
    "    SELECT * FROM people WHERE state = 'NY'\n",
    ") \n",
    "SELECT AVG(age) as ny_avg_age FROM ny_residents\n",
    "\"\"\").show()"
   ]
  },
  {
   "cell_type": "code",
   "execution_count": 190,
   "id": "e5eb974e-2ce9-4895-8b02-6730beb5d6df",
   "metadata": {},
   "outputs": [],
   "source": [
    "#joins"
   ]
  },
  {
   "cell_type": "code",
   "execution_count": 191,
   "id": "0fbc8592-3ab9-4c09-8005-737416a63122",
   "metadata": {},
   "outputs": [],
   "source": [
    "# create a second table:\n",
    "depts = spark.createDataFrame([\n",
    "    (1, \"Engineering\"),\n",
    "    (2, \"Marketing\")\n",
    "], [\"id\", \"dept_name\"])\n",
    "\n",
    "depts.createOrReplaceTempView(\"departments\")"
   ]
  },
  {
   "cell_type": "code",
   "execution_count": 192,
   "id": "f517e437-18d8-4245-a100-60850e99b56a",
   "metadata": {},
   "outputs": [],
   "source": [
    "#people, departments\n",
    "#people \n",
    "# departments:\n",
    "#1   engineering\n",
    "#2 Marketing"
   ]
  },
  {
   "cell_type": "code",
   "execution_count": 194,
   "id": "7f7d508c-96f2-491e-adcc-036fa81c07f6",
   "metadata": {},
   "outputs": [
    {
     "name": "stdout",
     "output_type": "stream",
     "text": [
      "+-----+-----------+\n",
      "| name|  dept_name|\n",
      "+-----+-----------+\n",
      "|Alice|Engineering|\n",
      "|  Bob|  Marketing|\n",
      "+-----+-----------+\n",
      "\n"
     ]
    }
   ],
   "source": [
    "#SQL Join:\n",
    "spark.sql(\"\"\"\n",
    "SELECT P.name, d.dept_name FROM people p\n",
    "JOIN departments d ON p.id = d.id \n",
    "\"\"\").show()"
   ]
  },
  {
   "cell_type": "code",
   "execution_count": 195,
   "id": "566e0ff3-22e0-4b82-9f22-cd51eb6626ba",
   "metadata": {},
   "outputs": [],
   "source": [
    "# select * from table 100 order by date limit 100"
   ]
  },
  {
   "cell_type": "code",
   "execution_count": 196,
   "id": "6c010115-1a77-47b1-b5b8-e93702b659d2",
   "metadata": {},
   "outputs": [
    {
     "name": "stdout",
     "output_type": "stream",
     "text": [
      "+-----+---+-----+-------------+--------+\n",
      "| name|age|state|state_avg_age|age_rank|\n",
      "+-----+---+-----+-------------+--------+\n",
      "|  Bob| 45|   CA|         45.0|       2|\n",
      "|David| 52|   NY|         43.0|       1|\n",
      "|Alice| 34|   NY|         43.0|       3|\n",
      "|Cathy| 29|   TX|         29.0|       4|\n",
      "+-----+---+-----+-------------+--------+\n",
      "\n"
     ]
    }
   ],
   "source": [
    "#Window Functions\n",
    "spark.sql(\"\"\"\n",
    "Select name, age, state, AVG(age) OVER (PARTITION BY state) as state_avg_age,\n",
    "RANK() OVER (ORDER BY age DESC) as age_rank\n",
    "FROM people\n",
    "\"\"\").show()"
   ]
  },
  {
   "cell_type": "code",
   "execution_count": 197,
   "id": "e236e5d3-807b-4365-a808-f4febd0bc755",
   "metadata": {},
   "outputs": [
    {
     "name": "stdout",
     "output_type": "stream",
     "text": [
      "+-----+----+----+----+\n",
      "| name|  NY|  CA|  TX|\n",
      "+-----+----+----+----+\n",
      "|  Bob|NULL|45.0|NULL|\n",
      "|Alice|34.0|NULL|NULL|\n",
      "|David|52.0|NULL|NULL|\n",
      "|Cathy|NULL|NULL|29.0|\n",
      "+-----+----+----+----+\n",
      "\n"
     ]
    }
   ],
   "source": [
    "#Pivoting:\n",
    "spark.sql(\"\"\"\n",
    "    SELECT * FROM (\n",
    "        SELECT state, name, age \n",
    "        FROM people\n",
    "    )\n",
    "    PIVOT (\n",
    "        AVG(age) FOR state IN ('NY', 'CA', 'TX')\n",
    "    )\n",
    "\"\"\").show()"
   ]
  },
  {
   "cell_type": "code",
   "execution_count": 198,
   "id": "010da73c-26ae-4931-ad12-cd05f55f9a92",
   "metadata": {},
   "outputs": [
    {
     "name": "stdout",
     "output_type": "stream",
     "text": [
      "+-----+---+\n",
      "| name|age|\n",
      "+-----+---+\n",
      "|Alice| 34|\n",
      "+-----+---+\n",
      "\n"
     ]
    }
   ],
   "source": [
    "# JSON Processing:\n",
    "json_df = spark.createDataFrame([('{\"name\": \"Alice\", \"age\": 34}',)], ['json_str'])\n",
    "json_df.createOrReplaceTempView(\"json_data\")\n",
    "\n",
    "spark.sql(\"\"\"\n",
    "    SELECT \n",
    "        get_json_object(json_str, '$.name') as name,\n",
    "        get_json_object(json_str, '$.age') as age\n",
    "    FROM json_data\n",
    "\"\"\").show()"
   ]
  },
  {
   "cell_type": "code",
   "execution_count": 199,
   "id": "c84fc2f1-496d-479f-86c0-9cbf5317c782",
   "metadata": {},
   "outputs": [
    {
     "data": {
      "text/plain": [
       "DataFrame[]"
      ]
     },
     "execution_count": 199,
     "metadata": {},
     "output_type": "execute_result"
    }
   ],
   "source": [
    "#Caching tables\n",
    "spark.sql(\"CACHE TABLE people\")"
   ]
  },
  {
   "cell_type": "code",
   "execution_count": 200,
   "id": "5841c9e1-9c57-49f7-bb37-e8a1b0a88458",
   "metadata": {},
   "outputs": [
    {
     "data": {
      "text/plain": [
       "DataFrame[]"
      ]
     },
     "execution_count": 200,
     "metadata": {},
     "output_type": "execute_result"
    }
   ],
   "source": [
    "# Partitioning:\n",
    "spark.sql(\"\"\"\n",
    "    CREATE TABLE partitioned_people\n",
    "    USING parquet\n",
    "    PARTITIONED BY (state)\n",
    "    AS SELECT * FROM people\n",
    "\"\"\")"
   ]
  },
  {
   "cell_type": "code",
   "execution_count": 201,
   "id": "f62fc265-4285-47be-861e-7aa8bf7cc84b",
   "metadata": {},
   "outputs": [
    {
     "name": "stdout",
     "output_type": "stream",
     "text": [
      "+-----------------------------------------------------------------------------------------------------------------------------------------------------------------------------------------------------------------------------------------------------------------------------------------------------------------------------------------------------------------------------------------------------------------------------------------------------------------------------------------------------------------------------------------------------------------------------------------------------------------------------------------------------------------------------------------------------------------------------------------------------------------------------------------------------------------------------------------------------------------------------------------------------------------------------------------------------------------------------------------------------------------------------------------------------------------------------------------------------------------------------------------------------------------------------------------------------------------------------------------+\n",
      "|plan                                                                                                                                                                                                                                                                                                                                                                                                                                                                                                                                                                                                                                                                                                                                                                                                                                                                                                                                                                                                                                                                                                                                                                                                                                     |\n",
      "+-----------------------------------------------------------------------------------------------------------------------------------------------------------------------------------------------------------------------------------------------------------------------------------------------------------------------------------------------------------------------------------------------------------------------------------------------------------------------------------------------------------------------------------------------------------------------------------------------------------------------------------------------------------------------------------------------------------------------------------------------------------------------------------------------------------------------------------------------------------------------------------------------------------------------------------------------------------------------------------------------------------------------------------------------------------------------------------------------------------------------------------------------------------------------------------------------------------------------------------------+\n",
      "|== Parsed Logical Plan ==\\n'Project [*]\\n+- 'Filter ('age > 30)\\n   +- 'UnresolvedRelation [people], [], false\\n\\n== Analyzed Logical Plan ==\\nid: bigint, name: string, age: bigint, state: string\\nProject [id#8562L, name#8563, age#8564L, state#8565]\\n+- Filter (age#8564L > cast(30 as bigint))\\n   +- SubqueryAlias people\\n      +- View (`people`, [id#8562L,name#8563,age#8564L,state#8565])\\n         +- LogicalRDD [id#8562L, name#8563, age#8564L, state#8565], false\\n\\n== Optimized Logical Plan ==\\nFilter (isnotnull(age#8564L) AND (age#8564L > 30))\\n+- InMemoryRelation [id#8562L, name#8563, age#8564L, state#8565], StorageLevel(disk, memory, deserialized, 1 replicas)\\n      +- *(1) Scan ExistingRDD[id#8562L,name#8563,age#8564L,state#8565]\\n\\n== Physical Plan ==\\nAdaptiveSparkPlan isFinalPlan=false\\n+- Filter (isnotnull(age#8564L) AND (age#8564L > 30))\\n   +- Scan In-memory table people [id#8562L, name#8563, age#8564L, state#8565], [isnotnull(age#8564L), (age#8564L > 30)]\\n         +- InMemoryRelation [id#8562L, name#8563, age#8564L, state#8565], StorageLevel(disk, memory, deserialized, 1 replicas)\\n               +- *(1) Scan ExistingRDD[id#8562L,name#8563,age#8564L,state#8565]\\n|\n",
      "+-----------------------------------------------------------------------------------------------------------------------------------------------------------------------------------------------------------------------------------------------------------------------------------------------------------------------------------------------------------------------------------------------------------------------------------------------------------------------------------------------------------------------------------------------------------------------------------------------------------------------------------------------------------------------------------------------------------------------------------------------------------------------------------------------------------------------------------------------------------------------------------------------------------------------------------------------------------------------------------------------------------------------------------------------------------------------------------------------------------------------------------------------------------------------------------------------------------------------------------------+\n",
      "\n"
     ]
    }
   ],
   "source": [
    "#Explain plans\n",
    "spark.sql(\"EXPLAIN EXTENDED SELECT * FROM people WHERE age > 30\").show(truncate=False)"
   ]
  },
  {
   "cell_type": "code",
   "execution_count": 202,
   "id": "2606ba65-094c-4ed3-a383-1091b06535d6",
   "metadata": {},
   "outputs": [
    {
     "name": "stdout",
     "output_type": "stream",
     "text": [
      "+----------+----------+------------+\n",
      "|     today| next_week|current_year|\n",
      "+----------+----------+------------+\n",
      "|2025-06-08|2025-06-15|        2025|\n",
      "+----------+----------+------------+\n",
      "\n"
     ]
    }
   ],
   "source": [
    "#SQL Functions reference\n",
    "#DATA functions\n",
    "spark.sql(\"\"\"\n",
    "    SELECT \n",
    "        current_date() as today,\n",
    "        date_add(current_date(), 7) as next_week,\n",
    "        year(current_date()) as current_year\n",
    "    FROM people LIMIT 1\n",
    "\"\"\").show()"
   ]
  },
  {
   "cell_type": "code",
   "execution_count": 204,
   "id": "7ba32dfa-5afb-493b-9eaf-77235499026e",
   "metadata": {},
   "outputs": [
    {
     "name": "stdout",
     "output_type": "stream",
     "text": [
      "+-----+---------+-------------+-------------+\n",
      "| name|uppercase|first_3_chars|  description|\n",
      "+-----+---------+-------------+-------------+\n",
      "|Alice|    ALICE|          Ali|Alice from NY|\n",
      "|  Bob|      BOB|          Bob|  Bob from CA|\n",
      "|Cathy|    CATHY|          Cat|Cathy from TX|\n",
      "|David|    DAVID|          Dav|David from NY|\n",
      "+-----+---------+-------------+-------------+\n",
      "\n"
     ]
    }
   ],
   "source": [
    "#string functions\n",
    "spark.sql(\"\"\"\n",
    "    SELECT \n",
    "        name,\n",
    "        upper(name) as uppercase,\n",
    "        substring(name, 1, 3) as first_3_chars,\n",
    "        concat(name, ' from ', state) as description\n",
    "    FROM people\n",
    "\"\"\").show()"
   ]
  },
  {
   "cell_type": "code",
   "execution_count": 205,
   "id": "6cb80bcb-8a46-4c3d-bab9-b0e2b06aacb2",
   "metadata": {},
   "outputs": [
    {
     "name": "stdout",
     "output_type": "stream",
     "text": [
      "+-----+---+-----------+\n",
      "| name|age|  age_group|\n",
      "+-----+---+-----------+\n",
      "|Alice| 34|Middle-aged|\n",
      "|  Bob| 45|Middle-aged|\n",
      "|Cathy| 29|      Young|\n",
      "|David| 52|     Senior|\n",
      "+-----+---+-----------+\n",
      "\n"
     ]
    }
   ],
   "source": [
    "#conditional logic\n",
    "spark.sql(\"\"\"\n",
    "    SELECT \n",
    "        name,\n",
    "        age,\n",
    "        CASE \n",
    "            WHEN age < 30 THEN 'Young'\n",
    "            WHEN age BETWEEN 30 AND 50 THEN 'Middle-aged'\n",
    "            ELSE 'Senior'\n",
    "        END as age_group\n",
    "    FROM people\n",
    "\"\"\").show()"
   ]
  },
  {
   "cell_type": "code",
   "execution_count": 206,
   "id": "103d640a-5ffe-4e83-ae6a-5a9aa857e340",
   "metadata": {},
   "outputs": [
    {
     "name": "stdout",
     "output_type": "stream",
     "text": [
      "+-----+-----------+-----+-------+\n",
      "|state|age_bracket|count|avg_age|\n",
      "+-----+-----------+-----+-------+\n",
      "|   CA|      40-49|    1|   45.0|\n",
      "|   NY|      30-39|    1|   34.0|\n",
      "|   NY|        50+|    1|   52.0|\n",
      "|   TX|      18-29|    1|   29.0|\n",
      "+-----+-----------+-----+-------+\n",
      "\n"
     ]
    }
   ],
   "source": [
    "#Real world Example Data pipeline:\n",
    "# End-to-end data processing\n",
    "spark.sql(\"\"\"\n",
    "    -- Clean data\n",
    "    WITH cleaned_data AS (\n",
    "        SELECT \n",
    "            id,\n",
    "            trim(name) as name,\n",
    "            age,\n",
    "            upper(state) as state\n",
    "        FROM people\n",
    "        WHERE age IS NOT NULL\n",
    "    ),\n",
    "    \n",
    "    -- Enrich with age groups\n",
    "    with_age_groups AS (\n",
    "        SELECT *,\n",
    "            CASE \n",
    "                WHEN age < 30 THEN '18-29'\n",
    "                WHEN age < 40 THEN '30-39'\n",
    "                WHEN age < 50 THEN '40-49'\n",
    "                ELSE '50+'\n",
    "            END as age_bracket\n",
    "        FROM cleaned_data\n",
    "    ),\n",
    "    \n",
    "    -- Final aggregation\n",
    "    final_report AS (\n",
    "        SELECT \n",
    "            state,\n",
    "            age_bracket,\n",
    "            COUNT(*) as count,\n",
    "            AVG(age) as avg_age\n",
    "        FROM with_age_groups\n",
    "        GROUP BY state, age_bracket\n",
    "    )\n",
    "    \n",
    "    -- Final output\n",
    "    SELECT * FROM final_report\n",
    "    ORDER BY state, age_bracket\n",
    "\"\"\").show()\n"
   ]
  },
  {
   "cell_type": "code",
   "execution_count": 207,
   "id": "aaf7f023-a670-4f1c-b78b-7cd9bdae06b5",
   "metadata": {},
   "outputs": [],
   "source": [
    "spark.stop()"
   ]
  },
  {
   "cell_type": "markdown",
   "id": "184f49e1-0c59-4ede-afc8-ab1f95819edc",
   "metadata": {},
   "source": [
    "# Section 10 06: PySpark RDDs quick intro map(), collect()"
   ]
  },
  {
   "cell_type": "code",
   "execution_count": 208,
   "id": "61002780-676f-4604-a57b-52ea764f42f4",
   "metadata": {},
   "outputs": [],
   "source": [
    "#RDDs : Resilient Distributed Datasets are pysparks fundamental data structure:\n",
    "#Immutable\n",
    "#Distributed across cluster\n",
    "#Fault-tolerant (can recover from failures)\n",
    "#Lazy-evaluated "
   ]
  },
  {
   "cell_type": "code",
   "execution_count": 221,
   "id": "b4e75edc-3fe5-498a-a8fb-8b7f9cd538c0",
   "metadata": {},
   "outputs": [],
   "source": [
    "from pyspark.sql import SparkSession\n",
    "#start a sparksession:\n",
    "spark = SparkSession.builder.appName(\"RDDDemo\").master(\"local[*]\").getOrCreate()\n",
    "sc = spark.sparkContext"
   ]
  },
  {
   "cell_type": "code",
   "execution_count": 223,
   "id": "7a20c74d-31c8-427e-8534-c9eb1fcae137",
   "metadata": {},
   "outputs": [
    {
     "name": "stdout",
     "output_type": "stream",
     "text": [
      "[1, 2, 3, 4, 5]\n"
     ]
    }
   ],
   "source": [
    "#\n",
    "numbers = [1, 2, 3, 4, 5]\n",
    "numbers_rdd = sc.parallelize(numbers)\n",
    "print(numbers_rdd.collect())"
   ]
  },
  {
   "cell_type": "code",
   "execution_count": 225,
   "id": "133102e3-ece8-44ed-948e-1deba6393471",
   "metadata": {},
   "outputs": [
    {
     "name": "stdout",
     "output_type": "stream",
     "text": [
      "['first line', 'second line', 'third line']\n"
     ]
    }
   ],
   "source": [
    "#create a text file:\n",
    "with open(\"sample.txt\", \"w\") as f:\n",
    "    f.write(\"first line\\nsecond line\\nthird line\")\n",
    "\n",
    "text_rdd = sc.textFile('sample.txt')\n",
    "print(text_rdd.collect())"
   ]
  },
  {
   "cell_type": "code",
   "execution_count": 226,
   "id": "488ff718-2c51-4bf8-85e9-23dc091cbd21",
   "metadata": {},
   "outputs": [],
   "source": [
    "# Transformations with mape "
   ]
  },
  {
   "cell_type": "code",
   "execution_count": 227,
   "id": "11d5a6cb-61ee-498f-ac6b-395e94b7cb35",
   "metadata": {},
   "outputs": [
    {
     "name": "stdout",
     "output_type": "stream",
     "text": [
      "[1, 4, 9, 16, 25]\n"
     ]
    }
   ],
   "source": [
    "squared_rdd = numbers_rdd.map(lambda x: x ** 2)\n",
    "print(squared_rdd.collect())"
   ]
  },
  {
   "cell_type": "code",
   "execution_count": 228,
   "id": "0ca1570c-97ea-47b3-9bad-be299ce0916b",
   "metadata": {},
   "outputs": [
    {
     "name": "stdout",
     "output_type": "stream",
     "text": [
      "[31, 41, 51]\n"
     ]
    }
   ],
   "source": [
    "# Chain transformations\n",
    "processed = (numbers_rdd\n",
    "            .map(lambda x: x * 10)  # Multiply by 10\n",
    "            .filter(lambda x: x > 20)  # Keep > 20\n",
    "            .map(lambda x: x + 1))  # Add 1\n",
    "\n",
    "print(processed.collect())  # [31, 41, 51]"
   ]
  },
  {
   "cell_type": "code",
   "execution_count": 229,
   "id": "2a2d579b-a09c-4a41-b1bc-64692322a503",
   "metadata": {},
   "outputs": [
    {
     "name": "stdout",
     "output_type": "stream",
     "text": [
      "[0, 1, 2, 3, 4]\n"
     ]
    }
   ],
   "source": [
    "# collect() brings all data to driver (use carefully)\n",
    "small_rdd = sc.parallelize(range(5))\n",
    "print(small_rdd.collect())  # [0, 1, 2, 3, 4]"
   ]
  },
  {
   "cell_type": "code",
   "execution_count": 230,
   "id": "8bb6ef07-95b4-4bb8-bf52-af6ea5903fb1",
   "metadata": {},
   "outputs": [
    {
     "name": "stdout",
     "output_type": "stream",
     "text": [
      "[1, 2, 3]\n"
     ]
    }
   ],
   "source": [
    "print(numbers_rdd.take(3))  # [1, 2, 3]"
   ]
  },
  {
   "cell_type": "code",
   "execution_count": 231,
   "id": "d419da5b-f743-4283-89a3-75e956f860f0",
   "metadata": {},
   "outputs": [
    {
     "name": "stdout",
     "output_type": "stream",
     "text": [
      "first line\n"
     ]
    }
   ],
   "source": [
    "print(text_rdd.first())"
   ]
  },
  {
   "cell_type": "code",
   "execution_count": 232,
   "id": "e2375564-17c8-4a89-aceb-9f3ad28eb9be",
   "metadata": {},
   "outputs": [
    {
     "name": "stdout",
     "output_type": "stream",
     "text": [
      "5\n"
     ]
    }
   ],
   "source": [
    "print(numbers_rdd.count())"
   ]
  },
  {
   "cell_type": "code",
   "execution_count": 233,
   "id": "0b60c66d-44a1-4334-942d-a9a3b2710b12",
   "metadata": {},
   "outputs": [
    {
     "name": "stdout",
     "output_type": "stream",
     "text": [
      "[[100, 200, 300, 400, 500]]\n"
     ]
    }
   ],
   "source": [
    "#MapPartitions:\n",
    "def expensive_transform(iterator):\n",
    "    print(\"Initializing expensive resource...\")\n",
    "    yield [x * 100 for x in iterator]\n",
    "\n",
    "result = numbers_rdd.mapPartitions(expensive_transform)\n",
    "print(result.collect())  # [100, 200, 300, 400, 500]"
   ]
  },
  {
   "cell_type": "code",
   "execution_count": 234,
   "id": "49f6ae07-1e2e-4a76-925a-7094168b04c0",
   "metadata": {},
   "outputs": [
    {
     "name": "stdout",
     "output_type": "stream",
     "text": [
      "[('a', 4), ('b', 2)]\n"
     ]
    }
   ],
   "source": [
    "# Create key-value pairs\n",
    "pairs = sc.parallelize([(\"a\", 1), (\"b\", 2), (\"a\", 3)])\n",
    "\n",
    "# Reduce by key\n",
    "sums = pairs.reduceByKey(lambda a, b: a + b)\n",
    "print(sums.collect())  # [('a', 4), ('b', 2)]"
   ]
  },
  {
   "cell_type": "code",
   "execution_count": 235,
   "id": "be9d45bc-178a-480c-88f5-52a68a89485d",
   "metadata": {},
   "outputs": [
    {
     "name": "stdout",
     "output_type": "stream",
     "text": [
      "[('hello', 3), ('world', 1), ('spark', 1), ('python', 1)]\n"
     ]
    }
   ],
   "source": [
    "# Create sample text file\n",
    "with open(\"words.txt\", \"w\") as f:\n",
    "    f.write(\"hello world hello spark hello python\")\n",
    "\n",
    "# Word count pipeline\n",
    "word_counts = (sc.textFile(\"words.txt\")\n",
    "              .flatMap(lambda line: line.split(\" \"))  # Split into words\n",
    "              .map(lambda word: (word, 1))  # Create pairs\n",
    "              .reduceByKey(lambda a, b: a + b))  # Sum counts\n",
    "\n",
    "print(word_counts.collect())  \n",
    "# [('hello', 3), ('world', 1), ('spark', 1), ('python', 1)]"
   ]
  },
  {
   "cell_type": "code",
   "execution_count": 236,
   "id": "9f1b2835-97b1-4076-ab39-9f67f3554a8d",
   "metadata": {},
   "outputs": [],
   "source": [
    "spark.stop()"
   ]
  },
  {
   "cell_type": "code",
   "execution_count": null,
   "id": "27e2ce31-b8be-419a-a4df-d382d68aefec",
   "metadata": {},
   "outputs": [],
   "source": []
  }
 ],
 "metadata": {
  "kernelspec": {
   "display_name": "Python 3 (ipykernel)",
   "language": "python",
   "name": "python3"
  },
  "language_info": {
   "codemirror_mode": {
    "name": "ipython",
    "version": 3
   },
   "file_extension": ".py",
   "mimetype": "text/x-python",
   "name": "python",
   "nbconvert_exporter": "python",
   "pygments_lexer": "ipython3",
   "version": "3.11.4"
  }
 },
 "nbformat": 4,
 "nbformat_minor": 5
}
