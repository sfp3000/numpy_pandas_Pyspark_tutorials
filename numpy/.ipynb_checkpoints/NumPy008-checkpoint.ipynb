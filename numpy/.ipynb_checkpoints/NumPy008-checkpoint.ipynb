{
 "cells": [
  {
   "cell_type": "markdown",
   "id": "68cda902-b00b-4728-9de6-edaa20ae4583",
   "metadata": {},
   "source": [
    "# Section 09 03 Numpy.mean and numpy.avg"
   ]
  },
  {
   "cell_type": "code",
   "execution_count": 1,
   "id": "b2c2d148-d7af-4f2f-a2c0-5388e2828e97",
   "metadata": {},
   "outputs": [],
   "source": [
    "#np.mean(arr, axis=None, dtype=None, keepdims=False)"
   ]
  },
  {
   "cell_type": "code",
   "execution_count": 2,
   "id": "abe417e5-66e0-455e-b99e-150ae9ba125a",
   "metadata": {},
   "outputs": [],
   "source": [
    "import numpy as np"
   ]
  },
  {
   "cell_type": "code",
   "execution_count": 3,
   "id": "cc02f449-a79c-4669-8757-7667b53773e9",
   "metadata": {},
   "outputs": [],
   "source": [
    "data = np.array([1,2,3,4,5])\n",
    "avg = np.mean(data)"
   ]
  },
  {
   "cell_type": "code",
   "execution_count": 4,
   "id": "8837c9b9-ec81-4e94-85cd-8ec4e5f77640",
   "metadata": {},
   "outputs": [
    {
     "name": "stdout",
     "output_type": "stream",
     "text": [
      "3.0\n"
     ]
    }
   ],
   "source": [
    "print(avg)"
   ]
  },
  {
   "cell_type": "code",
   "execution_count": 5,
   "id": "7dbb3219-9508-46de-ba95-996e66b7425f",
   "metadata": {},
   "outputs": [],
   "source": [
    "#Faster than sum()/len()\n"
   ]
  },
  {
   "cell_type": "code",
   "execution_count": 6,
   "id": "c6306a23-b2c6-4544-8c99-5d38f0abba47",
   "metadata": {},
   "outputs": [],
   "source": [
    "arr2D = np.array([[1,2,3], [4,5,6]])"
   ]
  },
  {
   "cell_type": "code",
   "execution_count": 7,
   "id": "9fd76389-ffec-475f-a4fe-d6bd0e16a18f",
   "metadata": {},
   "outputs": [],
   "source": [
    "col_m = np.mean(arr2D, axis=0)"
   ]
  },
  {
   "cell_type": "code",
   "execution_count": 8,
   "id": "afeb4aa8-fb60-4e3f-b614-d8d1684947df",
   "metadata": {},
   "outputs": [
    {
     "data": {
      "text/plain": [
       "array([2.5, 3.5, 4.5])"
      ]
     },
     "execution_count": 8,
     "metadata": {},
     "output_type": "execute_result"
    }
   ],
   "source": [
    "col_m"
   ]
  },
  {
   "cell_type": "code",
   "execution_count": 9,
   "id": "0dbac3f7-513d-44f3-8727-ca4d0b52f0a7",
   "metadata": {},
   "outputs": [],
   "source": [
    "row_m = np.mean(arr2D, axis=1)"
   ]
  },
  {
   "cell_type": "code",
   "execution_count": 10,
   "id": "71957a63-2801-41b7-a79b-053be7acb3c3",
   "metadata": {},
   "outputs": [
    {
     "data": {
      "text/plain": [
       "array([2., 5.])"
      ]
     },
     "execution_count": 10,
     "metadata": {},
     "output_type": "execute_result"
    }
   ],
   "source": [
    "row_m"
   ]
  },
  {
   "cell_type": "code",
   "execution_count": 11,
   "id": "d42c2106-6642-401f-8861-69f47923ce65",
   "metadata": {},
   "outputs": [],
   "source": [
    "rowk = np.mean(arr2D, axis=1, keepdims=True)"
   ]
  },
  {
   "cell_type": "code",
   "execution_count": 12,
   "id": "4cceb83b-8ce8-44f0-bdb3-eb5afa6d720b",
   "metadata": {},
   "outputs": [
    {
     "data": {
      "text/plain": [
       "array([[2.],\n",
       "       [5.]])"
      ]
     },
     "execution_count": 12,
     "metadata": {},
     "output_type": "execute_result"
    }
   ],
   "source": [
    "rowk"
   ]
  },
  {
   "cell_type": "code",
   "execution_count": 13,
   "id": "f39f8e7e-0763-49a7-91ea-bc6259af10bf",
   "metadata": {},
   "outputs": [
    {
     "name": "stdout",
     "output_type": "stream",
     "text": [
      "[[2.5 3.5 4.5]]\n"
     ]
    }
   ],
   "source": [
    "rowk = np.mean(arr2D, axis=0, keepdims=True)\n",
    "print(rowk)"
   ]
  },
  {
   "cell_type": "code",
   "execution_count": 15,
   "id": "59afdfbc-713c-4e3d-b37b-0074e48186bb",
   "metadata": {},
   "outputs": [],
   "source": [
    "d1 = np.mean(arr2D, axis=0, dtype=np.float32)"
   ]
  },
  {
   "cell_type": "code",
   "execution_count": 16,
   "id": "994c08bd-31da-41cd-81fb-06c53cc59459",
   "metadata": {},
   "outputs": [
    {
     "data": {
      "text/plain": [
       "array([2.5, 3.5, 4.5], dtype=float32)"
      ]
     },
     "execution_count": 16,
     "metadata": {},
     "output_type": "execute_result"
    }
   ],
   "source": [
    "d1"
   ]
  },
  {
   "cell_type": "code",
   "execution_count": 17,
   "id": "25594dd8-b58b-4135-ac20-3d118db68ad8",
   "metadata": {},
   "outputs": [
    {
     "name": "stdout",
     "output_type": "stream",
     "text": [
      "[2.5 3.5 4.5]\n"
     ]
    }
   ],
   "source": [
    "print(d1)"
   ]
  },
  {
   "cell_type": "code",
   "execution_count": 18,
   "id": "14b8f026-808e-42b8-9d28-2142796e1581",
   "metadata": {},
   "outputs": [],
   "source": [
    "d2 = np.mean(arr2D, axis=1, dtype=np.float64)"
   ]
  },
  {
   "cell_type": "code",
   "execution_count": 19,
   "id": "85a6982e-75e6-454b-9636-331766576cb9",
   "metadata": {},
   "outputs": [
    {
     "name": "stdout",
     "output_type": "stream",
     "text": [
      "[2. 5.]\n"
     ]
    }
   ],
   "source": [
    "print(d2)"
   ]
  },
  {
   "cell_type": "code",
   "execution_count": 20,
   "id": "a73cb898-b539-47d7-b821-fe6a92a89413",
   "metadata": {},
   "outputs": [],
   "source": [
    "arr_nan = np.array([1, 2, np.nan, 4])"
   ]
  },
  {
   "cell_type": "code",
   "execution_count": 21,
   "id": "3ad34b5b-fb82-4218-9650-951ffd3f66a3",
   "metadata": {},
   "outputs": [
    {
     "name": "stdout",
     "output_type": "stream",
     "text": [
      "nan\n"
     ]
    }
   ],
   "source": [
    "print(np.mean(arr_nan))"
   ]
  },
  {
   "cell_type": "code",
   "execution_count": 22,
   "id": "8ef45e6b-e183-4e04-aec1-a4e825de10e7",
   "metadata": {},
   "outputs": [
    {
     "name": "stdout",
     "output_type": "stream",
     "text": [
      "2.3333333333333335\n"
     ]
    }
   ],
   "source": [
    "print(np.nanmean(arr_nan))"
   ]
  },
  {
   "cell_type": "markdown",
   "id": "10ad1df4-52b6-4068-8d2b-a392cd9abcfa",
   "metadata": {},
   "source": [
    "#### Weighted Mean"
   ]
  },
  {
   "cell_type": "code",
   "execution_count": 23,
   "id": "740cd196-990d-4ac9-b096-dd20a647840d",
   "metadata": {},
   "outputs": [],
   "source": [
    "weights = np.array([0.5, 0.3, 0.9])\n",
    "values = np.array([10, 20, 30])"
   ]
  },
  {
   "cell_type": "code",
   "execution_count": 24,
   "id": "bf560d63-01f1-40ec-83d7-86825654f50e",
   "metadata": {},
   "outputs": [],
   "source": [
    "weighted_avg = np.average(values, weights=weights)"
   ]
  },
  {
   "cell_type": "code",
   "execution_count": 25,
   "id": "23159185-1e75-480f-b079-72ff92810850",
   "metadata": {},
   "outputs": [
    {
     "data": {
      "text/plain": [
       "25.0"
      ]
     },
     "execution_count": 25,
     "metadata": {},
     "output_type": "execute_result"
    }
   ],
   "source": [
    "weighted_avg"
   ]
  },
  {
   "cell_type": "code",
   "execution_count": 27,
   "id": "7535627b-5336-495d-94c7-0a69d9209e90",
   "metadata": {},
   "outputs": [
    {
     "data": {
      "text/plain": [
       "25.0"
      ]
     },
     "execution_count": 27,
     "metadata": {},
     "output_type": "execute_result"
    }
   ],
   "source": [
    "#sum(weights*values)/sum(weights)\n",
    "(0.1*10 + 0.3*20 + 0.6*30)/(0.1+0.3+0.6)"
   ]
  },
  {
   "cell_type": "code",
   "execution_count": 28,
   "id": "4ec3aa0c-4655-458c-9480-3267b4bac13d",
   "metadata": {},
   "outputs": [],
   "source": [
    "weights = np.array([0.5, 0.3, 0.9])\n",
    "values = np.array([10, 20, 30])\n",
    "weighted_avg = np.average(values, weights=weights)"
   ]
  },
  {
   "cell_type": "code",
   "execution_count": 29,
   "id": "e924ecb1-7b3b-4ac8-bd74-26de90b35ef7",
   "metadata": {},
   "outputs": [
    {
     "data": {
      "text/plain": [
       "22.352941176470587"
      ]
     },
     "execution_count": 29,
     "metadata": {},
     "output_type": "execute_result"
    }
   ],
   "source": [
    "weighted_avg"
   ]
  },
  {
   "cell_type": "markdown",
   "id": "ccd3be8c-d5a2-4abb-b516-f16a885fee4e",
   "metadata": {},
   "source": [
    "#### Complex Arrays"
   ]
  },
  {
   "cell_type": "code",
   "execution_count": 30,
   "id": "f2f67051-6229-440d-86f8-0e58278fe363",
   "metadata": {},
   "outputs": [
    {
     "name": "stdout",
     "output_type": "stream",
     "text": [
      "[1.+2.j 3.+4.j]\n"
     ]
    }
   ],
   "source": [
    "complx = np.array([1+2j, 3+4j])\n",
    "print(complx)"
   ]
  },
  {
   "cell_type": "code",
   "execution_count": 31,
   "id": "0b7d700c-27a2-491e-9b22-a8f11f55f727",
   "metadata": {},
   "outputs": [
    {
     "name": "stdout",
     "output_type": "stream",
     "text": [
      "(2+3j)\n"
     ]
    }
   ],
   "source": [
    "print(np.mean(complx))"
   ]
  },
  {
   "cell_type": "markdown",
   "id": "c6c9cc1e-cba0-4083-8f74-08ab614f7e8e",
   "metadata": {},
   "source": [
    "#### Empty array"
   ]
  },
  {
   "cell_type": "code",
   "execution_count": 32,
   "id": "bd7fd649-7d22-4b9e-ad0b-34fbf11f7dc8",
   "metadata": {},
   "outputs": [],
   "source": [
    "emp = np.array([])"
   ]
  },
  {
   "cell_type": "code",
   "execution_count": 33,
   "id": "7ba79dce-ead2-437e-8dcb-4a0e78af6fe5",
   "metadata": {},
   "outputs": [
    {
     "name": "stdout",
     "output_type": "stream",
     "text": [
      "nan\n"
     ]
    },
    {
     "name": "stderr",
     "output_type": "stream",
     "text": [
      "C:\\Users\\saad\\AppData\\Roaming\\Python\\Python311\\site-packages\\numpy\\core\\fromnumeric.py:3504: RuntimeWarning: Mean of empty slice.\n",
      "  return _methods._mean(a, axis=axis, dtype=dtype,\n",
      "C:\\Users\\saad\\AppData\\Roaming\\Python\\Python311\\site-packages\\numpy\\core\\_methods.py:129: RuntimeWarning: invalid value encountered in scalar divide\n",
      "  ret = ret.dtype.type(ret / rcount)\n"
     ]
    }
   ],
   "source": [
    "print(np.mean(emp))"
   ]
  },
  {
   "cell_type": "markdown",
   "id": "cf7b9f7e-b11c-4759-8fdd-3702de7f04c9",
   "metadata": {},
   "source": [
    "# Section 09 04 np.median"
   ]
  },
  {
   "cell_type": "code",
   "execution_count": 34,
   "id": "00a70dfd-ead3-498d-bb23-314bd9107bff",
   "metadata": {},
   "outputs": [],
   "source": [
    "# [1, 2, 3, 4, 5, 6, 10000000]   4\n",
    "# [1, 2, 3, 4, 5, 10000000]   3+4/2 3.5"
   ]
  },
  {
   "cell_type": "code",
   "execution_count": 35,
   "id": "036b9574-3354-4ed7-b87d-921751234791",
   "metadata": {},
   "outputs": [],
   "source": [
    "import numpy as np"
   ]
  },
  {
   "cell_type": "code",
   "execution_count": 36,
   "id": "3f7272b6-5ef2-45a2-847f-39984aa85d0c",
   "metadata": {},
   "outputs": [],
   "source": [
    "data = np.array([5, 1, 3, 2, 4])"
   ]
  },
  {
   "cell_type": "code",
   "execution_count": 37,
   "id": "30464cb4-9f4c-4139-a143-7eb9c87e4eac",
   "metadata": {},
   "outputs": [],
   "source": [
    "median = np.median(data)"
   ]
  },
  {
   "cell_type": "code",
   "execution_count": 38,
   "id": "798d3c0a-3308-4727-ae44-5abc241f3924",
   "metadata": {},
   "outputs": [
    {
     "data": {
      "text/plain": [
       "3.0"
      ]
     },
     "execution_count": 38,
     "metadata": {},
     "output_type": "execute_result"
    }
   ],
   "source": [
    "median"
   ]
  },
  {
   "cell_type": "code",
   "execution_count": 39,
   "id": "37fc595d-2b28-4fbf-995d-86889cd9359e",
   "metadata": {},
   "outputs": [
    {
     "data": {
      "text/plain": [
       "[1, 2, 3, 4, 5]"
      ]
     },
     "execution_count": 39,
     "metadata": {},
     "output_type": "execute_result"
    }
   ],
   "source": [
    "sorted(data)"
   ]
  },
  {
   "cell_type": "code",
   "execution_count": 40,
   "id": "64fae916-0413-4e7f-b46e-29fb19591e11",
   "metadata": {},
   "outputs": [],
   "source": [
    "data2 = np.array([5, 1, 3, 2, 4, 100000])"
   ]
  },
  {
   "cell_type": "code",
   "execution_count": 42,
   "id": "6e58ccb2-9bde-4526-90ba-cae4e9d5bd8f",
   "metadata": {},
   "outputs": [
    {
     "name": "stdout",
     "output_type": "stream",
     "text": [
      "3.5\n"
     ]
    }
   ],
   "source": [
    "print(np.median(data2))"
   ]
  },
  {
   "cell_type": "code",
   "execution_count": 43,
   "id": "874e7e8a-5b38-4efe-bbb0-ade65de66cd5",
   "metadata": {},
   "outputs": [
    {
     "data": {
      "text/plain": [
       "[1, 2, 3, 4, 5, 100000]"
      ]
     },
     "execution_count": 43,
     "metadata": {},
     "output_type": "execute_result"
    }
   ],
   "source": [
    "sorted(data2)"
   ]
  },
  {
   "cell_type": "code",
   "execution_count": 47,
   "id": "89b02fbb-113e-4cd8-b975-9fc838be6cba",
   "metadata": {},
   "outputs": [],
   "source": [
    "num = (3 + 4 )/2"
   ]
  },
  {
   "cell_type": "code",
   "execution_count": 48,
   "id": "549a210c-809a-44ff-a64d-71cbae1bc5bf",
   "metadata": {},
   "outputs": [
    {
     "data": {
      "text/plain": [
       "3.5"
      ]
     },
     "execution_count": 48,
     "metadata": {},
     "output_type": "execute_result"
    }
   ],
   "source": [
    "num"
   ]
  },
  {
   "cell_type": "code",
   "execution_count": 49,
   "id": "7b31cb23-98a3-4ed9-a786-056d13d4fb89",
   "metadata": {},
   "outputs": [],
   "source": [
    "data3 = np.array([5, 1,2, 10, 30, 80])"
   ]
  },
  {
   "cell_type": "code",
   "execution_count": 51,
   "id": "69733926-9513-4802-8bb9-d64c08a607e1",
   "metadata": {},
   "outputs": [
    {
     "data": {
      "text/plain": [
       "21.333333333333332"
      ]
     },
     "execution_count": 51,
     "metadata": {},
     "output_type": "execute_result"
    }
   ],
   "source": [
    "data3.mean()"
   ]
  },
  {
   "cell_type": "code",
   "execution_count": 53,
   "id": "f48286cd-59a4-4a7f-abf1-8effc1003a82",
   "metadata": {},
   "outputs": [
    {
     "data": {
      "text/plain": [
       "7.5"
      ]
     },
     "execution_count": 53,
     "metadata": {},
     "output_type": "execute_result"
    }
   ],
   "source": [
    "np.median(data3)"
   ]
  },
  {
   "cell_type": "code",
   "execution_count": 54,
   "id": "f297774c-c6ed-45b6-abfe-4064982a452f",
   "metadata": {},
   "outputs": [
    {
     "data": {
      "text/plain": [
       "[1, 2, 5, 10, 30, 80]"
      ]
     },
     "execution_count": 54,
     "metadata": {},
     "output_type": "execute_result"
    }
   ],
   "source": [
    "sorted(data3)"
   ]
  },
  {
   "cell_type": "code",
   "execution_count": 55,
   "id": "4cc3f854-d609-416f-9719-69a5a3230eaf",
   "metadata": {},
   "outputs": [
    {
     "data": {
      "text/plain": [
       "7.5"
      ]
     },
     "execution_count": 55,
     "metadata": {},
     "output_type": "execute_result"
    }
   ],
   "source": [
    "(5+10)/2"
   ]
  },
  {
   "cell_type": "markdown",
   "id": "bb20ee88-35d2-4cf5-942e-7c77b3e8f914",
   "metadata": {},
   "source": [
    "#### 2d median"
   ]
  },
  {
   "cell_type": "code",
   "execution_count": 56,
   "id": "0f37001f-719c-43bb-865c-cfa8b19d2bc6",
   "metadata": {},
   "outputs": [],
   "source": [
    "arr2D = np.array([[1,2,3],\n",
    "                  [4,5,6],\n",
    "                  [7,8,9]])"
   ]
  },
  {
   "cell_type": "code",
   "execution_count": 57,
   "id": "791eee23-6f86-4fe8-8364-d7de78cde5c5",
   "metadata": {},
   "outputs": [
    {
     "name": "stdout",
     "output_type": "stream",
     "text": [
      "[4. 5. 6.]\n"
     ]
    }
   ],
   "source": [
    "col_median = np.median(arr2D, axis=0)\n",
    "print(col_median)"
   ]
  },
  {
   "cell_type": "code",
   "execution_count": 58,
   "id": "7f58b784-776a-4509-b13c-b52cc9486c3a",
   "metadata": {},
   "outputs": [
    {
     "name": "stdout",
     "output_type": "stream",
     "text": [
      "[2. 5. 8.]\n"
     ]
    }
   ],
   "source": [
    "row_median = np.median(arr2D, axis=1)\n",
    "print(row_median)"
   ]
  },
  {
   "cell_type": "code",
   "execution_count": 59,
   "id": "4b2ca80a-b544-4e4b-bed7-b3556674e6ec",
   "metadata": {},
   "outputs": [],
   "source": [
    "#keepdims"
   ]
  },
  {
   "cell_type": "code",
   "execution_count": 60,
   "id": "bbe8a25a-a7e3-4fa7-8ac1-2004ae6b9812",
   "metadata": {},
   "outputs": [
    {
     "name": "stdout",
     "output_type": "stream",
     "text": [
      "[[2.]\n",
      " [5.]\n",
      " [8.]]\n"
     ]
    }
   ],
   "source": [
    "row_median = np.median(arr2D, axis = 1, keepdims=True)\n",
    "print(row_median)"
   ]
  },
  {
   "cell_type": "markdown",
   "id": "fab3bd24-a9e4-494f-adb7-fc83725fc595",
   "metadata": {},
   "source": [
    "#### Nan"
   ]
  },
  {
   "cell_type": "code",
   "execution_count": 61,
   "id": "2d588b21-0eb1-4aa6-9f86-b755ae251be2",
   "metadata": {},
   "outputs": [],
   "source": [
    "arr_nan = np.array([1,2, np.nan, 4])\n",
    "median = np.median(arr_nan)"
   ]
  },
  {
   "cell_type": "code",
   "execution_count": 62,
   "id": "81f01d16-f5ae-4210-a7a1-44939c0a5146",
   "metadata": {},
   "outputs": [
    {
     "data": {
      "text/plain": [
       "nan"
      ]
     },
     "execution_count": 62,
     "metadata": {},
     "output_type": "execute_result"
    }
   ],
   "source": [
    "median"
   ]
  },
  {
   "cell_type": "code",
   "execution_count": 63,
   "id": "d94d7875-3b91-414a-8e3b-7ada50280e6a",
   "metadata": {},
   "outputs": [],
   "source": [
    "median = np.nanmedian(arr_nan)"
   ]
  },
  {
   "cell_type": "code",
   "execution_count": 64,
   "id": "c542434c-c484-4a82-898d-14429ed581a8",
   "metadata": {},
   "outputs": [
    {
     "name": "stdout",
     "output_type": "stream",
     "text": [
      "2.0\n"
     ]
    }
   ],
   "source": [
    "print(median)"
   ]
  },
  {
   "cell_type": "markdown",
   "id": "c1ebd8b8-fe9b-4417-8d6b-1adb1a8fa43a",
   "metadata": {},
   "source": [
    "# Section 09 05 numpy.percentile"
   ]
  },
  {
   "cell_type": "code",
   "execution_count": 65,
   "id": "131bfb07-2cb5-44d5-8f65-48509f0a5982",
   "metadata": {},
   "outputs": [],
   "source": [
    "# A percentile indicates the value below which a given percentage of data falls\n"
   ]
  },
  {
   "cell_type": "code",
   "execution_count": 66,
   "id": "c141d789-2315-474e-a196-c50a21d1f1b9",
   "metadata": {},
   "outputs": [],
   "source": [
    "import numpy as np"
   ]
  },
  {
   "cell_type": "code",
   "execution_count": null,
   "id": "537de1f8-7c17-444b-ac92-95063bb82b0c",
   "metadata": {},
   "outputs": [],
   "source": []
  }
 ],
 "metadata": {
  "kernelspec": {
   "display_name": "Python 3 (ipykernel)",
   "language": "python",
   "name": "python3"
  },
  "language_info": {
   "codemirror_mode": {
    "name": "ipython",
    "version": 3
   },
   "file_extension": ".py",
   "mimetype": "text/x-python",
   "name": "python",
   "nbconvert_exporter": "python",
   "pygments_lexer": "ipython3",
   "version": "3.11.4"
  }
 },
 "nbformat": 4,
 "nbformat_minor": 5
}
