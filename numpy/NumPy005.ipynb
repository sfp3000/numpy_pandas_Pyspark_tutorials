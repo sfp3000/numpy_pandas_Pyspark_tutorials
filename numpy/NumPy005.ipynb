{
 "cells": [
  {
   "cell_type": "markdown",
   "id": "eb83e8e6-0719-4913-93f6-1db450db4ae6",
   "metadata": {},
   "source": [
    "# Linear Algebra solutions"
   ]
  },
  {
   "cell_type": "markdown",
   "id": "cb5716b0-2d84-4656-99ae-9c42696bf5b3",
   "metadata": {},
   "source": [
    "### Determinants"
   ]
  },
  {
   "cell_type": "code",
   "execution_count": 1,
   "id": "33d928f9-c122-4639-9d25-56e4ad78416c",
   "metadata": {},
   "outputs": [],
   "source": [
    "import numpy as np"
   ]
  },
  {
   "cell_type": "code",
   "execution_count": 2,
   "id": "e3fa7d4f-88b6-40a1-96fc-8f923907467d",
   "metadata": {},
   "outputs": [],
   "source": [
    "arr1 = np.random.randint(1, 100, (3,3))"
   ]
  },
  {
   "cell_type": "code",
   "execution_count": 3,
   "id": "4dc70e03-6fca-4ee9-acb4-260ba8250b3e",
   "metadata": {},
   "outputs": [
    {
     "data": {
      "text/plain": [
       "array([[75, 13, 36],\n",
       "       [54,  6, 73],\n",
       "       [31, 34, 85]])"
      ]
     },
     "execution_count": 3,
     "metadata": {},
     "output_type": "execute_result"
    }
   ],
   "source": [
    "arr1 "
   ]
  },
  {
   "cell_type": "code",
   "execution_count": 5,
   "id": "3d47e01b-56fe-4ea7-9a79-57cc8eacf1ea",
   "metadata": {},
   "outputs": [],
   "source": [
    "Det1 = np.linalg.det(arr1)"
   ]
  },
  {
   "cell_type": "code",
   "execution_count": 6,
   "id": "5abfe734-6410-4d78-91ba-0c2679688326",
   "metadata": {},
   "outputs": [
    {
     "data": {
      "text/plain": [
       "-118750.9999999999"
      ]
     },
     "execution_count": 6,
     "metadata": {},
     "output_type": "execute_result"
    }
   ],
   "source": [
    "Det1"
   ]
  },
  {
   "cell_type": "code",
   "execution_count": 7,
   "id": "163046b9-8abf-425b-a62a-5e31ac181e88",
   "metadata": {},
   "outputs": [],
   "source": [
    "#-118751 "
   ]
  },
  {
   "cell_type": "code",
   "execution_count": 9,
   "id": "1833be86-8836-44a3-af44-3ba9ef313021",
   "metadata": {},
   "outputs": [],
   "source": [
    "arr2 = np.array([[1,2], [3,4]])"
   ]
  },
  {
   "cell_type": "code",
   "execution_count": 11,
   "id": "9ea4c468-3caa-4d80-8699-08755a97d0d7",
   "metadata": {},
   "outputs": [
    {
     "name": "stdout",
     "output_type": "stream",
     "text": [
      "-2.0000000000000004\n"
     ]
    }
   ],
   "source": [
    "det2 = np.linalg.det(arr2)\n",
    "print(det2)"
   ]
  },
  {
   "cell_type": "raw",
   "id": "aae47b9c-c962-4ebf-a629-f9b5d2c6fcae",
   "metadata": {},
   "source": [
    "[A  B\n",
    "C   D ]  = AxD - BxC "
   ]
  },
  {
   "cell_type": "code",
   "execution_count": 12,
   "id": "da60d60c-e875-4170-8deb-dca50ca446ee",
   "metadata": {},
   "outputs": [],
   "source": [
    "arr3 = np.array([[3,4], [1,2]])"
   ]
  },
  {
   "cell_type": "code",
   "execution_count": 13,
   "id": "ed50ea27-af74-424d-97cc-96658974338a",
   "metadata": {},
   "outputs": [
    {
     "name": "stdout",
     "output_type": "stream",
     "text": [
      "2.0000000000000004\n"
     ]
    }
   ],
   "source": [
    "det3 = np.linalg.det(arr3)\n",
    "print(det3)"
   ]
  },
  {
   "cell_type": "code",
   "execution_count": 14,
   "id": "f2ede708-0928-4af8-bbae-530d78b09910",
   "metadata": {},
   "outputs": [],
   "source": [
    "arr4 = np.array([[1,4], [3,2]])"
   ]
  },
  {
   "cell_type": "code",
   "execution_count": 15,
   "id": "34cf92a5-c8ec-4ce3-b09b-a56dc84f9f97",
   "metadata": {},
   "outputs": [
    {
     "name": "stdout",
     "output_type": "stream",
     "text": [
      "-10.000000000000002\n"
     ]
    }
   ],
   "source": [
    "det4 = np.linalg.det(arr4)\n",
    "print(det4)"
   ]
  },
  {
   "cell_type": "code",
   "execution_count": 16,
   "id": "b8b189f4-9078-4e72-9910-ad645c0f8db8",
   "metadata": {},
   "outputs": [],
   "source": [
    "arr5 = np.array([[1,3], [2,4]])"
   ]
  },
  {
   "cell_type": "code",
   "execution_count": 17,
   "id": "d88bb5f0-49f0-44ca-b8ed-ac69b5ed7294",
   "metadata": {},
   "outputs": [
    {
     "data": {
      "text/plain": [
       "array([[1, 3],\n",
       "       [2, 4]])"
      ]
     },
     "execution_count": 17,
     "metadata": {},
     "output_type": "execute_result"
    }
   ],
   "source": [
    "arr5"
   ]
  },
  {
   "cell_type": "code",
   "execution_count": 18,
   "id": "7bc84047-fb7d-49f2-aa57-59ae620485fa",
   "metadata": {},
   "outputs": [
    {
     "name": "stdout",
     "output_type": "stream",
     "text": [
      "-2.0\n"
     ]
    }
   ],
   "source": [
    "det5 = np.linalg.det(arr5)\n",
    "print(det5)"
   ]
  },
  {
   "cell_type": "raw",
   "id": "1624ad7b-b6f3-43db-84ac-c900a55ffaaa",
   "metadata": {},
   "source": [
    "A  B         C   D       B   A\n",
    "      abs =         abs=   \n",
    "C  D         A   B       D   C  "
   ]
  },
  {
   "cell_type": "code",
   "execution_count": 20,
   "id": "24e37739-284f-4704-9194-ccd72a263faf",
   "metadata": {},
   "outputs": [],
   "source": [
    "# 3D matrices"
   ]
  },
  {
   "cell_type": "code",
   "execution_count": 22,
   "id": "34358b90-a57e-4f03-bf3a-1e87a61f4230",
   "metadata": {},
   "outputs": [],
   "source": [
    "arr3d = np.arange(9).reshape(3,3)"
   ]
  },
  {
   "cell_type": "code",
   "execution_count": 23,
   "id": "0429b9e5-4385-484c-beb4-7f2181d2e7b3",
   "metadata": {},
   "outputs": [
    {
     "data": {
      "text/plain": [
       "array([[0, 1, 2],\n",
       "       [3, 4, 5],\n",
       "       [6, 7, 8]])"
      ]
     },
     "execution_count": 23,
     "metadata": {},
     "output_type": "execute_result"
    }
   ],
   "source": [
    "arr3d"
   ]
  },
  {
   "cell_type": "code",
   "execution_count": 24,
   "id": "cd023f74-9157-418a-904f-fa0494c38e61",
   "metadata": {},
   "outputs": [
    {
     "name": "stdout",
     "output_type": "stream",
     "text": [
      "0.0\n"
     ]
    }
   ],
   "source": [
    "det3d = np.linalg.det(arr3d)\n",
    "print(det3d)"
   ]
  },
  {
   "cell_type": "code",
   "execution_count": 25,
   "id": "dd83b42e-f5cf-40b5-95f3-a8752ad52a87",
   "metadata": {},
   "outputs": [],
   "source": [
    "arr3d_A = np.array([\n",
    "       [3, 4, 5],\n",
    "    [0, 1, 2],\n",
    "       [6, 7, 8]])"
   ]
  },
  {
   "cell_type": "code",
   "execution_count": 26,
   "id": "8795d25d-6e6d-423b-807a-a344366ce2fd",
   "metadata": {},
   "outputs": [
    {
     "data": {
      "text/plain": [
       "array([[3, 4, 5],\n",
       "       [0, 1, 2],\n",
       "       [6, 7, 8]])"
      ]
     },
     "execution_count": 26,
     "metadata": {},
     "output_type": "execute_result"
    }
   ],
   "source": [
    "arr3d_A"
   ]
  },
  {
   "cell_type": "code",
   "execution_count": 28,
   "id": "6fee7d08-b1b8-41ba-8f80-f21c47ac7bb3",
   "metadata": {},
   "outputs": [
    {
     "name": "stdout",
     "output_type": "stream",
     "text": [
      "0.0\n"
     ]
    }
   ],
   "source": [
    "det3d_A = np.linalg.det(arr3d_A)\n",
    "print(det3d_A)"
   ]
  },
  {
   "cell_type": "code",
   "execution_count": 29,
   "id": "0e8923e8-65b4-4271-8e0d-460af070faa4",
   "metadata": {},
   "outputs": [
    {
     "name": "stdout",
     "output_type": "stream",
     "text": [
      "[[24  1 17]\n",
      " [15 20 15]\n",
      " [19 24  1]]\n"
     ]
    }
   ],
   "source": [
    "detrandom = np.random.randint(1, 25, (3,3))\n",
    "print(detrandom)"
   ]
  },
  {
   "cell_type": "code",
   "execution_count": 30,
   "id": "15de827a-ba0b-4e9a-9359-f633d4a0d37c",
   "metadata": {},
   "outputs": [
    {
     "name": "stdout",
     "output_type": "stream",
     "text": [
      "-8230.00000000001\n"
     ]
    }
   ],
   "source": [
    "detr = np.linalg.det(detrandom)\n",
    "print(detr)"
   ]
  },
  {
   "cell_type": "raw",
   "id": "f477b71f-52f8-4386-9f24-c258b27df377",
   "metadata": {},
   "source": [
    "A  B  C\n",
    "D  E  F\n",
    "G  H  I \n",
    "det=A(EI−FH)−B(DI−FG)+C(DH−EG) "
   ]
  },
  {
   "cell_type": "markdown",
   "id": "8318fbb9-f607-4f55-bce9-6a3667a2deb2",
   "metadata": {},
   "source": [
    "# Section 08 02 Inverse function"
   ]
  },
  {
   "cell_type": "raw",
   "id": "a9f0cdba-f445-4f4d-929a-971def0dc67f",
   "metadata": {},
   "source": [
    "A .  A-1  = I \n",
    "\n",
    "I2d = [1   0\n",
    "       0   1]\n",
    "I3D = \n",
    "[1  0   0\n",
    " 0  1   0\n",
    " 0  0   1 ]"
   ]
  },
  {
   "cell_type": "code",
   "execution_count": 31,
   "id": "91b32a5c-f7c3-4aef-b6b6-dbb17aeef4c2",
   "metadata": {},
   "outputs": [],
   "source": [
    "import numpy as np"
   ]
  },
  {
   "cell_type": "markdown",
   "id": "38c2c5b7-5a91-4a4b-b003-e5c5ced65f03",
   "metadata": {},
   "source": [
    "A = np.array([\n",
    "    [4,7],\n",
    "    [2,6]\n",
    "])\n",
    "\n",
    "A_inv = np.linalg.inv(A)\n",
    "print(A_inv)"
   ]
  },
  {
   "cell_type": "code",
   "execution_count": 33,
   "id": "1c34e42d-2822-425b-a28b-d8129eca8b3a",
   "metadata": {},
   "outputs": [
    {
     "name": "stdout",
     "output_type": "stream",
     "text": [
      "[[ 2.4 -4.9]\n",
      " [-0.4  2.4]]\n"
     ]
    }
   ],
   "source": [
    "A1 = A * A_inv\n",
    "print(A1)"
   ]
  },
  {
   "cell_type": "code",
   "execution_count": 34,
   "id": "27896955-eac6-43ef-956e-4f687d2fac7b",
   "metadata": {},
   "outputs": [],
   "source": [
    "A2 = A @ A_inv"
   ]
  },
  {
   "cell_type": "code",
   "execution_count": 35,
   "id": "1a8a45b2-88f0-4106-bdbb-76c78a4979eb",
   "metadata": {},
   "outputs": [
    {
     "name": "stdout",
     "output_type": "stream",
     "text": [
      "[[ 1.00000000e+00 -1.11022302e-16]\n",
      " [ 1.11022302e-16  1.00000000e+00]]\n"
     ]
    }
   ],
   "source": [
    "print(A2)"
   ]
  },
  {
   "cell_type": "code",
   "execution_count": 36,
   "id": "f217a12d-6314-4e7c-91b2-daa83c66cc55",
   "metadata": {},
   "outputs": [],
   "source": [
    "identity = np.round(A2)"
   ]
  },
  {
   "cell_type": "code",
   "execution_count": 37,
   "id": "97cfdc29-e006-4fcc-99dd-814b036be269",
   "metadata": {},
   "outputs": [
    {
     "data": {
      "text/plain": [
       "array([[ 1., -0.],\n",
       "       [ 0.,  1.]])"
      ]
     },
     "execution_count": 37,
     "metadata": {},
     "output_type": "execute_result"
    }
   ],
   "source": [
    "identity"
   ]
  },
  {
   "cell_type": "code",
   "execution_count": 39,
   "id": "2b7d87a9-dd46-43f0-a165-e52001e97727",
   "metadata": {},
   "outputs": [],
   "source": [
    "# Section 08 04 Eigva Eigvec"
   ]
  },
  {
   "cell_type": "raw",
   "id": "9c88f1b1-d941-4fe7-82f5-7fae9e7800b4",
   "metadata": {},
   "source": [
    "A.v = y . v "
   ]
  },
  {
   "cell_type": "code",
   "execution_count": 40,
   "id": "6d26f130-64e2-4f1d-907f-c376a18a7d2f",
   "metadata": {},
   "outputs": [],
   "source": [
    "import numpy as np"
   ]
  },
  {
   "cell_type": "code",
   "execution_count": 58,
   "id": "0f3ab782-d0d4-426b-9682-f94a12c985df",
   "metadata": {},
   "outputs": [
    {
     "name": "stdout",
     "output_type": "stream",
     "text": [
      "Eigenvalues:  [4. 2.]\n",
      "Eigenvectors:  [[ 0.70710678 -0.70710678]\n",
      " [ 0.70710678  0.70710678]]\n"
     ]
    }
   ],
   "source": [
    "A = np.array([[3,1],\n",
    "              [1,3]])\n",
    "\n",
    "evu, evec = np.linalg.eig(A)\n",
    "print(\"Eigenvalues: \", evu)\n",
    "print(\"Eigenvectors: \", evec)"
   ]
  },
  {
   "cell_type": "code",
   "execution_count": 59,
   "id": "b6665206-d08f-4dbc-bd37-63ee0bf92dd0",
   "metadata": {},
   "outputs": [
    {
     "data": {
      "text/plain": [
       "array([[ 2.828, -1.414],\n",
       "       [ 2.828,  1.414]])"
      ]
     },
     "execution_count": 59,
     "metadata": {},
     "output_type": "execute_result"
    }
   ],
   "source": [
    "np.round((A @ evec), 3)"
   ]
  },
  {
   "cell_type": "code",
   "execution_count": 60,
   "id": "a8a62c0f-b595-4c75-9cbd-9f15dd5bc97a",
   "metadata": {},
   "outputs": [
    {
     "data": {
      "text/plain": [
       "array([[ 2.828, -1.414],\n",
       "       [ 2.828,  1.414]])"
      ]
     },
     "execution_count": 60,
     "metadata": {},
     "output_type": "execute_result"
    }
   ],
   "source": [
    "np.round((evec * evu), 3)"
   ]
  },
  {
   "cell_type": "code",
   "execution_count": 61,
   "id": "b833cb55-0c86-419a-9d63-62732c11f89d",
   "metadata": {},
   "outputs": [
    {
     "data": {
      "text/plain": [
       "array([[ True,  True],\n",
       "       [ True,  True]])"
      ]
     },
     "execution_count": 61,
     "metadata": {},
     "output_type": "execute_result"
    }
   ],
   "source": [
    "np.round((A @ evec), 3) == np.round((evec * evu), 3)"
   ]
  },
  {
   "cell_type": "code",
   "execution_count": 67,
   "id": "14df2978-4ad2-4b89-a8a7-1fbc41b22a60",
   "metadata": {},
   "outputs": [
    {
     "name": "stdout",
     "output_type": "stream",
     "text": [
      "2\n",
      "Eigenvalues:  [ 9.41296751  0.77638578 -2.18935329]\n",
      "Eigenvectors:  [[-0.24832196 -0.68836545  0.65676293]\n",
      " [-0.4027079  -0.1826847  -0.74237146]\n",
      " [-0.88100088  0.70198241  0.13246535]]\n"
     ]
    }
   ],
   "source": [
    "A3 = np.array([[1,3,1],\n",
    "              [3,1,3],\n",
    "              [4,5,6]])\n",
    "print(A3.ndim)\n",
    "evu3, evec3 = np.linalg.eig(A3)\n",
    "print(\"Eigenvalues: \", evu3)\n",
    "print(\"Eigenvectors: \", evec3)"
   ]
  },
  {
   "cell_type": "code",
   "execution_count": 68,
   "id": "9e28d74a-2073-434c-8c2b-81f82bc86df3",
   "metadata": {},
   "outputs": [
    {
     "data": {
      "text/plain": [
       "array([[ True,  True,  True],\n",
       "       [ True,  True,  True],\n",
       "       [ True,  True,  True]])"
      ]
     },
     "execution_count": 68,
     "metadata": {},
     "output_type": "execute_result"
    }
   ],
   "source": [
    "np.round((A3 @ evec3), 3) == np.round((evec3 * evu3), 3)"
   ]
  },
  {
   "cell_type": "markdown",
   "id": "7c204f9f-13ac-4944-8d71-b4b43f12c298",
   "metadata": {},
   "source": [
    "# section 08 05 solving equations"
   ]
  },
  {
   "cell_type": "raw",
   "id": "b5fc9f74-0004-4f6c-a5e5-11f78f9c6b72",
   "metadata": {},
   "source": [
    "3x + 5y = 7\n",
    "2x + 3y = 8\n",
    "\n",
    "x = ?\n",
    "y = ?\n",
    "\n",
    "A = 3  5\n",
    "    2  3\n",
    "b =  [7,\n",
    "      8]\n",
    "\n",
    "X = x, y\n"
   ]
  },
  {
   "cell_type": "code",
   "execution_count": 70,
   "id": "d1e4cc61-7375-4ef4-963e-3ab378728e90",
   "metadata": {},
   "outputs": [],
   "source": [
    "A = np.array([[3,5], \n",
    "              [2,3]])\n"
   ]
  },
  {
   "cell_type": "code",
   "execution_count": 71,
   "id": "30a7653a-b280-4425-b9de-97255d596fee",
   "metadata": {},
   "outputs": [],
   "source": [
    "b = np.array([7,8])\n"
   ]
  },
  {
   "cell_type": "code",
   "execution_count": 72,
   "id": "a1ff26e8-b4a2-4c27-a6d6-a896087a66c9",
   "metadata": {},
   "outputs": [
    {
     "name": "stdout",
     "output_type": "stream",
     "text": [
      "[ 19. -10.]\n"
     ]
    }
   ],
   "source": [
    "X = np.linalg.solve(A, b)\n",
    "print(X)"
   ]
  },
  {
   "cell_type": "raw",
   "id": "0c02f84a-e663-49f4-a611-744fbe6d2bb5",
   "metadata": {},
   "source": [
    "x = 19\n",
    "y = -10"
   ]
  },
  {
   "cell_type": "code",
   "execution_count": 73,
   "id": "6e364426-7120-4947-a67f-cdc036cdfac9",
   "metadata": {},
   "outputs": [
    {
     "name": "stdout",
     "output_type": "stream",
     "text": [
      "-0.9999999999999991\n"
     ]
    }
   ],
   "source": [
    "Ad = np.linalg.det(A)\n",
    "print(Ad)"
   ]
  },
  {
   "cell_type": "code",
   "execution_count": 74,
   "id": "fcc0272f-dee7-4d16-9bf8-3ba7b3d2bca2",
   "metadata": {},
   "outputs": [],
   "source": [
    "A = np.array([[3,5], \n",
    "              [6, 10]])"
   ]
  },
  {
   "cell_type": "code",
   "execution_count": 75,
   "id": "3a891de0-e644-4f06-ba00-19a391d4fbca",
   "metadata": {},
   "outputs": [],
   "source": [
    "b =  [7,\n",
    "      14]"
   ]
  },
  {
   "cell_type": "code",
   "execution_count": 77,
   "id": "c418a80f-b9c0-49d3-8cc4-f5eaee77b820",
   "metadata": {},
   "outputs": [
    {
     "name": "stdout",
     "output_type": "stream",
     "text": [
      "0.0\n"
     ]
    }
   ],
   "source": [
    "Adet = np.linalg.det(A)\n",
    "print(Adet)"
   ]
  },
  {
   "cell_type": "code",
   "execution_count": 76,
   "id": "25815d09-aa99-4786-8e0c-c6b666f6e1ec",
   "metadata": {},
   "outputs": [
    {
     "ename": "LinAlgError",
     "evalue": "Singular matrix",
     "output_type": "error",
     "traceback": [
      "\u001b[1;31m---------------------------------------------------------------------------\u001b[0m",
      "\u001b[1;31mLinAlgError\u001b[0m                               Traceback (most recent call last)",
      "Cell \u001b[1;32mIn[76], line 1\u001b[0m\n\u001b[1;32m----> 1\u001b[0m X \u001b[38;5;241m=\u001b[39m \u001b[43mnp\u001b[49m\u001b[38;5;241;43m.\u001b[39;49m\u001b[43mlinalg\u001b[49m\u001b[38;5;241;43m.\u001b[39;49m\u001b[43msolve\u001b[49m\u001b[43m(\u001b[49m\u001b[43mA\u001b[49m\u001b[43m,\u001b[49m\u001b[43m \u001b[49m\u001b[43mb\u001b[49m\u001b[43m)\u001b[49m\n\u001b[0;32m      2\u001b[0m \u001b[38;5;28mprint\u001b[39m(X)\n",
      "File \u001b[1;32m~\\AppData\\Roaming\\Python\\Python311\\site-packages\\numpy\\linalg\\linalg.py:409\u001b[0m, in \u001b[0;36msolve\u001b[1;34m(a, b)\u001b[0m\n\u001b[0;32m    407\u001b[0m signature \u001b[38;5;241m=\u001b[39m \u001b[38;5;124m'\u001b[39m\u001b[38;5;124mDD->D\u001b[39m\u001b[38;5;124m'\u001b[39m \u001b[38;5;28;01mif\u001b[39;00m isComplexType(t) \u001b[38;5;28;01melse\u001b[39;00m \u001b[38;5;124m'\u001b[39m\u001b[38;5;124mdd->d\u001b[39m\u001b[38;5;124m'\u001b[39m\n\u001b[0;32m    408\u001b[0m extobj \u001b[38;5;241m=\u001b[39m get_linalg_error_extobj(_raise_linalgerror_singular)\n\u001b[1;32m--> 409\u001b[0m r \u001b[38;5;241m=\u001b[39m \u001b[43mgufunc\u001b[49m\u001b[43m(\u001b[49m\u001b[43ma\u001b[49m\u001b[43m,\u001b[49m\u001b[43m \u001b[49m\u001b[43mb\u001b[49m\u001b[43m,\u001b[49m\u001b[43m \u001b[49m\u001b[43msignature\u001b[49m\u001b[38;5;241;43m=\u001b[39;49m\u001b[43msignature\u001b[49m\u001b[43m,\u001b[49m\u001b[43m \u001b[49m\u001b[43mextobj\u001b[49m\u001b[38;5;241;43m=\u001b[39;49m\u001b[43mextobj\u001b[49m\u001b[43m)\u001b[49m\n\u001b[0;32m    411\u001b[0m \u001b[38;5;28;01mreturn\u001b[39;00m wrap(r\u001b[38;5;241m.\u001b[39mastype(result_t, copy\u001b[38;5;241m=\u001b[39m\u001b[38;5;28;01mFalse\u001b[39;00m))\n",
      "File \u001b[1;32m~\\AppData\\Roaming\\Python\\Python311\\site-packages\\numpy\\linalg\\linalg.py:112\u001b[0m, in \u001b[0;36m_raise_linalgerror_singular\u001b[1;34m(err, flag)\u001b[0m\n\u001b[0;32m    111\u001b[0m \u001b[38;5;28;01mdef\u001b[39;00m \u001b[38;5;21m_raise_linalgerror_singular\u001b[39m(err, flag):\n\u001b[1;32m--> 112\u001b[0m     \u001b[38;5;28;01mraise\u001b[39;00m LinAlgError(\u001b[38;5;124m\"\u001b[39m\u001b[38;5;124mSingular matrix\u001b[39m\u001b[38;5;124m\"\u001b[39m)\n",
      "\u001b[1;31mLinAlgError\u001b[0m: Singular matrix"
     ]
    }
   ],
   "source": [
    "X = np.linalg.solve(A, b)\n",
    "print(X)"
   ]
  },
  {
   "cell_type": "markdown",
   "id": "79039c54-57b7-40dc-8a5c-a8ff24157a63",
   "metadata": {},
   "source": [
    "#### 3d linear equations"
   ]
  },
  {
   "cell_type": "raw",
   "id": "6e984170-aa4f-41fc-b349-00e146c10399",
   "metadata": {},
   "source": [
    "2x + 4y + 5z = 7\n",
    "x + 3y + 2z = 8\n",
    "3x + 2y - 2z = 17\n"
   ]
  },
  {
   "cell_type": "code",
   "execution_count": 83,
   "id": "5661e6dd-fa61-4eee-9935-0fe08703dc52",
   "metadata": {},
   "outputs": [],
   "source": [
    "A3 = np.array([[2, 4, 5],\n",
    "               [1, 3, 2],\n",
    "               [3, 2, -2]])"
   ]
  },
  {
   "cell_type": "code",
   "execution_count": 84,
   "id": "352d31b0-c94f-48a3-8e64-271e6ec07f7f",
   "metadata": {},
   "outputs": [],
   "source": [
    "b3 = np.array([7, 8, 17])"
   ]
  },
  {
   "cell_type": "code",
   "execution_count": 85,
   "id": "b2f388c2-b1ba-4d90-a65e-afd8bb31c6fa",
   "metadata": {},
   "outputs": [
    {
     "name": "stdout",
     "output_type": "stream",
     "text": [
      "-23.0\n"
     ]
    }
   ],
   "source": [
    "A3det = np.linalg.det(A3)\n",
    "print(A3det)"
   ]
  },
  {
   "cell_type": "code",
   "execution_count": 88,
   "id": "f1c104a8-e529-4407-ac6c-962bc2968d64",
   "metadata": {},
   "outputs": [
    {
     "name": "stdout",
     "output_type": "stream",
     "text": [
      "[ 1.957  3.435 -2.13 ]\n"
     ]
    }
   ],
   "source": [
    "X3 = np.linalg.solve(A3, b3)\n",
    "print(np.round((X3), 3))"
   ]
  },
  {
   "cell_type": "code",
   "execution_count": 90,
   "id": "1d9fa473-ee1b-4988-911d-143e346e0109",
   "metadata": {},
   "outputs": [],
   "source": [
    "#x = 1.957, y=3.435, z=-2.13 "
   ]
  },
  {
   "cell_type": "markdown",
   "id": "eb9deedb-de88-40a6-a925-93e0e02c196f",
   "metadata": {},
   "source": [
    "# Section 08 6 SVD: Singular Value Decomposition"
   ]
  },
  {
   "cell_type": "code",
   "execution_count": 91,
   "id": "2b9d7f6c-9cc5-4419-b434-0058cf00f756",
   "metadata": {},
   "outputs": [],
   "source": [
    "#A = U  S  V.T"
   ]
  },
  {
   "cell_type": "code",
   "execution_count": 92,
   "id": "754ac921-6c17-44be-983e-0f3d25af42d3",
   "metadata": {},
   "outputs": [
    {
     "name": "stdout",
     "output_type": "stream",
     "text": [
      "[[-0.2298477   0.88346102  0.40824829]\n",
      " [-0.52474482  0.24078249 -0.81649658]\n",
      " [-0.81964194 -0.40189603  0.40824829]]\n"
     ]
    }
   ],
   "source": [
    "import numpy as np\n",
    "A = np.array([[1,2], [3,4], [5,6]]) #3X2 mat\n",
    "U, S, VT = np.linalg.svd(A) \n",
    "print(U)"
   ]
  },
  {
   "cell_type": "code",
   "execution_count": 93,
   "id": "17c30e93-0b14-4d59-ae55-764f24753e80",
   "metadata": {},
   "outputs": [
    {
     "name": "stdout",
     "output_type": "stream",
     "text": [
      "[9.52551809 0.51430058]\n"
     ]
    }
   ],
   "source": [
    "print(S)"
   ]
  },
  {
   "cell_type": "code",
   "execution_count": 94,
   "id": "e85eaff3-5626-462d-b5b5-9b8c833226f8",
   "metadata": {},
   "outputs": [
    {
     "name": "stdout",
     "output_type": "stream",
     "text": [
      "[[-0.61962948 -0.78489445]\n",
      " [-0.78489445  0.61962948]]\n"
     ]
    }
   ],
   "source": [
    "print(VT)"
   ]
  },
  {
   "cell_type": "markdown",
   "id": "06b9320d-0b21-41e0-a8fd-5ad9bb392c13",
   "metadata": {},
   "source": [
    "# Linalg"
   ]
  },
  {
   "cell_type": "code",
   "execution_count": 95,
   "id": "f3445611-6c34-494a-9ab5-328efbe4c93a",
   "metadata": {},
   "outputs": [
    {
     "name": "stdout",
     "output_type": "stream",
     "text": [
      "LinAlgError\n",
      "__all__\n",
      "__builtins__\n",
      "__cached__\n",
      "__doc__\n",
      "__file__\n",
      "__loader__\n",
      "__name__\n",
      "__package__\n",
      "__path__\n",
      "__spec__\n",
      "_umath_linalg\n",
      "cholesky\n",
      "cond\n",
      "det\n",
      "eig\n",
      "eigh\n",
      "eigvals\n",
      "eigvalsh\n",
      "inv\n",
      "linalg\n",
      "lstsq\n",
      "matrix_power\n",
      "matrix_rank\n",
      "multi_dot\n",
      "norm\n",
      "pinv\n",
      "qr\n",
      "slogdet\n",
      "solve\n",
      "svd\n",
      "tensorinv\n",
      "tensorsolve\n",
      "test\n"
     ]
    }
   ],
   "source": [
    "for i in dir(np.linalg):\n",
    "    print(i)"
   ]
  },
  {
   "cell_type": "code",
   "execution_count": null,
   "id": "d93ff01b-6eb2-48ec-8bf9-040aecff57dd",
   "metadata": {},
   "outputs": [],
   "source": []
  }
 ],
 "metadata": {
  "kernelspec": {
   "display_name": "Python 3 (ipykernel)",
   "language": "python",
   "name": "python3"
  },
  "language_info": {
   "codemirror_mode": {
    "name": "ipython",
    "version": 3
   },
   "file_extension": ".py",
   "mimetype": "text/x-python",
   "name": "python",
   "nbconvert_exporter": "python",
   "pygments_lexer": "ipython3",
   "version": "3.11.4"
  }
 },
 "nbformat": 4,
 "nbformat_minor": 5
}
