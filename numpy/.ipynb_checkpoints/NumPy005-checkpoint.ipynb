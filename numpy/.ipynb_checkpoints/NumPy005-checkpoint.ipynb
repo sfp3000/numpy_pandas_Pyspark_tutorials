{
 "cells": [
  {
   "cell_type": "markdown",
   "id": "eb83e8e6-0719-4913-93f6-1db450db4ae6",
   "metadata": {},
   "source": [
    "# Linear Algebra solutions"
   ]
  },
  {
   "cell_type": "markdown",
   "id": "cb5716b0-2d84-4656-99ae-9c42696bf5b3",
   "metadata": {},
   "source": [
    "### Determinants"
   ]
  },
  {
   "cell_type": "code",
   "execution_count": 1,
   "id": "33d928f9-c122-4639-9d25-56e4ad78416c",
   "metadata": {},
   "outputs": [],
   "source": [
    "import numpy as np"
   ]
  },
  {
   "cell_type": "code",
   "execution_count": 2,
   "id": "e3fa7d4f-88b6-40a1-96fc-8f923907467d",
   "metadata": {},
   "outputs": [],
   "source": [
    "arr1 = np.random.randint(1, 100, (3,3))"
   ]
  },
  {
   "cell_type": "code",
   "execution_count": 3,
   "id": "4dc70e03-6fca-4ee9-acb4-260ba8250b3e",
   "metadata": {},
   "outputs": [
    {
     "data": {
      "text/plain": [
       "array([[75, 13, 36],\n",
       "       [54,  6, 73],\n",
       "       [31, 34, 85]])"
      ]
     },
     "execution_count": 3,
     "metadata": {},
     "output_type": "execute_result"
    }
   ],
   "source": [
    "arr1 "
   ]
  },
  {
   "cell_type": "code",
   "execution_count": 5,
   "id": "3d47e01b-56fe-4ea7-9a79-57cc8eacf1ea",
   "metadata": {},
   "outputs": [],
   "source": [
    "Det1 = np.linalg.det(arr1)"
   ]
  },
  {
   "cell_type": "code",
   "execution_count": 6,
   "id": "5abfe734-6410-4d78-91ba-0c2679688326",
   "metadata": {},
   "outputs": [
    {
     "data": {
      "text/plain": [
       "-118750.9999999999"
      ]
     },
     "execution_count": 6,
     "metadata": {},
     "output_type": "execute_result"
    }
   ],
   "source": [
    "Det1"
   ]
  },
  {
   "cell_type": "code",
   "execution_count": 7,
   "id": "163046b9-8abf-425b-a62a-5e31ac181e88",
   "metadata": {},
   "outputs": [],
   "source": [
    "#-118751 "
   ]
  },
  {
   "cell_type": "code",
   "execution_count": 9,
   "id": "1833be86-8836-44a3-af44-3ba9ef313021",
   "metadata": {},
   "outputs": [],
   "source": [
    "arr2 = np.array([[1,2], [3,4]])"
   ]
  },
  {
   "cell_type": "code",
   "execution_count": 11,
   "id": "9ea4c468-3caa-4d80-8699-08755a97d0d7",
   "metadata": {},
   "outputs": [
    {
     "name": "stdout",
     "output_type": "stream",
     "text": [
      "-2.0000000000000004\n"
     ]
    }
   ],
   "source": [
    "det2 = np.linalg.det(arr2)\n",
    "print(det2)"
   ]
  },
  {
   "cell_type": "raw",
   "id": "aae47b9c-c962-4ebf-a629-f9b5d2c6fcae",
   "metadata": {},
   "source": [
    "[A  B\n",
    "C   D ]  = AxD - BxC "
   ]
  },
  {
   "cell_type": "code",
   "execution_count": 12,
   "id": "da60d60c-e875-4170-8deb-dca50ca446ee",
   "metadata": {},
   "outputs": [],
   "source": [
    "arr3 = np.array([[3,4], [1,2]])"
   ]
  },
  {
   "cell_type": "code",
   "execution_count": 13,
   "id": "ed50ea27-af74-424d-97cc-96658974338a",
   "metadata": {},
   "outputs": [
    {
     "name": "stdout",
     "output_type": "stream",
     "text": [
      "2.0000000000000004\n"
     ]
    }
   ],
   "source": [
    "det3 = np.linalg.det(arr3)\n",
    "print(det3)"
   ]
  },
  {
   "cell_type": "code",
   "execution_count": 14,
   "id": "f2ede708-0928-4af8-bbae-530d78b09910",
   "metadata": {},
   "outputs": [],
   "source": [
    "arr4 = np.array([[1,4], [3,2]])"
   ]
  },
  {
   "cell_type": "code",
   "execution_count": 15,
   "id": "34cf92a5-c8ec-4ce3-b09b-a56dc84f9f97",
   "metadata": {},
   "outputs": [
    {
     "name": "stdout",
     "output_type": "stream",
     "text": [
      "-10.000000000000002\n"
     ]
    }
   ],
   "source": [
    "det4 = np.linalg.det(arr4)\n",
    "print(det4)"
   ]
  },
  {
   "cell_type": "code",
   "execution_count": 16,
   "id": "b8b189f4-9078-4e72-9910-ad645c0f8db8",
   "metadata": {},
   "outputs": [],
   "source": [
    "arr5 = np.array([[1,3], [2,4]])"
   ]
  },
  {
   "cell_type": "code",
   "execution_count": 17,
   "id": "d88bb5f0-49f0-44ca-b8ed-ac69b5ed7294",
   "metadata": {},
   "outputs": [
    {
     "data": {
      "text/plain": [
       "array([[1, 3],\n",
       "       [2, 4]])"
      ]
     },
     "execution_count": 17,
     "metadata": {},
     "output_type": "execute_result"
    }
   ],
   "source": [
    "arr5"
   ]
  },
  {
   "cell_type": "code",
   "execution_count": 18,
   "id": "7bc84047-fb7d-49f2-aa57-59ae620485fa",
   "metadata": {},
   "outputs": [
    {
     "name": "stdout",
     "output_type": "stream",
     "text": [
      "-2.0\n"
     ]
    }
   ],
   "source": [
    "det5 = np.linalg.det(arr5)\n",
    "print(det5)"
   ]
  },
  {
   "cell_type": "raw",
   "id": "1624ad7b-b6f3-43db-84ac-c900a55ffaaa",
   "metadata": {},
   "source": [
    "A  B         C   D       B   A\n",
    "      abs =         abs=   \n",
    "C  D         A   B       D   C  "
   ]
  },
  {
   "cell_type": "code",
   "execution_count": 20,
   "id": "24e37739-284f-4704-9194-ccd72a263faf",
   "metadata": {},
   "outputs": [],
   "source": [
    "# 3D matrices"
   ]
  },
  {
   "cell_type": "code",
   "execution_count": 22,
   "id": "34358b90-a57e-4f03-bf3a-1e87a61f4230",
   "metadata": {},
   "outputs": [],
   "source": [
    "arr3d = np.arange(9).reshape(3,3)"
   ]
  },
  {
   "cell_type": "code",
   "execution_count": 23,
   "id": "0429b9e5-4385-484c-beb4-7f2181d2e7b3",
   "metadata": {},
   "outputs": [
    {
     "data": {
      "text/plain": [
       "array([[0, 1, 2],\n",
       "       [3, 4, 5],\n",
       "       [6, 7, 8]])"
      ]
     },
     "execution_count": 23,
     "metadata": {},
     "output_type": "execute_result"
    }
   ],
   "source": [
    "arr3d"
   ]
  },
  {
   "cell_type": "code",
   "execution_count": 24,
   "id": "cd023f74-9157-418a-904f-fa0494c38e61",
   "metadata": {},
   "outputs": [
    {
     "name": "stdout",
     "output_type": "stream",
     "text": [
      "0.0\n"
     ]
    }
   ],
   "source": [
    "det3d = np.linalg.det(arr3d)\n",
    "print(det3d)"
   ]
  },
  {
   "cell_type": "code",
   "execution_count": 25,
   "id": "dd83b42e-f5cf-40b5-95f3-a8752ad52a87",
   "metadata": {},
   "outputs": [],
   "source": [
    "arr3d_A = np.array([\n",
    "       [3, 4, 5],\n",
    "    [0, 1, 2],\n",
    "       [6, 7, 8]])"
   ]
  },
  {
   "cell_type": "code",
   "execution_count": 26,
   "id": "8795d25d-6e6d-423b-807a-a344366ce2fd",
   "metadata": {},
   "outputs": [
    {
     "data": {
      "text/plain": [
       "array([[3, 4, 5],\n",
       "       [0, 1, 2],\n",
       "       [6, 7, 8]])"
      ]
     },
     "execution_count": 26,
     "metadata": {},
     "output_type": "execute_result"
    }
   ],
   "source": [
    "arr3d_A"
   ]
  },
  {
   "cell_type": "code",
   "execution_count": 28,
   "id": "6fee7d08-b1b8-41ba-8f80-f21c47ac7bb3",
   "metadata": {},
   "outputs": [
    {
     "name": "stdout",
     "output_type": "stream",
     "text": [
      "0.0\n"
     ]
    }
   ],
   "source": [
    "det3d_A = np.linalg.det(arr3d_A)\n",
    "print(det3d_A)"
   ]
  },
  {
   "cell_type": "code",
   "execution_count": 29,
   "id": "0e8923e8-65b4-4271-8e0d-460af070faa4",
   "metadata": {},
   "outputs": [
    {
     "name": "stdout",
     "output_type": "stream",
     "text": [
      "[[24  1 17]\n",
      " [15 20 15]\n",
      " [19 24  1]]\n"
     ]
    }
   ],
   "source": [
    "detrandom = np.random.randint(1, 25, (3,3))\n",
    "print(detrandom)"
   ]
  },
  {
   "cell_type": "code",
   "execution_count": 30,
   "id": "15de827a-ba0b-4e9a-9359-f633d4a0d37c",
   "metadata": {},
   "outputs": [
    {
     "name": "stdout",
     "output_type": "stream",
     "text": [
      "-8230.00000000001\n"
     ]
    }
   ],
   "source": [
    "detr = np.linalg.det(detrandom)\n",
    "print(detr)"
   ]
  },
  {
   "cell_type": "raw",
   "id": "f477b71f-52f8-4386-9f24-c258b27df377",
   "metadata": {},
   "source": [
    "A  B  C\n",
    "D  E  F\n",
    "G  H  I \n",
    "det=A(EI−FH)−B(DI−FG)+C(DH−EG) "
   ]
  },
  {
   "cell_type": "markdown",
   "id": "8318fbb9-f607-4f55-bce9-6a3667a2deb2",
   "metadata": {},
   "source": [
    "# Section 08 02 Inverse function"
   ]
  },
  {
   "cell_type": "raw",
   "id": "a9f0cdba-f445-4f4d-929a-971def0dc67f",
   "metadata": {},
   "source": [
    "A .  A-1  = I \n",
    "\n",
    "I2d = [1   0\n",
    "       0   1]\n",
    "I3D = \n",
    "[1  0   0\n",
    " 0  1   0\n",
    " 0  0   1 ]"
   ]
  },
  {
   "cell_type": "code",
   "execution_count": 31,
   "id": "91b32a5c-f7c3-4aef-b6b6-dbb17aeef4c2",
   "metadata": {},
   "outputs": [],
   "source": [
    "import numpy as np"
   ]
  },
  {
   "cell_type": "markdown",
   "id": "38c2c5b7-5a91-4a4b-b003-e5c5ced65f03",
   "metadata": {},
   "source": [
    "A = np.array([\n",
    "    [4,7],\n",
    "    [2,6]\n",
    "])\n",
    "\n",
    "A_inv = np.linalg.inv(A)\n",
    "print(A_inv)"
   ]
  },
  {
   "cell_type": "code",
   "execution_count": 33,
   "id": "1c34e42d-2822-425b-a28b-d8129eca8b3a",
   "metadata": {},
   "outputs": [
    {
     "name": "stdout",
     "output_type": "stream",
     "text": [
      "[[ 2.4 -4.9]\n",
      " [-0.4  2.4]]\n"
     ]
    }
   ],
   "source": [
    "A1 = A * A_inv\n",
    "print(A1)"
   ]
  },
  {
   "cell_type": "code",
   "execution_count": 34,
   "id": "27896955-eac6-43ef-956e-4f687d2fac7b",
   "metadata": {},
   "outputs": [],
   "source": [
    "A2 = A @ A_inv"
   ]
  },
  {
   "cell_type": "code",
   "execution_count": 35,
   "id": "1a8a45b2-88f0-4106-bdbb-76c78a4979eb",
   "metadata": {},
   "outputs": [
    {
     "name": "stdout",
     "output_type": "stream",
     "text": [
      "[[ 1.00000000e+00 -1.11022302e-16]\n",
      " [ 1.11022302e-16  1.00000000e+00]]\n"
     ]
    }
   ],
   "source": [
    "print(A2)"
   ]
  },
  {
   "cell_type": "code",
   "execution_count": 36,
   "id": "f217a12d-6314-4e7c-91b2-daa83c66cc55",
   "metadata": {},
   "outputs": [],
   "source": [
    "identity = np.round(A2)"
   ]
  },
  {
   "cell_type": "code",
   "execution_count": 37,
   "id": "97cfdc29-e006-4fcc-99dd-814b036be269",
   "metadata": {},
   "outputs": [
    {
     "data": {
      "text/plain": [
       "array([[ 1., -0.],\n",
       "       [ 0.,  1.]])"
      ]
     },
     "execution_count": 37,
     "metadata": {},
     "output_type": "execute_result"
    }
   ],
   "source": [
    "identity"
   ]
  },
  {
   "cell_type": "code",
   "execution_count": 39,
   "id": "2b7d87a9-dd46-43f0-a165-e52001e97727",
   "metadata": {},
   "outputs": [],
   "source": [
    "# Section 08 04 Eigva Eigvec"
   ]
  },
  {
   "cell_type": "raw",
   "id": "9c88f1b1-d941-4fe7-82f5-7fae9e7800b4",
   "metadata": {},
   "source": [
    "A.v = y . v "
   ]
  },
  {
   "cell_type": "code",
   "execution_count": 40,
   "id": "6d26f130-64e2-4f1d-907f-c376a18a7d2f",
   "metadata": {},
   "outputs": [],
   "source": [
    "import numpy as np"
   ]
  },
  {
   "cell_type": "code",
   "execution_count": 58,
   "id": "0f3ab782-d0d4-426b-9682-f94a12c985df",
   "metadata": {},
   "outputs": [
    {
     "name": "stdout",
     "output_type": "stream",
     "text": [
      "Eigenvalues:  [4. 2.]\n",
      "Eigenvectors:  [[ 0.70710678 -0.70710678]\n",
      " [ 0.70710678  0.70710678]]\n"
     ]
    }
   ],
   "source": [
    "A = np.array([[3,1],\n",
    "              [1,3]])\n",
    "\n",
    "evu, evec = np.linalg.eig(A)\n",
    "print(\"Eigenvalues: \", evu)\n",
    "print(\"Eigenvectors: \", evec)"
   ]
  },
  {
   "cell_type": "code",
   "execution_count": 59,
   "id": "b6665206-d08f-4dbc-bd37-63ee0bf92dd0",
   "metadata": {},
   "outputs": [
    {
     "data": {
      "text/plain": [
       "array([[ 2.828, -1.414],\n",
       "       [ 2.828,  1.414]])"
      ]
     },
     "execution_count": 59,
     "metadata": {},
     "output_type": "execute_result"
    }
   ],
   "source": [
    "np.round((A @ evec), 3)"
   ]
  },
  {
   "cell_type": "code",
   "execution_count": 60,
   "id": "a8a62c0f-b595-4c75-9cbd-9f15dd5bc97a",
   "metadata": {},
   "outputs": [
    {
     "data": {
      "text/plain": [
       "array([[ 2.828, -1.414],\n",
       "       [ 2.828,  1.414]])"
      ]
     },
     "execution_count": 60,
     "metadata": {},
     "output_type": "execute_result"
    }
   ],
   "source": [
    "np.round((evec * evu), 3)"
   ]
  },
  {
   "cell_type": "code",
   "execution_count": 61,
   "id": "b833cb55-0c86-419a-9d63-62732c11f89d",
   "metadata": {},
   "outputs": [
    {
     "data": {
      "text/plain": [
       "array([[ True,  True],\n",
       "       [ True,  True]])"
      ]
     },
     "execution_count": 61,
     "metadata": {},
     "output_type": "execute_result"
    }
   ],
   "source": [
    "np.round((A @ evec), 3) == np.round((evec * evu), 3)"
   ]
  },
  {
   "cell_type": "code",
   "execution_count": 67,
   "id": "14df2978-4ad2-4b89-a8a7-1fbc41b22a60",
   "metadata": {},
   "outputs": [
    {
     "name": "stdout",
     "output_type": "stream",
     "text": [
      "2\n",
      "Eigenvalues:  [ 9.41296751  0.77638578 -2.18935329]\n",
      "Eigenvectors:  [[-0.24832196 -0.68836545  0.65676293]\n",
      " [-0.4027079  -0.1826847  -0.74237146]\n",
      " [-0.88100088  0.70198241  0.13246535]]\n"
     ]
    }
   ],
   "source": [
    "A3 = np.array([[1,3,1],\n",
    "              [3,1,3],\n",
    "              [4,5,6]])\n",
    "print(A3.ndim)\n",
    "evu3, evec3 = np.linalg.eig(A3)\n",
    "print(\"Eigenvalues: \", evu3)\n",
    "print(\"Eigenvectors: \", evec3)"
   ]
  },
  {
   "cell_type": "code",
   "execution_count": 68,
   "id": "9e28d74a-2073-434c-8c2b-81f82bc86df3",
   "metadata": {},
   "outputs": [
    {
     "data": {
      "text/plain": [
       "array([[ True,  True,  True],\n",
       "       [ True,  True,  True],\n",
       "       [ True,  True,  True]])"
      ]
     },
     "execution_count": 68,
     "metadata": {},
     "output_type": "execute_result"
    }
   ],
   "source": [
    "np.round((A3 @ evec3), 3) == np.round((evec3 * evu3), 3)"
   ]
  },
  {
   "cell_type": "code",
   "execution_count": null,
   "id": "aa9c507d-f74c-4f97-88d6-6aff135fe9dc",
   "metadata": {},
   "outputs": [],
   "source": []
  },
  {
   "cell_type": "code",
   "execution_count": null,
   "id": "f47b3d8c-efac-4ff0-aec4-fc18ed2a2586",
   "metadata": {},
   "outputs": [],
   "source": []
  }
 ],
 "metadata": {
  "kernelspec": {
   "display_name": "Python 3 (ipykernel)",
   "language": "python",
   "name": "python3"
  },
  "language_info": {
   "codemirror_mode": {
    "name": "ipython",
    "version": 3
   },
   "file_extension": ".py",
   "mimetype": "text/x-python",
   "name": "python",
   "nbconvert_exporter": "python",
   "pygments_lexer": "ipython3",
   "version": "3.11.4"
  }
 },
 "nbformat": 4,
 "nbformat_minor": 5
}
