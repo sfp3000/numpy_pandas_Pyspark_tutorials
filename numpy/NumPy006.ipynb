{
 "cells": [
  {
   "cell_type": "markdown",
   "id": "07897e0c-b337-4544-8e9c-c917b1258be0",
   "metadata": {},
   "source": [
    "# Section 09 Probability and Statistics in numpy"
   ]
  },
  {
   "cell_type": "markdown",
   "id": "c9cc2cf4-5a05-45f3-82c8-b66652dd84a2",
   "metadata": {},
   "source": [
    "## Section 09 01 rand, randn, randint"
   ]
  },
  {
   "cell_type": "code",
   "execution_count": 1,
   "id": "ebcd3795-dd31-434b-9133-d1163e509f8c",
   "metadata": {},
   "outputs": [],
   "source": [
    "import numpy as np"
   ]
  },
  {
   "cell_type": "code",
   "execution_count": 6,
   "id": "623e544b-497e-4192-a796-1357cf2fc0ff",
   "metadata": {},
   "outputs": [
    {
     "data": {
      "text/plain": [
       "0.452458600244395"
      ]
     },
     "execution_count": 6,
     "metadata": {},
     "output_type": "execute_result"
    }
   ],
   "source": [
    "# Single random number\n",
    "np.random.rand()"
   ]
  },
  {
   "cell_type": "code",
   "execution_count": 11,
   "id": "37b0be39-a21a-453c-bc92-fd69abbc660c",
   "metadata": {},
   "outputs": [
    {
     "name": "stdout",
     "output_type": "stream",
     "text": [
      "[0.66191485 0.4378375  0.98295782 0.70012901 0.66696846]\n"
     ]
    }
   ],
   "source": [
    "# 8 numbers\n",
    "print(np.random.rand(5))"
   ]
  },
  {
   "cell_type": "code",
   "execution_count": 12,
   "id": "4f71a4a8-a6d8-49ba-99e6-35dbcfac2cac",
   "metadata": {},
   "outputs": [
    {
     "name": "stdout",
     "output_type": "stream",
     "text": [
      "[[0.43060755 0.05028977 0.82328599]\n",
      " [0.10267921 0.37304553 0.46246874]\n",
      " [0.28326864 0.9600831  0.23502629]]\n"
     ]
    }
   ],
   "source": [
    "# 2D array:\n",
    "print(np.random.rand(3,3))"
   ]
  },
  {
   "cell_type": "markdown",
   "id": "1e99708f-37f8-49d6-abcf-c815ff6412aa",
   "metadata": {},
   "source": [
    "### randn"
   ]
  },
  {
   "cell_type": "code",
   "execution_count": 13,
   "id": "f1de9fae-f79a-4073-b760-ddcc190739fd",
   "metadata": {},
   "outputs": [],
   "source": [
    "# randn standard normal (Gausian Distribution)\n",
    "# Generates #s from a stnd normal distribution (mean=0, std=1)\n",
    "# usefull 4 ML and statistics"
   ]
  },
  {
   "cell_type": "code",
   "execution_count": 19,
   "id": "0937c4c4-63cd-46bf-a819-c5eabafad968",
   "metadata": {},
   "outputs": [
    {
     "name": "stdout",
     "output_type": "stream",
     "text": [
      "1.4839203778401244\n"
     ]
    }
   ],
   "source": [
    "# single number from normal distribution\n",
    "print(np.random.randn())"
   ]
  },
  {
   "cell_type": "code",
   "execution_count": 20,
   "id": "16ed2061-4cc1-4b79-b06d-3b7cf0145557",
   "metadata": {},
   "outputs": [
    {
     "name": "stdout",
     "output_type": "stream",
     "text": [
      "[ 0.08285704 -0.30164108  0.7219899  -1.12046882 -0.68687959]\n"
     ]
    }
   ],
   "source": [
    "# 5 of them:\n",
    "print(np.random.randn(5))"
   ]
  },
  {
   "cell_type": "code",
   "execution_count": 21,
   "id": "af6f2b01-536a-48ce-a0f4-1e3b9dab7113",
   "metadata": {},
   "outputs": [
    {
     "name": "stdout",
     "output_type": "stream",
     "text": [
      "[[-0.25987482  0.88118917  1.34701745]\n",
      " [ 0.4972294   1.03126735 -1.666796  ]\n",
      " [ 0.53039599 -1.84135029 -1.32696229]]\n"
     ]
    }
   ],
   "source": [
    "#2D array of randn\n",
    "print(np.random.randn(3,3))"
   ]
  },
  {
   "cell_type": "markdown",
   "id": "2c89c158-0b16-4607-9931-29572e9800eb",
   "metadata": {},
   "source": [
    "### randint"
   ]
  },
  {
   "cell_type": "code",
   "execution_count": 28,
   "id": "d656dceb-09e0-487b-9691-b47262d47567",
   "metadata": {},
   "outputs": [
    {
     "name": "stdout",
     "output_type": "stream",
     "text": [
      "15\n"
     ]
    }
   ],
   "source": [
    "#single \n",
    "print(np.random.randint(0,50))"
   ]
  },
  {
   "cell_type": "code",
   "execution_count": 29,
   "id": "96665c09-3d46-4859-82c9-5977b4894caa",
   "metadata": {},
   "outputs": [
    {
     "name": "stdout",
     "output_type": "stream",
     "text": [
      "[28  8  2 31  7]\n"
     ]
    }
   ],
   "source": [
    "# Array of 10 numbers random integers:\n",
    "print(np.random.randint(1, 50, 5))"
   ]
  },
  {
   "cell_type": "code",
   "execution_count": 30,
   "id": "b54c8900-4869-4618-acdc-676daa2bd35a",
   "metadata": {},
   "outputs": [
    {
     "name": "stdout",
     "output_type": "stream",
     "text": [
      "[[26 38 39]\n",
      " [ 2 15 28]\n",
      " [12 46  2]]\n"
     ]
    }
   ],
   "source": [
    "# Array of 2D:\n",
    "print(np.random.randint(0, 50, (3,3)))"
   ]
  },
  {
   "cell_type": "code",
   "execution_count": 31,
   "id": "7eae233a-cc42-4377-a343-58bf74b0f87e",
   "metadata": {},
   "outputs": [
    {
     "name": "stdout",
     "output_type": "stream",
     "text": [
      "[[48 11 24]\n",
      " [ 3 35 46]\n",
      " [ 4 33 14]]\n"
     ]
    }
   ],
   "source": [
    "print(np.random.randint(low=0, high=50, size=(3,3)))"
   ]
  },
  {
   "cell_type": "markdown",
   "id": "45a0896e-056e-477c-85b2-f3bb23aa261c",
   "metadata": {},
   "source": [
    "### Seeding"
   ]
  },
  {
   "cell_type": "code",
   "execution_count": 34,
   "id": "102289ee-8bbe-4197-88fa-6c1dcfd88a82",
   "metadata": {},
   "outputs": [
    {
     "name": "stdout",
     "output_type": "stream",
     "text": [
      "[0.37454012 0.95071431 0.73199394]\n"
     ]
    }
   ],
   "source": [
    "np.random.seed(42) \n",
    "print(np.random.rand(3))"
   ]
  },
  {
   "cell_type": "code",
   "execution_count": 37,
   "id": "362ce4e9-9c22-4207-95bf-938cc310412d",
   "metadata": {},
   "outputs": [
    {
     "name": "stdout",
     "output_type": "stream",
     "text": [
      "[4 3 7]\n"
     ]
    }
   ],
   "source": [
    "print(np.random.randint(0,10,3))"
   ]
  },
  {
   "cell_type": "markdown",
   "id": "1feccf2f-b1ea-4e83-9ac0-cea66cb0f388",
   "metadata": {},
   "source": [
    "### choice"
   ]
  },
  {
   "cell_type": "code",
   "execution_count": 38,
   "id": "7b63aa14-1654-43ab-aa83-e78cde6eb2e2",
   "metadata": {},
   "outputs": [],
   "source": [
    "arr = np.array([10, 20, 30, 40, 50])"
   ]
  },
  {
   "cell_type": "code",
   "execution_count": 42,
   "id": "1045fcb3-7780-4039-93f0-12ea26fea288",
   "metadata": {},
   "outputs": [
    {
     "name": "stdout",
     "output_type": "stream",
     "text": [
      "40\n"
     ]
    }
   ],
   "source": [
    "#Single random choice:\n",
    "print(np.random.choice(arr))"
   ]
  },
  {
   "cell_type": "code",
   "execution_count": 46,
   "id": "9eb89e82-7aa8-4711-9d0f-1b4bd8d8427c",
   "metadata": {},
   "outputs": [
    {
     "name": "stdout",
     "output_type": "stream",
     "text": [
      "[10 30 30]\n"
     ]
    }
   ],
   "source": [
    "# multpile:\n",
    "print(np.random.choice(arr, 3))"
   ]
  },
  {
   "cell_type": "code",
   "execution_count": 54,
   "id": "f149ac29-cc63-40d1-bd83-ff82e66ed672",
   "metadata": {},
   "outputs": [
    {
     "name": "stdout",
     "output_type": "stream",
     "text": [
      "[10 50 30]\n"
     ]
    }
   ],
   "source": [
    "print(np.random.choice(arr, 3, replace=False))"
   ]
  },
  {
   "cell_type": "markdown",
   "id": "3da89eca-7cf7-47e9-9a7a-0c361d9eb49d",
   "metadata": {},
   "source": [
    "### Shuffle"
   ]
  },
  {
   "cell_type": "code",
   "execution_count": 55,
   "id": "6b884bc0-bf81-45b3-b656-91f7c0404b63",
   "metadata": {},
   "outputs": [
    {
     "name": "stdout",
     "output_type": "stream",
     "text": [
      "[0 1 2 3 4 5 6 7 8 9]\n"
     ]
    }
   ],
   "source": [
    "arr = np.arange(10)\n",
    "print(arr)"
   ]
  },
  {
   "cell_type": "code",
   "execution_count": 56,
   "id": "77554057-516e-428b-9fca-2b3c463c3aa7",
   "metadata": {},
   "outputs": [
    {
     "name": "stdout",
     "output_type": "stream",
     "text": [
      "[4 8 1 3 0 5 2 9 7 6]\n"
     ]
    }
   ],
   "source": [
    "np.random.shuffle(arr)\n",
    "print(arr)"
   ]
  },
  {
   "cell_type": "markdown",
   "id": "922a339c-8edc-4e59-bd78-ad56b944f5a6",
   "metadata": {},
   "source": [
    "### Custom probability Distributions"
   ]
  },
  {
   "cell_type": "code",
   "execution_count": 57,
   "id": "301bfaaf-9b98-455c-a610-f88ca08b2b89",
   "metadata": {},
   "outputs": [
    {
     "name": "stdout",
     "output_type": "stream",
     "text": [
      "50.51990305788431 10.353450382833653\n"
     ]
    }
   ],
   "source": [
    "samples = np.random.normal(50, 10, 1000)\n",
    "print(samples.mean(), samples.std())"
   ]
  },
  {
   "cell_type": "markdown",
   "id": "0292d936-b4f7-4d45-b64c-5da53a01bdc4",
   "metadata": {},
   "source": [
    "### optional section (Advanced)"
   ]
  },
  {
   "cell_type": "code",
   "execution_count": 62,
   "id": "a3b63bc9-8326-420e-92ca-11dbe345ebd9",
   "metadata": {},
   "outputs": [],
   "source": [
    "from secrets import token_bytes\n",
    "import numpy as np\n",
    "#Cryptographically secure seed\n",
    "secure_seed = int.from_bytes(token_bytes(4), 'big')\n",
    "rng = np.random.default_rng(secure_seed)"
   ]
  },
  {
   "cell_type": "code",
   "execution_count": 63,
   "id": "821ecb81-8d2b-42c1-8bdf-b7f26f3c206d",
   "metadata": {},
   "outputs": [
    {
     "name": "stdout",
     "output_type": "stream",
     "text": [
      "0.29912235385791097\n",
      "44\n"
     ]
    }
   ],
   "source": [
    "#Now we use rng for secure randomness:\n",
    "print(rng.random()) \n",
    "print(rng.integers(0, 100)) "
   ]
  },
  {
   "cell_type": "markdown",
   "id": "b086221c-f435-4b17-8160-81d095fd9abb",
   "metadata": {},
   "source": [
    "# Section 09 02 Distributions "
   ]
  },
  {
   "cell_type": "markdown",
   "id": "4effc026-3709-429c-a73b-afca658c2ada",
   "metadata": {},
   "source": [
    "### Distributions: (Normal, Uniform, Binomial, and Poisson)"
   ]
  },
  {
   "cell_type": "code",
   "execution_count": 64,
   "id": "4859da9b-ab38-4cee-afaf-72e1353525c4",
   "metadata": {},
   "outputs": [],
   "source": [
    "# Probability Distirubutions is a function describing the\n",
    "# likelihood of different outcomes for a random variable."
   ]
  },
  {
   "cell_type": "markdown",
   "id": "fafc2234-5e89-4abf-8c8c-98060929de3c",
   "metadata": {},
   "source": [
    "#### Uniform Distribution"
   ]
  },
  {
   "cell_type": "code",
   "execution_count": 66,
   "id": "786dc6cd-102b-4a1c-8a5e-efeaff11521d",
   "metadata": {},
   "outputs": [],
   "source": [
    "# Uniform Distribution: All outcomes in a range are equally likely\n",
    "import numpy as np\n",
    "samples = np.random.uniform(low=0, high=1, size=1000)\n",
    " "
   ]
  },
  {
   "cell_type": "code",
   "execution_count": 68,
   "id": "c6291f22-6601-4261-9fe0-9c876323bba4",
   "metadata": {},
   "outputs": [
    {
     "data": {
      "text/plain": [
       "1.3333333333333333"
      ]
     },
     "execution_count": 68,
     "metadata": {},
     "output_type": "execute_result"
    }
   ],
   "source": [
    "# Mean = (low + high)/2\n",
    "# variance = (high-low) **2/12\n",
    "(4)**2/12  # 4X4"
   ]
  },
  {
   "cell_type": "code",
   "execution_count": 69,
   "id": "158791df-02f8-4482-8888-8bb38d3b4d50",
   "metadata": {},
   "outputs": [
    {
     "data": {
      "text/plain": [
       "1.3333333333333333"
      ]
     },
     "execution_count": 69,
     "metadata": {},
     "output_type": "execute_result"
    }
   ],
   "source": [
    "16/12"
   ]
  },
  {
   "cell_type": "code",
   "execution_count": 71,
   "id": "48556ebd-20a0-4cef-9528-a772421d14ef",
   "metadata": {},
   "outputs": [
    {
     "data": {
      "text/plain": [
       "Text(0.5, 1.0, 'Uniform Distribution')"
      ]
     },
     "execution_count": 71,
     "metadata": {},
     "output_type": "execute_result"
    },
    {
     "data": {
      "image/png": "[encoded data removed]",
      "text/plain": [
       "<Figure size 640x480 with 1 Axes>"
      ]
     },
     "metadata": {},
     "output_type": "display_data"
    }
   ],
   "source": [
    "import matplotlib.pyplot as plt\n",
    "plt.hist(samples, bins=30, density=True)\n",
    "plt.title(\"Uniform Distribution\")"
   ]
  },
  {
   "cell_type": "code",
   "execution_count": 72,
   "id": "5d0ecb1b-f028-4396-abcf-c50760b46712",
   "metadata": {},
   "outputs": [],
   "source": [
    "#Normal (Gaussian) Distribution\n",
    "# symmetric, bell-shaped curve defined by mean(mu) and\n",
    "#standard deviation sigma"
   ]
  },
  {
   "cell_type": "code",
   "execution_count": 73,
   "id": "fe37f87d-cee5-4372-878e-a8ffa74eca64",
   "metadata": {},
   "outputs": [],
   "source": [
    "mu, sigma = 0,1\n",
    "samples = np.random.normal(loc=mu, scale=sigma, size=1000)"
   ]
  },
  {
   "cell_type": "code",
   "execution_count": 76,
   "id": "317f643e-dfa0-4341-90fa-abf3b26efbde",
   "metadata": {},
   "outputs": [
    {
     "data": {
      "image/png": "[encoded data removed]",
      "text/plain": [
       "<Figure size 640x480 with 1 Axes>"
      ]
     },
     "metadata": {},
     "output_type": "display_data"
    }
   ],
   "source": [
    "plt.hist(samples, bins=120, density=True)\n",
    "plt.title(\"Gaussian Distribution\")\n",
    "plt.show()"
   ]
  },
  {
   "cell_type": "code",
   "execution_count": 77,
   "id": "030aebaa-d40d-49fa-8546-d478942b1cc4",
   "metadata": {},
   "outputs": [],
   "source": [
    "# %68 of data falls within +/- 1 sigma\n",
    "# %95 of data falls within +/- 2 sigma"
   ]
  },
  {
   "cell_type": "markdown",
   "id": "24f6b60f-866c-477a-aac6-6f0f2382ca7a",
   "metadata": {},
   "source": [
    "#### Binomial Distribution"
   ]
  },
  {
   "cell_type": "code",
   "execution_count": 78,
   "id": "0eb8f1b8-0553-4909-85b3-0c6a2a40aba1",
   "metadata": {},
   "outputs": [],
   "source": [
    "# Binomial Distribution counts successess in n independnt trials with probability p.\n",
    "# Generate Binomial samples"
   ]
  },
  {
   "cell_type": "code",
   "execution_count": 91,
   "id": "0141bfe4-bc7d-4d65-9a08-92f1c4fb8be2",
   "metadata": {},
   "outputs": [
    {
     "data": {
      "image/png": "[encoded data removed]",
      "text/plain": [
       "<Figure size 640x480 with 1 Axes>"
      ]
     },
     "metadata": {},
     "output_type": "display_data"
    }
   ],
   "source": [
    "n, p = 10, 0.5  # 10 trials, %50 probability of success\n",
    "samples = np.random.binomial(n=n, p=p, size=1000)\n",
    "plt.hist(samples, bins=60, density=True)\n",
    "plt.title(\"Binomial Distribution\")\n",
    "plt.xlabel(\"Number of Successes\")\n",
    "plt.ylabel(\"Probability Density\")\n",
    "plt.show()"
   ]
  },
  {
   "cell_type": "markdown",
   "id": "3309d895-cf8d-4727-80ad-65a510a4d8e6",
   "metadata": {},
   "source": [
    "#### Poisson Distribution"
   ]
  },
  {
   "cell_type": "code",
   "execution_count": 92,
   "id": "ab457860-3a7a-4f67-8243-243c0a0266a6",
   "metadata": {},
   "outputs": [],
   "source": [
    "# Poisson Distribution models rare events over a fixed internal.\n",
    "#Generate Poisson Samples"
   ]
  },
  {
   "cell_type": "code",
   "execution_count": 94,
   "id": "2d84c939-e256-4493-bf1d-20f0d5cd35c9",
   "metadata": {},
   "outputs": [
    {
     "data": {
      "image/png": "[encoded data removed]",
      "text/plain": [
       "<Figure size 640x480 with 1 Axes>"
      ]
     },
     "metadata": {},
     "output_type": "display_data"
    }
   ],
   "source": [
    "lam = 3 # Avg rate\n",
    "samples = np.random.poisson(lam=lam, size=1000)\n",
    "#mean = Variance - lam\n",
    "import matplotlib.pyplot as plt\n",
    "plt.hist(samples, bins=30, density=True)\n",
    "plt.title(\"Poison Distribution\")\n",
    "plt.xlabel(\"Number of Successes\")\n",
    "plt.ylabel(\"Probability Density\")\n",
    "plt.show()"
   ]
  },
  {
   "cell_type": "code",
   "execution_count": null,
   "id": "546773a4-562e-4c59-9635-d652ba28ce0d",
   "metadata": {},
   "outputs": [],
   "source": []
  }
 ],
 "metadata": {
  "kernelspec": {
   "display_name": "Python 3 (ipykernel)",
   "language": "python",
   "name": "python3"
  },
  "language_info": {
   "codemirror_mode": {
    "name": "ipython",
    "version": 3
   },
   "file_extension": ".py",
   "mimetype": "text/x-python",
   "name": "python",
   "nbconvert_exporter": "python",
   "pygments_lexer": "ipython3",
   "version": "3.11.4"
  }
 },
 "nbformat": 4,
 "nbformat_minor": 5
}
