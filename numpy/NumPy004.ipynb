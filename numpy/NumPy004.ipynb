{
 "cells": [
  {
   "cell_type": "markdown",
   "id": "5d4a2013-b57a-409c-9f19-2bc6755271fe",
   "metadata": {},
   "source": [
    "# Section 07 01"
   ]
  },
  {
   "cell_type": "markdown",
   "id": "b21c0d6a-6544-48a3-8385-f6e33aa0231f",
   "metadata": {},
   "source": [
    "#### Section 07 01 Reshape arrays with reshape(), flatten(), and ravel()"
   ]
  },
  {
   "cell_type": "code",
   "execution_count": 1,
   "id": "7deeaa01-e7ef-43a1-8b5d-5aa1d02cd92f",
   "metadata": {},
   "outputs": [],
   "source": [
    "import numpy as np"
   ]
  },
  {
   "cell_type": "code",
   "execution_count": 2,
   "id": "09eb3379-aa47-4868-a6ec-afd08414dbec",
   "metadata": {},
   "outputs": [],
   "source": [
    "arr = np.arange(12)"
   ]
  },
  {
   "cell_type": "code",
   "execution_count": 3,
   "id": "312b756b-1d5f-4e26-ae9c-19545fe4237f",
   "metadata": {},
   "outputs": [
    {
     "data": {
      "text/plain": [
       "array([ 0,  1,  2,  3,  4,  5,  6,  7,  8,  9, 10, 11])"
      ]
     },
     "execution_count": 3,
     "metadata": {},
     "output_type": "execute_result"
    }
   ],
   "source": [
    "arr"
   ]
  },
  {
   "cell_type": "code",
   "execution_count": 4,
   "id": "145160fe-6375-41aa-8d23-03f4b58e2f57",
   "metadata": {},
   "outputs": [
    {
     "name": "stdout",
     "output_type": "stream",
     "text": [
      "[ 0  1  2  3  4  5  6  7  8  9 10 11]\n"
     ]
    }
   ],
   "source": [
    "print(arr)"
   ]
  },
  {
   "cell_type": "code",
   "execution_count": 5,
   "id": "2a444ccf-fd7c-44cd-92d6-d98af47a2493",
   "metadata": {},
   "outputs": [
    {
     "data": {
      "text/plain": [
       "1"
      ]
     },
     "execution_count": 5,
     "metadata": {},
     "output_type": "execute_result"
    }
   ],
   "source": [
    "arr.ndim"
   ]
  },
  {
   "cell_type": "code",
   "execution_count": 6,
   "id": "23d71f0e-c888-42d1-a1ef-ee4bdbf14903",
   "metadata": {},
   "outputs": [
    {
     "data": {
      "text/plain": [
       "(12,)"
      ]
     },
     "execution_count": 6,
     "metadata": {},
     "output_type": "execute_result"
    }
   ],
   "source": [
    "arr.shape"
   ]
  },
  {
   "cell_type": "code",
   "execution_count": 7,
   "id": "5c339fdc-423d-4b1e-b293-a59b633039d4",
   "metadata": {},
   "outputs": [
    {
     "name": "stdout",
     "output_type": "stream",
     "text": [
      "(12,)\n"
     ]
    }
   ],
   "source": [
    "print(arr.shape)"
   ]
  },
  {
   "cell_type": "code",
   "execution_count": 8,
   "id": "354cf057-3061-4d85-8a9a-7df3e2e26d54",
   "metadata": {},
   "outputs": [],
   "source": [
    "reshape = arr.reshape(3,4)"
   ]
  },
  {
   "cell_type": "code",
   "execution_count": 9,
   "id": "184e0d8b-904f-4021-90ff-6c037262887b",
   "metadata": {},
   "outputs": [
    {
     "data": {
      "text/plain": [
       "array([[ 0,  1,  2,  3],\n",
       "       [ 4,  5,  6,  7],\n",
       "       [ 8,  9, 10, 11]])"
      ]
     },
     "execution_count": 9,
     "metadata": {},
     "output_type": "execute_result"
    }
   ],
   "source": [
    "reshape"
   ]
  },
  {
   "cell_type": "code",
   "execution_count": 10,
   "id": "246f4951-2504-4cc0-9da2-aa7d64e8a808",
   "metadata": {},
   "outputs": [],
   "source": [
    "arr[0] = 100"
   ]
  },
  {
   "cell_type": "code",
   "execution_count": 11,
   "id": "89881fc4-bdbc-489f-b7d8-e33004b1bdd4",
   "metadata": {},
   "outputs": [
    {
     "data": {
      "text/plain": [
       "array([100,   1,   2,   3,   4,   5,   6,   7,   8,   9,  10,  11])"
      ]
     },
     "execution_count": 11,
     "metadata": {},
     "output_type": "execute_result"
    }
   ],
   "source": [
    "arr"
   ]
  },
  {
   "cell_type": "code",
   "execution_count": 12,
   "id": "cfba3cee-f208-4985-b489-879e316b7898",
   "metadata": {},
   "outputs": [
    {
     "data": {
      "text/plain": [
       "array([[100,   1,   2,   3],\n",
       "       [  4,   5,   6,   7],\n",
       "       [  8,   9,  10,  11]])"
      ]
     },
     "execution_count": 12,
     "metadata": {},
     "output_type": "execute_result"
    }
   ],
   "source": [
    "reshape"
   ]
  },
  {
   "cell_type": "code",
   "execution_count": 13,
   "id": "9630aaf3-75b8-43a0-ac1a-5e504ab65a66",
   "metadata": {},
   "outputs": [],
   "source": [
    "reshape[0][0] = 0"
   ]
  },
  {
   "cell_type": "code",
   "execution_count": 14,
   "id": "0db0a7cd-cd36-4888-82e5-3be6b340ceb6",
   "metadata": {},
   "outputs": [
    {
     "data": {
      "text/plain": [
       "array([ 0,  1,  2,  3,  4,  5,  6,  7,  8,  9, 10, 11])"
      ]
     },
     "execution_count": 14,
     "metadata": {},
     "output_type": "execute_result"
    }
   ],
   "source": [
    "arr"
   ]
  },
  {
   "cell_type": "code",
   "execution_count": 15,
   "id": "4c8bf1d3-8cc9-4d78-a61d-8b775ece7e2d",
   "metadata": {},
   "outputs": [
    {
     "data": {
      "text/plain": [
       "array([[ 0,  1,  2,  3],\n",
       "       [ 4,  5,  6,  7],\n",
       "       [ 8,  9, 10, 11]])"
      ]
     },
     "execution_count": 15,
     "metadata": {},
     "output_type": "execute_result"
    }
   ],
   "source": [
    "reshape"
   ]
  },
  {
   "cell_type": "code",
   "execution_count": 16,
   "id": "484441e0-2ea2-4ee3-b39f-d335ec70b120",
   "metadata": {},
   "outputs": [],
   "source": [
    "# Reshape with different orders:\n",
    "resC = arr.reshape(3,4, order='C')\n",
    "resF = arr.reshape(3,4, order = 'F')"
   ]
  },
  {
   "cell_type": "code",
   "execution_count": 17,
   "id": "93c7a2ed-bf5e-46ec-a9af-54cb905a0148",
   "metadata": {},
   "outputs": [
    {
     "data": {
      "text/plain": [
       "array([[ 0,  1,  2,  3],\n",
       "       [ 4,  5,  6,  7],\n",
       "       [ 8,  9, 10, 11]])"
      ]
     },
     "execution_count": 17,
     "metadata": {},
     "output_type": "execute_result"
    }
   ],
   "source": [
    "resC"
   ]
  },
  {
   "cell_type": "code",
   "execution_count": 18,
   "id": "7757dc82-f0e5-4aee-a643-64ea7c10e912",
   "metadata": {},
   "outputs": [
    {
     "data": {
      "text/plain": [
       "array([[ 0,  3,  6,  9],\n",
       "       [ 1,  4,  7, 10],\n",
       "       [ 2,  5,  8, 11]])"
      ]
     },
     "execution_count": 18,
     "metadata": {},
     "output_type": "execute_result"
    }
   ],
   "source": [
    "resF"
   ]
  },
  {
   "cell_type": "code",
   "execution_count": 19,
   "id": "bac5512b-d75b-4b6c-9e67-1e9da9970b9b",
   "metadata": {},
   "outputs": [],
   "source": [
    "resF[0][0] = 33"
   ]
  },
  {
   "cell_type": "code",
   "execution_count": 20,
   "id": "c6ab707e-fcc6-4e3f-a914-62525420041a",
   "metadata": {},
   "outputs": [
    {
     "data": {
      "text/plain": [
       "array([[33,  3,  6,  9],\n",
       "       [ 1,  4,  7, 10],\n",
       "       [ 2,  5,  8, 11]])"
      ]
     },
     "execution_count": 20,
     "metadata": {},
     "output_type": "execute_result"
    }
   ],
   "source": [
    "resF"
   ]
  },
  {
   "cell_type": "code",
   "execution_count": 21,
   "id": "e03d5608-b841-441d-ad28-f2eb90f2f9db",
   "metadata": {},
   "outputs": [
    {
     "data": {
      "text/plain": [
       "array([[33,  1,  2,  3],\n",
       "       [ 4,  5,  6,  7],\n",
       "       [ 8,  9, 10, 11]])"
      ]
     },
     "execution_count": 21,
     "metadata": {},
     "output_type": "execute_result"
    }
   ],
   "source": [
    "resC"
   ]
  },
  {
   "cell_type": "code",
   "execution_count": 22,
   "id": "570198a9-f7df-4ee4-a9b6-d298b31202aa",
   "metadata": {},
   "outputs": [
    {
     "data": {
      "text/plain": [
       "array([33,  1,  2,  3,  4,  5,  6,  7,  8,  9, 10, 11])"
      ]
     },
     "execution_count": 22,
     "metadata": {},
     "output_type": "execute_result"
    }
   ],
   "source": [
    "arr"
   ]
  },
  {
   "cell_type": "code",
   "execution_count": 23,
   "id": "5e71d7cc-34e0-4ef4-a892-0e6e00fedd7e",
   "metadata": {},
   "outputs": [
    {
     "data": {
      "text/plain": [
       "array([33,  1,  2,  3,  4,  5,  6,  7,  8,  9, 10, 11])"
      ]
     },
     "execution_count": 23,
     "metadata": {},
     "output_type": "execute_result"
    }
   ],
   "source": [
    "arr"
   ]
  },
  {
   "cell_type": "code",
   "execution_count": 24,
   "id": "0adc3a42-905c-4c14-a75d-e9e63873adfc",
   "metadata": {},
   "outputs": [],
   "source": [
    "res2 = arr.reshape(2, -1)"
   ]
  },
  {
   "cell_type": "code",
   "execution_count": 25,
   "id": "d1d4d97c-fc7b-4553-bf13-f577fe9a99bb",
   "metadata": {},
   "outputs": [
    {
     "data": {
      "text/plain": [
       "array([[33,  1,  2,  3,  4,  5],\n",
       "       [ 6,  7,  8,  9, 10, 11]])"
      ]
     },
     "execution_count": 25,
     "metadata": {},
     "output_type": "execute_result"
    }
   ],
   "source": [
    "res2"
   ]
  },
  {
   "cell_type": "code",
   "execution_count": 29,
   "id": "85ffbb1d-1f20-4daa-9dd6-0beac44bd149",
   "metadata": {},
   "outputs": [
    {
     "data": {
      "text/plain": [
       "array([0, 1, 2, 3, 4, 5, 6])"
      ]
     },
     "execution_count": 29,
     "metadata": {},
     "output_type": "execute_result"
    }
   ],
   "source": [
    "arr2 = np.arange(7)\n",
    "arr2"
   ]
  },
  {
   "cell_type": "code",
   "execution_count": 30,
   "id": "467eda45-f790-4212-aa19-0c5384addf90",
   "metadata": {},
   "outputs": [
    {
     "ename": "ValueError",
     "evalue": "cannot reshape array of size 7 into shape (2,newaxis)",
     "output_type": "error",
     "traceback": [
      "\u001b[1;31m---------------------------------------------------------------------------\u001b[0m",
      "\u001b[1;31mValueError\u001b[0m                                Traceback (most recent call last)",
      "Cell \u001b[1;32mIn[30], line 1\u001b[0m\n\u001b[1;32m----> 1\u001b[0m res3 \u001b[38;5;241m=\u001b[39m \u001b[43marr2\u001b[49m\u001b[38;5;241;43m.\u001b[39;49m\u001b[43mreshape\u001b[49m\u001b[43m(\u001b[49m\u001b[38;5;241;43m2\u001b[39;49m\u001b[43m,\u001b[49m\u001b[38;5;241;43m-\u001b[39;49m\u001b[38;5;241;43m1\u001b[39;49m\u001b[43m)\u001b[49m\n",
      "\u001b[1;31mValueError\u001b[0m: cannot reshape array of size 7 into shape (2,newaxis)"
     ]
    }
   ],
   "source": [
    "res3 = arr2.reshape(2,-1)"
   ]
  },
  {
   "cell_type": "code",
   "execution_count": 33,
   "id": "82c2c320-ee8e-4862-8641-5220994fdd6f",
   "metadata": {},
   "outputs": [],
   "source": [
    "res3 = arr.reshape(3, 4)"
   ]
  },
  {
   "cell_type": "code",
   "execution_count": 34,
   "id": "8a1ff9b5-95dc-4112-870e-a9685ab76fd4",
   "metadata": {},
   "outputs": [
    {
     "data": {
      "text/plain": [
       "array([[33,  1,  2,  3],\n",
       "       [ 4,  5,  6,  7],\n",
       "       [ 8,  9, 10, 11]])"
      ]
     },
     "execution_count": 34,
     "metadata": {},
     "output_type": "execute_result"
    }
   ],
   "source": [
    "res3"
   ]
  },
  {
   "cell_type": "code",
   "execution_count": 35,
   "id": "22397c7e-d6a6-42ca-bc1f-dd79de9ca191",
   "metadata": {},
   "outputs": [],
   "source": [
    "res4 = arr.reshape(2,2,-1)"
   ]
  },
  {
   "cell_type": "code",
   "execution_count": 36,
   "id": "1ca00c93-51cc-4b29-9688-dc941733656e",
   "metadata": {},
   "outputs": [
    {
     "data": {
      "text/plain": [
       "array([[[33,  1,  2],\n",
       "        [ 3,  4,  5]],\n",
       "\n",
       "       [[ 6,  7,  8],\n",
       "        [ 9, 10, 11]]])"
      ]
     },
     "execution_count": 36,
     "metadata": {},
     "output_type": "execute_result"
    }
   ],
   "source": [
    "res4"
   ]
  },
  {
   "cell_type": "code",
   "execution_count": 37,
   "id": "cb9f7584-61a5-45c0-b847-92e786647ca6",
   "metadata": {},
   "outputs": [],
   "source": [
    "res5 = arr.reshape(2,2,3)"
   ]
  },
  {
   "cell_type": "code",
   "execution_count": 38,
   "id": "9d8ba391-db42-4995-bdab-9fd5e162e60a",
   "metadata": {},
   "outputs": [
    {
     "data": {
      "text/plain": [
       "array([[[33,  1,  2],\n",
       "        [ 3,  4,  5]],\n",
       "\n",
       "       [[ 6,  7,  8],\n",
       "        [ 9, 10, 11]]])"
      ]
     },
     "execution_count": 38,
     "metadata": {},
     "output_type": "execute_result"
    }
   ],
   "source": [
    "res5"
   ]
  },
  {
   "cell_type": "code",
   "execution_count": 39,
   "id": "0fbae441-e60a-4165-b50c-a6c359b89926",
   "metadata": {},
   "outputs": [
    {
     "data": {
      "text/plain": [
       "array([[[ True,  True,  True],\n",
       "        [ True,  True,  True]],\n",
       "\n",
       "       [[ True,  True,  True],\n",
       "        [ True,  True,  True]]])"
      ]
     },
     "execution_count": 39,
     "metadata": {},
     "output_type": "execute_result"
    }
   ],
   "source": [
    "res5 == res4"
   ]
  },
  {
   "cell_type": "code",
   "execution_count": 40,
   "id": "c44371af-b877-40a2-8fd5-c9a06853b7ba",
   "metadata": {},
   "outputs": [
    {
     "data": {
      "text/plain": [
       "False"
      ]
     },
     "execution_count": 40,
     "metadata": {},
     "output_type": "execute_result"
    }
   ],
   "source": [
    "res5 is res4"
   ]
  },
  {
   "cell_type": "code",
   "execution_count": 41,
   "id": "258b462e-814d-434f-bfa9-7e24a06f246c",
   "metadata": {},
   "outputs": [],
   "source": [
    "res5[0][0] = 55"
   ]
  },
  {
   "cell_type": "code",
   "execution_count": 42,
   "id": "b5c94eff-2cc2-4401-93ea-097c8bbc5466",
   "metadata": {},
   "outputs": [
    {
     "data": {
      "text/plain": [
       "array([[[55, 55, 55],\n",
       "        [ 3,  4,  5]],\n",
       "\n",
       "       [[ 6,  7,  8],\n",
       "        [ 9, 10, 11]]])"
      ]
     },
     "execution_count": 42,
     "metadata": {},
     "output_type": "execute_result"
    }
   ],
   "source": [
    "res5"
   ]
  },
  {
   "cell_type": "code",
   "execution_count": 43,
   "id": "9dc6b739-86e0-4e48-9dac-bd1cc8b9ea50",
   "metadata": {},
   "outputs": [
    {
     "data": {
      "text/plain": [
       "array([[[55, 55, 55],\n",
       "        [ 3,  4,  5]],\n",
       "\n",
       "       [[ 6,  7,  8],\n",
       "        [ 9, 10, 11]]])"
      ]
     },
     "execution_count": 43,
     "metadata": {},
     "output_type": "execute_result"
    }
   ],
   "source": [
    "res4"
   ]
  },
  {
   "cell_type": "code",
   "execution_count": 44,
   "id": "eeea0d13-b1ae-4059-a4d7-8d847fe7f0c7",
   "metadata": {},
   "outputs": [
    {
     "data": {
      "text/plain": [
       "array([[[55, 55, 55],\n",
       "        [ 3,  4,  5]],\n",
       "\n",
       "       [[ 6,  7,  8],\n",
       "        [ 9, 10, 11]]])"
      ]
     },
     "execution_count": 44,
     "metadata": {},
     "output_type": "execute_result"
    }
   ],
   "source": [
    "res4"
   ]
  },
  {
   "cell_type": "code",
   "execution_count": 46,
   "id": "2066ac5f-caa0-48b8-9efc-35a6688b6aa5",
   "metadata": {},
   "outputs": [],
   "source": [
    "res6 = res4.flatten()"
   ]
  },
  {
   "cell_type": "code",
   "execution_count": 47,
   "id": "55121ebc-1c64-4fa4-89d1-660954cab839",
   "metadata": {},
   "outputs": [
    {
     "data": {
      "text/plain": [
       "array([55, 55, 55,  3,  4,  5,  6,  7,  8,  9, 10, 11])"
      ]
     },
     "execution_count": 47,
     "metadata": {},
     "output_type": "execute_result"
    }
   ],
   "source": [
    "res6"
   ]
  },
  {
   "cell_type": "code",
   "execution_count": 48,
   "id": "01c5502a-21b2-49f0-84d7-7916fc3705e4",
   "metadata": {},
   "outputs": [],
   "source": [
    "res6[0] = 0\n",
    "res6[1] = 1\n",
    "res6[2] = 2"
   ]
  },
  {
   "cell_type": "code",
   "execution_count": 49,
   "id": "5d20bcae-afc3-42be-8561-2fb6986bdd36",
   "metadata": {},
   "outputs": [
    {
     "data": {
      "text/plain": [
       "array([ 0,  1,  2,  3,  4,  5,  6,  7,  8,  9, 10, 11])"
      ]
     },
     "execution_count": 49,
     "metadata": {},
     "output_type": "execute_result"
    }
   ],
   "source": [
    "res6"
   ]
  },
  {
   "cell_type": "code",
   "execution_count": 50,
   "id": "2425b52c-d852-4413-a993-8819b15e27f9",
   "metadata": {},
   "outputs": [
    {
     "data": {
      "text/plain": [
       "array([[[55, 55, 55],\n",
       "        [ 3,  4,  5]],\n",
       "\n",
       "       [[ 6,  7,  8],\n",
       "        [ 9, 10, 11]]])"
      ]
     },
     "execution_count": 50,
     "metadata": {},
     "output_type": "execute_result"
    }
   ],
   "source": [
    "res5"
   ]
  },
  {
   "cell_type": "code",
   "execution_count": 51,
   "id": "2a636df6-54d6-4ac0-bc7c-73384947332e",
   "metadata": {},
   "outputs": [
    {
     "data": {
      "text/plain": [
       "array([[[55, 55, 55],\n",
       "        [ 3,  4,  5]],\n",
       "\n",
       "       [[ 6,  7,  8],\n",
       "        [ 9, 10, 11]]])"
      ]
     },
     "execution_count": 51,
     "metadata": {},
     "output_type": "execute_result"
    }
   ],
   "source": [
    "res4"
   ]
  },
  {
   "cell_type": "code",
   "execution_count": 52,
   "id": "ede14caf-6be5-4be7-b5e2-a7cb16c64922",
   "metadata": {},
   "outputs": [
    {
     "data": {
      "text/plain": [
       "array([ 0,  1,  2,  3,  4,  5,  6,  7,  8,  9, 10, 11])"
      ]
     },
     "execution_count": 52,
     "metadata": {},
     "output_type": "execute_result"
    }
   ],
   "source": [
    "res6"
   ]
  },
  {
   "cell_type": "code",
   "execution_count": 53,
   "id": "8849d5c2-5d34-49ea-839e-b05a350bd153",
   "metadata": {},
   "outputs": [],
   "source": [
    "res7 = res6.reshape(3,4)"
   ]
  },
  {
   "cell_type": "code",
   "execution_count": 54,
   "id": "ddb54e7c-8514-49df-ac42-05aebb0d1814",
   "metadata": {},
   "outputs": [
    {
     "data": {
      "text/plain": [
       "array([[ 0,  1,  2,  3],\n",
       "       [ 4,  5,  6,  7],\n",
       "       [ 8,  9, 10, 11]])"
      ]
     },
     "execution_count": 54,
     "metadata": {},
     "output_type": "execute_result"
    }
   ],
   "source": [
    "res7"
   ]
  },
  {
   "cell_type": "code",
   "execution_count": 55,
   "id": "bf4d8bff-ab61-4f4b-afd8-4a6249ba2914",
   "metadata": {},
   "outputs": [],
   "source": [
    "res7[0][0] = 44"
   ]
  },
  {
   "cell_type": "code",
   "execution_count": 56,
   "id": "aaef5789-f5fe-4712-9eb2-9c4431a18772",
   "metadata": {},
   "outputs": [
    {
     "data": {
      "text/plain": [
       "array([[44,  1,  2,  3],\n",
       "       [ 4,  5,  6,  7],\n",
       "       [ 8,  9, 10, 11]])"
      ]
     },
     "execution_count": 56,
     "metadata": {},
     "output_type": "execute_result"
    }
   ],
   "source": [
    "res7"
   ]
  },
  {
   "cell_type": "code",
   "execution_count": 57,
   "id": "67142ba7-547e-4cb6-8e8c-98cfb3c1bc57",
   "metadata": {},
   "outputs": [
    {
     "data": {
      "text/plain": [
       "array([44,  1,  2,  3,  4,  5,  6,  7,  8,  9, 10, 11])"
      ]
     },
     "execution_count": 57,
     "metadata": {},
     "output_type": "execute_result"
    }
   ],
   "source": [
    "res6"
   ]
  },
  {
   "cell_type": "code",
   "execution_count": 59,
   "id": "e8f1a7c0-45f4-4a9d-8452-37315e1204a2",
   "metadata": {},
   "outputs": [],
   "source": [
    "res8 = res6.flatten().reshape(3,4)"
   ]
  },
  {
   "cell_type": "code",
   "execution_count": 60,
   "id": "9ea7a236-b034-4655-95da-4af1de8acb9a",
   "metadata": {},
   "outputs": [
    {
     "data": {
      "text/plain": [
       "array([[44,  1,  2,  3],\n",
       "       [ 4,  5,  6,  7],\n",
       "       [ 8,  9, 10, 11]])"
      ]
     },
     "execution_count": 60,
     "metadata": {},
     "output_type": "execute_result"
    }
   ],
   "source": [
    "res8"
   ]
  },
  {
   "cell_type": "code",
   "execution_count": 61,
   "id": "9a5fff91-5800-42d3-a42d-eb7b115fe799",
   "metadata": {},
   "outputs": [
    {
     "data": {
      "text/plain": [
       "array([44,  1,  2,  3,  4,  5,  6,  7,  8,  9, 10, 11])"
      ]
     },
     "execution_count": 61,
     "metadata": {},
     "output_type": "execute_result"
    }
   ],
   "source": [
    "res6"
   ]
  },
  {
   "cell_type": "code",
   "execution_count": 62,
   "id": "0f79bb96-2a42-4ecf-9758-01cd0effb6cf",
   "metadata": {},
   "outputs": [],
   "source": [
    "res8[0][0] = 11"
   ]
  },
  {
   "cell_type": "code",
   "execution_count": 63,
   "id": "b03f7556-c066-419a-b119-50bb4d8eb17b",
   "metadata": {},
   "outputs": [
    {
     "data": {
      "text/plain": [
       "array([[11,  1,  2,  3],\n",
       "       [ 4,  5,  6,  7],\n",
       "       [ 8,  9, 10, 11]])"
      ]
     },
     "execution_count": 63,
     "metadata": {},
     "output_type": "execute_result"
    }
   ],
   "source": [
    "res8"
   ]
  },
  {
   "cell_type": "code",
   "execution_count": 64,
   "id": "da918aed-78cb-4bc5-a93f-7319f81d33fc",
   "metadata": {},
   "outputs": [
    {
     "data": {
      "text/plain": [
       "array([44,  1,  2,  3,  4,  5,  6,  7,  8,  9, 10, 11])"
      ]
     },
     "execution_count": 64,
     "metadata": {},
     "output_type": "execute_result"
    }
   ],
   "source": [
    "res6"
   ]
  },
  {
   "cell_type": "code",
   "execution_count": 65,
   "id": "b44e91d3-a576-4491-b3c5-33417345e38a",
   "metadata": {},
   "outputs": [
    {
     "data": {
      "text/plain": [
       "1672665411152"
      ]
     },
     "execution_count": 65,
     "metadata": {},
     "output_type": "execute_result"
    }
   ],
   "source": [
    "id(res6)"
   ]
  },
  {
   "cell_type": "code",
   "execution_count": 66,
   "id": "1a758d2c-3b07-4fc1-8532-5b475229d030",
   "metadata": {},
   "outputs": [
    {
     "data": {
      "text/plain": [
       "1672674418704"
      ]
     },
     "execution_count": 66,
     "metadata": {},
     "output_type": "execute_result"
    }
   ],
   "source": [
    "id(res8)"
   ]
  },
  {
   "cell_type": "code",
   "execution_count": 67,
   "id": "2c9a99de-bfda-41eb-870e-be6f7f07b9d0",
   "metadata": {},
   "outputs": [
    {
     "data": {
      "text/plain": [
       "1672674417744"
      ]
     },
     "execution_count": 67,
     "metadata": {},
     "output_type": "execute_result"
    }
   ],
   "source": [
    "id(res7)"
   ]
  },
  {
   "cell_type": "code",
   "execution_count": 68,
   "id": "ddb0bcd7-d976-42d4-a82c-10f514ea5eda",
   "metadata": {},
   "outputs": [
    {
     "data": {
      "text/plain": [
       "1672665411152"
      ]
     },
     "execution_count": 68,
     "metadata": {},
     "output_type": "execute_result"
    }
   ],
   "source": [
    "id(res6)"
   ]
  },
  {
   "cell_type": "code",
   "execution_count": 69,
   "id": "608d1372-a331-4d7b-8609-e1de24270399",
   "metadata": {},
   "outputs": [
    {
     "data": {
      "text/plain": [
       "1672674417552"
      ]
     },
     "execution_count": 69,
     "metadata": {},
     "output_type": "execute_result"
    }
   ],
   "source": [
    "id(res5)"
   ]
  },
  {
   "cell_type": "code",
   "execution_count": 70,
   "id": "95469ad6-33c2-4fe2-a3de-524314ead5cd",
   "metadata": {},
   "outputs": [
    {
     "data": {
      "text/plain": [
       "1672674415440"
      ]
     },
     "execution_count": 70,
     "metadata": {},
     "output_type": "execute_result"
    }
   ],
   "source": [
    "id(res4)"
   ]
  },
  {
   "cell_type": "code",
   "execution_count": 71,
   "id": "2153b543-f4fe-4ed9-836b-e7ae64b12575",
   "metadata": {},
   "outputs": [
    {
     "data": {
      "text/plain": [
       "1672674416784"
      ]
     },
     "execution_count": 71,
     "metadata": {},
     "output_type": "execute_result"
    }
   ],
   "source": [
    "id(res3)"
   ]
  },
  {
   "cell_type": "code",
   "execution_count": 72,
   "id": "37bf11ba-0fdd-428f-9a85-095e526ee77a",
   "metadata": {},
   "outputs": [
    {
     "name": "stdout",
     "output_type": "stream",
     "text": [
      "[[1 2 3]\n",
      " [4 5 6]]\n"
     ]
    }
   ],
   "source": [
    "#Create a 2d Array \n",
    "arr_2d = np.array([[1,2,3], [4,5,6]])\n",
    "print(arr_2d)"
   ]
  },
  {
   "cell_type": "code",
   "execution_count": 73,
   "id": "8354a550-4268-406c-806a-e4d5240fce82",
   "metadata": {},
   "outputs": [],
   "source": [
    "flat1 = arr_2d.flatten()"
   ]
  },
  {
   "cell_type": "code",
   "execution_count": 74,
   "id": "9831fa24-0388-46fb-90c8-cb21bd446a20",
   "metadata": {},
   "outputs": [
    {
     "data": {
      "text/plain": [
       "array([1, 2, 3, 4, 5, 6])"
      ]
     },
     "execution_count": 74,
     "metadata": {},
     "output_type": "execute_result"
    }
   ],
   "source": [
    "flat1"
   ]
  },
  {
   "cell_type": "code",
   "execution_count": 75,
   "id": "c9884f96-4df4-4d21-a4cd-177f15b007f1",
   "metadata": {},
   "outputs": [],
   "source": [
    "flat1[0] = 100"
   ]
  },
  {
   "cell_type": "code",
   "execution_count": 76,
   "id": "f9257be0-e1b6-41e7-8f48-7e902a7d8ce4",
   "metadata": {},
   "outputs": [
    {
     "data": {
      "text/plain": [
       "array([[1, 2, 3],\n",
       "       [4, 5, 6]])"
      ]
     },
     "execution_count": 76,
     "metadata": {},
     "output_type": "execute_result"
    }
   ],
   "source": [
    "arr_2d"
   ]
  },
  {
   "cell_type": "code",
   "execution_count": 77,
   "id": "c2fe2549-45ad-4cab-bb0f-65ecb19ca888",
   "metadata": {},
   "outputs": [],
   "source": [
    "arr_2d[0][0] = 999"
   ]
  },
  {
   "cell_type": "code",
   "execution_count": 78,
   "id": "5fac03da-d89b-407c-a03e-25fba4d55553",
   "metadata": {},
   "outputs": [
    {
     "data": {
      "text/plain": [
       "array([[999,   2,   3],\n",
       "       [  4,   5,   6]])"
      ]
     },
     "execution_count": 78,
     "metadata": {},
     "output_type": "execute_result"
    }
   ],
   "source": [
    "arr_2d"
   ]
  },
  {
   "cell_type": "code",
   "execution_count": 79,
   "id": "d8dea45f-6ee8-45ad-ab8f-f1f39b51301e",
   "metadata": {},
   "outputs": [
    {
     "data": {
      "text/plain": [
       "array([100,   2,   3,   4,   5,   6])"
      ]
     },
     "execution_count": 79,
     "metadata": {},
     "output_type": "execute_result"
    }
   ],
   "source": [
    "flat1"
   ]
  },
  {
   "cell_type": "markdown",
   "id": "63ab90c9-01bc-456f-b090-58605b25d35c",
   "metadata": {},
   "source": [
    "# ravel()"
   ]
  },
  {
   "cell_type": "code",
   "execution_count": 80,
   "id": "c4c9773e-2929-4452-b354-14738bc0a341",
   "metadata": {},
   "outputs": [],
   "source": [
    "#ravel like flatten converts multi-d arrays to 1 D array but returns a view"
   ]
  },
  {
   "cell_type": "code",
   "execution_count": 81,
   "id": "983094b5-3bf6-44e8-9e6b-59d721604658",
   "metadata": {},
   "outputs": [
    {
     "data": {
      "text/plain": [
       "array([[999,   2,   3],\n",
       "       [  4,   5,   6]])"
      ]
     },
     "execution_count": 81,
     "metadata": {},
     "output_type": "execute_result"
    }
   ],
   "source": [
    "arr_2d"
   ]
  },
  {
   "cell_type": "code",
   "execution_count": 82,
   "id": "dfcd9f30-196e-408b-b52f-cdde2f5d533f",
   "metadata": {},
   "outputs": [],
   "source": [
    "arr_2d[0][0] = 1"
   ]
  },
  {
   "cell_type": "code",
   "execution_count": 83,
   "id": "14d4a5f3-2706-4edf-9a35-d985cc9fa78e",
   "metadata": {},
   "outputs": [
    {
     "data": {
      "text/plain": [
       "array([[1, 2, 3],\n",
       "       [4, 5, 6]])"
      ]
     },
     "execution_count": 83,
     "metadata": {},
     "output_type": "execute_result"
    }
   ],
   "source": [
    "arr_2d"
   ]
  },
  {
   "cell_type": "code",
   "execution_count": 84,
   "id": "eb0ebf00-3ecc-4a16-916b-c9cc34ee6e5f",
   "metadata": {},
   "outputs": [],
   "source": [
    "raveled = arr_2d.ravel()"
   ]
  },
  {
   "cell_type": "code",
   "execution_count": 85,
   "id": "72fac7dd-382f-4168-8709-23d5826229e5",
   "metadata": {},
   "outputs": [
    {
     "data": {
      "text/plain": [
       "array([1, 2, 3, 4, 5, 6])"
      ]
     },
     "execution_count": 85,
     "metadata": {},
     "output_type": "execute_result"
    }
   ],
   "source": [
    "raveled"
   ]
  },
  {
   "cell_type": "code",
   "execution_count": 86,
   "id": "1bd1e2eb-16d7-4a7e-beb4-353f129f59f1",
   "metadata": {},
   "outputs": [],
   "source": [
    "raveled[0] = 49494"
   ]
  },
  {
   "cell_type": "code",
   "execution_count": 87,
   "id": "29f963a3-5426-478e-8e22-04217abdda6f",
   "metadata": {},
   "outputs": [
    {
     "data": {
      "text/plain": [
       "array([[49494,     2,     3],\n",
       "       [    4,     5,     6]])"
      ]
     },
     "execution_count": 87,
     "metadata": {},
     "output_type": "execute_result"
    }
   ],
   "source": [
    "arr_2d"
   ]
  },
  {
   "cell_type": "code",
   "execution_count": 88,
   "id": "07f89fb0-6b48-43f6-bb82-1eb11a6e3151",
   "metadata": {},
   "outputs": [],
   "source": [
    "# Modifying raveled affects original when it's a view"
   ]
  },
  {
   "cell_type": "code",
   "execution_count": 89,
   "id": "d6a8f128-75ef-4d3e-af9d-919d12923fe1",
   "metadata": {},
   "outputs": [
    {
     "name": "stdout",
     "output_type": "stream",
     "text": [
      "Row-major ravel: [49494     2     3     4     5     6]\n",
      "Column-major ravel: [49494     4     2     5     3     6]\n"
     ]
    }
   ],
   "source": [
    "print(\"Row-major ravel:\", arr_2d.ravel('C'))\n",
    "print(\"Column-major ravel:\", arr_2d.ravel('F'))"
   ]
  },
  {
   "cell_type": "code",
   "execution_count": 90,
   "id": "b010bcdc-6856-4be0-b785-106dd37cfc21",
   "metadata": {},
   "outputs": [
    {
     "name": "stdout",
     "output_type": "stream",
     "text": [
      "Is C-contiguous: True\n",
      "Is non-contiguous array C-contiguous: False\n"
     ]
    }
   ],
   "source": [
    "#Memory considerations\n",
    "# \n",
    "# Check if array is C-contiguous\n",
    "print(\"Is C-contiguous:\", arr_2d.flags['C_CONTIGUOUS'])\n",
    "\n",
    "# Non-contiguous example\n",
    "arr_non_contig = arr_2d[:, ::2]  # Take every other column\n",
    "print(\"Is non-contiguous array C-contiguous:\", arr_non_contig.flags['C_CONTIGUOUS'])"
   ]
  },
  {
   "cell_type": "markdown",
   "id": "ee99fbbb-1399-4af6-a5a2-e84134d1fb58",
   "metadata": {},
   "source": [
    "# Section 07 02 Swapping and Transposing"
   ]
  },
  {
   "cell_type": "markdown",
   "id": "ccafa2d4-089e-405a-a2fe-6ea741bc05cf",
   "metadata": {},
   "source": [
    "### Transposing"
   ]
  },
  {
   "cell_type": "code",
   "execution_count": 91,
   "id": "07db9e85-e6dc-4108-9543-b3a53dca1b3c",
   "metadata": {},
   "outputs": [],
   "source": [
    "import numpy as np"
   ]
  },
  {
   "cell_type": "code",
   "execution_count": 92,
   "id": "24f40330-af92-430a-8488-3cdad255fc23",
   "metadata": {},
   "outputs": [],
   "source": [
    "arr = np.array([[1,2,3], [4,5,6]]) "
   ]
  },
  {
   "cell_type": "code",
   "execution_count": 93,
   "id": "5c28213c-9b70-47c4-b41d-9ec85307c8ac",
   "metadata": {},
   "outputs": [
    {
     "data": {
      "text/plain": [
       "array([[1, 2, 3],\n",
       "       [4, 5, 6]])"
      ]
     },
     "execution_count": 93,
     "metadata": {},
     "output_type": "execute_result"
    }
   ],
   "source": [
    "arr"
   ]
  },
  {
   "cell_type": "code",
   "execution_count": 95,
   "id": "180a8b7f-d655-4874-8c54-1023b9b11619",
   "metadata": {},
   "outputs": [
    {
     "name": "stdout",
     "output_type": "stream",
     "text": [
      "[[1 2 3]\n",
      " [4 5 6]]\n"
     ]
    }
   ],
   "source": [
    "print(arr)"
   ]
  },
  {
   "cell_type": "code",
   "execution_count": 96,
   "id": "31127533-b872-4638-992d-abe808905426",
   "metadata": {},
   "outputs": [],
   "source": [
    "trans = arr.T   "
   ]
  },
  {
   "cell_type": "code",
   "execution_count": 97,
   "id": "1fed18a4-709b-4d6c-9b82-96d69514700a",
   "metadata": {},
   "outputs": [
    {
     "data": {
      "text/plain": [
       "array([[1, 4],\n",
       "       [2, 5],\n",
       "       [3, 6]])"
      ]
     },
     "execution_count": 97,
     "metadata": {},
     "output_type": "execute_result"
    }
   ],
   "source": [
    "trans"
   ]
  },
  {
   "cell_type": "code",
   "execution_count": 98,
   "id": "6deb55a7-820d-4bd0-9dcd-87c80723d334",
   "metadata": {},
   "outputs": [
    {
     "data": {
      "text/plain": [
       "(3, 2)"
      ]
     },
     "execution_count": 98,
     "metadata": {},
     "output_type": "execute_result"
    }
   ],
   "source": [
    "trans.shape"
   ]
  },
  {
   "cell_type": "code",
   "execution_count": 99,
   "id": "f7c0b0eb-dac1-490f-b426-c0137acd67ee",
   "metadata": {},
   "outputs": [
    {
     "data": {
      "text/plain": [
       "(2, 3)"
      ]
     },
     "execution_count": 99,
     "metadata": {},
     "output_type": "execute_result"
    }
   ],
   "source": [
    "arr.shape"
   ]
  },
  {
   "cell_type": "code",
   "execution_count": 100,
   "id": "9ef741d1-fdda-4467-8cca-c144b2676fd1",
   "metadata": {},
   "outputs": [],
   "source": [
    "transposed = np.transpose(arr)"
   ]
  },
  {
   "cell_type": "code",
   "execution_count": 101,
   "id": "b2c1492e-4c12-4317-8073-c52410ae231f",
   "metadata": {},
   "outputs": [
    {
     "data": {
      "text/plain": [
       "array([[1, 4],\n",
       "       [2, 5],\n",
       "       [3, 6]])"
      ]
     },
     "execution_count": 101,
     "metadata": {},
     "output_type": "execute_result"
    }
   ],
   "source": [
    "transposed"
   ]
  },
  {
   "cell_type": "code",
   "execution_count": 102,
   "id": "8e850919-4955-48a2-9e24-bc97aaf3a909",
   "metadata": {},
   "outputs": [],
   "source": [
    "#exatly the same as .T "
   ]
  },
  {
   "cell_type": "code",
   "execution_count": 104,
   "id": "0ee71ea1-4e3e-4287-bf97-df8ecb4746b3",
   "metadata": {},
   "outputs": [],
   "source": [
    "transposed[0][0] = 100"
   ]
  },
  {
   "cell_type": "code",
   "execution_count": 105,
   "id": "5fc62bb8-93b2-413d-bcc3-b6fa3cea2568",
   "metadata": {},
   "outputs": [
    {
     "data": {
      "text/plain": [
       "array([[100,   4],\n",
       "       [  2,   5],\n",
       "       [  3,   6]])"
      ]
     },
     "execution_count": 105,
     "metadata": {},
     "output_type": "execute_result"
    }
   ],
   "source": [
    "transposed"
   ]
  },
  {
   "cell_type": "code",
   "execution_count": 106,
   "id": "67f50fea-9652-4edc-8e4e-53e30d2d5228",
   "metadata": {},
   "outputs": [
    {
     "data": {
      "text/plain": [
       "array([[100,   4],\n",
       "       [  2,   5],\n",
       "       [  3,   6]])"
      ]
     },
     "execution_count": 106,
     "metadata": {},
     "output_type": "execute_result"
    }
   ],
   "source": [
    "trans"
   ]
  },
  {
   "cell_type": "code",
   "execution_count": 107,
   "id": "4a236d18-1fda-4974-9570-ec389ac522e4",
   "metadata": {},
   "outputs": [
    {
     "data": {
      "text/plain": [
       "array([[100,   2,   3],\n",
       "       [  4,   5,   6]])"
      ]
     },
     "execution_count": 107,
     "metadata": {},
     "output_type": "execute_result"
    }
   ],
   "source": [
    "arr"
   ]
  },
  {
   "cell_type": "code",
   "execution_count": 113,
   "id": "2661ac1d-d50a-499b-a4b7-0686d2fe7f5d",
   "metadata": {},
   "outputs": [],
   "source": [
    "arr_md = np.random.randint(1, 100, (3,4,5))"
   ]
  },
  {
   "cell_type": "code",
   "execution_count": 114,
   "id": "63b59b1c-fbba-4208-9e3e-fa82747512ee",
   "metadata": {},
   "outputs": [
    {
     "data": {
      "text/plain": [
       "array([[[52, 49, 13, 43, 56],\n",
       "        [45, 36, 18, 83, 19],\n",
       "        [96, 94, 61, 69, 25],\n",
       "        [86, 20, 92, 55, 10]],\n",
       "\n",
       "       [[92, 43, 46,  9, 35],\n",
       "        [27,  4, 99, 82, 44],\n",
       "        [23, 65, 39, 11, 94],\n",
       "        [20, 13, 58, 94, 99]],\n",
       "\n",
       "       [[96, 64, 86, 47, 55],\n",
       "        [55, 29, 81, 58, 26],\n",
       "        [49, 95,  8,  8, 16],\n",
       "        [39, 85, 54,  3, 44]]])"
      ]
     },
     "execution_count": 114,
     "metadata": {},
     "output_type": "execute_result"
    }
   ],
   "source": [
    "arr_md"
   ]
  },
  {
   "cell_type": "code",
   "execution_count": 115,
   "id": "1e757e77-bb45-45c8-9727-8ba51b3f7d16",
   "metadata": {},
   "outputs": [],
   "source": [
    "tr_md = arr_md.T"
   ]
  },
  {
   "cell_type": "code",
   "execution_count": 116,
   "id": "563f3389-998b-4373-8685-8cdf9d5db00f",
   "metadata": {},
   "outputs": [
    {
     "data": {
      "text/plain": [
       "array([[[52, 92, 96],\n",
       "        [45, 27, 55],\n",
       "        [96, 23, 49],\n",
       "        [86, 20, 39]],\n",
       "\n",
       "       [[49, 43, 64],\n",
       "        [36,  4, 29],\n",
       "        [94, 65, 95],\n",
       "        [20, 13, 85]],\n",
       "\n",
       "       [[13, 46, 86],\n",
       "        [18, 99, 81],\n",
       "        [61, 39,  8],\n",
       "        [92, 58, 54]],\n",
       "\n",
       "       [[43,  9, 47],\n",
       "        [83, 82, 58],\n",
       "        [69, 11,  8],\n",
       "        [55, 94,  3]],\n",
       "\n",
       "       [[56, 35, 55],\n",
       "        [19, 44, 26],\n",
       "        [25, 94, 16],\n",
       "        [10, 99, 44]]])"
      ]
     },
     "execution_count": 116,
     "metadata": {},
     "output_type": "execute_result"
    }
   ],
   "source": [
    "tr_md"
   ]
  },
  {
   "cell_type": "code",
   "execution_count": 117,
   "id": "8803f556-351b-41e1-9731-d087af63f846",
   "metadata": {},
   "outputs": [],
   "source": [
    "arr = np.random.rand(2,3,4)"
   ]
  },
  {
   "cell_type": "code",
   "execution_count": 118,
   "id": "a2c503ac-ea76-464b-bf4a-715c4944b5d5",
   "metadata": {},
   "outputs": [
    {
     "data": {
      "text/plain": [
       "array([[[0.0103938 , 0.00418215, 0.45621538, 0.68316065],\n",
       "        [0.95584031, 0.66599149, 0.51783909, 0.3014665 ],\n",
       "        [0.1968628 , 0.45037199, 0.36166954, 0.76053469]],\n",
       "\n",
       "       [[0.19787094, 0.44413176, 0.73379152, 0.27023447],\n",
       "        [0.50353636, 0.71589603, 0.5077129 , 0.72697201],\n",
       "        [0.749101  , 0.34237169, 0.40496127, 0.61601537]]])"
      ]
     },
     "execution_count": 118,
     "metadata": {},
     "output_type": "execute_result"
    }
   ],
   "source": [
    "arr"
   ]
  },
  {
   "cell_type": "code",
   "execution_count": 119,
   "id": "6401d536-9d10-472c-b264-74c8c33864a1",
   "metadata": {},
   "outputs": [],
   "source": [
    "custom_tra = np.transpose(arr, (1,2,0))"
   ]
  },
  {
   "cell_type": "code",
   "execution_count": 120,
   "id": "1b4cda3b-f925-40a3-84eb-4836d28f4b98",
   "metadata": {},
   "outputs": [
    {
     "data": {
      "text/plain": [
       "array([[[0.0103938 , 0.19787094],\n",
       "        [0.00418215, 0.44413176],\n",
       "        [0.45621538, 0.73379152],\n",
       "        [0.68316065, 0.27023447]],\n",
       "\n",
       "       [[0.95584031, 0.50353636],\n",
       "        [0.66599149, 0.71589603],\n",
       "        [0.51783909, 0.5077129 ],\n",
       "        [0.3014665 , 0.72697201]],\n",
       "\n",
       "       [[0.1968628 , 0.749101  ],\n",
       "        [0.45037199, 0.34237169],\n",
       "        [0.36166954, 0.40496127],\n",
       "        [0.76053469, 0.61601537]]])"
      ]
     },
     "execution_count": 120,
     "metadata": {},
     "output_type": "execute_result"
    }
   ],
   "source": [
    "custom_tra"
   ]
  },
  {
   "cell_type": "code",
   "execution_count": 134,
   "id": "f194588c-70cd-4e50-a50e-2a15eb196b6f",
   "metadata": {},
   "outputs": [],
   "source": [
    "arr = np.arange(24).reshape(2,3,4)"
   ]
  },
  {
   "cell_type": "code",
   "execution_count": 136,
   "id": "b39c8289-a5c8-4e87-942c-83c2a6939c04",
   "metadata": {},
   "outputs": [
    {
     "data": {
      "text/plain": [
       "array([[[ 0,  1,  2,  3],\n",
       "        [ 4,  5,  6,  7],\n",
       "        [ 8,  9, 10, 11]],\n",
       "\n",
       "       [[12, 13, 14, 15],\n",
       "        [16, 17, 18, 19],\n",
       "        [20, 21, 22, 23]]])"
      ]
     },
     "execution_count": 136,
     "metadata": {},
     "output_type": "execute_result"
    }
   ],
   "source": [
    "arr"
   ]
  },
  {
   "cell_type": "code",
   "execution_count": 137,
   "id": "5f125245-93ea-4b71-a6cc-7e15243167b9",
   "metadata": {},
   "outputs": [],
   "source": [
    "cu_tr = np.transpose(arr, (1,2,0))"
   ]
  },
  {
   "cell_type": "code",
   "execution_count": 138,
   "id": "043473b7-6c5e-4b30-a0fe-a06fa31a0d13",
   "metadata": {},
   "outputs": [
    {
     "data": {
      "text/plain": [
       "array([[[ 0, 12],\n",
       "        [ 1, 13],\n",
       "        [ 2, 14],\n",
       "        [ 3, 15]],\n",
       "\n",
       "       [[ 4, 16],\n",
       "        [ 5, 17],\n",
       "        [ 6, 18],\n",
       "        [ 7, 19]],\n",
       "\n",
       "       [[ 8, 20],\n",
       "        [ 9, 21],\n",
       "        [10, 22],\n",
       "        [11, 23]]])"
      ]
     },
     "execution_count": 138,
     "metadata": {},
     "output_type": "execute_result"
    }
   ],
   "source": [
    "cu_tr"
   ]
  },
  {
   "cell_type": "code",
   "execution_count": 139,
   "id": "d7cd555f-d14a-4f26-ae13-283c3318a5d6",
   "metadata": {},
   "outputs": [
    {
     "data": {
      "text/plain": [
       "3"
      ]
     },
     "execution_count": 139,
     "metadata": {},
     "output_type": "execute_result"
    }
   ],
   "source": [
    "arr.ndim"
   ]
  },
  {
   "cell_type": "code",
   "execution_count": 142,
   "id": "264de3c5-5852-430b-8da1-574e63fe86cb",
   "metadata": {},
   "outputs": [
    {
     "data": {
      "text/plain": [
       "2"
      ]
     },
     "execution_count": 142,
     "metadata": {},
     "output_type": "execute_result"
    }
   ],
   "source": [
    "arr_2d.ndim"
   ]
  },
  {
   "cell_type": "code",
   "execution_count": 144,
   "id": "b6b341a3-6ba6-4ea4-b61c-de0b0eab4142",
   "metadata": {},
   "outputs": [
    {
     "data": {
      "text/plain": [
       "array([[49494,     4],\n",
       "       [    2,     5],\n",
       "       [    3,     6]])"
      ]
     },
     "execution_count": 144,
     "metadata": {},
     "output_type": "execute_result"
    }
   ],
   "source": [
    "arr_2d.transpose()"
   ]
  },
  {
   "cell_type": "markdown",
   "id": "978e2648-3290-418f-869e-ceb5518be47e",
   "metadata": {},
   "source": [
    "### Numpy Swapping"
   ]
  },
  {
   "cell_type": "code",
   "execution_count": 145,
   "id": "d21f6e07-3fc4-449b-9263-66be96ba5bf7",
   "metadata": {},
   "outputs": [],
   "source": [
    "import numpy as np"
   ]
  },
  {
   "cell_type": "code",
   "execution_count": 147,
   "id": "e833ee31-aacf-4396-93e6-3031ed9c48e8",
   "metadata": {},
   "outputs": [
    {
     "data": {
      "text/plain": [
       "array([10, 20, 30, 40])"
      ]
     },
     "execution_count": 147,
     "metadata": {},
     "output_type": "execute_result"
    }
   ],
   "source": [
    "arr = np.array([10,20,30,40])\n",
    "arr"
   ]
  },
  {
   "cell_type": "code",
   "execution_count": 148,
   "id": "4f7a6038-d425-445d-8b12-11e0413d42da",
   "metadata": {},
   "outputs": [
    {
     "data": {
      "text/plain": [
       "array([10, 40, 30, 20])"
      ]
     },
     "execution_count": 148,
     "metadata": {},
     "output_type": "execute_result"
    }
   ],
   "source": [
    "arr[1], arr[3] = arr[3], arr[1]\n",
    "arr"
   ]
  },
  {
   "cell_type": "code",
   "execution_count": 149,
   "id": "c7e75981-2fb2-4977-8832-7d5be01072f0",
   "metadata": {},
   "outputs": [],
   "source": [
    "arr = np.array([[1,2,3], \n",
    "                [4,5,6],\n",
    "                [7,8,9]])\n",
    "#Swap row 0 and 2\n",
    "arr[[0,2]] = arr[[2,0]]"
   ]
  },
  {
   "cell_type": "code",
   "execution_count": 150,
   "id": "f6913bad-8572-475b-934f-085c33c92cf1",
   "metadata": {},
   "outputs": [
    {
     "data": {
      "text/plain": [
       "array([[7, 8, 9],\n",
       "       [4, 5, 6],\n",
       "       [1, 2, 3]])"
      ]
     },
     "execution_count": 150,
     "metadata": {},
     "output_type": "execute_result"
    }
   ],
   "source": [
    "arr"
   ]
  },
  {
   "cell_type": "code",
   "execution_count": 151,
   "id": "2cbf1421-4096-46af-866a-3c34198d458d",
   "metadata": {},
   "outputs": [],
   "source": [
    "#Swap columns"
   ]
  },
  {
   "cell_type": "code",
   "execution_count": 152,
   "id": "120824b7-f081-48a3-95f6-105b04da555b",
   "metadata": {},
   "outputs": [],
   "source": [
    "arr[:, [1,2]] = arr[:, [2,1]]"
   ]
  },
  {
   "cell_type": "code",
   "execution_count": 153,
   "id": "3cdf4007-905d-4b44-b766-86f7541e1bf0",
   "metadata": {},
   "outputs": [
    {
     "data": {
      "text/plain": [
       "array([[7, 9, 8],\n",
       "       [4, 6, 5],\n",
       "       [1, 3, 2]])"
      ]
     },
     "execution_count": 153,
     "metadata": {},
     "output_type": "execute_result"
    }
   ],
   "source": [
    "arr"
   ]
  },
  {
   "cell_type": "code",
   "execution_count": 156,
   "id": "4c6e579d-2ccd-4458-ae47-f4cd9c0c9cac",
   "metadata": {},
   "outputs": [
    {
     "name": "stdout",
     "output_type": "stream",
     "text": [
      "[[[0 1]\n",
      "  [2 3]]\n",
      "\n",
      " [[4 5]\n",
      "  [6 7]]]\n"
     ]
    }
   ],
   "source": [
    "#Swap axes\n",
    "arr = np.arange(8).reshape(2,2,2) \n",
    "print(arr)"
   ]
  },
  {
   "cell_type": "code",
   "execution_count": 157,
   "id": "9960aecf-0593-4fc3-baee-bb66a078ecfd",
   "metadata": {},
   "outputs": [
    {
     "name": "stdout",
     "output_type": "stream",
     "text": [
      "[[[0 1]\n",
      "  [4 5]]\n",
      "\n",
      " [[2 3]\n",
      "  [6 7]]]\n"
     ]
    }
   ],
   "source": [
    "swapped = np.swapaxes(arr, 0, 1)\n",
    "print(swapped)"
   ]
  },
  {
   "cell_type": "markdown",
   "id": "3e48227d-90ec-459d-b0c4-47b530df5890",
   "metadata": {},
   "source": [
    "# Section 07 03 Concatenation"
   ]
  },
  {
   "cell_type": "markdown",
   "id": "36f40dfb-72cc-407d-88ac-2d8d0f9ad4c6",
   "metadata": {},
   "source": [
    "#### Basic Concatenation (np.concatenate)"
   ]
  },
  {
   "cell_type": "code",
   "execution_count": 158,
   "id": "2ffa0a3e-2849-424f-bd9d-10c3d6240f7e",
   "metadata": {},
   "outputs": [],
   "source": [
    "#1.1 Joining 1D Arrays"
   ]
  },
  {
   "cell_type": "code",
   "execution_count": 159,
   "id": "4e155d8b-baa5-474c-9386-eb1d14a668ab",
   "metadata": {},
   "outputs": [],
   "source": [
    "import numpy as np"
   ]
  },
  {
   "cell_type": "code",
   "execution_count": 160,
   "id": "34f7b5ff-39b2-4d48-a8fb-33b515822bf4",
   "metadata": {},
   "outputs": [
    {
     "name": "stdout",
     "output_type": "stream",
     "text": [
      "[1 2 3 4 5 6]\n"
     ]
    }
   ],
   "source": [
    "a = np.array([1,2,3])\n",
    "b = np.array([4,5,6])\n",
    "#join as is\n",
    "result = np.concatenate((a,b))\n",
    "print(result)\n"
   ]
  },
  {
   "cell_type": "code",
   "execution_count": 161,
   "id": "5c785cbc-ce3c-4693-8ecf-7d1e4677c171",
   "metadata": {},
   "outputs": [
    {
     "name": "stdout",
     "output_type": "stream",
     "text": [
      "[1 2 3 4 5 6]\n"
     ]
    }
   ],
   "source": [
    "result = np.concatenate((a,b), axis=0)\n",
    "print(result)"
   ]
  },
  {
   "cell_type": "code",
   "execution_count": 162,
   "id": "26743bc1-413d-4339-b183-63e57fa96d32",
   "metadata": {},
   "outputs": [
    {
     "ename": "AxisError",
     "evalue": "axis 1 is out of bounds for array of dimension 1",
     "output_type": "error",
     "traceback": [
      "\u001b[1;31m---------------------------------------------------------------------------\u001b[0m",
      "\u001b[1;31mAxisError\u001b[0m                                 Traceback (most recent call last)",
      "Cell \u001b[1;32mIn[162], line 1\u001b[0m\n\u001b[1;32m----> 1\u001b[0m result \u001b[38;5;241m=\u001b[39m \u001b[43mnp\u001b[49m\u001b[38;5;241;43m.\u001b[39;49m\u001b[43mconcatenate\u001b[49m\u001b[43m(\u001b[49m\u001b[43m(\u001b[49m\u001b[43ma\u001b[49m\u001b[43m,\u001b[49m\u001b[43mb\u001b[49m\u001b[43m)\u001b[49m\u001b[43m,\u001b[49m\u001b[43m \u001b[49m\u001b[43maxis\u001b[49m\u001b[38;5;241;43m=\u001b[39;49m\u001b[38;5;241;43m1\u001b[39;49m\u001b[43m)\u001b[49m\n\u001b[0;32m      2\u001b[0m \u001b[38;5;28mprint\u001b[39m(result)\n",
      "\u001b[1;31mAxisError\u001b[0m: axis 1 is out of bounds for array of dimension 1"
     ]
    }
   ],
   "source": [
    "result = np.concatenate((a,b), axis=1)\n",
    "print(result)"
   ]
  },
  {
   "cell_type": "code",
   "execution_count": 163,
   "id": "dff70d28-11f1-4a7c-8fdc-5294dd917bd5",
   "metadata": {},
   "outputs": [
    {
     "data": {
      "text/plain": [
       "1"
      ]
     },
     "execution_count": 163,
     "metadata": {},
     "output_type": "execute_result"
    }
   ],
   "source": [
    "result.ndim"
   ]
  },
  {
   "cell_type": "code",
   "execution_count": 164,
   "id": "1dece5ff-3420-4c95-9452-b86c2b930819",
   "metadata": {},
   "outputs": [
    {
     "data": {
      "text/plain": [
       "1"
      ]
     },
     "execution_count": 164,
     "metadata": {},
     "output_type": "execute_result"
    }
   ],
   "source": [
    "a.ndim"
   ]
  },
  {
   "cell_type": "code",
   "execution_count": 166,
   "id": "28820393-56e2-46f9-869e-1d6a88959155",
   "metadata": {},
   "outputs": [
    {
     "name": "stdout",
     "output_type": "stream",
     "text": [
      "[[1 2]\n",
      " [3 4]\n",
      " [5 6]]\n"
     ]
    }
   ],
   "source": [
    "#Joining 2D arrays\n",
    "arr1 = np.array([[1,2], [3,4]])\n",
    "arr2 = np.array([[5,6]])\n",
    "\n",
    "#Vertical stacking (axis=0)  similar to inserting a row in a table\n",
    "v_stack = np.concatenate((arr1, arr2), axis=0)\n",
    "print(v_stack)"
   ]
  },
  {
   "cell_type": "code",
   "execution_count": 167,
   "id": "8df58adf-1602-487c-90db-3a1e6928a42b",
   "metadata": {},
   "outputs": [
    {
     "ename": "ValueError",
     "evalue": "all the input array dimensions except for the concatenation axis must match exactly, but along dimension 0, the array at index 0 has size 2 and the array at index 1 has size 1",
     "output_type": "error",
     "traceback": [
      "\u001b[1;31m---------------------------------------------------------------------------\u001b[0m",
      "\u001b[1;31mValueError\u001b[0m                                Traceback (most recent call last)",
      "Cell \u001b[1;32mIn[167], line 1\u001b[0m\n\u001b[1;32m----> 1\u001b[0m v_stack2 \u001b[38;5;241m=\u001b[39m \u001b[43mnp\u001b[49m\u001b[38;5;241;43m.\u001b[39;49m\u001b[43mconcatenate\u001b[49m\u001b[43m(\u001b[49m\u001b[43m(\u001b[49m\u001b[43marr1\u001b[49m\u001b[43m,\u001b[49m\u001b[43m \u001b[49m\u001b[43marr2\u001b[49m\u001b[43m)\u001b[49m\u001b[43m,\u001b[49m\u001b[43m \u001b[49m\u001b[43maxis\u001b[49m\u001b[38;5;241;43m=\u001b[39;49m\u001b[38;5;241;43m1\u001b[39;49m\u001b[43m)\u001b[49m\n\u001b[0;32m      2\u001b[0m \u001b[38;5;28mprint\u001b[39m(v_stack2)\n",
      "\u001b[1;31mValueError\u001b[0m: all the input array dimensions except for the concatenation axis must match exactly, but along dimension 0, the array at index 0 has size 2 and the array at index 1 has size 1"
     ]
    }
   ],
   "source": [
    "v_stack2 = np.concatenate((arr1, arr2), axis=1)\n",
    "print(v_stack2)"
   ]
  },
  {
   "cell_type": "code",
   "execution_count": 176,
   "id": "96ecade9-a044-49bc-bee2-9809b3914e61",
   "metadata": {},
   "outputs": [
    {
     "name": "stdout",
     "output_type": "stream",
     "text": [
      "[[1 2 5 6]\n",
      " [3 4 7 8]]\n"
     ]
    }
   ],
   "source": [
    "arr1 = np.array([[1,2], [3,4]])\n",
    "arr2 = np.array([[5,6], [7,8]])\n",
    "h_stack2 = np.concatenate((arr1, arr2), axis=1)\n",
    "print(h_stack2)"
   ]
  },
  {
   "cell_type": "code",
   "execution_count": 177,
   "id": "e3e91870-c4b9-4f37-be71-0d458dcbffec",
   "metadata": {},
   "outputs": [
    {
     "name": "stdout",
     "output_type": "stream",
     "text": [
      "[[ 1  2]\n",
      " [ 3  4]\n",
      " [ 5  6]\n",
      " [ 7  8]\n",
      " [ 9 10]]\n"
     ]
    }
   ],
   "source": [
    "arr1 = np.array([[1,2], [3,4]])\n",
    "arr2 = np.array([[5,6], [7,8], [9, 10]])\n",
    "v_stack2 = np.concatenate((arr1, arr2), axis=0)\n",
    "print(v_stack2)"
   ]
  },
  {
   "cell_type": "code",
   "execution_count": 179,
   "id": "aa084ca8-5aa3-474c-ae48-6c39d59de122",
   "metadata": {},
   "outputs": [
    {
     "name": "stdout",
     "output_type": "stream",
     "text": [
      "[[1 2 7]\n",
      " [3 4 8]]\n"
     ]
    }
   ],
   "source": [
    "#Horizontal stacking (axis = 1)\n",
    "arr3 = np.array([[7], [8]])\n",
    "h_stack = np.concatenate((arr1, arr3), axis=1)\n",
    "print(h_stack)"
   ]
  },
  {
   "cell_type": "code",
   "execution_count": 180,
   "id": "9fec1368-7b05-4235-bf2c-cf9922e80156",
   "metadata": {},
   "outputs": [],
   "source": [
    "#Axis 0 means appending rows to the table (spreadsheet)\n",
    "#Axis 1 means appending columns to the table (spreadsheet)"
   ]
  },
  {
   "cell_type": "code",
   "execution_count": 181,
   "id": "6cb286fd-76f4-41be-8015-69308cc67589",
   "metadata": {},
   "outputs": [
    {
     "name": "stdout",
     "output_type": "stream",
     "text": [
      "[[ 1  2  7  9 10]\n",
      " [ 3  4  8 10 10]]\n"
     ]
    }
   ],
   "source": [
    "#Horizontal Stacking (axis=1)\n",
    "arr3 = np.array([[7,9,10], [8,10,10]])\n",
    "h_stack = np.concatenate((arr1, arr3), axis = 1)\n",
    "print(h_stack)"
   ]
  },
  {
   "cell_type": "code",
   "execution_count": 182,
   "id": "14d3360e-e8d5-4133-90b1-b216ab84ffb3",
   "metadata": {},
   "outputs": [
    {
     "data": {
      "text/plain": [
       "array([[1, 2],\n",
       "       [3, 4]])"
      ]
     },
     "execution_count": 182,
     "metadata": {},
     "output_type": "execute_result"
    }
   ],
   "source": [
    "arr1"
   ]
  },
  {
   "cell_type": "markdown",
   "id": "1cff6608-e83a-4f4f-aa1d-1fcabb0916f2",
   "metadata": {},
   "source": [
    "### Convenience Functions\n",
    "### vstacking"
   ]
  },
  {
   "cell_type": "code",
   "execution_count": 184,
   "id": "633fa149-d090-4032-8946-30ca0164b854",
   "metadata": {},
   "outputs": [
    {
     "name": "stdout",
     "output_type": "stream",
     "text": [
      "[[1 2 3]\n",
      " [4 5 6]]\n"
     ]
    }
   ],
   "source": [
    "a = np.array([1,2,3])\n",
    "b = np.array([4,5,6])\n",
    "\n",
    "# Convert 1D to 2D and stack it vertically\n",
    "result = np.vstack((a,b))\n",
    "print(result)"
   ]
  },
  {
   "cell_type": "code",
   "execution_count": 185,
   "id": "ec03bc61-3023-440e-a360-131e5a40542e",
   "metadata": {},
   "outputs": [],
   "source": [
    "# hstack "
   ]
  },
  {
   "cell_type": "code",
   "execution_count": 186,
   "id": "aa299118-33be-4278-b626-73f2f7e8dac4",
   "metadata": {},
   "outputs": [
    {
     "name": "stdout",
     "output_type": "stream",
     "text": [
      "[[1 3]\n",
      " [2 4]]\n"
     ]
    }
   ],
   "source": [
    "a = np.array([[1],[2]])\n",
    "b = np.array([[3], [4]])\n",
    "\n",
    "#stack it horizontlay\n",
    "result = np.hstack((a, b))\n",
    "print(result)"
   ]
  },
  {
   "cell_type": "code",
   "execution_count": 188,
   "id": "0445af33-bcaa-415a-a683-a0bf44d1e4c6",
   "metadata": {},
   "outputs": [
    {
     "name": "stdout",
     "output_type": "stream",
     "text": [
      "[[[1 5]\n",
      "  [2 6]]\n",
      "\n",
      " [[3 7]\n",
      "  [4 8]]]\n"
     ]
    }
   ],
   "source": [
    "# Depth-wise stacking (dstack)\n",
    "#stack along a third dimension\n",
    "a = np.array([[1,2], [3,4]])\n",
    "b = np.array([[5,6], [7,8]])\n",
    "\n",
    "result = np.dstack((a, b))\n",
    "print(result)"
   ]
  },
  {
   "cell_type": "code",
   "execution_count": 189,
   "id": "f0a5d5f2-d8eb-4215-8547-5403482c962b",
   "metadata": {},
   "outputs": [
    {
     "data": {
      "text/plain": [
       "3"
      ]
     },
     "execution_count": 189,
     "metadata": {},
     "output_type": "execute_result"
    }
   ],
   "source": [
    "result.ndim"
   ]
  },
  {
   "cell_type": "code",
   "execution_count": 190,
   "id": "c6f8e344-8434-499f-b917-6e9af238c5ed",
   "metadata": {},
   "outputs": [
    {
     "data": {
      "text/plain": [
       "2"
      ]
     },
     "execution_count": 190,
     "metadata": {},
     "output_type": "execute_result"
    }
   ],
   "source": [
    "a.ndim"
   ]
  },
  {
   "cell_type": "code",
   "execution_count": 191,
   "id": "c5ca496e-65b9-4d93-9612-4d5df103a75c",
   "metadata": {},
   "outputs": [],
   "source": [
    "# np.stack"
   ]
  },
  {
   "cell_type": "code",
   "execution_count": 192,
   "id": "a9e3e28e-d46e-4bd6-8d51-d2ba024ee9af",
   "metadata": {},
   "outputs": [
    {
     "name": "stdout",
     "output_type": "stream",
     "text": [
      "[[1 2 3]\n",
      " [4 5 6]]\n"
     ]
    }
   ],
   "source": [
    "a = np.array([1,2,3])\n",
    "b = np.array([4,5,6])\n",
    "#stack along a new axis (default is axis=0)\n",
    "result = np.stack((a, b))\n",
    "print(result)"
   ]
  },
  {
   "cell_type": "code",
   "execution_count": 193,
   "id": "442c08a1-a73f-4210-9792-074f44f368d3",
   "metadata": {},
   "outputs": [
    {
     "name": "stdout",
     "output_type": "stream",
     "text": [
      "[[1 4]\n",
      " [2 5]\n",
      " [3 6]]\n"
     ]
    }
   ],
   "source": [
    "# stack along a second axis\n",
    "result = np.stack((a, b), axis=1)\n",
    "print(result)"
   ]
  },
  {
   "cell_type": "code",
   "execution_count": 194,
   "id": "f5d4271a-846b-4f4e-bc16-e6b764090ba3",
   "metadata": {},
   "outputs": [
    {
     "name": "stdout",
     "output_type": "stream",
     "text": [
      "[[[1 5]\n",
      "  [2 6]]\n",
      "\n",
      " [[3 7]\n",
      "  [4 8]]]\n"
     ]
    }
   ],
   "source": [
    "# Stack along 3rd Dimension\n",
    "a = np.array([[1,2], [3,4]])\n",
    "b = np.array([[5,6], [7, 8]])\n",
    "result = np.stack((a, b), axis=2)\n",
    "print(result)"
   ]
  },
  {
   "cell_type": "markdown",
   "id": "d0b4aeb7-5ad2-4937-87d1-1636e0134928",
   "metadata": {},
   "source": [
    "# Optional\n",
    "# Machine Learning"
   ]
  },
  {
   "cell_type": "code",
   "execution_count": 195,
   "id": "29929cf3-66d9-40f3-95e9-37fa2d14698b",
   "metadata": {},
   "outputs": [
    {
     "name": "stdout",
     "output_type": "stream",
     "text": [
      "(22, 8)\n"
     ]
    }
   ],
   "source": [
    "features1 = np.random.rand(22, 5)  # First set of features\n",
    "features2 = np.random.rand(22, 3)  # Second set\n",
    "\n",
    "# Combine features horizontally\n",
    "X = np.hstack((features1, features2))\n",
    "print(X.shape)  # (22, 8)"
   ]
  },
  {
   "cell_type": "code",
   "execution_count": 196,
   "id": "30f57d33-79ef-447a-b5d4-19a9931a2d9c",
   "metadata": {},
   "outputs": [
    {
     "name": "stdout",
     "output_type": "stream",
     "text": [
      "(10, 3)\n"
     ]
    }
   ],
   "source": [
    "#Time Series Data\n",
    "time_points = np.arange(10)\n",
    "sensor1 = np.random.rand(10)\n",
    "sensor2 = np.random.rand(10)\n",
    "\n",
    "# Create multivariate time series\n",
    "time_series = np.column_stack((time_points, sensor1, sensor2))\n",
    "print(time_series.shape)  # (10, 3)"
   ]
  },
  {
   "cell_type": "markdown",
   "id": "98c8db12-22cf-4ddc-9a59-e0bea38b0d5c",
   "metadata": {},
   "source": [
    "5. Performance Considerations\n",
    "Method\t         Use Case\t        Memory Efficiency\tSpeed\n",
    "concatenate\t     General purpose\tHigh\t            Fast\n",
    "vstack/hstack\t Si mplified syntax\tMedium\t            Fast\n",
    "stack\t         Creating new d \tLow\t                Slower\n",
    "dstack\t         Depth-wise st   \tMedium\t             Fast"
   ]
  },
  {
   "cell_type": "markdown",
   "id": "726ad51f-3e83-4445-a322-5db878933bf8",
   "metadata": {},
   "source": [
    "# Section 07 04 Splitting functions"
   ]
  },
  {
   "cell_type": "code",
   "execution_count": 197,
   "id": "bc99df9b-557e-4bfe-afe4-bbebc35704fd",
   "metadata": {},
   "outputs": [],
   "source": [
    "import numpy as np"
   ]
  },
  {
   "cell_type": "code",
   "execution_count": 198,
   "id": "c233eb5d-4ed0-4d96-929f-e7163db37999",
   "metadata": {},
   "outputs": [
    {
     "name": "stdout",
     "output_type": "stream",
     "text": [
      "arr:  [0 1 2 3 4 5 6 7 8 9]\n"
     ]
    }
   ],
   "source": [
    "arr = np.arange(10)\n",
    "print('arr: ', arr)"
   ]
  },
  {
   "cell_type": "code",
   "execution_count": 203,
   "id": "6012adb1-be00-4af3-95c2-2de749c652ca",
   "metadata": {},
   "outputs": [
    {
     "name": "stdout",
     "output_type": "stream",
     "text": [
      "[0 1 2 3 4]\n",
      "[5 6 7 8 9]\n"
     ]
    }
   ],
   "source": [
    "#splitting in two\n",
    "result = np.split(arr, 2)\n",
    "for i in result:\n",
    "    print(i)"
   ]
  },
  {
   "cell_type": "code",
   "execution_count": 204,
   "id": "a243af84-2270-4c7c-ba2c-fed726f52613",
   "metadata": {},
   "outputs": [
    {
     "data": {
      "text/plain": [
       "array([0, 1, 2, 3, 4])"
      ]
     },
     "execution_count": 204,
     "metadata": {},
     "output_type": "execute_result"
    }
   ],
   "source": [
    "result[0]"
   ]
  },
  {
   "cell_type": "code",
   "execution_count": 205,
   "id": "6ce06f48-2001-44da-bdbd-09d30c6d46b7",
   "metadata": {},
   "outputs": [
    {
     "data": {
      "text/plain": [
       "array([5, 6, 7, 8, 9])"
      ]
     },
     "execution_count": 205,
     "metadata": {},
     "output_type": "execute_result"
    }
   ],
   "source": [
    "result[1]"
   ]
  },
  {
   "cell_type": "code",
   "execution_count": 206,
   "id": "35a0ee20-3d21-46d6-9772-9d685feb74bf",
   "metadata": {},
   "outputs": [],
   "source": [
    "result[0][0] = 100"
   ]
  },
  {
   "cell_type": "code",
   "execution_count": 207,
   "id": "06b3f869-c270-4184-bddb-db23e763ffa8",
   "metadata": {},
   "outputs": [
    {
     "data": {
      "text/plain": [
       "array([100,   1,   2,   3,   4])"
      ]
     },
     "execution_count": 207,
     "metadata": {},
     "output_type": "execute_result"
    }
   ],
   "source": [
    "result[0]"
   ]
  },
  {
   "cell_type": "code",
   "execution_count": 208,
   "id": "e6614606-8251-42ee-a9b8-60e76a588d0e",
   "metadata": {},
   "outputs": [
    {
     "data": {
      "text/plain": [
       "array([100,   1,   2,   3,   4,   5,   6,   7,   8,   9])"
      ]
     },
     "execution_count": 208,
     "metadata": {},
     "output_type": "execute_result"
    }
   ],
   "source": [
    "arr"
   ]
  },
  {
   "cell_type": "code",
   "execution_count": 209,
   "id": "6f90add1-3bfb-41e9-9385-26a43bf8493e",
   "metadata": {},
   "outputs": [],
   "source": [
    "#uneven, unequal division\n",
    "#split at specific indices\n",
    "arr = np.arange(10)\n",
    "result = np.split(arr, [2, 6])"
   ]
  },
  {
   "cell_type": "code",
   "execution_count": 210,
   "id": "b6edfb3a-8a6d-40d6-bae4-5a0213018896",
   "metadata": {},
   "outputs": [
    {
     "name": "stdout",
     "output_type": "stream",
     "text": [
      "[0 1]\n",
      "[2 3 4 5]\n",
      "[6 7 8 9]\n"
     ]
    }
   ],
   "source": [
    "for i in result:\n",
    "    print(i)"
   ]
  },
  {
   "cell_type": "code",
   "execution_count": 212,
   "id": "ecab799c-229d-4f31-a958-ea0854809e38",
   "metadata": {},
   "outputs": [
    {
     "name": "stdout",
     "output_type": "stream",
     "text": [
      "[[1 2 3]]\n",
      "****************************************\n",
      "[[4 5 6]]\n",
      "****************************************\n",
      "[[7 8 9]]\n",
      "****************************************\n"
     ]
    }
   ],
   "source": [
    "#2D array splitting (Advanced)\n",
    "arr_2d = np.array([[1,2,3], [4,5,6], [7,8,9]])\n",
    "#split vertically (rows)\n",
    "result = np.split(arr_2d, 3, axis=0)\n",
    "for i in result:\n",
    "    print(i)\n",
    "    print(\"*\"*40)"
   ]
  },
  {
   "cell_type": "code",
   "execution_count": 218,
   "id": "5c7760b5-74ce-42c8-95f7-2b3d1be82568",
   "metadata": {},
   "outputs": [
    {
     "name": "stdout",
     "output_type": "stream",
     "text": [
      "[[4 5 6]]\n"
     ]
    }
   ],
   "source": [
    "print(result[1])"
   ]
  },
  {
   "cell_type": "raw",
   "id": "f2d25808-b971-449d-bb68-c9c7bdfd0bc1",
   "metadata": {},
   "source": [
    "age     insulin     age\n",
    "50       5          55\n",
    "30       2           25\n"
   ]
  },
  {
   "cell_type": "code",
   "execution_count": 219,
   "id": "afed675e-89c2-441e-9939-b4952437ac04",
   "metadata": {},
   "outputs": [
    {
     "name": "stdout",
     "output_type": "stream",
     "text": [
      "[[1]\n",
      " [4]\n",
      " [7]]\n",
      "[[2]\n",
      " [5]\n",
      " [8]]\n",
      "[[3]\n",
      " [6]\n",
      " [9]]\n"
     ]
    }
   ],
   "source": [
    "#split horizontally (columns)\n",
    "result = np.split(arr_2d, 3, axis=1)\n",
    "for i in result:\n",
    "    print(i)"
   ]
  },
  {
   "cell_type": "markdown",
   "id": "33f24fa3-62f2-4663-a058-c19d80d9b2b2",
   "metadata": {},
   "source": [
    "#### Convenience functions"
   ]
  },
  {
   "cell_type": "markdown",
   "id": "cda0e48f-61ec-4e5b-aecd-7ccbc7fde1f8",
   "metadata": {},
   "source": [
    "##### hsplit"
   ]
  },
  {
   "cell_type": "code",
   "execution_count": 221,
   "id": "ae22ff52-839b-4041-8076-eda95875d07f",
   "metadata": {},
   "outputs": [
    {
     "name": "stdout",
     "output_type": "stream",
     "text": [
      "[[1 2]\n",
      " [5 6]]\n",
      "________\n",
      "[[3 4]\n",
      " [7 8]]\n",
      "________\n"
     ]
    }
   ],
   "source": [
    "#Horizontal splitting\n",
    "arr = np.array([[1,2,3,4], [5,6,7,8]])\n",
    "\n",
    "#split into 2 equal columns\n",
    "result = np.hsplit(arr, 2)\n",
    "for i in result:\n",
    "    print(i)\n",
    "    print(\"________\")"
   ]
  },
  {
   "cell_type": "code",
   "execution_count": 223,
   "id": "04c900ae-4803-44db-89a0-6662bd9d7ca3",
   "metadata": {},
   "outputs": [
    {
     "name": "stdout",
     "output_type": "stream",
     "text": [
      "[[1]\n",
      " [5]]\n",
      "________\n",
      "[[2 3]\n",
      " [6 7]]\n",
      "________\n",
      "[[4]\n",
      " [8]]\n",
      "________\n"
     ]
    }
   ],
   "source": [
    "#split at specific indices\n",
    "result = np.hsplit(arr, [1,3])\n",
    "for i in result:\n",
    "    print(i)\n",
    "    print(\"________\")"
   ]
  },
  {
   "cell_type": "code",
   "execution_count": 225,
   "id": "a8b93097-5464-4763-af8d-bd1d464f5284",
   "metadata": {},
   "outputs": [
    {
     "name": "stdout",
     "output_type": "stream",
     "text": [
      "[[1 2 3 4]]\n",
      "________\n",
      "[[5 6 7 8]]\n",
      "________\n"
     ]
    }
   ],
   "source": [
    "# vsplit (vertical splittin)\n",
    "result = np.split(arr, 2)\n",
    "for i in result:\n",
    "    print(i)\n",
    "    print(\"________\")"
   ]
  },
  {
   "cell_type": "code",
   "execution_count": 226,
   "id": "cbf4fdde-5e97-4abc-90aa-ca3cff1fd135",
   "metadata": {},
   "outputs": [
    {
     "name": "stdout",
     "output_type": "stream",
     "text": [
      "[[1 2 3 4]]\n",
      "--------\n",
      "[[5 6 7 8]]\n",
      "--------\n",
      "[]\n",
      "--------\n"
     ]
    }
   ],
   "source": [
    "result = np.vsplit(arr, [1,3])\n",
    "for i in result:\n",
    "    print(i)\n",
    "    print(\"--------\")"
   ]
  },
  {
   "cell_type": "code",
   "execution_count": 227,
   "id": "c6c19453-3fcf-41f0-8796-dc7601ef2d87",
   "metadata": {},
   "outputs": [],
   "source": [
    "#Optional \n",
    "#Depth-wise splitting dsplit()"
   ]
  },
  {
   "cell_type": "code",
   "execution_count": 228,
   "id": "2f75e41b-4d80-40a2-8f69-a68f8db09c46",
   "metadata": {},
   "outputs": [
    {
     "name": "stdout",
     "output_type": "stream",
     "text": [
      "[[[0 1]\n",
      "  [2 3]]\n",
      "\n",
      " [[4 5]\n",
      "  [6 7]]]\n"
     ]
    }
   ],
   "source": [
    "arr_3d = np.arange(8).reshape(2,2,2)\n",
    "print(arr_3d)"
   ]
  },
  {
   "cell_type": "code",
   "execution_count": 230,
   "id": "279e3b6c-c6d7-4201-8716-7bfcdec7e066",
   "metadata": {},
   "outputs": [
    {
     "name": "stdout",
     "output_type": "stream",
     "text": [
      "[[[0]\n",
      "  [2]]\n",
      "\n",
      " [[4]\n",
      "  [6]]]\n",
      "[[[1]\n",
      "  [3]]\n",
      "\n",
      " [[5]\n",
      "  [7]]]\n"
     ]
    }
   ],
   "source": [
    "#split along depth (3rd axis)\n",
    "result = np.dsplit(arr_3d, 2)\n",
    "for i in result:\n",
    "    print(i)"
   ]
  },
  {
   "cell_type": "code",
   "execution_count": 231,
   "id": "3f965ad4-cdd8-4090-a935-20b113471f71",
   "metadata": {},
   "outputs": [
    {
     "name": "stdout",
     "output_type": "stream",
     "text": [
      "[0 1 2 3 4 5 6 7 8 9]\n"
     ]
    }
   ],
   "source": [
    "#Array positioning (np.array_split)\n",
    "arr = np.arange(10)\n",
    "print(arr)"
   ]
  },
  {
   "cell_type": "code",
   "execution_count": 232,
   "id": "a39de148-72b4-4b1c-8d50-4a6bbd63a089",
   "metadata": {},
   "outputs": [
    {
     "name": "stdout",
     "output_type": "stream",
     "text": [
      "[0 1 2 3]\n",
      "[4 5 6]\n",
      "[7 8 9]\n"
     ]
    }
   ],
   "source": [
    "#split in 3 parts\n",
    "result = np.array_split(arr, 3)\n",
    "for i in result:\n",
    "    print(i)"
   ]
  },
  {
   "cell_type": "markdown",
   "id": "d08cea15-34e3-4b71-b802-f68dfad394bf",
   "metadata": {},
   "source": [
    "### Machine Learning"
   ]
  },
  {
   "cell_type": "code",
   "execution_count": 233,
   "id": "3f2e3ba9-1677-47bb-b73d-14d338467fb3",
   "metadata": {},
   "outputs": [
    {
     "name": "stdout",
     "output_type": "stream",
     "text": [
      "(80, 5) (20, 5)\n"
     ]
    }
   ],
   "source": [
    "data = np.random.rand(100, 5)  # 100 samples, 5 features\n",
    "train, test = np.split(data, [int(0.8*len(data))])\n",
    "print(train.shape, test.shape)  # (80, 5), (20, 5)"
   ]
  },
  {
   "cell_type": "markdown",
   "id": "6b0e5df1-e2fc-417c-aa4e-50ea271bdebb",
   "metadata": {},
   "source": [
    "### Time Series "
   ]
  },
  {
   "cell_type": "code",
   "execution_count": 234,
   "id": "a4592ef4-fcb2-485c-b106-8d51a6d47acd",
   "metadata": {},
   "outputs": [
    {
     "name": "stdout",
     "output_type": "stream",
     "text": [
      "10\n"
     ]
    }
   ],
   "source": [
    "time_series = np.arange(100)\n",
    "windows = np.split(time_series, range(10, 100, 10))\n",
    "print(len(windows))  # 10 windows (9 of size 10, last of size 10)"
   ]
  },
  {
   "cell_type": "code",
   "execution_count": null,
   "id": "8f8085eb-02bb-4c82-a8b8-6eb00271bd03",
   "metadata": {},
   "outputs": [],
   "source": []
  }
 ],
 "metadata": {
  "kernelspec": {
   "display_name": "Python 3 (ipykernel)",
   "language": "python",
   "name": "python3"
  },
  "language_info": {
   "codemirror_mode": {
    "name": "ipython",
    "version": 3
   },
   "file_extension": ".py",
   "mimetype": "text/x-python",
   "name": "python",
   "nbconvert_exporter": "python",
   "pygments_lexer": "ipython3",
   "version": "3.11.4"
  }
 },
 "nbformat": 4,
 "nbformat_minor": 5
}
