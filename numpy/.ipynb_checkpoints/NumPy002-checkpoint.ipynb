{
 "cells": [
  {
   "cell_type": "markdown",
   "id": "6bfab99e-6362-4d0f-918d-9d8f54929002",
   "metadata": {},
   "source": [
    "# Section 05 02 intermediate/Advanced level indxing/slicing"
   ]
  },
  {
   "cell_type": "code",
   "execution_count": 1,
   "id": "b9fa9392-2beb-4299-9b03-a226feaffafa",
   "metadata": {},
   "outputs": [],
   "source": [
    "import numpy as np"
   ]
  },
  {
   "cell_type": "code",
   "execution_count": 2,
   "id": "7ebc7ace-517d-4c44-88c0-4c9869a5d8dc",
   "metadata": {},
   "outputs": [],
   "source": [
    "arr1 = np.arange(0, 10).reshape(2,5)"
   ]
  },
  {
   "cell_type": "code",
   "execution_count": 3,
   "id": "bc8339da-9552-4017-b25f-85ff70a126bf",
   "metadata": {},
   "outputs": [
    {
     "data": {
      "text/plain": [
       "array([[0, 1, 2, 3, 4],\n",
       "       [5, 6, 7, 8, 9]])"
      ]
     },
     "execution_count": 3,
     "metadata": {},
     "output_type": "execute_result"
    }
   ],
   "source": [
    "arr1"
   ]
  },
  {
   "cell_type": "code",
   "execution_count": 4,
   "id": "403dda17-fe6f-4362-a2b1-4aac6dae3cf1",
   "metadata": {},
   "outputs": [],
   "source": [
    "#Boolean indexing\n",
    "list1 = [1,2,3,4,5]\n",
    "arr = np.array(list1)"
   ]
  },
  {
   "cell_type": "code",
   "execution_count": 5,
   "id": "cf8d8ccc-2521-4940-a720-1888156e6774",
   "metadata": {},
   "outputs": [
    {
     "data": {
      "text/plain": [
       "array([1, 2, 3, 4, 5])"
      ]
     },
     "execution_count": 5,
     "metadata": {},
     "output_type": "execute_result"
    }
   ],
   "source": [
    "arr"
   ]
  },
  {
   "cell_type": "code",
   "execution_count": 6,
   "id": "66b0bdd6-e362-4434-ab79-57573d937f19",
   "metadata": {},
   "outputs": [
    {
     "data": {
      "text/plain": [
       "numpy.ndarray"
      ]
     },
     "execution_count": 6,
     "metadata": {},
     "output_type": "execute_result"
    }
   ],
   "source": [
    "type(arr)"
   ]
  },
  {
   "cell_type": "code",
   "execution_count": 7,
   "id": "29b8845b-3e09-40e9-b813-bab778843483",
   "metadata": {},
   "outputs": [
    {
     "data": {
      "text/plain": [
       "array([False, False,  True,  True,  True])"
      ]
     },
     "execution_count": 7,
     "metadata": {},
     "output_type": "execute_result"
    }
   ],
   "source": [
    "arr > 2"
   ]
  },
  {
   "cell_type": "code",
   "execution_count": 9,
   "id": "84526e51-0317-4bbd-9278-a07b4658018c",
   "metadata": {},
   "outputs": [
    {
     "data": {
      "text/plain": [
       "False"
      ]
     },
     "execution_count": 9,
     "metadata": {},
     "output_type": "execute_result"
    }
   ],
   "source": [
    "arr[0] > 2"
   ]
  },
  {
   "cell_type": "code",
   "execution_count": 10,
   "id": "ff523ab2-48ee-4af7-be72-34d0bbbd39e1",
   "metadata": {},
   "outputs": [
    {
     "data": {
      "text/plain": [
       "False"
      ]
     },
     "execution_count": 10,
     "metadata": {},
     "output_type": "execute_result"
    }
   ],
   "source": [
    "arr[1] > 2"
   ]
  },
  {
   "cell_type": "code",
   "execution_count": 11,
   "id": "df38a48f-ebd7-43e7-917b-d84f0b389840",
   "metadata": {},
   "outputs": [
    {
     "data": {
      "text/plain": [
       "True"
      ]
     },
     "execution_count": 11,
     "metadata": {},
     "output_type": "execute_result"
    }
   ],
   "source": [
    "arr[2] > 2"
   ]
  },
  {
   "cell_type": "code",
   "execution_count": 13,
   "id": "d082f720-d9bb-439c-853b-8772e99091bb",
   "metadata": {},
   "outputs": [
    {
     "ename": "TypeError",
     "evalue": "'>' not supported between instances of 'list' and 'int'",
     "output_type": "error",
     "traceback": [
      "\u001b[1;31m---------------------------------------------------------------------------\u001b[0m",
      "\u001b[1;31mTypeError\u001b[0m                                 Traceback (most recent call last)",
      "Cell \u001b[1;32mIn[13], line 1\u001b[0m\n\u001b[1;32m----> 1\u001b[0m list1[\u001b[43mlist1\u001b[49m\u001b[38;5;241;43m>\u001b[39;49m\u001b[38;5;241;43m2\u001b[39;49m]\n",
      "\u001b[1;31mTypeError\u001b[0m: '>' not supported between instances of 'list' and 'int'"
     ]
    }
   ],
   "source": [
    "list1[list1>2]"
   ]
  },
  {
   "cell_type": "code",
   "execution_count": 19,
   "id": "f09d4897-ce01-4097-b01a-7a2efd9830ee",
   "metadata": {},
   "outputs": [],
   "source": [
    "newlist = []\n",
    "for i in list1:\n",
    "    if i > 2:\n",
    "        newlist.append(True)\n",
    "    else:\n",
    "        newlist.append(False)"
   ]
  },
  {
   "cell_type": "code",
   "execution_count": 20,
   "id": "a3f0d0ab-593f-4156-92db-fbd255567210",
   "metadata": {},
   "outputs": [
    {
     "data": {
      "text/plain": [
       "[False, False, True, True, True]"
      ]
     },
     "execution_count": 20,
     "metadata": {},
     "output_type": "execute_result"
    }
   ],
   "source": [
    "newlist"
   ]
  },
  {
   "cell_type": "code",
   "execution_count": 21,
   "id": "ce43ce33-aae9-489a-b2dc-7427f6bb00d2",
   "metadata": {},
   "outputs": [],
   "source": [
    "arr3 = arr>2"
   ]
  },
  {
   "cell_type": "code",
   "execution_count": 22,
   "id": "9afba456-5ab5-4b32-987c-c82e29c4df29",
   "metadata": {},
   "outputs": [
    {
     "data": {
      "text/plain": [
       "array([False, False,  True,  True,  True])"
      ]
     },
     "execution_count": 22,
     "metadata": {},
     "output_type": "execute_result"
    }
   ],
   "source": [
    "arr3"
   ]
  },
  {
   "cell_type": "code",
   "execution_count": 23,
   "id": "b5b30b2b-b3f8-4601-9f80-bbaf5b610036",
   "metadata": {},
   "outputs": [
    {
     "data": {
      "text/plain": [
       "array([False, False,  True,  True,  True])"
      ]
     },
     "execution_count": 23,
     "metadata": {},
     "output_type": "execute_result"
    }
   ],
   "source": [
    "arr3"
   ]
  },
  {
   "cell_type": "code",
   "execution_count": 24,
   "id": "96d203c9-aded-44cc-9a6e-306aad76080c",
   "metadata": {},
   "outputs": [
    {
     "data": {
      "text/plain": [
       "array([1, 2, 3, 4, 5])"
      ]
     },
     "execution_count": 24,
     "metadata": {},
     "output_type": "execute_result"
    }
   ],
   "source": [
    "arr"
   ]
  },
  {
   "cell_type": "code",
   "execution_count": 25,
   "id": "90e5bda0-356c-4a31-ba02-2b7e6b3822f0",
   "metadata": {},
   "outputs": [
    {
     "data": {
      "text/plain": [
       "array([3, 4, 5])"
      ]
     },
     "execution_count": 25,
     "metadata": {},
     "output_type": "execute_result"
    }
   ],
   "source": [
    "arr[arr3]"
   ]
  },
  {
   "cell_type": "code",
   "execution_count": 29,
   "id": "0c9a414b-afce-42f2-ada2-c90179903f42",
   "metadata": {},
   "outputs": [
    {
     "data": {
      "text/plain": [
       "array([3, 4, 5])"
      ]
     },
     "execution_count": 29,
     "metadata": {},
     "output_type": "execute_result"
    }
   ],
   "source": [
    "arr[[False, False, True, True, True]]"
   ]
  },
  {
   "cell_type": "code",
   "execution_count": 31,
   "id": "248daf4d-07c6-4759-b037-2719097ca0a9",
   "metadata": {},
   "outputs": [
    {
     "data": {
      "text/plain": [
       "array([2, 3, 4, 5])"
      ]
     },
     "execution_count": 31,
     "metadata": {},
     "output_type": "execute_result"
    }
   ],
   "source": [
    "arr[arr>=2]"
   ]
  },
  {
   "cell_type": "code",
   "execution_count": 34,
   "id": "56007dfe-5e99-46f2-9256-7fd2d34945fe",
   "metadata": {},
   "outputs": [
    {
     "data": {
      "text/plain": [
       "array([1, 2])"
      ]
     },
     "execution_count": 34,
     "metadata": {},
     "output_type": "execute_result"
    }
   ],
   "source": [
    "arr[arr< 3]"
   ]
  },
  {
   "cell_type": "code",
   "execution_count": 44,
   "id": "fa1f0d14-f35a-450f-badc-326a173c56af",
   "metadata": {},
   "outputs": [
    {
     "data": {
      "text/plain": [
       "array([1, 2])"
      ]
     },
     "execution_count": 44,
     "metadata": {},
     "output_type": "execute_result"
    }
   ],
   "source": [
    "arr[(arr==2) | ( arr==1)]"
   ]
  },
  {
   "cell_type": "code",
   "execution_count": 50,
   "id": "6a258f6a-58a4-4846-b5c0-b03dceb595e4",
   "metadata": {},
   "outputs": [
    {
     "data": {
      "text/plain": [
       "array([2, 3, 4])"
      ]
     },
     "execution_count": 50,
     "metadata": {},
     "output_type": "execute_result"
    }
   ],
   "source": [
    "arr[(arr> 1) & ( arr< 5)]"
   ]
  },
  {
   "cell_type": "code",
   "execution_count": 57,
   "id": "a6db6cc2-4710-4e51-8a38-91fae2a2eb33",
   "metadata": {},
   "outputs": [
    {
     "data": {
      "text/plain": [
       "array([2, 3, 4])"
      ]
     },
     "execution_count": 57,
     "metadata": {},
     "output_type": "execute_result"
    }
   ],
   "source": [
    "arr1[(arr1> 1) & ( arr1< 5)]"
   ]
  },
  {
   "cell_type": "code",
   "execution_count": 52,
   "id": "4a3e3141-d3fb-4f69-9e7b-316ffd47ea1a",
   "metadata": {},
   "outputs": [
    {
     "data": {
      "text/plain": [
       "array([[0, 1, 2, 3, 4],\n",
       "       [5, 6, 7, 8, 9]])"
      ]
     },
     "execution_count": 52,
     "metadata": {},
     "output_type": "execute_result"
    }
   ],
   "source": [
    "arr1"
   ]
  },
  {
   "cell_type": "code",
   "execution_count": 62,
   "id": "696766e4-74c9-4a1b-96c5-a5e1999e07d1",
   "metadata": {},
   "outputs": [
    {
     "data": {
      "text/plain": [
       "array([7, 8, 9])"
      ]
     },
     "execution_count": 62,
     "metadata": {},
     "output_type": "execute_result"
    }
   ],
   "source": [
    "arr2 = arr1[(arr1> 1) & ( arr1 > 6)]\n",
    "arr2"
   ]
  },
  {
   "cell_type": "code",
   "execution_count": 61,
   "id": "c6195f34-9433-4d52-bcfa-0a67cae1612c",
   "metadata": {},
   "outputs": [
    {
     "data": {
      "text/plain": [
       "1"
      ]
     },
     "execution_count": 61,
     "metadata": {},
     "output_type": "execute_result"
    }
   ],
   "source": [
    "np.ndim(arr2)"
   ]
  },
  {
   "cell_type": "code",
   "execution_count": 64,
   "id": "5ab3875c-87a1-4526-afab-6989f6c00902",
   "metadata": {},
   "outputs": [
    {
     "name": "stdout",
     "output_type": "stream",
     "text": [
      "[[1 2]\n",
      " [3 4]\n",
      " [5 6]]\n",
      "[4 5 6]\n"
     ]
    }
   ],
   "source": [
    "arr2d = np.array([[1,2], [3,4], [5,6]])\n",
    "print(arr2d)\n",
    "print(arr2d[arr2d > 3])"
   ]
  },
  {
   "cell_type": "code",
   "execution_count": 66,
   "id": "bc6ef69e-6cf0-45dc-8c82-db88bb19d9d7",
   "metadata": {},
   "outputs": [
    {
     "name": "stdout",
     "output_type": "stream",
     "text": [
      "[20 40 50]\n",
      "[20 40 50]\n"
     ]
    }
   ],
   "source": [
    "#Fancy indeding (integer array indexing)\n",
    "arr = np.array([10, 20, 30, 40, 50])\n",
    "\n",
    "indices = [1,3,4]  \n",
    "ind1 = [False, True, False, True, True]\n",
    "print(arr[indices])\n",
    "print(arr[ind1])"
   ]
  },
  {
   "cell_type": "code",
   "execution_count": 68,
   "id": "3dc084d4-4d10-43eb-9465-199ebb1978d7",
   "metadata": {},
   "outputs": [
    {
     "name": "stdout",
     "output_type": "stream",
     "text": [
      "[1 6]\n"
     ]
    }
   ],
   "source": [
    "#2d example\n",
    "arr2d = np.array([[1,2], [3,4], [5,6]])\n",
    "print(arr2d[[0, 2], [0, 1]]) "
   ]
  },
  {
   "cell_type": "code",
   "execution_count": 69,
   "id": "c11263ee-add2-4549-bb37-0eb8091c5d15",
   "metadata": {},
   "outputs": [
    {
     "name": "stdout",
     "output_type": "stream",
     "text": [
      "[[1 2 3]\n",
      " [7 8 9]]\n"
     ]
    }
   ],
   "source": [
    "arr2d = np.array([[1,2,3], [4,5,6], [7, 8, 9]])\n",
    "#combine slicing and fancy indexing\n",
    "print(arr2d[[0,2], :]) "
   ]
  },
  {
   "cell_type": "code",
   "execution_count": 70,
   "id": "b0fd943e-edda-47af-a27b-032558a2dbd3",
   "metadata": {},
   "outputs": [
    {
     "name": "stdout",
     "output_type": "stream",
     "text": [
      "[[2 3]\n",
      " [5 6]\n",
      " [8 9]]\n"
     ]
    }
   ],
   "source": [
    "print(arr2d[:, [1,2]])"
   ]
  },
  {
   "cell_type": "markdown",
   "id": "d1aaa71c-5a39-4148-9afc-54318f655983",
   "metadata": {},
   "source": [
    "### Views vs Copies"
   ]
  },
  {
   "cell_type": "code",
   "execution_count": 71,
   "id": "5b4e934c-2d2e-42f3-80ad-9a8a9a3013a3",
   "metadata": {},
   "outputs": [],
   "source": [
    "arr = np.array([1,2,3,4,5])\n",
    "view = arr[1:4]"
   ]
  },
  {
   "cell_type": "code",
   "execution_count": 72,
   "id": "ebe7295e-b24e-4e66-a61b-1ff838118136",
   "metadata": {},
   "outputs": [
    {
     "data": {
      "text/plain": [
       "array([2, 3, 4])"
      ]
     },
     "execution_count": 72,
     "metadata": {},
     "output_type": "execute_result"
    }
   ],
   "source": [
    "view"
   ]
  },
  {
   "cell_type": "code",
   "execution_count": 73,
   "id": "a6ed6d8a-151d-4139-9d91-4064e43dc0e0",
   "metadata": {},
   "outputs": [
    {
     "data": {
      "text/plain": [
       "array([1, 2, 3, 4, 5])"
      ]
     },
     "execution_count": 73,
     "metadata": {},
     "output_type": "execute_result"
    }
   ],
   "source": [
    "arr"
   ]
  },
  {
   "cell_type": "code",
   "execution_count": 74,
   "id": "0385fc74-44d6-4304-a0e2-bd79317d9fc2",
   "metadata": {},
   "outputs": [],
   "source": [
    "arr[0] = 99"
   ]
  },
  {
   "cell_type": "code",
   "execution_count": 75,
   "id": "8c2398f3-019a-4215-96da-9e20884fd9bf",
   "metadata": {},
   "outputs": [
    {
     "data": {
      "text/plain": [
       "array([2, 3, 4])"
      ]
     },
     "execution_count": 75,
     "metadata": {},
     "output_type": "execute_result"
    }
   ],
   "source": [
    "view"
   ]
  },
  {
   "cell_type": "code",
   "execution_count": 76,
   "id": "5f75e6a3-8040-453f-839d-2cb9f804cf15",
   "metadata": {},
   "outputs": [],
   "source": [
    "view[0] = 99"
   ]
  },
  {
   "cell_type": "code",
   "execution_count": 77,
   "id": "cab552d3-714e-4c01-8b7f-5342763ad28a",
   "metadata": {},
   "outputs": [
    {
     "data": {
      "text/plain": [
       "array([99, 99,  3,  4,  5])"
      ]
     },
     "execution_count": 77,
     "metadata": {},
     "output_type": "execute_result"
    }
   ],
   "source": [
    "arr"
   ]
  },
  {
   "cell_type": "code",
   "execution_count": 78,
   "id": "9b7cc352-7f01-4d10-b67f-da25fb63cbad",
   "metadata": {},
   "outputs": [],
   "source": [
    "arr = np.array([1,2,3,4,5])\n",
    "view = arr[1:4]"
   ]
  },
  {
   "cell_type": "code",
   "execution_count": 79,
   "id": "aeebce4c-78bc-4e33-ba0f-b23092c43d34",
   "metadata": {},
   "outputs": [
    {
     "data": {
      "text/plain": [
       "array([2, 3, 4])"
      ]
     },
     "execution_count": 79,
     "metadata": {},
     "output_type": "execute_result"
    }
   ],
   "source": [
    "view"
   ]
  },
  {
   "cell_type": "code",
   "execution_count": 80,
   "id": "e5eeed9d-656f-412b-87bb-605a8025211e",
   "metadata": {},
   "outputs": [
    {
     "data": {
      "text/plain": [
       "array([1, 2, 3, 4, 5])"
      ]
     },
     "execution_count": 80,
     "metadata": {},
     "output_type": "execute_result"
    }
   ],
   "source": [
    "arr"
   ]
  },
  {
   "cell_type": "code",
   "execution_count": 81,
   "id": "eb929472-9f4f-41b2-9472-46592bc51847",
   "metadata": {},
   "outputs": [],
   "source": [
    "view[0] = 99"
   ]
  },
  {
   "cell_type": "code",
   "execution_count": 82,
   "id": "682855b5-3c49-4653-acac-67a38c353ea1",
   "metadata": {},
   "outputs": [
    {
     "data": {
      "text/plain": [
       "array([99,  3,  4])"
      ]
     },
     "execution_count": 82,
     "metadata": {},
     "output_type": "execute_result"
    }
   ],
   "source": [
    "view"
   ]
  },
  {
   "cell_type": "code",
   "execution_count": 83,
   "id": "b7b8bda7-237a-4ec6-8766-43ee7654fd4f",
   "metadata": {},
   "outputs": [
    {
     "data": {
      "text/plain": [
       "array([ 1, 99,  3,  4,  5])"
      ]
     },
     "execution_count": 83,
     "metadata": {},
     "output_type": "execute_result"
    }
   ],
   "source": [
    "arr"
   ]
  },
  {
   "cell_type": "code",
   "execution_count": 84,
   "id": "e017bd04-ed73-44a5-b71a-ca5527f3fd55",
   "metadata": {},
   "outputs": [],
   "source": [
    "arr[1] = 2"
   ]
  },
  {
   "cell_type": "code",
   "execution_count": 85,
   "id": "98c64818-6b98-4a22-aad9-11caaab4485f",
   "metadata": {},
   "outputs": [
    {
     "data": {
      "text/plain": [
       "array([1, 2, 3, 4, 5])"
      ]
     },
     "execution_count": 85,
     "metadata": {},
     "output_type": "execute_result"
    }
   ],
   "source": [
    "arr"
   ]
  },
  {
   "cell_type": "code",
   "execution_count": 86,
   "id": "2df9e65f-b49a-4e61-b843-e22737ed3e87",
   "metadata": {},
   "outputs": [
    {
     "data": {
      "text/plain": [
       "array([2, 3, 4])"
      ]
     },
     "execution_count": 86,
     "metadata": {},
     "output_type": "execute_result"
    }
   ],
   "source": [
    "view"
   ]
  },
  {
   "cell_type": "code",
   "execution_count": 87,
   "id": "d2c300ab-1d1b-43f1-9be1-94dd00833d64",
   "metadata": {},
   "outputs": [],
   "source": [
    "copy = arr[[1,3]]"
   ]
  },
  {
   "cell_type": "code",
   "execution_count": 88,
   "id": "2018c14d-ee3d-42a3-9774-245ec61bc3f0",
   "metadata": {},
   "outputs": [
    {
     "data": {
      "text/plain": [
       "array([2, 4])"
      ]
     },
     "execution_count": 88,
     "metadata": {},
     "output_type": "execute_result"
    }
   ],
   "source": [
    "copy"
   ]
  },
  {
   "cell_type": "code",
   "execution_count": 89,
   "id": "abfe9544-6f15-49b4-bdd2-1e4e28d3b5c8",
   "metadata": {},
   "outputs": [
    {
     "data": {
      "text/plain": [
       "array([1, 2, 3, 4, 5])"
      ]
     },
     "execution_count": 89,
     "metadata": {},
     "output_type": "execute_result"
    }
   ],
   "source": [
    "arr"
   ]
  },
  {
   "cell_type": "code",
   "execution_count": 90,
   "id": "627d7f38-e7f0-4c00-a18a-38021a9f9064",
   "metadata": {},
   "outputs": [
    {
     "data": {
      "text/plain": [
       "array([1, 2, 3, 4, 5])"
      ]
     },
     "execution_count": 90,
     "metadata": {},
     "output_type": "execute_result"
    }
   ],
   "source": [
    "copy[0] = 99\n",
    "arr"
   ]
  },
  {
   "cell_type": "code",
   "execution_count": 91,
   "id": "86265452-a438-4b3e-a901-6a8a35b840f0",
   "metadata": {},
   "outputs": [],
   "source": [
    "arr[2] = 105"
   ]
  },
  {
   "cell_type": "code",
   "execution_count": 92,
   "id": "a042c1c3-f6a3-4073-8752-e97b64df5422",
   "metadata": {},
   "outputs": [
    {
     "data": {
      "text/plain": [
       "array([99,  4])"
      ]
     },
     "execution_count": 92,
     "metadata": {},
     "output_type": "execute_result"
    }
   ],
   "source": [
    "copy"
   ]
  },
  {
   "cell_type": "code",
   "execution_count": 97,
   "id": "a66a9097-dfa2-4efe-a9a0-ba11d05878d8",
   "metadata": {},
   "outputs": [],
   "source": [
    "arr = np.array( [1,2,3,4,5])\n",
    "copy = arr[[0, 1, 2, 3, 4]]"
   ]
  },
  {
   "cell_type": "code",
   "execution_count": 98,
   "id": "5bf896ee-622a-4a42-b6ac-f888a2623fb7",
   "metadata": {},
   "outputs": [
    {
     "data": {
      "text/plain": [
       "array([1, 2, 3, 4, 5])"
      ]
     },
     "execution_count": 98,
     "metadata": {},
     "output_type": "execute_result"
    }
   ],
   "source": [
    "arr\n"
   ]
  },
  {
   "cell_type": "code",
   "execution_count": 99,
   "id": "1454f573-4713-4b6e-a6e2-e2cb1bae2664",
   "metadata": {},
   "outputs": [
    {
     "data": {
      "text/plain": [
       "array([1, 2, 3, 4, 5])"
      ]
     },
     "execution_count": 99,
     "metadata": {},
     "output_type": "execute_result"
    }
   ],
   "source": [
    "copy"
   ]
  },
  {
   "cell_type": "code",
   "execution_count": 100,
   "id": "6d9c79b3-a8c5-42df-b221-79cdb562c896",
   "metadata": {},
   "outputs": [],
   "source": [
    "arr[0] = 99"
   ]
  },
  {
   "cell_type": "code",
   "execution_count": 101,
   "id": "93305f77-9668-41a7-95b3-f3b02142e8ce",
   "metadata": {},
   "outputs": [
    {
     "data": {
      "text/plain": [
       "array([1, 2, 3, 4, 5])"
      ]
     },
     "execution_count": 101,
     "metadata": {},
     "output_type": "execute_result"
    }
   ],
   "source": [
    "copy"
   ]
  },
  {
   "cell_type": "code",
   "execution_count": 102,
   "id": "ade1ffb6-225c-446f-a281-73ca17de7fe1",
   "metadata": {},
   "outputs": [
    {
     "data": {
      "text/plain": [
       "array([99,  2,  3,  4,  5])"
      ]
     },
     "execution_count": 102,
     "metadata": {},
     "output_type": "execute_result"
    }
   ],
   "source": [
    "arr"
   ]
  },
  {
   "cell_type": "code",
   "execution_count": 103,
   "id": "89bbaf8b-38c7-4327-b439-d1b2df3a5902",
   "metadata": {},
   "outputs": [],
   "source": [
    "copy[0] = 99"
   ]
  },
  {
   "cell_type": "code",
   "execution_count": 104,
   "id": "3d8980e4-faaa-4b64-ae40-dbe20973aa06",
   "metadata": {},
   "outputs": [
    {
     "data": {
      "text/plain": [
       "array([99,  2,  3,  4,  5])"
      ]
     },
     "execution_count": 104,
     "metadata": {},
     "output_type": "execute_result"
    }
   ],
   "source": [
    "arr"
   ]
  },
  {
   "cell_type": "code",
   "execution_count": 105,
   "id": "042f9ac0-44e2-4302-8a96-49656a4c024f",
   "metadata": {},
   "outputs": [],
   "source": [
    "arr = np.arange(1, 10)"
   ]
  },
  {
   "cell_type": "code",
   "execution_count": 106,
   "id": "990ceaf7-9551-41a5-a9ec-309b4a4c5afe",
   "metadata": {},
   "outputs": [
    {
     "data": {
      "text/plain": [
       "array([1, 2, 3, 4, 5, 6, 7, 8, 9])"
      ]
     },
     "execution_count": 106,
     "metadata": {},
     "output_type": "execute_result"
    }
   ],
   "source": [
    "arr"
   ]
  },
  {
   "cell_type": "code",
   "execution_count": 107,
   "id": "15fc4db5-07c9-44b0-839b-336d2a2d4a19",
   "metadata": {},
   "outputs": [
    {
     "name": "stdout",
     "output_type": "stream",
     "text": [
      "[4 5 6]\n"
     ]
    }
   ],
   "source": [
    "condition = (arr>3) & (arr<7)\n",
    "print(arr[condition])"
   ]
  },
  {
   "cell_type": "code",
   "execution_count": 109,
   "id": "92d43f1d-0a53-4886-a966-a53534c4994a",
   "metadata": {},
   "outputs": [
    {
     "name": "stdout",
     "output_type": "stream",
     "text": [
      "[2 4 6 8]\n"
     ]
    }
   ],
   "source": [
    "#using np.where\n",
    "indices = np.where(arr % 2 == 0) \n",
    "print(arr[indices])"
   ]
  },
  {
   "cell_type": "code",
   "execution_count": 110,
   "id": "73e55d85-938b-4fb5-9bd5-07316242b4ce",
   "metadata": {},
   "outputs": [
    {
     "data": {
      "text/plain": [
       "[1, 2, 3, 4, 5]"
      ]
     },
     "execution_count": 110,
     "metadata": {},
     "output_type": "execute_result"
    }
   ],
   "source": [
    "list1"
   ]
  },
  {
   "cell_type": "code",
   "execution_count": 113,
   "id": "d67ac4e1-21ea-4a33-9d1d-629b3779db1e",
   "metadata": {},
   "outputs": [],
   "source": [
    "newlist = []\n",
    "for i in list1:\n",
    "    if i%2 == 1:\n",
    "        newlist.append(i)\n"
   ]
  },
  {
   "cell_type": "code",
   "execution_count": 114,
   "id": "ab9d3e55-b7bb-495c-a086-6e5aa80fa33a",
   "metadata": {},
   "outputs": [
    {
     "data": {
      "text/plain": [
       "[1, 3, 5]"
      ]
     },
     "execution_count": 114,
     "metadata": {},
     "output_type": "execute_result"
    }
   ],
   "source": [
    "newlist"
   ]
  },
  {
   "cell_type": "code",
   "execution_count": 120,
   "id": "ce15f504-384f-4997-b3e1-8e23bc066ae3",
   "metadata": {},
   "outputs": [
    {
     "data": {
      "text/plain": [
       "(array([4, 5, 6], dtype=int64),)"
      ]
     },
     "execution_count": 120,
     "metadata": {},
     "output_type": "execute_result"
    }
   ],
   "source": [
    "np.where((arr>4) & ( arr < 8))"
   ]
  },
  {
   "cell_type": "markdown",
   "id": "b18eb5d7-e2d8-4f54-aea4-94f62827216f",
   "metadata": {},
   "source": [
    "### Masking"
   ]
  },
  {
   "cell_type": "code",
   "execution_count": 121,
   "id": "97af5031-2ac2-40f8-ad0c-4abfba6865bd",
   "metadata": {},
   "outputs": [
    {
     "data": {
      "text/plain": [
       "array([[1, 2, 3],\n",
       "       [4, 5, 6],\n",
       "       [7, 8, 9]])"
      ]
     },
     "execution_count": 121,
     "metadata": {},
     "output_type": "execute_result"
    }
   ],
   "source": [
    "arr2d"
   ]
  },
  {
   "cell_type": "code",
   "execution_count": 123,
   "id": "b696387e-d4a7-4c76-a157-1f27e625bc51",
   "metadata": {},
   "outputs": [
    {
     "name": "stdout",
     "output_type": "stream",
     "text": [
      "[[False False False]\n",
      " [False False  True]\n",
      " [ True  True  True]]\n",
      "****************************************\n",
      "[6 7 8 9]\n"
     ]
    }
   ],
   "source": [
    "mask = arr2d > 5\n",
    "print(mask)\n",
    "print(\"*\"*40)\n",
    "print(arr2d[mask])"
   ]
  },
  {
   "cell_type": "code",
   "execution_count": 124,
   "id": "4892ce9e-a8fc-4f04-afe1-73e636dfcf45",
   "metadata": {},
   "outputs": [
    {
     "data": {
      "text/plain": [
       "array([[-1, -1, -1],\n",
       "       [-1, -1,  6],\n",
       "       [ 7,  8,  9]])"
      ]
     },
     "execution_count": 124,
     "metadata": {},
     "output_type": "execute_result"
    }
   ],
   "source": [
    "np.where(arr2d>5, arr2d, -1)"
   ]
  },
  {
   "cell_type": "code",
   "execution_count": 125,
   "id": "9e20885a-4ed7-4a7b-9d10-d9e6ae3e8f71",
   "metadata": {},
   "outputs": [],
   "source": [
    "#Advanced 3D indexing Techniques\n",
    "arr3d = np.random.randint(0, 10, (3,3,3))"
   ]
  },
  {
   "cell_type": "code",
   "execution_count": 126,
   "id": "61c1d19c-bfac-4514-9e15-f0216e448187",
   "metadata": {},
   "outputs": [
    {
     "data": {
      "text/plain": [
       "array([[[1, 8, 9],\n",
       "        [2, 2, 1],\n",
       "        [3, 3, 3]],\n",
       "\n",
       "       [[8, 1, 7],\n",
       "        [0, 5, 3],\n",
       "        [3, 2, 7]],\n",
       "\n",
       "       [[0, 6, 5],\n",
       "        [4, 3, 3],\n",
       "        [9, 7, 6]]])"
      ]
     },
     "execution_count": 126,
     "metadata": {},
     "output_type": "execute_result"
    }
   ],
   "source": [
    "arr3d"
   ]
  },
  {
   "cell_type": "code",
   "execution_count": 130,
   "id": "a672f524-5c68-4f13-84bd-c3f001bdf1c0",
   "metadata": {},
   "outputs": [
    {
     "name": "stdout",
     "output_type": "stream",
     "text": [
      "[1 2 3]\n"
     ]
    }
   ],
   "source": [
    "#indexing iwth arrays\n",
    "rows = np.array([0,1,2])\n",
    "cols = np.array([0, 1,2])\n",
    "print(arr3d[0, rows, cols])"
   ]
  },
  {
   "cell_type": "code",
   "execution_count": 131,
   "id": "e393a458-d2b9-49b9-93eb-6e7405f9542f",
   "metadata": {},
   "outputs": [
    {
     "name": "stdout",
     "output_type": "stream",
     "text": [
      "[[[1 2 3]]\n",
      "\n",
      " [[8 5 7]]\n",
      "\n",
      " [[0 3 6]]]\n"
     ]
    }
   ],
   "source": [
    "#combining with broadcasting\n",
    "depths = np.array([0,1,2])[:, np.newaxis, np.newaxis]\n",
    "print(arr3d[depths, rows, cols])"
   ]
  },
  {
   "cell_type": "markdown",
   "id": "006dbbdf-0471-48b5-8bfe-ca805456be3e",
   "metadata": {},
   "source": [
    "# Important - urgent"
   ]
  },
  {
   "cell_type": "markdown",
   "id": "933adf07-c36d-4304-a3cf-0e9e36d0cfd2",
   "metadata": {},
   "source": [
    "# Modifying array elements"
   ]
  },
  {
   "cell_type": "code",
   "execution_count": 132,
   "id": "33c38d73-87da-4947-bb08-b49f633472e2",
   "metadata": {},
   "outputs": [],
   "source": [
    "import numpy as np"
   ]
  },
  {
   "cell_type": "code",
   "execution_count": 133,
   "id": "cb61b135-aef8-4bc7-84c9-36e33e7dc478",
   "metadata": {},
   "outputs": [],
   "source": [
    "arr = np.arange(1,6)"
   ]
  },
  {
   "cell_type": "code",
   "execution_count": 134,
   "id": "4e67526e-ddcd-46fa-ba37-81f47422ab97",
   "metadata": {},
   "outputs": [
    {
     "data": {
      "text/plain": [
       "array([1, 2, 3, 4, 5])"
      ]
     },
     "execution_count": 134,
     "metadata": {},
     "output_type": "execute_result"
    }
   ],
   "source": [
    "arr"
   ]
  },
  {
   "cell_type": "code",
   "execution_count": 135,
   "id": "eff3415b-d0ef-4c3a-b161-622d4f5db33d",
   "metadata": {},
   "outputs": [
    {
     "data": {
      "text/plain": [
       "1"
      ]
     },
     "execution_count": 135,
     "metadata": {},
     "output_type": "execute_result"
    }
   ],
   "source": [
    "arr[0]"
   ]
  },
  {
   "cell_type": "code",
   "execution_count": 136,
   "id": "d852673f-9b1a-44b1-b9aa-0bfe8f82d1b3",
   "metadata": {},
   "outputs": [],
   "source": [
    "arr[0] = 100"
   ]
  },
  {
   "cell_type": "code",
   "execution_count": 137,
   "id": "357ed806-6559-4bd7-8ebf-9267ac16ddb5",
   "metadata": {},
   "outputs": [
    {
     "data": {
      "text/plain": [
       "array([100,   2,   3,   4,   5])"
      ]
     },
     "execution_count": 137,
     "metadata": {},
     "output_type": "execute_result"
    }
   ],
   "source": [
    "arr"
   ]
  },
  {
   "cell_type": "code",
   "execution_count": 138,
   "id": "bfc3271f-25c6-41f3-8c46-f4df7de69cb9",
   "metadata": {},
   "outputs": [],
   "source": [
    "#bulk modifications\n",
    "arr[1:4] = [200, 300, 400]"
   ]
  },
  {
   "cell_type": "code",
   "execution_count": 139,
   "id": "68523618-1154-4e58-b6d8-2ea116011c5c",
   "metadata": {},
   "outputs": [
    {
     "data": {
      "text/plain": [
       "array([100, 200, 300, 400,   5])"
      ]
     },
     "execution_count": 139,
     "metadata": {},
     "output_type": "execute_result"
    }
   ],
   "source": [
    "arr"
   ]
  },
  {
   "cell_type": "code",
   "execution_count": 140,
   "id": "46043379-af34-46ac-9cb6-0503c1ceeba8",
   "metadata": {},
   "outputs": [
    {
     "data": {
      "text/plain": [
       "True"
      ]
     },
     "execution_count": 140,
     "metadata": {},
     "output_type": "execute_result"
    }
   ],
   "source": [
    "len(arr[1:4])  == len([200, 300, 400])"
   ]
  },
  {
   "cell_type": "code",
   "execution_count": 143,
   "id": "1b76d29b-107a-48d8-af06-2f36cd3457bb",
   "metadata": {},
   "outputs": [
    {
     "ename": "ValueError",
     "evalue": "could not broadcast input array from shape (4,) into shape (3,)",
     "output_type": "error",
     "traceback": [
      "\u001b[1;31m---------------------------------------------------------------------------\u001b[0m",
      "\u001b[1;31mValueError\u001b[0m                                Traceback (most recent call last)",
      "Cell \u001b[1;32mIn[143], line 1\u001b[0m\n\u001b[1;32m----> 1\u001b[0m \u001b[43marr\u001b[49m\u001b[43m[\u001b[49m\u001b[38;5;241;43m1\u001b[39;49m\u001b[43m:\u001b[49m\u001b[38;5;241;43m4\u001b[39;49m\u001b[43m]\u001b[49m \u001b[38;5;241m=\u001b[39m  [\u001b[38;5;241m200\u001b[39m, \u001b[38;5;241m300\u001b[39m, \u001b[38;5;241m400\u001b[39m, \u001b[38;5;241m500\u001b[39m]\n",
      "\u001b[1;31mValueError\u001b[0m: could not broadcast input array from shape (4,) into shape (3,)"
     ]
    }
   ],
   "source": [
    "arr[1:4] =  [200, 300, 400, 500]"
   ]
  },
  {
   "cell_type": "markdown",
   "id": "7d0f69ad-d382-4613-8676-4efd81a052b8",
   "metadata": {},
   "source": [
    "# Important\n"
   ]
  },
  {
   "cell_type": "markdown",
   "id": "f919547e-479c-4f40-b499-eacaedf573f4",
   "metadata": {},
   "source": [
    "### Boolean masking"
   ]
  },
  {
   "cell_type": "code",
   "execution_count": 146,
   "id": "79bb7e16-b73f-4269-98f3-1258946fd287",
   "metadata": {},
   "outputs": [
    {
     "data": {
      "text/plain": [
       "array([False,  True,  True,  True, False])"
      ]
     },
     "execution_count": 146,
     "metadata": {},
     "output_type": "execute_result"
    }
   ],
   "source": [
    "arr > 100"
   ]
  },
  {
   "cell_type": "code",
   "execution_count": 147,
   "id": "ee90b7f8-c875-4eac-808e-e6e3339e3503",
   "metadata": {},
   "outputs": [
    {
     "data": {
      "text/plain": [
       "array([100, 200, 300, 400,   5])"
      ]
     },
     "execution_count": 147,
     "metadata": {},
     "output_type": "execute_result"
    }
   ],
   "source": [
    "arr"
   ]
  },
  {
   "cell_type": "code",
   "execution_count": 148,
   "id": "8ff061b3-8e3f-4641-925c-8129873bab50",
   "metadata": {},
   "outputs": [
    {
     "ename": "ValueError",
     "evalue": "NumPy boolean array indexing assignment cannot assign 5 input values to the 3 output values where the mask is true",
     "output_type": "error",
     "traceback": [
      "\u001b[1;31m---------------------------------------------------------------------------\u001b[0m",
      "\u001b[1;31mValueError\u001b[0m                                Traceback (most recent call last)",
      "Cell \u001b[1;32mIn[148], line 1\u001b[0m\n\u001b[1;32m----> 1\u001b[0m \u001b[43marr\u001b[49m\u001b[43m[\u001b[49m\u001b[43marr\u001b[49m\u001b[38;5;241;43m>\u001b[39;49m\u001b[38;5;241;43m100\u001b[39;49m\u001b[43m]\u001b[49m \u001b[38;5;241m=\u001b[39m arr\u001b[38;5;241m/\u001b[39m\u001b[38;5;241m100\u001b[39m\n",
      "\u001b[1;31mValueError\u001b[0m: NumPy boolean array indexing assignment cannot assign 5 input values to the 3 output values where the mask is true"
     ]
    }
   ],
   "source": [
    "arr[arr>100] = arr/100"
   ]
  },
  {
   "cell_type": "code",
   "execution_count": 149,
   "id": "2348eb4d-9c15-41b5-87b1-6fec8e7a0ef7",
   "metadata": {},
   "outputs": [
    {
     "data": {
      "text/plain": [
       "array([1.  , 2.  , 3.  , 4.  , 0.05])"
      ]
     },
     "execution_count": 149,
     "metadata": {},
     "output_type": "execute_result"
    }
   ],
   "source": [
    "arr/100"
   ]
  },
  {
   "cell_type": "code",
   "execution_count": 150,
   "id": "e963b558-cbcb-44bb-990f-5ea299b2c961",
   "metadata": {},
   "outputs": [
    {
     "data": {
      "text/plain": [
       "array([200, 300, 400])"
      ]
     },
     "execution_count": 150,
     "metadata": {},
     "output_type": "execute_result"
    }
   ],
   "source": [
    "arr[arr>100]"
   ]
  },
  {
   "cell_type": "code",
   "execution_count": 154,
   "id": "5f7b4b03-0212-4825-a6fe-0856219da0c8",
   "metadata": {},
   "outputs": [],
   "source": [
    "arr[arr>99] = arr[arr>99]/100"
   ]
  },
  {
   "cell_type": "code",
   "execution_count": 155,
   "id": "d4e25b59-bfb6-4089-be4b-758b937479f8",
   "metadata": {},
   "outputs": [
    {
     "data": {
      "text/plain": [
       "array([1, 2, 3, 4, 5])"
      ]
     },
     "execution_count": 155,
     "metadata": {},
     "output_type": "execute_result"
    }
   ],
   "source": [
    "arr"
   ]
  },
  {
   "cell_type": "markdown",
   "id": "3cc819b7-285b-436d-8a43-48677562d7d8",
   "metadata": {},
   "source": [
    "### where to change mask modify"
   ]
  },
  {
   "cell_type": "code",
   "execution_count": 156,
   "id": "17b86e9f-20e6-431b-9b8b-081ad02808c1",
   "metadata": {},
   "outputs": [],
   "source": [
    "arr = np.array([100, 200, 300, 400,   5])"
   ]
  },
  {
   "cell_type": "code",
   "execution_count": 157,
   "id": "fa1baee8-1e5c-4343-bc5f-f2c791f5685a",
   "metadata": {},
   "outputs": [
    {
     "data": {
      "text/plain": [
       "array([100, 200, 300, 400,   5])"
      ]
     },
     "execution_count": 157,
     "metadata": {},
     "output_type": "execute_result"
    }
   ],
   "source": [
    "arr"
   ]
  },
  {
   "cell_type": "code",
   "execution_count": 158,
   "id": "894a8b57-1b7e-4d2f-8158-b6e17e5de32e",
   "metadata": {},
   "outputs": [],
   "source": [
    "arr = np.where(arr>99, arr/100, arr)"
   ]
  },
  {
   "cell_type": "code",
   "execution_count": 159,
   "id": "d70d574f-43d6-43b7-8c2b-b3351cad1082",
   "metadata": {},
   "outputs": [
    {
     "data": {
      "text/plain": [
       "array([1., 2., 3., 4., 5.])"
      ]
     },
     "execution_count": 159,
     "metadata": {},
     "output_type": "execute_result"
    }
   ],
   "source": [
    "arr"
   ]
  },
  {
   "cell_type": "code",
   "execution_count": 160,
   "id": "19319435-b4d9-4a92-9959-d5c222282cd5",
   "metadata": {},
   "outputs": [],
   "source": [
    "arr = np.where((arr>4) & (arr<7), arr + 55, arr)"
   ]
  },
  {
   "cell_type": "code",
   "execution_count": 161,
   "id": "ee193810-aaff-44ef-bc7b-bc5fb33f225e",
   "metadata": {},
   "outputs": [
    {
     "data": {
      "text/plain": [
       "array([ 1.,  2.,  3.,  4., 60.])"
      ]
     },
     "execution_count": 161,
     "metadata": {},
     "output_type": "execute_result"
    }
   ],
   "source": [
    "#[1, 2, 3, 4, 60]\n",
    "arr"
   ]
  },
  {
   "cell_type": "code",
   "execution_count": 162,
   "id": "6335f9eb-f405-4de5-a509-cb3264f7cca8",
   "metadata": {},
   "outputs": [],
   "source": [
    "arr[arr>4]=999"
   ]
  },
  {
   "cell_type": "code",
   "execution_count": 163,
   "id": "0a8763f8-47ed-4813-a992-3a537cb06b8d",
   "metadata": {},
   "outputs": [
    {
     "data": {
      "text/plain": [
       "array([  1.,   2.,   3.,   4., 999.])"
      ]
     },
     "execution_count": 163,
     "metadata": {},
     "output_type": "execute_result"
    }
   ],
   "source": [
    "arr"
   ]
  },
  {
   "cell_type": "code",
   "execution_count": 164,
   "id": "0ca03041-6932-4747-9d7c-bc12473ed339",
   "metadata": {},
   "outputs": [],
   "source": [
    "arr = np.array([1,2,3,4,5])"
   ]
  },
  {
   "cell_type": "code",
   "execution_count": 165,
   "id": "f76cb37f-1c1b-450f-ab7b-54d75c9b6a72",
   "metadata": {},
   "outputs": [],
   "source": [
    "new_arr = np.where(arr>3, 100, arr)"
   ]
  },
  {
   "cell_type": "code",
   "execution_count": 166,
   "id": "09eea75e-7a71-4547-aa47-a2a0aaf078ce",
   "metadata": {},
   "outputs": [
    {
     "data": {
      "text/plain": [
       "array([  1,   2,   3, 100, 100])"
      ]
     },
     "execution_count": 166,
     "metadata": {},
     "output_type": "execute_result"
    }
   ],
   "source": [
    "new_arr"
   ]
  },
  {
   "cell_type": "code",
   "execution_count": 167,
   "id": "24fa98a3-d1c1-46ea-b82b-bbda3cd21b5f",
   "metadata": {},
   "outputs": [],
   "source": [
    "#inplace operations\n",
    "arr *= 2"
   ]
  },
  {
   "cell_type": "code",
   "execution_count": 168,
   "id": "e3a3c32d-687f-4d5e-8708-f85667118586",
   "metadata": {},
   "outputs": [
    {
     "data": {
      "text/plain": [
       "array([ 2,  4,  6,  8, 10])"
      ]
     },
     "execution_count": 168,
     "metadata": {},
     "output_type": "execute_result"
    }
   ],
   "source": [
    "arr"
   ]
  },
  {
   "cell_type": "code",
   "execution_count": 169,
   "id": "18e733a5-87a9-42ac-ac93-dd3574c94bb6",
   "metadata": {},
   "outputs": [],
   "source": [
    "arr += 100"
   ]
  },
  {
   "cell_type": "code",
   "execution_count": 170,
   "id": "4a8b0114-a1ef-4cab-8812-683eb2b55ecf",
   "metadata": {},
   "outputs": [
    {
     "data": {
      "text/plain": [
       "array([102, 104, 106, 108, 110])"
      ]
     },
     "execution_count": 170,
     "metadata": {},
     "output_type": "execute_result"
    }
   ],
   "source": [
    "arr"
   ]
  },
  {
   "cell_type": "code",
   "execution_count": 171,
   "id": "492466c7-1725-456d-99fe-2fb4cf109ef1",
   "metadata": {},
   "outputs": [],
   "source": [
    "arr -= 100"
   ]
  },
  {
   "cell_type": "code",
   "execution_count": 172,
   "id": "a6a45109-d1e2-4132-af9a-5adbaf73c0e0",
   "metadata": {},
   "outputs": [
    {
     "data": {
      "text/plain": [
       "array([ 2,  4,  6,  8, 10])"
      ]
     },
     "execution_count": 172,
     "metadata": {},
     "output_type": "execute_result"
    }
   ],
   "source": [
    "arr"
   ]
  },
  {
   "cell_type": "code",
   "execution_count": 173,
   "id": "850cf73f-1a0a-4736-8762-8a01cedb723e",
   "metadata": {},
   "outputs": [
    {
     "ename": "UFuncTypeError",
     "evalue": "Cannot cast ufunc 'divide' output from dtype('float64') to dtype('int32') with casting rule 'same_kind'",
     "output_type": "error",
     "traceback": [
      "\u001b[1;31m---------------------------------------------------------------------------\u001b[0m",
      "\u001b[1;31mUFuncTypeError\u001b[0m                            Traceback (most recent call last)",
      "Cell \u001b[1;32mIn[173], line 1\u001b[0m\n\u001b[1;32m----> 1\u001b[0m \u001b[43marr\u001b[49m\u001b[43m \u001b[49m\u001b[38;5;241;43m/\u001b[39;49m\u001b[38;5;241;43m=\u001b[39;49m\u001b[43m \u001b[49m\u001b[38;5;241;43m2\u001b[39;49m\n",
      "\u001b[1;31mUFuncTypeError\u001b[0m: Cannot cast ufunc 'divide' output from dtype('float64') to dtype('int32') with casting rule 'same_kind'"
     ]
    }
   ],
   "source": [
    "arr /= 2"
   ]
  },
  {
   "cell_type": "code",
   "execution_count": 174,
   "id": "90123e6a-ddcc-499f-acb0-a25c65dad831",
   "metadata": {},
   "outputs": [],
   "source": [
    "arr = arr.astype('float')"
   ]
  },
  {
   "cell_type": "code",
   "execution_count": 175,
   "id": "395d24e4-44e8-46d5-8325-da1753e7ff96",
   "metadata": {},
   "outputs": [],
   "source": [
    "arr /= 2"
   ]
  },
  {
   "cell_type": "code",
   "execution_count": 176,
   "id": "7ec0a213-204e-4644-a46e-2d20a53203bd",
   "metadata": {},
   "outputs": [
    {
     "data": {
      "text/plain": [
       "array([1., 2., 3., 4., 5.])"
      ]
     },
     "execution_count": 176,
     "metadata": {},
     "output_type": "execute_result"
    }
   ],
   "source": [
    "arr"
   ]
  },
  {
   "cell_type": "code",
   "execution_count": 177,
   "id": "e32b9f8a-1a36-4429-ab92-7f8d33f70683",
   "metadata": {},
   "outputs": [],
   "source": [
    "arr = arr.astype('int')"
   ]
  },
  {
   "cell_type": "code",
   "execution_count": 178,
   "id": "4e91c257-73b8-49ce-a250-31e95838c812",
   "metadata": {},
   "outputs": [
    {
     "data": {
      "text/plain": [
       "array([1, 2, 3, 4, 5])"
      ]
     },
     "execution_count": 178,
     "metadata": {},
     "output_type": "execute_result"
    }
   ],
   "source": [
    "arr"
   ]
  },
  {
   "cell_type": "code",
   "execution_count": 179,
   "id": "68c136a4-07a0-4960-a03b-5d4dcaaa2615",
   "metadata": {},
   "outputs": [],
   "source": [
    "#CLIP\n",
    "arr *= 2"
   ]
  },
  {
   "cell_type": "code",
   "execution_count": 180,
   "id": "9d7b8b24-a96b-4022-b32e-7620a750b5a9",
   "metadata": {},
   "outputs": [
    {
     "data": {
      "text/plain": [
       "array([ 2,  4,  6,  8, 10])"
      ]
     },
     "execution_count": 180,
     "metadata": {},
     "output_type": "execute_result"
    }
   ],
   "source": [
    "arr"
   ]
  },
  {
   "cell_type": "code",
   "execution_count": 183,
   "id": "cd1bf26c-c12c-451b-bd87-2908091cb59e",
   "metadata": {},
   "outputs": [],
   "source": [
    "arr = np.clip(arr, 3, 8)"
   ]
  },
  {
   "cell_type": "code",
   "execution_count": 184,
   "id": "16468a25-633f-4d93-80ef-768a1f85f682",
   "metadata": {},
   "outputs": [
    {
     "data": {
      "text/plain": [
       "array([3, 4, 6, 8, 8])"
      ]
     },
     "execution_count": 184,
     "metadata": {},
     "output_type": "execute_result"
    }
   ],
   "source": [
    "arr"
   ]
  },
  {
   "cell_type": "code",
   "execution_count": 185,
   "id": "32386670-eff0-45db-b8bd-d9e7c724c319",
   "metadata": {},
   "outputs": [],
   "source": [
    "arr = np.arange(1,10)"
   ]
  },
  {
   "cell_type": "code",
   "execution_count": 186,
   "id": "6e446e5a-cf3d-4b90-8bf1-a79b1d0bff4e",
   "metadata": {},
   "outputs": [
    {
     "data": {
      "text/plain": [
       "array([1, 2, 3, 4, 5, 6, 7, 8, 9])"
      ]
     },
     "execution_count": 186,
     "metadata": {},
     "output_type": "execute_result"
    }
   ],
   "source": [
    "arr"
   ]
  },
  {
   "cell_type": "code",
   "execution_count": 187,
   "id": "421d7545-0fd7-4d53-b760-03b3bcd69477",
   "metadata": {},
   "outputs": [],
   "source": [
    "arr = np.clip(arr, 3, 8)"
   ]
  },
  {
   "cell_type": "code",
   "execution_count": 188,
   "id": "e9cac55e-8348-49d8-89d2-e1ea052076a8",
   "metadata": {},
   "outputs": [
    {
     "data": {
      "text/plain": [
       "array([3, 3, 3, 4, 5, 6, 7, 8, 8])"
      ]
     },
     "execution_count": 188,
     "metadata": {},
     "output_type": "execute_result"
    }
   ],
   "source": [
    "arr"
   ]
  },
  {
   "cell_type": "code",
   "execution_count": 189,
   "id": "d73da59d-063b-44a5-911a-12ea9e10004e",
   "metadata": {},
   "outputs": [],
   "source": [
    "#indices\n",
    "arr = np.arange(1,6)*10"
   ]
  },
  {
   "cell_type": "code",
   "execution_count": 190,
   "id": "45d39a04-44b2-493c-af50-5361af91a78f",
   "metadata": {},
   "outputs": [
    {
     "data": {
      "text/plain": [
       "array([10, 20, 30, 40, 50])"
      ]
     },
     "execution_count": 190,
     "metadata": {},
     "output_type": "execute_result"
    }
   ],
   "source": [
    "arr"
   ]
  },
  {
   "cell_type": "code",
   "execution_count": 192,
   "id": "c268fa18-b4f7-48b1-8acd-d9f4ba74c4dd",
   "metadata": {},
   "outputs": [],
   "source": [
    "indices = [0,2,4]"
   ]
  },
  {
   "cell_type": "code",
   "execution_count": 193,
   "id": "d23f89bb-9339-4bf5-8116-f23325e52b77",
   "metadata": {},
   "outputs": [],
   "source": [
    "arr[indices] = -1"
   ]
  },
  {
   "cell_type": "code",
   "execution_count": 194,
   "id": "a206376a-99d8-4952-9aa9-4220227f8bb8",
   "metadata": {},
   "outputs": [
    {
     "data": {
      "text/plain": [
       "array([-1, 20, -1, 40, -1])"
      ]
     },
     "execution_count": 194,
     "metadata": {},
     "output_type": "execute_result"
    }
   ],
   "source": [
    "#[-1, 20, -1, 40, -1]\n",
    "arr"
   ]
  },
  {
   "cell_type": "code",
   "execution_count": 195,
   "id": "53702596-89cf-43a1-8c8b-b5ab970d9020",
   "metadata": {},
   "outputs": [],
   "source": [
    "arr = np.arange(1,6)*10"
   ]
  },
  {
   "cell_type": "code",
   "execution_count": 196,
   "id": "0650ef50-7d72-4fd9-8b37-8bf4a3f990c3",
   "metadata": {},
   "outputs": [],
   "source": [
    "ind = [True, False, True, False, True]"
   ]
  },
  {
   "cell_type": "code",
   "execution_count": 197,
   "id": "968d3087-b2e9-4f41-bc99-e30f63f14132",
   "metadata": {},
   "outputs": [
    {
     "data": {
      "text/plain": [
       "[True, False, True, False, True]"
      ]
     },
     "execution_count": 197,
     "metadata": {},
     "output_type": "execute_result"
    }
   ],
   "source": [
    "ind"
   ]
  },
  {
   "cell_type": "code",
   "execution_count": 198,
   "id": "4964a1b4-0c1b-48f9-a762-62ba32426055",
   "metadata": {},
   "outputs": [
    {
     "data": {
      "text/plain": [
       "array([10, 30, 50])"
      ]
     },
     "execution_count": 198,
     "metadata": {},
     "output_type": "execute_result"
    }
   ],
   "source": [
    "arr[ind]"
   ]
  },
  {
   "cell_type": "code",
   "execution_count": 200,
   "id": "ef59f2f7-ba83-4955-9cc5-cf3641fbb8e2",
   "metadata": {},
   "outputs": [],
   "source": [
    "arr[ind] = [100, 300, 500]"
   ]
  },
  {
   "cell_type": "code",
   "execution_count": 201,
   "id": "f467e680-43c7-47bb-ba18-d45ff7cf9f67",
   "metadata": {},
   "outputs": [
    {
     "data": {
      "text/plain": [
       "array([100,  20, 300,  40, 500])"
      ]
     },
     "execution_count": 201,
     "metadata": {},
     "output_type": "execute_result"
    }
   ],
   "source": [
    "arr"
   ]
  },
  {
   "cell_type": "code",
   "execution_count": 202,
   "id": "2616cfb6-e4cc-4398-9124-5ab53d42dc6d",
   "metadata": {},
   "outputs": [],
   "source": [
    "arr[0], arr[2], arr[4] = 100, 300, 500"
   ]
  },
  {
   "cell_type": "code",
   "execution_count": 203,
   "id": "88462987-9540-424e-b222-ed8b9c9bb8c5",
   "metadata": {},
   "outputs": [
    {
     "data": {
      "text/plain": [
       "array([100,  20, 300,  40, 500])"
      ]
     },
     "execution_count": 203,
     "metadata": {},
     "output_type": "execute_result"
    }
   ],
   "source": [
    "arr"
   ]
  },
  {
   "cell_type": "code",
   "execution_count": 204,
   "id": "45bfcf5b-8da7-4abe-a5a6-9d7fefdc792d",
   "metadata": {},
   "outputs": [],
   "source": [
    "mask = arr > 99"
   ]
  },
  {
   "cell_type": "code",
   "execution_count": 205,
   "id": "ea66adda-2b4b-4c78-a46f-4b12de0fb3d2",
   "metadata": {},
   "outputs": [],
   "source": [
    "arr[mask] = arr[mask]/100"
   ]
  },
  {
   "cell_type": "code",
   "execution_count": 206,
   "id": "f705e575-c0f7-49db-abfe-2d02de613868",
   "metadata": {},
   "outputs": [
    {
     "data": {
      "text/plain": [
       "array([ 1, 20,  3, 40,  5])"
      ]
     },
     "execution_count": 206,
     "metadata": {},
     "output_type": "execute_result"
    }
   ],
   "source": [
    "arr"
   ]
  },
  {
   "cell_type": "code",
   "execution_count": 207,
   "id": "2d877a44-a9b6-49c2-a75e-958126adcf10",
   "metadata": {},
   "outputs": [],
   "source": [
    "mask10 = arr > 10"
   ]
  },
  {
   "cell_type": "code",
   "execution_count": 208,
   "id": "378b1181-37ce-4118-8432-cc5432cb48b0",
   "metadata": {},
   "outputs": [],
   "source": [
    "arr[mask10] = arr[mask10]/10"
   ]
  },
  {
   "cell_type": "code",
   "execution_count": 209,
   "id": "0a2453d8-3e7f-4884-8597-258420b2215e",
   "metadata": {},
   "outputs": [
    {
     "data": {
      "text/plain": [
       "array([1, 2, 3, 4, 5])"
      ]
     },
     "execution_count": 209,
     "metadata": {},
     "output_type": "execute_result"
    }
   ],
   "source": [
    "arr"
   ]
  },
  {
   "cell_type": "code",
   "execution_count": 210,
   "id": "40bddcc7-b8ea-4afe-abcf-8db4aba447ce",
   "metadata": {},
   "outputs": [],
   "source": [
    "arr[mask10] = arr[mask10]/10"
   ]
  },
  {
   "cell_type": "code",
   "execution_count": 211,
   "id": "6194851d-9bd1-416e-abe1-8e37db5f06ec",
   "metadata": {},
   "outputs": [
    {
     "data": {
      "text/plain": [
       "array([1, 0, 3, 0, 5])"
      ]
     },
     "execution_count": 211,
     "metadata": {},
     "output_type": "execute_result"
    }
   ],
   "source": [
    "arr"
   ]
  },
  {
   "cell_type": "code",
   "execution_count": 212,
   "id": "69b3dbe7-f67a-4d8e-a938-18364069233d",
   "metadata": {},
   "outputs": [
    {
     "data": {
      "text/plain": [
       "array([False,  True, False,  True, False])"
      ]
     },
     "execution_count": 212,
     "metadata": {},
     "output_type": "execute_result"
    }
   ],
   "source": [
    "mask10"
   ]
  },
  {
   "cell_type": "code",
   "execution_count": 215,
   "id": "59ebe2c3-8288-4203-a8d8-788009543363",
   "metadata": {},
   "outputs": [
    {
     "ename": "ValueError",
     "evalue": "NumPy boolean array indexing assignment cannot assign 3 input values to the 0 output values where the mask is true",
     "output_type": "error",
     "traceback": [
      "\u001b[1;31m---------------------------------------------------------------------------\u001b[0m",
      "\u001b[1;31mValueError\u001b[0m                                Traceback (most recent call last)",
      "Cell \u001b[1;32mIn[215], line 1\u001b[0m\n\u001b[1;32m----> 1\u001b[0m \u001b[43marr\u001b[49m\u001b[43m[\u001b[49m\u001b[43marr\u001b[49m\u001b[43m \u001b[49m\u001b[38;5;241;43m>\u001b[39;49m\u001b[43m \u001b[49m\u001b[38;5;241;43m10\u001b[39;49m\u001b[43m]\u001b[49m \u001b[38;5;241m=\u001b[39m arr[mask]\u001b[38;5;241m/\u001b[39m\u001b[38;5;241m2\u001b[39m\n",
      "\u001b[1;31mValueError\u001b[0m: NumPy boolean array indexing assignment cannot assign 3 input values to the 0 output values where the mask is true"
     ]
    }
   ],
   "source": [
    "arr[arr > 10] = arr[mask]/2"
   ]
  },
  {
   "cell_type": "code",
   "execution_count": 214,
   "id": "5bb4bbb6-62d0-4a80-816a-aab6b83da555",
   "metadata": {},
   "outputs": [
    {
     "data": {
      "text/plain": [
       "array([1, 0, 3, 0, 5])"
      ]
     },
     "execution_count": 214,
     "metadata": {},
     "output_type": "execute_result"
    }
   ],
   "source": [
    "arr"
   ]
  },
  {
   "cell_type": "code",
   "execution_count": 216,
   "id": "be9ae7b0-c5e9-463f-9ae8-975e01e5d7e8",
   "metadata": {},
   "outputs": [
    {
     "data": {
      "text/plain": [
       "array([0.5, 1.5, 2.5])"
      ]
     },
     "execution_count": 216,
     "metadata": {},
     "output_type": "execute_result"
    }
   ],
   "source": [
    "arr[mask]/2"
   ]
  },
  {
   "cell_type": "code",
   "execution_count": 217,
   "id": "86e64956-0652-4331-ba5d-4f4d5ae2b131",
   "metadata": {},
   "outputs": [
    {
     "data": {
      "text/plain": [
       "array([], dtype=int32)"
      ]
     },
     "execution_count": 217,
     "metadata": {},
     "output_type": "execute_result"
    }
   ],
   "source": [
    "arr[arr > 10]"
   ]
  },
  {
   "cell_type": "code",
   "execution_count": 218,
   "id": "a871ec18-c106-485a-8764-06b2eb204ac5",
   "metadata": {},
   "outputs": [
    {
     "ename": "ValueError",
     "evalue": "NumPy boolean array indexing assignment cannot assign 3 input values to the 0 output values where the mask is true",
     "output_type": "error",
     "traceback": [
      "\u001b[1;31m---------------------------------------------------------------------------\u001b[0m",
      "\u001b[1;31mValueError\u001b[0m                                Traceback (most recent call last)",
      "Cell \u001b[1;32mIn[218], line 1\u001b[0m\n\u001b[1;32m----> 1\u001b[0m \u001b[43marr\u001b[49m\u001b[43m[\u001b[49m\u001b[43marr\u001b[49m\u001b[43m \u001b[49m\u001b[38;5;241;43m>\u001b[39;49m\u001b[43m \u001b[49m\u001b[38;5;241;43m10\u001b[39;49m\u001b[43m]\u001b[49m \u001b[38;5;241m=\u001b[39m arr[mask]\u001b[38;5;241m/\u001b[39m\u001b[38;5;241m2\u001b[39m\n",
      "\u001b[1;31mValueError\u001b[0m: NumPy boolean array indexing assignment cannot assign 3 input values to the 0 output values where the mask is true"
     ]
    }
   ],
   "source": [
    "arr[arr > 10] = arr[mask]/2"
   ]
  },
  {
   "cell_type": "code",
   "execution_count": 223,
   "id": "71f50602-6b09-44e4-93d4-f0fb41313527",
   "metadata": {},
   "outputs": [
    {
     "name": "stdout",
     "output_type": "stream",
     "text": [
      "Nothing happened\n"
     ]
    }
   ],
   "source": [
    "if len(arr[arr > 10]) > 0:\n",
    "    arr[arr > 10] = arr[mask] + 2\n",
    "else:\n",
    "    print(\"Nothing happened\")"
   ]
  },
  {
   "cell_type": "code",
   "execution_count": 220,
   "id": "d10bd8e9-5fc6-40e2-8795-56c6a1233712",
   "metadata": {},
   "outputs": [
    {
     "data": {
      "text/plain": [
       "array([1, 0, 3, 0, 5])"
      ]
     },
     "execution_count": 220,
     "metadata": {},
     "output_type": "execute_result"
    }
   ],
   "source": [
    "arr"
   ]
  },
  {
   "cell_type": "code",
   "execution_count": 221,
   "id": "ff124f74-ff85-4d97-8be5-3e4d4cd3ead0",
   "metadata": {},
   "outputs": [
    {
     "data": {
      "text/plain": [
       "0"
      ]
     },
     "execution_count": 221,
     "metadata": {},
     "output_type": "execute_result"
    }
   ],
   "source": [
    "len(arr[arr > 10])"
   ]
  },
  {
   "cell_type": "code",
   "execution_count": 224,
   "id": "8e9866e7-6daa-49c5-9621-db7d2a3ac322",
   "metadata": {},
   "outputs": [
    {
     "ename": "ValueError",
     "evalue": "NumPy boolean array indexing assignment cannot assign 3 input values to the 0 output values where the mask is true",
     "output_type": "error",
     "traceback": [
      "\u001b[1;31m---------------------------------------------------------------------------\u001b[0m",
      "\u001b[1;31mValueError\u001b[0m                                Traceback (most recent call last)",
      "Cell \u001b[1;32mIn[224], line 1\u001b[0m\n\u001b[1;32m----> 1\u001b[0m \u001b[43marr\u001b[49m\u001b[43m[\u001b[49m\u001b[43marr\u001b[49m\u001b[43m \u001b[49m\u001b[38;5;241;43m>\u001b[39;49m\u001b[43m \u001b[49m\u001b[38;5;241;43m10\u001b[39;49m\u001b[43m]\u001b[49m \u001b[38;5;241m=\u001b[39m arr[mask] \u001b[38;5;241m+\u001b[39m \u001b[38;5;241m2\u001b[39m\n",
      "\u001b[1;31mValueError\u001b[0m: NumPy boolean array indexing assignment cannot assign 3 input values to the 0 output values where the mask is true"
     ]
    }
   ],
   "source": [
    "arr[arr > 10] = arr[mask] + 2\n",
    "    "
   ]
  },
  {
   "cell_type": "code",
   "execution_count": 226,
   "id": "47d8e41c-eeef-4352-92ec-618a7ab9d9bc",
   "metadata": {},
   "outputs": [
    {
     "name": "stdout",
     "output_type": "stream",
     "text": [
      "failure\n"
     ]
    }
   ],
   "source": [
    "try:\n",
    "    arr[arr > 10] = arr[mask] + 2\n",
    "except:\n",
    "    print(\"failure\")"
   ]
  },
  {
   "cell_type": "code",
   "execution_count": 230,
   "id": "772c9819-ca90-4e7f-a947-e50d392cd080",
   "metadata": {},
   "outputs": [
    {
     "name": "stdout",
     "output_type": "stream",
     "text": [
      "Error occurred: ValueError\n",
      "Message: NumPy boolean array indexing assignment cannot assign 3 input values to the 0 output values where the mask is true\n"
     ]
    }
   ],
   "source": [
    "try:\n",
    "    arr[arr > 10] = arr[mask] + 2\n",
    "except Exception as e:\n",
    "    print(f\"Error occurred: {type(e).__name__}\")\n",
    "    print(f\"Message: {str(e)}\")"
   ]
  },
  {
   "cell_type": "raw",
   "id": "3e977cc3-cfb6-4e84-a0c2-c08fe9e339f9",
   "metadata": {},
   "source": [
    "except IndexError as e:\n",
    "    print(\"Shape mismatch error - check your array dimensions\")\n",
    "except ValueError as e:\n",
    "    print(\"Value-related error - check your input values\")\n",
    "except TypeError as e:\n",
    "    print(\"Type-related error - check your data types\")\n",
    "except Exception as e:\n",
    "    print(f\"Unexpected error: {type(e).__name__}\")"
   ]
  },
  {
   "cell_type": "code",
   "execution_count": 231,
   "id": "4b545d77-ca3d-4a2a-9ffa-2fd08a5a8eec",
   "metadata": {},
   "outputs": [
    {
     "name": "stdout",
     "output_type": "stream",
     "text": [
      "Value-related error - check your input values\n"
     ]
    }
   ],
   "source": [
    "try:\n",
    "    arr[arr > 10] = arr[mask] + 2\n",
    "# except Exception as e:\n",
    "#     print(f\"Error occurred: {type(e).__name__}\")\n",
    "#     print(f\"Message: {str(e)}\")\n",
    "except IndexError as e:\n",
    "    print(\"Shape mismatch error - check your array dimensions\")\n",
    "except ValueError as e:\n",
    "    print(\"Value-related error - check your input values\")\n",
    "except TypeError as e:\n",
    "    print(\"Type-related error - check your data types\")\n",
    "except Exception as e:\n",
    "    print(f\"Unexpected error: {type(e).__name__}\")"
   ]
  },
  {
   "cell_type": "code",
   "execution_count": 232,
   "id": "c8eadefc-4736-4029-bb6a-231932be8ce9",
   "metadata": {},
   "outputs": [],
   "source": [
    "data = np.array([5,10,15, 20, 25])\n",
    "mask = np.array([True, False, True, False, True])\n"
   ]
  },
  {
   "cell_type": "code",
   "execution_count": 233,
   "id": "d921f089-d397-4889-a6c3-f798a4e313e2",
   "metadata": {},
   "outputs": [],
   "source": [
    "#safe assignment\n",
    "data[mask] = [50, 150, 250]"
   ]
  },
  {
   "cell_type": "code",
   "execution_count": 235,
   "id": "50e3acc2-26d2-44aa-9ade-9c9d2a973547",
   "metadata": {},
   "outputs": [],
   "source": [
    "#complex conditional modification\n",
    "data[(data > 10) & (data < 30)] = 999"
   ]
  },
  {
   "cell_type": "code",
   "execution_count": 236,
   "id": "b13f9120-a0f1-4ab9-9047-fa54fd697a67",
   "metadata": {},
   "outputs": [
    {
     "data": {
      "text/plain": [
       "array([ 50,  10, 150, 999, 250])"
      ]
     },
     "execution_count": 236,
     "metadata": {},
     "output_type": "execute_result"
    }
   ],
   "source": [
    "data"
   ]
  },
  {
   "cell_type": "code",
   "execution_count": null,
   "id": "e306250f-db79-486a-9811-8e629adba388",
   "metadata": {},
   "outputs": [],
   "source": []
  }
 ],
 "metadata": {
  "kernelspec": {
   "display_name": "Python 3 (ipykernel)",
   "language": "python",
   "name": "python3"
  },
  "language_info": {
   "codemirror_mode": {
    "name": "ipython",
    "version": 3
   },
   "file_extension": ".py",
   "mimetype": "text/x-python",
   "name": "python",
   "nbconvert_exporter": "python",
   "pygments_lexer": "ipython3",
   "version": "3.11.4"
  }
 },
 "nbformat": 4,
 "nbformat_minor": 5
}
